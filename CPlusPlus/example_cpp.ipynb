{
 "cells": [
  {
   "cell_type": "markdown",
   "metadata": {},
   "source": [
    "# Jupyter notebooks for C++"
   ]
  },
  {
   "cell_type": "markdown",
   "metadata": {},
   "source": [
    "Required includes to compile the C++ code."
   ]
  },
  {
   "cell_type": "code",
   "execution_count": 1,
   "metadata": {},
   "outputs": [],
   "source": [
    "#include <iostream>\n",
    "#include <valarray>"
   ]
  },
  {
   "cell_type": "markdown",
   "metadata": {},
   "source": [
    "## Simple example"
   ]
  },
  {
   "cell_type": "markdown",
   "metadata": {},
   "source": [
    "Function to compute whether a year is a leap year."
   ]
  },
  {
   "cell_type": "code",
   "execution_count": 2,
   "metadata": {},
   "outputs": [],
   "source": [
    "bool is_leap_year(int year) {\n",
    "    return (year % 400 == 0) || ((year % 100 != 0) && (year % 4 == 0));\n",
    "}"
   ]
  },
  {
   "cell_type": "code",
   "execution_count": 3,
   "metadata": {},
   "outputs": [
    {
     "name": "stdout",
     "output_type": "stream",
     "text": [
      "1900 is not a leap year\n",
      "1903 is not a leap year\n",
      "1908 is leap year\n",
      "2000 is leap year\n",
      "2012 is leap year\n"
     ]
    }
   ],
   "source": [
    "std::valarray<int> years = {1900, 1903, 1908, 2000, 2012};\n",
    "for (const auto& year: years)\n",
    "    if (is_leap_year(year))\n",
    "        std::cout << year << \" is leap year\" << std::endl;\n",
    "    else\n",
    "        std::cout << year << \" is not a leap year\" << std::endl;"
   ]
  }
 ],
 "metadata": {
  "kernelspec": {
   "display_name": "C++14",
   "language": "C++14",
   "name": "xeus-cling-cpp14"
  },
  "language_info": {
   "codemirror_mode": "text/x-c++src",
   "file_extension": ".cpp",
   "mimetype": "text/x-c++src",
   "name": "c++",
   "version": "14"
  }
 },
 "nbformat": 4,
 "nbformat_minor": 2
}
