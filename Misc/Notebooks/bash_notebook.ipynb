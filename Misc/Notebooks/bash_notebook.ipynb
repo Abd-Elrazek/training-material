{
 "cells": [
  {
   "cell_type": "markdown",
   "metadata": {},
   "source": [
    "# Bash notebooks"
   ]
  },
  {
   "cell_type": "markdown",
   "metadata": {},
   "source": [
    "Jupyter notebooks can also use a Bash kernel."
   ]
  },
  {
   "cell_type": "markdown",
   "metadata": {},
   "source": [
    "Compute the squares of integers from 1 to 10."
   ]
  },
  {
   "cell_type": "code",
   "execution_count": 14,
   "metadata": {},
   "outputs": [
    {
     "name": "stdout",
     "output_type": "stream",
     "text": [
      "1, 1\n",
      "2, 4\n",
      "3, 9\n",
      "4, 16\n",
      "5, 25\n",
      "6, 36\n",
      "7, 49\n",
      "8, 64\n",
      "9, 81\n",
      "10, 100\n"
     ]
    }
   ],
   "source": [
    "for i in $(seq 1 10)\n",
    "do\n",
    "    echo $i, $(( $i**2 ))\n",
    "done"
   ]
  },
  {
   "cell_type": "markdown",
   "metadata": {},
   "source": [
    "Get the file size of all Jupyter notebooks in the current working directory"
   ]
  },
  {
   "cell_type": "code",
   "execution_count": 17,
   "metadata": {},
   "outputs": [
    {
     "name": "stdout",
     "output_type": "stream",
     "text": [
      "1.6K\n",
      "4.0K\n",
      "22K\n",
      "6.3K\n",
      "33K\n",
      "16K\n",
      "72\n",
      "41K\n"
     ]
    }
   ],
   "source": [
    "ls -lh *.ipynb | cut -d ' ' -f 5- | sed 's/^ \\+//' | cut -d ' ' -f 1"
   ]
  },
  {
   "cell_type": "markdown",
   "metadata": {},
   "source": [
    "Check the above result."
   ]
  },
  {
   "cell_type": "code",
   "execution_count": 18,
   "metadata": {},
   "outputs": [
    {
     "name": "stdout",
     "output_type": "stream",
     "text": [
      "-rw-r--r-- 1 gjb gjb 1.6K Oct 23 15:00 bash_notebook.ipynb\n",
      "-rw-r--r-- 1 gjb gjb 4.0K Oct 23 11:04 bash_python.ipynb\n",
      "-rw-r--r-- 1 gjb gjb  22K Oct 23 14:52 r_notebook.ipynb\n",
      "-rw-r--r-- 1 gjb gjb 6.3K Oct 23 06:38 r_python_empty.ipynb\n",
      "-rw-r--r-- 1 gjb gjb  33K Oct 23 06:40 r_python.ipynb\n",
      "-rw-r--r-- 1 gjb gjb  16K Oct 23 12:15 slides.ipynb\n",
      "-rw-r--r-- 1 gjb gjb   72 Oct 23 14:37 Untitled.ipynb\n",
      "-rw-r--r-- 1 gjb gjb  41K Oct 23 14:11 widgets.ipynb\n"
     ]
    }
   ],
   "source": [
    "ls -lh *.ipynb"
   ]
  }
 ],
 "metadata": {
  "kernelspec": {
   "display_name": "Bash",
   "language": "bash",
   "name": "bash"
  },
  "language_info": {
   "codemirror_mode": "shell",
   "file_extension": ".sh",
   "mimetype": "text/x-sh",
   "name": "bash"
  }
 },
 "nbformat": 4,
 "nbformat_minor": 2
}
