{
 "cells": [
  {
   "cell_type": "markdown",
   "metadata": {},
   "source": [
    "# Interactive notebooks"
   ]
  },
  {
   "cell_type": "markdown",
   "metadata": {},
   "source": [
    "`ipywidgets` provides the Python bindings for interactive elements in Jupyter notebooks.  Bindings for other language to use with non-Python kernels are available as well."
   ]
  },
  {
   "cell_type": "code",
   "execution_count": null,
   "metadata": {
    "ExecuteTime": {
     "end_time": "2018-10-23T11:38:23.629404Z",
     "start_time": "2018-10-23T11:38:23.609580Z"
    }
   },
   "outputs": [],
   "source": [
    "from ipywidgets import interact, interact_manual\n",
    "import matplotlib.pyplot as plt\n",
    "%matplotlib inline\n",
    "import numpy as np\n",
    "import warnings"
   ]
  },
  {
   "cell_type": "markdown",
   "metadata": {},
   "source": [
    "## Fast compute"
   ]
  },
  {
   "cell_type": "markdown",
   "metadata": {},
   "source": [
    "### Example 1: sigmoid function"
   ]
  },
  {
   "cell_type": "markdown",
   "metadata": {},
   "source": [
    "Define a function that will plot $\\tanh(\\beta x)$ for $x \\in [-5, 5]$ and $\\beta > 0$ a parameter value."
   ]
  },
  {
   "cell_type": "code",
   "execution_count": null,
   "metadata": {
    "ExecuteTime": {
     "end_time": "2018-10-23T10:38:17.660165Z",
     "start_time": "2018-10-23T10:38:17.640682Z"
    },
    "scrolled": false
   },
   "outputs": [],
   "source": [
    "def plot_tanh(beta):\n",
    "    x = np.linspace(-5.0, 5.0, 101)\n",
    "    y = np.tanh(beta*x)\n",
    "    _ = plt.plot(x, y)"
   ]
  },
  {
   "cell_type": "markdown",
   "metadata": {},
   "source": [
    "Now this function can be run for various values of `beta`, e.g.,"
   ]
  },
  {
   "cell_type": "code",
   "execution_count": null,
   "metadata": {
    "ExecuteTime": {
     "end_time": "2018-10-23T10:40:53.005601Z",
     "start_time": "2018-10-23T10:40:52.715577Z"
    }
   },
   "outputs": [],
   "source": [
    "plot_tanh(0.6)"
   ]
  },
  {
   "cell_type": "code",
   "execution_count": null,
   "metadata": {
    "ExecuteTime": {
     "end_time": "2018-10-23T10:39:05.121433Z",
     "start_time": "2018-10-23T10:39:04.752884Z"
    }
   },
   "outputs": [],
   "source": [
    "plot_tanh(4.0)"
   ]
  },
  {
   "cell_type": "markdown",
   "metadata": {},
   "source": [
    "However, it would be much more interesting if the value of `beta` could be modified interactively, the plot modified on the fly.  A simple function decorated with accomplish this easily."
   ]
  },
  {
   "cell_type": "code",
   "execution_count": null,
   "metadata": {
    "ExecuteTime": {
     "end_time": "2018-10-23T10:41:52.837836Z",
     "start_time": "2018-10-23T10:41:52.417570Z"
    },
    "scrolled": false
   },
   "outputs": [],
   "source": [
    "@interact(beta=(0.2, 5.0, 0.2))\n",
    "def plot_tanh(beta):\n",
    "    x = np.linspace(-5.0, 5.0, 101)\n",
    "    y = np.tanh(beta*x)\n",
    "    _ = plt.plot(x, y)"
   ]
  },
  {
   "cell_type": "markdown",
   "metadata": {},
   "source": [
    "A plot can be parameterized by multiple values, either numerical or categorical."
   ]
  },
  {
   "cell_type": "markdown",
   "metadata": {},
   "source": [
    "### Example 2: viral load"
   ]
  },
  {
   "cell_type": "markdown",
   "metadata": {},
   "source": [
    "A model for the viral load is given by\n",
    "$$\n",
    "V(t) = A e^{-\\alpha t} + B e^{-\\beta t}\n",
    "$$\n",
    "This expression can be rewritten as\n",
    "$$\n",
    "V(t) = A e^{-\\alpha t} (1 + \\frac{B}{A} e^{-(\\beta - \\alpha)t}\n",
    "$$\n",
    "In order to study this function qualitatively, we can set $A = 1$ and $\\alpha = 1$.  We know that $-1 \\leq B \\leq 0$, $1 \\leq \\beta$, two independent quantities."
   ]
  },
  {
   "cell_type": "code",
   "execution_count": null,
   "metadata": {
    "ExecuteTime": {
     "end_time": "2018-12-11T14:13:20.749290Z",
     "start_time": "2018-12-11T14:13:19.900092Z"
    }
   },
   "outputs": [],
   "source": [
    "@interact(B=(-1.0, 0.0, 0.05), beta=(1.0, 8.0, 0.1))\n",
    "def viral_load_plot(B, beta):\n",
    "    t = np.linspace(0.0, 7.0, 101)\n",
    "    v = np.exp(-t)*(1.0 + B*np.exp(-(beta - 1.0)*t))\n",
    "    _ = plt.plot(t, v)\n",
    "    _ = plt.ylim(0.0, 1.0)\n",
    "    _ = plt.xlabel('$t$')\n",
    "    _ = plt.ylabel('$V(t)$')"
   ]
  },
  {
   "cell_type": "markdown",
   "metadata": {},
   "source": [
    "## Slow compute"
   ]
  },
  {
   "cell_type": "markdown",
   "metadata": {},
   "source": [
    "Define a function that computes the number of iterations of $z = z^2 + c$ such that $|z| < 2$ in the complex plane."
   ]
  },
  {
   "cell_type": "code",
   "execution_count": null,
   "metadata": {
    "ExecuteTime": {
     "end_time": "2018-10-23T11:39:45.503007Z",
     "start_time": "2018-10-23T11:39:45.474255Z"
    }
   },
   "outputs": [],
   "source": [
    "def compute_fractal(c_re, c_im):\n",
    "    c = complex(c_re, c_im)\n",
    "    max_iters = 255\n",
    "    nr_points = 300\n",
    "    max_val = 1.8\n",
    "    max_norm = 2.0\n",
    "    x = np.linspace(-max_val, max_val, nr_points)\n",
    "    y = np.linspace(-max_val, max_val, nr_points)\n",
    "    X, Y = np.meshgrid(x, y)\n",
    "    Z = X + Y*1j\n",
    "    iterations = np.zeros(Z.shape, dtype=np.uint8)\n",
    "    with warnings.catch_warnings():\n",
    "        warnings.simplefilter('ignore')\n",
    "        for _ in range(max_iters):\n",
    "            Z = Z**2 + c\n",
    "            iterations[np.abs(Z) < max_norm] += 1\n",
    "    return iterations\n",
    "        "
   ]
  },
  {
   "cell_type": "markdown",
   "metadata": {},
   "source": [
    "Define a function to plot the result of that function as a heatmap."
   ]
  },
  {
   "cell_type": "code",
   "execution_count": null,
   "metadata": {
    "ExecuteTime": {
     "end_time": "2018-10-23T11:55:04.045287Z",
     "start_time": "2018-10-23T11:55:04.024128Z"
    }
   },
   "outputs": [],
   "source": [
    "def plot_fractal(c_re, c_im):\n",
    "    ns = compute_fractal(c_re, c_im)\n",
    "    _, axes = plt.subplots()\n",
    "    axes.imshow(ns)\n",
    "    axes.get_xaxis().set_visible(False)\n",
    "    axes.get_yaxis().set_visible(False)"
   ]
  },
  {
   "cell_type": "markdown",
   "metadata": {},
   "source": [
    "You can call this function for various values of the real and imaginary part of $c$."
   ]
  },
  {
   "cell_type": "code",
   "execution_count": null,
   "metadata": {
    "ExecuteTime": {
     "end_time": "2018-10-23T11:55:05.912850Z",
     "start_time": "2018-10-23T11:55:05.063277Z"
    }
   },
   "outputs": [],
   "source": [
    "plot_fractal(-0.622772, 0.52193j)"
   ]
  },
  {
   "cell_type": "markdown",
   "metadata": {},
   "source": [
    "However, the function takes a while to evaluate."
   ]
  },
  {
   "cell_type": "code",
   "execution_count": null,
   "metadata": {
    "ExecuteTime": {
     "end_time": "2018-10-23T12:00:12.703182Z",
     "start_time": "2018-10-23T12:00:07.459946Z"
    }
   },
   "outputs": [],
   "source": [
    "%timeit compute_fractal(-0.6, 0.4)"
   ]
  },
  {
   "cell_type": "markdown",
   "metadata": {},
   "source": [
    "On average, it takes more than half a second to complete the computation, so making this interactive and just touching the sliders would result in jaggy output (at least).  Hence `interact_manual` is more appropriate, since the computation is only initiated when the `Run interact` button is pressed."
   ]
  },
  {
   "cell_type": "code",
   "execution_count": null,
   "metadata": {
    "ExecuteTime": {
     "end_time": "2018-10-23T11:55:09.675376Z",
     "start_time": "2018-10-23T11:55:09.536140Z"
    }
   },
   "outputs": [],
   "source": [
    "_ = interact_manual(plot_fractal, c_re=(-1.0, 1.0, 0.01), c_im=(-1.0, 1.0, 0.01))"
   ]
  }
 ],
 "metadata": {
  "kernelspec": {
   "display_name": "Python 3",
   "language": "python",
   "name": "python3"
  },
  "language_info": {
   "codemirror_mode": {
    "name": "ipython",
    "version": 3
   },
   "file_extension": ".py",
   "mimetype": "text/x-python",
   "name": "python",
   "nbconvert_exporter": "python",
   "pygments_lexer": "ipython3",
   "version": "3.6.6"
  }
 },
 "nbformat": 4,
 "nbformat_minor": 2
}
