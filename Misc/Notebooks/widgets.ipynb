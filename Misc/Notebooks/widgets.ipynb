{
 "cells": [
  {
   "cell_type": "markdown",
   "metadata": {},
   "source": [
    "# Interactive notebooks"
   ]
  },
  {
   "cell_type": "markdown",
   "metadata": {},
   "source": [
    "`ipywidgets` provides the Python bindings for interactive elements in Jupyter notebooks.  Bindings for other language to use with non-Python kernels are available as well."
   ]
  },
  {
   "cell_type": "code",
   "execution_count": 1,
   "metadata": {
    "ExecuteTime": {
     "end_time": "2019-03-18T17:11:01.603444Z",
     "start_time": "2019-03-18T17:11:00.701610Z"
    }
   },
   "outputs": [],
   "source": [
    "from ipywidgets import interact, interact_manual\n",
    "import matplotlib.pyplot as plt\n",
    "%matplotlib inline\n",
    "import numpy as np\n",
    "import warnings"
   ]
  },
  {
   "cell_type": "markdown",
   "metadata": {},
   "source": [
    "## Fast compute"
   ]
  },
  {
   "cell_type": "markdown",
   "metadata": {},
   "source": [
    "### Example 1: sigmoid function"
   ]
  },
  {
   "cell_type": "markdown",
   "metadata": {},
   "source": [
    "Define a function that will plot $\\tanh(\\beta x)$ for $x \\in [-5, 5]$ and $\\beta > 0$ a parameter value."
   ]
  },
  {
   "cell_type": "code",
   "execution_count": 2,
   "metadata": {
    "ExecuteTime": {
     "end_time": "2019-03-17T08:34:22.857464Z",
     "start_time": "2019-03-17T08:34:22.847807Z"
    },
    "scrolled": false
   },
   "outputs": [],
   "source": [
    "def plot_tanh(beta):\n",
    "    x = np.linspace(-5.0, 5.0, 101)\n",
    "    y = np.tanh(beta*x)\n",
    "    _ = plt.plot(x, y)"
   ]
  },
  {
   "cell_type": "markdown",
   "metadata": {},
   "source": [
    "Now this function can be run for various values of `beta`, e.g.,"
   ]
  },
  {
   "cell_type": "code",
   "execution_count": 3,
   "metadata": {
    "ExecuteTime": {
     "end_time": "2019-03-17T08:34:25.428692Z",
     "start_time": "2019-03-17T08:34:24.996555Z"
    }
   },
   "outputs": [
    {
     "data": {
      "image/png": "[encoded data removed]",
      "text/plain": [
       "<Figure size 432x288 with 1 Axes>"
      ]
     },
     "metadata": {
      "needs_background": "light"
     },
     "output_type": "display_data"
    }
   ],
   "source": [
    "plot_tanh(0.6)"
   ]
  },
  {
   "cell_type": "code",
   "execution_count": 4,
   "metadata": {
    "ExecuteTime": {
     "end_time": "2019-03-17T08:34:26.371555Z",
     "start_time": "2019-03-17T08:34:26.114152Z"
    }
   },
   "outputs": [
    {
     "data": {
      "image/png": "[encoded data removed]",
      "text/plain": [
       "<Figure size 432x288 with 1 Axes>"
      ]
     },
     "metadata": {
      "needs_background": "light"
     },
     "output_type": "display_data"
    }
   ],
   "source": [
    "plot_tanh(4.0)"
   ]
  },
  {
   "cell_type": "markdown",
   "metadata": {},
   "source": [
    "However, it would be much more interesting if the value of `beta` could be modified interactively, the plot modified on the fly.  A simple function decorated with accomplish this easily."
   ]
  },
  {
   "cell_type": "code",
   "execution_count": 5,
   "metadata": {
    "ExecuteTime": {
     "end_time": "2019-03-17T08:34:28.548786Z",
     "start_time": "2019-03-17T08:34:28.082617Z"
    },
    "scrolled": true
   },
   "outputs": [
    {
     "data": {
      "application/vnd.jupyter.widget-view+json": {
       "model_id": "3b1a7b07ad6340e2ad3bbbd2851b12eb",
       "version_major": 2,
       "version_minor": 0
      },
      "text/plain": [
       "interactive(children=(FloatSlider(value=2.4000000000000004, description='beta', max=5.0, min=0.2, step=0.2), O…"
      ]
     },
     "metadata": {},
     "output_type": "display_data"
    }
   ],
   "source": [
    "@interact(beta=(0.2, 5.0, 0.2))\n",
    "def plot_tanh(beta):\n",
    "    x = np.linspace(-5.0, 5.0, 101)\n",
    "    y = np.tanh(beta*x)\n",
    "    _ = plt.plot(x, y)"
   ]
  },
  {
   "cell_type": "markdown",
   "metadata": {},
   "source": [
    "A plot can be parameterized by multiple values, either numerical or categorical."
   ]
  },
  {
   "cell_type": "markdown",
   "metadata": {},
   "source": [
    "### Example 2: viral load"
   ]
  },
  {
   "cell_type": "markdown",
   "metadata": {},
   "source": [
    "A model for the viral load is given by\n",
    "$$\n",
    "V(t) = A e^{-\\alpha t} + B e^{-\\beta t}\n",
    "$$\n",
    "This expression can be rewritten as\n",
    "$$\n",
    "V(t) = A e^{-\\alpha t} (1 + \\frac{B}{A} e^{-(\\beta - \\alpha)t}\n",
    "$$\n",
    "In order to study this function qualitatively, we can set $A = 1$ and $\\alpha = 1$.  We know that $-1 \\leq B \\leq 0$, $1 \\leq \\beta$, two independent quantities."
   ]
  },
  {
   "cell_type": "code",
   "execution_count": 5,
   "metadata": {
    "ExecuteTime": {
     "end_time": "2018-12-11T14:13:20.749290Z",
     "start_time": "2018-12-11T14:13:19.900092Z"
    }
   },
   "outputs": [
    {
     "data": {
      "application/vnd.jupyter.widget-view+json": {
       "model_id": "b49e6438c3b642e290e2c2104ddf9436",
       "version_major": 2,
       "version_minor": 0
      },
      "text/plain": [
       "interactive(children=(FloatSlider(value=-0.5, description='B', max=0.0, min=-1.0, step=0.05), FloatSlider(valu…"
      ]
     },
     "metadata": {},
     "output_type": "display_data"
    }
   ],
   "source": [
    "@interact(B=(-1.0, 0.0, 0.05), beta=(1.0, 8.0, 0.1))\n",
    "def viral_load_plot(B, beta):\n",
    "    t = np.linspace(0.0, 7.0, 101)\n",
    "    v = np.exp(-t)*(1.0 + B*np.exp(-(beta - 1.0)*t))\n",
    "    _ = plt.plot(t, v)\n",
    "    _ = plt.ylim(0.0, 1.0)\n",
    "    _ = plt.xlabel('$t$')\n",
    "    _ = plt.ylabel('$V(t)$')"
   ]
  },
  {
   "cell_type": "markdown",
   "metadata": {},
   "source": [
    "## Slow compute"
   ]
  },
  {
   "cell_type": "markdown",
   "metadata": {},
   "source": [
    "### Julia set"
   ]
  },
  {
   "cell_type": "markdown",
   "metadata": {},
   "source": [
    "Define a function that computes the number of iterations of $z = z^2 + c$ such that $|z| < 2$ in the complex plane."
   ]
  },
  {
   "cell_type": "code",
   "execution_count": 2,
   "metadata": {
    "ExecuteTime": {
     "end_time": "2018-10-23T11:39:45.503007Z",
     "start_time": "2018-10-23T11:39:45.474255Z"
    }
   },
   "outputs": [],
   "source": [
    "def compute_fractal(c_re, c_im):\n",
    "    c = complex(c_re, c_im)\n",
    "    max_iters = 255\n",
    "    nr_points = 300\n",
    "    max_val = 1.8\n",
    "    max_norm = 2.0\n",
    "    x = np.linspace(-max_val, max_val, nr_points)\n",
    "    y = np.linspace(-max_val, max_val, nr_points)\n",
    "    X, Y = np.meshgrid(x, y)\n",
    "    Z = X + Y*1j\n",
    "    iterations = np.zeros(Z.shape, dtype=np.uint8)\n",
    "    with warnings.catch_warnings():\n",
    "        warnings.simplefilter('ignore')\n",
    "        for _ in range(max_iters):\n",
    "            Z = Z**2 + c\n",
    "            iterations[np.abs(Z) < max_norm] += 1\n",
    "    return iterations\n",
    "        "
   ]
  },
  {
   "cell_type": "markdown",
   "metadata": {},
   "source": [
    "Define a function to plot the result of that function as a heatmap."
   ]
  },
  {
   "cell_type": "code",
   "execution_count": 14,
   "metadata": {
    "ExecuteTime": {
     "end_time": "2018-10-23T11:55:04.045287Z",
     "start_time": "2018-10-23T11:55:04.024128Z"
    }
   },
   "outputs": [],
   "source": [
    "def plot_fractal(c_re=-0.62, c_im=0.52):\n",
    "    ns = compute_fractal(c_re, c_im).astype(np.float32)\n",
    "    _, axes = plt.subplots()\n",
    "    axes.imshow(ns/np.max(ns), cmap='RdBu')\n",
    "    axes.get_xaxis().set_visible(False)\n",
    "    axes.get_yaxis().set_visible(False)"
   ]
  },
  {
   "cell_type": "markdown",
   "metadata": {},
   "source": [
    "You can call this function for various values of the real and imaginary part of $c$."
   ]
  },
  {
   "cell_type": "code",
   "execution_count": 15,
   "metadata": {
    "ExecuteTime": {
     "end_time": "2018-10-23T11:55:05.912850Z",
     "start_time": "2018-10-23T11:55:05.063277Z"
    }
   },
   "outputs": [
    {
     "data": {
      "image/png": "[encoded data removed]",
      "text/plain": [
       "<Figure size 432x288 with 1 Axes>"
      ]
     },
     "metadata": {
      "needs_background": "light"
     },
     "output_type": "display_data"
    }
   ],
   "source": [
    "plot_fractal(-0.622772, 0.52193j)"
   ]
  },
  {
   "cell_type": "code",
   "execution_count": 16,
   "metadata": {
    "ExecuteTime": {
     "end_time": "2018-10-23T11:55:05.912850Z",
     "start_time": "2018-10-23T11:55:05.063277Z"
    }
   },
   "outputs": [
    {
     "data": {
      "image/png": "[encoded data removed]",
      "text/plain": [
       "<Figure size 432x288 with 1 Axes>"
      ]
     },
     "metadata": {
      "needs_background": "light"
     },
     "output_type": "display_data"
    }
   ],
   "source": [
    "plot_fractal(-0.78, 0.86j)"
   ]
  },
  {
   "cell_type": "markdown",
   "metadata": {},
   "source": [
    "However, the function takes a while to evaluate."
   ]
  },
  {
   "cell_type": "code",
   "execution_count": 9,
   "metadata": {
    "ExecuteTime": {
     "end_time": "2018-10-23T12:00:12.703182Z",
     "start_time": "2018-10-23T12:00:07.459946Z"
    }
   },
   "outputs": [
    {
     "name": "stdout",
     "output_type": "stream",
     "text": [
      "606 ms ± 94.8 ms per loop (mean ± std. dev. of 7 runs, 1 loop each)\n"
     ]
    }
   ],
   "source": [
    "%timeit compute_fractal(-0.6, 0.4)"
   ]
  },
  {
   "cell_type": "markdown",
   "metadata": {},
   "source": [
    "On average, it takes more than half a second to complete the computation, so making this interactive and just touching the sliders would result in jaggy output (at least).  Hence `interact_manual` is more appropriate, since the computation is only initiated when the `Run interact` button is pressed."
   ]
  },
  {
   "cell_type": "code",
   "execution_count": 17,
   "metadata": {
    "ExecuteTime": {
     "end_time": "2018-10-23T11:55:09.675376Z",
     "start_time": "2018-10-23T11:55:09.536140Z"
    }
   },
   "outputs": [
    {
     "data": {
      "application/vnd.jupyter.widget-view+json": {
       "model_id": "814c69d2cebc40cda509e2c1322bb9d9",
       "version_major": 2,
       "version_minor": 0
      },
      "text/plain": [
       "interactive(children=(FloatSlider(value=-0.62, description='c_re', max=1.0, min=-1.0, step=0.01), FloatSlider(…"
      ]
     },
     "metadata": {},
     "output_type": "display_data"
    }
   ],
   "source": [
    "_ = interact_manual(plot_fractal, c_re=(-1.0, 1.0, 0.01), c_im=(-1.0, 1.0, 0.01))"
   ]
  },
  {
   "cell_type": "markdown",
   "metadata": {},
   "source": [
    "## Linked plots"
   ]
  },
  {
   "cell_type": "markdown",
   "metadata": {},
   "source": [
    "Altair is an interesting visualization library that is mainly intended for information visualization, but can handle a number of scientific visualization tasks as well.  Here, two plots that are linked will be illustrated."
   ]
  },
  {
   "cell_type": "code",
   "execution_count": 9,
   "metadata": {
    "ExecuteTime": {
     "end_time": "2019-03-18T17:11:13.620377Z",
     "start_time": "2019-03-18T17:11:13.045412Z"
    }
   },
   "outputs": [],
   "source": [
    "import altair as alt\n",
    "alt.renderers.enable('jupyterlab')\n",
    "import pandas as pd\n",
    "from scipy.integrate import ode"
   ]
  },
  {
   "cell_type": "markdown",
   "metadata": {},
   "source": [
    "The set of ordinary differential equations describing an oscillator with length $l = g$ is given by\n",
    "\n",
    "$$\n",
    "\\begin{split}\n",
    "\\frac{d\\theta}{dt} & = & \\omega \\\\\n",
    "\\frac{d\\omega}{dt} & = & -\\theta - q\\omega + F_D \\sin(\\Omega_D t)\n",
    "\\end{split}\n",
    "$$\n",
    "\n",
    "These equations can be solved using `ode` in the `scipy.integrate` module.  We have to define a function that computes the right-hand side of the equations above."
   ]
  },
  {
   "cell_type": "code",
   "execution_count": 3,
   "metadata": {
    "ExecuteTime": {
     "end_time": "2019-03-18T17:11:22.764431Z",
     "start_time": "2019-03-18T17:11:22.750494Z"
    }
   },
   "outputs": [],
   "source": [
    "def func(t, y, q=0.0, F_D=0.0, Omega_D=0.0, linear=True):\n",
    "    theta, omega = y[0], y[1]\n",
    "    if linear:\n",
    "        return [\n",
    "            omega,\n",
    "            -theta - q*omega + F_D*np.sin(Omega_D*t)\n",
    "        ]\n",
    "    else:\n",
    "        return [\n",
    "            omega,\n",
    "            -np.sin(theta) - q*omega + F_D*np.sin(Omega_D*t)\n",
    "        ]"
   ]
  },
  {
   "cell_type": "markdown",
   "metadata": {},
   "source": [
    "We also need to provide the Jacobian of the right-hand sides."
   ]
  },
  {
   "cell_type": "code",
   "execution_count": 4,
   "metadata": {
    "ExecuteTime": {
     "end_time": "2019-03-18T17:11:24.095861Z",
     "start_time": "2019-03-18T17:11:24.084042Z"
    }
   },
   "outputs": [],
   "source": [
    "def jac(t, y, q=0.0, F_D=0.0, Omega_D=0.0, linear=True):\n",
    "    theta, omega = y[0], y[1]\n",
    "    if linear:\n",
    "        [[0.0, 1.0],\n",
    "         [-1.0, -q]]\n",
    "    else:\n",
    "        [[0.0, 1.0],\n",
    "         [-np.cos(theta), -q]]"
   ]
  },
  {
   "cell_type": "markdown",
   "metadata": {},
   "source": [
    "The function below will integrate the equations in the interval $0 \\le t \\le t_{\\rm max}$."
   ]
  },
  {
   "cell_type": "code",
   "execution_count": 5,
   "metadata": {
    "ExecuteTime": {
     "end_time": "2019-03-18T17:11:25.358059Z",
     "start_time": "2019-03-18T17:11:25.344027Z"
    }
   },
   "outputs": [],
   "source": [
    "def solve(t_max=20.0, q=0.0, F_D=0.0, Omega_D=0.0, linear=True, theta0=0.1):\n",
    "    t, theta, omega = 0.0, theta0, 0.0\n",
    "    ts, thetas, omegas = [t], [theta], [omega]\n",
    "    delta_t = 0.01\n",
    "    system = ode(func, jac).set_integrator('dopri5') \\\n",
    "                           .set_f_params(q, F_D, Omega_D, linear) \\\n",
    "                           .set_jac_params(q, F_D, Omega_D, linear) \\\n",
    "                           .set_initial_value((theta, omega), t)\n",
    "    while system.successful() and system.t <= t_max:\n",
    "        system.integrate(system.t + delta_t)\n",
    "        ts.append(system.t)\n",
    "        thetas.append(system.y[0])\n",
    "        omegas.append(system.y[1])\n",
    "    \n",
    "    return pd.DataFrame({'t': ts, 'theta': thetas, 'omega': omegas})"
   ]
  },
  {
   "cell_type": "markdown",
   "metadata": {},
   "source": [
    "The function below will solve and plot the solution to the differential equations."
   ]
  },
  {
   "cell_type": "code",
   "execution_count": 6,
   "metadata": {
    "ExecuteTime": {
     "end_time": "2019-03-18T17:13:11.927095Z",
     "start_time": "2019-03-18T17:13:11.899664Z"
    }
   },
   "outputs": [],
   "source": [
    "def solve_plot(t_max=20.0, q=0.0, F_D=0.0, Omega_D=0.0, linear=True, theta0=0.1):\n",
    "    data = solve(t_max, q, F_D, Omega_D, linear, theta0)\n",
    "    brush = alt.selection_interval()\n",
    "    chart = alt.Chart(data).mark_point().encode(\n",
    "        color=alt.condition(brush, alt.value(\"black\"), alt.value(\"lightgray\")),\n",
    "        opacity=alt.condition(brush, alt.value(1.0), alt.value(0.2)),\n",
    "        size=alt.value('1')\n",
    "    ).add_selection(\n",
    "        brush\n",
    "    )\n",
    "    return chart.encode(x='t:Q', y='theta:Q') | chart.encode(x='theta:Q', y='omega:Q')"
   ]
  },
  {
   "cell_type": "code",
   "execution_count": 10,
   "metadata": {
    "ExecuteTime": {
     "end_time": "2019-03-18T17:13:13.167053Z",
     "start_time": "2019-03-18T17:13:12.903315Z"
    },
    "scrolled": false
   },
   "outputs": [
    {
     "data": {
      "application/vnd.vegalite.v2+json": {
       "$schema": "https://vega.github.io/schema/vega-lite/v2.6.0.json",
       "config": {
        "view": {
         "height": 300,
         "width": 400
        }
       },
       "datasets": {
        "data-4e534412eda33068e47fb10825a50efe": [
         {
          "omega": 0,
          "t": 0,
          "theta": 0.1
         },
         {
          "omega": -0.0009999833334166663,
          "t": 0.01,
          "theta": 0.0999950000416665
         },
         {
          "omega": -0.0019998666693333074,
          "t": 0.02,
          "theta": 0.09998000066665773
         },
         {
          "omega": -0.0029995500202495643,
          "t": 0.03,
          "theta": 0.09995500337489867
         },
         {
          "omega": -0.003998933418663413,
          "t": 0.04,
          "theta": 0.09992001066609768
         },
         {
          "omega": -0.004997916927067828,
          "t": 0.05,
          "theta": 0.09987502603949648
         },
         {
          "omega": -0.005996400647944452,
          "t": 0.060000000000000005,
          "theta": 0.09982005399352024
         },
         {
          "omega": -0.0069942847337532655,
          "t": 0.07,
          "theta": 0.09975510002532775
         },
         {
          "omega": -0.007991469396917254,
          "t": 0.08,
          "theta": 0.0996801706302617
         },
         {
          "omega": -0.008987854919801084,
          "t": 0.09,
          "theta": 0.09959527330119916
         },
         {
          "omega": -0.00998334166468279,
          "t": 0.09999999999999999,
          "theta": 0.09950041652780228
         },
         {
          "omega": -0.010977830083717449,
          "t": 0.10999999999999999,
          "theta": 0.09939560979566936
         },
         {
          "omega": -0.011971220728891898,
          "t": 0.11999999999999998,
          "theta": 0.09928086358538628
         },
         {
          "omega": -0.01296341426196944,
          "t": 0.12999999999999998,
          "theta": 0.09915618937147842
         },
         {
          "omega": -0.013954311464423596,
          "t": 0.13999999999999999,
          "theta": 0.0990215996212633
         },
         {
          "omega": -0.014943813247359862,
          "t": 0.15,
          "theta": 0.09887710779360379
         },
         {
          "omega": -0.01593182066142453,
          "t": 0.16,
          "theta": 0.09872272833756222
         },
         {
          "omega": -0.016918234906699525,
          "t": 0.17,
          "theta": 0.09855847669095558
         },
         {
          "omega": -0.017902957342582335,
          "t": 0.18000000000000002,
          "theta": 0.09838436927881163
         },
         {
          "omega": -0.018885889497649966,
          "t": 0.19000000000000003,
          "theta": 0.09820042351172649
         },
         {
          "omega": -0.01986693307950602,
          "t": 0.20000000000000004,
          "theta": 0.0980066577841236
         },
         {
          "omega": -0.020845989984609844,
          "t": 0.21000000000000005,
          "theta": 0.09780309147241423
         },
         {
          "omega": -0.021822962308086807,
          "t": 0.22000000000000006,
          "theta": 0.09758974493305993
         },
         {
          "omega": -0.022797752353518705,
          "t": 0.23000000000000007,
          "theta": 0.09736663950053684
         },
         {
          "omega": -0.023770262642713313,
          "t": 0.24000000000000007,
          "theta": 0.09713379748520229
         },
         {
          "omega": -0.024740395925452133,
          "t": 0.25000000000000006,
          "theta": 0.09689124217106378
         },
         {
          "omega": -0.02570805518921534,
          "t": 0.26000000000000006,
          "theta": 0.09663899781345059
         },
         {
          "omega": -0.026673143668882928,
          "t": 0.2700000000000001,
          "theta": 0.0963770896365883
         },
         {
          "omega": -0.027635564856411176,
          "t": 0.2800000000000001,
          "theta": 0.0961055438310763
         },
         {
          "omega": -0.028595222510483343,
          "t": 0.2900000000000001,
          "theta": 0.0958243875512689
         },
         {
          "omega": -0.029552020666133733,
          "t": 0.3000000000000001,
          "theta": 0.09553364891255976
         },
         {
          "omega": -0.03050586364434411,
          "t": 0.3100000000000001,
          "theta": 0.09523335698857048
         },
         {
          "omega": -0.03145665606161152,
          "t": 0.3200000000000001,
          "theta": 0.09492354180824321
         },
         {
          "omega": -0.03240430283948656,
          "t": 0.3300000000000001,
          "theta": 0.0946042343528378
         },
         {
          "omega": -0.033348709214081146,
          "t": 0.34000000000000014,
          "theta": 0.0942754665528337
         },
         {
          "omega": -0.034289780745544826,
          "t": 0.35000000000000014,
          "theta": 0.09393727128473695
         },
         {
          "omega": -0.035227423327508674,
          "t": 0.36000000000000015,
          "theta": 0.09358968236779251
         },
         {
          "omega": -0.03616154319649586,
          "t": 0.37000000000000016,
          "theta": 0.09323273456060245
         },
         {
          "omega": -0.03709204694129791,
          "t": 0.38000000000000017,
          "theta": 0.09286646355765
         },
         {
          "omega": -0.03801884151231577,
          "t": 0.3900000000000002,
          "theta": 0.09249090598573026
         },
         {
          "omega": -0.038941834230864655,
          "t": 0.4000000000000002,
          "theta": 0.09210609940028744
         },
         {
          "omega": -0.03986093279844188,
          "t": 0.4100000000000002,
          "theta": 0.09171208228165942
         },
         {
          "omega": -0.04077604530595658,
          "t": 0.4200000000000002,
          "theta": 0.09130889403122971
         },
         {
          "omega": -0.04168708024292062,
          "t": 0.4300000000000002,
          "theta": 0.09089657496748738
         },
         {
          "omega": -0.042593946506599485,
          "t": 0.4400000000000002,
          "theta": 0.09047516632199519
         },
         {
          "omega": -0.043496553411122525,
          "t": 0.45000000000000023,
          "theta": 0.09004471023526651
         },
         {
          "omega": -0.044394810696551455,
          "t": 0.46000000000000024,
          "theta": 0.08960524975255132
         },
         {
          "omega": -0.045288628537906286,
          "t": 0.47000000000000025,
          "theta": 0.08915682881953167
         },
         {
          "omega": -0.04617791755414772,
          "t": 0.48000000000000026,
          "theta": 0.08869949227792717
         },
         {
          "omega": -0.04706258881711521,
          "t": 0.49000000000000027,
          "theta": 0.08823328586101088
         },
         {
          "omega": -0.04794255386041968,
          "t": 0.5000000000000002,
          "theta": 0.08775825618903599
         },
         {
          "omega": -0.048817724688290105,
          "t": 0.5100000000000002,
          "theta": 0.08727445076457382
         },
         {
          "omega": -0.049688013784373,
          "t": 0.5200000000000002,
          "theta": 0.08678191796776367
         },
         {
          "omega": -0.050553334120483996,
          "t": 0.5300000000000002,
          "theta": 0.08628070705147477
         },
         {
          "omega": -0.05141359916531058,
          "t": 0.5400000000000003,
          "theta": 0.08577086813638106
         },
         {
          "omega": -0.05226872289306516,
          "t": 0.5500000000000003,
          "theta": 0.08525245220594921
         },
         {
          "omega": -0.053118619792087554,
          "t": 0.5600000000000003,
          "theta": 0.08472551110134023
         },
         {
          "omega": -0.05396320487339611,
          "t": 0.5700000000000003,
          "theta": 0.08419009751622547
         },
         {
          "omega": -0.05480239367918652,
          "t": 0.5800000000000003,
          "theta": 0.08364626499151727
         },
         {
          "omega": -0.05563610229127751,
          "t": 0.5900000000000003,
          "theta": 0.0830940679100149
         },
         {
          "omega": -0.056464247339502636,
          "t": 0.6000000000000003,
          "theta": 0.08253356149096637
         },
         {
          "omega": -0.0572867460100472,
          "t": 0.6100000000000003,
          "theta": 0.08196480178454647
         },
         {
          "omega": -0.05810351605372955,
          "t": 0.6200000000000003,
          "theta": 0.0813878456662519
         },
         {
          "omega": -0.058914475794225964,
          "t": 0.6300000000000003,
          "theta": 0.08080275083121369
         },
         {
          "omega": -0.05971954413623819,
          "t": 0.6400000000000003,
          "theta": 0.08020957578842774
         },
         {
          "omega": -0.06051864057360291,
          "t": 0.6500000000000004,
          "theta": 0.07960837985490406
         },
         {
          "omega": -0.0613116851973423,
          "t": 0.6600000000000004,
          "theta": 0.07899922314973497
         },
         {
          "omega": -0.062098598703654855,
          "t": 0.6700000000000004,
          "theta": 0.07838216658808338
         },
         {
          "omega": -0.06287930240184571,
          "t": 0.6800000000000004,
          "theta": 0.07775727187509122
         },
         {
          "omega": -0.06365371822219562,
          "t": 0.6900000000000004,
          "theta": 0.07712460149970908
         },
         {
          "omega": -0.0644217687237679,
          "t": 0.7000000000000004,
          "theta": 0.07648421872844725
         },
         {
          "omega": -0.06518337710215243,
          "t": 0.7100000000000004,
          "theta": 0.07583618759904921
         },
         {
          "omega": -0.06593846719714604,
          "t": 0.7200000000000004,
          "theta": 0.07518057291408789
         },
         {
          "omega": -0.06668696350036847,
          "t": 0.7300000000000004,
          "theta": 0.07451744023448542
         },
         {
          "omega": -0.06742879116281315,
          "t": 0.7400000000000004,
          "theta": 0.07384685587295717
         },
         {
          "omega": -0.06816387600233204,
          "t": 0.7500000000000004,
          "theta": 0.07316888688738046
         },
         {
          "omega": -0.06889214451105372,
          "t": 0.7600000000000005,
          "theta": 0.07248360107408888
         },
         {
          "omega": -0.06961352386273423,
          "t": 0.7700000000000005,
          "theta": 0.07179106696109269
         },
         {
          "omega": -0.07032794192003954,
          "t": 0.7800000000000005,
          "theta": 0.07109135380122608
         },
         {
          "omega": -0.07103532724175926,
          "t": 0.7900000000000005,
          "theta": 0.07038453156522195
         },
         {
          "omega": -0.07173560908995072,
          "t": 0.8000000000000005,
          "theta": 0.06967067093471488
         },
         {
          "omega": -0.07242871743701265,
          "t": 0.8100000000000005,
          "theta": 0.06894984329517304
         },
         {
          "omega": -0.07311458297268796,
          "t": 0.8200000000000005,
          "theta": 0.06822212072875969
         },
         {
          "omega": -0.0737931371109946,
          "t": 0.8300000000000005,
          "theta": 0.06748757600712504
         },
         {
          "omega": -0.07446431199708423,
          "t": 0.8400000000000005,
          "theta": 0.06674628258412914
         },
         {
          "omega": -0.07512804051402752,
          "t": 0.8500000000000005,
          "theta": 0.06599831458849655
         },
         {
          "omega": -0.07578425628952591,
          "t": 0.8600000000000005,
          "theta": 0.0652437468164035
         },
         {
          "omega": -0.07643289370254869,
          "t": 0.8700000000000006,
          "theta": 0.06448265472399844
         },
         {
          "omega": -0.07707388788989507,
          "t": 0.8800000000000006,
          "theta": 0.06371511441985635
         },
         {
          "omega": -0.07770717475268049,
          "t": 0.8900000000000006,
          "theta": 0.06294120265736801
         },
         {
          "omega": -0.0783326909627464,
          "t": 0.9000000000000006,
          "theta": 0.06216099682706477
         },
         {
          "omega": -0.07895037396899307,
          "t": 0.9100000000000006,
          "theta": 0.061374574948879476
         },
         {
          "omega": -0.0795601620036346,
          "t": 0.9200000000000006,
          "theta": 0.06058201566434461
         },
         {
          "omega": -0.08016199408837567,
          "t": 0.9300000000000006,
          "theta": 0.05978339822872815
         },
         {
          "omega": -0.08075581004050934,
          "t": 0.9400000000000006,
          "theta": 0.05897880250310815
         },
         {
          "omega": -0.08134155047893525,
          "t": 0.9500000000000006,
          "theta": 0.05816830894638668
         },
         {
          "omega": -0.08191915683009766,
          "t": 0.9600000000000006,
          "theta": 0.057351998607244
         },
         {
          "omega": -0.0824885713338428,
          "t": 0.9700000000000006,
          "theta": 0.05652995311603377
         },
         {
          "omega": -0.0830497370491948,
          "t": 0.9800000000000006,
          "theta": 0.05570225467662007
         },
         {
          "omega": -0.08360259786004977,
          "t": 0.9900000000000007,
          "theta": 0.054868986058157106
         },
         {
          "omega": -0.08414709848078733,
          "t": 1.0000000000000007,
          "theta": 0.054030230586812326
         },
         {
          "omega": -0.08468318446179916,
          "t": 1.0100000000000007,
          "theta": 0.053186072137433905
         },
         {
          "omega": -0.08521080219493389,
          "t": 1.0200000000000007,
          "theta": 0.052336595125163324
         },
         {
          "omega": -0.08572989891885789,
          "t": 1.0300000000000007,
          "theta": 0.05148188449699391
         },
         {
          "omega": -0.08624042272433136,
          "t": 1.0400000000000007,
          "theta": 0.050622025723276225
         },
         {
          "omega": -0.08674232255939916,
          "t": 1.0500000000000007,
          "theta": 0.04975710478917109
         },
         {
          "omega": -0.08723554823449606,
          "t": 1.0600000000000007,
          "theta": 0.04888720818605116
         },
         {
          "omega": -0.08772005042746556,
          "t": 1.0700000000000007,
          "theta": 0.04801242290285183
         },
         {
          "omega": -0.0881957806884921,
          "t": 1.0800000000000007,
          "theta": 0.047132836417372426
         },
         {
          "omega": -0.08866269144494604,
          "t": 1.0900000000000007,
          "theta": 0.04624853668752853
         },
         {
          "omega": -0.08912073600614082,
          "t": 1.1000000000000008,
          "theta": 0.04535961214255619
         },
         {
          "omega": -0.089569868568002,
          "t": 1.1100000000000008,
          "theta": 0.044466151674169146
         },
         {
          "omega": -0.0900100442176477,
          "t": 1.1200000000000008,
          "theta": 0.04356824462766969
         },
         {
          "omega": -0.09044121893787975,
          "t": 1.1300000000000008,
          "theta": 0.04266598079301422
         },
         {
          "omega": -0.09086334961158544,
          "t": 1.1400000000000008,
          "theta": 0.04175945039583431
         },
         {
          "omega": -0.09127639402604919,
          "t": 1.1500000000000008,
          "theta": 0.04084874408841425
         },
         {
          "omega": -0.09168031087717374,
          "t": 1.1600000000000008,
          "theta": 0.03993395294062585
         },
         {
          "omega": -0.09207505977361057,
          "t": 1.1700000000000008,
          "theta": 0.039015168430821576
         },
         {
          "omega": -0.092460601240799,
          "t": 1.1800000000000008,
          "theta": 0.03809248243668675
         },
         {
          "omega": -0.09283689672491359,
          "t": 1.1900000000000008,
          "theta": 0.03716598722605189
         },
         {
          "omega": -0.09320390859671951,
          "t": 1.2000000000000008,
          "theta": 0.03623577544766597
         },
         {
          "omega": -0.09356160015533543,
          "t": 1.2100000000000009,
          "theta": 0.03530194012193167
         },
         {
          "omega": -0.09390993563190356,
          "t": 1.2200000000000009,
          "theta": 0.03436457463160336
         },
         {
          "omega": -0.09424888019316652,
          "t": 1.2300000000000009,
          "theta": 0.033423772712448944
         },
         {
          "omega": -0.09457839994495063,
          "t": 1.2400000000000009,
          "theta": 0.03247962844387633
         },
         {
          "omega": -0.0948984619355553,
          "t": 1.2500000000000009,
          "theta": 0.03153223623952559
         },
         {
          "omega": -0.09520903415904822,
          "t": 1.260000000000001,
          "theta": 0.03058169083782768
         },
         {
          "omega": -0.09551008555846582,
          "t": 1.270000000000001,
          "theta": 0.029628087292530646
         },
         {
          "omega": -0.09580158602891906,
          "t": 1.280000000000001,
          "theta": 0.02867152096319435
         },
         {
          "omega": -0.09608350642060379,
          "t": 1.290000000000001,
          "theta": 0.027712087505654587
         },
         {
          "omega": -0.09635581854171578,
          "t": 1.300000000000001,
          "theta": 0.02674988286245759
         },
         {
          "omega": -0.09661849516126984,
          "t": 1.310000000000001,
          "theta": 0.025785003253265843
         },
         {
          "omega": -0.09687151001182293,
          "t": 1.320000000000001,
          "theta": 0.0248175451652362
         },
         {
          "omega": -0.09711483779210082,
          "t": 1.330000000000001,
          "theta": 0.023847605343371252
         },
         {
          "omega": -0.09734845416952827,
          "t": 1.340000000000001,
          "theta": 0.022875280780844907
         },
         {
          "omega": -0.0975723357826622,
          "t": 1.350000000000001,
          "theta": 0.02190066870930315
         },
         {
          "omega": -0.09778646024352787,
          "t": 1.360000000000001,
          "theta": 0.020923866589140958
         },
         {
          "omega": -0.09799080613985764,
          "t": 1.370000000000001,
          "theta": 0.01994497209975635
         },
         {
          "omega": -0.09818535303723215,
          "t": 1.380000000000001,
          "theta": 0.01896408312978252
         },
         {
          "omega": -0.09837008148112379,
          "t": 1.390000000000001,
          "theta": 0.017981297767299065
         },
         {
          "omega": -0.09854497299884211,
          "t": 1.400000000000001,
          "theta": 0.016996714290023245
         },
         {
          "omega": -0.0987100101013811,
          "t": 1.410000000000001,
          "theta": 0.016010431155482303
         },
         {
          "omega": -0.09886517628516801,
          "t": 1.420000000000001,
          "theta": 0.015022546991167795
         },
         {
          "omega": -0.09901045603371378,
          "t": 1.430000000000001,
          "theta": 0.014033160584672919
         },
         {
          "omega": -0.09914583481916461,
          "t": 1.440000000000001,
          "theta": 0.013042370873813837
         },
         {
          "omega": -0.09927129910375478,
          "t": 1.450000000000001,
          "theta": 0.012050276936735979
         },
         {
          "omega": -0.09938683634116037,
          "t": 1.460000000000001,
          "theta": 0.011056977982006314
         },
         {
          "omega": -0.09949243497775394,
          "t": 1.470000000000001,
          "theta": 0.010062573338692565
         },
         {
          "omega": -0.09958808445375981,
          "t": 1.480000000000001,
          "theta": 0.009067162446430398
         },
         {
          "omega": -0.09967377520431012,
          "t": 1.490000000000001,
          "theta": 0.008070844845479533
         },
         {
          "omega": -0.09974949866040118,
          "t": 1.500000000000001,
          "theta": 0.0070737201667698014
         },
         {
          "omega": -0.09981524724975052,
          "t": 1.5100000000000011,
          "theta": 0.006075888121938141
         },
         {
          "omega": -0.09987101439755398,
          "t": 1.5200000000000011,
          "theta": 0.00507744849335751
         },
         {
          "omega": -0.09991679452714325,
          "t": 1.5300000000000011,
          "theta": 0.004078501124158737
         },
         {
          "omega": -0.09995258306054353,
          "t": 1.5400000000000011,
          "theta": 0.0030791459082462882
         },
         {
          "omega": -0.09997837641893129,
          "t": 1.5500000000000012,
          "theta": 0.002079482780308962
         },
         {
          "omega": -0.09999417202299218,
          "t": 1.5600000000000012,
          "theta": 0.001079611705826502
         },
         {
          "omega": -0.09999996829317899,
          "t": 1.5700000000000012,
          "theta": 7.96326710731331e-05
         },
         {
          "omega": -0.0999957646498695,
          "t": 1.5800000000000012,
          "theta": -0.0009203543268809823
         },
         {
          "omega": -0.09998156151342456,
          "t": 1.5900000000000012,
          "theta": -0.0019202492901693685
         },
         {
          "omega": -0.09995736030414597,
          "t": 1.6000000000000012,
          "theta": -0.0029199522301289397
         },
         {
          "omega": -0.09992316344213448,
          "t": 1.6100000000000012,
          "theta": -0.003919363177298783
         },
         {
          "omega": -0.0998789743470478,
          "t": 1.6200000000000012,
          "theta": -0.00491838219141702
         },
         {
          "omega": -0.09982479743775861,
          "t": 1.6300000000000012,
          "theta": -0.005916909371414754
         },
         {
          "omega": -0.09976063813191272,
          "t": 1.6400000000000012,
          "theta": -0.006914844865406087
         },
         {
          "omega": -0.0996865028453872,
          "t": 1.6500000000000012,
          "theta": -0.00791208888067323
         },
         {
          "omega": -0.09960239899164897,
          "t": 1.6600000000000013,
          "theta": -0.00890854169364569
         },
         {
          "omega": -0.09950833498101329,
          "t": 1.6700000000000013,
          "theta": -0.009904103659872546
         },
         {
          "omega": -0.09940432021980285,
          "t": 1.6800000000000013,
          "theta": -0.010898675223986807
         },
         {
          "omega": -0.09929036510940707,
          "t": 1.6900000000000013,
          "theta": -0.011892156929660867
         },
         {
          "omega": -0.09916648104524206,
          "t": 1.7000000000000013,
          "theta": -0.012884449429552058
         },
         {
          "omega": -0.09903268041561099,
          "t": 1.7100000000000013,
          "theta": -0.013875453495237298
         },
         {
          "omega": -0.0988889766004653,
          "t": 1.7200000000000013,
          "theta": -0.014865070027135854
         },
         {
          "omega": -0.09873538397006679,
          "t": 1.7300000000000013,
          "theta": -0.015853200064419214
         },
         {
          "omega": -0.09857191788355046,
          "t": 1.7400000000000013,
          "theta": -0.01683974479490709
         },
         {
          "omega": -0.09839859468738878,
          "t": 1.7500000000000013,
          "theta": -0.017824605564948543
         },
         {
          "omega": -0.0982154317137569,
          "t": 1.7600000000000013,
          "theta": -0.018807683889287292
         },
         {
          "omega": -0.0980224472787996,
          "t": 1.7700000000000014,
          "theta": -0.019788881460910127
         },
         {
          "omega": -0.09781966068079949,
          "t": 1.7800000000000014,
          "theta": -0.020768100160877552
         },
         {
          "omega": -0.09760709219824742,
          "t": 1.7900000000000014,
          "theta": -0.021745242068135582
         },
         {
          "omega": -0.0973847630878145,
          "t": 1.8000000000000014,
          "theta": -0.02272020946930777
         },
         {
          "omega": -0.0971526955822265,
          "t": 1.8100000000000014,
          "theta": -0.023692904868466473
         },
         {
          "omega": -0.09691091288804059,
          "t": 1.8200000000000014,
          "theta": -0.02466323099688235
         },
         {
          "omega": -0.09665943918332469,
          "t": 1.8300000000000014,
          "theta": -0.02563109082275116
         },
         {
          "omega": -0.09639829961523973,
          "t": 1.8400000000000014,
          "theta": -0.02659638756089687
         },
         {
          "omega": -0.09612752029752489,
          "t": 1.8500000000000014,
          "theta": -0.02755902468245007
         },
         {
          "omega": -0.0958471283078863,
          "t": 1.8600000000000014,
          "theta": -0.028518905924500803
         },
         {
          "omega": -0.09555715168528926,
          "t": 1.8700000000000014,
          "theta": -0.02947593529972476
         },
         {
          "omega": -0.0952576194271544,
          "t": 1.8800000000000014,
          "theta": -0.030430017105981942
         },
         {
          "omega": -0.09494856148645789,
          "t": 1.8900000000000015,
          "theta": -0.03138105593588679
         },
         {
          "omega": -0.09463000876873628,
          "t": 1.9000000000000015,
          "theta": -0.03232895668634884
         },
         {
          "omega": -0.09430199312899588,
          "t": 1.9100000000000015,
          "theta": -0.03327362456808296
         },
         {
          "omega": -0.09396454736852732,
          "t": 1.9200000000000015,
          "theta": -0.034214965115088196
         },
         {
          "omega": -0.09361770523162542,
          "t": 1.9300000000000015,
          "theta": -0.035152884194094305
         },
         {
          "omega": -0.09326150140221486,
          "t": 1.9400000000000015,
          "theta": -0.036087288013974976
         },
         {
          "omega": -0.09289597150038173,
          "t": 1.9500000000000015,
          "theta": -0.03701808313512689
         },
         {
          "omega": -0.09252115207881162,
          "t": 1.9600000000000015,
          "theta": -0.03794517647881359
         },
         {
          "omega": -0.09213708061913432,
          "t": 1.9700000000000015,
          "theta": -0.03886847533647328
         },
         {
          "omega": -0.09174379552817576,
          "t": 1.9800000000000015,
          "theta": -0.03978788737898961
         },
         {
          "omega": -0.09134133613411728,
          "t": 1.9900000000000015,
          "theta": -0.040703320665924504
         },
         {
          "omega": -0.09092974268256293,
          "t": 2.0000000000000013,
          "theta": -0.041614683654712104
         },
         {
          "omega": -0.09050905633251487,
          "t": 2.010000000000001,
          "theta": -0.04252188520981302
         },
         {
          "omega": -0.0900793191522575,
          "t": 2.020000000000001,
          "theta": -0.043424834611827744
         },
         {
          "omega": -0.08964057411515076,
          "t": 2.0300000000000007,
          "theta": -0.044323441566568526
         },
         {
          "omega": -0.08919286509533275,
          "t": 2.0400000000000005,
          "theta": -0.04521761621408873
         },
         {
          "omega": -0.08873623686333235,
          "t": 2.0500000000000003,
          "theta": -0.046107269137668744
         },
         {
          "omega": -0.08827073508159222,
          "t": 2.06,
          "theta": -0.046992311372757584
         },
         {
          "omega": -0.08779640629990264,
          "t": 2.07,
          "theta": -0.04787265441586928
         },
         {
          "omega": -0.0873132979507465,
          "t": 2.0799999999999996,
          "theta": -0.048748210233433134
         },
         {
          "omega": -0.08682145834455611,
          "t": 2.0899999999999994,
          "theta": -0.049618891270597015
         },
         {
          "omega": -0.08632093666488225,
          "t": 2.099999999999999,
          "theta": -0.05048461045998278
         },
         {
          "omega": -0.08581178296347577,
          "t": 2.109999999999999,
          "theta": -0.05134528123039291
         },
         {
          "omega": -0.08529404815528253,
          "t": 2.1199999999999988,
          "theta": -0.052200817515467596
         },
         {
          "omega": -0.0847677840133519,
          "t": 2.1299999999999986,
          "theta": -0.05305113376229127
         },
         {
          "omega": -0.08423304316365952,
          "t": 2.1399999999999983,
          "theta": -0.05389614493994785
         },
         {
          "omega": -0.08368987907984475,
          "t": 2.149999999999998,
          "theta": -0.054735766548023736
         },
         {
          "omega": -0.08313834607786331,
          "t": 2.159999999999998,
          "theta": -0.0555699146250578
         },
         {
          "omega": -0.08257849931055583,
          "t": 2.1699999999999977,
          "theta": -0.05639850575693747
         },
         {
          "omega": -0.08201039476213247,
          "t": 2.1799999999999975,
          "theta": -0.05722145708524005
         },
         {
          "omega": -0.08143408924257467,
          "t": 2.1899999999999973,
          "theta": -0.058038686315518485
         },
         {
          "omega": -0.08084964038195412,
          "t": 2.199999999999997,
          "theta": -0.058850111725530785
         },
         {
          "omega": -0.08025710662466985,
          "t": 2.209999999999997,
          "theta": -0.05965565217341213
         },
         {
          "omega": -0.07965654722360382,
          "t": 2.2199999999999966,
          "theta": -0.060455227105789
         },
         {
          "omega": -0.07904802223419567,
          "t": 2.2299999999999964,
          "theta": -0.06124875656583449
         },
         {
          "omega": -0.07843159250843723,
          "t": 2.239999999999996,
          "theta": -0.06203616120126385
         },
         {
          "omega": -0.07780731968878739,
          "t": 2.249999999999996,
          "theta": -0.06281736227226972
         },
         {
          "omega": -0.07717526620200789,
          "t": 2.259999999999996,
          "theta": -0.06359228165939598
         },
         {
          "omega": -0.0765354952529207,
          "t": 2.2699999999999956,
          "theta": -0.0643608418713497
         },
         {
          "omega": -0.07588807081808757,
          "t": 2.2799999999999954,
          "theta": -0.06512296605275014
         },
         {
          "omega": -0.07523305763941249,
          "t": 2.289999999999995,
          "theta": -0.06587857799181426
         },
         {
          "omega": -0.07457052121766747,
          "t": 2.299999999999995,
          "theta": -0.06662760212797783
         },
         {
          "omega": -0.07390052780594258,
          "t": 2.3099999999999947,
          "theta": -0.06736996355945142
         },
         {
          "omega": -0.07322314440302066,
          "t": 2.3199999999999945,
          "theta": -0.06810558805071051
         },
         {
          "omega": -0.07253843874667754,
          "t": 2.3299999999999943,
          "theta": -0.068834402039919
         },
         {
          "omega": -0.07184647930690824,
          "t": 2.339999999999994,
          "theta": -0.06955633264628532
         },
         {
          "omega": -0.07114733527908011,
          "t": 2.349999999999994,
          "theta": -0.07027130767735042
         },
         {
          "omega": -0.07044107657701333,
          "t": 2.3599999999999937,
          "theta": -0.07097925563620701
         },
         {
          "omega": -0.06972777382598955,
          "t": 2.3699999999999934,
          "theta": -0.07168010572864916
         },
         {
          "omega": -0.06900749835568945,
          "t": 2.3799999999999932,
          "theta": -0.07237378787025167
         },
         {
          "omega": -0.06828032219305984,
          "t": 2.389999999999993,
          "theta": -0.07306023269337844
         },
         {
          "omega": -0.06754631805511101,
          "t": 2.399999999999993,
          "theta": -0.07373937155411919
         },
         {
          "omega": -0.06680555934164507,
          "t": 2.4099999999999926,
          "theta": -0.07441113653915381
         },
         {
          "omega": -0.06605812012791609,
          "t": 2.4199999999999924,
          "theta": -0.07507546047254358
         },
         {
          "omega": -0.06530407515722257,
          "t": 2.429999999999992,
          "theta": -0.07573227692244879
         },
         {
          "omega": -0.0645434998334332,
          "t": 2.439999999999992,
          "theta": -0.07638152020777175
         },
         {
          "omega": -0.06377647021344657,
          "t": 2.4499999999999917,
          "theta": -0.077023125404725
         },
         {
          "omega": -0.06300306299958547,
          "t": 2.4599999999999915,
          "theta": -0.0776570283533235
         },
         {
          "omega": -0.06222335553192679,
          "t": 2.4699999999999913,
          "theta": -0.07828316566380064
         },
         {
          "omega": -0.06143742578056754,
          "t": 2.479999999999991,
          "theta": -0.07890147472294716
         },
         {
          "omega": -0.06064535233782792,
          "t": 2.489999999999991,
          "theta": -0.0795118937003724
         },
         {
          "omega": -0.05984721441039214,
          "t": 2.4999999999999907,
          "theta": -0.08011436155468729
         },
         {
          "omega": -0.05904309181138784,
          "t": 2.5099999999999905,
          "theta": -0.08070881803960846
         },
         {
          "omega": -0.05823306495240481,
          "t": 2.5199999999999902,
          "theta": -0.08129520370998278
         },
         {
          "omega": -0.05741721483545393,
          "t": 2.52999999999999,
          "theta": -0.08187345992773189
         },
         {
          "omega": -0.056595623044867024,
          "t": 2.53999999999999,
          "theta": -0.08244352886771587
         },
         {
          "omega": -0.0557683717391385,
          "t": 2.5499999999999896,
          "theta": -0.0830053535235158
         },
         {
          "omega": -0.05493554364270954,
          "t": 2.5599999999999894,
          "theta": -0.08355887771313428
         },
         {
          "omega": -0.054097222037695784,
          "t": 2.569999999999989,
          "theta": -0.08410404608461361
         },
         {
          "omega": -0.05325349075555913,
          "t": 2.579999999999989,
          "theta": -0.08464080412157095
         },
         {
          "omega": -0.05240443416872468,
          "t": 2.5899999999999888,
          "theta": -0.0851690981486499
         },
         {
          "omega": -0.051550137182143574,
          "t": 2.5999999999999885,
          "theta": -0.08568887533688799
         },
         {
          "omega": -0.05069068522480256,
          "t": 2.6099999999999883,
          "theta": -0.08620008370899955
         },
         {
          "omega": -0.04982616424118116,
          "t": 2.619999999999988,
          "theta": -0.08670267214457338
         },
         {
          "omega": -0.048956660682657305,
          "t": 2.629999999999988,
          "theta": -0.08719659038518474
         },
         {
          "omega": -0.04808226149886227,
          "t": 2.6399999999999877,
          "theta": -0.08768178903942116
         },
         {
          "omega": -0.04720305412898577,
          "t": 2.6499999999999875,
          "theta": -0.08815821958782155
         },
         {
          "omega": -0.04631912649303212,
          "t": 2.6599999999999873,
          "theta": -0.0886258343877281
         },
         {
          "omega": -0.0454305669830283,
          "t": 2.669999999999987,
          "theta": -0.0890845866780505
         },
         {
          "omega": -0.04453746445418487,
          "t": 2.679999999999987,
          "theta": -0.08953443058394199
         },
         {
          "omega": -0.043639908216010444,
          "t": 2.6899999999999866,
          "theta": -0.08997532112138687
         },
         {
          "omega": -0.04273798802338089,
          "t": 2.6999999999999864,
          "theta": -0.0904072142016988
         },
         {
          "omega": -0.04183179406756387,
          "t": 2.709999999999986,
          "theta": -0.09083006663592964
         },
         {
          "omega": -0.04092141696719981,
          "t": 2.719999999999986,
          "theta": -0.09124383613918836
         },
         {
          "omega": -0.040006947759240095,
          "t": 2.7299999999999858,
          "theta": -0.09164848133486944
         },
         {
          "omega": -0.039088477889843466,
          "t": 2.7399999999999856,
          "theta": -0.09204396175879052
         },
         {
          "omega": -0.03816609920523148,
          "t": 2.7499999999999853,
          "theta": -0.09243023786323877
         },
         {
          "omega": -0.03723990394250395,
          "t": 2.759999999999985,
          "theta": -0.09280727102092563
         },
         {
          "omega": -0.036309984720415314,
          "t": 2.769999999999985,
          "theta": -0.09317502352884953
         },
         {
          "omega": -0.03537643453011286,
          "t": 2.7799999999999847,
          "theta": -0.09353345861206615
         },
         {
          "omega": -0.03443934672583766,
          "t": 2.7899999999999845,
          "theta": -0.09388254042736584
         },
         {
          "omega": -0.03349881501558924,
          "t": 2.7999999999999843,
          "theta": -0.09422223406685798
         },
         {
          "omega": -0.03255493345175484,
          "t": 2.809999999999984,
          "theta": -0.0945525055614617
         },
         {
          "omega": -0.03160779642170429,
          "t": 2.819999999999984,
          "theta": -0.09487332188430278
         },
         {
          "omega": -0.03065749863835131,
          "t": 2.8299999999999836,
          "theta": -0.09518465095401626
         },
         {
          "omega": -0.02970413513068233,
          "t": 2.8399999999999834,
          "theta": -0.09548646163795463
         },
         {
          "omega": -0.028747801234253644,
          "t": 2.849999999999983,
          "theta": -0.09577872375530098
         },
         {
          "omega": -0.027788592581657955,
          "t": 2.859999999999983,
          "theta": -0.09606140808008715
         },
         {
          "omega": -0.026826605092961184,
          "t": 2.869999999999983,
          "theta": -0.0963344863441162
         },
         {
          "omega": -0.02586193496611055,
          "t": 2.8799999999999826,
          "theta": -0.09659793123978933
         },
         {
          "omega": -0.024894678667314842,
          "t": 2.8899999999999824,
          "theta": -0.09685171642283646
         },
         {
          "omega": -0.023924932921397902,
          "t": 2.899999999999982,
          "theta": -0.09709581651495082
         },
         {
          "omega": -0.0229527947021262,
          "t": 2.909999999999982,
          "theta": -0.09733020710632659
         },
         {
          "omega": -0.02197836122251155,
          "t": 2.9199999999999817,
          "theta": -0.09755486475809996
         },
         {
          "omega": -0.02100172992508989,
          "t": 2.9299999999999815,
          "theta": -0.09776976700469298
         },
         {
          "omega": -0.020022998472177107,
          "t": 2.9399999999999813,
          "theta": -0.09797489235606005
         },
         {
          "omega": -0.01904226473610288,
          "t": 2.949999999999981,
          "theta": -0.09817022029983699
         },
         {
          "omega": -0.018059626789423546,
          "t": 2.959999999999981,
          "theta": -0.0983557313033922
         },
         {
          "omega": -0.01707518289511491,
          "t": 2.9699999999999807,
          "theta": -0.0985314068157799
         },
         {
          "omega": -0.016089031496746033,
          "t": 2.9799999999999804,
          "theta": -0.09869722926959526
         },
         {
          "omega": -0.015101271208634965,
          "t": 2.9899999999999802,
          "theta": -0.09885318208273107
         },
         {
          "omega": -0.014112000805987384,
          "t": 2.99999999999998,
          "theta": -0.098999249660036
         },
         {
          "omega": -0.013121319215019167,
          "t": 3.00999999999998,
          "theta": -0.09913541739487401
         },
         {
          "omega": -0.012129325503063844,
          "t": 3.0199999999999796,
          "theta": -0.09926167167058511
         },
         {
          "omega": -0.011136118868665954,
          "t": 3.0299999999999794,
          "theta": -0.09937799986184694
         },
         {
          "omega": -0.010141798631661265,
          "t": 3.039999999999979,
          "theta": -0.0994843903359373
         },
         {
          "omega": -0.009146464223244883,
          "t": 3.049999999999979,
          "theta": -0.09958083245389746
         },
         {
          "omega": -0.008150215176028203,
          "t": 3.0599999999999787,
          "theta": -0.09966731657159597
         },
         {
          "omega": -0.007153151114085745,
          "t": 3.0699999999999785,
          "theta": -0.09974383404069315
         },
         {
          "omega": -0.006155371742992819,
          "t": 3.0799999999999783,
          "theta": -0.09981037720950584
         },
         {
          "omega": -0.005156976839855053,
          "t": 3.089999999999978,
          "theta": -0.09986693942377262
         },
         {
          "omega": -0.004158066243330769,
          "t": 3.099999999999978,
          "theta": -0.0999135150273192
         },
         {
          "omega": -0.0031587398436471958,
          "t": 3.1099999999999777,
          "theta": -0.09995009936262403
         },
         {
          "omega": -0.002159097572611533,
          "t": 3.1199999999999775,
          "theta": -0.09997668877128407
         },
         {
          "omega": -0.0011592393936178515,
          "t": 3.1299999999999772,
          "theta": -0.09999328059438062
         },
         {
          "omega": -0.00015926529165083826,
          "t": 3.139999999999977,
          "theta": -0.09999987317274518
         },
         {
          "omega": 0.0008407247367126188,
          "t": 3.149999999999977,
          "theta": -0.09999646584712542
         },
         {
          "omega": 0.001840630693303006,
          "t": 3.1599999999999766,
          "theta": -0.09998305895825105
         },
         {
          "omega": 0.0028403525883579158,
          "t": 3.1699999999999764,
          "theta": -0.09995965384679979
         },
         {
          "omega": 0.0038397904505209418,
          "t": 3.179999999999976,
          "theta": -0.0999262528532633
         },
         {
          "omega": 0.00483884433683873,
          "t": 3.189999999999976,
          "theta": -0.09988285931771308
         },
         {
          "omega": 0.0058374143427551905,
          "t": 3.1999999999999758,
          "theta": -0.09982947757946653
         },
         {
          "omega": 0.006835400612101871,
          "t": 3.2099999999999755,
          "theta": -0.09976611297665298
         },
         {
          "omega": 0.007832703347083489,
          "t": 3.2199999999999753,
          "theta": -0.09969277184567993
         },
         {
          "omega": 0.00882922281825763,
          "t": 3.229999999999975,
          "theta": -0.09960946152059932
         },
         {
          "omega": 0.009824859374507604,
          "t": 3.239999999999975,
          "theta": -0.09951619033237427
         },
         {
          "omega": 0.010819513453007483,
          "t": 3.2499999999999747,
          "theta": -0.09941296760804587
         },
         {
          "omega": 0.011813085589178292,
          "t": 3.2599999999999745,
          "theta": -0.09929980366980053
         },
         {
          "omega": 0.012805476426634389,
          "t": 3.2699999999999743,
          "theta": -0.09917670983393777
         },
         {
          "omega": 0.013796586727119016,
          "t": 3.279999999999974,
          "theta": -0.09904369840973859
         },
         {
          "omega": 0.014786317380428047,
          "t": 3.289999999999974,
          "theta": -0.09890078269823459
         },
         {
          "omega": 0.015774569414320927,
          "t": 3.2999999999999736,
          "theta": -0.0987479769908778
         },
         {
          "omega": 0.016761244004417804,
          "t": 3.3099999999999734,
          "theta": -0.09858529656811163
         },
         {
          "omega": 0.017746242484081895,
          "t": 3.319999999999973,
          "theta": -0.09841275769784279
         },
         {
          "omega": 0.018729466354286062,
          "t": 3.329999999999973,
          "theta": -0.09823037763381452
         },
         {
          "omega": 0.019710817293462638,
          "t": 3.3399999999999728,
          "theta": -0.09803817461388126
         },
         {
          "omega": 0.020690197167335493,
          "t": 3.3499999999999726,
          "theta": -0.0978361678581848
         },
         {
          "omega": 0.02166750803873339,
          "t": 3.3599999999999723,
          "theta": -0.0976243775672324
         },
         {
          "omega": 0.022642652177383607,
          "t": 3.369999999999972,
          "theta": -0.09740282491987665
         },
         {
          "omega": 0.0236155320696849,
          "t": 3.379999999999972,
          "theta": -0.09717153207119766
         },
         {
          "omega": 0.024586050428458767,
          "t": 3.3899999999999717,
          "theta": -0.09693052215028757
         },
         {
          "omega": 0.025554110202678094,
          "t": 3.3999999999999715,
          "theta": -0.0966798192579376
         },
         {
          "omega": 0.026519614587172176,
          "t": 3.4099999999999713,
          "theta": -0.0964194484642281
         },
         {
          "omega": 0.027482467032307147,
          "t": 3.419999999999971,
          "theta": -0.09614943580602145
         },
         {
          "omega": 0.028442571253640865,
          "t": 3.429999999999971,
          "theta": -0.09586980828435845
         },
         {
          "omega": 0.02939983124155128,
          "t": 3.4399999999999706,
          "theta": -0.09558059386175827
         },
         {
          "omega": 0.03035415127083732,
          "t": 3.4499999999999704,
          "theta": -0.09528182145942213
         },
         {
          "omega": 0.031305435910291314,
          "t": 3.45999999999997,
          "theta": -0.0949735209543413
         },
         {
          "omega": 0.032253590032242055,
          "t": 3.46999999999997,
          "theta": -0.0946557231763094
         },
         {
          "omega": 0.03319851882206747,
          "t": 3.47999999999997,
          "theta": -0.09432845990483936
         },
         {
          "omega": 0.03414012778767603,
          "t": 3.4899999999999696,
          "theta": -0.09399176386598562
         },
         {
          "omega": 0.035078322768955825,
          "t": 3.4999999999999694,
          "theta": -0.0936456687290715
         },
         {
          "omega": 0.03601300994719057,
          "t": 3.509999999999969,
          "theta": -0.09329020910332227
         },
         {
          "omega": 0.036944095854441326,
          "t": 3.519999999999969,
          "theta": -0.09292542053440428
         },
         {
          "omega": 0.03787148738289329,
          "t": 3.5299999999999687,
          "theta": -0.09255133950087045
         },
         {
          "omega": 0.03879509179416643,
          "t": 3.5399999999999685,
          "theta": -0.09216800341051239
         },
         {
          "omega": 0.039714816728589286,
          "t": 3.5499999999999683,
          "theta": -0.09177545059661969
         },
         {
          "omega": 0.04063057021443486,
          "t": 3.559999999999968,
          "theta": -0.09137372031414662
         },
         {
          "omega": 0.04154226067711768,
          "t": 3.569999999999968,
          "theta": -0.09096285273578665
         },
         {
          "omega": 0.04244979694835122,
          "t": 3.5799999999999677,
          "theta": -0.09054288894795523
         },
         {
          "omega": 0.04335308827526464,
          "t": 3.5899999999999674,
          "theta": -0.09011387094668116
         },
         {
          "omega": 0.04425204432947799,
          "t": 3.5999999999999672,
          "theta": -0.08967584163340707
         },
         {
          "omega": 0.04514657521613497,
          "t": 3.609999999999967,
          "theta": -0.08922884481069926
         },
         {
          "omega": 0.04603659148289236,
          "t": 3.619999999999967,
          "theta": -0.0887729251778675
         },
         {
          "omega": 0.04692200412886516,
          "t": 3.6299999999999666,
          "theta": -0.08830812832649515
         },
         {
          "omega": 0.04780272461352661,
          "t": 3.6399999999999664,
          "theta": -0.08783450073588
         },
         {
          "omega": 0.048678664865562174,
          "t": 3.649999999999966,
          "theta": -0.08735208976838645
         },
         {
          "omega": 0.0495497372916766,
          "t": 3.659999999999966,
          "theta": -0.08686094366470921
         },
         {
          "omega": 0.050415854785353174,
          "t": 3.6699999999999657,
          "theta": -0.08636111153904939
         },
         {
          "omega": 0.05127693073556428,
          "t": 3.6799999999999655,
          "theta": -0.08585264337420302
         },
         {
          "omega": 0.05213287903543246,
          "t": 3.6899999999999653,
          "theta": -0.08533559001656287
         },
         {
          "omega": 0.05298361409084103,
          "t": 3.699999999999965,
          "theta": -0.08481000317103381
         },
         {
          "omega": 0.05382905082899337,
          "t": 3.709999999999965,
          "theta": -0.08427593539586241
         },
         {
          "omega": 0.054669104706920206,
          "t": 3.7199999999999647,
          "theta": -0.08373344009738114
         },
         {
          "omega": 0.05550369171993379,
          "t": 3.7299999999999645,
          "theta": -0.08318257152466776
         },
         {
          "omega": 0.056332728410028295,
          "t": 3.7399999999999642,
          "theta": -0.08262338476412051
         },
         {
          "omega": 0.05715613187422558,
          "t": 3.749999999999964,
          "theta": -0.08205593573394943
         },
         {
          "omega": 0.05797381977286539,
          "t": 3.759999999999964,
          "theta": -0.08148028117858468
         },
         {
          "omega": 0.058785710337839275,
          "t": 3.7699999999999636,
          "theta": -0.08089647866300208
         },
         {
          "omega": 0.059591722380767306,
          "t": 3.7799999999999634,
          "theta": -0.08030458656696668
         },
         {
          "omega": 0.06039177530111686,
          "t": 3.789999999999963,
          "theta": -0.07970466407919485
         },
         {
          "omega": 0.061185789094262616,
          "t": 3.799999999999963,
          "theta": -0.07909677119143543
         },
         {
          "omega": 0.061973684359486934,
          "t": 3.8099999999999627,
          "theta": -0.07848096869247063
         },
         {
          "omega": 0.06275538230791987,
          "t": 3.8199999999999625,
          "theta": -0.07785731816203717
         },
         {
          "omega": 0.06353080477041799,
          "t": 3.8299999999999623,
          "theta": -0.0772258819646684
         },
         {
          "omega": 0.06429987420538123,
          "t": 3.839999999999962,
          "theta": -0.07658672324345783
         },
         {
          "omega": 0.06506251370650698,
          "t": 3.849999999999962,
          "theta": -0.07593990591374498
         },
         {
          "omega": 0.06581864701048065,
          "t": 3.8599999999999617,
          "theta": -0.07528549465672381
         },
         {
          "omega": 0.06656819850460197,
          "t": 3.8699999999999615,
          "theta": -0.07462355491297466
         },
         {
          "omega": 0.06731109323434614,
          "t": 3.8799999999999613,
          "theta": -0.0739541528759203
         },
         {
          "omega": 0.06804725691085928,
          "t": 3.889999999999961,
          "theta": -0.07327735548520661
         },
         {
          "omega": 0.06877661591838719,
          "t": 3.899999999999961,
          "theta": -0.07259323042000866
         },
         {
          "omega": 0.06949909732163691,
          "t": 3.9099999999999606,
          "theta": -0.07190184609226287
         },
         {
          "omega": 0.07021462887307019,
          "t": 3.9199999999999604,
          "theta": -0.07120327163982586
         },
         {
          "omega": 0.07092313902012815,
          "t": 3.92999999999996,
          "theta": -0.07049757691956073
         },
         {
          "omega": 0.07162455691238652,
          "t": 3.93999999999996,
          "theta": -0.06978483250035142
         },
         {
          "omega": 0.07231881240864058,
          "t": 3.9499999999999598,
          "theta": -0.06906510965604591
         },
         {
          "omega": 0.07300583608391925,
          "t": 3.9599999999999596,
          "theta": -0.06833848035832887
         },
         {
          "omega": 0.07368555923642753,
          "t": 3.9699999999999593,
          "theta": -0.06760501726952454
         },
         {
          "omega": 0.0743579138944166,
          "t": 3.979999999999959,
          "theta": -0.0668647937353306
         },
         {
          "omega": 0.07502283282298093,
          "t": 3.989999999999959,
          "theta": -0.06611788377748358
         },
         {
          "omega": 0.0756802495307818,
          "t": 3.9999999999999587,
          "theta": -0.06536436208635688
         },
         {
          "omega": 0.07633009827669628,
          "t": 4.009999999999959,
          "theta": -0.06460430401349161
         },
         {
          "omega": 0.07697231407639125,
          "t": 4.019999999999959,
          "theta": -0.06383778556406178
         },
         {
          "omega": 0.07760683270882197,
          "t": 4.0299999999999585,
          "theta": -0.06306488338927352
         },
         {
          "omega": 0.07823359072265396,
          "t": 4.039999999999958,
          "theta": -0.06228567477870023
         },
         {
          "omega": 0.07885252544260812,
          "t": 4.049999999999958,
          "theta": -0.06150023765255362
         },
         {
          "omega": 0.07946357497572824,
          "t": 4.059999999999958,
          "theta": -0.06070865055389179
         },
         {
          "omega": 0.08006667821757021,
          "t": 4.069999999999958,
          "theta": -0.059910992640764944
         },
         {
          "omega": 0.08066177485831244,
          "t": 4.079999999999957,
          "theta": -0.05910734367829968
         },
         {
          "omega": 0.08124880538878676,
          "t": 4.089999999999957,
          "theta": -0.05829778403072254
         },
         {
          "omega": 0.08182771110642931,
          "t": 4.099999999999957,
          "theta": -0.05748239465332366
         },
         {
          "omega": 0.08239843412115075,
          "t": 4.109999999999957,
          "theta": -0.05666125708436128
         },
         {
          "omega": 0.08296091736112521,
          "t": 4.119999999999957,
          "theta": -0.05583445343690802
         },
         {
          "omega": 0.08351510457849742,
          "t": 4.129999999999956,
          "theta": -0.055002066390639634
         },
         {
          "omega": 0.08406094035500747,
          "t": 4.139999999999956,
          "theta": -0.054164179183567085
         },
         {
          "omega": 0.08459837010753257,
          "t": 4.149999999999956,
          "theta": -0.05332087560371284
         },
         {
          "omega": 0.08512734009354532,
          "t": 4.159999999999956,
          "theta": -0.052472239980732145
         },
         {
          "omega": 0.08564779741648794,
          "t": 4.1699999999999555,
          "theta": -0.0516183571774801
         },
         {
          "omega": 0.08615969003106183,
          "t": 4.179999999999955,
          "theta": -0.050759312581525454
         },
         {
          "omega": 0.08666296674843212,
          "t": 4.189999999999955,
          "theta": -0.049895192096611946
         },
         {
          "omega": 0.08715757724134646,
          "t": 4.199999999999955,
          "theta": -0.049026082134067964
         },
         {
          "omega": 0.08764347204916774,
          "t": 4.209999999999955,
          "theta": -0.04815206960416551
         },
         {
          "omega": 0.08812060258282009,
          "t": 4.2199999999999545,
          "theta": -0.04727324190742923
         },
         {
          "omega": 0.08858892112964775,
          "t": 4.229999999999954,
          "theta": -0.04638968692589644
         },
         {
          "omega": 0.0890483808581863,
          "t": 4.239999999999954,
          "theta": -0.045501493014329014
         },
         {
          "omega": 0.08949893582284577,
          "t": 4.249999999999954,
          "theta": -0.044608748991377935
         },
         {
          "omega": 0.08994054096850514,
          "t": 4.259999999999954,
          "theta": -0.04371154413070155
         },
         {
          "omega": 0.09037315213501787,
          "t": 4.269999999999953,
          "theta": -0.04280996815203827
         },
         {
          "omega": 0.09079672606162781,
          "t": 4.279999999999953,
          "theta": -0.041904111212234633
         },
         {
          "omega": 0.09121122039129527,
          "t": 4.289999999999953,
          "theta": -0.040994063896229754
         },
         {
          "omega": 0.09161659367493269,
          "t": 4.299999999999953,
          "theta": -0.040079917207996855
         },
         {
          "omega": 0.09201280537554953,
          "t": 4.3099999999999525,
          "theta": -0.03916176256144298
         },
         {
          "omega": 0.09239981587230589,
          "t": 4.319999999999952,
          "theta": -0.03823969177126765
         },
         {
          "omega": 0.09277758646447462,
          "t": 4.329999999999952,
          "theta": -0.0373137970437815
         },
         {
          "omega": 0.0931460793753113,
          "t": 4.339999999999952,
          "theta": -0.0363841709676857
         },
         {
          "omega": 0.09350525775583192,
          "t": 4.349999999999952,
          "theta": -0.035450906504813175
         },
         {
          "omega": 0.09385508568849775,
          "t": 4.3599999999999515,
          "theta": -0.03451409698083249
         },
         {
          "omega": 0.09419552819080704,
          "t": 4.369999999999951,
          "theta": -0.03357383607591538
         },
         {
          "omega": 0.09452655121879326,
          "t": 4.379999999999951,
          "theta": -0.03263021781536878
         },
         {
          "omega": 0.09484812167042947,
          "t": 4.389999999999951,
          "theta": -0.0316833365602324
         },
         {
          "omega": 0.09516020738893846,
          "t": 4.399999999999951,
          "theta": -0.030733286997842692
         },
         {
          "omega": 0.09546277716600847,
          "t": 4.40999999999995,
          "theta": -0.029780164132364187
         },
         {
          "omega": 0.09575580074491392,
          "t": 4.41999999999995,
          "theta": -0.028824063275289163
         },
         {
          "omega": 0.09603924882354113,
          "t": 4.42999999999995,
          "theta": -0.027865080035906587
         },
         {
          "omega": 0.09631309305731843,
          "t": 4.43999999999995,
          "theta": -0.026903310311741244
         },
         {
          "omega": 0.09657730606205063,
          "t": 4.4499999999999496,
          "theta": -0.025938850278964077
         },
         {
          "omega": 0.09683186141665745,
          "t": 4.459999999999949,
          "theta": -0.02497179638277465
         },
         {
          "omega": 0.09707673366581555,
          "t": 4.469999999999949,
          "theta": -0.024002245327756706
         },
         {
          "omega": 0.09731189832250409,
          "t": 4.479999999999949,
          "theta": -0.023030294068207793
         },
         {
          "omega": 0.09753733187045334,
          "t": 4.489999999999949,
          "theta": -0.022056039798443908
         },
         {
          "omega": 0.0977530117664964,
          "t": 4.4999999999999485,
          "theta": -0.02107957994308015
         },
         {
          "omega": 0.09795891644282337,
          "t": 4.509999999999948,
          "theta": -0.020101012147288343
         },
         {
          "omega": 0.09815502530913822,
          "t": 4.519999999999948,
          "theta": -0.019120434267032596
         },
         {
          "omega": 0.09834131875471774,
          "t": 4.529999999999948,
          "theta": -0.018137944359283786
         },
         {
          "omega": 0.09851777815037262,
          "t": 4.539999999999948,
          "theta": -0.017153640672213952
         },
         {
          "omega": 0.09868438585031032,
          "t": 4.549999999999947,
          "theta": -0.01616762163537155
         },
         {
          "omega": 0.09884112519389972,
          "t": 4.559999999999947,
          "theta": -0.015179985849838587
         },
         {
          "omega": 0.09898798050733705,
          "t": 4.569999999999947,
          "theta": -0.014190832078370585
         },
         {
          "omega": 0.09912493710521336,
          "t": 4.579999999999947,
          "theta": -0.0132002592355204
         },
         {
          "omega": 0.09925198129198298,
          "t": 4.589999999999947,
          "theta": -0.012208366377746844
         },
         {
          "omega": 0.09936910036333312,
          "t": 4.599999999999946,
          "theta": -0.01121525269350912
         },
         {
          "omega": 0.09947628260745423,
          "t": 4.609999999999946,
          "theta": -0.010221017493348057
         },
         {
          "omega": 0.09957351730621122,
          "t": 4.619999999999946,
          "theta": -0.009225760199955147
         },
         {
          "omega": 0.09966079473621525,
          "t": 4.629999999999946,
          "theta": -0.00822958033823035
         },
         {
          "omega": 0.09973810616979605,
          "t": 4.6399999999999455,
          "theta": -0.007232577525329691
         },
         {
          "omega": 0.09980544387587467,
          "t": 4.649999999999945,
          "theta": -0.006234851460703627
         },
         {
          "omega": 0.09986280112073663,
          "t": 4.659999999999945,
          "theta": -0.005236501916127186
         },
         {
          "omega": 0.09991017216870524,
          "t": 4.669999999999945,
          "theta": -0.004237628725722869
         },
         {
          "omega": 0.09994755228271518,
          "t": 4.679999999999945,
          "theta": -0.0032383317759773268
         },
         {
          "omega": 0.0999749377247862,
          "t": 4.689999999999944,
          "theta": -0.002238710995752788
         },
         {
          "omega": 0.09999232575639691,
          "t": 4.699999999999944,
          "theta": -0.0012388663462942606
         },
         {
          "omega": 0.09999971463875865,
          "t": 4.709999999999944,
          "theta": -0.00023889781123348952
         },
         {
          "omega": 0.09999710363298932,
          "t": 4.719999999999944,
          "theta": 0.0007610946134093235
         },
         {
          "omega": 0.09998449300018733,
          "t": 4.729999999999944,
          "theta": 0.0017610109292250384
         },
         {
          "omega": 0.09996188400140546,
          "t": 4.739999999999943,
          "theta": 0.002760751145415335
         },
         {
          "omega": 0.09992927889752475,
          "t": 4.749999999999943,
          "theta": 0.003760215288791707
         },
         {
          "omega": 0.0998866809490284,
          "t": 4.759999999999943,
          "theta": 0.004759303413772701
         },
         {
          "omega": 0.09983409441567578,
          "t": 4.769999999999943,
          "theta": 0.005757915612378392
         },
         {
          "omega": 0.0997715245560764,
          "t": 4.7799999999999425,
          "theta": 0.00675595202422109
         },
         {
          "omega": 0.09969897762716405,
          "t": 4.789999999999942,
          "theta": 0.007753312846491308
         },
         {
          "omega": 0.0996164608835712,
          "t": 4.799999999999942,
          "theta": 0.008749898343937948
         },
         {
          "omega": 0.09952398257690344,
          "t": 4.809999999999942,
          "theta": 0.009745608858841752
         },
         {
          "omega": 0.09942155195491437,
          "t": 4.819999999999942,
          "theta": 0.010740344820980985
         },
         {
          "omega": 0.09930917926058082,
          "t": 4.8299999999999415,
          "theta": 0.011734006757588376
         },
         {
          "omega": 0.09918687573107858,
          "t": 4.839999999999941,
          "theta": 0.012726495303298314
         },
         {
          "omega": 0.09905465359665869,
          "t": 4.849999999999941,
          "theta": 0.0137177112100833
         },
         {
          "omega": 0.0989125260794244,
          "t": 4.859999999999941,
          "theta": 0.014707555357178664
         },
         {
          "omega": 0.098760507392009,
          "t": 4.869999999999941,
          "theta": 0.015695928760994564
         },
         {
          "omega": 0.09859861273615456,
          "t": 4.87999999999994,
          "theta": 0.01668273258501426
         },
         {
          "omega": 0.09842685830119173,
          "t": 4.88999999999994,
          "theta": 0.01766786814967769
         },
         {
          "omega": 0.09824526126242089,
          "t": 4.89999999999994,
          "theta": 0.018651236942249322
         },
         {
          "omega": 0.0980538397793946,
          "t": 4.90999999999994,
          "theta": 0.019632740626669375
         },
         {
          "omega": 0.09785261299410161,
          "t": 4.9199999999999395,
          "theta": 0.020612281053387325
         },
         {
          "omega": 0.0976416010290528,
          "t": 4.929999999999939,
          "theta": 0.021589760269176778
         },
         {
          "omega": 0.0974208249852688,
          "t": 4.939999999999939,
          "theta": 0.02256508052693072
         },
         {
          "omega": 0.09719030694017003,
          "t": 4.949999999999939,
          "theta": 0.023538144295436138
         },
         {
          "omega": 0.0969500699453689,
          "t": 4.959999999999939,
          "theta": 0.024508854269127068
         },
         {
          "omega": 0.09670013802436468,
          "t": 4.9699999999999385,
          "theta": 0.025477113377815063
         },
         {
          "omega": 0.09644053617014121,
          "t": 4.979999999999938,
          "theta": 0.026442824796396133
         },
         {
          "omega": 0.09617129034266758,
          "t": 4.989999999999938,
          "theta": 0.027405891954533176
         },
         {
          "omega": 0.09589242746630215,
          "t": 4.999999999999938,
          "theta": 0.028366218546312934
         },
         {
          "omega": 0.09560397542710018,
          "t": 5.009999999999938,
          "theta": 0.029323708539876495
         },
         {
          "omega": 0.09530596307002522,
          "t": 5.019999999999937,
          "theta": 0.03027826618702241
         },
         {
          "omega": 0.09499842019606462,
          "t": 5.029999999999937,
          "theta": 0.031229796032781428
         },
         {
          "omega": 0.0946813775592495,
          "t": 5.039999999999937,
          "theta": 0.03217820292496191
         },
         {
          "omega": 0.09435486686357936,
          "t": 5.049999999999937,
          "theta": 0.033123392023664974
         },
         {
          "omega": 0.09401892075985165,
          "t": 5.0599999999999365,
          "theta": 0.034065268810768407
         },
         {
          "omega": 0.09367357284239679,
          "t": 5.069999999999936,
          "theta": 0.03500373909937839
         },
         {
          "omega": 0.09331885764571873,
          "t": 5.079999999999936,
          "theta": 0.03593870904324813
         },
         {
          "omega": 0.09295481064104157,
          "t": 5.089999999999936,
          "theta": 0.03687008514616236
         },
         {
          "omega": 0.09258146823276238,
          "t": 5.099999999999936,
          "theta": 0.037797774271286944
         },
         {
          "omega": 0.09219886775481088,
          "t": 5.1099999999999355,
          "theta": 0.03872168365048244
         },
         {
          "omega": 0.09180704746691604,
          "t": 5.119999999999935,
          "theta": 0.03964172089358085
         },
         {
          "omega": 0.09140604655078012,
          "t": 5.129999999999935,
          "theta": 0.040557793997624554
         },
         {
          "omega": 0.09099590510616058,
          "t": 5.139999999999935,
          "theta": 0.04146981135606655
         },
         {
          "omega": 0.0905766641468601,
          "t": 5.149999999999935,
          "theta": 0.042377681767931
         },
         {
          "omega": 0.09014836559662523,
          "t": 5.159999999999934,
          "theta": 0.04328131444693327
         },
         {
          "omega": 0.08971105228495409,
          "t": 5.169999999999934,
          "theta": 0.04418061903055849
         },
         {
          "omega": 0.0892647679428134,
          "t": 5.179999999999934,
          "theta": 0.04507550558909772
         },
         {
          "omega": 0.0888095571982655,
          "t": 5.189999999999934,
          "theta": 0.045965884634640825
         },
         {
          "omega": 0.08834546557200548,
          "t": 5.199999999999934,
          "theta": 0.04685166713002525
         },
         {
          "omega": 0.08787253947280925,
          "t": 5.209999999999933,
          "theta": 0.04773276449773959
         },
         {
          "omega": 0.08739082619289261,
          "t": 5.219999999999933,
          "theta": 0.04860908862878133
         },
         {
          "omega": 0.08690037390318213,
          "t": 5.229999999999933,
          "theta": 0.049480551891467627
         },
         {
          "omega": 0.08640123164849807,
          "t": 5.239999999999933,
          "theta": 0.05034706714019844
         },
         {
          "omega": 0.08589344934264995,
          "t": 5.2499999999999325,
          "theta": 0.05120854772417098
         },
         {
          "omega": 0.08537707776344519,
          "t": 5.259999999999932,
          "theta": 0.05206490749604475
         },
         {
          "omega": 0.08485216854761142,
          "t": 5.269999999999932,
          "theta": 0.05291606082055619
         },
         {
          "omega": 0.08431877418563279,
          "t": 5.279999999999932,
          "theta": 0.05376192258308215
         },
         {
          "omega": 0.083776948016501,
          "t": 5.289999999999932,
          "theta": 0.05460240819815125
         },
         {
          "omega": 0.08322674422238147,
          "t": 5.299999999999931,
          "theta": 0.05543743361790239
         },
         {
          "omega": 0.08266821782319508,
          "t": 5.309999999999931,
          "theta": 0.05626691534048945
         },
         {
          "omega": 0.08210142467111634,
          "t": 5.319999999999931,
          "theta": 0.0570907704184314
         },
         {
          "omega": 0.08152642144498809,
          "t": 5.329999999999931,
          "theta": 0.05790891646690699
         },
         {
          "omega": 0.0809432656446538,
          "t": 5.339999999999931,
          "theta": 0.05872127167199316
         },
         {
          "omega": 0.08035201558520755,
          "t": 5.34999999999993,
          "theta": 0.05952775479884636
         },
         {
          "omega": 0.07975273039116257,
          "t": 5.35999999999993,
          "theta": 0.06032828519982597
         },
         {
          "omega": 0.07914546999053886,
          "t": 5.36999999999993,
          "theta": 0.061122782822559
         },
         {
          "omega": 0.07853029510887044,
          "t": 5.37999999999993,
          "theta": 0.061911168217945255
         },
         {
          "omega": 0.07790726726313282,
          "t": 5.3899999999999295,
          "theta": 0.06269336254810219
         },
         {
          "omega": 0.0772764487555914,
          "t": 5.399999999999929,
          "theta": 0.06346928759424861
         },
         {
          "omega": 0.07663790266757126,
          "t": 5.409999999999929,
          "theta": 0.06423886576452649
         },
         {
          "omega": 0.07599169285314905,
          "t": 5.419999999999929,
          "theta": 0.06500202010176014
         },
         {
          "omega": 0.07533788393276773,
          "t": 5.429999999999929,
          "theta": 0.06575867429115177
         },
         {
          "omega": 0.0746765412867745,
          "t": 5.4399999999999284,
          "theta": 0.06650875266791301
         },
         {
          "omega": 0.07400773104888284,
          "t": 5.449999999999928,
          "theta": 0.06725218022483123
         },
         {
          "omega": 0.07333152009955919,
          "t": 5.459999999999928,
          "theta": 0.06798888261977026
         },
         {
          "omega": 0.07264797605933498,
          "t": 5.469999999999928,
          "theta": 0.06871878618310454
         },
         {
          "omega": 0.07195716728204463,
          "t": 5.479999999999928,
          "theta": 0.06944181792508596
         },
         {
          "omega": 0.07125916284799017,
          "t": 5.489999999999927,
          "theta": 0.07015790554314286
         },
         {
          "omega": 0.07055403255703334,
          "t": 5.499999999999927,
          "theta": 0.07086697742911018
         },
         {
          "omega": 0.06984184692161564,
          "t": 5.509999999999927,
          "theta": 0.0715689626763902
         },
         {
          "omega": 0.06912267715970713,
          "t": 5.519999999999927,
          "theta": 0.07226379108704317
         },
         {
          "omega": 0.06839659518768469,
          "t": 5.5299999999999265,
          "theta": 0.07295139317880708
         },
         {
          "omega": 0.06766367361314046,
          "t": 5.539999999999926,
          "theta": 0.07363170019204573
         },
         {
          "omega": 0.06692398572762112,
          "t": 5.549999999999926,
          "theta": 0.07430464409662473
         },
         {
          "omega": 0.06617760549929882,
          "t": 5.559999999999926,
          "theta": 0.07497015759871438
         },
         {
          "omega": 0.06542460756557442,
          "t": 5.569999999999926,
          "theta": 0.07562817414751909
         },
         {
          "omega": 0.06466506722561377,
          "t": 5.5799999999999255,
          "theta": 0.07627862794193231
         },
         {
          "omega": 0.06389906043281794,
          "t": 5.589999999999925,
          "theta": 0.07692145393711666
         },
         {
          "omega": 0.06312666378722788,
          "t": 5.599999999999925,
          "theta": 0.07755658785100829
         },
         {
          "omega": 0.06234795452786447,
          "t": 5.609999999999925,
          "theta": 0.07818396617074509
         },
         {
          "omega": 0.06156301052500473,
          "t": 5.619999999999925,
          "theta": 0.07880352615901791
         },
         {
          "omega": 0.06077191027239483,
          "t": 5.629999999999924,
          "theta": 0.07941520586034422
         },
         {
          "omega": 0.05997473287940078,
          "t": 5.639999999999924,
          "theta": 0.0800189441072636
         },
         {
          "omega": 0.05917155806309756,
          "t": 5.649999999999924,
          "theta": 0.08061468052645449
         },
         {
          "omega": 0.058362466140297505,
          "t": 5.659999999999924,
          "theta": 0.08120235554477141
         },
         {
          "omega": 0.057547538019518646,
          "t": 5.6699999999999235,
          "theta": 0.08178191039520226
         },
         {
          "omega": 0.05672685519289396,
          "t": 5.679999999999923,
          "theta": 0.08235328712274495
         },
         {
          "omega": 0.055900499728022204,
          "t": 5.689999999999923,
          "theta": 0.08291642859020289
         },
         {
          "omega": 0.05506855425976124,
          "t": 5.699999999999923,
          "theta": 0.08347127848389858
         },
         {
          "omega": 0.05423110198196461,
          "t": 5.709999999999923,
          "theta": 0.08401778131930507
         },
         {
          "omega": 0.05338822663916222,
          "t": 5.7199999999999225,
          "theta": 0.0845558824465942
         },
         {
          "omega": 0.052540012518185956,
          "t": 5.729999999999922,
          "theta": 0.08508552805610169
         },
         {
          "omega": 0.05168654443974107,
          "t": 5.739999999999922,
          "theta": 0.08560666518370792
         },
         {
          "omega": 0.05082790774992419,
          "t": 5.749999999999922,
          "theta": 0.08611924171613444
         },
         {
          "omega": 0.049964188311688765,
          "t": 5.759999999999922,
          "theta": 0.08662320639615514
         },
         {
          "omega": 0.049095472496258855,
          "t": 5.769999999999921,
          "theta": 0.08711850882772199
         },
         {
          "omega": 0.04822184717449208,
          "t": 5.779999999999921,
          "theta": 0.08760509948100458
         },
         {
          "omega": 0.04734339970819259,
          "t": 5.789999999999921,
          "theta": 0.08808292969734308
         },
         {
          "omega": 0.04646021794137498,
          "t": 5.799999999999921,
          "theta": 0.08855195169411403
         },
         {
          "omega": 0.04557239019147996,
          "t": 5.809999999999921,
          "theta": 0.08901211856950862
         },
         {
          "omega": 0.04468000524054266,
          "t": 5.81999999999992,
          "theta": 0.08946338430722278
         },
         {
          "omega": 0.043783152326314516,
          "t": 5.82999999999992,
          "theta": 0.08990570378105879
         },
         {
          "omega": 0.04288192113333958,
          "t": 5.83999999999992,
          "theta": 0.09033903275943786
         },
         {
          "omega": 0.04197640178398612,
          "t": 5.84999999999992,
          "theta": 0.09076332790982326
         },
         {
          "omega": 0.04106668482943449,
          "t": 5.8599999999999195,
          "theta": 0.09117854680305354
         },
         {
          "omega": 0.04015286124062204,
          "t": 5.869999999999919,
          "theta": 0.09158464791758539
         },
         {
          "omega": 0.039235022399146134,
          "t": 5.879999999999919,
          "theta": 0.09198159064364576
         },
         {
          "omega": 0.03831326008812606,
          "t": 5.889999999999919,
          "theta": 0.09236933528729284
         },
         {
          "omega": 0.03738766648302478,
          "t": 5.899999999999919,
          "theta": 0.09274784307438537
         },
         {
          "omega": 0.036458334142431485,
          "t": 5.909999999999918,
          "theta": 0.09311707615446008
         },
         {
          "omega": 0.03552535599880579,
          "t": 5.919999999999918,
          "theta": 0.09347699760451665
         },
         {
          "omega": 0.03458882534918458,
          "t": 5.929999999999918,
          "theta": 0.09382757143271
         },
         {
          "omega": 0.033648835845852376,
          "t": 5.939999999999918,
          "theta": 0.09416876258194948
         },
         {
          "omega": 0.03270548148697619,
          "t": 5.949999999999918,
          "theta": 0.09450053693340446
         },
         {
          "omega": 0.03175885660720579,
          "t": 5.959999999999917,
          "theta": 0.09482286130991628
         },
         {
          "omega": 0.030809055868240287,
          "t": 5.969999999999917,
          "theta": 0.09513570347931591
         },
         {
          "omega": 0.029856174249362093,
          "t": 5.979999999999917,
          "theta": 0.09543903215764708
         },
         {
          "omega": 0.028900307037939024,
          "t": 5.989999999999917,
          "theta": 0.09573281701229476
         },
         {
          "omega": 0.027941549819895672,
          "t": 5.9999999999999165,
          "theta": 0.0960170286650183
         },
         {
          "omega": 0.02697999847015488,
          "t": 6.009999999999916,
          "theta": 0.09629163869488924
         },
         {
          "omega": 0.026015749143050326,
          "t": 6.019999999999916,
          "theta": 0.09655661964113346
         },
         {
          "omega": 0.02504889826271119,
          "t": 6.029999999999916,
          "theta": 0.09681194500587716
         },
         {
          "omega": 0.024079542513419795,
          "t": 6.039999999999916,
          "theta": 0.09705758925679661
         },
         {
          "omega": 0.023107778829943276,
          "t": 6.0499999999999154,
          "theta": 0.09729352782967145
         },
         {
          "omega": 0.02213370438784018,
          "t": 6.059999999999915,
          "theta": 0.09751973713084099
         },
         {
          "omega": 0.021157416593742994,
          "t": 6.069999999999915,
          "theta": 0.09773619453956361
         },
         {
          "omega": 0.020179013075617556,
          "t": 6.079999999999915,
          "theta": 0.09794287841027885
         },
         {
          "omega": 0.019198591673000347,
          "t": 6.089999999999915,
          "theta": 0.09813976807477184
         },
         {
          "omega": 0.01821625042721461,
          "t": 6.099999999999914,
          "theta": 0.09832684384424023
         },
         {
          "omega": 0.017232087571566312,
          "t": 6.109999999999914,
          "theta": 0.09850408701126295
         },
         {
          "omega": 0.01624620152152088,
          "t": 6.119999999999914,
          "theta": 0.09867147985167102
         },
         {
          "omega": 0.015258690864861755,
          "t": 6.129999999999914,
          "theta": 0.09882900562631988
         },
         {
          "omega": 0.014269654351831678,
          "t": 6.1399999999999135,
          "theta": 0.09897664858276334
         },
         {
          "omega": 0.013279190885257756,
          "t": 6.149999999999913,
          "theta": 0.09911439395682879
         },
         {
          "omega": 0.012287399510661264,
          "t": 6.159999999999913,
          "theta": 0.09924222797409361
         },
         {
          "omega": 0.011294379406353172,
          "t": 6.169999999999913,
          "theta": 0.0993601378512626
         },
         {
          "omega": 0.010300229873516397,
          "t": 6.179999999999913,
          "theta": 0.0994681117974463
         },
         {
          "omega": 0.009305050326275767,
          "t": 6.1899999999999125,
          "theta": 0.09956613901534007
         },
         {
          "omega": 0.008308940281756693,
          "t": 6.199999999999912,
          "theta": 0.09965420970230382
         },
         {
          "omega": 0.007311999350133538,
          "t": 6.209999999999912,
          "theta": 0.09973231505134224
         },
         {
          "omega": 0.006314327224668683,
          "t": 6.219999999999912,
          "theta": 0.0998004472519855
         },
         {
          "omega": 0.005316023671743283,
          "t": 6.229999999999912,
          "theta": 0.09985859949107033
         },
         {
          "omega": 0.004317188520880715,
          "t": 6.239999999999911,
          "theta": 0.09990676595342128
         },
         {
          "omega": 0.003317921654763704,
          "t": 6.249999999999911,
          "theta": 0.09994494182243224
         },
         {
          "omega": 0.0023183229992461427,
          "t": 6.259999999999911,
          "theta": 0.09997312328054814
         },
         {
          "omega": 0.001318492513360587,
          "t": 6.269999999999911,
          "theta": 0.09999130750964663
         },
         {
          "omega": 0.00031853017932243605,
          "t": 6.2799999999999105,
          "theta": 0.09999949269131998
         },
         {
          "omega": -0.0006814640074682061,
          "t": 6.28999999999991,
          "theta": 0.09999767800705683
         },
         {
          "omega": -0.0016813900484259855,
          "t": 6.29999999999991,
          "theta": 0.0999858636383241
         },
         {
          "omega": -0.0026811479517800754,
          "t": 6.30999999999991,
          "theta": 0.09996405076654881
         },
         {
          "omega": -0.0036806377425732694,
          "t": 6.31999999999991,
          "theta": 0.09993224157299996
         },
         {
          "omega": -0.004679759472659393,
          "t": 6.3299999999999095,
          "theta": 0.0998904392385704
         },
         {
          "omega": -0.005678413230698037,
          "t": 6.339999999999909,
          "theta": 0.09983864794345874
         },
         {
          "omega": -0.006676499152145606,
          "t": 6.349999999999909,
          "theta": 0.09977687286675134
         },
         {
          "omega": -0.0076739174292416905,
          "t": 6.359999999999909,
          "theta": 0.09970512018590437
         },
         {
          "omega": -0.00867056832098976,
          "t": 6.369999999999909,
          "theta": 0.09962339707612614
         },
         {
          "omega": -0.00966635216313118,
          "t": 6.379999999999908,
          "theta": 0.0995317117096595
         },
         {
          "omega": -0.010661169378111552,
          "t": 6.389999999999908,
          "theta": 0.09943007325496474
         },
         {
          "omega": -0.011654920485038392,
          "t": 6.399999999999908,
          "theta": 0.09931849187580259
         },
         {
          "omega": -0.012647506109629128,
          "t": 6.409999999999908,
          "theta": 0.09919697873021799
         },
         {
          "omega": -0.013638826994148454,
          "t": 6.419999999999908,
          "theta": 0.09906554596942424
         },
         {
          "omega": -0.014628784007334016,
          "t": 6.429999999999907,
          "theta": 0.0989242067365879
         },
         {
          "omega": -0.015617278154309456,
          "t": 6.439999999999907,
          "theta": 0.09877297516551446
         },
         {
          "omega": -0.01660421058648382,
          "t": 6.449999999999907,
          "theta": 0.09861186637923501
         },
         {
          "omega": -0.017589482611436332,
          "t": 6.459999999999907,
          "theta": 0.09844089648849393
         },
         {
          "omega": -0.018572995702785554,
          "t": 6.4699999999999065,
          "theta": 0.0982600825901378
         },
         {
          "omega": -0.019554651510041942,
          "t": 6.479999999999906,
          "theta": 0.09806944276540579
         },
         {
          "omega": -0.020534351868442813,
          "t": 6.489999999999906,
          "theta": 0.0978689960781215
         },
         {
          "omega": -0.021511998808768744,
          "t": 6.499999999999906,
          "theta": 0.09765876257278662
         },
         {
          "omega": -0.0224874945671404,
          "t": 6.509999999999906,
          "theta": 0.0974387632725765
         },
         {
          "omega": -0.02346074159479486,
          "t": 6.519999999999905,
          "theta": 0.09720902017723781
         },
         {
          "omega": -0.024431642567840393,
          "t": 6.529999999999905,
          "theta": 0.09696955626088866
         },
         {
          "omega": -0.025400100396988774,
          "t": 6.539999999999905,
          "theta": 0.0967203954697211
         },
         {
          "omega": -0.026366018237264137,
          "t": 6.549999999999905,
          "theta": 0.09646156271960662
         },
         {
          "omega": -0.027329299497687382,
          "t": 6.559999999999905,
          "theta": 0.09619308389360456
         },
         {
          "omega": -0.028289847850935197,
          "t": 6.569999999999904,
          "theta": 0.09591498583937379
         },
         {
          "omega": -0.029247567242972713,
          "t": 6.579999999999904,
          "theta": 0.09562729636648795
         },
         {
          "omega": -0.030202361902658823,
          "t": 6.589999999999904,
          "theta": 0.09533004424365463
         },
         {
          "omega": -0.03115413635132322,
          "t": 6.599999999999904,
          "theta": 0.09502325919583837
         },
         {
          "omega": -0.03210279541231417,
          "t": 6.6099999999999035,
          "theta": 0.09470697190128832
         },
         {
          "omega": -0.03304824422051614,
          "t": 6.619999999999903,
          "theta": 0.09438121398847035
         },
         {
          "omega": -0.033990388231836165,
          "t": 6.629999999999903,
          "theta": 0.09404601803290429
         },
         {
          "omega": -0.034929133232658234,
          "t": 6.639999999999903,
          "theta": 0.09370141755390635
         },
         {
          "omega": -0.03586438534926455,
          "t": 6.649999999999903,
          "theta": 0.09334744701123728
         },
         {
          "omega": -0.036796051057222834,
          "t": 6.659999999999902,
          "theta": 0.09298414180165636
         },
         {
          "omega": -0.03772403719073866,
          "t": 6.669999999999902,
          "theta": 0.0926115382553818
         },
         {
          "omega": -0.03864825095197201,
          "t": 6.679999999999902,
          "theta": 0.09222967363245774
         },
         {
          "omega": -0.03956859992031693,
          "t": 6.689999999999902,
          "theta": 0.09183858611902823
         },
         {
          "omega": -0.04048499206164354,
          "t": 6.699999999999902,
          "theta": 0.09143831482351872
         },
         {
          "omega": -0.041397335737501366,
          "t": 6.709999999999901,
          "theta": 0.0910288997727252
         },
         {
          "omega": -0.04230553971428311,
          "t": 6.719999999999901,
          "theta": 0.09061038190781158
         },
         {
          "omega": -0.04320951317234792,
          "t": 6.729999999999901,
          "theta": 0.09018280308021558
         },
         {
          "omega": -0.0441091657151033,
          "t": 6.739999999999901,
          "theta": 0.08974620604746364
         },
         {
          "omega": -0.04500440737804469,
          "t": 6.7499999999999005,
          "theta": 0.0893006344688952
         },
         {
          "omega": -0.04589514863775182,
          "t": 6.7599999999999,
          "theta": 0.08884613290129684
         },
         {
          "omega": -0.046781300420841006,
          "t": 6.7699999999999,
          "theta": 0.08838274679444653
         },
         {
          "omega": -0.0476627741128724,
          "t": 6.7799999999999,
          "theta": 0.08791052248656883
         },
         {
          "omega": -0.04853948156721134,
          "t": 6.7899999999999,
          "theta": 0.087429507199701
         },
         {
          "omega": -0.049411335113843,
          "t": 6.7999999999998995,
          "theta": 0.08693974903497087
         },
         {
          "omega": -0.05027824756813925,
          "t": 6.809999999999899,
          "theta": 0.0864412969677868
         },
         {
          "omega": -0.051140132239577085,
          "t": 6.819999999999899,
          "theta": 0.08593420084294012
         },
         {
          "omega": -0.0519969029404076,
          "t": 6.829999999999899,
          "theta": 0.08541851136962075
         },
         {
          "omega": -0.052848473994274676,
          "t": 6.839999999999899,
          "theta": 0.08489428011634627
         },
         {
          "omega": -0.05369476024478258,
          "t": 6.849999999999898,
          "theta": 0.08436155950580515
         },
         {
          "omega": -0.05453567706401148,
          "t": 6.859999999999898,
          "theta": 0.08382040280961452
         },
         {
          "omega": -0.05537114036098023,
          "t": 6.869999999999898,
          "theta": 0.08327086414299302
         },
         {
          "omega": -0.056201066590055346,
          "t": 6.879999999999898,
          "theta": 0.08271299845934939
         },
         {
          "omega": -0.05702537275930552,
          "t": 6.8899999999998975,
          "theta": 0.08214686154478709
         },
         {
          "omega": -0.05784397643880075,
          "t": 6.899999999999897,
          "theta": 0.0815725100125258
         },
         {
          "omega": -0.058656795768855255,
          "t": 6.909999999999897,
          "theta": 0.08099000129724013
         },
         {
          "omega": -0.059463749468213374,
          "t": 6.919999999999897,
          "theta": 0.08039939364931617
         },
         {
          "omega": -0.06026475684217763,
          "t": 6.929999999999897,
          "theta": 0.07980074612902656
         },
         {
          "omega": -0.06105973779067813,
          "t": 6.9399999999998965,
          "theta": 0.07919411860062445
         },
         {
          "omega": -0.06184861281628251,
          "t": 6.949999999999896,
          "theta": 0.07857957172635714
         },
         {
          "omega": -0.0626313030321456,
          "t": 6.959999999999896,
          "theta": 0.07795716696039996
         },
         {
          "omega": -0.06340773016989806,
          "t": 6.969999999999896,
          "theta": 0.07732696654271083
         },
         {
          "omega": -0.06417781658747312,
          "t": 6.979999999999896,
          "theta": 0.07668903349280635
         },
         {
          "omega": -0.06494148527687077,
          "t": 6.989999999999895,
          "theta": 0.07604343160345992
         },
         {
          "omega": -0.06569865987185845,
          "t": 6.999999999999895,
          "theta": 0.07539022543432244
         },
         {
          "omega": -0.06644926465560766,
          "t": 7.009999999999895,
          "theta": 0.07472948030546653
         },
         {
          "omega": -0.0671932245682655,
          "t": 7.019999999999895,
          "theta": 0.07406126229085441
         },
         {
          "omega": -0.06793046521446068,
          "t": 7.0299999999998946,
          "theta": 0.07338563821173073
         },
         {
          "omega": -0.06866091287074295,
          "t": 7.039999999999894,
          "theta": 0.07270267562994037
         },
         {
          "omega": -0.06938449449295539,
          "t": 7.049999999999894,
          "theta": 0.07201244284117238
         },
         {
          "omega": -0.07010113772353875,
          "t": 7.059999999999894,
          "theta": 0.07131500886813044
         },
         {
          "omega": -0.07081077089876717,
          "t": 7.069999999999894,
          "theta": 0.07061044345363067
         },
         {
          "omega": -0.07151332305591449,
          "t": 7.0799999999998935,
          "theta": 0.06989881705362737
         },
         {
          "omega": -0.07220872394035045,
          "t": 7.089999999999893,
          "theta": 0.06918020083016753
         },
         {
          "omega": -0.07289690401256613,
          "t": 7.099999999999893,
          "theta": 0.06845466664427464
         },
         {
          "omega": -0.07357779445512776,
          "t": 7.109999999999893,
          "theta": 0.06772228704876271
         },
         {
          "omega": -0.0742513271795585,
          "t": 7.119999999999893,
          "theta": 0.06698313528098095
         },
         {
          "omega": -0.07491743483314718,
          "t": 7.129999999999892,
          "theta": 0.06623728525549018
         },
         {
          "omega": -0.07557605080568354,
          "t": 7.139999999999892,
          "theta": 0.06548481155667141
         },
         {
          "omega": -0.07622710923611917,
          "t": 7.149999999999892,
          "theta": 0.06472578943126747
         },
         {
          "omega": -0.07687054501915355,
          "t": 7.159999999999892,
          "theta": 0.06396029478085839
         },
         {
          "omega": -0.0775062938117446,
          "t": 7.169999999999892,
          "theta": 0.0631884041542713
         },
         {
          "omega": -0.07813429203954285,
          "t": 7.179999999999891,
          "theta": 0.062410194739925595
         },
         {
          "omega": -0.07875447690324883,
          "t": 7.189999999999891,
          "theta": 0.06162574435811423
         },
         {
          "omega": -0.07936678638489299,
          "t": 7.199999999999891,
          "theta": 0.06083513145322166
         },
         {
          "omega": -0.07997115925403743,
          "t": 7.209999999999891,
          "theta": 0.06003843508587955
         },
         {
          "omega": -0.08056753507389888,
          "t": 7.2199999999998905,
          "theta": 0.059235734925060714
         },
         {
          "omega": -0.08115585420739233,
          "t": 7.22999999999989,
          "theta": 0.05842711124011232
         },
         {
          "omega": -0.08173605782309469,
          "t": 7.23999999999989,
          "theta": 0.05761264489272901
         },
         {
          "omega": -0.0823080879011279,
          "t": 7.24999999999989,
          "theta": 0.056792417328866814
         },
         {
          "omega": -0.08287188723896083,
          "t": 7.25999999999989,
          "theta": 0.05596651057059858
         },
         {
          "omega": -0.08342739945712954,
          "t": 7.269999999999889,
          "theta": 0.05513500720791189
         },
         {
          "omega": -0.08397456900487515,
          "t": 7.279999999999889,
          "theta": 0.0542979903904501
         },
         {
          "omega": -0.08451334116569885,
          "t": 7.289999999999889,
          "theta": 0.05345554381919744
         },
         {
          "omega": -0.08504366206283352,
          "t": 7.299999999999889,
          "theta": 0.052607751738109
         },
         {
          "omega": -0.08556547866463139,
          "t": 7.309999999999889,
          "theta": 0.05175469892568639
         },
         {
          "omega": -0.08607873878986713,
          "t": 7.319999999999888,
          "theta": 0.05089647068649999
         },
         {
          "omega": -0.08658339111295592,
          "t": 7.329999999999888,
          "theta": 0.050033152842658524
         },
         {
          "omega": -0.087079385169086,
          "t": 7.339999999999888,
          "theta": 0.04916483172522695
         },
         {
          "omega": -0.08756667135926509,
          "t": 7.349999999999888,
          "theta": 0.04829159416559341
         },
         {
          "omega": -0.08804520095528023,
          "t": 7.3599999999998875,
          "theta": 0.047413527486786164
         },
         {
          "omega": -0.08851492610457061,
          "t": 7.369999999999887,
          "theta": 0.046530719494741385
         },
         {
          "omega": -0.08897579983501272,
          "t": 7.379999999999887,
          "theta": 0.04564325846952261
         },
         {
          "omega": -0.08942777605961758,
          "t": 7.389999999999887,
          "theta": 0.0447512331564928
         },
         {
          "omega": -0.08987080958113937,
          "t": 7.399999999999887,
          "theta": 0.04385473275743991
         },
         {
          "omega": -0.09030485609659514,
          "t": 7.4099999999998865,
          "theta": 0.04295384692165677
         },
         {
          "omega": -0.09072987220169505,
          "t": 7.419999999999886,
          "theta": 0.042048665736976215
         },
         {
          "omega": -0.09114581539518277,
          "t": 7.429999999999886,
          "theta": 0.0411392797207624
         },
         {
          "omega": -0.09155264408308555,
          "t": 7.439999999999886,
          "theta": 0.04022577981085913
         },
         {
          "omega": -0.09195031758287366,
          "t": 7.449999999999886,
          "theta": 0.03930825735649615
         },
         {
          "omega": -0.09233879612752847,
          "t": 7.459999999999885,
          "theta": 0.03838680410915429
         },
         {
          "omega": -0.09271804086951928,
          "t": 7.469999999999885,
          "theta": 0.03746151221339041
         },
         {
          "omega": -0.0930880138846879,
          "t": 7.479999999999885,
          "theta": 0.03653247419762302
         },
         {
          "omega": -0.09344867817604115,
          "t": 7.489999999999885,
          "theta": 0.035599782964879485
         },
         {
          "omega": -0.09379999767745043,
          "t": 7.4999999999998845,
          "theta": 0.034663531783505855
         },
         {
          "omega": -0.09414193725725836,
          "t": 7.509999999999884,
          "theta": 0.033723814277840054
         },
         {
          "omega": -0.09447446272179193,
          "t": 7.519999999999884,
          "theta": 0.032780724418849556
         },
         {
          "omega": -0.09479754081878178,
          "t": 7.529999999999884,
          "theta": 0.031834356514734354
         },
         {
          "omega": -0.09511113924068744,
          "t": 7.539999999999884,
          "theta": 0.03088480520149622
         },
         {
          "omega": -0.09541522662792805,
          "t": 7.5499999999998835,
          "theta": 0.02993216543347519
         },
         {
          "omega": -0.09570977257201829,
          "t": 7.559999999999883,
          "theta": 0.0289765324738542
         },
         {
          "omega": -0.09599474761860921,
          "t": 7.569999999999883,
          "theta": 0.028018001885132857
         },
         {
          "omega": -0.09627012327043362,
          "t": 7.579999999999883,
          "theta": 0.027056669519571256
         },
         {
          "omega": -0.09653587199015583,
          "t": 7.589999999999883,
          "theta": 0.02609263150960485
         },
         {
          "omega": -0.0967919672031253,
          "t": 7.599999999999882,
          "theta": 0.02512598425823127
         },
         {
          "omega": -0.09703838330003417,
          "t": 7.609999999999882,
          "theta": 0.02415682442937012
         },
         {
          "omega": -0.09727509563947809,
          "t": 7.619999999999882,
          "theta": 0.02318524893819665
         },
         {
          "omega": -0.09750208055042037,
          "t": 7.629999999999882,
          "theta": 0.02221135494145034
         },
         {
          "omega": -0.09771931533455906,
          "t": 7.6399999999998816,
          "theta": 0.021235239827719285
         },
         {
          "omega": -0.0979267782685968,
          "t": 7.649999999999881,
          "theta": 0.020257001207701433
         },
         {
          "omega": -0.09812444860641306,
          "t": 7.659999999999881,
          "theta": 0.01927673690444359
         },
         {
          "omega": -0.09831230658113878,
          "t": 7.669999999999881,
          "theta": 0.018294544943559195
         },
         {
          "omega": -0.09849033340713303,
          "t": 7.679999999999881,
          "theta": 0.01731052354342585
         },
         {
          "omega": -0.09865851128186158,
          "t": 7.6899999999998805,
          "theta": 0.016324771105363553
         },
         {
          "omega": -0.09881682338767708,
          "t": 7.69999999999988,
          "theta": 0.01533738620379465
         },
         {
          "omega": -0.0989652538935009,
          "t": 7.70999999999988,
          "theta": 0.014348467576386479
         },
         {
          "omega": -0.09910378795640613,
          "t": 7.71999999999988,
          "theta": 0.013358114114177687
         },
         {
          "omega": -0.09923241172310195,
          "t": 7.72999999999988,
          "theta": 0.012366424851689203
         },
         {
          "omega": -0.09935111233131885,
          "t": 7.739999999999879,
          "theta": 0.01137349895702087
         },
         {
          "omega": -0.09945987791109494,
          "t": 7.749999999999879,
          "theta": 0.01037943572193472
         },
         {
          "omega": -0.09955869758596288,
          "t": 7.759999999999879,
          "theta": 0.009384334551925878
         },
         {
          "omega": -0.09964756147403753,
          "t": 7.769999999999879,
          "theta": 0.008388294956282096
         },
         {
          "omega": -0.09972646068900412,
          "t": 7.779999999999879,
          "theta": 0.007391416538132909
         },
         {
          "omega": -0.09979538734100693,
          "t": 7.789999999999878,
          "theta": 0.006393798984489403
         },
         {
          "omega": -0.09985433453743818,
          "t": 7.799999999999878,
          "theta": 0.005395542056275597
         },
         {
          "omega": -0.09990329638362735,
          "t": 7.809999999999878,
          "theta": 0.004396745578352433
         },
         {
          "omega": -0.09994226798343064,
          "t": 7.819999999999878,
          "theta": 0.0033975094295353777
         },
         {
          "omega": -0.09997124543972052,
          "t": 7.8299999999998775,
          "theta": 0.0023979335326066178
         },
         {
          "omega": -0.09999022585477553,
          "t": 7.839999999999877,
          "theta": 0.0013981178443228692
         },
         {
          "omega": -0.09999920733056997,
          "t": 7.849999999999877,
          "theta": 0.00039816234541978314
         },
         {
          "omega": -0.09999818896896374,
          "t": 7.859999999999877,
          "theta": -0.0006018329693860435
         },
         {
          "omega": -0.09998717087179218,
          "t": 7.869999999999877,
          "theta": -0.001601768101396457
         },
         {
          "omega": -0.0999661541408558,
          "t": 7.879999999999876,
          "theta": -0.0026015430579315324
         },
         {
          "omega": -0.09993514087781018,
          "t": 7.889999999999876,
          "theta": -0.003601057862328759
         },
         {
          "omega": -0.09989413418395579,
          "t": 7.899999999999876,
          "theta": -0.0046002125639406245
         },
         {
          "omega": -0.09984313815992783,
          "t": 7.909999999999876,
          "theta": -0.0055989072481295935
         },
         {
          "omega": -0.09978215790528623,
          "t": 7.919999999999876,
          "theta": -0.0065970420462594884
         },
         {
          "omega": -0.09971119951800561,
          "t": 7.929999999999875,
          "theta": -0.007594517145682274
         },
         {
          "omega": -0.09963027009386559,
          "t": 7.939999999999875,
          "theta": -0.008591232799719234
         },
         {
          "omega": -0.09953937772574113,
          "t": 7.949999999999875,
          "theta": -0.009587089337635558
         },
         {
          "omega": -0.0994385315027933,
          "t": 7.959999999999875,
          "theta": -0.010581987174607333
         },
         {
          "omega": -0.09932774150956036,
          "t": 7.9699999999998745,
          "theta": -0.01157582682167994
         },
         {
          "omega": -0.09920701882494931,
          "t": 7.979999999999874,
          "theta": -0.012568508895716868
         },
         {
          "omega": -0.099076375521128,
          "t": 7.989999999999874,
          "theta": -0.013559934129337948
         },
         {
          "omega": -0.09893582466231794,
          "t": 7.999999999999874,
          "theta": -0.014550003380846
         },
         {
          "omega": -0.09878538030348791,
          "t": 8.009999999999874,
          "theta": -0.01553861764414093
         },
         {
          "omega": -0.0986250574889484,
          "t": 8.019999999999873,
          "theta": -0.01652567805862025
         },
         {
          "omega": -0.09845487225084727,
          "t": 8.029999999999873,
          "theta": -0.01751108591906506
         },
         {
          "omega": -0.09827484160756651,
          "t": 8.039999999999873,
          "theta": -0.018494742685510487
         },
         {
          "omega": -0.09808498356202042,
          "t": 8.049999999999873,
          "theta": -0.019476549993099595
         },
         {
          "omega": -0.09788531709985535,
          "t": 8.059999999999873,
          "theta": -0.0204564096619198
         },
         {
          "omega": -0.0976758621875511,
          "t": 8.069999999999872,
          "theta": -0.02143422370682076
         },
         {
          "omega": -0.09745663977042439,
          "t": 8.079999999999872,
          "theta": -0.02240989434721283
         },
         {
          "omega": -0.09722767177053424,
          "t": 8.089999999999872,
          "theta": -0.023383324016845033
         },
         {
          "omega": -0.09698898108448982,
          "t": 8.099999999999872,
          "theta": -0.024354415373561585
         },
         {
          "omega": -0.09674059158116083,
          "t": 8.109999999999872,
          "theta": -0.02532307130903606
         },
         {
          "omega": -0.09648252809929062,
          "t": 8.119999999999871,
          "theta": -0.026289194958482122
         },
         {
          "omega": -0.09621481644501231,
          "t": 8.129999999999871,
          "theta": -0.027252689710339922
         },
         {
          "omega": -0.09593748338926826,
          "t": 8.139999999999871,
          "theta": -0.028213459215937188
         },
         {
          "omega": -0.09565055666513292,
          "t": 8.14999999999987,
          "theta": -0.029171407399123998
         },
         {
          "omega": -0.09535406496503959,
          "t": 8.15999999999987,
          "theta": -0.03012643846588032
         },
         {
          "omega": -0.09504803793791122,
          "t": 8.16999999999987,
          "theta": -0.031078456913895335
         },
         {
          "omega": -0.0947325061861955,
          "t": 8.17999999999987,
          "theta": -0.03202736754211759
         },
         {
          "omega": -0.09440750126280464,
          "t": 8.18999999999987,
          "theta": -0.03297307546027501
         },
         {
          "omega": -0.09407305566796016,
          "t": 8.19999999999987,
          "theta": -0.03391548609836388
         },
         {
          "omega": -0.09372920284594284,
          "t": 8.20999999999987,
          "theta": -0.034854505216105724
         },
         {
          "omega": -0.09337597718174832,
          "t": 8.21999999999987,
          "theta": -0.03579003891237128
         },
         {
          "omega": -0.09301341399764869,
          "t": 8.229999999999869,
          "theta": -0.03672199363457053
         },
         {
          "omega": -0.09264154954966021,
          "t": 8.239999999999869,
          "theta": -0.03765027618800788
         },
         {
          "omega": -0.09226042102391781,
          "t": 8.249999999999869,
          "theta": -0.03857479374520156
         },
         {
          "omega": -0.09187006653295644,
          "t": 8.259999999999868,
          "theta": -0.03949545385516628
         },
         {
          "omega": -0.09147052511189992,
          "t": 8.269999999999868,
          "theta": -0.04041216445265824
         },
         {
          "omega": -0.09106183671455738,
          "t": 8.279999999999868,
          "theta": -0.04132483386738162
         },
         {
          "omega": -0.090644042209428,
          "t": 8.289999999999868,
          "theta": -0.04223337083315552
         },
         {
          "omega": -0.09021718337561413,
          "t": 8.299999999999867,
          "theta": -0.04313768449704046
         },
         {
          "omega": -0.08978130289864343,
          "t": 8.309999999999867,
          "theta": -0.044037684428423644
         },
         {
          "omega": -0.08933644436620038,
          "t": 8.319999999999867,
          "theta": -0.044933280628061935
         },
         {
          "omega": -0.08888265226376749,
          "t": 8.329999999999867,
          "theta": -0.045824383537081695
         },
         {
          "omega": -0.08841997197017686,
          "t": 8.339999999999867,
          "theta": -0.04671090404593461
         },
         {
          "omega": -0.08794844975307227,
          "t": 8.349999999999866,
          "theta": -0.04759275350330855
         },
         {
          "omega": -0.0874681327642825,
          "t": 8.359999999999866,
          "theta": -0.048469843724992655
         },
         {
          "omega": -0.08697906903510617,
          "t": 8.369999999999866,
          "theta": -0.04934208700269566
         },
         {
          "omega": -0.08648130747150866,
          "t": 8.379999999999866,
          "theta": -0.05020939611281667
         },
         {
          "omega": -0.0859748978492315,
          "t": 8.389999999999866,
          "theta": -0.05107168432516742
         },
         {
          "omega": -0.08545989080881493,
          "t": 8.399999999999865,
          "theta": -0.05192886541164524
         },
         {
          "omega": -0.08493633785053382,
          "t": 8.409999999999865,
          "theta": -0.05278085365485582
         },
         {
          "omega": -0.0844042913292477,
          "t": 8.419999999999865,
          "theta": -0.0536275638566848
         },
         {
          "omega": -0.08386380444916534,
          "t": 8.429999999999865,
          "theta": -0.054468911346817604
         },
         {
          "omega": -0.08331493125852434,
          "t": 8.439999999999864,
          "theta": -0.055304811991206335
         },
         {
          "omega": -0.08275772664418635,
          "t": 8.449999999999864,
          "theta": -0.05613518220048313
         },
         {
          "omega": -0.0821922463261485,
          "t": 8.459999999999864,
          "theta": -0.05695993893831904
         },
         {
          "omega": -0.08161854685197133,
          "t": 8.469999999999864,
          "theta": -0.05777899972972758
         },
         {
          "omega": -0.0810366855911242,
          "t": 8.479999999999864,
          "theta": -0.05859228266931215
         },
         {
          "omega": -0.0804467207292483,
          "t": 8.489999999999863,
          "theta": -0.05939970642945653
         },
         {
          "omega": -0.0798487112623382,
          "t": 8.499999999999863,
          "theta": -0.06020119026845755
         },
         {
          "omega": -0.07924271699084222,
          "t": 8.509999999999863,
          "theta": -0.06099665403859922
         },
         {
          "omega": -0.07862879851368254,
          "t": 8.519999999999863,
          "theta": -0.0617860181941674
         },
         {
          "omega": -0.07800701722219527,
          "t": 8.529999999999863,
          "theta": -0.06256920379940435
         },
         {
          "omega": -0.07737743529399142,
          "t": 8.539999999999862,
          "theta": -0.06334613253640219
         },
         {
          "omega": -0.07674011568673915,
          "t": 8.549999999999862,
          "theta": -0.06411672671293464
         },
         {
          "omega": -0.07609512213186809,
          "t": 8.559999999999862,
          "theta": -0.06488090927022623
         },
         {
          "omega": -0.07544251912819623,
          "t": 8.569999999999862,
          "theta": -0.06563860379065804
         },
         {
          "omega": -0.07478237193548011,
          "t": 8.579999999999862,
          "theta": -0.06638973450540944
         },
         {
          "omega": -0.07411474656788888,
          "t": 8.589999999999861,
          "theta": -0.0671342263020349
         },
         {
          "omega": -0.07343970978740295,
          "t": 8.599999999999861,
          "theta": -0.06787200473197516
         },
         {
          "omega": -0.07275732909713784,
          "t": 8.60999999999986,
          "theta": -0.06860299601800203
         },
         {
          "omega": -0.0720676727345939,
          "t": 8.61999999999986,
          "theta": -0.06932712706159608
         },
         {
          "omega": -0.07137080966483271,
          "t": 8.62999999999986,
          "theta": -0.07004432545025638
         },
         {
          "omega": -0.07066680957358051,
          "t": 8.63999999999986,
          "theta": -0.07075451946474173
         },
         {
          "omega": -0.06995574286025977,
          "t": 8.64999999999986,
          "theta": -0.07145763808624252
         },
         {
          "omega": -0.06923768063094926,
          "t": 8.65999999999986,
          "theta": -0.0721536110034825
         },
         {
          "omega": -0.06851269469127352,
          "t": 8.66999999999986,
          "theta": -0.07284236861974995
         },
         {
          "omega": -0.06778085753922239,
          "t": 8.67999999999986,
          "theta": -0.0735238420598572
         },
         {
          "omega": -0.06704224235790118,
          "t": 8.68999999999986,
          "theta": -0.07419796317702812
         },
         {
          "omega": -0.06629692300821255,
          "t": 8.699999999999859,
          "theta": -0.07486466455971277
         },
         {
          "omega": -0.06554497402147035,
          "t": 8.709999999999859,
          "theta": -0.07552387953832847
         },
         {
          "omega": -0.06478647059194662,
          "t": 8.719999999999859,
          "theta": -0.07617554219192668
         },
         {
          "omega": -0.06402148856935225,
          "t": 8.729999999999858,
          "theta": -0.07681958735478511
         },
         {
          "omega": -0.063250104451252,
          "t": 8.739999999999858,
          "theta": -0.07745595062292417
         },
         {
          "omega": -0.06247239537541487,
          "t": 8.749999999999858,
          "theta": -0.07808456836054735
         },
         {
          "omega": -0.06168843911210036,
          "t": 8.759999999999858,
          "theta": -0.07870537770640473
         },
         {
          "omega": -0.0608983140562815,
          "t": 8.769999999999857,
          "theta": -0.07931831658007907
         },
         {
          "omega": -0.060102099219805444,
          "t": 8.779999999999857,
          "theta": -0.07992332368819377
         },
         {
          "omega": -0.05929987422349232,
          "t": 8.789999999999857,
          "theta": -0.0805203385305422
         },
         {
          "omega": -0.05849171928917324,
          "t": 8.799999999999857,
          "theta": -0.08110930140613765
         },
         {
          "omega": -0.05767771523166818,
          "t": 8.809999999999857,
          "theta": -0.08169015341918333
         },
         {
          "omega": -0.056857943450704565,
          "t": 8.819999999999856,
          "theta": -0.082262836484962
         },
         {
          "omega": -0.05603248592277734,
          "t": 8.829999999999856,
          "theta": -0.0828272933356443
         },
         {
          "omega": -0.05520142519295142,
          "t": 8.839999999999856,
          "theta": -0.08338346752601555
         },
         {
          "omega": -0.05436484436660723,
          "t": 8.849999999999856,
          "theta": -0.0839313034391202
         },
         {
          "omega": -0.05352282710113028,
          "t": 8.859999999999856,
          "theta": -0.08447074629182345
         },
         {
          "omega": -0.05267545759754542,
          "t": 8.869999999999855,
          "theta": -0.08500174214028958
         },
         {
          "omega": -0.05182282059209687,
          "t": 8.879999999999855,
          "theta": -0.08552423788537622
         },
         {
          "omega": -0.05096500134777465,
          "t": 8.889999999999855,
          "theta": -0.08603818127794428
         },
         {
          "omega": -0.05010208564578835,
          "t": 8.899999999999855,
          "theta": -0.0865435209240828
         },
         {
          "omega": -0.04923415977698907,
          "t": 8.909999999999854,
          "theta": -0.08704020629024826
         },
         {
          "omega": -0.04836131053324042,
          "t": 8.919999999999854,
          "theta": -0.08752818770831797
         },
         {
          "omega": -0.04748362519873941,
          "t": 8.929999999999854,
          "theta": -0.08800741638055676
         },
         {
          "omega": -0.04660119154128808,
          "t": 8.939999999999854,
          "theta": -0.08847784438449675
         },
         {
          "omega": -0.04571409780351682,
          "t": 8.949999999999854,
          "theta": -0.0889394246777296
         },
         {
          "omega": -0.04482243269406016,
          "t": 8.959999999999853,
          "theta": -0.08939211110261061
         },
         {
          "omega": -0.043926285378686,
          "t": 8.969999999999853,
          "theta": -0.08983585839087455
         },
         {
          "omega": -0.043025745471379086,
          "t": 8.979999999999853,
          "theta": -0.09027062216816235
         },
         {
          "omega": -0.042120903025379706,
          "t": 8.989999999999853,
          "theta": -0.09069635895845861
         },
         {
          "omega": -0.041211848524178425,
          "t": 8.999999999999853,
          "theta": -0.09111302618843907
         },
         {
          "omega": -0.040298672872467814,
          "t": 9.009999999999852,
          "theta": -0.09152058219172796
         },
         {
          "omega": -0.039381467387052074,
          "t": 9.019999999999852,
          "theta": -0.09191898621306456
         },
         {
          "omega": -0.03846032378771541,
          "t": 9.029999999999852,
          "theta": -0.09230819841237876
         },
         {
          "omega": -0.03753533418805014,
          "t": 9.039999999999852,
          "theta": -0.09268817986877498
         },
         {
          "omega": -0.03660659108624541,
          "t": 9.049999999999851,
          "theta": -0.09305889258442421
         },
         {
          "omega": -0.03567418735583744,
          "t": 9.059999999999851,
          "theta": -0.0934202994883638
         },
         {
          "omega": -0.03473821623642228,
          "t": 9.069999999999851,
          "theta": -0.09377236444020456
         },
         {
          "omega": -0.03379877132433189,
          "t": 9.07999999999985,
          "theta": -0.09411505223374468
         },
         {
          "omega": -0.032855946563274625,
          "t": 9.08999999999985,
          "theta": -0.09444832860049036
         },
         {
          "omega": -0.0319098362349409,
          "t": 9.09999999999985,
          "theta": -0.09477216021308268
         },
         {
          "omega": -0.030960534949575114,
          "t": 9.10999999999985,
          "theta": -0.09508651468863023
         },
         {
          "omega": -0.030008137636514734,
          "t": 9.11999999999985,
          "theta": -0.09539136059194742
         },
         {
          "omega": -0.029052739534697402,
          "t": 9.12999999999985,
          "theta": -0.09568666743869794
         },
         {
          "omega": -0.028094436183137134,
          "t": 9.13999999999985,
          "theta": -0.09597240569844322
         },
         {
          "omega": -0.027133323411370508,
          "t": 9.14999999999985,
          "theta": -0.09624854679759538
         },
         {
          "omega": -0.02616949732987377,
          "t": 9.15999999999985,
          "theta": -0.09651506312227465
         },
         {
          "omega": -0.02520305432045189,
          "t": 9.169999999999849,
          "theta": -0.09677192802107064
         },
         {
          "omega": -0.02423409102660044,
          "t": 9.179999999999849,
          "theta": -0.09701911580770753
         },
         {
          "omega": -0.02326270434384134,
          "t": 9.189999999999849,
          "theta": -0.09725660176361264
         },
         {
          "omega": -0.022288991410033376,
          "t": 9.199999999999848,
          "theta": -0.09748436214038829
         },
         {
          "omega": -0.02131304959565851,
          "t": 9.209999999999848,
          "theta": -0.09770237416218659
         },
         {
          "omega": -0.020334976494084892,
          "t": 9.219999999999848,
          "theta": -0.09791061602798705
         },
         {
          "omega": -0.019354869911807623,
          "t": 9.229999999999848,
          "theta": -0.09810906691377662
         },
         {
          "omega": -0.01837282785866818,
          "t": 9.239999999999847,
          "theta": -0.0982977069746321
         },
         {
          "omega": -0.01738894853805351,
          "t": 9.249999999999847,
          "theta": -0.0984765173467046
         },
         {
          "omega": -0.016403330337075774,
          "t": 9.259999999999847,
          "theta": -0.09864548014910592
         },
         {
          "omega": -0.01541607181673373,
          "t": 9.269999999999847,
          "theta": -0.09880457848569661
         },
         {
          "omega": -0.014427271702056696,
          "t": 9.279999999999847,
          "theta": -0.09895379644677561
         },
         {
          "omega": -0.013437028872232144,
          "t": 9.289999999999846,
          "theta": -0.09909311911067116
         },
         {
          "omega": -0.012445442350717857,
          "t": 9.299999999999846,
          "theta": -0.09922253254523297
         },
         {
          "omega": -0.011452611295339664,
          "t": 9.309999999999846,
          "theta": -0.09934202380922542
         },
         {
          "omega": -0.010458634988375749,
          "t": 9.319999999999846,
          "theta": -0.0994515809536217
         },
         {
          "omega": -0.009463612826628498,
          "t": 9.329999999999846,
          "theta": -0.09955119302279865
         },
         {
          "omega": -0.008467644311484902,
          "t": 9.339999999999845,
          "theta": -0.09964085005563238
         },
         {
          "omega": -0.0074708290389665045,
          "t": 9.349999999999845,
          "theta": -0.0997205430864943
         },
         {
          "omega": -0.006473266689769881,
          "t": 9.359999999999845,
          "theta": -0.09979026414614776
         },
         {
          "omega": -0.005475057019298652,
          "t": 9.369999999999845,
          "theta": -0.09985000626254488
         },
         {
          "omega": -0.004476299847688026,
          "t": 9.379999999999844,
          "theta": -0.0998997634615238
         },
         {
          "omega": -0.0034770950498228697,
          "t": 9.389999999999844,
          "theta": -0.09993953076740608
         },
         {
          "omega": -0.002477542545350301,
          "t": 9.399999999999844,
          "theta": -0.0999693042034943
         },
         {
          "omega": -0.00147774228868781,
          "t": 9.409999999999844,
          "theta": -0.09998908079246964
         },
         {
          "omega": -0.00047779425902789844,
          "t": 9.419999999999844,
          "theta": -0.09999885855668969
         },
         {
          "omega": 0.0005222015496597547,
          "t": 9.429999999999843,
          "theta": -0.09999863651838618
         },
         {
          "omega": 0.0015221451386276076,
          "t": 9.439999999999843,
          "theta": -0.09998841469976276
         },
         {
          "omega": 0.0025219365143500476,
          "t": 9.449999999999843,
          "theta": -0.09996819412299275
         },
         {
          "omega": 0.0035214756985226586,
          "t": 9.459999999999843,
          "theta": -0.099937976810117
         },
         {
          "omega": 0.00452066273805997,
          "t": 9.469999999999843,
          "theta": -0.09989776578284161
         },
         {
          "omega": 0.005519397715090682,
          "t": 9.479999999999842,
          "theta": -0.0998475650622358
         },
         {
          "omega": 0.006517580756949366,
          "t": 9.489999999999842,
          "theta": -0.09978737966832979
         },
         {
          "omega": 0.0075151120461636545,
          "t": 9.499999999999842,
          "theta": -0.09971721561961282
         },
         {
          "omega": 0.008511891830435898,
          "t": 9.509999999999842,
          "theta": -0.09963707993243129
         },
         {
          "omega": 0.009507820432618316,
          "t": 9.519999999999841,
          "theta": -0.09954698062028713
         },
         {
          "omega": 0.01050279826068063,
          "t": 9.529999999999841,
          "theta": -0.0994469266930365
         },
         {
          "omega": 0.011496725817669178,
          "t": 9.539999999999841,
          "theta": -0.09933692815598871
         },
         {
          "omega": 0.012489503711656531,
          "t": 9.54999999999984,
          "theta": -0.09921699600890584
         },
         {
          "omega": 0.013481032665680605,
          "t": 9.55999999999984,
          "theta": -0.09908714224490262
         },
         {
          "omega": 0.014471213527672265,
          "t": 9.56999999999984,
          "theta": -0.09894737984924726
         },
         {
          "omega": 0.015459947280370463,
          "t": 9.57999999999984,
          "theta": -0.09879772279806284
         },
         {
          "omega": 0.01644713505122387,
          "t": 9.58999999999984,
          "theta": -0.09863818605692978
         },
         {
          "omega": 0.017432678122278056,
          "t": 9.59999999999984,
          "theta": -0.09846878557938925
         },
         {
          "omega": 0.018416477940047193,
          "t": 9.60999999999984,
          "theta": -0.09828953830534783
         },
         {
          "omega": 0.01939843612536934,
          "t": 9.61999999999984,
          "theta": -0.09810046215938355
         },
         {
          "omega": 0.02037845448324426,
          "t": 9.62999999999984,
          "theta": -0.09790157604895344
         },
         {
          "omega": 0.021356435012652844,
          "t": 9.639999999999839,
          "theta": -0.09769289986250282
         },
         {
          "omega": 0.022332279916357133,
          "t": 9.649999999999839,
          "theta": -0.09747445446747642
         },
         {
          "omega": 0.023305891610679957,
          "t": 9.659999999999838,
          "theta": -0.09724626170823171
         },
         {
          "omega": 0.02427717273526322,
          "t": 9.669999999999838,
          "theta": -0.09700834440385446
         },
         {
          "omega": 0.02524602616280387,
          "t": 9.679999999999838,
          "theta": -0.09676072634587685
         },
         {
          "omega": 0.026212355008766522,
          "t": 9.689999999999838,
          "theta": -0.09650343229589832
         },
         {
          "omega": 0.027176062641071853,
          "t": 9.699999999999838,
          "theta": -0.09623648798310946
         },
         {
          "omega": 0.02813705268975972,
          "t": 9.709999999999837,
          "theta": -0.0959599201017191
         },
         {
          "omega": 0.02909522905662608,
          "t": 9.719999999999837,
          "theta": -0.0956737563082849
         },
         {
          "omega": 0.030050495924832717,
          "t": 9.729999999999837,
          "theta": -0.09537802521894773
         },
         {
          "omega": 0.03100275776848887,
          "t": 9.739999999999837,
          "theta": -0.09507275640657009
         },
         {
          "omega": 0.031951919362203714,
          "t": 9.749999999999837,
          "theta": -0.09475798039777883
         },
         {
          "omega": 0.03289788579060885,
          "t": 9.759999999999836,
          "theta": -0.09443372866991251
         },
         {
          "omega": 0.03384056245784974,
          "t": 9.769999999999836,
          "theta": -0.09410003364787371
         },
         {
          "omega": 0.03477985509704522,
          "t": 9.779999999999836,
          "theta": -0.09375692870088656
         },
         {
          "omega": 0.035715669779714104,
          "t": 9.789999999999836,
          "theta": -0.09340444813915984
         },
         {
          "omega": 0.03664791292516798,
          "t": 9.799999999999836,
          "theta": -0.09304262721045597
         },
         {
          "omega": 0.03757649130986917,
          "t": 9.809999999999835,
          "theta": -0.09267150209656633
         },
         {
          "omega": 0.038501312076753,
          "t": 9.819999999999835,
          "theta": -0.09229110990969303
         },
         {
          "omega": 0.03942228274451348,
          "t": 9.829999999999835,
          "theta": -0.09190148868873775
         },
         {
          "omega": 0.040339311216851303,
          "t": 9.839999999999835,
          "theta": -0.09150267739549793
         },
         {
          "omega": 0.041252305791683416,
          "t": 9.849999999999834,
          "theta": -0.09109471591077054
         },
         {
          "omega": 0.04216117517031317,
          "t": 9.859999999999834,
          "theta": -0.09067764503036407
         },
         {
          "omega": 0.04306582846656009,
          "t": 9.869999999999834,
          "theta": -0.09025150646101902
         },
         {
          "omega": 0.04396617521584842,
          "t": 9.879999999999834,
          "theta": -0.08981634281623721
         },
         {
          "omega": 0.04486212538425352,
          "t": 9.889999999999834,
          "theta": -0.08937219761202048
         },
         {
          "omega": 0.04575358937750518,
          "t": 9.899999999999833,
          "theta": -0.08891911526251912
         },
         {
          "omega": 0.04664047804994695,
          "t": 9.909999999999833,
          "theta": -0.08845714107559054
         },
         {
          "omega": 0.04752270271345066,
          "t": 9.919999999999833,
          "theta": -0.08798632124826844
         },
         {
          "omega": 0.04840017514628515,
          "t": 9.929999999999833,
          "theta": -0.0875067028621432
         },
         {
          "omega": 0.04927280760193835,
          "t": 9.939999999999833,
          "theta": -0.08701833387865375
         },
         {
          "omega": 0.05014051281789189,
          "t": 9.949999999999832,
          "theta": -0.08652126313429148
         },
         {
          "omega": 0.05100320402434727,
          "t": 9.959999999999832,
          "theta": -0.0860155403357166
         },
         {
          "omega": 0.051860794952902745,
          "t": 9.969999999999832,
          "theta": -0.08550121605478751
         },
         {
          "omega": 0.05271319984518011,
          "t": 9.979999999999832,
          "theta": -0.08497834172350373
         },
         {
          "omega": 0.053560333461400475,
          "t": 9.989999999999831,
          "theta": -0.08444696962886264
         },
         {
          "omega": 0.05440211108890816,
          "t": 9.999999999999831,
          "theta": -0.08390715290763091
         },
         {
          "omega": 0.0552384485506419,
          "t": 10.009999999999831,
          "theta": -0.08335894554103082
         },
         {
          "omega": 0.05606926221355246,
          "t": 10.01999999999983,
          "theta": -0.08280240234934218
         },
         {
          "omega": 0.056894468996965895,
          "t": 10.02999999999983,
          "theta": -0.08223757898642037
         },
         {
          "omega": 0.057713986380891535,
          "t": 10.03999999999983,
          "theta": -0.08166453193413101
         },
         {
          "omega": 0.05852773241427391,
          "t": 10.04999999999983,
          "theta": -0.08108331849670178
         },
         {
          "omega": 0.05933562572318781,
          "t": 10.05999999999983,
          "theta": -0.0804939967949921
         },
         {
          "omega": 0.06013758551897558,
          "t": 10.06999999999983,
          "theta": -0.07989662576068102
         },
         {
          "omega": 0.06093353160632594,
          "t": 10.07999999999983,
          "theta": -0.07929126513037417
         },
         {
          "omega": 0.06172338439129344,
          "t": 10.08999999999983,
          "theta": -0.07867797543963012
         },
         {
          "omega": 0.0625070648892578,
          "t": 10.09999999999983,
          "theta": -0.07805681801690688
         },
         {
          "omega": 0.06328449473282227,
          "t": 10.109999999999829,
          "theta": -0.07742785497742907
         },
         {
          "omega": 0.06405559617965037,
          "t": 10.119999999999829,
          "theta": -0.07679114921697652
         },
         {
          "omega": 0.06482029212023999,
          "t": 10.129999999999828,
          "theta": -0.07614676440559469
         },
         {
          "omega": 0.0655785060856343,
          "t": 10.139999999999828,
          "theta": -0.07549476498122772
         },
         {
          "omega": 0.06633016225506863,
          "t": 10.149999999999828,
          "theta": -0.07483521614327472
         },
         {
          "omega": 0.0670751854635524,
          "t": 10.159999999999828,
          "theta": -0.07416818384606987
         },
         {
          "omega": 0.06781350120938562,
          "t": 10.169999999999828,
          "theta": -0.07349373479228702
         },
         {
          "omega": 0.06854503566160897,
          "t": 10.179999999999827,
          "theta": -0.07281193642626951
         },
         {
          "omega": 0.06926971566738682,
          "t": 10.189999999999827,
          "theta": -0.0721228569272858
         },
         {
          "omega": 0.0699874687593225,
          "t": 10.199999999999827,
          "theta": -0.07142656520271154
         },
         {
          "omega": 0.07069822316270495,
          "t": 10.209999999999827,
          "theta": -0.07072313088113895
         },
         {
          "omega": 0.07140190780268613,
          "t": 10.219999999999827,
          "theta": -0.070012624305414
         },
         {
          "omega": 0.07209845231138842,
          "t": 10.229999999999826,
          "theta": -0.06929511652560215
         },
         {
          "omega": 0.07278778703494142,
          "t": 10.239999999999826,
          "theta": -0.06857067929188349
         },
         {
          "omega": 0.07346984304044721,
          "t": 10.249999999999826,
          "theta": -0.06783938504737767
         },
         {
          "omega": 0.07414455212287362,
          "t": 10.259999999999826,
          "theta": -0.06710130692089976
         },
         {
          "omega": 0.07481184681187467,
          "t": 10.269999999999825,
          "theta": -0.06635651871964733
         },
         {
          "omega": 0.07547166037853752,
          "t": 10.279999999999825,
          "theta": -0.06560509492181985
         },
         {
          "omega": 0.07612392684205536,
          "t": 10.289999999999825,
          "theta": -0.06484711066917091
         },
         {
          "omega": 0.0767685809763254,
          "t": 10.299999999999825,
          "theta": -0.06408264175949414
         },
         {
          "omega": 0.0774055583164714,
          "t": 10.309999999999825,
          "theta": -0.06331176463904345
         },
         {
          "omega": 0.07803479516529017,
          "t": 10.319999999999824,
          "theta": -0.06253455639488847
         },
         {
          "omega": 0.0786562285996212,
          "t": 10.329999999999824,
          "theta": -0.06175109474720597
         },
         {
          "omega": 0.0792697964766389,
          "t": 10.339999999999824,
          "theta": -0.06096145804150782
         },
         {
          "omega": 0.07987543744006688,
          "t": 10.349999999999824,
          "theta": -0.060165725240806565
         },
         {
          "omega": 0.0804730909263135,
          "t": 10.359999999999824,
          "theta": -0.05936397591771917
         },
         {
          "omega": 0.08106269717052816,
          "t": 10.369999999999823,
          "theta": -0.058556290246509816
         },
         {
          "omega": 0.0816441972125778,
          "t": 10.379999999999823,
          "theta": -0.05774274899507256
         },
         {
          "omega": 0.08221753290294279,
          "t": 10.389999999999823,
          "theta": -0.056923433516854596
         },
         {
          "omega": 0.08278264690853186,
          "t": 10.399999999999823,
          "theta": -0.05609842574272098
         },
         {
          "omega": 0.08333948271841539,
          "t": 10.409999999999823,
          "theta": -0.055267808172761626
         },
         {
          "omega": 0.08388798464947642,
          "t": 10.419999999999822,
          "theta": -0.05443166386804135
         },
         {
          "omega": 0.08442809785197891,
          "t": 10.429999999999822,
          "theta": -0.05359007644229384
         },
         {
          "omega": 0.08495976831505272,
          "t": 10.439999999999822,
          "theta": -0.05274313005356035
         },
         {
          "omega": 0.0854829428720946,
          "t": 10.449999999999822,
          "theta": -0.05189090939577397
         },
         {
          "omega": 0.08599756920608481,
          "t": 10.459999999999821,
          "theta": -0.051033499690290286
         },
         {
          "omega": 0.08650359585481883,
          "t": 10.469999999999821,
          "theta": -0.05017098667736535
         },
         {
          "omega": 0.08700097221605345,
          "t": 10.479999999999821,
          "theta": -0.049303456607581696
         },
         {
          "omega": 0.08748964855256704,
          "t": 10.48999999999982,
          "theta": -0.04843099623322336
         },
         {
          "omega": 0.08796957599713316,
          "t": 10.49999999999982,
          "theta": -0.047553692799600734
         },
         {
          "omega": 0.08844070655740731,
          "t": 10.50999999999982,
          "theta": -0.04667163403632609
         },
         {
          "omega": 0.08890299312072605,
          "t": 10.51999999999982,
          "theta": -0.045784908148540714
         },
         {
          "omega": 0.08935638945881831,
          "t": 10.52999999999982,
          "theta": -0.04489360380809445
         },
         {
          "omega": 0.08980085023242809,
          "t": 10.53999999999982,
          "theta": -0.04399781014467859
         },
         {
          "omega": 0.09023633099584842,
          "t": 10.54999999999982,
          "theta": -0.04309761673691298
         },
         {
          "omega": 0.09066278820136586,
          "t": 10.55999999999982,
          "theta": -0.04219311360338824
         },
         {
          "omega": 0.09108017920361523,
          "t": 10.569999999999819,
          "theta": -0.04128439119366397
         },
         {
          "omega": 0.09148846226384415,
          "t": 10.579999999999819,
          "theta": -0.040371540379223886
         },
         {
          "omega": 0.0918875965540868,
          "t": 10.589999999999819,
          "theta": -0.03945465244438871
         },
         {
          "omega": 0.0922775421612468,
          "t": 10.599999999999818,
          "theta": -0.03853381907718787
         },
         {
          "omega": 0.09265826009108837,
          "t": 10.609999999999818,
          "theta": -0.03760913236019072
         },
         {
          "omega": 0.09302971227213577,
          "t": 10.619999999999818,
          "theta": -0.03668068476129839
         },
         {
          "omega": 0.09339186155948047,
          "t": 10.629999999999818,
          "theta": -0.035748569124497066
         },
         {
          "omega": 0.09374467173849552,
          "t": 10.639999999999818,
          "theta": -0.03481287866057367
         },
         {
          "omega": 0.09408810752845702,
          "t": 10.649999999999817,
          "theta": -0.03387370693779485
         },
         {
          "omega": 0.09442213458607217,
          "t": 10.659999999999817,
          "theta": -0.03293114787255025
         },
         {
          "omega": 0.09474671950891356,
          "t": 10.669999999999817,
          "theta": -0.03198529571996092
         },
         {
          "omega": 0.0950618298387594,
          "t": 10.679999999999817,
          "theta": -0.031036245064453922
         },
         {
          "omega": 0.09536743406483927,
          "t": 10.689999999999817,
          "theta": -0.030084090810303932
         },
         {
          "omega": 0.09566350162698527,
          "t": 10.699999999999816,
          "theta": -0.029128928172142902
         },
         {
          "omega": 0.09595000291868788,
          "t": 10.709999999999816,
          "theta": -0.028170852665438686
         },
         {
          "omega": 0.0962269092900567,
          "t": 10.719999999999816,
          "theta": -0.02720996009694356
         },
         {
          "omega": 0.09649419305068534,
          "t": 10.729999999999816,
          "theta": -0.02624634655511363
         },
         {
          "omega": 0.09675182747242046,
          "t": 10.739999999999815,
          "theta": -0.02528010840050007
         },
         {
          "omega": 0.09699978679203461,
          "t": 10.749999999999815,
          "theta": -0.024311342256113148
         },
         {
          "omega": 0.09723804621380243,
          "t": 10.759999999999815,
          "theta": -0.02334014499776
         },
         {
          "omega": 0.09746658191198031,
          "t": 10.769999999999815,
          "theta": -0.022366613744357132
         },
         {
          "omega": 0.09768537103318888,
          "t": 10.779999999999815,
          "theta": -0.021390845848218612
         },
         {
          "omega": 0.09789439169869832,
          "t": 10.789999999999814,
          "theta": -0.02041293888532092
         },
         {
          "omega": 0.09809362300661628,
          "t": 10.799999999999814,
          "theta": -0.01943299064554542
         },
         {
          "omega": 0.098283045033978,
          "t": 10.809999999999814,
          "theta": -0.01845109912289947
         },
         {
          "omega": 0.09846263883873858,
          "t": 10.819999999999814,
          "theta": -0.017467362505717097
         },
         {
          "omega": 0.09863238646166722,
          "t": 10.829999999999814,
          "theta": -0.016481879166840237
         },
         {
          "omega": 0.09879227092814308,
          "t": 10.839999999999813,
          "theta": -0.01549474765378155
         },
         {
          "omega": 0.09894227624985273,
          "t": 10.849999999999813,
          "theta": -0.014506066678869731
         },
         {
          "omega": 0.09908238742638903,
          "t": 10.859999999999813,
          "theta": -0.013515935109378374
         },
         {
          "omega": 0.09921259044675107,
          "t": 10.869999999999813,
          "theta": -0.012524451957639323
         },
         {
          "omega": 0.09933287229074532,
          "t": 10.879999999999812,
          "theta": -0.011531716371141516
         },
         {
          "omega": 0.09944322093028761,
          "t": 10.889999999999812,
          "theta": -0.010537827622616328
         },
         {
          "omega": 0.09954362533060594,
          "t": 10.899999999999812,
          "theta": -0.009542885100110372
         },
         {
          "omega": 0.09963407545134396,
          "t": 10.909999999999812,
          "theta": -0.008546988297046783
         },
         {
          "omega": 0.09971456224756498,
          "t": 10.919999999999812,
          "theta": -0.007550236802275957
         },
         {
          "omega": 0.09978507767065642,
          "t": 10.929999999999811,
          "theta": -0.006552730290116746
         },
         {
          "omega": 0.09984561466913475,
          "t": 10.939999999999811,
          "theta": -0.005554568510389116
         },
         {
          "omega": 0.09989616718935056,
          "t": 10.949999999999811,
          "theta": -0.004555851278439238
         },
         {
          "omega": 0.09993673017609397,
          "t": 10.95999999999981,
          "theta": -0.0035566784651580472
         },
         {
          "omega": 0.0999672995731001,
          "t": 10.96999999999981,
          "theta": -0.0025571499869942297
         },
         {
          "omega": 0.09998787232345473,
          "t": 10.97999999999981,
          "theta": -0.0015573657959626645
         },
         {
          "omega": 0.09999844636989996,
          "t": 10.98999999999981,
          "theta": -0.0005574258696493042
         },
         {
          "omega": 0.09999902065503996,
          "t": 10.99999999999981,
          "theta": 0.00044256979878650056
         },
         {
          "omega": 0.0999895951214467,
          "t": 11.00999999999981,
          "theta": 0.0014425212106112329
         },
         {
          "omega": 0.09997017071166568,
          "t": 11.01999999999981,
          "theta": 0.002442328371517001
         },
         {
          "omega": 0.0999407493681217,
          "t": 11.02999999999981,
          "theta": 0.003441891301620883
         },
         {
          "omega": 0.09990133403292457,
          "t": 11.039999999999809,
          "theta": 0.0044411100454628365
         },
         {
          "omega": 0.099851928647575,
          "t": 11.049999999999809,
          "theta": 0.005439884682001155
         },
         {
          "omega": 0.09979253815257033,
          "t": 11.059999999999809,
          "theta": 0.0064381153346044955
         },
         {
          "omega": 0.09972316848691057,
          "t": 11.069999999999808,
          "theta": 0.007435702181039453
         },
         {
          "omega": 0.09964382658750448,
          "t": 11.079999999999808,
          "theta": 0.008432545463452705
         },
         {
          "omega": 0.0995545203884759,
          "t": 11.089999999999808,
          "theta": 0.009428545498346708
         },
         {
          "omega": 0.09945525882037029,
          "t": 11.099999999999808,
          "theta": 0.01042360268654797
         },
         {
          "omega": 0.09934605180926175,
          "t": 11.109999999999808,
          "theta": 0.011417617523166885
         },
         {
          "omega": 0.09922691027576037,
          "t": 11.119999999999807,
          "theta": 0.012410490607548131
         },
         {
          "omega": 0.09909784613392025,
          "t": 11.129999999999807,
          "theta": 0.013402122653210663
         },
         {
          "omega": 0.098958872290048,
          "t": 11.139999999999807,
          "theta": 0.014392414497776273
         },
         {
          "omega": 0.0988100026414122,
          "t": 11.149999999999807,
          "theta": 0.015381267112885743
         },
         {
          "omega": 0.09865125207485365,
          "t": 11.159999999999807,
          "theta": 0.016368581614101603
         },
         {
          "omega": 0.09848263646529672,
          "t": 11.169999999999806,
          "theta": 0.017354259270796493
         },
         {
          "omega": 0.09830417267416185,
          "t": 11.179999999999806,
          "theta": 0.018338201516026137
         },
         {
          "omega": 0.09811587854767943,
          "t": 11.189999999999806,
          "theta": 0.01932030995638596
         },
         {
          "omega": 0.0979177729151052,
          "t": 11.199999999999806,
          "theta": 0.02030048638185035
         },
         {
          "omega": 0.09770987558683733,
          "t": 11.209999999999805,
          "theta": 0.02127863277559357
         },
         {
          "omega": 0.09749220735243541,
          "t": 11.219999999999805,
          "theta": 0.022254651323791366
         },
         {
          "omega": 0.09726478997854147,
          "t": 11.229999999999805,
          "theta": 0.023228444425402263
         },
         {
          "omega": 0.09702764620670341,
          "t": 11.239999999999805,
          "theta": 0.024199914701927592
         },
         {
          "omega": 0.09678079975110078,
          "t": 11.249999999999805,
          "theta": 0.025168965007149255
         },
         {
          "omega": 0.09652427529617344,
          "t": 11.259999999999804,
          "theta": 0.02613549843684427
         },
         {
          "omega": 0.09625809849415311,
          "t": 11.269999999999804,
          "theta": 0.02709941833847511
         },
         {
          "omega": 0.09598229596249817,
          "t": 11.279999999999804,
          "theta": 0.028060628320854875
         },
         {
          "omega": 0.09569689528123197,
          "t": 11.289999999999804,
          "theta": 0.029019032263786333
         },
         {
          "omega": 0.0954019249901848,
          "t": 11.299999999999804,
          "theta": 0.029974534327673857
         },
         {
          "omega": 0.09509741458613993,
          "t": 11.309999999999803,
          "theta": 0.03092703896310731
         },
         {
          "omega": 0.09478339451988405,
          "t": 11.319999999999803,
          "theta": 0.031876450920416896
         },
         {
          "omega": 0.09445989619316207,
          "t": 11.329999999999803,
          "theta": 0.03282267525919806
         },
         {
          "omega": 0.0941269519555371,
          "t": 11.339999999999803,
          "theta": 0.03376561735780545
         },
         {
          "omega": 0.09378459510115543,
          "t": 11.349999999999802,
          "theta": 0.03470518292281497
         },
         {
          "omega": 0.09343285986541722,
          "t": 11.359999999999802,
          "theta": 0.035641277998453104
         },
         {
          "omega": 0.09307178142155292,
          "t": 11.369999999999802,
          "theta": 0.036573808975992356
         },
         {
          "omega": 0.09270139587710603,
          "t": 11.379999999999802,
          "theta": 0.037502682603112084
         },
         {
          "omega": 0.09232174027032233,
          "t": 11.389999999999802,
          "theta": 0.03842780599322363
         },
         {
          "omega": 0.09193285256644614,
          "t": 11.399999999999801,
          "theta": 0.03934908663475892
         },
         {
          "omega": 0.09153477165392375,
          "t": 11.409999999999801,
          "theta": 0.04026643240042153
         },
         {
          "omega": 0.0911275373405147,
          "t": 11.419999999999801,
          "theta": 0.041179751556399344
         },
         {
          "omega": 0.09071119034931095,
          "t": 11.4299999999998,
          "theta": 0.04208895277153786
         },
         {
          "omega": 0.09028577231466468,
          "t": 11.4399999999998,
          "theta": 0.04299394512647323
         },
         {
          "omega": 0.08985132577802483,
          "t": 11.4499999999998,
          "theta": 0.04389463812272413
         },
         {
          "omega": 0.08940789418368304,
          "t": 11.4599999999998,
          "theta": 0.04479094169174149
         },
         {
          "omega": 0.08895552187442922,
          "t": 11.4699999999998,
          "theta": 0.04568276620391534
         },
         {
          "omega": 0.08849425408711731,
          "t": 11.4799999999998,
          "theta": 0.046570022477537644
         },
         {
          "omega": 0.08802413694814165,
          "t": 11.4899999999998,
          "theta": 0.04745262178772042
         },
         {
          "omega": 0.08754521746882438,
          "t": 11.4999999999998,
          "theta": 0.04833047587526814
         },
         {
          "omega": 0.08705754354071434,
          "t": 11.509999999999799,
          "theta": 0.0492034969555036
         },
         {
          "omega": 0.08656116393079794,
          "t": 11.519999999999799,
          "theta": 0.05007159772704628
         },
         {
          "omega": 0.08605612827662251,
          "t": 11.529999999999799,
          "theta": 0.05093469138054245
         },
         {
          "omega": 0.08554248708133264,
          "t": 11.539999999999798,
          "theta": 0.051792691607346
         },
         {
          "omega": 0.08502029170861979,
          "t": 11.549999999999798,
          "theta": 0.05264551260814925
         },
         {
          "omega": 0.08448959437758609,
          "t": 11.559999999999798,
          "theta": 0.0534930691015628
         },
         {
          "omega": 0.0839504481575224,
          "t": 11.569999999999798,
          "theta": 0.054335276332643595
         },
         {
          "omega": 0.08340290696260141,
          "t": 11.579999999999798,
          "theta": 0.055172050081370376
         },
         {
          "omega": 0.08284702554648637,
          "t": 11.589999999999797,
          "theta": 0.056003306671065574
         },
         {
          "omega": 0.08228285949685564,
          "t": 11.599999999999797,
          "theta": 0.05682896297676293
         },
         {
          "omega": 0.08171046522984404,
          "t": 11.609999999999797,
          "theta": 0.057648936433519926
         },
         {
          "omega": 0.08112989998440129,
          "t": 11.619999999999797,
          "theta": 0.05846314504467419
         },
         {
          "omega": 0.08054122181656811,
          "t": 11.629999999999797,
          "theta": 0.05927150739004311
         },
         {
          "omega": 0.07994448959367075,
          "t": 11.639999999999796,
          "theta": 0.060073942634065784
         },
         {
          "omega": 0.0793397629884342,
          "t": 11.649999999999796,
          "theta": 0.060870370533886504
         },
         {
          "omega": 0.07872710247301506,
          "t": 11.659999999999796,
          "theta": 0.061660711447378974
         },
         {
          "omega": 0.07810656931295433,
          "t": 11.669999999999796,
          "theta": 0.06244488634111046
         },
         {
          "omega": 0.07747822556105088,
          "t": 11.679999999999795,
          "theta": 0.06322281679824507
         },
         {
          "omega": 0.07684213405115631,
          "t": 11.689999999999795,
          "theta": 0.06399442502638536
         },
         {
          "omega": 0.07619835839189151,
          "t": 11.699999999999795,
          "theta": 0.06475963386535152
         },
         {
          "omega": 0.07554696296028596,
          "t": 11.709999999999795,
          "theta": 0.06551836679489732
         },
         {
          "omega": 0.07488801289533996,
          "t": 11.719999999999795,
          "theta": 0.06627054794236209
         },
         {
          "omega": 0.0742215740915109,
          "t": 11.729999999999794,
          "theta": 0.06701610209025789
         },
         {
          "omega": 0.07354771319212379,
          "t": 11.739999999999794,
          "theta": 0.06775495468379124
         },
         {
          "omega": 0.07286649758270702,
          "t": 11.749999999999794,
          "theta": 0.06848703183831847
         },
         {
          "omega": 0.07217799538425387,
          "t": 11.759999999999794,
          "theta": 0.06921226034673422
         },
         {
          "omega": 0.07148227544641042,
          "t": 11.769999999999794,
          "theta": 0.06993056768679198
         },
         {
          "omega": 0.0707794073405907,
          "t": 11.779999999999793,
          "theta": 0.07064188202835635
         },
         {
          "omega": 0.07006946135301956,
          "t": 11.789999999999793,
          "theta": 0.07134613224058592
         },
         {
          "omega": 0.06935250847770413,
          "t": 11.799999999999793,
          "theta": 0.07204324789904634
         },
         {
          "omega": 0.06862862040933451,
          "t": 11.809999999999793,
          "theta": 0.0727331592927527
         },
         {
          "omega": 0.06789786953611428,
          "t": 11.819999999999792,
          "theta": 0.07341579743114054
         },
         {
          "omega": 0.0671603289325218,
          "t": 11.829999999999792,
          "theta": 0.0740910940509649
         },
         {
          "omega": 0.06641607235200284,
          "t": 11.839999999999792,
          "theta": 0.07475898162312652
         },
         {
          "omega": 0.06566517421959521,
          "t": 11.849999999999792,
          "theta": 0.07541939335942478
         },
         {
          "omega": 0.06490770962448643,
          "t": 11.859999999999792,
          "theta": 0.0760722632192364
         },
         {
          "omega": 0.06414375431250477,
          "t": 11.869999999999791,
          "theta": 0.07671752591611941
         },
         {
          "omega": 0.06337338467854481,
          "t": 11.879999999999791,
          "theta": 0.07735511692434188
         },
         {
          "omega": 0.06259667775892798,
          "t": 11.889999999999791,
          "theta": 0.0779849724853343
         },
         {
          "omega": 0.061813711223698976,
          "t": 11.89999999999979,
          "theta": 0.07860702961406545
         },
         {
          "omega": 0.06102456336885886,
          "t": 11.90999999999979,
          "theta": 0.07922122610534083
         },
         {
          "omega": 0.060229313108535486,
          "t": 11.91999999999979,
          "theta": 0.07982750054002313
         },
         {
          "omega": 0.05942803996709219,
          "t": 11.92999999999979,
          "theta": 0.08042579229117414
         },
         {
          "omega": 0.058620824071175394,
          "t": 11.93999999999979,
          "theta": 0.0810160415301173
         },
         {
          "omega": 0.057807746141702,
          "t": 11.94999999999979,
          "theta": 0.08159818923242058
         },
         {
          "omega": 0.0569888874857874,
          "t": 11.95999999999979,
          "theta": 0.08217217718379889
         },
         {
          "omega": 0.0561643299886148,
          "t": 11.96999999999979,
          "theta": 0.08273794798593541
         },
         {
          "omega": 0.05533415610524679,
          "t": 11.979999999999789,
          "theta": 0.08329544506222139
         },
         {
          "omega": 0.05449844885237991,
          "t": 11.989999999999789,
          "theta": 0.0838446126634138
         },
         {
          "omega": 0.05365729180004301,
          "t": 11.999999999999789,
          "theta": 0.08438539587321013
         },
         {
          "omega": 0.052810769063240365,
          "t": 12.009999999999788,
          "theta": 0.08491774061374008
         },
         {
          "omega": 0.05195896529354022,
          "t": 12.019999999999788,
          "theta": 0.0854415936509732
         },
         {
          "omega": 0.05110196567060972,
          "t": 12.029999999999788,
          "theta": 0.08595690260004232
         },
         {
          "omega": 0.050239855893696984,
          "t": 12.039999999999788,
          "theta": 0.08646361593048195
         },
         {
          "omega": 0.04937272217306129,
          "t": 12.049999999999788,
          "theta": 0.0869616829713813
         },
         {
          "omega": 0.04850065122135209,
          "t": 12.059999999999787,
          "theta": 0.08745105391645133
         },
         {
          "omega": 0.04762373024493783,
          "t": 12.069999999999787,
          "theta": 0.08793167982900536
         },
         {
          "omega": 0.04674204693518538,
          "t": 12.079999999999787,
          "theta": 0.08840351264685264
         },
         {
          "omega": 0.045855689459691,
          "t": 12.089999999999787,
          "theta": 0.0888665051871046
         },
         {
          "omega": 0.04496474645346359,
          "t": 12.099999999999786,
          "theta": 0.089320611150893
         },
         {
          "omega": 0.044069307010061336,
          "t": 12.109999999999786,
          "theta": 0.08976578512799992
         },
         {
          "omega": 0.043169460672682375,
          "t": 12.119999999999786,
          "theta": 0.09020198260139861
         },
         {
          "omega": 0.042265297425210575,
          "t": 12.129999999999786,
          "theta": 0.09062915995170523
         },
         {
          "omega": 0.04135690768321722,
          "t": 12.139999999999786,
          "theta": 0.09104727446154072
         },
         {
          "omega": 0.04044438228491951,
          "t": 12.149999999999785,
          "theta": 0.09145628431980253
         },
         {
          "omega": 0.03952781248209686,
          "t": 12.159999999999785,
          "theta": 0.09185614862584568
         },
         {
          "omega": 0.03860728993096573,
          "t": 12.169999999999785,
          "theta": 0.09224682739357279
         },
         {
          "omega": 0.03768290668301414,
          "t": 12.179999999999785,
          "theta": 0.09262828155543264
         },
         {
          "omega": 0.036754755175796565,
          "t": 12.189999999999785,
          "theta": 0.09300047296632692
         },
         {
          "omega": 0.03582292822369027,
          "t": 12.199999999999784,
          "theta": 0.09336336440742471
         },
         {
          "omega": 0.034887519008613956,
          "t": 12.209999999999784,
          "theta": 0.09371691958988429
         },
         {
          "omega": 0.03394862107070961,
          "t": 12.219999999999784,
          "theta": 0.09406110315848205
         },
         {
          "omega": 0.03300632829898862,
          "t": 12.229999999999784,
          "theta": 0.09439588069514797
         },
         {
          "omega": 0.03206073492194291,
          "t": 12.239999999999783,
          "theta": 0.09472121872240734
         },
         {
          "omega": 0.0311119354981222,
          "t": 12.249999999999783,
          "theta": 0.09503708470672856
         },
         {
          "omega": 0.030160024906678202,
          "t": 12.259999999999783,
          "theta": 0.0953434470617764
         },
         {
          "omega": 0.02920509833787681,
          "t": 12.269999999999783,
          "theta": 0.09564027515157068
         },
         {
          "omega": 0.02824725128357913,
          "t": 12.279999999999783,
          "theta": 0.09592753929354977
         },
         {
          "omega": 0.02728657952769239,
          "t": 12.289999999999782,
          "theta": 0.09620521076153886
         },
         {
          "omega": 0.026323179136591626,
          "t": 12.299999999999782,
          "theta": 0.09647326178862253
         },
         {
          "omega": 0.025357146449513108,
          "t": 12.309999999999782,
          "theta": 0.09673166556992145
         },
         {
          "omega": 0.024388578068920527,
          "t": 12.319999999999782,
          "theta": 0.09698039626527284
         },
         {
          "omega": 0.0234175708508448,
          "t": 12.329999999999782,
          "theta": 0.09721942900181443
         },
         {
          "omega": 0.022444221895198565,
          "t": 12.339999999999781,
          "theta": 0.09744873987647176
         },
         {
          "omega": 0.021468628536066268,
          "t": 12.349999999999781,
          "theta": 0.09766830595834845
         },
         {
          "omega": 0.02049088833197083,
          "t": 12.359999999999781,
          "theta": 0.0978781052910193
         },
         {
          "omega": 0.01951109905611788,
          "t": 12.36999999999978,
          "theta": 0.09807811689472586
         },
         {
          "omega": 0.018529358686618515,
          "t": 12.37999999999978,
          "theta": 0.09826832076847443
         },
         {
          "omega": 0.017545765396691566,
          "t": 12.38999999999978,
          "theta": 0.09844869789203615
         },
         {
          "omega": 0.016560417544846374,
          "t": 12.39999999999978,
          "theta": 0.09861923022784898
         },
         {
          "omega": 0.015573413665046998,
          "t": 12.40999999999978,
          "theta": 0.09877990072282143
         },
         {
          "omega": 0.01458485245685892,
          "t": 12.41999999999978,
          "theta": 0.09893069331003791
         },
         {
          "omega": 0.01359483277557916,
          "t": 12.42999999999978,
          "theta": 0.09907159291036537
         },
         {
          "omega": 0.012603453622350831,
          "t": 12.43999999999978,
          "theta": 0.09920258543396117
         },
         {
          "omega": 0.011610814134263112,
          "t": 12.449999999999779,
          "theta": 0.09932365778168212
         },
         {
          "omega": 0.010617013574437612,
          "t": 12.459999999999779,
          "theta": 0.09943479784639433
         },
         {
          "omega": 0.009622151322102151,
          "t": 12.469999999999779,
          "theta": 0.09953599451418398
         },
         {
          "omega": 0.008626326862652913,
          "t": 12.479999999999778,
          "theta": 0.09962723766546858
         },
         {
          "omega": 0.007629639777705992,
          "t": 12.489999999999778,
          "theta": 0.09970851817600906
         },
         {
          "omega": 0.006632189735139313,
          "t": 12.499999999999778,
          "theta": 0.0997798279178221
         },
         {
          "omega": 0.005634076479125927,
          "t": 12.509999999999778,
          "theta": 0.09984115975999293
         },
         {
          "omega": 0.004635399820159678,
          "t": 12.519999999999778,
          "theta": 0.09989250756938846
         },
         {
          "omega": 0.003636259625074234,
          "t": 12.529999999999777,
          "theta": 0.09993386621127053
         },
         {
          "omega": 0.0026367558070564887,
          "t": 12.539999999999777,
          "theta": 0.09996523154980941
         },
         {
          "omega": 0.0016369883156553274,
          "t": 12.549999999999777,
          "theta": 0.09998660044849739
         },
         {
          "omega": 0.0006370571267867537,
          "t": 12.559999999999777,
          "theta": 0.09999797077046241
         },
         {
          "omega": -0.00036293776726361877,
          "t": 12.569999999999776,
          "theta": 0.09999934137868174
         },
         {
          "omega": -0.0013628963678397115,
          "t": 12.579999999999776,
          "theta": 0.09999071213609573
         },
         {
          "omega": -0.002362718679914763,
          "t": 12.589999999999776,
          "theta": 0.09997208390562141
         },
         {
          "omega": -0.0033623047220907483,
          "t": 12.599999999999776,
          "theta": 0.09994345855006634
         },
         {
          "omega": -0.004361554536596435,
          "t": 12.609999999999776,
          "theta": 0.09990483893194219
         },
         {
          "omega": -0.005360368199283079,
          "t": 12.619999999999775,
          "theta": 0.0998562289131786
         },
         {
          "omega": -0.006358645829616752,
          "t": 12.629999999999775,
          "theta": 0.09979763335473693
         },
         {
          "omega": -0.007356287600666317,
          "t": 12.639999999999775,
          "theta": 0.09972905811612422
         },
         {
          "omega": -0.008353193749086033,
          "t": 12.649999999999775,
          "theta": 0.09965051005480716
         },
         {
          "omega": -0.009349264585091811,
          "t": 12.659999999999775,
          "theta": 0.09956199702552644
         },
         {
          "omega": -0.010344400502430108,
          "t": 12.669999999999774,
          "theta": 0.09946352787951122
         },
         {
          "omega": -0.011338501988338467,
          "t": 12.679999999999774,
          "theta": 0.09935511246359405
         },
         {
          "omega": -0.012331469633496713,
          "t": 12.689999999999774,
          "theta": 0.09923676161922616
         },
         {
          "omega": -0.013323204141967797,
          "t": 12.699999999999774,
          "theta": 0.09910848718139338
         },
         {
          "omega": -0.014313606341127317,
          "t": 12.709999999999773,
          "theta": 0.09897030197743259
         },
         {
          "omega": -0.01530257719158069,
          "t": 12.719999999999773,
          "theta": 0.09882221982574904
         },
         {
          "omega": -0.01629001779706701,
          "t": 12.729999999999773,
          "theta": 0.09866425553443449
         },
         {
          "omega": -0.017275829414348593,
          "t": 12.739999999999773,
          "theta": 0.09849642489978644
         },
         {
          "omega": -0.018259913463085215,
          "t": 12.749999999999773,
          "theta": 0.09831874470472848
         },
         {
          "omega": -0.019242171535692073,
          "t": 12.759999999999772,
          "theta": 0.09813123271713207
         },
         {
          "omega": -0.02022250540718045,
          "t": 12.769999999999772,
          "theta": 0.09793390768803971
         },
         {
          "omega": -0.02120081704498014,
          "t": 12.779999999999772,
          "theta": 0.09772678934978986
         },
         {
          "omega": -0.02217700861874262,
          "t": 12.789999999999772,
          "theta": 0.09750989841404374
         },
         {
          "omega": -0.023150982510124006,
          "t": 12.799999999999772,
          "theta": 0.0972832565697142
         },
         {
          "omega": -0.0241226413225468,
          "t": 12.809999999999771,
          "theta": 0.0970468864807968
         },
         {
          "omega": -0.02509188789093947,
          "t": 12.819999999999771,
          "theta": 0.09680081178410346
         },
         {
          "omega": -0.026058625291452888,
          "t": 12.829999999999771,
          "theta": 0.09654505708689878
         },
         {
          "omega": -0.027022756851152605,
          "t": 12.83999999999977,
          "theta": 0.09627964796443936
         },
         {
          "omega": -0.027984186157686098,
          "t": 12.84999999999977,
          "theta": 0.09600461095741626
         },
         {
          "omega": -0.028942817068923897,
          "t": 12.85999999999977,
          "theta": 0.09571997356930101
         },
         {
          "omega": -0.02989855372257374,
          "t": 12.86999999999977,
          "theta": 0.0954257642635952
         },
         {
          "omega": -0.0308513005457667,
          "t": 12.87999999999977,
          "theta": 0.09512201246098423
         },
         {
          "omega": -0.031800962264614416,
          "t": 12.88999999999977,
          "theta": 0.09480874853639525
         },
         {
          "omega": -0.032747443913736386,
          "t": 12.89999999999977,
          "theta": 0.09448600381595965
         },
         {
          "omega": -0.033690650845756426,
          "t": 12.90999999999977,
          "theta": 0.09415381057388053
         },
         {
          "omega": -0.03463048874076734,
          "t": 12.919999999999769,
          "theta": 0.09381220202920527
         },
         {
          "omega": -0.03556686361576281,
          "t": 12.929999999999769,
          "theta": 0.09346121234250368
         },
         {
          "omega": -0.03649968183403567,
          "t": 12.939999999999769,
          "theta": 0.09310087661245191
         },
         {
          "omega": -0.037428850114541425,
          "t": 12.949999999999768,
          "theta": 0.0927312308723227
         },
         {
          "omega": -0.03835427554122633,
          "t": 12.959999999999768,
          "theta": 0.09235231208638203
         },
         {
          "omega": -0.0392758655723189,
          "t": 12.969999999999768,
          "theta": 0.09196415814619273
         },
         {
          "omega": -0.04019352804958402,
          "t": 12.979999999999768,
          "theta": 0.09156680786682535
         },
         {
          "omega": -0.04110717120753867,
          "t": 12.989999999999768,
          "theta": 0.0911603009829767
         },
         {
          "omega": -0.04201670368262843,
          "t": 12.999999999999767,
          "theta": 0.09074467814499643
         },
         {
          "omega": -0.042922034522363726,
          "t": 13.009999999999767,
          "theta": 0.09031998091482196
         },
         {
          "omega": -0.04382307319441503,
          "t": 13.019999999999767,
          "theta": 0.08988625176182242
         },
         {
          "omega": -0.044719729595666,
          "t": 13.029999999999767,
          "theta": 0.08944353405855165
         },
         {
          "omega": -0.045611914061223724,
          "t": 13.039999999999766,
          "theta": 0.08899187207641107
         },
         {
          "omega": -0.04649953737338512,
          "t": 13.049999999999766,
          "theta": 0.0885313109812225
         },
         {
          "omega": -0.04738251077055867,
          "t": 13.059999999999766,
          "theta": 0.08806189682871164
         },
         {
          "omega": -0.04826074595614045,
          "t": 13.069999999999766,
          "theta": 0.08758367655990258
         },
         {
          "omega": -0.04913415510734378,
          "t": 13.079999999999766,
          "theta": 0.0870966979964237
         },
         {
          "omega": -0.05000265088398136,
          "t": 13.089999999999765,
          "theta": 0.0866010098357255
         },
         {
          "omega": -0.050866146437199285,
          "t": 13.099999999999765,
          "theta": 0.08609666164621099
         },
         {
          "omega": -0.0517245554181618,
          "t": 13.109999999999765,
          "theta": 0.08558370386227886
         },
         {
          "omega": -0.052577791986686155,
          "t": 13.119999999999765,
          "theta": 0.08506218777928
         },
         {
          "omega": -0.05342577081982652,
          "t": 13.129999999999765,
          "theta": 0.08453216554838813
         },
         {
          "omega": -0.054268407120406224,
          "t": 13.139999999999764,
          "theta": 0.08399369017138467
         },
         {
          "omega": -0.055105616625497414,
          "t": 13.149999999999764,
          "theta": 0.08344681549535857
         },
         {
          "omega": -0.055937315614847244,
          "t": 13.159999999999764,
          "theta": 0.08289159620732173
         },
         {
          "omega": -0.056763420919249866,
          "t": 13.169999999999764,
          "theta": 0.08232808782874025
         },
         {
          "omega": -0.05758384992886326,
          "t": 13.179999999999763,
          "theta": 0.08175634670998241
         },
         {
          "omega": -0.05839852060147014,
          "t": 13.189999999999763,
          "theta": 0.08117643002468364
         },
         {
          "omega": -0.05920735147068215,
          "t": 13.199999999999763,
          "theta": 0.0805883957640292
         },
         {
          "omega": -0.060010261654086385,
          "t": 13.209999999999763,
          "theta": 0.07999230273095512
         },
         {
          "omega": -0.060807170861333595,
          "t": 13.219999999999763,
          "theta": 0.07938821053426798
         },
         {
          "omega": -0.06159799940216715,
          "t": 13.229999999999762,
          "theta": 0.07877617958268403
         },
         {
          "omega": -0.06238266819439198,
          "t": 13.239999999999762,
          "theta": 0.07815627107878842
         },
         {
          "omega": -0.06316109877178275,
          "t": 13.249999999999762,
          "theta": 0.07752854701291494
         },
         {
          "omega": -0.06393321329193041,
          "t": 13.259999999999762,
          "theta": 0.07689307015694707
         },
         {
          "omega": -0.06469893454402639,
          "t": 13.269999999999762,
          "theta": 0.07624990405804086
         },
         {
          "omega": -0.06545818595658356,
          "t": 13.279999999999761,
          "theta": 0.07559911303227021
         },
         {
          "omega": -0.06621089160509339,
          "t": 13.289999999999761,
          "theta": 0.0749407621581954
         },
         {
          "omega": -0.06695697621961826,
          "t": 13.299999999999761,
          "theta": 0.07427491727035518
         },
         {
          "omega": -0.06769636519231846,
          "t": 13.30999999999976,
          "theta": 0.0736016449526835
         },
         {
          "omega": -0.06842898458491288,
          "t": 13.31999999999976,
          "theta": 0.07292101253185104
         },
         {
          "omega": -0.06915476113607277,
          "t": 13.32999999999976,
          "theta": 0.0722330880705327
         },
         {
          "omega": -0.06987362226874783,
          "t": 13.33999999999976,
          "theta": 0.07153794036060136
         },
         {
          "omega": -0.07058549609742383,
          "t": 13.34999999999976,
          "theta": 0.07083563891624871
         },
         {
          "omega": -0.07129031143531114,
          "t": 13.35999999999976,
          "theta": 0.07012625396703394
         },
         {
          "omega": -0.07198799780146332,
          "t": 13.36999999999976,
          "theta": 0.06940985645086081
         },
         {
          "omega": -0.07267848542782515,
          "t": 13.37999999999976,
          "theta": 0.06868651800688395
         },
         {
          "omega": -0.0733617052662094,
          "t": 13.389999999999759,
          "theta": 0.06795631096834498
         },
         {
          "omega": -0.07403758899520159,
          "t": 13.399999999999759,
          "theta": 0.06721930835533925
         },
         {
          "omega": -0.07470606902699203,
          "t": 13.409999999999759,
          "theta": 0.06647558386751388
         },
         {
          "omega": -0.07536707851413463,
          "t": 13.419999999999758,
          "theta": 0.0657252118766979
         },
         {
          "omega": -0.07602055135623151,
          "t": 13.429999999999758,
          "theta": 0.06496826741946508
         },
         {
          "omega": -0.076666422206543,
          "t": 13.439999999999758,
          "theta": 0.06420482618963036
         },
         {
          "omega": -0.07730462647852232,
          "t": 13.449999999999758,
          "theta": 0.06343496453068051
         },
         {
          "omega": -0.07793510035227409,
          "t": 13.459999999999757,
          "theta": 0.06265875942813989
         },
         {
          "omega": -0.07855778078093634,
          "t": 13.469999999999757,
          "theta": 0.06187628850187192
         },
         {
          "omega": -0.07917260549698509,
          "t": 13.479999999999757,
          "theta": 0.06108762999831716
         },
         {
          "omega": -0.07977951301846109,
          "t": 13.489999999999757,
          "theta": 0.060292862782668766
         },
         {
          "omega": -0.08037844265511795,
          "t": 13.499999999999757,
          "theta": 0.059492066330985985
         },
         {
          "omega": -0.08096933451449112,
          "t": 13.509999999999756,
          "theta": 0.058685320722246664
         },
         {
          "omega": -0.08155212950788705,
          "t": 13.519999999999756,
          "theta": 0.05787270663033939
         },
         {
          "omega": -0.08212676935629208,
          "t": 13.529999999999756,
          "theta": 0.05705430531599617
         },
         {
          "omega": -0.08269319659620022,
          "t": 13.539999999999756,
          "theta": 0.056230198618666453
         },
         {
          "omega": -0.08325135458535951,
          "t": 13.549999999999756,
          "theta": 0.05540046894833321
         },
         {
          "omega": -0.08380118750843617,
          "t": 13.559999999999755,
          "theta": 0.05456519927727204
         },
         {
          "omega": -0.08434264038259606,
          "t": 13.569999999999755,
          "theta": 0.05372447313175399
         },
         {
          "omega": -0.084875659063003,
          "t": 13.579999999999755,
          "theta": 0.052878374583693016
         },
         {
          "omega": -0.08540019024823312,
          "t": 13.589999999999755,
          "theta": 0.052026988242238836
         },
         {
          "omega": -0.085916181485605,
          "t": 13.599999999999755,
          "theta": 0.05117039924531611
         },
         {
          "omega": -0.0864235811764249,
          "t": 13.609999999999754,
          "theta": 0.05030869325111072
         },
         {
          "omega": -0.08692233858114658,
          "t": 13.619999999999754,
          "theta": 0.049441956429503976
         },
         {
          "omega": -0.08741240382444518,
          "t": 13.629999999999754,
          "theta": 0.04857027545345578
         },
         {
          "omega": -0.08789372790020476,
          "t": 13.639999999999754,
          "theta": 0.04769373749033734
         },
         {
          "omega": -0.08836626267641885,
          "t": 13.649999999999753,
          "theta": 0.04681243019321451
         },
         {
          "omega": -0.08882996090000361,
          "t": 13.659999999999753,
          "theta": 0.045926441692082584
         },
         {
          "omega": -0.08928477620152309,
          "t": 13.669999999999753,
          "theta": 0.045035860585053364
         },
         {
          "omega": -0.08973066309982614,
          "t": 13.679999999999753,
          "theta": 0.0441407759294954
         },
         {
          "omega": -0.09016757700659452,
          "t": 13.689999999999753,
          "theta": 0.04324127723312834
         },
         {
          "omega": -0.09059547423080162,
          "t": 13.699999999999752,
          "theta": 0.042337454445072246
         },
         {
          "omega": -0.09101431198308163,
          "t": 13.709999999999752,
          "theta": 0.04142939794685274
         },
         {
          "omega": -0.09142404838000834,
          "t": 13.719999999999752,
          "theta": 0.040517198543362935
         },
         {
          "omega": -0.0918246424482835,
          "t": 13.729999999999752,
          "theta": 0.03960094745378301
         },
         {
          "omega": -0.09221605412883412,
          "t": 13.739999999999752,
          "theta": 0.038680736302458385
         },
         {
          "omega": -0.0925982442808183,
          "t": 13.749999999999751,
          "theta": 0.03775665710973736
         },
         {
          "omega": -0.09297117468553935,
          "t": 13.759999999999751,
          "theta": 0.036828802282769135
         },
         {
          "omega": -0.09333480805026757,
          "t": 13.76999999999975,
          "theta": 0.035897264606263204
         },
         {
          "omega": -0.09368910801196952,
          "t": 13.77999999999975,
          "theta": 0.034962137233210934
         },
         {
          "omega": -0.09403403914094426,
          "t": 13.78999999999975,
          "theta": 0.034023513675570355
         },
         {
          "omega": -0.09436956694436634,
          "t": 13.79999999999975,
          "theta": 0.03308148779491506
         },
         {
          "omega": -0.09469565786973502,
          "t": 13.80999999999975,
          "theta": 0.03213615379304808
         },
         {
          "omega": -0.09501227930822953,
          "t": 13.81999999999975,
          "theta": 0.03118760620258184
         },
         {
          "omega": -0.09531939959796984,
          "t": 13.82999999999975,
          "theta": 0.03023593987748493
         },
         {
          "omega": -0.09561698802718292,
          "t": 13.83999999999975,
          "theta": 0.0292812499835968
         },
         {
          "omega": -0.09590501483727384,
          "t": 13.84999999999975,
          "theta": 0.028323631989111274
         },
         {
          "omega": -0.09618345122580162,
          "t": 13.859999999999749,
          "theta": 0.027363181655029784
         },
         {
          "omega": -0.09645226934935942,
          "t": 13.869999999999749,
          "theta": 0.02639999502558537
         },
         {
          "omega": -0.09671144232635892,
          "t": 13.879999999999749,
          "theta": 0.02543416841863832
         },
         {
          "omega": -0.09696094423971838,
          "t": 13.889999999999748,
          "theta": 0.024465798416044474
         },
         {
          "omega": -0.09720075013945438,
          "t": 13.899999999999748,
          "theta": 0.02349498185399712
         },
         {
          "omega": -0.0974308360451768,
          "t": 13.909999999999748,
          "theta": 0.02252181581334346
         },
         {
          "omega": -0.0976511789484868,
          "t": 13.919999999999748,
          "theta": 0.021546397609876578
         },
         {
          "omega": -0.09786175681527765,
          "t": 13.929999999999747,
          "theta": 0.020568824784603982
         },
         {
          "omega": -0.09806254858793816,
          "t": 13.939999999999747,
          "theta": 0.019589195093993556
         },
         {
          "omega": -0.0982535341874584,
          "t": 13.949999999999747,
          "theta": 0.018607606500198007
         },
         {
          "omega": -0.09843469451543757,
          "t": 13.959999999999747,
          "theta": 0.017624157161258727
         },
         {
          "omega": -0.09860601145599383,
          "t": 13.969999999999747,
          "theta": 0.016638945421290068
         },
         {
          "omega": -0.0987674678775759,
          "t": 13.979999999999746,
          "theta": 0.015652069800645024
         },
         {
          "omega": -0.09891904763467615,
          "t": 13.989999999999746,
          "theta": 0.014663628986063264
         },
         {
          "omega": -0.09906073556944521,
          "t": 13.999999999999746,
          "theta": 0.013673721820802547
         },
         {
          "omega": -0.09919251751320766,
          "t": 14.009999999999746,
          "theta": 0.012682447294754482
         },
         {
          "omega": -0.09931438028787895,
          "t": 14.019999999999746,
          "theta": 0.011689904534545614
         },
         {
          "omega": -0.09942631170728315,
          "t": 14.029999999999745,
          "theta": 0.010696192793624845
         },
         {
          "omega": -0.09952830057837161,
          "t": 14.039999999999745,
          "theta": 0.009701411442338178
         },
         {
          "omega": -0.09962033670234222,
          "t": 14.049999999999745,
          "theta": 0.008705659957991762
         },
         {
          "omega": -0.09970241087565924,
          "t": 14.059999999999745,
          "theta": 0.0077090379149042385
         },
         {
          "omega": -0.09977451489097378,
          "t": 14.069999999999744,
          "theta": 0.006711644974449402
         },
         {
          "omega": -0.09983664153794436,
          "t": 14.079999999999744,
          "theta": 0.00571358087509014
         },
         {
          "omega": -0.09988878460395807,
          "t": 14.089999999999744,
          "theta": 0.004714945422404672
         },
         {
          "omega": -0.09993093887475177,
          "t": 14.099999999999744,
          "theta": 0.0037158384791060716
         },
         {
          "omega": -0.0999631001349335,
          "t": 14.109999999999744,
          "theta": 0.002716359955056083
         },
         {
          "omega": -0.09998526516840403,
          "t": 14.119999999999743,
          "theta": 0.0017166097972742154
         },
         {
          "omega": -0.0999974317586785,
          "t": 14.129999999999743,
          "theta": 0.000716687979943124
         },
         {
          "omega": -0.09999959868910803,
          "t": 14.139999999999743,
          "theta": -0.000283305505588723
         },
         {
          "omega": -0.09999176574300137,
          "t": 14.149999999999743,
          "theta": -0.0012832706608060973
         },
         {
          "omega": -0.0999739337036466,
          "t": 14.159999999999743,
          "theta": -0.002283107490026779
         },
         {
          "omega": -0.0999461043542328,
          "t": 14.169999999999742,
          "theta": -0.003282716010401041
         },
         {
          "omega": -0.09990828047767172,
          "t": 14.179999999999742,
          "theta": -0.004281996261909849
         },
         {
          "omega": -0.0998604658563195,
          "t": 14.189999999999742,
          "theta": -0.005280848317360785
         },
         {
          "omega": -0.09980266527159842,
          "t": 14.199999999999742,
          "theta": -0.0062791722923806765
         },
         {
          "omega": -0.09973488450351879,
          "t": 14.209999999999742,
          "theta": -0.007276868355403955
         },
         {
          "omega": -0.09965713033010094,
          "t": 14.219999999999741,
          "theta": -0.00827383673765573
         },
         {
          "omega": -0.09956941052669742,
          "t": 14.229999999999741,
          "theta": -0.009269977743128578
         },
         {
          "omega": -0.09947173386521545,
          "t": 14.23999999999974,
          "theta": -0.01026519175855207
         },
         {
          "omega": -0.0993641101132398,
          "t": 14.24999999999974,
          "theta": -0.011259379263354003
         },
         {
          "omega": -0.09924655003305598,
          "t": 14.25999999999974,
          "theta": -0.012252440839612386
         },
         {
          "omega": -0.09911906538057404,
          "t": 14.26999999999974,
          "theta": -0.013244277181997142
         },
         {
          "omega": -0.09898166890415298,
          "t": 14.27999999999974,
          "theta": -0.014234789107700558
         },
         {
          "omega": -0.09883437434332595,
          "t": 14.28999999999974,
          "theta": -0.015223877566355487
         },
         {
          "omega": -0.0986771964274263,
          "t": 14.29999999999974,
          "theta": -0.016211443649940302
         },
         {
          "omega": -0.09851015087411463,
          "t": 14.30999999999974,
          "theta": -0.017197388602669613
         },
         {
          "omega": -0.09833325438780707,
          "t": 14.31999999999974,
          "theta": -0.018181613830869768
         },
         {
          "omega": -0.09814652465800483,
          "t": 14.329999999999739,
          "theta": -0.01916402091283813
         },
         {
          "omega": -0.0979499803575253,
          "t": 14.339999999999739,
          "theta": -0.02014451160868517
         },
         {
          "omega": -0.09774364114063472,
          "t": 14.349999999999739,
          "theta": -0.02112298787015838
         },
         {
          "omega": -0.09752752764108284,
          "t": 14.359999999999738,
          "theta": -0.022099351850447004
         },
         {
          "omega": -0.09730166147003952,
          "t": 14.369999999999738,
          "theta": -0.02307350591396665
         },
         {
          "omega": -0.09706606521393364,
          "t": 14.379999999999738,
          "theta": -0.024045352646122755
         },
         {
          "omega": -0.0968207624321945,
          "t": 14.389999999999738,
          "theta": -0.025014794863051974
         },
         {
          "omega": -0.09656577765489582,
          "t": 14.399999999999737,
          "theta": -0.02598173562134048
         },
         {
          "omega": -0.09630113638030288,
          "t": 14.409999999999737,
          "theta": -0.026946078227718228
         },
         {
          "omega": -0.09602686507232258,
          "t": 14.419999999999737,
          "theta": -0.02790772624872819
         },
         {
          "omega": -0.09574299115785717,
          "t": 14.429999999999737,
          "theta": -0.028866583520369644
         },
         {
          "omega": -0.09544954302406154,
          "t": 14.439999999999737,
          "theta": -0.029822554157714464
         },
         {
          "omega": -0.09514655001550452,
          "t": 14.449999999999736,
          "theta": -0.030775542564495557
         },
         {
          "omega": -0.09483404243123449,
          "t": 14.459999999999736,
          "theta": -0.031725453442666404
         },
         {
          "omega": -0.09451205152174944,
          "t": 14.469999999999736,
          "theta": -0.032672191801930775
         },
         {
          "omega": -0.09418060948587198,
          "t": 14.479999999999736,
          "theta": -0.033615662969241684
         },
         {
          "omega": -0.09383974946752953,
          "t": 14.489999999999736,
          "theta": -0.03455577259826863
         },
         {
          "omega": -0.09348950555243984,
          "t": 14.499999999999735,
          "theta": -0.03549242667883212
         },
         {
          "omega": -0.09312991276470259,
          "t": 14.509999999999735,
          "theta": -0.03642553154630466
         },
         {
          "omega": -0.09276100706329686,
          "t": 14.519999999999735,
          "theta": -0.03735499389097707
         },
         {
          "omega": -0.09238282533848538,
          "t": 14.529999999999735,
          "theta": -0.03828072076738945
         },
         {
          "omega": -0.0919954054081255,
          "t": 14.539999999999734,
          "theta": -0.03920261960362558
         },
         {
          "omega": -0.09159878601388736,
          "t": 14.549999999999734,
          "theta": -0.04012059821057009
         },
         {
          "omega": -0.09119300681737992,
          "t": 14.559999999999734,
          "theta": -0.04103456479112726
         },
         {
          "omega": -0.09077810839618466,
          "t": 14.569999999999734,
          "theta": -0.041944427949400676
         },
         {
          "omega": -0.09035413223979796,
          "t": 14.579999999999734,
          "theta": -0.042850096699832724
         },
         {
          "omega": -0.08992112074548214,
          "t": 14.589999999999733,
          "theta": -0.04375148047630308
         },
         {
          "omega": -0.08947911721402578,
          "t": 14.599999999999733,
          "theta": -0.04464848914118526
         },
         {
          "omega": -0.0890281658454137,
          "t": 14.609999999999733,
          "theta": -0.04554103299436026
         },
         {
          "omega": -0.08856831173440698,
          "t": 14.619999999999733,
          "theta": -0.046429022782186566
         },
         {
          "omega": -0.0880996008660335,
          "t": 14.629999999999733,
          "theta": -0.047312369706425376
         },
         {
          "omega": -0.0876220801109895,
          "t": 14.639999999999732,
          "theta": -0.048190985433120385
         },
         {
          "omega": -0.08713579722095256,
          "t": 14.649999999999732,
          "theta": -0.0490647821014311
         },
         {
          "omega": -0.08664080082380644,
          "t": 14.659999999999732,
          "theta": -0.049933672332418855
         },
         {
          "omega": -0.08613714041877837,
          "t": 14.669999999999732,
          "theta": -0.050797569237784626
         },
         {
          "omega": -0.08562486637148914,
          "t": 14.679999999999731,
          "theta": -0.051656386428557785
         },
         {
          "omega": -0.08510402990891658,
          "t": 14.689999999999731,
          "theta": -0.05251003802373493
         },
         {
          "omega": -0.08457468311427291,
          "t": 14.699999999999731,
          "theta": -0.05335843865886793
         },
         {
          "omega": -0.08403687892179648,
          "t": 14.70999999999973,
          "theta": -0.05420150349460025
         },
         {
          "omega": -0.08349067111145837,
          "t": 14.71999999999973,
          "theta": -0.05503914822515088
         },
         {
          "omega": -0.08293611430358445,
          "t": 14.72999999999973,
          "theta": -0.055871289086744796
         },
         {
          "omega": -0.08237326395339337,
          "t": 14.73999999999973,
          "theta": -0.05669784286598929
         },
         {
          "omega": -0.0818021763454511,
          "t": 14.74999999999973,
          "theta": -0.057518726908195233
         },
         {
          "omega": -0.08122290858804254,
          "t": 14.75999999999973,
          "theta": -0.05833385912564247
         },
         {
          "omega": -0.08063551860746071,
          "t": 14.76999999999973,
          "theta": -0.05914315800578853
         },
         {
          "omega": -0.08004006514221418,
          "t": 14.77999999999973,
          "theta": -0.05994654261941981
         },
         {
          "omega": -0.07943660773715326,
          "t": 14.78999999999973,
          "theta": -0.06074393262874444
         },
         {
          "omega": -0.07882520673751557,
          "t": 14.799999999999729,
          "theta": -0.06153524829542596
         },
         {
          "omega": -0.0782059232828916,
          "t": 14.809999999999729,
          "theta": -0.062320410488557146
         },
         {
          "omega": -0.07757881930111071,
          "t": 14.819999999999729,
          "theta": -0.06309934069257297
         },
         {
          "omega": -0.07694395750204852,
          "t": 14.829999999999728,
          "theta": -0.06387196101510216
         },
         {
          "omega": -0.07630140137135587,
          "t": 14.839999999999728,
          "theta": -0.06463819419475629
         },
         {
          "omega": -0.07565121516411037,
          "t": 14.849999999999728,
          "theta": -0.06539796360885593
         },
         {
          "omega": -0.07499346389839094,
          "t": 14.859999999999728,
          "theta": -0.0661511932810928
         },
         {
          "omega": -0.07432821334877601,
          "t": 14.869999999999727,
          "theta": -0.06689780788912737
         },
         {
          "omega": -0.07365553003976617,
          "t": 14.879999999999727,
          "theta": -0.06763773277212101
         },
         {
          "omega": -0.07297548123913176,
          "t": 14.889999999999727,
          "theta": -0.06837089393820203
         },
         {
          "omega": -0.07228813495118615,
          "t": 14.899999999999727,
          "theta": -0.0690972180718648
         },
         {
          "omega": -0.07159355990998532,
          "t": 14.909999999999727,
          "theta": -0.06981663254130119
         },
         {
          "omega": -0.0708918255724546,
          "t": 14.919999999999726,
          "theta": -0.07052906540566378
         },
         {
          "omega": -0.07018300211144296,
          "t": 14.929999999999726,
          "theta": -0.07123444542225983
         },
         {
          "omega": -0.06946716040870582,
          "t": 14.939999999999726,
          "theta": -0.0719327020536755
         },
         {
          "omega": -0.06874437204781692,
          "t": 14.949999999999726,
          "theta": -0.07262376547482952
         },
         {
          "omega": -0.06801470930701001,
          "t": 14.959999999999726,
          "theta": -0.07330756657995566
         },
         {
          "omega": -0.06727824515195113,
          "t": 14.969999999999725,
          "theta": -0.07398403698951324
         },
         {
          "omega": -0.06653505322844208,
          "t": 14.979999999999725,
          "theta": -0.07465310905702502
         },
         {
          "omega": -0.06578520785505589,
          "t": 14.989999999999725,
          "theta": -0.07531471587584182
         },
         {
          "omega": -0.06502878401570501,
          "t": 14.999999999999725,
          "theta": -0.07596879128583309
         },
         {
          "omega": -0.06426585735214303,
          "t": 15.009999999999724,
          "theta": -0.07661526988000289
         },
         {
          "omega": -0.06349650415640054,
          "t": 15.019999999999724,
          "theta": -0.07725408701103054
         },
         {
          "omega": -0.062720801363156,
          "t": 15.029999999999724,
          "theta": -0.07788517879773527
         },
         {
          "omega": -0.061938826542042295,
          "t": 15.039999999999724,
          "theta": -0.07850848213146433
         },
         {
          "omega": -0.06115065788988991,
          "t": 15.049999999999724,
          "theta": -0.07912393468240377
         },
         {
          "omega": -0.060356374222907246,
          "t": 15.059999999999723,
          "theta": -0.07973147490581135
         },
         {
          "omega": -0.0595560549687991,
          "t": 15.069999999999723,
          "theta": -0.08033104204817103
         },
         {
          "omega": -0.058749780158823955,
          "t": 15.079999999999723,
          "theta": -0.0809225761532682
         },
         {
          "omega": -0.057937630419790914,
          "t": 15.089999999999723,
          "theta": -0.0815060180681853
         },
         {
          "omega": -0.0571196869659971,
          "t": 15.099999999999723,
          "theta": -0.08208130944921704
         },
         {
          "omega": -0.05629603159110626,
          "t": 15.109999999999722,
          "theta": -0.08264839276770472
         },
         {
          "omega": -0.055466746659969514,
          "t": 15.119999999999722,
          "theta": -0.08320721131578906
         },
         {
          "omega": -0.05463191510038891,
          "t": 15.129999999999722,
          "theta": -0.08375770921208094
         },
         {
          "omega": -0.053791620394824706,
          "t": 15.139999999999722,
          "theta": -0.08429983140724946
         },
         {
          "omega": -0.05294594657204722,
          "t": 15.149999999999721,
          "theta": -0.08483352368952689
         },
         {
          "omega": -0.052094978198734015,
          "t": 15.159999999999721,
          "theta": -0.08535873269012972
         },
         {
          "omega": -0.05123880037101327,
          "t": 15.169999999999721,
          "theta": -0.08587540588859559
         },
         {
          "omega": -0.05037749870595428,
          "t": 15.17999999999972,
          "theta": -0.0863834916180352
         },
         {
          "omega": -0.04951115933300581,
          "t": 15.18999999999972,
          "theta": -0.08688293907029901
         },
         {
          "omega": -0.0486398688853832,
          "t": 15.19999999999972,
          "theta": -0.087373698301058
         },
         {
          "omega": -0.04776371449140514,
          "t": 15.20999999999972,
          "theta": -0.08785572023479805
         },
         {
          "omega": -0.0468827837657809,
          "t": 15.21999999999972,
          "theta": -0.08832895666972748
         },
         {
          "omega": -0.04599716480084894,
          "t": 15.22999999999972,
          "theta": -0.08879336028259716
         },
         {
          "omega": -0.045106946157767745,
          "t": 15.23999999999972,
          "theta": -0.08924888463343279
         },
         {
          "omega": -0.04421221685765977,
          "t": 15.24999999999972,
          "theta": -0.0896954841701789
         },
         {
          "omega": -0.043313066372709416,
          "t": 15.25999999999972,
          "theta": -0.09013311423325399
         },
         {
          "omega": -0.0424095846172159,
          "t": 15.269999999999719,
          "theta": -0.09056173106001641
         },
         {
          "omega": -0.04150186193860186,
          "t": 15.279999999999719,
          "theta": -0.0909812917891407
         },
         {
          "omega": -0.04058998910837873,
          "t": 15.289999999999718,
          "theta": -0.09139175446490357
         },
         {
          "omega": -0.03967405731306964,
          "t": 15.299999999999718,
          "theta": -0.09179307804137948
         },
         {
          "omega": -0.038754158145090846,
          "t": 15.309999999999718,
          "theta": -0.09218522238654524
         },
         {
          "omega": -0.03783038359359257,
          "t": 15.319999999999718,
          "theta": -0.0925681482862931
         },
         {
          "omega": -0.036902826035260156,
          "t": 15.329999999999718,
          "theta": -0.09294181744835221
         },
         {
          "omega": -0.03597157822507646,
          "t": 15.339999999999717,
          "theta": -0.09330619250611774
         },
         {
          "omega": -0.03503673328704648,
          "t": 15.349999999999717,
          "theta": -0.09366123702238756
         },
         {
          "omega": -0.03409838470488497,
          "t": 15.359999999999717,
          "theta": -0.09400691549300591
         },
         {
          "omega": -0.033156626312668205,
          "t": 15.369999999999717,
          "theta": -0.09434319335041379
         },
         {
          "omega": -0.0322115522854506,
          "t": 15.379999999999717,
          "theta": -0.0946700369671057
         },
         {
          "omega": -0.031263257129847316,
          "t": 15.389999999999716,
          "theta": -0.09498741365899233
         },
         {
          "omega": -0.03031183567458368,
          "t": 15.399999999999716,
          "theta": -0.09529529168866897
         },
         {
          "omega": -0.029357383061012363,
          "t": 15.409999999999716,
          "theta": -0.09559364026858923
         },
         {
          "omega": -0.02839999473359935,
          "t": 15.419999999999716,
          "theta": -0.09588242956414372
         },
         {
          "omega": -0.027439766430379563,
          "t": 15.429999999999715,
          "theta": -0.09616163069664356
         },
         {
          "omega": -0.026476794173383132,
          "t": 15.439999999999715,
          "theta": -0.09643121574620817
         },
         {
          "omega": -0.025511174259033285,
          "t": 15.449999999999715,
          "theta": -0.09669115775455722
         },
         {
          "omega": -0.024543003248516777,
          "t": 15.459999999999715,
          "theta": -0.09694143072770653
         },
         {
          "omega": -0.023572377958127853,
          "t": 15.469999999999715,
          "theta": -0.09718200963856732
         },
         {
          "omega": -0.022599395449586702,
          "t": 15.479999999999714,
          "theta": -0.09741287042944899
         },
         {
          "omega": -0.02162415302033336,
          "t": 15.489999999999714,
          "theta": -0.09763399001446484
         },
         {
          "omega": -0.02064674819379805,
          "t": 15.499999999999714,
          "theta": -0.09784534628184062
         },
         {
          "omega": -0.01966727870964893,
          "t": 15.509999999999714,
          "theta": -0.09804691809612574
         },
         {
          "omega": -0.018685842514018187,
          "t": 15.519999999999714,
          "theta": -0.09823868530030674
         },
         {
          "omega": -0.017702537749707526,
          "t": 15.529999999999713,
          "theta": -0.09842062871782302
         },
         {
          "omega": -0.01671746274637396,
          "t": 15.539999999999713,
          "theta": -0.09859273015448443
         },
         {
          "omega": -0.01573071601069693,
          "t": 15.549999999999713,
          "theta": -0.09875497240029073
         },
         {
          "omega": -0.01474239621652772,
          "t": 15.559999999999713,
          "theta": -0.09890733923115252
         },
         {
          "omega": -0.013752602195022147,
          "t": 15.569999999999713,
          "theta": -0.09904981541051372
         },
         {
          "omega": -0.012761432924757534,
          "t": 15.579999999999712,
          "theta": -0.0991823866908751
         },
         {
          "omega": -0.011768987521834938,
          "t": 15.589999999999712,
          "theta": -0.09930503981521911
         },
         {
          "omega": -0.010775365229967616,
          "t": 15.599999999999712,
          "theta": -0.09941776251833552
         },
         {
          "omega": -0.00978066541055674,
          "t": 15.609999999999712,
          "theta": -0.09952054352804796
         },
         {
          "omega": -0.008784987532755336,
          "t": 15.619999999999711,
          "theta": -0.09961337256634109
         },
         {
          "omega": -0.007788431163521455,
          "t": 15.629999999999711,
          "theta": -0.09969624035038846
         },
         {
          "omega": -0.006791095957661561,
          "t": 15.639999999999711,
          "theta": -0.09976913859348072
         },
         {
          "omega": -0.005793081647865128,
          "t": 15.64999999999971,
          "theta": -0.0998320600058543
         },
         {
          "omega": -0.004794488034731462,
          "t": 15.65999999999971,
          "theta": -0.0998849982954204
         },
         {
          "omega": -0.0037954149767897164,
          "t": 15.66999999999971,
          "theta": -0.09992794816839418
         },
         {
          "omega": -0.002795962380513128,
          "t": 15.67999999999971,
          "theta": -0.09996090532982413
         },
         {
          "omega": -0.0017962301903284494,
          "t": 15.68999999999971,
          "theta": -0.09998386648402158
         },
         {
          "omega": -0.0007963183786215923,
          "t": 15.69999999999971,
          "theta": -0.09999682933489024
         },
         {
          "omega": 0.00020367306425953012,
          "t": 15.70999999999971,
          "theta": -0.09999979258615582
         },
         {
          "omega": 0.001203644140003953,
          "t": 15.71999999999971,
          "theta": -0.09999275594149568
         },
         {
          "omega": 0.0022034948523374084,
          "t": 15.729999999999709,
          "theta": -0.0999757201045684
         },
         {
          "omega": 0.003203125217021869,
          "t": 15.739999999999709,
          "theta": -0.09994868677894349
         },
         {
          "omega": 0.004202435271853889,
          "t": 15.749999999999709,
          "theta": -0.09991165866793097
         },
         {
          "omega": 0.005201325086660741,
          "t": 15.759999999999708,
          "theta": -0.09986463947431111
         },
         {
          "omega": 0.006199694773293349,
          "t": 15.769999999999708,
          "theta": -0.09980763389996407
         },
         {
          "omega": 0.007197444495615023,
          "t": 15.779999999999708,
          "theta": -0.09974064764539978
         },
         {
          "omega": 0.008194474479484985,
          "t": 15.789999999999708,
          "theta": -0.09966368740918788
         },
         {
          "omega": 0.009190685022735704,
          "t": 15.799999999999708,
          "theta": -0.09957676088728785
         },
         {
          "omega": 0.010185976505143027,
          "t": 15.809999999999707,
          "theta": -0.09947987677227947
         },
         {
          "omega": 0.01118024939838812,
          "t": 15.819999999999707,
          "theta": -0.09937304475249348
         },
         {
          "omega": 0.012173404276010219,
          "t": 15.829999999999707,
          "theta": -0.09925627551104282
         },
         {
          "omega": 0.013165341823349185,
          "t": 15.839999999999707,
          "theta": -0.09912958072475436
         },
         {
          "omega": 0.014155962847476897,
          "t": 15.849999999999707,
          "theta": -0.09899297306300113
         },
         {
          "omega": 0.015145168287116458,
          "t": 15.859999999999706,
          "theta": -0.09884646618643547
         },
         {
          "omega": 0.01613285922254824,
          "t": 15.869999999999706,
          "theta": -0.09869007474562294
         },
         {
          "omega": 0.01711893688550177,
          "t": 15.879999999999706,
          "theta": -0.0985238143795773
         },
         {
          "omega": 0.018103302669032484,
          "t": 15.889999999999706,
          "theta": -0.09834770171419661
         },
         {
          "omega": 0.01908585813738233,
          "t": 15.899999999999705,
          "theta": -0.09816175436060065
         },
         {
          "omega": 0.020066505035823263,
          "t": 15.909999999999705,
          "theta": -0.09796599091336983
         },
         {
          "omega": 0.021045145300482647,
          "t": 15.919999999999705,
          "theta": -0.09776043094868571
         },
         {
          "omega": 0.022021681068149543,
          "t": 15.929999999999705,
          "theta": -0.09754509502237348
         },
         {
          "omega": 0.022996014686060964,
          "t": 15.939999999999705,
          "theta": -0.09732000466784632
         },
         {
          "omega": 0.023968048721667058,
          "t": 15.949999999999704,
          "theta": -0.09708518239395211
         },
         {
          "omega": 0.024937685972374293,
          "t": 15.959999999999704,
          "theta": -0.09684065168272256
         },
         {
          "omega": 0.025904829475265626,
          "t": 15.969999999999704,
          "theta": -0.09658643698702502
         },
         {
          "omega": 0.02686938251679672,
          "t": 15.979999999999704,
          "theta": -0.09632256372811719
         },
         {
          "omega": 0.02783124864246721,
          "t": 15.989999999999704,
          "theta": -0.09604905829310509
         },
         {
          "omega": 0.028790331666466083,
          "t": 15.999999999999703,
          "theta": -0.0957659480323043
         },
         {
          "omega": 0.02974653568129017,
          "t": 16.009999999999703,
          "theta": -0.09547326125650497
         },
         {
          "omega": 0.030699765067334996,
          "t": 16.019999999999705,
          "theta": -0.09517102723414073
         },
         {
          "omega": 0.03164992450245614,
          "t": 16.029999999999706,
          "theta": -0.09485927618836199
         },
         {
          "omega": 0.03259691897150189,
          "t": 16.039999999999708,
          "theta": -0.09453803929401354
         },
         {
          "omega": 0.03354065377581449,
          "t": 16.04999999999971,
          "theta": -0.09420734867451712
         },
         {
          "omega": 0.03448103454269996,
          "t": 16.05999999999971,
          "theta": -0.09386723739865911
         },
         {
          "omega": 0.03541796723486526,
          "t": 16.069999999999713,
          "theta": -0.09351773947728367
         },
         {
          "omega": 0.03635135815982195,
          "t": 16.079999999999714,
          "theta": -0.0931588898598917
         },
         {
          "omega": 0.03728111397925535,
          "t": 16.089999999999716,
          "theta": -0.09279072443114587
         },
         {
          "omega": 0.03820714171835831,
          "t": 16.099999999999717,
          "theta": -0.09241328000728229
         },
         {
          "omega": 0.039129348775128615,
          "t": 16.10999999999972,
          "theta": -0.09202659433242877
         },
         {
          "omega": 0.04004764292962908,
          "t": 16.11999999999972,
          "theta": -0.09163070607483058
         },
         {
          "omega": 0.04096193235320952,
          "t": 16.129999999999722,
          "theta": -0.09122565482298357
         },
         {
          "omega": 0.04187212561768946,
          "t": 16.139999999999723,
          "theta": -0.09081148108167539
         },
         {
          "omega": 0.04277813170450095,
          "t": 16.149999999999725,
          "theta": -0.09038822626793502
         },
         {
          "omega": 0.04367986001379031,
          "t": 16.159999999999727,
          "theta": -0.08995593270689113
         },
         {
          "omega": 0.044577220373478055,
          "t": 16.169999999999728,
          "theta": -0.08951464362753957
         },
         {
          "omega": 0.04547012304827601,
          "t": 16.17999999999973,
          "theta": -0.08906440315842054
         },
         {
          "omega": 0.046358478748660774,
          "t": 16.18999999999973,
          "theta": -0.08860525632320576
         },
         {
          "omega": 0.047242198639802606,
          "t": 16.199999999999733,
          "theta": -0.08813724903619612
         },
         {
          "omega": 0.04812119435044883,
          "t": 16.209999999999734,
          "theta": -0.08766042809773032
         },
         {
          "omega": 0.04899537798176087,
          "t": 16.219999999999736,
          "theta": -0.08717484118950486
         },
         {
          "omega": 0.04986466211610407,
          "t": 16.229999999999738,
          "theta": -0.0866805368698059
         },
         {
          "omega": 0.050728959825789406,
          "t": 16.23999999999974,
          "theta": -0.0861775645686535
         },
         {
          "omega": 0.05158818468176615,
          "t": 16.24999999999974,
          "theta": -0.08566597458285863
         },
         {
          "omega": 0.05244225076226473,
          "t": 16.259999999999742,
          "theta": -0.08514581807099354
         },
         {
          "omega": 0.053291072661388814,
          "t": 16.269999999999744,
          "theta": -0.08461714704827597
         },
         {
          "omega": 0.054134565497655836,
          "t": 16.279999999999745,
          "theta": -0.08408001438136763
         },
         {
          "omega": 0.054972644922485076,
          "t": 16.289999999999747,
          "theta": -0.08353447378308758
         },
         {
          "omega": 0.05580522712863245,
          "t": 16.29999999999975,
          "theta": -0.08298057980704106
         },
         {
          "omega": 0.05663222885857116,
          "t": 16.30999999999975,
          "theta": -0.08241838784216408
         },
         {
          "omega": 0.057453567412817375,
          "t": 16.31999999999975,
          "theta": -0.08184795410718465
         },
         {
          "omega": 0.05826916065820012,
          "t": 16.329999999999753,
          "theta": -0.0812693356450009
         },
         {
          "omega": 0.059078927036074515,
          "t": 16.339999999999755,
          "theta": -0.08068259031697686
         },
         {
          "omega": 0.059882785570477576,
          "t": 16.349999999999756,
          "theta": -0.0800877767971564
         },
         {
          "omega": 0.060680655876225745,
          "t": 16.359999999999758,
          "theta": -0.0794849545663958
         },
         {
          "omega": 0.06147245816695333,
          "t": 16.36999999999976,
          "theta": -0.0788741839064158
         },
         {
          "omega": 0.062258113263091094,
          "t": 16.37999999999976,
          "theta": -0.07825552589377344
         },
         {
          "omega": 0.06303754259978414,
          "t": 16.389999999999763,
          "theta": -0.0776290423937544
         },
         {
          "omega": 0.06381066823474832,
          "t": 16.399999999999764,
          "theta": -0.07699479605418665
         },
         {
          "omega": 0.06457741285606439,
          "t": 16.409999999999766,
          "theta": -0.07635285029917559
         },
         {
          "omega": 0.06533769978990918,
          "t": 16.419999999999767,
          "theta": -0.07570326932276177
         },
         {
          "omega": 0.06609145300822289,
          "t": 16.42999999999977,
          "theta": -0.07504611808250151
         },
         {
          "omega": 0.0668385971363118,
          "t": 16.43999999999977,
          "theta": -0.07438146229297124
         },
         {
          "omega": 0.06757905746038571,
          "t": 16.449999999999772,
          "theta": -0.07370936841919601
         },
         {
          "omega": 0.06831275993502929,
          "t": 16.459999999999773,
          "theta": -0.07302990367000313
         },
         {
          "omega": 0.06903963119060647,
          "t": 16.469999999999775,
          "theta": -0.0723431359913013
         },
         {
          "omega": 0.0697595985405974,
          "t": 16.479999999999777,
          "theta": -0.07164913405928608
         },
         {
          "omega": 0.0704725899888671,
          "t": 16.489999999999778,
          "theta": -0.07094796727357235
         },
         {
          "omega": 0.07117853423686486,
          "t": 16.49999999999978,
          "theta": -0.07023970575025436
         },
         {
          "omega": 0.07187736069075418,
          "t": 16.50999999999978,
          "theta": -0.06952442031489424
         },
         {
          "omega": 0.07256899946847202,
          "t": 16.519999999999783,
          "theta": -0.06880218249543944
         },
         {
          "omega": 0.07325338140671697,
          "t": 16.529999999999784,
          "theta": -0.06807306451507007
         },
         {
          "omega": 0.07393043806786553,
          "t": 16.539999999999786,
          "theta": -0.06733713928497656
         },
         {
          "omega": 0.0746001017468158,
          "t": 16.549999999999788,
          "theta": -0.06659448039706864
         },
         {
          "omega": 0.07526230547775793,
          "t": 16.55999999999979,
          "theta": -0.06584516211661623
         },
         {
          "omega": 0.07591698304087066,
          "t": 16.56999999999979,
          "theta": -0.06508925937482293
         },
         {
          "omega": 0.07656406896894324,
          "t": 16.579999999999792,
          "theta": -0.06432684776133303
         },
         {
          "omega": 0.07720349855392211,
          "t": 16.589999999999794,
          "theta": -0.06355800351667251
         },
         {
          "omega": 0.07783520785338162,
          "t": 16.599999999999795,
          "theta": -0.06278280352462516
         },
         {
          "omega": 0.07845913369691823,
          "t": 16.609999999999797,
          "theta": -0.06200132530454417
         },
         {
          "omega": 0.07907521369246755,
          "t": 16.6199999999998,
          "theta": -0.06121364700360032
         },
         {
          "omega": 0.07968338623254341,
          "t": 16.6299999999998,
          "theta": -0.06041984738896731
         },
         {
          "omega": 0.08028359050039861,
          "t": 16.6399999999998,
          "theta": -0.0596200058399451
         },
         {
          "omega": 0.08087576647610654,
          "t": 16.649999999999803,
          "theta": -0.058814202340022076
         },
         {
          "omega": 0.08145985494256311,
          "t": 16.659999999999805,
          "theta": -0.05800251746887672
         },
         {
          "omega": 0.0820357974914084,
          "t": 16.669999999999806,
          "theta": -0.05718503239431974
         },
         {
          "omega": 0.08260353652886748,
          "t": 16.679999999999808,
          "theta": -0.056361828864177364
         },
         {
          "omega": 0.08316301528150973,
          "t": 16.68999999999981,
          "theta": -0.055532989198116604
         },
         {
          "omega": 0.0837141778019261,
          "t": 16.69999999999981,
          "theta": -0.05469859627941337
         },
         {
          "omega": 0.08425696897432386,
          "t": 16.709999999999813,
          "theta": -0.0538587335466642
         },
         {
          "omega": 0.08479133452003809,
          "t": 16.719999999999814,
          "theta": -0.05301348498544249
         },
         {
          "omega": 0.08531722100295952,
          "t": 16.729999999999816,
          "theta": -0.05216293511989999
         },
         {
          "omega": 0.08583457583487811,
          "t": 16.739999999999817,
          "theta": -0.05130716900431447
         },
         {
          "omega": 0.08634334728074178,
          "t": 16.74999999999982,
          "theta": -0.05044627221458435
         },
         {
          "omega": 0.08684348446382992,
          "t": 16.75999999999982,
          "theta": -0.04958033083967119
         },
         {
          "omega": 0.087334937370841,
          "t": 16.769999999999822,
          "theta": -0.048709431472990866
         },
         {
          "omega": 0.08781765685689387,
          "t": 16.779999999999824,
          "theta": -0.0478336612037543
         },
         {
          "omega": 0.08829159465044217,
          "t": 16.789999999999825,
          "theta": -0.046953107608258604
         },
         {
          "omega": 0.08875670335810151,
          "t": 16.799999999999827,
          "theta": -0.04606785874112954
         },
         {
          "omega": 0.08921293646938872,
          "t": 16.809999999999828,
          "theta": -0.045178003126516125
         },
         {
          "omega": 0.08966024836137285,
          "t": 16.81999999999983,
          "theta": -0.04428362974923827
         },
         {
          "omega": 0.09009859430323747,
          "t": 16.82999999999983,
          "theta": -0.043384828045888384
         },
         {
          "omega": 0.09052793046075366,
          "t": 16.839999999999833,
          "theta": -0.04248168789588781
         },
         {
          "omega": 0.09094821390066347,
          "t": 16.849999999999834,
          "theta": -0.04157429961249894
         },
         {
          "omega": 0.09135940259497315,
          "t": 16.859999999999836,
          "theta": -0.040662753933793955
         },
         {
          "omega": 0.09176145542515589,
          "t": 16.869999999999838,
          "theta": -0.0397471420135811
         },
         {
          "omega": 0.09215433218626375,
          "t": 16.87999999999984,
          "theta": -0.0388275554122894
         },
         {
          "omega": 0.092537993590948,
          "t": 16.88999999999984,
          "theta": -0.03790408608781265
         },
         {
          "omega": 0.09291240127338789,
          "t": 16.899999999999842,
          "theta": -0.036976826386313756
         },
         {
          "omega": 0.09327751779312718,
          "t": 16.909999999999844,
          "theta": -0.036045869032990153
         },
         {
          "omega": 0.09363330663881815,
          "t": 16.919999999999845,
          "theta": -0.035111307122801375
         },
         {
          "omega": 0.09397973223187274,
          "t": 16.929999999999847,
          "theta": -0.03417323411115964
         },
         {
          "omega": 0.09431675993002032,
          "t": 16.93999999999985,
          "theta": -0.033231743804584386
         },
         {
          "omega": 0.09464435603077194,
          "t": 16.94999999999985,
          "theta": -0.0322869303513217
         },
         {
          "omega": 0.09496248777479051,
          "t": 16.95999999999985,
          "theta": -0.03133888823192957
         },
         {
          "omega": 0.09527112334916674,
          "t": 16.969999999999853,
          "theta": -0.030387712249829897
         },
         {
          "omega": 0.09557023189060038,
          "t": 16.979999999999855,
          "theta": -0.02943349752182825
         },
         {
          "omega": 0.09585978348848655,
          "t": 16.989999999999856,
          "theta": -0.028476339468602254
         },
         {
          "omega": 0.09613974918790676,
          "t": 16.999999999999858,
          "theta": -0.0275163338051596
         },
         {
          "omega": 0.09641010099252437,
          "t": 17.00999999999986,
          "theta": -0.02655357653126663
         },
         {
          "omega": 0.0966708118673842,
          "t": 17.01999999999986,
          "theta": -0.025588163921848442
         },
         {
          "omega": 0.09692185574161603,
          "t": 17.029999999999863,
          "theta": -0.02462019251736147
         },
         {
          "omega": 0.09716320751104164,
          "t": 17.039999999999864,
          "theta": -0.023649759114139517
         },
         {
          "omega": 0.09739484304068521,
          "t": 17.049999999999866,
          "theta": -0.022676960754714218
         },
         {
          "omega": 0.09761673916718681,
          "t": 17.059999999999867,
          "theta": -0.02170189471811085
         },
         {
          "omega": 0.0978288737011187,
          "t": 17.06999999999987,
          "theta": -0.020724658510120526
         },
         {
          "omega": 0.09803122542920427,
          "t": 17.07999999999987,
          "theta": -0.019745349853549678
         },
         {
          "omega": 0.09822377411643933,
          "t": 17.089999999999872,
          "theta": -0.01876406667844788
         },
         {
          "omega": 0.09840650050811561,
          "t": 17.099999999999874,
          "theta": -0.017780907112314906
         },
         {
          "omega": 0.09857938633174623,
          "t": 17.109999999999875,
          "theta": -0.016795969470288073
         },
         {
          "omega": 0.09874241429889288,
          "t": 17.119999999999877,
          "theta": -0.01580935224531081
         },
         {
          "omega": 0.0988955681068947,
          "t": 17.129999999999878,
          "theta": -0.014821154098283428
         },
         {
          "omega": 0.09903883244049853,
          "t": 17.13999999999988,
          "theta": -0.01383147384819714
         },
         {
          "omega": 0.0991721929733904,
          "t": 17.14999999999988,
          "theta": -0.012840410462252221
         },
         {
          "omega": 0.09929563636962814,
          "t": 17.159999999999883,
          "theta": -0.011848063045961385
         },
         {
          "omega": 0.099409150284975,
          "t": 17.169999999999884,
          "theta": -0.010854530833239305
         },
         {
          "omega": 0.09951272336813405,
          "t": 17.179999999999886,
          "theta": -0.009859913176479313
         },
         {
          "omega": 0.09960634526188328,
          "t": 17.189999999999888,
          "theta": -0.008864309536618242
         },
         {
          "omega": 0.09969000660411131,
          "t": 17.19999999999989,
          "theta": -0.007867819473190409
         },
         {
          "omega": 0.09976369902875368,
          "t": 17.20999999999989,
          "theta": -0.006870542634371751
         },
         {
          "omega": 0.0998274151666293,
          "t": 17.219999999999892,
          "theta": -0.005872578747015089
         },
         {
          "omega": 0.09988114864617749,
          "t": 17.229999999999894,
          "theta": -0.0048740276066775255
         },
         {
          "omega": 0.09992489409409507,
          "t": 17.239999999999895,
          "theta": -0.0038749890676409706
         },
         {
          "omega": 0.0999586471358737,
          "t": 17.249999999999897,
          "theta": -0.002875563032926799
         },
         {
          "omega": 0.09998240439623733,
          "t": 17.2599999999999,
          "theta": -0.0018758494443056296
         },
         {
          "omega": 0.09999616349947973,
          "t": 17.2699999999999,
          "theta": -0.0008759482723032328
         },
         {
          "omega": 0.09999992306970204,
          "t": 17.2799999999999,
          "theta": 0.00012404049379643924
         },
         {
          "omega": 0.09999368273095037,
          "t": 17.289999999999903,
          "theta": 0.0011240168559500977
         },
         {
          "omega": 0.09997744310725339,
          "t": 17.299999999999905,
          "theta": 0.002123880817354838
         },
         {
          "omega": 0.09995120582255994,
          "t": 17.309999999999906,
          "theta": 0.003123532392447737
         },
         {
          "omega": 0.09991497350057663,
          "t": 17.319999999999908,
          "theta": 0.0041228716169043255
         },
         {
          "omega": 0.09986874976450545,
          "t": 17.32999999999991,
          "theta": 0.0051217985576349385
         },
         {
          "omega": 0.0998125392366815,
          "t": 17.33999999999991,
          "theta": 0.006120213322777938
         },
         {
          "omega": 0.09974634753811072,
          "t": 17.349999999999913,
          "theta": 0.007118016071688819
         },
         {
          "omega": 0.0996701812879078,
          "t": 17.359999999999914,
          "theta": 0.008115107024924191
         },
         {
          "omega": 0.0995840481026343,
          "t": 17.369999999999916,
          "theta": 0.009111386474219637
         },
         {
          "omega": 0.09948795659553696,
          "t": 17.379999999999917,
          "theta": 0.010106754792460456
         },
         {
          "omega": 0.09938191637568641,
          "t": 17.38999999999992,
          "theta": 0.011101112443644296
         },
         {
          "omega": 0.09926593804701629,
          "t": 17.39999999999992,
          "theta": 0.012094359992834668
         },
         {
          "omega": 0.0991400332072628,
          "t": 17.409999999999922,
          "theta": 0.013086398116104354
         },
         {
          "omega": 0.099004214446805,
          "t": 17.419999999999924,
          "theta": 0.014077127610467725
         },
         {
          "omega": 0.09885849534740576,
          "t": 17.429999999999925,
          "theta": 0.015066449403800948
         },
         {
          "omega": 0.09870289048085358,
          "t": 17.439999999999927,
          "theta": 0.016054264564749125
         },
         {
          "omega": 0.09853741540750544,
          "t": 17.44999999999993,
          "theta": 0.017040474312619333
         },
         {
          "omega": 0.09836208667473079,
          "t": 17.45999999999993,
          "theta": 0.018024980027258625
         },
         {
          "omega": 0.09817692181525679,
          "t": 17.46999999999993,
          "theta": 0.01900768325891596
         },
         {
          "omega": 0.0979819393454151,
          "t": 17.479999999999933,
          "theta": 0.01998848573808708
         },
         {
          "omega": 0.09777715876329021,
          "t": 17.489999999999934,
          "theta": 0.02096728938534141
         },
         {
          "omega": 0.09756260054676967,
          "t": 17.499999999999936,
          "theta": 0.021943996321129887
         },
         {
          "omega": 0.09733828615149635,
          "t": 17.509999999999938,
          "theta": 0.02291850887557285
         },
         {
          "omega": 0.09710423800872285,
          "t": 17.51999999999994,
          "theta": 0.02389072959822695
         },
         {
          "omega": 0.09686047952306841,
          "t": 17.52999999999994,
          "theta": 0.0248605612678301
         },
         {
          "omega": 0.09660703507017844,
          "t": 17.539999999999942,
          "theta": 0.025827906902023533
         },
         {
          "omega": 0.09634392999428705,
          "t": 17.549999999999944,
          "theta": 0.026792669767049946
         },
         {
          "omega": 0.09607119060568257,
          "t": 17.559999999999945,
          "theta": 0.027754753387426803
         },
         {
          "omega": 0.09578884417807658,
          "t": 17.569999999999947,
          "theta": 0.0287140615555938
         },
         {
          "omega": 0.09549691894587654,
          "t": 17.57999999999995,
          "theta": 0.02967049834153354
         },
         {
          "omega": 0.09519544410136242,
          "t": 17.58999999999995,
          "theta": 0.03062396810236446
         },
         {
          "omega": 0.09488444979176744,
          "t": 17.59999999999995,
          "theta": 0.031574375491905025
         },
         {
          "omega": 0.09456396711626339,
          "t": 17.609999999999953,
          "theta": 0.032521625470208294
         },
         {
          "omega": 0.09423402812285074,
          "t": 17.619999999999955,
          "theta": 0.0334656233130658
         },
         {
          "omega": 0.0938946658051539,
          "t": 17.629999999999956,
          "theta": 0.03440627462147993
         },
         {
          "omega": 0.09354591409912184,
          "t": 17.639999999999958,
          "theta": 0.03534348533110371
         },
         {
          "omega": 0.09318780787963454,
          "t": 17.64999999999996,
          "theta": 0.03627716172164718
         },
         {
          "omega": 0.09282038295701552,
          "t": 17.65999999999996,
          "theta": 0.03720721042624936
         },
         {
          "omega": 0.09244367607345085,
          "t": 17.669999999999963,
          "theta": 0.03813353844081481
         },
         {
          "omega": 0.09205772489931496,
          "t": 17.679999999999964,
          "theta": 0.03905605313331402
         },
         {
          "omega": 0.09166256802940367,
          "t": 17.689999999999966,
          "theta": 0.0399746622530465
         },
         {
          "omega": 0.09125824497907466,
          "t": 17.699999999999967,
          "theta": 0.040889273939865786
         },
         {
          "omega": 0.090844796180296,
          "t": 17.70999999999997,
          "theta": 0.04179979673336536
         },
         {
          "omega": 0.09042226297760307,
          "t": 17.71999999999997,
          "theta": 0.04270613958202465
         },
         {
          "omega": 0.089990687623964,
          "t": 17.729999999999972,
          "theta": 0.04360821185231406
         },
         {
          "omega": 0.08955011327655453,
          "t": 17.739999999999974,
          "theta": 0.044505923337758296
         },
         {
          "omega": 0.08910058399244225,
          "t": 17.749999999999975,
          "theta": 0.0453991842679569
         },
         {
          "omega": 0.08864214472418096,
          "t": 17.759999999999977,
          "theta": 0.04628790531756123
         },
         {
          "omega": 0.08817484131531546,
          "t": 17.76999999999998,
          "theta": 0.047171997615206934
         },
         {
          "omega": 0.08769872049579722,
          "t": 17.77999999999998,
          "theta": 0.04805137275240098
         },
         {
          "omega": 0.08721382987731141,
          "t": 17.78999999999998,
          "theta": 0.048925942792362453
         },
         {
          "omega": 0.08672021794851582,
          "t": 17.799999999999983,
          "theta": 0.04979562027881618
         },
         {
          "omega": 0.08621793407019199,
          "t": 17.809999999999985,
          "theta": 0.05066031824473823
         },
         {
          "omega": 0.08570702847030917,
          "t": 17.819999999999986,
          "theta": 0.0515199502210526
         },
         {
          "omega": 0.08518755223900161,
          "t": 17.829999999999988,
          "theta": 0.05237443024527801
         },
         {
          "omega": 0.08465955732345953,
          "t": 17.83999999999999,
          "theta": 0.053223672870124104
         },
         {
          "omega": 0.0841230965227345,
          "t": 17.84999999999999,
          "theta": 0.0540675931720361
         },
         {
          "omega": 0.08357822348245954,
          "t": 17.859999999999992,
          "theta": 0.05490610675968706
         },
         {
          "omega": 0.08302499268948461,
          "t": 17.869999999999994,
          "theta": 0.05573912978241699
         },
         {
          "omega": 0.08246345946642801,
          "t": 17.879999999999995,
          "theta": 0.056566578938617794
         },
         {
          "omega": 0.08189367996614408,
          "t": 17.889999999999997,
          "theta": 0.057388371484063394
         },
         {
          "omega": 0.08131571116610803,
          "t": 17.9,
          "theta": 0.05820442524018407
         },
         {
          "omega": 0.08072961086271824,
          "t": 17.91,
          "theta": 0.05901465860228425
         },
         {
          "omega": 0.08013543766551662,
          "t": 17.92,
          "theta": 0.05981899054770291
         },
         {
          "omega": 0.07953325099132776,
          "t": 17.930000000000003,
          "theta": 0.0606173406439158
         },
         {
          "omega": 0.07892311105831724,
          "t": 17.940000000000005,
          "theta": 0.061409629056578575
         },
         {
          "omega": 0.07830507887996994,
          "t": 17.950000000000006,
          "theta": 0.06219577655751021
         },
         {
          "omega": 0.07767921625898866,
          "t": 17.960000000000008,
          "theta": 0.06297570453261574
         },
         {
          "omega": 0.07704558578111394,
          "t": 17.97000000000001,
          "theta": 0.06374933498974758
         },
         {
          "omega": 0.07640425080886555,
          "t": 17.98000000000001,
          "theta": 0.0645165905665047
         },
         {
          "omega": 0.07575527547520626,
          "t": 17.990000000000013,
          "theta": 0.06527739453796882
         },
         {
          "omega": 0.07509872467712864,
          "t": 18.000000000000014,
          "theta": 0.06603167082437679
         },
         {
          "omega": 0.07443466406916537,
          "t": 18.010000000000016,
          "theta": 0.06677934399872854
         },
         {
          "omega": 0.07376316005682386,
          "t": 18.020000000000017,
          "theta": 0.06752033929432967
         },
         {
          "omega": 0.07308427978994576,
          "t": 18.03000000000002,
          "theta": 0.06825458261226813
         },
         {
          "omega": 0.07239809115599202,
          "t": 18.04000000000002,
          "theta": 0.06898200052882399
         },
         {
          "omega": 0.07170466277325423,
          "t": 18.050000000000022,
          "theta": 0.06970252030281177
         },
         {
          "omega": 0.0710040639839928,
          "t": 18.060000000000024,
          "theta": 0.07041606988285451
         },
         {
          "omega": 0.07029636484750282,
          "t": 18.070000000000025,
          "theta": 0.07112257791458883
         },
         {
          "omega": 0.0695816361331082,
          "t": 18.080000000000027,
          "theta": 0.07182197374780029
         },
         {
          "omega": 0.06885994931308476,
          "t": 18.09000000000003,
          "theta": 0.07251418744348842
         },
         {
          "omega": 0.06813137655551312,
          "t": 18.10000000000003,
          "theta": 0.07319914978086049
         },
         {
          "omega": 0.06739599071706187,
          "t": 18.11000000000003,
          "theta": 0.07387679226425356
         },
         {
          "omega": 0.06665386533570207,
          "t": 18.120000000000033,
          "theta": 0.07454704712998399
         },
         {
          "omega": 0.06590507462335339,
          "t": 18.130000000000035,
          "theta": 0.07520984735312375
         },
         {
          "omega": 0.0651496934584631,
          "t": 18.140000000000036,
          "theta": 0.07586512665420285
         },
         {
          "omega": 0.06438779737851817,
          "t": 18.150000000000038,
          "theta": 0.07651281950583726
         },
         {
          "omega": 0.06361946257249172,
          "t": 18.16000000000004,
          "theta": 0.07715286113928155
         },
         {
          "omega": 0.06284476587322406,
          "t": 18.17000000000004,
          "theta": 0.07778518755090574
         },
         {
          "omega": 0.06206378474973954,
          "t": 18.180000000000042,
          "theta": 0.07840973550859563
         },
         {
          "omega": 0.06127659729949969,
          "t": 18.190000000000044,
          "theta": 0.07902644255807588
         },
         {
          "omega": 0.06048328224059355,
          "t": 18.200000000000045,
          "theta": 0.07963524702915546
         },
         {
          "omega": 0.059683918903865915,
          "t": 18.210000000000047,
          "theta": 0.08023608804189461
         },
         {
          "omega": 0.058878587224984326,
          "t": 18.22000000000005,
          "theta": 0.08082890551269276
         },
         {
          "omega": 0.058067367736445566,
          "t": 18.23000000000005,
          "theta": 0.08141364016029683
         },
         {
          "omega": 0.057250341559522466,
          "t": 18.24000000000005,
          "theta": 0.08199023351172934
         },
         {
          "omega": 0.056427590396151875,
          "t": 18.250000000000053,
          "theta": 0.08255862790813563
         },
         {
          "omega": 0.055599196520764504,
          "t": 18.260000000000055,
          "theta": 0.08311876651054974
         },
         {
          "omega": 0.05476524277205756,
          "t": 18.270000000000056,
          "theta": 0.0836705933055782
         },
         {
          "omega": 0.05392581254471097,
          "t": 18.280000000000058,
          "theta": 0.08421405311100137
         },
         {
          "omega": 0.05308098978104792,
          "t": 18.29000000000006,
          "theta": 0.08474909158129158
         },
         {
          "omega": 0.052230858962640785,
          "t": 18.30000000000006,
          "theta": 0.08527565521304767
         },
         {
          "omega": 0.05137550510186295,
          "t": 18.310000000000063,
          "theta": 0.08579369135034524
         },
         {
          "omega": 0.05051501373338771,
          "t": 18.320000000000064,
          "theta": 0.08630314819000229
         },
         {
          "omega": 0.04964947090563483,
          "t": 18.330000000000066,
          "theta": 0.08680397478675939
         },
         {
          "omega": 0.04877896317216581,
          "t": 18.340000000000067,
          "theta": 0.08729612105837421
         },
         {
          "omega": 0.04790357758302857,
          "t": 18.35000000000007,
          "theta": 0.08777953779062972
         },
         {
          "omega": 0.04702340167605255,
          "t": 18.36000000000007,
          "theta": 0.08825417664225553
         },
         {
          "omega": 0.04613852346809495,
          "t": 18.370000000000072,
          "theta": 0.08871999014976202
         },
         {
          "omega": 0.04524903144623919,
          "t": 18.380000000000074,
          "theta": 0.0891769317321866
         },
         {
          "omega": 0.0443550145589462,
          "t": 18.390000000000075,
          "theta": 0.08962495569575182
         },
         {
          "omega": 0.0434565622071597,
          "t": 18.400000000000077,
          "theta": 0.09006401723843468
         },
         {
          "omega": 0.04255376423536617,
          "t": 18.41000000000008,
          "theta": 0.0904940724544468
         },
         {
          "omega": 0.04164671092261046,
          "t": 18.42000000000008,
          "theta": 0.09091507833862493
         },
         {
          "omega": 0.04073549297346796,
          "t": 18.43000000000008,
          "theta": 0.09132699279073152
         },
         {
          "omega": 0.03982020150897424,
          "t": 18.440000000000083,
          "theta": 0.0917297746196646
         },
         {
          "omega": 0.03890092805751301,
          "t": 18.450000000000085,
          "theta": 0.09212338354757693
         },
         {
          "omega": 0.037977764545663366,
          "t": 18.460000000000086,
          "theta": 0.09250778021390374
         },
         {
          "omega": 0.037050803289007186,
          "t": 18.470000000000088,
          "theta": 0.09288292617929872
         },
         {
          "omega": 0.03612013698289767,
          "t": 18.48000000000009,
          "theta": 0.09324878392947794
         },
         {
          "omega": 0.035185858693189874,
          "t": 18.49000000000009,
          "theta": 0.09360531687897128
         },
         {
          "omega": 0.034248061846934214,
          "t": 18.500000000000092,
          "theta": 0.09395248937478089
         },
         {
          "omega": 0.03330684022303382,
          "t": 18.510000000000094,
          "theta": 0.09429026669994649
         },
         {
          "omega": 0.032362287942866726,
          "t": 18.520000000000095,
          "theta": 0.09461861507701705
         },
         {
          "omega": 0.031414499460873824,
          "t": 18.530000000000097,
          "theta": 0.09493750167142849
         },
         {
          "omega": 0.0304635695551135,
          "t": 18.5400000000001,
          "theta": 0.09524689459478711
         },
         {
          "omega": 0.029509593317783887,
          "t": 18.5500000000001,
          "theta": 0.09554676290805839
         },
         {
          "omega": 0.02855266614571374,
          "t": 18.5600000000001,
          "theta": 0.0958370766246609
         },
         {
          "omega": 0.02759288373082283,
          "t": 18.570000000000103,
          "theta": 0.09611780671346491
         },
         {
          "omega": 0.026630342050552834,
          "t": 18.580000000000105,
          "theta": 0.09638892510169547
         },
         {
          "omega": 0.025665137358269658,
          "t": 18.590000000000106,
          "theta": 0.09665040467773969
         },
         {
          "omega": 0.0246973661736382,
          "t": 18.600000000000108,
          "theta": 0.09690221929385788
         },
         {
          "omega": 0.023727125272970447,
          "t": 18.61000000000011,
          "theta": 0.09714434376879826
         },
         {
          "omega": 0.022754511679547933,
          "t": 18.62000000000011,
          "theta": 0.0973767538903151
         },
         {
          "omega": 0.021779622653919497,
          "t": 18.630000000000113,
          "theta": 0.09759942641758992
         },
         {
          "omega": 0.020802555684175293,
          "t": 18.640000000000114,
          "theta": 0.09781233908355558
         },
         {
          "omega": 0.019823408476198075,
          "t": 18.650000000000116,
          "theta": 0.09801547059712289
         },
         {
          "omega": 0.01884227894389269,
          "t": 18.660000000000117,
          "theta": 0.09820880064530976
         },
         {
          "omega": 0.017859265199394764,
          "t": 18.67000000000012,
          "theta": 0.0983923098952725
         },
         {
          "omega": 0.016874465543259567,
          "t": 18.68000000000012,
          "theta": 0.09856597999623903
         },
         {
          "omega": 0.015887978454632055,
          "t": 18.690000000000122,
          "theta": 0.09872979358134397
         },
         {
          "omega": 0.014899902581399015,
          "t": 18.700000000000124,
          "theta": 0.09888373426936532
         },
         {
          "omega": 0.01391033673032438,
          "t": 18.710000000000125,
          "theta": 0.09902778666636258
         },
         {
          "omega": 0.01291937985716862,
          "t": 18.720000000000127,
          "theta": 0.09916193636721608
         },
         {
          "omega": 0.01192713105679326,
          "t": 18.73000000000013,
          "theta": 0.09928616995706753
         },
         {
          "omega": 0.010933689553251462,
          "t": 18.74000000000013,
          "theta": 0.09940047501266146
         },
         {
          "omega": 0.009939154689865717,
          "t": 18.75000000000013,
          "theta": 0.09950484010358757
         },
         {
          "omega": 0.008943625919293588,
          "t": 18.760000000000133,
          "theta": 0.09959925479342374
         },
         {
          "omega": 0.007947202793582525,
          "t": 18.770000000000135,
          "theta": 0.09968370964077967
         },
         {
          "omega": 0.006949984954214752,
          "t": 18.780000000000136,
          "theta": 0.09975819620024101
         },
         {
          "omega": 0.005952072122143192,
          "t": 18.790000000000138,
          "theta": 0.09982270702321387
         },
         {
          "omega": 0.004953564087819462,
          "t": 18.80000000000014,
          "theta": 0.09987723565866972
         },
         {
          "omega": 0.003954560701214907,
          "t": 18.81000000000014,
          "theta": 0.09992177665379046
         },
         {
          "omega": 0.0029551618618356866,
          "t": 18.820000000000142,
          "theta": 0.09995632555451367
         },
         {
          "omega": 0.0019554675087329098,
          "t": 18.830000000000144,
          "theta": 0.0999808789059781
         },
         {
          "omega": 0.000955577610508811,
          "t": 18.840000000000146,
          "theta": 0.09999543425286904
         },
         {
          "omega": -4.440784468002601e-05,
          "t": 18.850000000000147,
          "theta": 0.09999999013966394
         },
         {
          "omega": -0.0010443888591214008,
          "t": 18.86000000000015,
          "theta": 0.09999454611077793
         },
         {
          "omega": -0.0020442654355471842,
          "t": 18.87000000000015,
          "theta": 0.09997910271060935
         },
         {
          "omega": -0.003043937587132961,
          "t": 18.88000000000015,
          "theta": 0.09995366148348533
         },
         {
          "omega": -0.004043305347496631,
          "t": 18.890000000000153,
          "theta": 0.09991822497350741
         },
         {
          "omega": -0.005042268780694959,
          "t": 18.900000000000155,
          "theta": 0.09987279672429705
         },
         {
          "omega": -0.006040727991217095,
          "t": 18.910000000000156,
          "theta": 0.0998173812786413
         },
         {
          "omega": -0.007038583133974031,
          "t": 18.920000000000158,
          "theta": 0.09975198417803856
         },
         {
          "omega": -0.008035734424283035,
          "t": 18.93000000000016,
          "theta": 0.09967661196214439
         },
         {
          "omega": -0.009032082147846033,
          "t": 18.94000000000016,
          "theta": 0.09959127216811757
         },
         {
          "omega": -0.010027526670720955,
          "t": 18.950000000000163,
          "theta": 0.09949597332986639
         },
         {
          "omega": -0.011021968449285048,
          "t": 18.960000000000164,
          "theta": 0.09939072497719524
         },
         {
          "omega": -0.012015308040189156,
          "t": 18.970000000000166,
          "theta": 0.09927553763485171
         },
         {
          "omega": -0.013007446110301968,
          "t": 18.980000000000167,
          "theta": 0.09915042282147403
         },
         {
          "omega": -0.01399828344664325,
          "t": 18.99000000000017,
          "theta": 0.09901539304843927
         },
         {
          "omega": -0.014987720966305065,
          "t": 19.00000000000017,
          "theta": 0.09887046181861223
         },
         {
          "omega": -0.015975659726359975,
          "t": 19.010000000000172,
          "theta": 0.09871564362499509
         },
         {
          "omega": -0.01696200093375525,
          "t": 19.020000000000174,
          "theta": 0.09855095394927821
         },
         {
          "omega": -0.017946645955192107,
          "t": 19.030000000000175,
          "theta": 0.09837640926029191
         },
         {
          "omega": -0.01892949632698893,
          "t": 19.040000000000177,
          "theta": 0.09819202701235966
         },
         {
          "omega": -0.01991045376492758,
          "t": 19.05000000000018,
          "theta": 0.09799782564355258
         },
         {
          "omega": -0.020889420174081727,
          "t": 19.06000000000018,
          "theta": 0.09779382457384574
         },
         {
          "omega": -0.021866297658626254,
          "t": 19.07000000000018,
          "theta": 0.09758004420317608
         },
         {
          "omega": -0.022840988531626773,
          "t": 19.080000000000183,
          "theta": 0.09735650590940254
         },
         {
          "omega": -0.023813395324808223,
          "t": 19.090000000000185,
          "theta": 0.0971232320461682
         },
         {
          "omega": -0.02478342079830162,
          "t": 19.100000000000186,
          "theta": 0.096880245940665
         },
         {
          "omega": -0.025750967950367968,
          "t": 19.110000000000188,
          "theta": 0.09662757189130099
         },
         {
          "omega": -0.026715940027098345,
          "t": 19.12000000000019,
          "theta": 0.09636523516527055
         },
         {
          "omega": -0.02767824053208922,
          "t": 19.13000000000019,
          "theta": 0.09609326199602769
         },
         {
          "omega": -0.02863777323609201,
          "t": 19.140000000000192,
          "theta": 0.09581167958066267
         },
         {
          "omega": -0.029594442186635917,
          "t": 19.150000000000194,
          "theta": 0.09552051607718239
         },
         {
          "omega": -0.030548151717623113,
          "t": 19.160000000000196,
          "theta": 0.09521980060169455
         },
         {
          "omega": -0.03149880645889525,
          "t": 19.170000000000197,
          "theta": 0.09490956322549611
         },
         {
          "omega": -0.03244631134577042,
          "t": 19.1800000000002,
          "theta": 0.09458983497206615
         },
         {
          "omega": -0.03339057162854951,
          "t": 19.1900000000002,
          "theta": 0.09426064781396358
         },
         {
          "omega": -0.03433149288199113,
          "t": 19.200000000000202,
          "theta": 0.0939220346696299
         },
         {
          "omega": -0.03526898101475403,
          "t": 19.210000000000203,
          "theta": 0.09357402940009735
         },
         {
          "omega": -0.036202942278806174,
          "t": 19.220000000000205,
          "theta": 0.09321666680560288
         },
         {
          "omega": -0.03713328327879945,
          "t": 19.230000000000206,
          "theta": 0.09284998262210814
         },
         {
          "omega": -0.03805991098140915,
          "t": 19.240000000000208,
          "theta": 0.09247401351772593
         },
         {
          "omega": -0.03898273272463719,
          "t": 19.25000000000021,
          "theta": 0.09208879708905335
         },
         {
          "omega": -0.03990165622707827,
          "t": 19.26000000000021,
          "theta": 0.09169437185741228
         },
         {
          "omega": -0.0408165895971479,
          "t": 19.270000000000213,
          "theta": 0.09129077726499718
         },
         {
          "omega": -0.041727441342271535,
          "t": 19.280000000000214,
          "theta": 0.09087805367093098
         },
         {
          "omega": -0.04263412037803369,
          "t": 19.290000000000216,
          "theta": 0.09045624234722914
         },
         {
          "omega": -0.043536536037286355,
          "t": 19.300000000000217,
          "theta": 0.09002538547467252
         },
         {
          "omega": -0.04443459807921562,
          "t": 19.31000000000022,
          "theta": 0.08958552613858935
         },
         {
          "omega": -0.04532821669836566,
          "t": 19.32000000000022,
          "theta": 0.08913670832454666
         },
         {
          "omega": -0.046217302533619255,
          "t": 19.330000000000222,
          "theta": 0.08867897691395187
         },
         {
          "omega": -0.047101766677133776,
          "t": 19.340000000000224,
          "theta": 0.08821237767956457
         },
         {
          "omega": -0.04798152068323192,
          "t": 19.350000000000225,
          "theta": 0.08773695728091938
         },
         {
          "omega": -0.04885647657724621,
          "t": 19.360000000000227,
          "theta": 0.08725276325965999
         },
         {
          "omega": -0.04972654686431637,
          "t": 19.37000000000023,
          "theta": 0.08675984403478501
         },
         {
          "omega": -0.05059164453813875,
          "t": 19.38000000000023,
          "theta": 0.08625824889780619
         },
         {
          "omega": -0.05145168308966687,
          "t": 19.39000000000023,
          "theta": 0.08574802800781922
         },
         {
          "omega": -0.05230657651576228,
          "t": 19.400000000000233,
          "theta": 0.08522923238648793
         },
         {
          "omega": -0.053156239327794785,
          "t": 19.410000000000235,
          "theta": 0.0847019139129421
         },
         {
          "omega": -0.05400058656019122,
          "t": 19.420000000000236,
          "theta": 0.08416612531858966
         },
         {
          "omega": -0.05483953377893198,
          "t": 19.430000000000238,
          "theta": 0.08362192018184357
         },
         {
          "omega": -0.0556729970899943,
          "t": 19.44000000000024,
          "theta": 0.08306935292276399
         },
         {
          "omega": -0.05650089314774163,
          "t": 19.45000000000024,
          "theta": 0.08250847879761637
         },
         {
          "omega": -0.057323139163258104,
          "t": 19.460000000000242,
          "theta": 0.08193935389334582
         },
         {
          "omega": -0.05813965291262737,
          "t": 19.470000000000244,
          "theta": 0.0813620351219685
         },
         {
          "omega": -0.05895035274515492,
          "t": 19.480000000000246,
          "theta": 0.08077658021488046
         },
         {
          "omega": -0.05975515759153309,
          "t": 19.490000000000247,
          "theta": 0.08018304771708451
         },
         {
          "omega": -0.0605539869719479,
          "t": 19.50000000000025,
          "theta": 0.07958149698133583
         },
         {
          "omega": -0.061346761004127,
          "t": 19.51000000000025,
          "theta": 0.07897198816220671
         },
         {
          "omega": -0.06213340041132781,
          "t": 19.520000000000252,
          "theta": 0.07835458221007115
         },
         {
          "omega": -0.06291382653026516,
          "t": 19.530000000000253,
          "theta": 0.07772934086500984
         },
         {
          "omega": -0.06368796131897748,
          "t": 19.540000000000255,
          "theta": 0.07709632665063626
         },
         {
          "omega": -0.06445572736463104,
          "t": 19.550000000000257,
          "theta": 0.07645560286784434
         },
         {
          "omega": -0.06521704789126105,
          "t": 19.560000000000258,
          "theta": 0.07580723358847842
         },
         {
          "omega": -0.0659718467674493,
          "t": 19.57000000000026,
          "theta": 0.07515128364892613
         },
         {
          "omega": -0.06672004851393715,
          "t": 19.58000000000026,
          "theta": 0.07448781864363482
         },
         {
          "omega": -0.06746157831117346,
          "t": 19.590000000000263,
          "theta": 0.07381690491855211
         },
         {
          "omega": -0.06819636200679643,
          "t": 19.600000000000264,
          "theta": 0.07313860956449143
         },
         {
          "omega": -0.06892432612304884,
          "t": 19.610000000000266,
          "theta": 0.07245300041042294
         },
         {
          "omega": -0.0696453978641257,
          "t": 19.620000000000267,
          "theta": 0.0717601460166907
         },
         {
          "omega": -0.07035950512345378,
          "t": 19.63000000000027,
          "theta": 0.07106011566815672
         },
         {
          "omega": -0.07106657649090223,
          "t": 19.64000000000027,
          "theta": 0.07035297936727247
         },
         {
          "omega": -0.07176654125992354,
          "t": 19.650000000000272,
          "theta": 0.06963880782707879
         },
         {
          "omega": -0.07245932943462412,
          "t": 19.660000000000274,
          "theta": 0.06891767246413455
         },
         {
          "omega": -0.07314487173676379,
          "t": 19.670000000000275,
          "theta": 0.06818964539137509
         },
         {
          "omega": -0.07382309961268364,
          "t": 19.680000000000277,
          "theta": 0.06745479941090102
         },
         {
          "omega": -0.07449394524016127,
          "t": 19.69000000000028,
          "theta": 0.06671320800669799
         },
         {
          "omega": -0.07515734153519296,
          "t": 19.70000000000028,
          "theta": 0.06596494533728844
         },
         {
          "omega": -0.07581322215870204,
          "t": 19.71000000000028,
          "theta": 0.06521008622831577
         },
         {
          "omega": -0.07646152152317272,
          "t": 19.720000000000283,
          "theta": 0.06444870616506182
         },
         {
          "omega": -0.07710217479920879,
          "t": 19.730000000000285,
          "theta": 0.06368088128489845
         },
         {
          "omega": -0.07773511792201654,
          "t": 19.740000000000286,
          "theta": 0.06290668836967381
         },
         {
          "omega": -0.07836028759781113,
          "t": 19.750000000000288,
          "theta": 0.06212620483803426
         },
         {
          "omega": -0.07897762131014598,
          "t": 19.76000000000029,
          "theta": 0.06133950873768257
         },
         {
          "omega": -0.07958705732616426,
          "t": 19.77000000000029,
          "theta": 0.0605466787375732
         },
         {
          "omega": -0.08018853470277226,
          "t": 19.780000000000292,
          "theta": 0.059747794120045467
         },
         {
          "omega": -0.08078199329273353,
          "t": 19.790000000000294,
          "theta": 0.05894293477289539
         },
         {
          "omega": -0.08136737375068362,
          "t": 19.800000000000296,
          "theta": 0.05813218118138697
         },
         {
          "omega": -0.08194461753906455,
          "t": 19.810000000000297,
          "theta": 0.057315614420203734
         },
         {
          "omega": -0.08251366693397855,
          "t": 19.8200000000003,
          "theta": 0.05649331614534133
         },
         {
          "omega": -0.08307446503096029,
          "t": 19.8300000000003,
          "theta": 0.055665368585941996
         },
         {
          "omega": -0.08362695575066742,
          "t": 19.840000000000302,
          "theta": 0.05483185453607172
         },
         {
          "omega": -0.08417108384448839,
          "t": 19.850000000000303,
          "theta": 0.053992857346440895
         },
         {
          "omega": -0.08470679490006724,
          "t": 19.860000000000305,
          "theta": 0.05314846091606932
         },
         {
          "omega": -0.08523403534674484,
          "t": 19.870000000000307,
          "theta": 0.052298749683896376
         },
         {
          "omega": -0.08575275246091589,
          "t": 19.880000000000308,
          "theta": 0.051443808620337185
         },
         {
          "omega": -0.08626289437130123,
          "t": 19.89000000000031,
          "theta": 0.05058372321878566
         },
         {
          "omega": -0.08676441006413495,
          "t": 19.90000000000031,
          "theta": 0.04971857948706521
         },
         {
          "omega": -0.08725724938826568,
          "t": 19.910000000000313,
          "theta": 0.04884846393882807
         },
         {
          "omega": -0.08774136306017172,
          "t": 19.920000000000314,
          "theta": 0.047973463584903966
         },
         {
          "omega": -0.08821670266888929,
          "t": 19.930000000000316,
          "theta": 0.04709366592459912
         },
         {
          "omega": -0.08868322068085364,
          "t": 19.940000000000317,
          "theta": 0.0462091589369464
         },
         {
          "omega": -0.08914087044465235,
          "t": 19.95000000000032,
          "theta": 0.0453200310719075
         },
         {
          "omega": -0.0895896061956904,
          "t": 19.96000000000032,
          "theta": 0.044426371241527964
         },
         {
          "omega": -0.09002938306076663,
          "t": 19.970000000000322,
          "theta": 0.04352826881104613
         },
         {
          "omega": -0.09046015706256103,
          "t": 19.980000000000324,
          "theta": 0.042625813589956624
         },
         {
          "omega": -0.09088188512403236,
          "t": 19.990000000000325,
          "theta": 0.04171909582302952
         },
         {
          "omega": -0.09129452507272595,
          "t": 20.000000000000327,
          "theta": 0.0408082061812859
         }
        ]
       },
       "hconcat": [
        {
         "data": {
          "name": "data-4e534412eda33068e47fb10825a50efe"
         },
         "encoding": {
          "color": {
           "condition": {
            "selection": "selector002",
            "value": "black"
           },
           "value": "lightgray"
          },
          "opacity": {
           "condition": {
            "selection": "selector002",
            "value": 1
           },
           "value": 0.2
          },
          "size": {
           "value": "1"
          },
          "x": {
           "field": "t",
           "type": "quantitative"
          },
          "y": {
           "field": "theta",
           "type": "quantitative"
          }
         },
         "mark": "point",
         "selection": {
          "selector002": {
           "encodings": [
            "x",
            "y"
           ],
           "mark": {
            "fill": "#333",
            "fillOpacity": 0.125,
            "stroke": "white"
           },
           "on": "[mousedown, window:mouseup] > window:mousemove!",
           "resolve": "global",
           "translate": "[mousedown, window:mouseup] > window:mousemove!",
           "type": "interval",
           "zoom": "wheel!"
          }
         }
        },
        {
         "data": {
          "name": "data-4e534412eda33068e47fb10825a50efe"
         },
         "encoding": {
          "color": {
           "condition": {
            "selection": "selector002",
            "value": "black"
           },
           "value": "lightgray"
          },
          "opacity": {
           "condition": {
            "selection": "selector002",
            "value": 1
           },
           "value": 0.2
          },
          "size": {
           "value": "1"
          },
          "x": {
           "field": "theta",
           "type": "quantitative"
          },
          "y": {
           "field": "omega",
           "type": "quantitative"
          }
         },
         "mark": "point",
         "selection": {
          "selector002": {
           "encodings": [
            "x",
            "y"
           ],
           "mark": {
            "fill": "#333",
            "fillOpacity": 0.125,
            "stroke": "white"
           },
           "on": "[mousedown, window:mouseup] > window:mousemove!",
           "resolve": "global",
           "translate": "[mousedown, window:mouseup] > window:mousemove!",
           "type": "interval",
           "zoom": "wheel!"
          }
         }
        }
       ]
      },
      "image/png": "[encoded data removed]",
      "text/plain": [
       "<VegaLite 2 object>\n",
       "\n",
       "If you see this message, it means the renderer has not been properly enabled\n",
       "for the frontend that you are using. For more information, see\n",
       "https://altair-viz.github.io/user_guide/troubleshooting.html\n"
      ]
     },
     "execution_count": 10,
     "metadata": {},
     "output_type": "execute_result"
    }
   ],
   "source": [
    "solve_plot()"
   ]
  },
  {
   "cell_type": "markdown",
   "metadata": {},
   "source": [
    "    This interactive plot can be combined with `ipywidgets` as well."
   ]
  },
  {
   "cell_type": "code",
   "execution_count": 8,
   "metadata": {
    "ExecuteTime": {
     "end_time": "2019-03-17T21:58:07.981696Z",
     "start_time": "2019-03-17T21:58:07.727172Z"
    },
    "scrolled": false
   },
   "outputs": [
    {
     "data": {
      "application/vnd.jupyter.widget-view+json": {
       "model_id": "1fdb5269963d45b6a2136ab9bd72b485",
       "version_major": 2,
       "version_minor": 0
      },
      "text/plain": [
       "interactive(children=(FloatSlider(value=20.0, description='t_max', max=45.0, min=10.0, step=0.5), FloatSlider(…"
      ]
     },
     "metadata": {},
     "output_type": "display_data"
    }
   ],
   "source": [
    "_ = interact_manual(solve_plot, t_max=(10.0, 45.0, 0.5), q=(0.0, 2.0, 0.1),\n",
    "                    F_D=(0.0, 2.0, 0.1), Omega_D=(0.0, 2.0*np.pi, 0.1),\n",
    "                    linear=[False, True], theta0=(0.0, np.pi, 0.05))"
   ]
  },
  {
   "cell_type": "markdown",
   "metadata": {},
   "source": [
    "## Exploring pandas `DataFrames`"
   ]
  },
  {
   "cell_type": "markdown",
   "metadata": {},
   "source": [
    "Although pandas by itself is very useful for data exploration, sometimes an additional level of interactivity may be convenient.  `qgrid` can be used for an \"Excel-like\" experience in a Jupyter notebook."
   ]
  },
  {
   "cell_type": "code",
   "execution_count": 11,
   "metadata": {
    "ExecuteTime": {
     "end_time": "2019-03-18T17:13:33.281992Z",
     "start_time": "2019-03-18T17:13:33.257948Z"
    }
   },
   "outputs": [],
   "source": [
    "import qgrid"
   ]
  },
  {
   "cell_type": "markdown",
   "metadata": {},
   "source": [
    "We create a dataframe with two columns, the first has categorical data, the second quantitative data."
   ]
  },
  {
   "cell_type": "code",
   "execution_count": 12,
   "metadata": {
    "ExecuteTime": {
     "end_time": "2019-03-18T17:21:35.165216Z",
     "start_time": "2019-03-18T17:21:35.143377Z"
    }
   },
   "outputs": [],
   "source": [
    "data = pd.DataFrame({\n",
    "    'category': ['A', 'A', 'B', 'A', 'C', 'B', 'C', 'A'],\n",
    "    'value': [0.3, 0.9, -0.2, 0.19, -0.5, -0.9, 0.7, -0.1]\n",
    "})"
   ]
  },
  {
   "cell_type": "markdown",
   "metadata": {},
   "source": [
    "The table below can be sorted by any column, or filtered by any column, e.g., filter `category` to show only category `\"A\"`, `value` to only show positive numbers."
   ]
  },
  {
   "cell_type": "code",
   "execution_count": 13,
   "metadata": {
    "ExecuteTime": {
     "end_time": "2019-03-18T17:22:43.009769Z",
     "start_time": "2019-03-18T17:22:42.742852Z"
    }
   },
   "outputs": [
    {
     "data": {
      "application/vnd.jupyter.widget-view+json": {
       "model_id": "e49360558d4548d5b948cef975548428",
       "version_major": 2,
       "version_minor": 0
      },
      "text/plain": [
       "QgridWidget(grid_options={'fullWidthRows': True, 'syncColumnCellResize': True, 'forceFitColumns': True, 'defau…"
      ]
     },
     "metadata": {},
     "output_type": "display_data"
    }
   ],
   "source": [
    "data_grid = qgrid.show_grid(data)\n",
    "data_grid"
   ]
  },
  {
   "cell_type": "markdown",
   "metadata": {},
   "source": [
    "The filtered/edited data can be saved into a new dataframe for further processing."
   ]
  },
  {
   "cell_type": "code",
   "execution_count": 14,
   "metadata": {
    "ExecuteTime": {
     "end_time": "2019-03-18T17:23:21.832061Z",
     "start_time": "2019-03-18T17:23:21.801993Z"
    }
   },
   "outputs": [],
   "source": [
    "filtered_data = data_grid.get_changed_df()"
   ]
  },
  {
   "cell_type": "code",
   "execution_count": 15,
   "metadata": {
    "ExecuteTime": {
     "end_time": "2019-03-18T17:23:26.503377Z",
     "start_time": "2019-03-18T17:23:26.469078Z"
    }
   },
   "outputs": [
    {
     "data": {
      "text/html": [
       "<div>\n",
       "<style scoped>\n",
       "    .dataframe tbody tr th:only-of-type {\n",
       "        vertical-align: middle;\n",
       "    }\n",
       "\n",
       "    .dataframe tbody tr th {\n",
       "        vertical-align: top;\n",
       "    }\n",
       "\n",
       "    .dataframe thead th {\n",
       "        text-align: right;\n",
       "    }\n",
       "</style>\n",
       "<table border=\"1\" class=\"dataframe\">\n",
       "  <thead>\n",
       "    <tr style=\"text-align: right;\">\n",
       "      <th></th>\n",
       "      <th>category</th>\n",
       "      <th>value</th>\n",
       "    </tr>\n",
       "  </thead>\n",
       "  <tbody>\n",
       "    <tr>\n",
       "      <th>0</th>\n",
       "      <td>A</td>\n",
       "      <td>0.30</td>\n",
       "    </tr>\n",
       "    <tr>\n",
       "      <th>1</th>\n",
       "      <td>A</td>\n",
       "      <td>0.90</td>\n",
       "    </tr>\n",
       "    <tr>\n",
       "      <th>3</th>\n",
       "      <td>A</td>\n",
       "      <td>0.19</td>\n",
       "    </tr>\n",
       "  </tbody>\n",
       "</table>\n",
       "</div>"
      ],
      "text/plain": [
       "  category  value\n",
       "0        A   0.30\n",
       "1        A   0.90\n",
       "3        A   0.19"
      ]
     },
     "execution_count": 15,
     "metadata": {},
     "output_type": "execute_result"
    }
   ],
   "source": [
    "filtered_data"
   ]
  },
  {
   "cell_type": "code",
   "execution_count": null,
   "metadata": {},
   "outputs": [],
   "source": []
  }
 ],
 "metadata": {
  "kernelspec": {
   "display_name": "Python 3",
   "language": "python",
   "name": "python3"
  },
  "language_info": {
   "codemirror_mode": {
    "name": "ipython",
    "version": 3
   },
   "file_extension": ".py",
   "mimetype": "text/x-python",
   "name": "python",
   "nbconvert_exporter": "python",
   "pygments_lexer": "ipython3",
   "version": "3.7.2"
  }
 },
 "nbformat": 4,
 "nbformat_minor": 2
}
