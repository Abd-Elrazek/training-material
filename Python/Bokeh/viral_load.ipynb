{
 "cells": [
  {
   "cell_type": "markdown",
   "metadata": {},
   "source": [
    "# Viral load"
   ]
  },
  {
   "cell_type": "markdown",
   "metadata": {},
   "source": [
    "## Setup"
   ]
  },
  {
   "cell_type": "markdown",
   "metadata": {},
   "source": [
    "Load the required modules."
   ]
  },
  {
   "cell_type": "code",
   "execution_count": 1,
   "metadata": {
    "collapsed": false
   },
   "outputs": [
    {
     "data": {
      "text/html": [
       "\n",
       "    <div class=\"bk-root\">\n",
       "        <a href=\"http://bokeh.pydata.org\" target=\"_blank\" class=\"bk-logo bk-logo-small bk-logo-notebook\"></a>\n",
       "        <span id=\"84bf0530-6714-4f38-a65e-dc76f313ae31\">Loading BokehJS ...</span>\n",
       "    </div>"
      ]
     },
     "metadata": {},
     "output_type": "display_data"
    },
    {
     "data": {
      "application/javascript": [
       "\n",
       "(function(global) {\n",
       "  function now() {\n",
       "    return new Date();\n",
       "  }\n",
       "\n",
       "  var force = \"1\";\n",
       "\n",
       "  if (typeof (window._bokeh_onload_callbacks) === \"undefined\" || force !== \"\") {\n",
       "    window._bokeh_onload_callbacks = [];\n",
       "    window._bokeh_is_loading = undefined;\n",
       "  }\n",
       "\n",
       "\n",
       "  \n",
       "  if (typeof (window._bokeh_timeout) === \"undefined\" || force !== \"\") {\n",
       "    window._bokeh_timeout = Date.now() + 5000;\n",
       "    window._bokeh_failed_load = false;\n",
       "  }\n",
       "\n",
       "  var NB_LOAD_WARNING = {'data': {'text/html':\n",
       "     \"<div style='background-color: #fdd'>\\n\"+\n",
       "     \"<p>\\n\"+\n",
       "     \"BokehJS does not appear to have successfully loaded. If loading BokehJS from CDN, this \\n\"+\n",
       "     \"may be due to a slow or bad network connection. Possible fixes:\\n\"+\n",
       "     \"</p>\\n\"+\n",
       "     \"<ul>\\n\"+\n",
       "     \"<li>re-rerun `output_notebook()` to attempt to load from CDN again, or</li>\\n\"+\n",
       "     \"<li>use INLINE resources instead, as so:</li>\\n\"+\n",
       "     \"</ul>\\n\"+\n",
       "     \"<code>\\n\"+\n",
       "     \"from bokeh.resources import INLINE\\n\"+\n",
       "     \"output_notebook(resources=INLINE)\\n\"+\n",
       "     \"</code>\\n\"+\n",
       "     \"</div>\"}};\n",
       "\n",
       "  function display_loaded() {\n",
       "    if (window.Bokeh !== undefined) {\n",
       "      Bokeh.$(\"#84bf0530-6714-4f38-a65e-dc76f313ae31\").text(\"BokehJS successfully loaded.\");\n",
       "    } else if (Date.now() < window._bokeh_timeout) {\n",
       "      setTimeout(display_loaded, 100)\n",
       "    }\n",
       "  }\n",
       "\n",
       "  function run_callbacks() {\n",
       "    window._bokeh_onload_callbacks.forEach(function(callback) { callback() });\n",
       "    delete window._bokeh_onload_callbacks\n",
       "    console.info(\"Bokeh: all callbacks have finished\");\n",
       "  }\n",
       "\n",
       "  function load_libs(js_urls, callback) {\n",
       "    window._bokeh_onload_callbacks.push(callback);\n",
       "    if (window._bokeh_is_loading > 0) {\n",
       "      console.log(\"Bokeh: BokehJS is being loaded, scheduling callback at\", now());\n",
       "      return null;\n",
       "    }\n",
       "    if (js_urls == null || js_urls.length === 0) {\n",
       "      run_callbacks();\n",
       "      return null;\n",
       "    }\n",
       "    console.log(\"Bokeh: BokehJS not loaded, scheduling load and callback at\", now());\n",
       "    window._bokeh_is_loading = js_urls.length;\n",
       "    for (var i = 0; i < js_urls.length; i++) {\n",
       "      var url = js_urls[i];\n",
       "      var s = document.createElement('script');\n",
       "      s.src = url;\n",
       "      s.async = false;\n",
       "      s.onreadystatechange = s.onload = function() {\n",
       "        window._bokeh_is_loading--;\n",
       "        if (window._bokeh_is_loading === 0) {\n",
       "          console.log(\"Bokeh: all BokehJS libraries loaded\");\n",
       "          run_callbacks()\n",
       "        }\n",
       "      };\n",
       "      s.onerror = function() {\n",
       "        console.warn(\"failed to load library \" + url);\n",
       "      };\n",
       "      console.log(\"Bokeh: injecting script tag for BokehJS library: \", url);\n",
       "      document.getElementsByTagName(\"head\")[0].appendChild(s);\n",
       "    }\n",
       "  };var element = document.getElementById(\"84bf0530-6714-4f38-a65e-dc76f313ae31\");\n",
       "  if (element == null) {\n",
       "    console.log(\"Bokeh: ERROR: autoload.js configured with elementid '84bf0530-6714-4f38-a65e-dc76f313ae31' but no matching script tag was found. \")\n",
       "    return false;\n",
       "  }\n",
       "\n",
       "  var js_urls = ['https://cdn.pydata.org/bokeh/release/bokeh-0.12.3.min.js', 'https://cdn.pydata.org/bokeh/release/bokeh-widgets-0.12.3.min.js'];\n",
       "\n",
       "  var inline_js = [\n",
       "    function(Bokeh) {\n",
       "      Bokeh.set_log_level(\"info\");\n",
       "    },\n",
       "    \n",
       "    function(Bokeh) {\n",
       "      \n",
       "      Bokeh.$(\"#84bf0530-6714-4f38-a65e-dc76f313ae31\").text(\"BokehJS is loading...\");\n",
       "    },\n",
       "    function(Bokeh) {\n",
       "      console.log(\"Bokeh: injecting CSS: https://cdn.pydata.org/bokeh/release/bokeh-0.12.3.min.css\");\n",
       "      Bokeh.embed.inject_css(\"https://cdn.pydata.org/bokeh/release/bokeh-0.12.3.min.css\");\n",
       "      console.log(\"Bokeh: injecting CSS: https://cdn.pydata.org/bokeh/release/bokeh-widgets-0.12.3.min.css\");\n",
       "      Bokeh.embed.inject_css(\"https://cdn.pydata.org/bokeh/release/bokeh-widgets-0.12.3.min.css\");\n",
       "    }\n",
       "  ];\n",
       "\n",
       "  function run_inline_js() {\n",
       "    \n",
       "    if ((window.Bokeh !== undefined) || (force === \"1\")) {\n",
       "      for (var i = 0; i < inline_js.length; i++) {\n",
       "        inline_js[i](window.Bokeh);\n",
       "      }if (force === \"1\") {\n",
       "        display_loaded();\n",
       "      }} else if (Date.now() < window._bokeh_timeout) {\n",
       "      setTimeout(run_inline_js, 100);\n",
       "    } else if (!window._bokeh_failed_load) {\n",
       "      console.log(\"Bokeh: BokehJS failed to load within specified timeout.\");\n",
       "      window._bokeh_failed_load = true;\n",
       "    } else if (!force) {\n",
       "      var cell = $(\"#84bf0530-6714-4f38-a65e-dc76f313ae31\").parents('.cell').data().cell;\n",
       "      cell.output_area.append_execute_result(NB_LOAD_WARNING)\n",
       "    }\n",
       "\n",
       "  }\n",
       "\n",
       "  if (window._bokeh_is_loading === 0) {\n",
       "    console.log(\"Bokeh: BokehJS loaded, going straight to plotting\");\n",
       "    run_inline_js();\n",
       "  } else {\n",
       "    load_libs(js_urls, function() {\n",
       "      console.log(\"Bokeh: BokehJS plotting callback run at\", now());\n",
       "      run_inline_js();\n",
       "    });\n",
       "  }\n",
       "}(this));"
      ]
     },
     "metadata": {},
     "output_type": "display_data"
    }
   ],
   "source": [
    "from bokeh.io import output_notebook, push_notebook, show\n",
    "from bokeh.models import ColumnDataSource\n",
    "from bokeh.plotting import figure\n",
    "from ipywidgets import interact\n",
    "import numpy as np\n",
    "output_notebook()"
   ]
  },
  {
   "cell_type": "markdown",
   "metadata": {},
   "source": [
    "## Loading the data"
   ]
  },
  {
   "cell_type": "markdown",
   "metadata": {},
   "source": [
    "Load the data from a CSV file into a numpy array, and use the latter to construct a column data source for use with Bokeh."
   ]
  },
  {
   "cell_type": "code",
   "execution_count": 2,
   "metadata": {
    "collapsed": false
   },
   "outputs": [],
   "source": [
    "data = np.loadtxt('HIVseries.csv', delimiter=',')\n",
    "source = ColumnDataSource(data={'t': data[:,0], 'viral load': data[:,1]})"
   ]
  },
  {
   "cell_type": "code",
   "execution_count": 3,
   "metadata": {
    "collapsed": false
   },
   "outputs": [
    {
     "data": {
      "text/html": [
       "\n",
       "\n",
       "    <div class=\"bk-root\">\n",
       "        <div class=\"plotdiv\" id=\"a31238fe-2146-4d3e-bce4-433e8cbdc7e8\"></div>\n",
       "    </div>\n",
       "<script type=\"text/javascript\">\n",
       "  \n",
       "  (function(global) {\n",
       "    function now() {\n",
       "      return new Date();\n",
       "    }\n",
       "  \n",
       "    var force = \"\";\n",
       "  \n",
       "    if (typeof (window._bokeh_onload_callbacks) === \"undefined\" || force !== \"\") {\n",
       "      window._bokeh_onload_callbacks = [];\n",
       "      window._bokeh_is_loading = undefined;\n",
       "    }\n",
       "  \n",
       "  \n",
       "    \n",
       "    if (typeof (window._bokeh_timeout) === \"undefined\" || force !== \"\") {\n",
       "      window._bokeh_timeout = Date.now() + 0;\n",
       "      window._bokeh_failed_load = false;\n",
       "    }\n",
       "  \n",
       "    var NB_LOAD_WARNING = {'data': {'text/html':\n",
       "       \"<div style='background-color: #fdd'>\\n\"+\n",
       "       \"<p>\\n\"+\n",
       "       \"BokehJS does not appear to have successfully loaded. If loading BokehJS from CDN, this \\n\"+\n",
       "       \"may be due to a slow or bad network connection. Possible fixes:\\n\"+\n",
       "       \"</p>\\n\"+\n",
       "       \"<ul>\\n\"+\n",
       "       \"<li>re-rerun `output_notebook()` to attempt to load from CDN again, or</li>\\n\"+\n",
       "       \"<li>use INLINE resources instead, as so:</li>\\n\"+\n",
       "       \"</ul>\\n\"+\n",
       "       \"<code>\\n\"+\n",
       "       \"from bokeh.resources import INLINE\\n\"+\n",
       "       \"output_notebook(resources=INLINE)\\n\"+\n",
       "       \"</code>\\n\"+\n",
       "       \"</div>\"}};\n",
       "  \n",
       "    function display_loaded() {\n",
       "      if (window.Bokeh !== undefined) {\n",
       "        Bokeh.$(\"#a31238fe-2146-4d3e-bce4-433e8cbdc7e8\").text(\"BokehJS successfully loaded.\");\n",
       "      } else if (Date.now() < window._bokeh_timeout) {\n",
       "        setTimeout(display_loaded, 100)\n",
       "      }\n",
       "    }\n",
       "  \n",
       "    function run_callbacks() {\n",
       "      window._bokeh_onload_callbacks.forEach(function(callback) { callback() });\n",
       "      delete window._bokeh_onload_callbacks\n",
       "      console.info(\"Bokeh: all callbacks have finished\");\n",
       "    }\n",
       "  \n",
       "    function load_libs(js_urls, callback) {\n",
       "      window._bokeh_onload_callbacks.push(callback);\n",
       "      if (window._bokeh_is_loading > 0) {\n",
       "        console.log(\"Bokeh: BokehJS is being loaded, scheduling callback at\", now());\n",
       "        return null;\n",
       "      }\n",
       "      if (js_urls == null || js_urls.length === 0) {\n",
       "        run_callbacks();\n",
       "        return null;\n",
       "      }\n",
       "      console.log(\"Bokeh: BokehJS not loaded, scheduling load and callback at\", now());\n",
       "      window._bokeh_is_loading = js_urls.length;\n",
       "      for (var i = 0; i < js_urls.length; i++) {\n",
       "        var url = js_urls[i];\n",
       "        var s = document.createElement('script');\n",
       "        s.src = url;\n",
       "        s.async = false;\n",
       "        s.onreadystatechange = s.onload = function() {\n",
       "          window._bokeh_is_loading--;\n",
       "          if (window._bokeh_is_loading === 0) {\n",
       "            console.log(\"Bokeh: all BokehJS libraries loaded\");\n",
       "            run_callbacks()\n",
       "          }\n",
       "        };\n",
       "        s.onerror = function() {\n",
       "          console.warn(\"failed to load library \" + url);\n",
       "        };\n",
       "        console.log(\"Bokeh: injecting script tag for BokehJS library: \", url);\n",
       "        document.getElementsByTagName(\"head\")[0].appendChild(s);\n",
       "      }\n",
       "    };var element = document.getElementById(\"a31238fe-2146-4d3e-bce4-433e8cbdc7e8\");\n",
       "    if (element == null) {\n",
       "      console.log(\"Bokeh: ERROR: autoload.js configured with elementid 'a31238fe-2146-4d3e-bce4-433e8cbdc7e8' but no matching script tag was found. \")\n",
       "      return false;\n",
       "    }\n",
       "  \n",
       "    var js_urls = [];\n",
       "  \n",
       "    var inline_js = [\n",
       "      function(Bokeh) {\n",
       "        Bokeh.$(function() {\n",
       "            var docs_json = {\"ee7521ab-aaa6-46be-8ba1-77f3aa4e17ff\":{\"roots\":{\"references\":[{\"attributes\":{},\"id\":\"a3103a7a-adce-491b-8215-1efb1c848f30\",\"type\":\"BasicTickFormatter\"},{\"attributes\":{\"callback\":null},\"id\":\"8e3ab927-c151-49ed-bd6a-e6f9d1701531\",\"type\":\"DataRange1d\"},{\"attributes\":{},\"id\":\"468e56c8-5a31-428f-a4bb-eb710a72a957\",\"type\":\"BasicTicker\"},{\"attributes\":{\"formatter\":{\"id\":\"a3103a7a-adce-491b-8215-1efb1c848f30\",\"type\":\"BasicTickFormatter\"},\"plot\":{\"id\":\"4d7e6dcd-2b84-4674-b16f-b024adf09dc4\",\"subtype\":\"Figure\",\"type\":\"Plot\"},\"ticker\":{\"id\":\"812dec28-012e-4d3c-8710-81885bb55afb\",\"type\":\"BasicTicker\"}},\"id\":\"2ee91a6c-6371-45bf-a677-58bec40d314f\",\"type\":\"LinearAxis\"},{\"attributes\":{},\"id\":\"076e6a08-08bd-4f54-a7f9-2f51fc159dc7\",\"type\":\"BasicTickFormatter\"},{\"attributes\":{\"plot\":null,\"text\":null},\"id\":\"0432f1a8-b204-46b9-af14-27cceb325528\",\"type\":\"Title\"},{\"attributes\":{\"plot\":{\"id\":\"4d7e6dcd-2b84-4674-b16f-b024adf09dc4\",\"subtype\":\"Figure\",\"type\":\"Plot\"}},\"id\":\"cb17bfa3-acbe-4ee8-b860-9ccf8504f80a\",\"type\":\"PanTool\"},{\"attributes\":{\"plot\":{\"id\":\"4d7e6dcd-2b84-4674-b16f-b024adf09dc4\",\"subtype\":\"Figure\",\"type\":\"Plot\"},\"ticker\":{\"id\":\"812dec28-012e-4d3c-8710-81885bb55afb\",\"type\":\"BasicTicker\"}},\"id\":\"44e639a4-b82b-46a2-97c9-ccb0e75edc5b\",\"type\":\"Grid\"},{\"attributes\":{\"plot\":{\"id\":\"4d7e6dcd-2b84-4674-b16f-b024adf09dc4\",\"subtype\":\"Figure\",\"type\":\"Plot\"}},\"id\":\"6325cb87-afef-4616-8038-9519b7823f4b\",\"type\":\"WheelZoomTool\"},{\"attributes\":{\"plot\":{\"id\":\"4d7e6dcd-2b84-4674-b16f-b024adf09dc4\",\"subtype\":\"Figure\",\"type\":\"Plot\"}},\"id\":\"ff0c4f22-1413-4e02-bad9-c921f9697db5\",\"type\":\"SaveTool\"},{\"attributes\":{\"formatter\":{\"id\":\"076e6a08-08bd-4f54-a7f9-2f51fc159dc7\",\"type\":\"BasicTickFormatter\"},\"plot\":{\"id\":\"4d7e6dcd-2b84-4674-b16f-b024adf09dc4\",\"subtype\":\"Figure\",\"type\":\"Plot\"},\"ticker\":{\"id\":\"468e56c8-5a31-428f-a4bb-eb710a72a957\",\"type\":\"BasicTicker\"}},\"id\":\"86c72ea7-1594-49c8-b05f-4b3377fbee73\",\"type\":\"LinearAxis\"},{\"attributes\":{\"plot\":{\"id\":\"4d7e6dcd-2b84-4674-b16f-b024adf09dc4\",\"subtype\":\"Figure\",\"type\":\"Plot\"}},\"id\":\"a5546b08-3317-4022-a056-4ca4ef9b7b19\",\"type\":\"ResetTool\"},{\"attributes\":{\"dimension\":1,\"plot\":{\"id\":\"4d7e6dcd-2b84-4674-b16f-b024adf09dc4\",\"subtype\":\"Figure\",\"type\":\"Plot\"},\"ticker\":{\"id\":\"468e56c8-5a31-428f-a4bb-eb710a72a957\",\"type\":\"BasicTicker\"}},\"id\":\"b79d3e9f-0079-4d20-ba9f-495adbc97f17\",\"type\":\"Grid\"},{\"attributes\":{\"active_drag\":\"auto\",\"active_scroll\":\"auto\",\"active_tap\":\"auto\",\"tools\":[{\"id\":\"cb17bfa3-acbe-4ee8-b860-9ccf8504f80a\",\"type\":\"PanTool\"},{\"id\":\"6325cb87-afef-4616-8038-9519b7823f4b\",\"type\":\"WheelZoomTool\"},{\"id\":\"c6be5ee5-278d-408b-8d0c-ca27bb206524\",\"type\":\"BoxZoomTool\"},{\"id\":\"ff0c4f22-1413-4e02-bad9-c921f9697db5\",\"type\":\"SaveTool\"},{\"id\":\"a5546b08-3317-4022-a056-4ca4ef9b7b19\",\"type\":\"ResetTool\"},{\"id\":\"8444457c-8d6d-4c51-bfdb-a355c7d2a134\",\"type\":\"HelpTool\"}]},\"id\":\"880559b3-a1d9-4ce2-a9c8-d1a516a56b4a\",\"type\":\"Toolbar\"},{\"attributes\":{\"overlay\":{\"id\":\"394fccaa-579b-47f1-bb62-e8e65b449e25\",\"type\":\"BoxAnnotation\"},\"plot\":{\"id\":\"4d7e6dcd-2b84-4674-b16f-b024adf09dc4\",\"subtype\":\"Figure\",\"type\":\"Plot\"}},\"id\":\"c6be5ee5-278d-408b-8d0c-ca27bb206524\",\"type\":\"BoxZoomTool\"},{\"attributes\":{\"fill_alpha\":{\"value\":0.1},\"fill_color\":{\"value\":\"#1f77b4\"},\"line_alpha\":{\"value\":0.1},\"line_color\":{\"value\":\"#1f77b4\"},\"size\":{\"units\":\"screen\",\"value\":5},\"x\":{\"field\":\"t\"},\"y\":{\"field\":\"viral load\"}},\"id\":\"854099a7-9803-4171-b9ab-7273b71287b0\",\"type\":\"Circle\"},{\"attributes\":{\"below\":[{\"id\":\"2ee91a6c-6371-45bf-a677-58bec40d314f\",\"type\":\"LinearAxis\"}],\"left\":[{\"id\":\"86c72ea7-1594-49c8-b05f-4b3377fbee73\",\"type\":\"LinearAxis\"}],\"plot_height\":300,\"plot_width\":500,\"renderers\":[{\"id\":\"2ee91a6c-6371-45bf-a677-58bec40d314f\",\"type\":\"LinearAxis\"},{\"id\":\"44e639a4-b82b-46a2-97c9-ccb0e75edc5b\",\"type\":\"Grid\"},{\"id\":\"86c72ea7-1594-49c8-b05f-4b3377fbee73\",\"type\":\"LinearAxis\"},{\"id\":\"b79d3e9f-0079-4d20-ba9f-495adbc97f17\",\"type\":\"Grid\"},{\"id\":\"394fccaa-579b-47f1-bb62-e8e65b449e25\",\"type\":\"BoxAnnotation\"},{\"id\":\"337d3f3e-06ae-4f4a-a075-076f41553a43\",\"type\":\"GlyphRenderer\"}],\"title\":{\"id\":\"0432f1a8-b204-46b9-af14-27cceb325528\",\"type\":\"Title\"},\"tool_events\":{\"id\":\"cc28b30b-d3ee-49e0-b2c4-1d4bd46f3702\",\"type\":\"ToolEvents\"},\"toolbar\":{\"id\":\"880559b3-a1d9-4ce2-a9c8-d1a516a56b4a\",\"type\":\"Toolbar\"},\"x_range\":{\"id\":\"8e3ab927-c151-49ed-bd6a-e6f9d1701531\",\"type\":\"DataRange1d\"},\"y_range\":{\"id\":\"447a093c-d73d-4d67-8972-56c12fe96c69\",\"type\":\"DataRange1d\"}},\"id\":\"4d7e6dcd-2b84-4674-b16f-b024adf09dc4\",\"subtype\":\"Figure\",\"type\":\"Plot\"},{\"attributes\":{\"callback\":null},\"id\":\"447a093c-d73d-4d67-8972-56c12fe96c69\",\"type\":\"DataRange1d\"},{\"attributes\":{\"data_source\":{\"id\":\"e7fb9bb8-53dd-4b62-8219-e615670b3d62\",\"type\":\"ColumnDataSource\"},\"glyph\":{\"id\":\"f5efb023-5060-4686-a45b-317a3e20fc29\",\"type\":\"Circle\"},\"hover_glyph\":null,\"nonselection_glyph\":{\"id\":\"854099a7-9803-4171-b9ab-7273b71287b0\",\"type\":\"Circle\"},\"selection_glyph\":null},\"id\":\"337d3f3e-06ae-4f4a-a075-076f41553a43\",\"type\":\"GlyphRenderer\"},{\"attributes\":{},\"id\":\"cc28b30b-d3ee-49e0-b2c4-1d4bd46f3702\",\"type\":\"ToolEvents\"},{\"attributes\":{\"callback\":null,\"column_names\":[\"t\",\"viral load\"],\"data\":{\"t\":[0.0,0.0831,0.1465,0.2587,0.4828,0.7448,0.9817,1.2563,1.4926,1.7299,1.9915,3.0011,4.0109,5.009,5.9943,7.0028],\"viral load\":[106100.0,93240.0,166720.0,153780.0,118800.0,116900.0,109570.0,111350.0,74388.0,83291.0,66435.0,35408.0,21125.0,20450.0,15798.0,4785.2]}},\"id\":\"e7fb9bb8-53dd-4b62-8219-e615670b3d62\",\"type\":\"ColumnDataSource\"},{\"attributes\":{\"bottom_units\":\"screen\",\"fill_alpha\":{\"value\":0.5},\"fill_color\":{\"value\":\"lightgrey\"},\"left_units\":\"screen\",\"level\":\"overlay\",\"line_alpha\":{\"value\":1.0},\"line_color\":{\"value\":\"black\"},\"line_dash\":[4,4],\"line_width\":{\"value\":2},\"plot\":null,\"render_mode\":\"css\",\"right_units\":\"screen\",\"top_units\":\"screen\"},\"id\":\"394fccaa-579b-47f1-bb62-e8e65b449e25\",\"type\":\"BoxAnnotation\"},{\"attributes\":{\"plot\":{\"id\":\"4d7e6dcd-2b84-4674-b16f-b024adf09dc4\",\"subtype\":\"Figure\",\"type\":\"Plot\"}},\"id\":\"8444457c-8d6d-4c51-bfdb-a355c7d2a134\",\"type\":\"HelpTool\"},{\"attributes\":{\"fill_color\":{\"value\":\"#1f77b4\"},\"line_color\":{\"value\":\"#1f77b4\"},\"size\":{\"units\":\"screen\",\"value\":5},\"x\":{\"field\":\"t\"},\"y\":{\"field\":\"viral load\"}},\"id\":\"f5efb023-5060-4686-a45b-317a3e20fc29\",\"type\":\"Circle\"},{\"attributes\":{},\"id\":\"812dec28-012e-4d3c-8710-81885bb55afb\",\"type\":\"BasicTicker\"}],\"root_ids\":[\"4d7e6dcd-2b84-4674-b16f-b024adf09dc4\"]},\"title\":\"Bokeh Application\",\"version\":\"0.12.3\"}};\n",
       "            var render_items = [{\"docid\":\"ee7521ab-aaa6-46be-8ba1-77f3aa4e17ff\",\"elementid\":\"a31238fe-2146-4d3e-bce4-433e8cbdc7e8\",\"modelid\":\"4d7e6dcd-2b84-4674-b16f-b024adf09dc4\"}];\n",
       "            \n",
       "            Bokeh.embed.embed_items(docs_json, render_items);\n",
       "        });\n",
       "      },\n",
       "      function(Bokeh) {\n",
       "      }\n",
       "    ];\n",
       "  \n",
       "    function run_inline_js() {\n",
       "      \n",
       "      if ((window.Bokeh !== undefined) || (force === \"1\")) {\n",
       "        for (var i = 0; i < inline_js.length; i++) {\n",
       "          inline_js[i](window.Bokeh);\n",
       "        }if (force === \"1\") {\n",
       "          display_loaded();\n",
       "        }} else if (Date.now() < window._bokeh_timeout) {\n",
       "        setTimeout(run_inline_js, 100);\n",
       "      } else if (!window._bokeh_failed_load) {\n",
       "        console.log(\"Bokeh: BokehJS failed to load within specified timeout.\");\n",
       "        window._bokeh_failed_load = true;\n",
       "      } else if (!force) {\n",
       "        var cell = $(\"#a31238fe-2146-4d3e-bce4-433e8cbdc7e8\").parents('.cell').data().cell;\n",
       "        cell.output_area.append_execute_result(NB_LOAD_WARNING)\n",
       "      }\n",
       "  \n",
       "    }\n",
       "  \n",
       "    if (window._bokeh_is_loading === 0) {\n",
       "      console.log(\"Bokeh: BokehJS loaded, going straight to plotting\");\n",
       "      run_inline_js();\n",
       "    } else {\n",
       "      load_libs(js_urls, function() {\n",
       "        console.log(\"Bokeh: BokehJS plotting callback run at\", now());\n",
       "        run_inline_js();\n",
       "      });\n",
       "    }\n",
       "  }(this));\n",
       "</script>"
      ]
     },
     "metadata": {},
     "output_type": "display_data"
    }
   ],
   "source": [
    "plot = figure(plot_height=300, plot_width=500)\n",
    "plot.circle('t', 'viral load', size=5, source=source)\n",
    "show(plot)"
   ]
  },
  {
   "cell_type": "markdown",
   "metadata": {},
   "source": [
    "## Theoretical model"
   ]
  },
  {
   "cell_type": "markdown",
   "metadata": {},
   "source": [
    "The viral load is expected to be $V(t) = A \\exp(-\\alpha t) + B \\exp(-\\beta t)$. An initial guess is calculated below."
   ]
  },
  {
   "cell_type": "code",
   "execution_count": 4,
   "metadata": {
    "collapsed": true
   },
   "outputs": [],
   "source": [
    "t = np.linspace(0.0, 8.0, 101)\n",
    "V = 1.7e+5*np.exp(-t)"
   ]
  },
  {
   "cell_type": "markdown",
   "metadata": {},
   "source": [
    "Now we create the plot, which will be made interactive."
   ]
  },
  {
   "cell_type": "code",
   "execution_count": 9,
   "metadata": {
    "collapsed": true
   },
   "outputs": [],
   "source": [
    "plot = figure(plot_width=500, plot_height=300)\n",
    "plot.circle('t', 'viral load', size=5, source=source, legend='measured')\n",
    "theory = plot.line(t, V, legend='theory', color='red')"
   ]
  },
  {
   "cell_type": "markdown",
   "metadata": {},
   "source": [
    "Define the function that will compute the actual values for the theoretical model for viral load based on the parameters $A$, $\\alpha$, $B$, and $\\beta$ that will be set interactively."
   ]
  },
  {
   "cell_type": "code",
   "execution_count": 10,
   "metadata": {
    "collapsed": true
   },
   "outputs": [],
   "source": [
    "def update(A=1.7e5, alpha=1.0, B=0.0, beta=1.0):\n",
    "    theory.data_source.data['y'] = A*np.exp(-alpha*t) + B*np.exp(-beta*t)\n",
    "    push_notebook()"
   ]
  },
  {
   "cell_type": "code",
   "execution_count": 11,
   "metadata": {
    "collapsed": false
   },
   "outputs": [
    {
     "data": {
      "text/html": [
       "\n",
       "\n",
       "    <div class=\"bk-root\">\n",
       "        <div class=\"plotdiv\" id=\"5c1b5df9-5331-485e-a319-5f0c7ad40f95\"></div>\n",
       "    </div>\n",
       "<script type=\"text/javascript\">\n",
       "  \n",
       "  (function(global) {\n",
       "    function now() {\n",
       "      return new Date();\n",
       "    }\n",
       "  \n",
       "    var force = \"\";\n",
       "  \n",
       "    if (typeof (window._bokeh_onload_callbacks) === \"undefined\" || force !== \"\") {\n",
       "      window._bokeh_onload_callbacks = [];\n",
       "      window._bokeh_is_loading = undefined;\n",
       "    }\n",
       "  \n",
       "  \n",
       "    \n",
       "    if (typeof (window._bokeh_timeout) === \"undefined\" || force !== \"\") {\n",
       "      window._bokeh_timeout = Date.now() + 0;\n",
       "      window._bokeh_failed_load = false;\n",
       "    }\n",
       "  \n",
       "    var NB_LOAD_WARNING = {'data': {'text/html':\n",
       "       \"<div style='background-color: #fdd'>\\n\"+\n",
       "       \"<p>\\n\"+\n",
       "       \"BokehJS does not appear to have successfully loaded. If loading BokehJS from CDN, this \\n\"+\n",
       "       \"may be due to a slow or bad network connection. Possible fixes:\\n\"+\n",
       "       \"</p>\\n\"+\n",
       "       \"<ul>\\n\"+\n",
       "       \"<li>re-rerun `output_notebook()` to attempt to load from CDN again, or</li>\\n\"+\n",
       "       \"<li>use INLINE resources instead, as so:</li>\\n\"+\n",
       "       \"</ul>\\n\"+\n",
       "       \"<code>\\n\"+\n",
       "       \"from bokeh.resources import INLINE\\n\"+\n",
       "       \"output_notebook(resources=INLINE)\\n\"+\n",
       "       \"</code>\\n\"+\n",
       "       \"</div>\"}};\n",
       "  \n",
       "    function display_loaded() {\n",
       "      if (window.Bokeh !== undefined) {\n",
       "        Bokeh.$(\"#5c1b5df9-5331-485e-a319-5f0c7ad40f95\").text(\"BokehJS successfully loaded.\");\n",
       "      } else if (Date.now() < window._bokeh_timeout) {\n",
       "        setTimeout(display_loaded, 100)\n",
       "      }\n",
       "    }if ((window.Jupyter !== undefined) && Jupyter.notebook.kernel) {\n",
       "      comm_manager = Jupyter.notebook.kernel.comm_manager\n",
       "      comm_manager.register_target(\"609b5c8c-7627-463e-bbfb-368d346200c0\", function () {});\n",
       "    }\n",
       "  \n",
       "    function run_callbacks() {\n",
       "      window._bokeh_onload_callbacks.forEach(function(callback) { callback() });\n",
       "      delete window._bokeh_onload_callbacks\n",
       "      console.info(\"Bokeh: all callbacks have finished\");\n",
       "    }\n",
       "  \n",
       "    function load_libs(js_urls, callback) {\n",
       "      window._bokeh_onload_callbacks.push(callback);\n",
       "      if (window._bokeh_is_loading > 0) {\n",
       "        console.log(\"Bokeh: BokehJS is being loaded, scheduling callback at\", now());\n",
       "        return null;\n",
       "      }\n",
       "      if (js_urls == null || js_urls.length === 0) {\n",
       "        run_callbacks();\n",
       "        return null;\n",
       "      }\n",
       "      console.log(\"Bokeh: BokehJS not loaded, scheduling load and callback at\", now());\n",
       "      window._bokeh_is_loading = js_urls.length;\n",
       "      for (var i = 0; i < js_urls.length; i++) {\n",
       "        var url = js_urls[i];\n",
       "        var s = document.createElement('script');\n",
       "        s.src = url;\n",
       "        s.async = false;\n",
       "        s.onreadystatechange = s.onload = function() {\n",
       "          window._bokeh_is_loading--;\n",
       "          if (window._bokeh_is_loading === 0) {\n",
       "            console.log(\"Bokeh: all BokehJS libraries loaded\");\n",
       "            run_callbacks()\n",
       "          }\n",
       "        };\n",
       "        s.onerror = function() {\n",
       "          console.warn(\"failed to load library \" + url);\n",
       "        };\n",
       "        console.log(\"Bokeh: injecting script tag for BokehJS library: \", url);\n",
       "        document.getElementsByTagName(\"head\")[0].appendChild(s);\n",
       "      }\n",
       "    };var element = document.getElementById(\"5c1b5df9-5331-485e-a319-5f0c7ad40f95\");\n",
       "    if (element == null) {\n",
       "      console.log(\"Bokeh: ERROR: autoload.js configured with elementid '5c1b5df9-5331-485e-a319-5f0c7ad40f95' but no matching script tag was found. \")\n",
       "      return false;\n",
       "    }\n",
       "  \n",
       "    var js_urls = [];\n",
       "  \n",
       "    var inline_js = [\n",
       "      function(Bokeh) {\n",
       "        Bokeh.$(function() {\n",
       "            var docs_json = {\"018a0312-1f08-4ec1-b923-088073c77a13\":{\"roots\":{\"references\":[{\"attributes\":{\"plot\":{\"id\":\"8a5e88ba-0a41-43ab-96ee-6351b6ef0977\",\"subtype\":\"Figure\",\"type\":\"Plot\"}},\"id\":\"0a848d18-abb7-48aa-8fd3-576735281c0d\",\"type\":\"SaveTool\"},{\"attributes\":{},\"id\":\"4abdb235-5328-473e-9acc-6ce286692da9\",\"type\":\"BasicTickFormatter\"},{\"attributes\":{\"active_drag\":\"auto\",\"active_scroll\":\"auto\",\"active_tap\":\"auto\",\"tools\":[{\"id\":\"5b3d0ebd-e0e3-4f08-9009-38c7b082ed54\",\"type\":\"PanTool\"},{\"id\":\"7edfe04a-0a60-49e5-a765-277b05ceb629\",\"type\":\"WheelZoomTool\"},{\"id\":\"106fdb16-730e-426f-b1ce-9f8f5b448034\",\"type\":\"BoxZoomTool\"},{\"id\":\"0a848d18-abb7-48aa-8fd3-576735281c0d\",\"type\":\"SaveTool\"},{\"id\":\"303e30b3-f80b-4776-a9f9-0d5c3af65346\",\"type\":\"ResetTool\"},{\"id\":\"bbe78ffe-afd9-4886-a8cf-1e506c101348\",\"type\":\"HelpTool\"}]},\"id\":\"4a69d207-f550-43ce-9d16-e22ac6268a01\",\"type\":\"Toolbar\"},{\"attributes\":{\"formatter\":{\"id\":\"a1e9cb12-aa0f-4d4c-b781-a67cfe3f1555\",\"type\":\"BasicTickFormatter\"},\"plot\":{\"id\":\"8a5e88ba-0a41-43ab-96ee-6351b6ef0977\",\"subtype\":\"Figure\",\"type\":\"Plot\"},\"ticker\":{\"id\":\"d8e4f122-b0e8-41b1-9727-5d0d29e583e7\",\"type\":\"BasicTicker\"}},\"id\":\"e0f20b60-d8af-4328-8ff6-ad4f634c6511\",\"type\":\"LinearAxis\"},{\"attributes\":{\"data_source\":{\"id\":\"e7fb9bb8-53dd-4b62-8219-e615670b3d62\",\"type\":\"ColumnDataSource\"},\"glyph\":{\"id\":\"f3f3ff55-5fc3-479a-ab54-6b2ba06f991a\",\"type\":\"Circle\"},\"hover_glyph\":null,\"nonselection_glyph\":{\"id\":\"f7228ca5-05f2-436e-a717-f9e86b9feee5\",\"type\":\"Circle\"},\"selection_glyph\":null},\"id\":\"450e0f9f-4fcf-440e-818c-88761660b390\",\"type\":\"GlyphRenderer\"},{\"attributes\":{},\"id\":\"b4abb4c9-4ada-4270-9837-59d200d772fa\",\"type\":\"BasicTicker\"},{\"attributes\":{\"callback\":null,\"column_names\":[\"x\",\"y\"],\"data\":{\"x\":[0.0,0.08,0.16,0.24,0.32,0.4,0.48,0.56,0.64,0.72,0.8,0.88,0.96,1.04,1.12,1.2,1.28,1.36,1.44,1.52,1.6,1.68,1.76,1.84,1.92,2.0,2.08,2.16,2.24,2.32,2.4,2.48,2.56,2.64,2.72,2.8000000000000003,2.88,2.96,3.04,3.12,3.2,3.2800000000000002,3.36,3.44,3.52,3.6,3.68,3.7600000000000002,3.84,3.92,4.0,4.08,4.16,4.24,4.32,4.4,4.48,4.5600000000000005,4.64,4.72,4.8,4.88,4.96,5.04,5.12,5.2,5.28,5.36,5.44,5.5200000000000005,5.6000000000000005,5.68,5.76,5.84,5.92,6.0,6.08,6.16,6.24,6.32,6.4,6.48,6.5600000000000005,6.640000000000001,6.72,6.8,6.88,6.96,7.04,7.12,7.2,7.28,7.36,7.44,7.5200000000000005,7.6000000000000005,7.68,7.76,7.84,7.92,8.0],\"y\":[170000.0,156929.77888572807,144864.44412425594,133726.73638131408,123445.33630252746,113954.40782605868,105193.17660704395,97105.54085429852,89639.71208731826,82747.8835131952,76385.92389992767,70513.09498586884,65091.79061576905,60087.29593299262,55467.56508591671,51203.016025074365,47266.341077043005,43632.3320821045,40277.7189759607,37181.020781876505,34322.40805909142,31683.575926699694,29247.62684991859,26998.962438176517,24923.183562159527,23006.99815022416,21238.13607375901,19605.270576470626,18097.945744472978,16706.509552741463,15422.052059200127,14236.348350673314,13141.805875360957,12131.415824585629,11198.7082524885,10337.710646287052,9542.909681802734,8809.215919363392,8131.931214013723,7506.718631347786,6929.574676322256,6396.803657219954,5904.994020605555,5450.996505736331,5031.90397854164,4645.032816039735,4287.905721988626,3958.23586373249,3653.912228665287,3372.986106542949,3113.65861108481,2874.2691609598974,2653.2848463970813,2449.2906133290994,2260.9802022154404,2087.147783521634,1926.680236293456,1778.5500203825552,1641.8085966814222,1515.580353234724,1399.056998333405,1291.4923846881863,1192.1977315395222,1100.5372141091989,1015.9238921510103,937.8159515293312,865.7132347588623,799.1540382891569,737.7121560256121,680.9941501553709,628.636831802098,580.3049353772232,535.688971735555,494.5032463881393,456.4840300821495,421.38787003328093,388.9900309967688,359.0830561945614,331.4754388836705,305.99039605920046,282.46473643956875,260.7478154851587,240.70057075895636,222.19463145218566,205.11149637286687,189.34177513361655,174.78448767970406,161.34641767194836,148.9415155839011,137.49034769109895,126.91958742403547,117.16154582777483,108.15373812154587,99.83848358281843,92.16253619375347,85.07674368490376,78.53573279288072,72.49761871656115,66.9237369113633,61.77839550415813,57.02864674342702]}},\"id\":\"91f9026f-10b0-425d-b8a2-64676c5b223a\",\"type\":\"ColumnDataSource\"},{\"attributes\":{\"callback\":null},\"id\":\"aec2edf2-1a4b-43d6-b78d-178ea84281ca\",\"type\":\"DataRange1d\"},{\"attributes\":{\"line_alpha\":{\"value\":0.1},\"line_color\":{\"value\":\"#1f77b4\"},\"x\":{\"field\":\"x\"},\"y\":{\"field\":\"y\"}},\"id\":\"ec311179-4200-4ca5-a33c-fb6bc1acd274\",\"type\":\"Line\"},{\"attributes\":{\"formatter\":{\"id\":\"4abdb235-5328-473e-9acc-6ce286692da9\",\"type\":\"BasicTickFormatter\"},\"plot\":{\"id\":\"8a5e88ba-0a41-43ab-96ee-6351b6ef0977\",\"subtype\":\"Figure\",\"type\":\"Plot\"},\"ticker\":{\"id\":\"b4abb4c9-4ada-4270-9837-59d200d772fa\",\"type\":\"BasicTicker\"}},\"id\":\"9e84e388-30ea-48c8-a4e3-662478e6aae0\",\"type\":\"LinearAxis\"},{\"attributes\":{\"data_source\":{\"id\":\"91f9026f-10b0-425d-b8a2-64676c5b223a\",\"type\":\"ColumnDataSource\"},\"glyph\":{\"id\":\"1bc25006-74fa-4051-b7f3-0124e761017d\",\"type\":\"Line\"},\"hover_glyph\":null,\"nonselection_glyph\":{\"id\":\"ec311179-4200-4ca5-a33c-fb6bc1acd274\",\"type\":\"Line\"},\"selection_glyph\":null},\"id\":\"95c4823d-992a-40e8-bd90-43759608778d\",\"type\":\"GlyphRenderer\"},{\"attributes\":{},\"id\":\"d8e4f122-b0e8-41b1-9727-5d0d29e583e7\",\"type\":\"BasicTicker\"},{\"attributes\":{\"below\":[{\"id\":\"e0f20b60-d8af-4328-8ff6-ad4f634c6511\",\"type\":\"LinearAxis\"}],\"left\":[{\"id\":\"9e84e388-30ea-48c8-a4e3-662478e6aae0\",\"type\":\"LinearAxis\"}],\"plot_height\":300,\"plot_width\":500,\"renderers\":[{\"id\":\"e0f20b60-d8af-4328-8ff6-ad4f634c6511\",\"type\":\"LinearAxis\"},{\"id\":\"9e29789f-0a7d-47bf-acd7-946cbfb1eb4b\",\"type\":\"Grid\"},{\"id\":\"9e84e388-30ea-48c8-a4e3-662478e6aae0\",\"type\":\"LinearAxis\"},{\"id\":\"3cdd33d4-1252-49f5-8365-62465fc45313\",\"type\":\"Grid\"},{\"id\":\"8f91833f-920d-42d3-8e25-32f802dbb790\",\"type\":\"BoxAnnotation\"},{\"id\":\"3a03ab87-53ca-417c-a3d8-232c44f30fd3\",\"type\":\"Legend\"},{\"id\":\"450e0f9f-4fcf-440e-818c-88761660b390\",\"type\":\"GlyphRenderer\"},{\"id\":\"95c4823d-992a-40e8-bd90-43759608778d\",\"type\":\"GlyphRenderer\"}],\"title\":{\"id\":\"66e14dbc-7deb-4256-9ca5-e2a4ddcd34cb\",\"type\":\"Title\"},\"tool_events\":{\"id\":\"923bfd9d-4937-40d0-a390-df9d66a52d37\",\"type\":\"ToolEvents\"},\"toolbar\":{\"id\":\"4a69d207-f550-43ce-9d16-e22ac6268a01\",\"type\":\"Toolbar\"},\"x_range\":{\"id\":\"6d0f225b-343b-4a4c-b0e1-6b1f4a20654a\",\"type\":\"DataRange1d\"},\"y_range\":{\"id\":\"aec2edf2-1a4b-43d6-b78d-178ea84281ca\",\"type\":\"DataRange1d\"}},\"id\":\"8a5e88ba-0a41-43ab-96ee-6351b6ef0977\",\"subtype\":\"Figure\",\"type\":\"Plot\"},{\"attributes\":{\"items\":[{\"id\":\"ff21e1b7-3278-4b5e-95a2-539e3c9eb569\",\"type\":\"LegendItem\"},{\"id\":\"9d568203-1c5b-4a31-829c-eb35f8eccaac\",\"type\":\"LegendItem\"}],\"plot\":{\"id\":\"8a5e88ba-0a41-43ab-96ee-6351b6ef0977\",\"subtype\":\"Figure\",\"type\":\"Plot\"}},\"id\":\"3a03ab87-53ca-417c-a3d8-232c44f30fd3\",\"type\":\"Legend\"},{\"attributes\":{\"line_color\":{\"value\":\"red\"},\"x\":{\"field\":\"x\"},\"y\":{\"field\":\"y\"}},\"id\":\"1bc25006-74fa-4051-b7f3-0124e761017d\",\"type\":\"Line\"},{\"attributes\":{\"plot\":null,\"text\":null},\"id\":\"66e14dbc-7deb-4256-9ca5-e2a4ddcd34cb\",\"type\":\"Title\"},{\"attributes\":{\"plot\":{\"id\":\"8a5e88ba-0a41-43ab-96ee-6351b6ef0977\",\"subtype\":\"Figure\",\"type\":\"Plot\"}},\"id\":\"5b3d0ebd-e0e3-4f08-9009-38c7b082ed54\",\"type\":\"PanTool\"},{\"attributes\":{},\"id\":\"a1e9cb12-aa0f-4d4c-b781-a67cfe3f1555\",\"type\":\"BasicTickFormatter\"},{\"attributes\":{\"label\":{\"value\":\"measured\"},\"renderers\":[{\"id\":\"450e0f9f-4fcf-440e-818c-88761660b390\",\"type\":\"GlyphRenderer\"}]},\"id\":\"ff21e1b7-3278-4b5e-95a2-539e3c9eb569\",\"type\":\"LegendItem\"},{\"attributes\":{\"overlay\":{\"id\":\"8f91833f-920d-42d3-8e25-32f802dbb790\",\"type\":\"BoxAnnotation\"},\"plot\":{\"id\":\"8a5e88ba-0a41-43ab-96ee-6351b6ef0977\",\"subtype\":\"Figure\",\"type\":\"Plot\"}},\"id\":\"106fdb16-730e-426f-b1ce-9f8f5b448034\",\"type\":\"BoxZoomTool\"},{\"attributes\":{\"bottom_units\":\"screen\",\"fill_alpha\":{\"value\":0.5},\"fill_color\":{\"value\":\"lightgrey\"},\"left_units\":\"screen\",\"level\":\"overlay\",\"line_alpha\":{\"value\":1.0},\"line_color\":{\"value\":\"black\"},\"line_dash\":[4,4],\"line_width\":{\"value\":2},\"plot\":null,\"render_mode\":\"css\",\"right_units\":\"screen\",\"top_units\":\"screen\"},\"id\":\"8f91833f-920d-42d3-8e25-32f802dbb790\",\"type\":\"BoxAnnotation\"},{\"attributes\":{\"plot\":{\"id\":\"8a5e88ba-0a41-43ab-96ee-6351b6ef0977\",\"subtype\":\"Figure\",\"type\":\"Plot\"},\"ticker\":{\"id\":\"d8e4f122-b0e8-41b1-9727-5d0d29e583e7\",\"type\":\"BasicTicker\"}},\"id\":\"9e29789f-0a7d-47bf-acd7-946cbfb1eb4b\",\"type\":\"Grid\"},{\"attributes\":{\"plot\":{\"id\":\"8a5e88ba-0a41-43ab-96ee-6351b6ef0977\",\"subtype\":\"Figure\",\"type\":\"Plot\"}},\"id\":\"bbe78ffe-afd9-4886-a8cf-1e506c101348\",\"type\":\"HelpTool\"},{\"attributes\":{\"fill_alpha\":{\"value\":0.1},\"fill_color\":{\"value\":\"#1f77b4\"},\"line_alpha\":{\"value\":0.1},\"line_color\":{\"value\":\"#1f77b4\"},\"size\":{\"units\":\"screen\",\"value\":5},\"x\":{\"field\":\"t\"},\"y\":{\"field\":\"viral load\"}},\"id\":\"f7228ca5-05f2-436e-a717-f9e86b9feee5\",\"type\":\"Circle\"},{\"attributes\":{},\"id\":\"923bfd9d-4937-40d0-a390-df9d66a52d37\",\"type\":\"ToolEvents\"},{\"attributes\":{\"plot\":{\"id\":\"8a5e88ba-0a41-43ab-96ee-6351b6ef0977\",\"subtype\":\"Figure\",\"type\":\"Plot\"}},\"id\":\"303e30b3-f80b-4776-a9f9-0d5c3af65346\",\"type\":\"ResetTool\"},{\"attributes\":{\"callback\":null,\"column_names\":[\"t\",\"viral load\"],\"data\":{\"t\":[0.0,0.0831,0.1465,0.2587,0.4828,0.7448,0.9817,1.2563,1.4926,1.7299,1.9915,3.0011,4.0109,5.009,5.9943,7.0028],\"viral load\":[106100.0,93240.0,166720.0,153780.0,118800.0,116900.0,109570.0,111350.0,74388.0,83291.0,66435.0,35408.0,21125.0,20450.0,15798.0,4785.2]}},\"id\":\"e7fb9bb8-53dd-4b62-8219-e615670b3d62\",\"type\":\"ColumnDataSource\"},{\"attributes\":{\"dimension\":1,\"plot\":{\"id\":\"8a5e88ba-0a41-43ab-96ee-6351b6ef0977\",\"subtype\":\"Figure\",\"type\":\"Plot\"},\"ticker\":{\"id\":\"b4abb4c9-4ada-4270-9837-59d200d772fa\",\"type\":\"BasicTicker\"}},\"id\":\"3cdd33d4-1252-49f5-8365-62465fc45313\",\"type\":\"Grid\"},{\"attributes\":{\"plot\":{\"id\":\"8a5e88ba-0a41-43ab-96ee-6351b6ef0977\",\"subtype\":\"Figure\",\"type\":\"Plot\"}},\"id\":\"7edfe04a-0a60-49e5-a765-277b05ceb629\",\"type\":\"WheelZoomTool\"},{\"attributes\":{\"callback\":null},\"id\":\"6d0f225b-343b-4a4c-b0e1-6b1f4a20654a\",\"type\":\"DataRange1d\"},{\"attributes\":{\"fill_color\":{\"value\":\"#1f77b4\"},\"line_color\":{\"value\":\"#1f77b4\"},\"size\":{\"units\":\"screen\",\"value\":5},\"x\":{\"field\":\"t\"},\"y\":{\"field\":\"viral load\"}},\"id\":\"f3f3ff55-5fc3-479a-ab54-6b2ba06f991a\",\"type\":\"Circle\"},{\"attributes\":{\"label\":{\"value\":\"theory\"},\"renderers\":[{\"id\":\"95c4823d-992a-40e8-bd90-43759608778d\",\"type\":\"GlyphRenderer\"}]},\"id\":\"9d568203-1c5b-4a31-829c-eb35f8eccaac\",\"type\":\"LegendItem\"}],\"root_ids\":[\"8a5e88ba-0a41-43ab-96ee-6351b6ef0977\"]},\"title\":\"Bokeh Application\",\"version\":\"0.12.3\"}};\n",
       "            var render_items = [{\"docid\":\"018a0312-1f08-4ec1-b923-088073c77a13\",\"elementid\":\"5c1b5df9-5331-485e-a319-5f0c7ad40f95\",\"modelid\":\"8a5e88ba-0a41-43ab-96ee-6351b6ef0977\",\"notebook_comms_target\":\"609b5c8c-7627-463e-bbfb-368d346200c0\"}];\n",
       "            \n",
       "            Bokeh.embed.embed_items(docs_json, render_items);\n",
       "        });\n",
       "      },\n",
       "      function(Bokeh) {\n",
       "      }\n",
       "    ];\n",
       "  \n",
       "    function run_inline_js() {\n",
       "      \n",
       "      if ((window.Bokeh !== undefined) || (force === \"1\")) {\n",
       "        for (var i = 0; i < inline_js.length; i++) {\n",
       "          inline_js[i](window.Bokeh);\n",
       "        }if (force === \"1\") {\n",
       "          display_loaded();\n",
       "        }} else if (Date.now() < window._bokeh_timeout) {\n",
       "        setTimeout(run_inline_js, 100);\n",
       "      } else if (!window._bokeh_failed_load) {\n",
       "        console.log(\"Bokeh: BokehJS failed to load within specified timeout.\");\n",
       "        window._bokeh_failed_load = true;\n",
       "      } else if (!force) {\n",
       "        var cell = $(\"#5c1b5df9-5331-485e-a319-5f0c7ad40f95\").parents('.cell').data().cell;\n",
       "        cell.output_area.append_execute_result(NB_LOAD_WARNING)\n",
       "      }\n",
       "  \n",
       "    }\n",
       "  \n",
       "    if (window._bokeh_is_loading === 0) {\n",
       "      console.log(\"Bokeh: BokehJS loaded, going straight to plotting\");\n",
       "      run_inline_js();\n",
       "    } else {\n",
       "      load_libs(js_urls, function() {\n",
       "        console.log(\"Bokeh: BokehJS plotting callback run at\", now());\n",
       "        run_inline_js();\n",
       "      });\n",
       "    }\n",
       "  }(this));\n",
       "</script>"
      ]
     },
     "metadata": {},
     "output_type": "display_data"
    }
   ],
   "source": [
    "show(plot, notebook_handle=True);"
   ]
  },
  {
   "cell_type": "code",
   "execution_count": 8,
   "metadata": {
    "collapsed": false
   },
   "outputs": [],
   "source": [
    "interact(update, A=(1.0e5, 2.5e5), alpha=(0.1, 10.0), B=(-1.5e5, 5.0e4), beta=(0.1, 15.0));"
   ]
  },
  {
   "cell_type": "markdown",
   "metadata": {},
   "source": [
    "The values obtained from a nonlinear fit are $A = 1.73 \\times 10^5$, $\\alpha = 0.474$, $B = -7.44 \\times 10^4$, and $\\beta = 7.97$."
   ]
  }
 ],
 "metadata": {
  "anaconda-cloud": {},
  "kernelspec": {
   "display_name": "Python [conda env:py35]",
   "language": "python",
   "name": "conda-env-py35-py"
  },
  "language_info": {
   "codemirror_mode": {
    "name": "ipython",
    "version": 3
   },
   "file_extension": ".py",
   "mimetype": "text/x-python",
   "name": "python",
   "nbconvert_exporter": "python",
   "pygments_lexer": "ipython3",
   "version": "3.5.2"
  }
 },
 "nbformat": 4,
 "nbformat_minor": 2
}
