{
 "cells": [
  {
   "cell_type": "markdown",
   "metadata": {},
   "source": [
    "# String alignment using dynamic programming"
   ]
  },
  {
   "cell_type": "code",
   "execution_count": 25,
   "metadata": {
    "ExecuteTime": {
     "end_time": "2019-06-05T16:17:38.577518Z",
     "start_time": "2019-06-05T16:17:38.570888Z"
    }
   },
   "outputs": [],
   "source": [
    "import numpy as np\n",
    "import random"
   ]
  },
  {
   "cell_type": "markdown",
   "metadata": {},
   "source": [
    "Alphabet of the strings we consider for alignment, for this example we use nucliotides that encode DNA."
   ]
  },
  {
   "cell_type": "code",
   "execution_count": 2,
   "metadata": {
    "ExecuteTime": {
     "end_time": "2019-06-05T14:45:40.602569Z",
     "start_time": "2019-06-05T14:45:40.595975Z"
    }
   },
   "outputs": [],
   "source": [
    "alphabet = ['A', 'C', 'G', 'T']"
   ]
  },
  {
   "cell_type": "markdown",
   "metadata": {},
   "source": [
    "Scoring matrix, substituting an `A` by a `C` or `T` yields a penalty of -1, while substituing an `A` by a `G` yields a reward of 1, and matching an `A` yields 2."
   ]
  },
  {
   "cell_type": "code",
   "execution_count": 3,
   "metadata": {
    "ExecuteTime": {
     "end_time": "2019-06-05T14:48:35.711786Z",
     "start_time": "2019-06-05T14:48:35.702242Z"
    }
   },
   "outputs": [],
   "source": [
    "scoring_matrix = np.array(\n",
    "    [[ 2, -1,  1, -1],\n",
    "     [-1,  2, -1,  1],\n",
    "     [ 1, -1,  2, -1],\n",
    "     [-1,  1, -1,  2]]\n",
    ")"
   ]
  },
  {
   "cell_type": "markdown",
   "metadata": {},
   "source": [
    "The following function generates a function to generate random strings for the given alphabet."
   ]
  },
  {
   "cell_type": "code",
   "execution_count": 37,
   "metadata": {
    "ExecuteTime": {
     "end_time": "2019-06-05T16:20:16.997411Z",
     "start_time": "2019-06-05T16:20:16.964819Z"
    }
   },
   "outputs": [],
   "source": [
    "def random_string_generator(alphabet):\n",
    "    def random_string(n):\n",
    "        return ''.join(random.choices(alphabet, k=n))\n",
    "    return random_string"
   ]
  },
  {
   "cell_type": "markdown",
   "metadata": {},
   "source": [
    "Create a function to generate DNA fragments of a given length."
   ]
  },
  {
   "cell_type": "code",
   "execution_count": 38,
   "metadata": {
    "ExecuteTime": {
     "end_time": "2019-06-05T16:20:18.402099Z",
     "start_time": "2019-06-05T16:20:18.390144Z"
    }
   },
   "outputs": [],
   "source": [
    "random_dna = random_string_generator(alphabet)"
   ]
  },
  {
   "cell_type": "markdown",
   "metadata": {},
   "source": [
    "Seed the random number generator for reproducible results."
   ]
  },
  {
   "cell_type": "code",
   "execution_count": 40,
   "metadata": {
    "ExecuteTime": {
     "end_time": "2019-06-05T16:20:30.743676Z",
     "start_time": "2019-06-05T16:20:30.686178Z"
    }
   },
   "outputs": [],
   "source": [
    "random.seed(1234)"
   ]
  },
  {
   "cell_type": "markdown",
   "metadata": {},
   "source": [
    "Test the function for a few strings:"
   ]
  },
  {
   "cell_type": "code",
   "execution_count": 41,
   "metadata": {
    "ExecuteTime": {
     "end_time": "2019-06-05T16:20:51.277182Z",
     "start_time": "2019-06-05T16:20:51.265306Z"
    }
   },
   "outputs": [
    {
     "name": "stdout",
     "output_type": "stream",
     "text": [
      "T\n",
      "C\n",
      "A\n",
      "TT\n",
      "GG\n",
      "AT\n",
      "AAT\n",
      "CGG\n",
      "AAA\n",
      "ACTA\n",
      "GCGA\n",
      "GCGG\n",
      "CCATC\n",
      "GAGAA\n",
      "CCAGA\n",
      "GATTTA\n",
      "CACTAA\n",
      "TATACC\n"
     ]
    }
   ],
   "source": [
    "for i in range(3, 21):\n",
    "    print(random_dna(i//3))"
   ]
  },
  {
   "cell_type": "markdown",
   "metadata": {},
   "source": [
    "Implement the alignment algorithm as a class so that the alphabet, the scoring matrix and the gap score can be initialized once for alignment of many string pairs."
   ]
  },
  {
   "cell_type": "code",
   "execution_count": 168,
   "metadata": {
    "ExecuteTime": {
     "end_time": "2019-06-06T13:44:55.897004Z",
     "start_time": "2019-06-06T13:44:55.835861Z"
    }
   },
   "outputs": [],
   "source": [
    "class Alignment:\n",
    "    \n",
    "    def __init__(self, alphabet, scoring_matrix, gap_score):\n",
    "        self._idx = {char: index for index, char in enumerate(alphabet)}\n",
    "        self._scoring_matrix = scoring_matrix\n",
    "        self._gap_score = gap_score\n",
    " \n",
    "    def _init(self, str1, str2):\n",
    "        self._str1 = 'X' + str1\n",
    "        self._str2 = 'X' + str2\n",
    "        self._dist = np.empty((1 + len(str1), 1 + len(str2)), np.int)\n",
    "        self._dist[0, 0] = 0\n",
    "        for i in range(1, self._dist.shape[0]):\n",
    "            self._dist[i, 0] = self._dist[i - 1, 0] + self._gap_score\n",
    "        for j in range(1, self._dist.shape[1]):\n",
    "            self._dist[0, j] = self._dist[0, j - 1] + self._gap_score\n",
    "        \n",
    "    def _compute_edit_distance(self):\n",
    "        # from IPython.core.debugger import Tracer; Tracer()()\n",
    "        for i in range(1, self._dist.shape[0]):\n",
    "            for j in range(1, self._dist.shape[1]):\n",
    "                self._dist[i, j] = self._distance(i, j)\n",
    "    \n",
    "    def _distance(self, i, j):\n",
    "        idx1 = self._idx[self._str1[i]]\n",
    "        idx2 = self._idx[self._str2[j]]\n",
    "        match = self._dist[i - 1, j - 1] + self._scoring_matrix[idx1, idx2]\n",
    "        gap1 = self._dist[i, j - 1] + self._gap_score\n",
    "        gap2 = self._dist[i - 1, j] + self._gap_score\n",
    "        return max((match, gap1, gap2,))\n",
    "\n",
    "    def align(self, str1, str2):\n",
    "        self._init(str1, str2)\n",
    "        self._compute_edit_distance()\n",
    "        a1, a2 = '', ''\n",
    "        i, j = self._dist.shape[0] - 1, self._dist.shape[1] - 1\n",
    "        while i > 0 and j  > 0:\n",
    "            idx1 = self._idx[self._str1[i]]\n",
    "            idx2 = self._idx[self._str2[j]]\n",
    "            match = self._dist[i - 1, j - 1] + self._scoring_matrix[idx1, idx2]\n",
    "            if self._dist[i, j] == match:\n",
    "                a1 = self._str1[i] + a1\n",
    "                a2 = self._str2[j] + a2\n",
    "                i, j = i - 1, j - 1\n",
    "            elif  self._dist[i, j] == self._dist[i - 1, j] + self._gap_score:\n",
    "                a1 = self._str1[i] + a1\n",
    "                a2 = '_' + a2\n",
    "                i -= 1\n",
    "            elif self._dist[i, j] == self._dist[i, j - 1] + self._gap_score:\n",
    "                a1 = '_' + a1\n",
    "                a2 = self._str2[j] + a2\n",
    "                j -= 1\n",
    "        if i > 0:\n",
    "            while i > 0:\n",
    "                a1 = self._str1[i] + a1\n",
    "                a2 = '_' + a2\n",
    "                i -= 1\n",
    "        elif j > 0:\n",
    "            while j > 0:\n",
    "                a1 = '_' + a1\n",
    "                a2 = self._str2[j] + a2\n",
    "                j -= 1\n",
    "        return a1, a2\n",
    "\n",
    "    @property\n",
    "    def index(self):\n",
    "        return self._idx\n",
    "            \n",
    "    @property\n",
    "    def string1(self):\n",
    "        return self._str1[1:]\n",
    "    \n",
    "    @property\n",
    "    def string2(self):\n",
    "        return self._str2[1:]\n",
    "    \n",
    "    @property\n",
    "    def distance_matrix(self):\n",
    "        return np.copy(self._dist)"
   ]
  },
  {
   "cell_type": "markdown",
   "metadata": {},
   "source": [
    "Test the implementation on the example of http://www.biorecipes.com/DynProgBasic/code.html"
   ]
  },
  {
   "cell_type": "code",
   "execution_count": 170,
   "metadata": {
    "ExecuteTime": {
     "end_time": "2019-06-06T13:44:57.236337Z",
     "start_time": "2019-06-06T13:44:57.223330Z"
    }
   },
   "outputs": [
    {
     "name": "stdout",
     "output_type": "stream",
     "text": [
      "CCTA_AG\n",
      "ACGGTAG\n"
     ]
    }
   ],
   "source": [
    "alignment = Alignment(alphabet, scoring_matrix, -2)\n",
    "a1, a2 = alignment.align('CCTAAG', 'ACGGTAG',)\n",
    "print(a1)\n",
    "print(a2)"
   ]
  },
  {
   "cell_type": "code",
   "execution_count": 171,
   "metadata": {
    "ExecuteTime": {
     "end_time": "2019-06-06T13:45:08.010561Z",
     "start_time": "2019-06-06T13:45:07.996978Z"
    }
   },
   "outputs": [
    {
     "data": {
      "text/plain": [
       "array([[  0,  -2,  -4,  -6,  -8, -10, -12, -14],\n",
       "       [ -2,  -1,   0,  -2,  -4,  -6,  -8, -10],\n",
       "       [ -4,  -3,   1,  -1,  -3,  -3,  -5,  -7],\n",
       "       [ -6,  -5,  -1,   0,  -2,  -1,  -3,  -5],\n",
       "       [ -8,  -4,  -3,   0,   1,  -1,   1,  -1],\n",
       "       [-10,  -6,  -5,  -2,   1,   0,   1,   2],\n",
       "       [-12,  -8,  -7,  -3,   0,   0,   1,   3]])"
      ]
     },
     "execution_count": 171,
     "metadata": {},
     "output_type": "execute_result"
    }
   ],
   "source": [
    "alignment.distance_matrix"
   ]
  }
 ],
 "metadata": {
  "kernelspec": {
   "display_name": "Python 3",
   "language": "python",
   "name": "python3"
  },
  "language_info": {
   "codemirror_mode": {
    "name": "ipython",
    "version": 3
   },
   "file_extension": ".py",
   "mimetype": "text/x-python",
   "name": "python",
   "nbconvert_exporter": "python",
   "pygments_lexer": "ipython3",
   "version": "3.7.3"
  }
 },
 "nbformat": 4,
 "nbformat_minor": 2
}
