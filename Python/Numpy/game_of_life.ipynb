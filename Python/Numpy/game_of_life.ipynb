{
 "cells": [
  {
   "cell_type": "markdown",
   "metadata": {},
   "source": [
    "# Game of Life"
   ]
  },
  {
   "cell_type": "markdown",
   "metadata": {},
   "source": [
    "## Required imports"
   ]
  },
  {
   "cell_type": "code",
   "execution_count": 1,
   "metadata": {
    "ExecuteTime": {
     "end_time": "2019-06-26T04:40:34.726729Z",
     "start_time": "2019-06-26T04:40:33.740631Z"
    }
   },
   "outputs": [],
   "source": [
    "import matplotlib.pyplot as plt\n",
    "%matplotlib inline\n",
    "import numpy as np"
   ]
  },
  {
   "cell_type": "markdown",
   "metadata": {},
   "source": [
    "## World representation"
   ]
  },
  {
   "cell_type": "markdown",
   "metadata": {},
   "source": [
    "A Game of Life world will be represented by an array of integers.  Each array element represents a cell that can either be dead (0) or alive (1).  First, define a class that represents a randomly initialized world of $n \\times n$, where a fraction $f_{\\rm alive}$ is alive and defines methods to compute the next generation and provide a string representation."
   ]
  },
  {
   "cell_type": "code",
   "execution_count": 88,
   "metadata": {
    "ExecuteTime": {
     "end_time": "2019-06-26T06:16:08.319562Z",
     "start_time": "2019-06-26T06:16:08.271114Z"
    }
   },
   "outputs": [],
   "source": [
    "class RandomWorld:\n",
    "    \n",
    "    def __init__(self, n, f_alive):\n",
    "        self._tmp_world = np.empty((n, n), dtype=np.int8)\n",
    "        self._world = np.random.choice(np.array([0, 1], dtype=np.int8), (self.n, self.n),\n",
    "                                       p=(1 - f_alive, f_alive))\n",
    "    \n",
    "    @property\n",
    "    def n(self):\n",
    "        return self._tmp_world.shape[0]\n",
    "    \n",
    "    @property\n",
    "    def nr_alive(self):\n",
    "        return np.sum(self._world)\n",
    "\n",
    "    @property\n",
    "    def cells(self):\n",
    "        return np.copy(self._world)\n",
    "\n",
    "    @property\n",
    "    def fraction_alive(self):\n",
    "        return np.sum(self._world)/self.n**2\n",
    "    \n",
    "    def is_alive(self, i, j):\n",
    "        return self._world[i, j] == 1\n",
    "    \n",
    "    def nr_neignbours(self, i, j):\n",
    "        return np.sum(self._world[i-1:i+2, j-1:j+2]) - self._world[i, j]\n",
    "    \n",
    "    def next_generation(self):\n",
    "        for i in range(self.n):\n",
    "            for j in range(self.n):\n",
    "                nr_nb = self.nr_neignbours(i, j)\n",
    "                if self.is_alive(i, j):\n",
    "                    self._tmp_world[i, j] = 1 if nr_nb == 2 or nr_nb == 3 else 0\n",
    "                else:\n",
    "                    self._tmp_world[i, j] = 1 if nr_nb == 3 else 0\n",
    "        self._world = self._tmp_world\n",
    "\n",
    "\n",
    "        \n",
    "    def __str__(self):\n",
    "        return '\\n'.join(' '.join(f'{self._world[i, j]:1d}' for j in range(self.n)) for i in range(self.n))"
   ]
  },
  {
   "cell_type": "markdown",
   "metadata": {},
   "source": [
    "Create a world and run a generation."
   ]
  },
  {
   "cell_type": "code",
   "execution_count": 89,
   "metadata": {
    "ExecuteTime": {
     "end_time": "2019-06-26T06:16:09.070017Z",
     "start_time": "2019-06-26T06:16:09.060836Z"
    }
   },
   "outputs": [],
   "source": [
    "world = RandomWorld(10, 0.4)"
   ]
  },
  {
   "cell_type": "code",
   "execution_count": 90,
   "metadata": {
    "ExecuteTime": {
     "end_time": "2019-06-26T06:16:09.840523Z",
     "start_time": "2019-06-26T06:16:09.831328Z"
    }
   },
   "outputs": [
    {
     "name": "stdout",
     "output_type": "stream",
     "text": [
      "0 0 1 1 0 1 1 0 1 1\n",
      "0 0 1 1 0 1 1 0 0 0\n",
      "1 1 1 0 0 1 1 0 0 0\n",
      "0 1 0 1 0 0 1 0 0 1\n",
      "0 0 0 0 0 0 0 1 0 0\n",
      "1 0 0 1 0 0 1 0 0 1\n",
      "1 1 0 1 1 1 0 0 1 1\n",
      "1 0 1 0 0 0 0 0 1 1\n",
      "1 1 1 0 1 0 1 1 0 0\n",
      "1 0 0 1 0 0 1 0 0 0\n"
     ]
    }
   ],
   "source": [
    "print(world)"
   ]
  },
  {
   "cell_type": "code",
   "execution_count": 91,
   "metadata": {
    "ExecuteTime": {
     "end_time": "2019-06-26T06:16:10.525055Z",
     "start_time": "2019-06-26T06:16:10.513991Z"
    }
   },
   "outputs": [],
   "source": [
    "world.next_generation()"
   ]
  },
  {
   "cell_type": "code",
   "execution_count": 92,
   "metadata": {
    "ExecuteTime": {
     "end_time": "2019-06-26T06:16:11.362833Z",
     "start_time": "2019-06-26T06:16:11.353870Z"
    }
   },
   "outputs": [
    {
     "name": "stdout",
     "output_type": "stream",
     "text": [
      "0 0 0 0 0 0 0 0 0 0\n",
      "0 0 0 0 0 0 0 0 0 0\n",
      "0 0 0 0 0 0 0 1 0 0\n",
      "0 1 0 0 0 1 1 1 0 0\n",
      "0 0 1 0 0 0 1 1 1 0\n",
      "0 1 1 1 0 1 1 1 0 1\n",
      "0 0 0 1 1 1 0 1 0 0\n",
      "0 0 0 0 0 0 1 0 0 1\n",
      "0 0 1 0 0 1 1 1 1 0\n",
      "0 0 1 1 0 1 1 1 0 0\n"
     ]
    }
   ],
   "source": [
    "print(world)"
   ]
  },
  {
   "cell_type": "markdown",
   "metadata": {},
   "source": [
    "## Simulation runner"
   ]
  },
  {
   "cell_type": "markdown",
   "metadata": {},
   "source": [
    "We define a class to conveniently perform a complete simulation.  At most `max_gen` generations are computed, but the computation stops as soon as a cycle is detected."
   ]
  },
  {
   "cell_type": "code",
   "execution_count": 93,
   "metadata": {
    "ExecuteTime": {
     "end_time": "2019-06-26T06:16:12.038575Z",
     "start_time": "2019-06-26T06:16:12.011737Z"
    }
   },
   "outputs": [],
   "source": [
    "class WorldRunner:\n",
    "    \n",
    "    def __init__(self, world, max_gen):\n",
    "        self._world = world\n",
    "        self._max_gen = max_gen\n",
    "        self._cycle_length = None\n",
    "        self._hist = [self._world.cells]\n",
    "    \n",
    "    @property\n",
    "    def max_gen(self):\n",
    "        return self._max_gen\n",
    "\n",
    "    @property\n",
    "    def generation(self):\n",
    "        return len(self._hist) - 1\n",
    "    \n",
    "    def has_cycle(self):\n",
    "        return self._cycle_length is not None\n",
    "    \n",
    "    @property\n",
    "    def cycle_length(self):\n",
    "        return self._cycle_length\n",
    "    \n",
    "    @property\n",
    "    def history(self):\n",
    "        return self._hist\n",
    "    \n",
    "    def _has_cycle(self):\n",
    "        for gen in range(-2, -len(self._hist), -1):\n",
    "            if np.all(self._hist[-1] == self._hist[gen]):\n",
    "                self._cycle_length = -gen - 1\n",
    "                return True\n",
    "        return False\n",
    "    \n",
    "    def run(self):\n",
    "        for _ in range(1, self.max_gen + 1):\n",
    "            self._world.next_generation()\n",
    "            self._hist.append(self._world.cells)\n",
    "            if self._has_cycle():\n",
    "                break"
   ]
  },
  {
   "cell_type": "markdown",
   "metadata": {},
   "source": [
    "Create a world, and run it for a number of generations, then check on the properties."
   ]
  },
  {
   "cell_type": "code",
   "execution_count": 94,
   "metadata": {
    "ExecuteTime": {
     "end_time": "2019-06-26T06:16:13.378056Z",
     "start_time": "2019-06-26T06:16:13.243625Z"
    }
   },
   "outputs": [],
   "source": [
    "world = RandomWorld(10, 0.3)\n",
    "runner = WorldRunner(world, 100)\n",
    "runner.run()"
   ]
  },
  {
   "cell_type": "markdown",
   "metadata": {},
   "source": [
    "The current state of the world can be checked."
   ]
  },
  {
   "cell_type": "code",
   "execution_count": 95,
   "metadata": {
    "ExecuteTime": {
     "end_time": "2019-06-26T06:16:14.579086Z",
     "start_time": "2019-06-26T06:16:14.565227Z"
    }
   },
   "outputs": [
    {
     "name": "stdout",
     "output_type": "stream",
     "text": [
      "0 0 0 0 0 0 0 0 0 0\n",
      "0 0 0 0 1 1 0 0 0 0\n",
      "0 0 0 0 1 1 0 0 0 0\n",
      "0 0 0 0 0 0 0 0 0 0\n",
      "0 0 0 0 0 0 0 0 0 0\n",
      "0 0 0 0 0 0 0 0 0 0\n",
      "0 0 0 0 0 0 0 0 0 0\n",
      "0 0 0 0 0 0 0 0 1 1\n",
      "0 0 0 0 0 0 1 0 0 1\n",
      "0 0 0 0 0 0 1 1 0 0\n"
     ]
    }
   ],
   "source": [
    "print(world)"
   ]
  },
  {
   "cell_type": "code",
   "execution_count": 99,
   "metadata": {
    "ExecuteTime": {
     "end_time": "2019-06-26T06:16:27.274802Z",
     "start_time": "2019-06-26T06:16:27.263828Z"
    }
   },
   "outputs": [
    {
     "data": {
      "text/plain": [
       "0.1"
      ]
     },
     "execution_count": 99,
     "metadata": {},
     "output_type": "execute_result"
    }
   ],
   "source": [
    "world.fraction_alive"
   ]
  },
  {
   "cell_type": "markdown",
   "metadata": {},
   "source": [
    "Check whether a cycle has been detected, what the cycle length is, and after how many generations it occured."
   ]
  },
  {
   "cell_type": "code",
   "execution_count": 96,
   "metadata": {
    "ExecuteTime": {
     "end_time": "2019-06-26T06:16:16.177694Z",
     "start_time": "2019-06-26T06:16:16.167454Z"
    }
   },
   "outputs": [
    {
     "data": {
      "text/plain": [
       "True"
      ]
     },
     "execution_count": 96,
     "metadata": {},
     "output_type": "execute_result"
    }
   ],
   "source": [
    "runner.has_cycle()"
   ]
  },
  {
   "cell_type": "code",
   "execution_count": 97,
   "metadata": {
    "ExecuteTime": {
     "end_time": "2019-06-26T06:16:17.639208Z",
     "start_time": "2019-06-26T06:16:17.625657Z"
    }
   },
   "outputs": [
    {
     "data": {
      "text/plain": [
       "1"
      ]
     },
     "execution_count": 97,
     "metadata": {},
     "output_type": "execute_result"
    }
   ],
   "source": [
    "runner.cycle_length"
   ]
  },
  {
   "cell_type": "code",
   "execution_count": 98,
   "metadata": {
    "ExecuteTime": {
     "end_time": "2019-06-26T06:16:19.027025Z",
     "start_time": "2019-06-26T06:16:19.006301Z"
    }
   },
   "outputs": [
    {
     "data": {
      "text/plain": [
       "44"
      ]
     },
     "execution_count": 98,
     "metadata": {},
     "output_type": "execute_result"
    }
   ],
   "source": [
    "runner.generation"
   ]
  }
 ],
 "metadata": {
  "kernelspec": {
   "display_name": "Python 3",
   "language": "python",
   "name": "python3"
  },
  "language_info": {
   "codemirror_mode": {
    "name": "ipython",
    "version": 3
   },
   "file_extension": ".py",
   "mimetype": "text/x-python",
   "name": "python",
   "nbconvert_exporter": "python",
   "pygments_lexer": "ipython3",
   "version": "3.7.3"
  }
 },
 "nbformat": 4,
 "nbformat_minor": 2
}
