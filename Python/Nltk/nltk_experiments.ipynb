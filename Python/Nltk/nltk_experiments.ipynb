{
 "cells": [
  {
   "cell_type": "markdown",
   "metadata": {},
   "source": [
    "# NLTK experiments"
   ]
  },
  {
   "cell_type": "markdown",
   "metadata": {},
   "source": [
    "Import the NLTK module, and import the Genesis corpus."
   ]
  },
  {
   "cell_type": "code",
   "execution_count": 29,
   "metadata": {
    "collapsed": true
   },
   "outputs": [],
   "source": [
    "import nltk\n",
    "from nltk.corpus import genesis\n",
    "from nltk.sentiment.vader import SentimentIntensityAnalyzer"
   ]
  },
  {
   "cell_type": "markdown",
   "metadata": {},
   "source": [
    "## Working with a corpus"
   ]
  },
  {
   "cell_type": "markdown",
   "metadata": {},
   "source": [
    "Check the number of sentenses in Genesis:"
   ]
  },
  {
   "cell_type": "code",
   "execution_count": 2,
   "metadata": {
    "collapsed": false
   },
   "outputs": [
    {
     "data": {
      "text/plain": [
       "13640"
      ]
     },
     "execution_count": 2,
     "metadata": {},
     "output_type": "execute_result"
    }
   ],
   "source": [
    "len(genesis.sents())"
   ]
  },
  {
   "cell_type": "markdown",
   "metadata": {},
   "source": [
    "Show the first seven sentences:"
   ]
  },
  {
   "cell_type": "code",
   "execution_count": 6,
   "metadata": {
    "collapsed": false
   },
   "outputs": [
    {
     "name": "stdout",
     "output_type": "stream",
     "text": [
      "In the beginning God created the heaven and the earth .\n",
      "And the earth was without form , and void ; and darkness was upon the face of the deep .\n",
      "And the Spirit of God moved upon the face of the waters .\n",
      "And God said , Let there be light : and there was light .\n",
      "And God saw the light , that it was good : and God divided the light from the darkness .\n",
      "And God called the light Day , and the darkness he called Night .\n",
      "And the evening and the morning were the first day .\n"
     ]
    }
   ],
   "source": [
    "print('\\n'.join(sentence for sentence in\n",
    "                (' '.join(words) for words in genesis.sents()[:7])))"
   ]
  },
  {
   "cell_type": "markdown",
   "metadata": {},
   "source": [
    "## Part Of Speech tagging"
   ]
  },
  {
   "cell_type": "markdown",
   "metadata": {},
   "source": [
    "Tag the first 100 sentences."
   ]
  },
  {
   "cell_type": "code",
   "execution_count": 19,
   "metadata": {
    "collapsed": true
   },
   "outputs": [],
   "source": [
    "tagged = [nltk.pos_tag(sentence) for sentence in genesis.sents()[:20]]"
   ]
  },
  {
   "cell_type": "markdown",
   "metadata": {},
   "source": [
    "Show the first tagged sentence:"
   ]
  },
  {
   "cell_type": "code",
   "execution_count": 12,
   "metadata": {
    "collapsed": false
   },
   "outputs": [
    {
     "data": {
      "text/plain": [
       "[('In', 'IN'),\n",
       " ('the', 'DT'),\n",
       " ('beginning', 'NN'),\n",
       " ('God', 'NNP'),\n",
       " ('created', 'VBD'),\n",
       " ('the', 'DT'),\n",
       " ('heaven', 'NN'),\n",
       " ('and', 'CC'),\n",
       " ('the', 'DT'),\n",
       " ('earth', 'NN'),\n",
       " ('.', '.')]"
      ]
     },
     "execution_count": 12,
     "metadata": {},
     "output_type": "execute_result"
    }
   ],
   "source": [
    "tagged[0]"
   ]
  },
  {
   "cell_type": "markdown",
   "metadata": {},
   "source": [
    "## Named entities"
   ]
  },
  {
   "cell_type": "markdown",
   "metadata": {},
   "source": [
    "Find named entities:"
   ]
  },
  {
   "cell_type": "code",
   "execution_count": 13,
   "metadata": {
    "collapsed": true
   },
   "outputs": [],
   "source": [
    "entities = [nltk.chunk.ne_chunk(tagged_sent) for tagged_sent in tagged]"
   ]
  },
  {
   "cell_type": "markdown",
   "metadata": {},
   "source": [
    "Show first sentence:"
   ]
  },
  {
   "cell_type": "code",
   "execution_count": 14,
   "metadata": {
    "collapsed": false
   },
   "outputs": [
    {
     "data": {
      "image/png": "[encoded data removed]",
      "text/plain": [
       "Tree('S', [('In', 'IN'), ('the', 'DT'), ('beginning', 'NN'), Tree('PERSON', [('God', 'NNP')]), ('created', 'VBD'), ('the', 'DT'), ('heaven', 'NN'), ('and', 'CC'), ('the', 'DT'), ('earth', 'NN'), ('.', '.')])"
      ]
     },
     "execution_count": 14,
     "metadata": {},
     "output_type": "execute_result"
    }
   ],
   "source": [
    "entities[0]"
   ]
  },
  {
   "cell_type": "markdown",
   "metadata": {},
   "source": [
    "Also show the third sentence to see whether the Spirit is a person too:"
   ]
  },
  {
   "cell_type": "code",
   "execution_count": 15,
   "metadata": {
    "collapsed": false
   },
   "outputs": [
    {
     "data": {
      "image/png": "[encoded data removed]",
      "text/plain": [
       "Tree('S', [('And', 'CC'), ('the', 'DT'), Tree('ORGANIZATION', [('Spirit', 'NNP')]), ('of', 'IN'), Tree('PERSON', [('God', 'NNP')]), ('moved', 'VBD'), ('upon', 'IN'), ('the', 'DT'), ('face', 'NN'), ('of', 'IN'), ('the', 'DT'), ('waters', 'NNS'), ('.', '.')])"
      ]
     },
     "execution_count": 15,
     "metadata": {},
     "output_type": "execute_result"
    }
   ],
   "source": [
    "entities[2]"
   ]
  },
  {
   "cell_type": "markdown",
   "metadata": {},
   "source": [
    "Theologists might not be entirely happy, although the trinity has been a mystifying concept from its introduction."
   ]
  },
  {
   "cell_type": "code",
   "execution_count": 20,
   "metadata": {
    "collapsed": false,
    "scrolled": true
   },
   "outputs": [
    {
     "name": "stdout",
     "output_type": "stream",
     "text": [
      "(S\n",
      "  And/CC\n",
      "  the/DT\n",
      "  (ORGANIZATION Spirit/NNP)\n",
      "  of/IN\n",
      "  (PERSON God/NNP)\n",
      "  moved/VBD\n",
      "  upon/IN\n",
      "  the/DT\n",
      "  face/NN\n",
      "  of/IN\n",
      "  the/DT\n",
      "  waters/NNS\n",
      "  ./.)\n"
     ]
    }
   ],
   "source": [
    "print(entities[2])"
   ]
  },
  {
   "cell_type": "markdown",
   "metadata": {},
   "source": [
    "An element of entities is an nltk.Tree object with tuples, except for the named entities, which are nltk.Tree objects again. Define a function that takes a nltk.Tree, and returns a dictionary of named entities."
   ]
  },
  {
   "cell_type": "code",
   "execution_count": 27,
   "metadata": {
    "collapsed": true
   },
   "outputs": [],
   "source": [
    "def named_entities(tree, ne={}):\n",
    "    for subtree in tree:\n",
    "        if type(subtree) == nltk.Tree:\n",
    "            ne_type = subtree.label()\n",
    "            if ne_type not in ne:\n",
    "                ne[ne_type] = set()\n",
    "            ne[ne_type].add(subtree[0][0])\n",
    "    return ne"
   ]
  },
  {
   "cell_type": "markdown",
   "metadata": {},
   "source": [
    "Find all named entities in the first twenty sentences:"
   ]
  },
  {
   "cell_type": "code",
   "execution_count": 28,
   "metadata": {
    "collapsed": false
   },
   "outputs": [
    {
     "data": {
      "text/plain": [
       "{'GPE': {'Assyria',\n",
       "  'Be',\n",
       "  'Behold',\n",
       "  'Cain',\n",
       "  'Earth',\n",
       "  'Eden',\n",
       "  'Ethiopia',\n",
       "  'Hast',\n",
       "  'Havilah',\n",
       "  'Night',\n",
       "  'Nod',\n",
       "  'Where'},\n",
       " 'ORGANIZATION': {'LORD', 'Spirit'},\n",
       " 'PERSON': {'Abel',\n",
       "  'Adam',\n",
       "  'Cain',\n",
       "  'Eden',\n",
       "  'Enoch',\n",
       "  'Euphrates',\n",
       "  'Gihon',\n",
       "  'God',\n",
       "  'Hiddekel',\n",
       "  'Pison',\n",
       "  'Thorns',\n",
       "  'Thou',\n",
       "  'Unto',\n",
       "  'Where',\n",
       "  'Who',\n",
       "  'Woman',\n",
       "  'Ye',\n",
       "  'Yea'}}"
      ]
     },
     "execution_count": 28,
     "metadata": {},
     "output_type": "execute_result"
    }
   ],
   "source": [
    "ne = {}\n",
    "for entity in entities:\n",
    "    named_entities(entity, ne)\n",
    "ne"
   ]
  },
  {
   "cell_type": "markdown",
   "metadata": {},
   "source": [
    "Oh well, room for improvement..."
   ]
  },
  {
   "cell_type": "markdown",
   "metadata": {},
   "source": [
    "## Sentiment analysis"
   ]
  },
  {
   "cell_type": "markdown",
   "metadata": {},
   "source": [
    "Create a VADER sentiment polarity analyzer:"
   ]
  },
  {
   "cell_type": "code",
   "execution_count": 30,
   "metadata": {
    "collapsed": true
   },
   "outputs": [],
   "source": [
    "sentiment_analyzer = SentimentIntensityAnalyzer()"
   ]
  },
  {
   "cell_type": "markdown",
   "metadata": {},
   "source": [
    "Analyze the first ten sentences of Genesis, first define a function to format the results though."
   ]
  },
  {
   "cell_type": "code",
   "execution_count": 36,
   "metadata": {
    "collapsed": true
   },
   "outputs": [],
   "source": [
    "def format_sentiments(sentence, score):\n",
    "    fmt_str = '{0}\\n\\tcompound: {1:.3f}, negative: {2:.2f}, neutral: {3:.2f}, positive: {4:.2f}'\n",
    "    return fmt_str.format(sentence, score['compound'], score['neg'], score['neu'], score['pos'])"
   ]
  },
  {
   "cell_type": "code",
   "execution_count": 37,
   "metadata": {
    "collapsed": false
   },
   "outputs": [
    {
     "name": "stdout",
     "output_type": "stream",
     "text": [
      "In the beginning God created the heaven and the earth .\n",
      "\tcompound: 0.751, negative: 0.00, neutral: 0.49, positive: 0.51\n",
      "And the earth was without form , and void ; and darkness was upon the face of the deep .\n",
      "\tcompound: -0.250, negative: 0.11, neutral: 0.89, positive: 0.00\n",
      "And the Spirit of God moved upon the face of the waters .\n",
      "\tcompound: 0.421, negative: 0.00, neutral: 0.72, positive: 0.28\n",
      "And God said , Let there be light : and there was light .\n",
      "\tcompound: 0.273, negative: 0.00, neutral: 0.83, positive: 0.17\n",
      "And God saw the light , that it was good : and God divided the light from the darkness .\n",
      "\tcompound: 0.625, negative: 0.09, neutral: 0.59, positive: 0.32\n",
      "And God called the light Day , and the darkness he called Night .\n",
      "\tcompound: 0.026, negative: 0.14, neutral: 0.71, positive: 0.15\n",
      "And the evening and the morning were the first day .\n",
      "\tcompound: 0.000, negative: 0.00, neutral: 1.00, positive: 0.00\n",
      "And God said , Let there be a firmament in the midst of the waters , and let it divide the waters from the waters .\n",
      "\tcompound: 0.273, negative: 0.00, neutral: 0.91, positive: 0.09\n",
      "And God made the firmament , and divided the waters which were under the firmament from the waters which were above the firmame and it was so .\n",
      "\tcompound: 0.273, negative: 0.00, neutral: 0.92, positive: 0.08\n",
      "And God called the firmament Heaven .\n",
      "\tcompound: 0.660, negative: 0.00, neutral: 0.43, positive: 0.57\n"
     ]
    }
   ],
   "source": [
    "for sentence in genesis.sents()[:10]:\n",
    "    sentence_str = ' '.join(sentence)\n",
    "    score = sentiment_analyzer.polarity_scores(sentence_str)\n",
    "    print(format_sentiments(sentence_str, score))"
   ]
  },
  {
   "cell_type": "markdown",
   "metadata": {},
   "source": [
    "## Conclusion"
   ]
  },
  {
   "cell_type": "markdown",
   "metadata": {},
   "source": [
    "NLTK is easy to work with, but good results require domain knowledge."
   ]
  }
 ],
 "metadata": {
  "kernelspec": {
   "display_name": "Python 3",
   "language": "python",
   "name": "python3"
  },
  "language_info": {
   "codemirror_mode": {
    "name": "ipython",
    "version": 3
   },
   "file_extension": ".py",
   "mimetype": "text/x-python",
   "name": "python",
   "nbconvert_exporter": "python",
   "pygments_lexer": "ipython3",
   "version": "3.4.3"
  }
 },
 "nbformat": 4,
 "nbformat_minor": 0
}
