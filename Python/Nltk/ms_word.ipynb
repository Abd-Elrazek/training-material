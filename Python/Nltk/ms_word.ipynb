{
 "cells": [
  {
   "cell_type": "markdown",
   "metadata": {},
   "source": [
    "# Parse Microsoft Word documents"
   ]
  },
  {
   "cell_type": "markdown",
   "metadata": {},
   "source": [
    "Load the `docx` module to work with MS Word XML documents."
   ]
  },
  {
   "cell_type": "code",
   "execution_count": 1,
   "metadata": {
    "collapsed": true
   },
   "outputs": [],
   "source": [
    "import docx"
   ]
  },
  {
   "cell_type": "markdown",
   "metadata": {},
   "source": [
    "Read a document to start processing it."
   ]
  },
  {
   "cell_type": "code",
   "execution_count": 2,
   "metadata": {
    "collapsed": true
   },
   "outputs": [],
   "source": [
    "document = docx.Document('test.docx')"
   ]
  },
  {
   "cell_type": "markdown",
   "metadata": {},
   "source": [
    "The text of a document is organized in paragraphs, each paragraph consists of one or more runs.  A run defines style information on its content.  The actual text of the paragraph is the concatenation of all its runs."
   ]
  },
  {
   "cell_type": "code",
   "execution_count": 34,
   "metadata": {
    "collapsed": false,
    "scrolled": true
   },
   "outputs": [
    {
     "name": "stdout",
     "output_type": "stream",
     "text": [
      "p:\n",
      "Test document\n",
      "p:\n",
      "G.J. Bex\n",
      "p:\n",
      "Introduction\n",
      "p:\n",
      "In order to experiment with the Python module that can parse Microsoft word documents, a document is required that exhibits a number of relevant features.\n",
      "p:\n",
      "At least two sections, with a couple of paragraphs each should make for a useful test. Some styles should be present, such as bold text, or italic text is required as well.\n",
      "p:\n",
      "Conclusion\n",
      "p:\n",
      "It remains to be seen how convenient the python-docx library will deal with this particular document, since in fact we are only concerned with the actual text and the structure of the text, not the formatting information that is part of it.\n",
      "p:\n",
      "Let’s see what can be done.\n"
     ]
    }
   ],
   "source": [
    "for paragraph in document.paragraphs:\n",
    "    print('p:')\n",
    "    paragraph_text = ''\n",
    "    for run in paragraph.runs:\n",
    "        paragraph_text += run.element.text\n",
    "    print(paragraph_text)"
   ]
  },
  {
   "cell_type": "markdown",
   "metadata": {},
   "source": [
    "However, the paragraphs' text can conveniently be accessed directly when style information is irrelevant."
   ]
  },
  {
   "cell_type": "code",
   "execution_count": 33,
   "metadata": {
    "collapsed": false,
    "scrolled": true
   },
   "outputs": [
    {
     "name": "stdout",
     "output_type": "stream",
     "text": [
      "p:\n",
      "Test document\n",
      "p:\n",
      "G.J. Bex\n",
      "p:\n",
      "Introduction\n",
      "p:\n",
      "In order to experiment with the Python module that can parse Microsoft word documents, a document is required that exhibits a number of relevant features.\n",
      "p:\n",
      "At least two sections, with a couple of paragraphs each should make for a useful test. Some styles should be present, such as bold text, or italic text is required as well.\n",
      "p:\n",
      "Conclusion\n",
      "p:\n",
      "It remains to be seen how convenient the python-docx library will deal with this particular document, since in fact we are only concerned with the actual text and the structure of the text, not the formatting information that is part of it.\n",
      "p:\n",
      "Let’s see what can be done.\n"
     ]
    }
   ],
   "source": [
    "for paragraph in document.paragraphs:\n",
    "    print('p:')\n",
    "    print(paragraph.text)"
   ]
  },
  {
   "cell_type": "code",
   "execution_count": 29,
   "metadata": {
    "collapsed": false
   },
   "outputs": [],
   "source": [
    "section_heading = document.paragraphs[2]"
   ]
  },
  {
   "cell_type": "code",
   "execution_count": null,
   "metadata": {
    "collapsed": true
   },
   "outputs": [],
   "source": []
  }
 ],
 "metadata": {
  "anaconda-cloud": {},
  "kernelspec": {
   "display_name": "Python [conda env:py35]",
   "language": "python",
   "name": "conda-env-py35-py"
  },
  "language_info": {
   "codemirror_mode": {
    "name": "ipython",
    "version": 3
   },
   "file_extension": ".py",
   "mimetype": "text/x-python",
   "name": "python",
   "nbconvert_exporter": "python",
   "pygments_lexer": "ipython3",
   "version": "3.5.2"
  }
 },
 "nbformat": 4,
 "nbformat_minor": 2
}
