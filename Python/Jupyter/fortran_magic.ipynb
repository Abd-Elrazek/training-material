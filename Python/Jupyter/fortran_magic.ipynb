{
 "cells": [
  {
   "cell_type": "markdown",
   "metadata": {},
   "source": [
    "# Python & Fortran"
   ]
  },
  {
   "cell_type": "markdown",
   "metadata": {},
   "source": [
    "You can define Fortran functions and subrouttines in a Jupyter notebook, and call those to process Python data (basic types and numpy arrays)."
   ]
  },
  {
   "cell_type": "markdown",
   "metadata": {},
   "source": [
    "First, the notebook extension should be installed if that was not already done using pip:\n",
    "```\n",
    "!pip install fortran-magic\n",
    "```\n",
    "Alternatively, it can be installed using conda from the conda-forge channel:\n",
    "```\n",
    "!conda install -c conda-forge fortran-magic\n",
    "```\n",
    "Once this is done, the extension can be loaded."
   ]
  },
  {
   "cell_type": "code",
   "execution_count": 1,
   "metadata": {},
   "outputs": [
    {
     "name": "stderr",
     "output_type": "stream",
     "text": [
      "/home/gjb/miniconda3/envs/py36/lib/python3.6/site-packages/fortranmagic.py:147: UserWarning: get_ipython_cache_dir has moved to the IPython.paths module since IPython 4.0.\n",
      "  self._lib_dir = os.path.join(get_ipython_cache_dir(), 'fortran')\n"
     ]
    },
    {
     "data": {
      "application/javascript": [
       "$.getScript(\"https://raw.github.com/marijnh/CodeMirror/master/mode/fortran/fortran.js\", function () {\n",
       "IPython.config.cell_magic_highlight['magic_fortran'] = {'reg':[/^%%fortran/]};});\n"
      ]
     },
     "metadata": {},
     "output_type": "display_data"
    }
   ],
   "source": [
    "%load_ext fortranmagic"
   ]
  },
  {
   "cell_type": "markdown",
   "metadata": {},
   "source": [
    "We can define a Fortran subroutine.  There are some restrictions on the subroutine's signature since it will behave as a function when called in Python context. The single `intent(out)` argument should not be passed in, and its value will be returned as if it were a function."
   ]
  },
  {
   "cell_type": "code",
   "execution_count": 4,
   "metadata": {},
   "outputs": [],
   "source": [
    "%%fortran\n",
    "subroutine bla(x, r)\n",
    "    implicit none\n",
    "    integer, intent(in) :: x\n",
    "    integer, intent(out) :: r\n",
    "    r = x + 1\n",
    "end subroutine"
   ]
  },
  {
   "cell_type": "markdown",
   "metadata": {},
   "source": [
    "Once the subroutine is defined, it can be used as any Python function."
   ]
  },
  {
   "cell_type": "code",
   "execution_count": 6,
   "metadata": {},
   "outputs": [
    {
     "name": "stdout",
     "output_type": "stream",
     "text": [
      "15 16\n"
     ]
    }
   ],
   "source": [
    "a = 15\n",
    "b = 0\n",
    "b = bla(a)\n",
    "print(a, b)"
   ]
  },
  {
   "cell_type": "markdown",
   "metadata": {},
   "source": [
    "## OpenMP"
   ]
  },
  {
   "cell_type": "markdown",
   "metadata": {},
   "source": [
    "Check the number of threads for OpenMP, if it is 1, things will not be very interesting.  Set before starting the notebook using:\n",
    "```\n",
    "export OMP_NUM_THREADS=3\n",
    "```"
   ]
  },
  {
   "cell_type": "code",
   "execution_count": 2,
   "metadata": {},
   "outputs": [
    {
     "data": {
      "text/plain": [
       "'3'"
      ]
     },
     "execution_count": 2,
     "metadata": {},
     "output_type": "execute_result"
    }
   ],
   "source": [
    "import os\n",
    "os.environ['OMP_NUM_THREADS']"
   ]
  },
  {
   "cell_type": "markdown",
   "metadata": {},
   "source": [
    "A very simple subroutine that illustrates that OpenMP works.  It returns the number of threads, and the product $\\prod_{t_{\\rm id}=0}^{t_{\\rm num} - 1} (t_{\\rm id} + 1)$ for $t_{\\rm id}$ the thread ID and $t_{\\rm num}$ the number of threads."
   ]
  },
  {
   "cell_type": "code",
   "execution_count": 18,
   "metadata": {},
   "outputs": [],
   "source": [
    "%%fortran --f90flags '-fopenmp'\n",
    "subroutine test_omp(num_threads, thread_num_prod)\n",
    "    use omp_lib\n",
    "    implicit none\n",
    "    integer, intent(out) :: num_threads, thread_num_prod\n",
    "    integer :: thread_num\n",
    "    thread_num_prod = 1\n",
    "    !$omp parallel private(thread_num), shared(num_threads), reduction(*:thread_num_prod)\n",
    "        thread_num = omp_get_thread_num()\n",
    "        if (thread_num == 0) &\n",
    "            num_threads = omp_get_num_threads()\n",
    "        thread_num_prod = thread_num_prod*(1 + thread_num)\n",
    "    !$omp end parallel\n",
    "end subroutine test_omp"
   ]
  },
  {
   "cell_type": "markdown",
   "metadata": {},
   "source": [
    "For three threads, the results should be 3 and 6 respectively."
   ]
  },
  {
   "cell_type": "code",
   "execution_count": 19,
   "metadata": {},
   "outputs": [
    {
     "data": {
      "text/plain": [
       "(3, 6)"
      ]
     },
     "execution_count": 19,
     "metadata": {},
     "output_type": "execute_result"
    }
   ],
   "source": [
    "test_omp()"
   ]
  }
 ],
 "metadata": {
  "kernelspec": {
   "display_name": "Python 3",
   "language": "python",
   "name": "python3"
  },
  "language_info": {
   "codemirror_mode": {
    "name": "ipython",
    "version": 3
   },
   "file_extension": ".py",
   "mimetype": "text/x-python",
   "name": "python",
   "nbconvert_exporter": "python",
   "pygments_lexer": "ipython3",
   "version": "3.6.6"
  }
 },
 "nbformat": 4,
 "nbformat_minor": 2
}
