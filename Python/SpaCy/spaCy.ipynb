{
 "cells": [
  {
   "cell_type": "markdown",
   "metadata": {},
   "source": [
    "# spaCy experiments"
   ]
  },
  {
   "cell_type": "markdown",
   "metadata": {},
   "source": [
    "## Imports & initialization"
   ]
  },
  {
   "cell_type": "markdown",
   "metadata": {},
   "source": [
    "Import the required modules."
   ]
  },
  {
   "cell_type": "code",
   "execution_count": 13,
   "metadata": {
    "ExecuteTime": {
     "end_time": "2019-06-17T16:00:38.729952Z",
     "start_time": "2019-06-17T16:00:38.719390Z"
    }
   },
   "outputs": [],
   "source": [
    "import collections\n",
    "import itertools\n",
    "import matplotlib.pyplot as plt\n",
    "import numpy as np\n",
    "import spacy"
   ]
  },
  {
   "cell_type": "markdown",
   "metadata": {},
   "source": [
    "Create a language model, English in this case."
   ]
  },
  {
   "cell_type": "code",
   "execution_count": 2,
   "metadata": {
    "ExecuteTime": {
     "end_time": "2019-06-17T15:52:20.100237Z",
     "start_time": "2019-06-17T15:52:19.302629Z"
    }
   },
   "outputs": [],
   "source": [
    "en_nlp = spacy.load('en_core_web_sm')"
   ]
  },
  {
   "cell_type": "markdown",
   "metadata": {
    "heading_collapsed": true
   },
   "source": [
    "## Part of speech tagging (POS)"
   ]
  },
  {
   "cell_type": "markdown",
   "metadata": {
    "hidden": true
   },
   "source": [
    "Read a text file into a string variable."
   ]
  },
  {
   "cell_type": "code",
   "execution_count": 3,
   "metadata": {
    "ExecuteTime": {
     "end_time": "2019-06-17T14:55:13.433172Z",
     "start_time": "2019-06-17T14:55:13.423602Z"
    },
    "hidden": true
   },
   "outputs": [],
   "source": [
    "with open('Data/frost.txt') as file:\n",
    "    text = ''.join(file.readlines())"
   ]
  },
  {
   "cell_type": "markdown",
   "metadata": {
    "hidden": true
   },
   "source": [
    "Parse the text using the language model."
   ]
  },
  {
   "cell_type": "code",
   "execution_count": 4,
   "metadata": {
    "ExecuteTime": {
     "end_time": "2019-06-17T14:55:13.520303Z",
     "start_time": "2019-06-17T14:55:13.439612Z"
    },
    "hidden": true
   },
   "outputs": [],
   "source": [
    "doc = en_nlp(text)"
   ]
  },
  {
   "cell_type": "markdown",
   "metadata": {
    "hidden": true
   },
   "source": [
    "Show the part of speech tags, as well as the context of the words."
   ]
  },
  {
   "cell_type": "code",
   "execution_count": 5,
   "metadata": {
    "ExecuteTime": {
     "end_time": "2019-06-17T14:55:13.563164Z",
     "start_time": "2019-06-17T14:55:13.532696Z"
    },
    "hidden": true
   },
   "outputs": [
    {
     "name": "stdout",
     "output_type": "stream",
     "text": [
      "'Two': NUM, 'Two' <- 'roads' -> 'Two'\n",
      "'roads': NOUN, 'Two' <- 'roads' -> '\\n'\n",
      "'diverged': VERB, 'diverged' <- 'roads' -> 'wood'\n",
      "'in': ADP, 'in' <- 'diverged' -> 'wood'\n",
      "'a': DET, 'a' <- 'wood' -> 'a'\n",
      "'yellow': ADJ, 'yellow' <- 'wood' -> 'yellow'\n",
      "'wood': NOUN, 'a' <- 'in' -> 'wood'\n",
      "',': PUNCT, ',' <- 'roads' -> '\\n'\n",
      "'\\n': SPACE, '\\n' <- ',' -> '\\n'\n",
      "'And': CCONJ, 'And' <- 'sorry' -> 'And'\n",
      "'sorry': INTJ, 'And' <- 'travel' -> 'sorry'\n",
      "'I': PRON, 'I' <- 'travel' -> 'I'\n",
      "'could': VERB, 'could' <- 'travel' -> 'could'\n",
      "'not': ADV, 'not' <- 'travel' -> 'not'\n",
      "'travel': VERB, 'And' <- 'travel' -> '\\n'\n",
      "'both': DET, 'both' <- 'travel' -> '\\n'\n",
      "'\\n': SPACE, '\\n' <- 'both' -> '\\n'\n",
      "'And': CCONJ, 'And' <- 'travel' -> 'And'\n",
      "'be': VERB, 'be' <- 'travel' -> '\\n'\n",
      "'one': NUM, 'one' <- 'traveler' -> 'one'\n",
      "'traveler': NOUN, 'one' <- 'be' -> 'traveler'\n",
      "',': PUNCT, ',' <- 'stood' -> ','\n",
      "'long': ADV, 'long' <- 'stood' -> 'long'\n",
      "'I': PRON, 'I' <- 'stood' -> 'I'\n",
      "'stood': VERB, ',' <- 'be' -> '\\n'\n",
      "'\\n': SPACE, '\\n' <- 'stood' -> '\\n'\n",
      "'And': CCONJ, 'And' <- 'be' -> 'And'\n",
      "'looked': VERB, 'looked' <- 'be' -> '\\n'\n",
      "'down': PART, 'down' <- 'looked' -> 'down'\n",
      "'one': NUM, 'one' <- 'looked' -> 'one'\n",
      "'as': ADV, 'as' <- 'far' -> 'as'\n",
      "'far': ADV, 'as' <- 'looked' -> '\\n'\n",
      "'as': ADP, 'as' <- 'could' -> 'as'\n",
      "'I': PRON, 'I' <- 'could' -> 'I'\n",
      "'could': VERB, 'as' <- 'far' -> '\\n'\n",
      "'\\n': SPACE, '\\n' <- 'could' -> '\\n'\n",
      "'To': ADP, 'To' <- 'took' -> 'undergrowth'\n",
      "'where': ADV, 'where' <- 'bent' -> 'where'\n",
      "'it': PRON, 'it' <- 'bent' -> 'it'\n",
      "'bent': VERB, 'where' <- 'To' -> 'undergrowth'\n",
      "'in': ADP, 'in' <- 'bent' -> 'undergrowth'\n",
      "'the': DET, 'the' <- 'undergrowth' -> 'the'\n",
      "'undergrowth': NOUN, 'the' <- 'in' -> 'undergrowth'\n",
      "';': PUNCT, ';' <- 'took' -> '\\n\\n'\n",
      "'\\n\\n': SPACE, '\\n\\n' <- ';' -> '\\n\\n'\n",
      "'Then': ADV, 'Then' <- 'took' -> 'Then'\n",
      "'took': VERB, 'To' <- 'took' -> '\\n'\n",
      "'the': DET, 'the' <- 'other' -> 'the'\n",
      "'other': ADJ, 'the' <- 'took' -> 'other'\n",
      "',': PUNCT, ',' <- 'took' -> ','\n",
      "'as': ADV, 'as' <- 'as' -> 'as'\n",
      "'just': ADV, 'just' <- 'as' -> 'just'\n",
      "'as': ADP, 'as' <- 'fair' -> 'as'\n",
      "'fair': ADJ, 'as' <- 'took' -> 'wear'\n",
      "',': PUNCT, ',' <- 'fair' -> '\\n'\n",
      "'\\n': SPACE, '\\n' <- ',' -> '\\n'\n",
      "'And': CCONJ, 'And' <- 'fair' -> 'And'\n",
      "'having': VERB, 'having' <- 'fair' -> 'wear'\n",
      "'perhaps': ADV, 'perhaps' <- 'claim' -> 'perhaps'\n",
      "'the': DET, 'the' <- 'claim' -> 'the'\n",
      "'better': ADJ, 'better' <- 'claim' -> 'better'\n",
      "'claim': NOUN, 'perhaps' <- 'having' -> 'claim'\n",
      "',': PUNCT, ',' <- 'having' -> '\\n'\n",
      "'\\n': SPACE, '\\n' <- ',' -> '\\n'\n",
      "'Because': ADP, 'Because' <- 'was' -> 'Because'\n",
      "'it': PRON, 'it' <- 'was' -> 'it'\n",
      "'was': VERB, 'Because' <- 'having' -> 'wear'\n",
      "'grassy': ADJ, 'grassy' <- 'was' -> 'grassy'\n",
      "'and': CCONJ, 'and' <- 'was' -> 'and'\n",
      "'wanted': VERB, 'wanted' <- 'was' -> 'wear'\n",
      "'wear': NOUN, 'wear' <- 'wanted' -> 'wear'\n",
      "';': PUNCT, ';' <- 'took' -> '\\n'\n",
      "'\\n': SPACE, '\\n' <- ';' -> '\\n'\n",
      "'Though': PROPN, 'Though' <- 'as' -> 'Though'\n",
      "'as': ADP, 'Though' <- 'worn' -> 'that'\n",
      "'for': ADP, 'for' <- 'as' -> 'that'\n",
      "'that': ADP, 'that' <- 'for' -> 'that'\n",
      "'the': DET, 'the' <- 'passing' -> 'the'\n",
      "'passing': VERB, 'the' <- 'worn' -> '\\n'\n",
      "'there': ADV, 'there' <- 'passing' -> '\\n'\n",
      "'\\n': SPACE, '\\n' <- 'there' -> '\\n'\n",
      "'Had': VERB, 'Had' <- 'worn' -> 'Had'\n",
      "'worn': VERB, 'Though' <- 'took' -> '\\n'\n",
      "'them': PRON, 'them' <- 'worn' -> 'them'\n",
      "'really': ADV, 'really' <- 'worn' -> 'really'\n",
      "'about': ADP, 'about' <- 'worn' -> '\\n'\n",
      "'the': DET, 'the' <- 'same' -> 'the'\n",
      "'same': ADJ, 'the' <- 'about' -> '\\n'\n",
      "',': PUNCT, ',' <- 'same' -> '\\n\\n'\n",
      "'\\n\\n': SPACE, '\\n\\n' <- ',' -> '\\n\\n'\n",
      "'And': CCONJ, 'And' <- 'same' -> 'And'\n",
      "'both': DET, 'both' <- 'morning' -> 'both'\n",
      "'that': DET, 'that' <- 'morning' -> 'that'\n",
      "'morning': NOUN, 'both' <- 'lay' -> 'morning'\n",
      "'equally': ADV, 'equally' <- 'lay' -> 'equally'\n",
      "'lay': VERB, 'both' <- 'same' -> '\\n'\n",
      "'\\n': SPACE, '\\n' <- 'lay' -> '\\n'\n",
      "'In': ADP, 'In' <- 'trodden' -> 'leaves'\n",
      "'leaves': NOUN, 'leaves' <- 'In' -> 'leaves'\n",
      "'no': DET, 'no' <- 'step' -> 'no'\n",
      "'step': NOUN, 'no' <- 'trodden' -> 'step'\n",
      "'had': VERB, 'had' <- 'trodden' -> 'had'\n",
      "'trodden': VERB, 'In' <- 'trodden' -> '\\n'\n",
      "'black': ADJ, 'black' <- 'trodden' -> 'black'\n",
      "'.': PUNCT, '.' <- 'trodden' -> '\\n'\n",
      "'\\n': SPACE, '\\n' <- '.' -> '\\n'\n",
      "'Oh': INTJ, 'Oh' <- 'kept' -> 'Oh'\n",
      "',': PUNCT, ',' <- 'kept' -> ','\n",
      "'I': PRON, 'I' <- 'kept' -> 'I'\n",
      "'kept': VERB, 'Oh' <- 'kept' -> '\\n'\n",
      "'the': DET, 'the' <- 'first' -> 'the'\n",
      "'first': ADJ, 'the' <- 'kept' -> 'first'\n",
      "'for': ADP, 'for' <- 'kept' -> 'day'\n",
      "'another': DET, 'another' <- 'day' -> 'another'\n",
      "'day': NOUN, 'another' <- 'for' -> 'day'\n",
      "'!': PUNCT, '!' <- 'kept' -> '\\n'\n",
      "'\\n': SPACE, '\\n' <- '!' -> '\\n'\n",
      "'Yet': ADV, 'Yet' <- 'doubted' -> 'Yet'\n",
      "'knowing': VERB, 'knowing' <- 'doubted' -> 'way'\n",
      "'how': ADV, 'how' <- 'way' -> 'how'\n",
      "'way': NOUN, 'how' <- 'leads' -> 'way'\n",
      "'leads': VERB, 'how' <- 'knowing' -> 'way'\n",
      "'on': PART, 'on' <- 'leads' -> 'way'\n",
      "'to': ADP, 'to' <- 'on' -> 'way'\n",
      "'way': NOUN, 'way' <- 'to' -> 'way'\n",
      "',': PUNCT, ',' <- 'doubted' -> '\\n'\n",
      "'\\n': SPACE, '\\n' <- ',' -> '\\n'\n",
      "'I': PRON, 'I' <- 'doubted' -> 'I'\n",
      "'doubted': VERB, 'Yet' <- 'doubted' -> '\\n\\n'\n",
      "'if': ADP, 'if' <- 'come' -> 'if'\n",
      "'I': PRON, 'I' <- 'come' -> 'I'\n",
      "'should': VERB, 'should' <- 'come' -> 'should'\n",
      "'ever': ADV, 'ever' <- 'come' -> 'ever'\n",
      "'come': VERB, 'if' <- 'doubted' -> 'back'\n",
      "'back': ADV, 'back' <- 'come' -> 'back'\n",
      "'.': PUNCT, '.' <- 'doubted' -> '\\n\\n'\n",
      "'\\n\\n': SPACE, '\\n\\n' <- '.' -> '\\n\\n'\n",
      "'I': PRON, 'I' <- 'telling' -> 'I'\n",
      "'shall': VERB, 'shall' <- 'telling' -> 'shall'\n",
      "'be': VERB, 'be' <- 'telling' -> 'be'\n",
      "'telling': VERB, 'I' <- 'telling' -> '\\n'\n",
      "'this': DET, 'this' <- 'telling' -> 'this'\n",
      "'with': ADP, 'with' <- 'telling' -> 'ages'\n",
      "'a': DET, 'a' <- 'ages' -> 'a'\n",
      "'sigh': NOUN, 'sigh' <- 'ages' -> 'Somewhere'\n",
      "'\\n': SPACE, '\\n' <- 'sigh' -> '\\n'\n",
      "'Somewhere': PROPN, 'Somewhere' <- 'sigh' -> 'Somewhere'\n",
      "'ages': NOUN, 'a' <- 'with' -> 'ages'\n",
      "'and': CCONJ, 'and' <- 'ages' -> 'and'\n",
      "'ages': NOUN, 'ages' <- 'ages' -> 'ages'\n",
      "'hence': ADV, 'hence' <- 'telling' -> 'hence'\n",
      "':': PUNCT, ':' <- 'telling' -> '\\n'\n",
      "'\\n': SPACE, '\\n' <- ':' -> '\\n'\n",
      "'Two': NUM, 'Two' <- 'roads' -> 'Two'\n",
      "'roads': NOUN, 'Two' <- 'roads' -> '\\n'\n",
      "'diverged': VERB, 'diverged' <- 'roads' -> 'wood'\n",
      "'in': ADP, 'in' <- 'diverged' -> 'wood'\n",
      "'a': DET, 'a' <- 'wood' -> 'a'\n",
      "'wood': NOUN, 'a' <- 'in' -> 'wood'\n",
      "',': PUNCT, ',' <- 'roads' -> ','\n",
      "'and': CCONJ, 'and' <- 'roads' -> 'and'\n",
      "'I—': PROPN, 'I—' <- 'roads' -> '\\n'\n",
      "'\\n': SPACE, '\\n' <- 'I—' -> '\\n'\n",
      "'I': PRON, 'I' <- 'took' -> 'I'\n",
      "'took': VERB, 'I' <- 'took' -> '.'\n",
      "'the': DET, 'the' <- 'one' -> 'the'\n",
      "'one': NUM, 'the' <- 'took' -> 'by'\n",
      "'less': ADV, 'less' <- 'one' -> 'less'\n",
      "'traveled': VERB, 'traveled' <- 'one' -> 'by'\n",
      "'by': ADV, 'by' <- 'traveled' -> 'by'\n",
      "',': PUNCT, ',' <- 'took' -> '\\n'\n",
      "'\\n': SPACE, '\\n' <- ',' -> '\\n'\n",
      "'And': CCONJ, 'And' <- 'took' -> 'And'\n",
      "'that': DET, 'that' <- 'made' -> 'that'\n",
      "'has': VERB, 'has' <- 'made' -> 'has'\n",
      "'made': VERB, 'that' <- 'took' -> '.'\n",
      "'all': ADJ, 'all' <- 'difference' -> 'all'\n",
      "'the': DET, 'the' <- 'difference' -> 'the'\n",
      "'difference': NOUN, 'all' <- 'made' -> 'difference'\n",
      "'.': PUNCT, '.' <- 'made' -> '.'\n"
     ]
    }
   ],
   "source": [
    "for word in doc:\n",
    "    print(f'{word.text!r}: {word.pos_}, '\n",
    "          f'{word.left_edge.text!r} <- {word.head.text!r} -> {word.right_edge.text!r}')"
   ]
  },
  {
   "cell_type": "markdown",
   "metadata": {
    "hidden": true
   },
   "source": [
    "Since we can't use backslashes in f-strings, we define a constant to represent it."
   ]
  },
  {
   "cell_type": "code",
   "execution_count": 6,
   "metadata": {
    "ExecuteTime": {
     "end_time": "2019-06-17T14:55:13.575206Z",
     "start_time": "2019-06-17T14:55:13.565438Z"
    },
    "hidden": true
   },
   "outputs": [],
   "source": [
    "newline = '\\n'"
   ]
  },
  {
   "cell_type": "markdown",
   "metadata": {
    "hidden": true
   },
   "source": [
    "To split a text in sentences, a statistical model is used that was obtained from the training corpus."
   ]
  },
  {
   "cell_type": "code",
   "execution_count": 7,
   "metadata": {
    "ExecuteTime": {
     "end_time": "2019-06-17T14:55:13.592155Z",
     "start_time": "2019-06-17T14:55:13.576774Z"
    },
    "hidden": true,
    "scrolled": true
   },
   "outputs": [
    {
     "name": "stdout",
     "output_type": "stream",
     "text": [
      "  0 Two roads diverged in a yellow wood, \n",
      "  1 And sorry I could not travel both And be one traveler, long I stood And looked down one as far as I could \n",
      "  2 To where it bent in the undergrowth;  Then took the other, as just as fair, And having perhaps the better claim, Because it was grassy and wanted wear; Though as for that the passing there Had worn them really about the same,  And both that morning equally lay \n",
      "  3 In leaves no step had trodden black. \n",
      "  4 Oh, I kept the first for another day! \n",
      "  5 Yet knowing how way leads on to way, I doubted if I should ever come back.  \n",
      "  6 I shall be telling this with a sigh Somewhere ages and ages hence: \n",
      "  7 Two roads diverged in a wood, and I— \n",
      "  8 I took the one less traveled by, And that has made all the difference.\n"
     ]
    }
   ],
   "source": [
    "for i, sentence in enumerate(doc.sents):\n",
    "    print(f'{i:3d} {sentence.text.replace(newline, \" \")}')"
   ]
  },
  {
   "cell_type": "markdown",
   "metadata": {
    "hidden": true
   },
   "source": [
    "For poetry, sentences seem somewhat hard to detect.  However, it is possible to define a language model for English and add a rule-based sentencizer to it."
   ]
  },
  {
   "cell_type": "code",
   "execution_count": 8,
   "metadata": {
    "ExecuteTime": {
     "end_time": "2019-06-17T14:55:13.743764Z",
     "start_time": "2019-06-17T14:55:13.594656Z"
    },
    "hidden": true
   },
   "outputs": [
    {
     "name": "stdout",
     "output_type": "stream",
     "text": [
      "  0 Two roads diverged in a yellow wood, And sorry I could not travel both And be one traveler, long I stood And looked down one as far as I could To where it bent in the undergrowth;  Then took the other, as just as fair, And having perhaps the better claim, Because it was grassy and wanted wear; Though as for that the passing there Had worn them really about the same,  And both that morning equally lay In leaves no step had trodden black.\n",
      "  1 Oh, I kept the first for another day!\n",
      "  2 Yet knowing how way leads on to way, I doubted if I should ever come back.\n",
      "  3 I shall be telling this with a sigh Somewhere ages and ages hence: Two roads diverged in a wood, and I— I took the one less traveled by, And that has made all the difference.\n"
     ]
    }
   ],
   "source": [
    "en_nlp_alt = spacy.lang.en.English()\n",
    "sentencizer = en_nlp_alt.create_pipe('sentencizer')\n",
    "en_nlp_alt.add_pipe(sentencizer)\n",
    "doc = en_nlp_alt(text)\n",
    "for i, sentence in enumerate(doc.sents):\n",
    "    print(f'{i:3d} {sentence.text.replace(newline, \" \").strip()}')"
   ]
  },
  {
   "cell_type": "markdown",
   "metadata": {},
   "source": [
    "## Lemmatization"
   ]
  },
  {
   "cell_type": "markdown",
   "metadata": {},
   "source": [
    "By way of example, consider Plato's *Republic*.  This is a fairly long text."
   ]
  },
  {
   "cell_type": "code",
   "execution_count": 32,
   "metadata": {
    "ExecuteTime": {
     "end_time": "2019-06-17T16:21:17.588908Z",
     "start_time": "2019-06-17T16:21:17.338046Z"
    }
   },
   "outputs": [
    {
     "name": "stdout",
     "output_type": "stream",
     "text": [
      " 14601 124867 Data/republic.mb.txt\r\n"
     ]
    }
   ],
   "source": [
    "!wc -l -w Data/republic.mb.txt"
   ]
  },
  {
   "cell_type": "code",
   "execution_count": 7,
   "metadata": {
    "ExecuteTime": {
     "end_time": "2019-06-17T15:54:47.307009Z",
     "start_time": "2019-06-17T15:54:47.279446Z"
    }
   },
   "outputs": [],
   "source": [
    "with open('Data/republic.mb.txt') as file:\n",
    "    text = ''.join(file.readlines())"
   ]
  },
  {
   "cell_type": "markdown",
   "metadata": {},
   "source": [
    "The full result of the language model parsing this text would be rather large, but for our purposes, we require only tokenization, not POS or NER, hence we disable these features."
   ]
  },
  {
   "cell_type": "code",
   "execution_count": 8,
   "metadata": {
    "ExecuteTime": {
     "end_time": "2019-06-17T15:54:54.521920Z",
     "start_time": "2019-06-17T15:54:48.418691Z"
    }
   },
   "outputs": [],
   "source": [
    "doc = en_nlp(text, disable=['parser', 'ner'])"
   ]
  },
  {
   "cell_type": "markdown",
   "metadata": {},
   "source": [
    "We can now perform lemmatization on all words that are not stop words, and we also eliminate named entities (`-PROP-` as value for lemma) and punctuation.  On the resulting list, a word count is performed."
   ]
  },
  {
   "cell_type": "code",
   "execution_count": 29,
   "metadata": {
    "ExecuteTime": {
     "end_time": "2019-06-17T16:19:03.622949Z",
     "start_time": "2019-06-17T16:19:03.342172Z"
    }
   },
   "outputs": [],
   "source": [
    "stopwords = en_nlp.Defaults.stop_words | {'\\n', '\\n\\n', '-PRON-'}\n",
    "punctuation = ',.;?!:-'\n",
    "counts = collections.Counter([token.lemma_.lower() for token in doc\n",
    "                              if token.lemma_ not in stopwords and token.lemma_ not in punctuation])"
   ]
  },
  {
   "cell_type": "markdown",
   "metadata": {},
   "source": [
    "The top-20 words are given below."
   ]
  },
  {
   "cell_type": "code",
   "execution_count": 31,
   "metadata": {
    "ExecuteTime": {
     "end_time": "2019-06-17T16:19:52.292239Z",
     "start_time": "2019-06-17T16:19:52.220479Z"
    }
   },
   "outputs": [
    {
     "data": {
      "text/plain": [
       "[('good', 619),\n",
       " ('man', 605),\n",
       " ('true', 499),\n",
       " ('yes', 446),\n",
       " ('state', 416),\n",
       " ('like', 283),\n",
       " ('reply', 267),\n",
       " ('thing', 266),\n",
       " ('great', 259),\n",
       " ('nature', 241),\n",
       " ('certainly', 238),\n",
       " ('soul', 236),\n",
       " ('justice', 231),\n",
       " ('know', 223),\n",
       " ('life', 214),\n",
       " (\"'\", 213),\n",
       " ('think', 207),\n",
       " ('mean', 205),\n",
       " ('let', 201),\n",
       " ('shall', 195)]"
      ]
     },
     "execution_count": 31,
     "metadata": {},
     "output_type": "execute_result"
    }
   ],
   "source": [
    "counts.most_common(20)"
   ]
  },
  {
   "cell_type": "code",
   "execution_count": 39,
   "metadata": {
    "ExecuteTime": {
     "end_time": "2019-06-18T04:49:39.292540Z",
     "start_time": "2019-06-18T04:49:39.269145Z"
    }
   },
   "outputs": [],
   "source": [
    "def plot_distr(counts, nr_words):\n",
    "    words = list()\n",
    "    numbers = list()\n",
    "    for word, number in counts.most_common(nr_words):\n",
    "        words.append(word)\n",
    "        numbers.append(number)\n",
    "    figure, axes = plt.subplots(1, 1, figsize=(12, 6))\n",
    "    axes.bar(words, numbers)\n",
    "    axes.set_xticklabels(words, rotation=45)"
   ]
  },
  {
   "cell_type": "code",
   "execution_count": 41,
   "metadata": {
    "ExecuteTime": {
     "end_time": "2019-06-18T04:49:56.354178Z",
     "start_time": "2019-06-18T04:49:55.641561Z"
    }
   },
   "outputs": [
    {
     "data": {
      "image/png": "[encoded data removed]",
      "text/plain": [
       "<Figure size 864x432 with 1 Axes>"
      ]
     },
     "metadata": {
      "needs_background": "light"
     },
     "output_type": "display_data"
    }
   ],
   "source": [
    "plot_distr(counts, 30)"
   ]
  },
  {
   "cell_type": "markdown",
   "metadata": {},
   "source": [
    "## Named entiry recognition (NER)"
   ]
  },
  {
   "cell_type": "markdown",
   "metadata": {},
   "source": [
    "Named entity recognition is supported as well."
   ]
  },
  {
   "cell_type": "code",
   "execution_count": 9,
   "metadata": {
    "ExecuteTime": {
     "end_time": "2019-06-17T14:55:13.760314Z",
     "start_time": "2019-06-17T14:55:13.753332Z"
    }
   },
   "outputs": [],
   "source": [
    "sentence = 'Music by Johann Sebastian Bach is better than that by Friederich Buxtehude. Both lived in Germany'"
   ]
  },
  {
   "cell_type": "code",
   "execution_count": 10,
   "metadata": {
    "ExecuteTime": {
     "end_time": "2019-06-17T14:55:13.827485Z",
     "start_time": "2019-06-17T14:55:13.765282Z"
    }
   },
   "outputs": [],
   "source": [
    "doc = en_nlp(sentence)"
   ]
  },
  {
   "cell_type": "code",
   "execution_count": 11,
   "metadata": {
    "ExecuteTime": {
     "end_time": "2019-06-17T14:55:13.857934Z",
     "start_time": "2019-06-17T14:55:13.841405Z"
    }
   },
   "outputs": [
    {
     "name": "stdout",
     "output_type": "stream",
     "text": [
      "  0 'Music': NOUN, \n",
      "  1 'by': ADP, \n",
      "  2 'Johann': PROPN, PERSON\n",
      "  3 'Sebastian': PROPN, PERSON\n",
      "  4 'Bach': PROPN, PERSON\n",
      "  5 'is': VERB, \n",
      "  6 'better': ADJ, \n",
      "  7 'than': ADP, \n",
      "  8 'that': DET, \n",
      "  9 'by': ADP, \n",
      " 10 'Friederich': PROPN, PERSON\n",
      " 11 'Buxtehude': PROPN, PERSON\n",
      " 12 '.': PUNCT, \n",
      " 13 'Both': DET, \n",
      " 14 'lived': VERB, \n",
      " 15 'in': ADP, \n",
      " 16 'Germany': PROPN, GPE\n"
     ]
    }
   ],
   "source": [
    "for i, word in enumerate(doc):\n",
    "    print(f'{i:3d} {word.text!r}: {word.pos_}, {word.ent_type_}')"
   ]
  },
  {
   "cell_type": "markdown",
   "metadata": {},
   "source": [
    "It is also possible to retrieve named entities from the document explicitly."
   ]
  },
  {
   "cell_type": "code",
   "execution_count": 12,
   "metadata": {
    "ExecuteTime": {
     "end_time": "2019-06-17T14:55:13.875353Z",
     "start_time": "2019-06-17T14:55:13.865466Z"
    }
   },
   "outputs": [
    {
     "name": "stdout",
     "output_type": "stream",
     "text": [
      "Johann Sebastian Bach (PERSON): 2 -> 5\n",
      "Friederich Buxtehude (PERSON): 10 -> 12\n",
      "Germany (GPE): 16 -> 17\n"
     ]
    }
   ],
   "source": [
    "for entity in doc.ents:\n",
    "    print(f'{entity} ({entity.label_}): {entity.start} -> {entity.end}')"
   ]
  },
  {
   "cell_type": "markdown",
   "metadata": {},
   "source": [
    "This can also be visualized as markup in the sentence."
   ]
  },
  {
   "cell_type": "code",
   "execution_count": 13,
   "metadata": {
    "ExecuteTime": {
     "end_time": "2019-06-17T14:55:13.904368Z",
     "start_time": "2019-06-17T14:55:13.881668Z"
    }
   },
   "outputs": [
    {
     "data": {
      "text/html": [
       "<div class=\"entities\" style=\"line-height: 2.5\">Music by \n",
       "<mark class=\"entity\" style=\"background: #aa9cfc; padding: 0.45em 0.6em; margin: 0 0.25em; line-height: 1; border-radius: 0.35em; box-decoration-break: clone; -webkit-box-decoration-break: clone\">\n",
       "    Johann Sebastian Bach\n",
       "    <span style=\"font-size: 0.8em; font-weight: bold; line-height: 1; border-radius: 0.35em; text-transform: uppercase; vertical-align: middle; margin-left: 0.5rem\">PERSON</span>\n",
       "</mark>\n",
       " is better than that by \n",
       "<mark class=\"entity\" style=\"background: #aa9cfc; padding: 0.45em 0.6em; margin: 0 0.25em; line-height: 1; border-radius: 0.35em; box-decoration-break: clone; -webkit-box-decoration-break: clone\">\n",
       "    Friederich Buxtehude\n",
       "    <span style=\"font-size: 0.8em; font-weight: bold; line-height: 1; border-radius: 0.35em; text-transform: uppercase; vertical-align: middle; margin-left: 0.5rem\">PERSON</span>\n",
       "</mark>\n",
       ". Both lived in \n",
       "<mark class=\"entity\" style=\"background: #feca74; padding: 0.45em 0.6em; margin: 0 0.25em; line-height: 1; border-radius: 0.35em; box-decoration-break: clone; -webkit-box-decoration-break: clone\">\n",
       "    Germany\n",
       "    <span style=\"font-size: 0.8em; font-weight: bold; line-height: 1; border-radius: 0.35em; text-transform: uppercase; vertical-align: middle; margin-left: 0.5rem\">GPE</span>\n",
       "</mark>\n",
       "</div>"
      ],
      "text/plain": [
       "<IPython.core.display.HTML object>"
      ]
     },
     "metadata": {},
     "output_type": "display_data"
    }
   ],
   "source": [
    "spacy.displacy.render(doc, style='ent', jupyter=True)"
   ]
  },
  {
   "cell_type": "code",
   "execution_count": 14,
   "metadata": {
    "ExecuteTime": {
     "end_time": "2019-06-17T14:55:13.928803Z",
     "start_time": "2019-06-17T14:55:13.909346Z"
    }
   },
   "outputs": [
    {
     "data": {
      "text/html": [
       "<svg xmlns=\"http://www.w3.org/2000/svg\" xmlns:xlink=\"http://www.w3.org/1999/xlink\" id=\"0\" class=\"displacy\" width=\"2290\" height=\"487.0\" style=\"max-width: none; height: 487.0px; color: #000000; background: #ffffff; font-family: Arial\">\n",
       "<text class=\"displacy-token\" fill=\"currentColor\" text-anchor=\"middle\" y=\"397.0\">\n",
       "    <tspan class=\"displacy-word\" fill=\"currentColor\" x=\"50\">Music</tspan>\n",
       "    <tspan class=\"displacy-tag\" dy=\"2em\" fill=\"currentColor\" x=\"50\">NOUN</tspan>\n",
       "</text>\n",
       "\n",
       "<text class=\"displacy-token\" fill=\"currentColor\" text-anchor=\"middle\" y=\"397.0\">\n",
       "    <tspan class=\"displacy-word\" fill=\"currentColor\" x=\"190\">by</tspan>\n",
       "    <tspan class=\"displacy-tag\" dy=\"2em\" fill=\"currentColor\" x=\"190\">ADP</tspan>\n",
       "</text>\n",
       "\n",
       "<text class=\"displacy-token\" fill=\"currentColor\" text-anchor=\"middle\" y=\"397.0\">\n",
       "    <tspan class=\"displacy-word\" fill=\"currentColor\" x=\"330\">Johann</tspan>\n",
       "    <tspan class=\"displacy-tag\" dy=\"2em\" fill=\"currentColor\" x=\"330\">PROPN</tspan>\n",
       "</text>\n",
       "\n",
       "<text class=\"displacy-token\" fill=\"currentColor\" text-anchor=\"middle\" y=\"397.0\">\n",
       "    <tspan class=\"displacy-word\" fill=\"currentColor\" x=\"470\">Sebastian</tspan>\n",
       "    <tspan class=\"displacy-tag\" dy=\"2em\" fill=\"currentColor\" x=\"470\">PROPN</tspan>\n",
       "</text>\n",
       "\n",
       "<text class=\"displacy-token\" fill=\"currentColor\" text-anchor=\"middle\" y=\"397.0\">\n",
       "    <tspan class=\"displacy-word\" fill=\"currentColor\" x=\"610\">Bach</tspan>\n",
       "    <tspan class=\"displacy-tag\" dy=\"2em\" fill=\"currentColor\" x=\"610\">PROPN</tspan>\n",
       "</text>\n",
       "\n",
       "<text class=\"displacy-token\" fill=\"currentColor\" text-anchor=\"middle\" y=\"397.0\">\n",
       "    <tspan class=\"displacy-word\" fill=\"currentColor\" x=\"750\">is</tspan>\n",
       "    <tspan class=\"displacy-tag\" dy=\"2em\" fill=\"currentColor\" x=\"750\">VERB</tspan>\n",
       "</text>\n",
       "\n",
       "<text class=\"displacy-token\" fill=\"currentColor\" text-anchor=\"middle\" y=\"397.0\">\n",
       "    <tspan class=\"displacy-word\" fill=\"currentColor\" x=\"890\">better</tspan>\n",
       "    <tspan class=\"displacy-tag\" dy=\"2em\" fill=\"currentColor\" x=\"890\">ADJ</tspan>\n",
       "</text>\n",
       "\n",
       "<text class=\"displacy-token\" fill=\"currentColor\" text-anchor=\"middle\" y=\"397.0\">\n",
       "    <tspan class=\"displacy-word\" fill=\"currentColor\" x=\"1030\">than</tspan>\n",
       "    <tspan class=\"displacy-tag\" dy=\"2em\" fill=\"currentColor\" x=\"1030\">ADP</tspan>\n",
       "</text>\n",
       "\n",
       "<text class=\"displacy-token\" fill=\"currentColor\" text-anchor=\"middle\" y=\"397.0\">\n",
       "    <tspan class=\"displacy-word\" fill=\"currentColor\" x=\"1170\">that</tspan>\n",
       "    <tspan class=\"displacy-tag\" dy=\"2em\" fill=\"currentColor\" x=\"1170\">DET</tspan>\n",
       "</text>\n",
       "\n",
       "<text class=\"displacy-token\" fill=\"currentColor\" text-anchor=\"middle\" y=\"397.0\">\n",
       "    <tspan class=\"displacy-word\" fill=\"currentColor\" x=\"1310\">by</tspan>\n",
       "    <tspan class=\"displacy-tag\" dy=\"2em\" fill=\"currentColor\" x=\"1310\">ADP</tspan>\n",
       "</text>\n",
       "\n",
       "<text class=\"displacy-token\" fill=\"currentColor\" text-anchor=\"middle\" y=\"397.0\">\n",
       "    <tspan class=\"displacy-word\" fill=\"currentColor\" x=\"1450\">Friederich</tspan>\n",
       "    <tspan class=\"displacy-tag\" dy=\"2em\" fill=\"currentColor\" x=\"1450\">PROPN</tspan>\n",
       "</text>\n",
       "\n",
       "<text class=\"displacy-token\" fill=\"currentColor\" text-anchor=\"middle\" y=\"397.0\">\n",
       "    <tspan class=\"displacy-word\" fill=\"currentColor\" x=\"1590\">Buxtehude.</tspan>\n",
       "    <tspan class=\"displacy-tag\" dy=\"2em\" fill=\"currentColor\" x=\"1590\">PROPN</tspan>\n",
       "</text>\n",
       "\n",
       "<text class=\"displacy-token\" fill=\"currentColor\" text-anchor=\"middle\" y=\"397.0\">\n",
       "    <tspan class=\"displacy-word\" fill=\"currentColor\" x=\"1730\">Both</tspan>\n",
       "    <tspan class=\"displacy-tag\" dy=\"2em\" fill=\"currentColor\" x=\"1730\">DET</tspan>\n",
       "</text>\n",
       "\n",
       "<text class=\"displacy-token\" fill=\"currentColor\" text-anchor=\"middle\" y=\"397.0\">\n",
       "    <tspan class=\"displacy-word\" fill=\"currentColor\" x=\"1870\">lived</tspan>\n",
       "    <tspan class=\"displacy-tag\" dy=\"2em\" fill=\"currentColor\" x=\"1870\">VERB</tspan>\n",
       "</text>\n",
       "\n",
       "<text class=\"displacy-token\" fill=\"currentColor\" text-anchor=\"middle\" y=\"397.0\">\n",
       "    <tspan class=\"displacy-word\" fill=\"currentColor\" x=\"2010\">in</tspan>\n",
       "    <tspan class=\"displacy-tag\" dy=\"2em\" fill=\"currentColor\" x=\"2010\">ADP</tspan>\n",
       "</text>\n",
       "\n",
       "<text class=\"displacy-token\" fill=\"currentColor\" text-anchor=\"middle\" y=\"397.0\">\n",
       "    <tspan class=\"displacy-word\" fill=\"currentColor\" x=\"2150\">Germany</tspan>\n",
       "    <tspan class=\"displacy-tag\" dy=\"2em\" fill=\"currentColor\" x=\"2150\">PROPN</tspan>\n",
       "</text>\n",
       "\n",
       "<g class=\"displacy-arrow\">\n",
       "    <path class=\"displacy-arc\" id=\"arrow-0-0\" stroke-width=\"2px\" d=\"M62,352.0 62,235.33333333333331 750.0,235.33333333333331 750.0,352.0\" fill=\"none\" stroke=\"currentColor\"/>\n",
       "    <text dy=\"1.25em\" style=\"font-size: 0.8em; letter-spacing: 1px\">\n",
       "        <textPath xlink:href=\"#arrow-0-0\" class=\"displacy-label\" startOffset=\"50%\" fill=\"currentColor\" text-anchor=\"middle\">nsubj</textPath>\n",
       "    </text>\n",
       "    <path class=\"displacy-arrowhead\" d=\"M62,354.0 L58,346.0 66,346.0\" fill=\"currentColor\"/>\n",
       "</g>\n",
       "\n",
       "<g class=\"displacy-arrow\">\n",
       "    <path class=\"displacy-arc\" id=\"arrow-0-1\" stroke-width=\"2px\" d=\"M62,352.0 62,328.6666666666667 178.0,328.6666666666667 178.0,352.0\" fill=\"none\" stroke=\"currentColor\"/>\n",
       "    <text dy=\"1.25em\" style=\"font-size: 0.8em; letter-spacing: 1px\">\n",
       "        <textPath xlink:href=\"#arrow-0-1\" class=\"displacy-label\" startOffset=\"50%\" fill=\"currentColor\" text-anchor=\"middle\">prep</textPath>\n",
       "    </text>\n",
       "    <path class=\"displacy-arrowhead\" d=\"M178.0,354.0 L182.0,346.0 174.0,346.0\" fill=\"currentColor\"/>\n",
       "</g>\n",
       "\n",
       "<g class=\"displacy-arrow\">\n",
       "    <path class=\"displacy-arc\" id=\"arrow-0-2\" stroke-width=\"2px\" d=\"M342,352.0 342,305.3333333333333 601.0,305.3333333333333 601.0,352.0\" fill=\"none\" stroke=\"currentColor\"/>\n",
       "    <text dy=\"1.25em\" style=\"font-size: 0.8em; letter-spacing: 1px\">\n",
       "        <textPath xlink:href=\"#arrow-0-2\" class=\"displacy-label\" startOffset=\"50%\" fill=\"currentColor\" text-anchor=\"middle\">compound</textPath>\n",
       "    </text>\n",
       "    <path class=\"displacy-arrowhead\" d=\"M342,354.0 L338,346.0 346,346.0\" fill=\"currentColor\"/>\n",
       "</g>\n",
       "\n",
       "<g class=\"displacy-arrow\">\n",
       "    <path class=\"displacy-arc\" id=\"arrow-0-3\" stroke-width=\"2px\" d=\"M482,352.0 482,328.6666666666667 598.0,328.6666666666667 598.0,352.0\" fill=\"none\" stroke=\"currentColor\"/>\n",
       "    <text dy=\"1.25em\" style=\"font-size: 0.8em; letter-spacing: 1px\">\n",
       "        <textPath xlink:href=\"#arrow-0-3\" class=\"displacy-label\" startOffset=\"50%\" fill=\"currentColor\" text-anchor=\"middle\">compound</textPath>\n",
       "    </text>\n",
       "    <path class=\"displacy-arrowhead\" d=\"M482,354.0 L478,346.0 486,346.0\" fill=\"currentColor\"/>\n",
       "</g>\n",
       "\n",
       "<g class=\"displacy-arrow\">\n",
       "    <path class=\"displacy-arc\" id=\"arrow-0-4\" stroke-width=\"2px\" d=\"M202,352.0 202,282.0 604.0,282.0 604.0,352.0\" fill=\"none\" stroke=\"currentColor\"/>\n",
       "    <text dy=\"1.25em\" style=\"font-size: 0.8em; letter-spacing: 1px\">\n",
       "        <textPath xlink:href=\"#arrow-0-4\" class=\"displacy-label\" startOffset=\"50%\" fill=\"currentColor\" text-anchor=\"middle\">pobj</textPath>\n",
       "    </text>\n",
       "    <path class=\"displacy-arrowhead\" d=\"M604.0,354.0 L608.0,346.0 600.0,346.0\" fill=\"currentColor\"/>\n",
       "</g>\n",
       "\n",
       "<g class=\"displacy-arrow\">\n",
       "    <path class=\"displacy-arc\" id=\"arrow-0-5\" stroke-width=\"2px\" d=\"M762,352.0 762,328.6666666666667 878.0,328.6666666666667 878.0,352.0\" fill=\"none\" stroke=\"currentColor\"/>\n",
       "    <text dy=\"1.25em\" style=\"font-size: 0.8em; letter-spacing: 1px\">\n",
       "        <textPath xlink:href=\"#arrow-0-5\" class=\"displacy-label\" startOffset=\"50%\" fill=\"currentColor\" text-anchor=\"middle\">acomp</textPath>\n",
       "    </text>\n",
       "    <path class=\"displacy-arrowhead\" d=\"M878.0,354.0 L882.0,346.0 874.0,346.0\" fill=\"currentColor\"/>\n",
       "</g>\n",
       "\n",
       "<g class=\"displacy-arrow\">\n",
       "    <path class=\"displacy-arc\" id=\"arrow-0-6\" stroke-width=\"2px\" d=\"M902,352.0 902,328.6666666666667 1018.0,328.6666666666667 1018.0,352.0\" fill=\"none\" stroke=\"currentColor\"/>\n",
       "    <text dy=\"1.25em\" style=\"font-size: 0.8em; letter-spacing: 1px\">\n",
       "        <textPath xlink:href=\"#arrow-0-6\" class=\"displacy-label\" startOffset=\"50%\" fill=\"currentColor\" text-anchor=\"middle\">prep</textPath>\n",
       "    </text>\n",
       "    <path class=\"displacy-arrowhead\" d=\"M1018.0,354.0 L1022.0,346.0 1014.0,346.0\" fill=\"currentColor\"/>\n",
       "</g>\n",
       "\n",
       "<g class=\"displacy-arrow\">\n",
       "    <path class=\"displacy-arc\" id=\"arrow-0-7\" stroke-width=\"2px\" d=\"M1042,352.0 1042,328.6666666666667 1158.0,328.6666666666667 1158.0,352.0\" fill=\"none\" stroke=\"currentColor\"/>\n",
       "    <text dy=\"1.25em\" style=\"font-size: 0.8em; letter-spacing: 1px\">\n",
       "        <textPath xlink:href=\"#arrow-0-7\" class=\"displacy-label\" startOffset=\"50%\" fill=\"currentColor\" text-anchor=\"middle\">pobj</textPath>\n",
       "    </text>\n",
       "    <path class=\"displacy-arrowhead\" d=\"M1158.0,354.0 L1162.0,346.0 1154.0,346.0\" fill=\"currentColor\"/>\n",
       "</g>\n",
       "\n",
       "<g class=\"displacy-arrow\">\n",
       "    <path class=\"displacy-arc\" id=\"arrow-0-8\" stroke-width=\"2px\" d=\"M762,352.0 762,258.6666666666667 1307.0,258.6666666666667 1307.0,352.0\" fill=\"none\" stroke=\"currentColor\"/>\n",
       "    <text dy=\"1.25em\" style=\"font-size: 0.8em; letter-spacing: 1px\">\n",
       "        <textPath xlink:href=\"#arrow-0-8\" class=\"displacy-label\" startOffset=\"50%\" fill=\"currentColor\" text-anchor=\"middle\">prep</textPath>\n",
       "    </text>\n",
       "    <path class=\"displacy-arrowhead\" d=\"M1307.0,354.0 L1311.0,346.0 1303.0,346.0\" fill=\"currentColor\"/>\n",
       "</g>\n",
       "\n",
       "<g class=\"displacy-arrow\">\n",
       "    <path class=\"displacy-arc\" id=\"arrow-0-9\" stroke-width=\"2px\" d=\"M1462,352.0 1462,328.6666666666667 1578.0,328.6666666666667 1578.0,352.0\" fill=\"none\" stroke=\"currentColor\"/>\n",
       "    <text dy=\"1.25em\" style=\"font-size: 0.8em; letter-spacing: 1px\">\n",
       "        <textPath xlink:href=\"#arrow-0-9\" class=\"displacy-label\" startOffset=\"50%\" fill=\"currentColor\" text-anchor=\"middle\">compound</textPath>\n",
       "    </text>\n",
       "    <path class=\"displacy-arrowhead\" d=\"M1462,354.0 L1458,346.0 1466,346.0\" fill=\"currentColor\"/>\n",
       "</g>\n",
       "\n",
       "<g class=\"displacy-arrow\">\n",
       "    <path class=\"displacy-arc\" id=\"arrow-0-10\" stroke-width=\"2px\" d=\"M1322,352.0 1322,305.3333333333333 1581.0,305.3333333333333 1581.0,352.0\" fill=\"none\" stroke=\"currentColor\"/>\n",
       "    <text dy=\"1.25em\" style=\"font-size: 0.8em; letter-spacing: 1px\">\n",
       "        <textPath xlink:href=\"#arrow-0-10\" class=\"displacy-label\" startOffset=\"50%\" fill=\"currentColor\" text-anchor=\"middle\">pobj</textPath>\n",
       "    </text>\n",
       "    <path class=\"displacy-arrowhead\" d=\"M1581.0,354.0 L1585.0,346.0 1577.0,346.0\" fill=\"currentColor\"/>\n",
       "</g>\n",
       "\n",
       "<g class=\"displacy-arrow\">\n",
       "    <path class=\"displacy-arc\" id=\"arrow-0-11\" stroke-width=\"2px\" d=\"M1742,352.0 1742,328.6666666666667 1858.0,328.6666666666667 1858.0,352.0\" fill=\"none\" stroke=\"currentColor\"/>\n",
       "    <text dy=\"1.25em\" style=\"font-size: 0.8em; letter-spacing: 1px\">\n",
       "        <textPath xlink:href=\"#arrow-0-11\" class=\"displacy-label\" startOffset=\"50%\" fill=\"currentColor\" text-anchor=\"middle\">nsubj</textPath>\n",
       "    </text>\n",
       "    <path class=\"displacy-arrowhead\" d=\"M1742,354.0 L1738,346.0 1746,346.0\" fill=\"currentColor\"/>\n",
       "</g>\n",
       "\n",
       "<g class=\"displacy-arrow\">\n",
       "    <path class=\"displacy-arc\" id=\"arrow-0-12\" stroke-width=\"2px\" d=\"M1882,352.0 1882,328.6666666666667 1998.0,328.6666666666667 1998.0,352.0\" fill=\"none\" stroke=\"currentColor\"/>\n",
       "    <text dy=\"1.25em\" style=\"font-size: 0.8em; letter-spacing: 1px\">\n",
       "        <textPath xlink:href=\"#arrow-0-12\" class=\"displacy-label\" startOffset=\"50%\" fill=\"currentColor\" text-anchor=\"middle\">prep</textPath>\n",
       "    </text>\n",
       "    <path class=\"displacy-arrowhead\" d=\"M1998.0,354.0 L2002.0,346.0 1994.0,346.0\" fill=\"currentColor\"/>\n",
       "</g>\n",
       "\n",
       "<g class=\"displacy-arrow\">\n",
       "    <path class=\"displacy-arc\" id=\"arrow-0-13\" stroke-width=\"2px\" d=\"M2022,352.0 2022,328.6666666666667 2138.0,328.6666666666667 2138.0,352.0\" fill=\"none\" stroke=\"currentColor\"/>\n",
       "    <text dy=\"1.25em\" style=\"font-size: 0.8em; letter-spacing: 1px\">\n",
       "        <textPath xlink:href=\"#arrow-0-13\" class=\"displacy-label\" startOffset=\"50%\" fill=\"currentColor\" text-anchor=\"middle\">pobj</textPath>\n",
       "    </text>\n",
       "    <path class=\"displacy-arrowhead\" d=\"M2138.0,354.0 L2142.0,346.0 2134.0,346.0\" fill=\"currentColor\"/>\n",
       "</g>\n",
       "</svg>"
      ],
      "text/plain": [
       "<IPython.core.display.HTML object>"
      ]
     },
     "metadata": {},
     "output_type": "display_data"
    }
   ],
   "source": [
    "spacy.displacy.render(doc, style='dep', jupyter=True,\n",
    "                      options={'distance': 140, 'compact': True})"
   ]
  },
  {
   "cell_type": "markdown",
   "metadata": {},
   "source": [
    "## Similarity"
   ]
  },
  {
   "cell_type": "markdown",
   "metadata": {},
   "source": [
    "Document similarity can also be computed conveniently."
   ]
  },
  {
   "cell_type": "code",
   "execution_count": 15,
   "metadata": {
    "ExecuteTime": {
     "end_time": "2019-06-17T14:55:14.002029Z",
     "start_time": "2019-06-17T14:55:13.934653Z"
    }
   },
   "outputs": [
    {
     "data": {
      "text/plain": [
       "0.8147012719178897"
      ]
     },
     "execution_count": 15,
     "metadata": {},
     "output_type": "execute_result"
    }
   ],
   "source": [
    "doc1 = en_nlp('The book is nice')\n",
    "doc2 = en_nlp('The novel is beautiful')\n",
    "doc1.similarity(doc2)"
   ]
  },
  {
   "cell_type": "code",
   "execution_count": 16,
   "metadata": {
    "ExecuteTime": {
     "end_time": "2019-06-17T14:55:14.122307Z",
     "start_time": "2019-06-17T14:55:14.011013Z"
    }
   },
   "outputs": [
    {
     "data": {
      "text/plain": [
       "0.7543920170936133"
      ]
     },
     "execution_count": 16,
     "metadata": {},
     "output_type": "execute_result"
    }
   ],
   "source": [
    "doc1 = en_nlp('The book is nice')\n",
    "doc2 = en_nlp('The house is on fire')\n",
    "doc1.similarity(doc2)"
   ]
  },
  {
   "cell_type": "code",
   "execution_count": 17,
   "metadata": {
    "ExecuteTime": {
     "end_time": "2019-06-17T14:55:16.037505Z",
     "start_time": "2019-06-17T14:55:14.134651Z"
    }
   },
   "outputs": [],
   "source": [
    "words = ['queen', 'lady', 'girl', 'king', 'lord', 'boy', 'cat', 'dog', 'lion']\n",
    "similarity = np.empty((len(words), len(words)))\n",
    "for i, word1 in enumerate(words):\n",
    "    for j, word2 in enumerate(words):\n",
    "        similarity[i, j] =  en_nlp(word1).similarity(en_nlp(word2))"
   ]
  },
  {
   "cell_type": "markdown",
   "metadata": {},
   "source": [
    "The similarity matrix can be visualized as a heat map using the following function:"
   ]
  },
  {
   "cell_type": "code",
   "execution_count": 18,
   "metadata": {
    "ExecuteTime": {
     "end_time": "2019-06-17T14:55:16.089066Z",
     "start_time": "2019-06-17T14:55:16.059357Z"
    }
   },
   "outputs": [],
   "source": [
    "def plot_similarity_matrix(sim, words, cmap=plt.cm.Blues):\n",
    "    figure, axes = plt.subplots(figsize=(6, 6))\n",
    "    axes.imshow(sim, interpolation='nearest', cmap=cmap)\n",
    "    axes.set_xticks(range(len(words)))\n",
    "    axes.set_xticklabels(words, rotation=45)\n",
    "    axes.set_yticks(range(len(words)))\n",
    "    axes.set_yticklabels(words)\n",
    "    fmt = '{0:.2f}'\n",
    "    thresh = 0.5*(sim.max() + sim.min())\n",
    "    for i, j in itertools.product(range(sim.shape[0]), range(sim.shape[1])):\n",
    "        axes.text(j, i, fmt.format(sim[i, j]),\n",
    "                  horizontalalignment=\"center\",\n",
    "                  color=\"white\" if sim[i, j] > thresh else \"black\",\n",
    "                  fontsize=8)\n",
    "    figure.tight_layout()\n",
    "    axes.set_xlabel('word 1')\n",
    "    axes.set_ylabel('word 2')"
   ]
  },
  {
   "cell_type": "code",
   "execution_count": 19,
   "metadata": {
    "ExecuteTime": {
     "end_time": "2019-06-17T14:55:16.936748Z",
     "start_time": "2019-06-17T14:55:16.101437Z"
    }
   },
   "outputs": [
    {
     "data": {
      "image/png": "[encoded data removed]",
      "text/plain": [
       "<Figure size 432x432 with 1 Axes>"
      ]
     },
     "metadata": {
      "needs_background": "light"
     },
     "output_type": "display_data"
    }
   ],
   "source": [
    "plot_similarity_matrix(similarity, words)"
   ]
  }
 ],
 "metadata": {
  "kernelspec": {
   "display_name": "Python 3",
   "language": "python",
   "name": "python3"
  },
  "language_info": {
   "codemirror_mode": {
    "name": "ipython",
    "version": 3
   },
   "file_extension": ".py",
   "mimetype": "text/x-python",
   "name": "python",
   "nbconvert_exporter": "python",
   "pygments_lexer": "ipython3",
   "version": "3.7.3"
  }
 },
 "nbformat": 4,
 "nbformat_minor": 2
}
