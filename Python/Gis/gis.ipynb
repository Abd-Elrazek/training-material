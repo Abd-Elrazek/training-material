{
 "cells": [
  {
   "cell_type": "markdown",
   "metadata": {},
   "source": [
    "# GIS data processing"
   ]
  },
  {
   "cell_type": "markdown",
   "metadata": {},
   "source": [
    "## Shape files"
   ]
  },
  {
   "cell_type": "markdown",
   "metadata": {},
   "source": [
    "Load the required modules."
   ]
  },
  {
   "cell_type": "code",
   "execution_count": 66,
   "metadata": {
    "collapsed": true
   },
   "outputs": [],
   "source": [
    "from fiona import collection\n",
    "import matplotlib.pyplot as plt\n",
    "%matplotlib inline"
   ]
  },
  {
   "cell_type": "markdown",
   "metadata": {},
   "source": [
    "Create a fiona collection from the shape files."
   ]
  },
  {
   "cell_type": "code",
   "execution_count": 67,
   "metadata": {
    "collapsed": true
   },
   "outputs": [],
   "source": [
    "input = collection('Data/USA.gdb', 'r')"
   ]
  },
  {
   "cell_type": "markdown",
   "metadata": {},
   "source": [
    "Check the schema of the shape file."
   ]
  },
  {
   "cell_type": "code",
   "execution_count": 68,
   "metadata": {},
   "outputs": [
    {
     "data": {
      "text/plain": [
       "{'geometry': 'MultiPolygon',\n",
       " 'properties': OrderedDict([('NAME', 'str:110'),\n",
       "              ('COUNTRY', 'str:20'),\n",
       "              ('STATEABB', 'str:20'),\n",
       "              ('Shape_Length', 'float'),\n",
       "              ('Shape_Area', 'float'),\n",
       "              ('BORDER', 'int'),\n",
       "              ('REGION', 'str:20')])}"
      ]
     },
     "execution_count": 68,
     "metadata": {},
     "output_type": "execute_result"
    }
   ],
   "source": [
    "input.schema"
   ]
  },
  {
   "cell_type": "markdown",
   "metadata": {},
   "source": [
    "List the states in the US."
   ]
  },
  {
   "cell_type": "code",
   "execution_count": 69,
   "metadata": {},
   "outputs": [
    {
     "name": "stdout",
     "output_type": "stream",
     "text": [
      "number of states in US: 51\n",
      "states: Nevada, Colorado, Arkansas, Kentucky, Georgia, Mississippi, Louisiana, Delaware, District of Columbia, Wisconsin, South Dakota, California, Hawaii, Minnesota, Maryland, New Mexico, Rhode Island, South Carolina, Iowa, Alaska, Alabama, Utah, North Dakota, Maine, Indiana, Wyoming, Montana, Oklahoma, Texas, Florida, Ohio, Washington, New Hampshire, Connecticut, New Jersey, Vermont, Idaho, Illinois, Michigan, Pennsylvania, Virginia, Arizona, Missouri, Oregon, New York, Nebraska, West Virginia, Tennessee, Kansas, North Carolina, Massachusetts\n"
     ]
    }
   ],
   "source": [
    "states = set()\n",
    "for region in input:\n",
    "    states.add(region['properties']['NAME'])\n",
    "print('number of states in US: {0}'.format(len(states)))\n",
    "print('states: ', end='')\n",
    "print(*states, sep=', ')"
   ]
  },
  {
   "cell_type": "markdown",
   "metadata": {},
   "source": [
    "Define a function that will return the points that define the polygon for a region."
   ]
  },
  {
   "cell_type": "code",
   "execution_count": 70,
   "metadata": {
    "collapsed": true
   },
   "outputs": [],
   "source": [
    "def get_region(input, n):\n",
    "    return input[n]['geometry']['coordinates'][0][0]"
   ]
  },
  {
   "cell_type": "markdown",
   "metadata": {},
   "source": [
    "Plot all regions in the shapefile, this will be a map of the USA."
   ]
  },
  {
   "cell_type": "code",
   "execution_count": 74,
   "metadata": {},
   "outputs": [
    {
     "data": {
      "image/png": "[encoded data removed]",
      "text/plain": [
       "<matplotlib.figure.Figure at 0x7f545c2ed0f0>"
      ]
     },
     "metadata": {},
     "output_type": "display_data"
    }
   ],
   "source": [
    "plt.axes().set_aspect('equal')\n",
    "for i in input.keys():\n",
    "    region = get_region(input, i)\n",
    "    x = [x[0] for x in region]\n",
    "    y = [x[1] for x in region]\n",
    "    plt.plot(x, y, 'b', linewidth=0.3)"
   ]
  },
  {
   "cell_type": "markdown",
   "metadata": {},
   "source": [
    "The bounds of the entire USA are given by an attribute."
   ]
  },
  {
   "cell_type": "code",
   "execution_count": 7,
   "metadata": {},
   "outputs": [
    {
     "data": {
      "text/plain": [
       "(-179.13073424448964,\n",
       " 18.913788476756963,\n",
       " -66.98181454720344,\n",
       " 71.39842062001577)"
      ]
     },
     "execution_count": 7,
     "metadata": {},
     "output_type": "execute_result"
    }
   ],
   "source": [
    "input.bounds"
   ]
  },
  {
   "cell_type": "markdown",
   "metadata": {},
   "source": [
    "Define a function that plots the state with the given name."
   ]
  },
  {
   "cell_type": "code",
   "execution_count": 85,
   "metadata": {
    "collapsed": true
   },
   "outputs": [],
   "source": [
    "def plot_state(input, name):\n",
    "    plt.axes().set_aspect('equal')\n",
    "    for i in input.keys():\n",
    "        if input[i]['properties']['NAME'] == name:\n",
    "            region = get_region(input, i)\n",
    "            x = [t[0] for t in region]\n",
    "            y = [t[1] for t in region]\n",
    "            plt.plot(x, y, 'b', linewidth=0.7)"
   ]
  },
  {
   "cell_type": "markdown",
   "metadata": {},
   "source": [
    "Plot Florida's outline."
   ]
  },
  {
   "cell_type": "code",
   "execution_count": 86,
   "metadata": {},
   "outputs": [
    {
     "data": {
      "image/png": "[encoded data removed]",
      "text/plain": [
       "<matplotlib.figure.Figure at 0x7f545c564e48>"
      ]
     },
     "metadata": {},
     "output_type": "display_data"
    }
   ],
   "source": [
    "plot_state(input, 'Florida')"
   ]
  },
  {
   "cell_type": "markdown",
   "metadata": {},
   "source": [
    "## Creating GIS data"
   ]
  },
  {
   "cell_type": "markdown",
   "metadata": {},
   "source": [
    "Load the required modules."
   ]
  },
  {
   "cell_type": "code",
   "execution_count": 143,
   "metadata": {
    "collapsed": true
   },
   "outputs": [],
   "source": [
    "from shapely.geometry import Point, LineString, MultiLineString, LinearRing, Polygon, MultiPolygon"
   ]
  },
  {
   "cell_type": "markdown",
   "metadata": {},
   "source": [
    "### Shapes and operations"
   ]
  },
  {
   "cell_type": "markdown",
   "metadata": {},
   "source": [
    "Create a simple polygon, represented as a `Polygon`.  This shape could also be represented as a `LinearRing`."
   ]
  },
  {
   "cell_type": "code",
   "execution_count": 88,
   "metadata": {
    "collapsed": true
   },
   "outputs": [],
   "source": [
    "polygon1 = Polygon([(1.0, 1.0), (1.0, 3.0), (3.0, 2.0), (3.0, 1.0)])"
   ]
  },
  {
   "cell_type": "code",
   "execution_count": 89,
   "metadata": {},
   "outputs": [
    {
     "data": {
      "image/svg+xml": [
       "<svg xmlns=\"http://www.w3.org/2000/svg\" xmlns:xlink=\"http://www.w3.org/1999/xlink\" width=\"100.0\" height=\"100.0\" viewBox=\"0.92 0.92 2.16 2.16\" preserveAspectRatio=\"xMinYMin meet\"><g transform=\"matrix(1,0,0,-1,0,4.0)\"><path fill-rule=\"evenodd\" fill=\"#66cc99\" stroke=\"#555555\" stroke-width=\"0.0432\" opacity=\"0.6\" d=\"M 1.0,1.0 L 1.0,3.0 L 3.0,2.0 L 3.0,1.0 L 1.0,1.0 z\" /></g></svg>"
      ],
      "text/plain": [
       "<shapely.geometry.polygon.Polygon at 0x7f5454f4bd68>"
      ]
     },
     "execution_count": 89,
     "metadata": {},
     "output_type": "execute_result"
    }
   ],
   "source": [
    "polygon1"
   ]
  },
  {
   "cell_type": "code",
   "execution_count": 90,
   "metadata": {},
   "outputs": [
    {
     "data": {
      "text/plain": [
       "'POLYGON ((1 1, 1 3, 3 2, 3 1, 1 1))'"
      ]
     },
     "execution_count": 90,
     "metadata": {},
     "output_type": "execute_result"
    }
   ],
   "source": [
    "polygon1.wkt"
   ]
  },
  {
   "cell_type": "markdown",
   "metadata": {},
   "source": [
    "Create a second polygon with a hole."
   ]
  },
  {
   "cell_type": "code",
   "execution_count": 91,
   "metadata": {
    "collapsed": true
   },
   "outputs": [],
   "source": [
    "polygon2 = Polygon([(1.5, 1.5), (1.5, 4.0), (4.5, 3.0), (4.5, 1.0)],\n",
    "                   [[(2.0, 2.0), (2.5, 2.5), (2.8, 2.0)]])"
   ]
  },
  {
   "cell_type": "code",
   "execution_count": 92,
   "metadata": {},
   "outputs": [
    {
     "data": {
      "image/svg+xml": [
       "<svg xmlns=\"http://www.w3.org/2000/svg\" xmlns:xlink=\"http://www.w3.org/1999/xlink\" width=\"100.0\" height=\"100.0\" viewBox=\"1.38 0.88 3.24 3.24\" preserveAspectRatio=\"xMinYMin meet\"><g transform=\"matrix(1,0,0,-1,0,5.0)\"><path fill-rule=\"evenodd\" fill=\"#66cc99\" stroke=\"#555555\" stroke-width=\"0.06480000000000001\" opacity=\"0.6\" d=\"M 1.5,1.5 L 1.5,4.0 L 4.5,3.0 L 4.5,1.0 L 1.5,1.5 z M 2.0,2.0 L 2.5,2.5 L 2.8,2.0 L 2.0,2.0 z\" /></g></svg>"
      ],
      "text/plain": [
       "<shapely.geometry.polygon.Polygon at 0x7f5454ed2a20>"
      ]
     },
     "execution_count": 92,
     "metadata": {},
     "output_type": "execute_result"
    }
   ],
   "source": [
    "polygon2"
   ]
  },
  {
   "cell_type": "markdown",
   "metadata": {},
   "source": [
    "Compute the area of the polygon."
   ]
  },
  {
   "cell_type": "code",
   "execution_count": 93,
   "metadata": {},
   "outputs": [
    {
     "data": {
      "text/plain": [
       "6.55"
      ]
     },
     "execution_count": 93,
     "metadata": {},
     "output_type": "execute_result"
    }
   ],
   "source": [
    "polygon2.area"
   ]
  },
  {
   "cell_type": "markdown",
   "metadata": {},
   "source": [
    "Compute the intersection between the two polygons."
   ]
  },
  {
   "cell_type": "code",
   "execution_count": 94,
   "metadata": {
    "collapsed": true
   },
   "outputs": [],
   "source": [
    "intersection = polygon1.intersection(polygon2)"
   ]
  },
  {
   "cell_type": "code",
   "execution_count": 95,
   "metadata": {},
   "outputs": [
    {
     "data": {
      "image/svg+xml": [
       "<svg xmlns=\"http://www.w3.org/2000/svg\" xmlns:xlink=\"http://www.w3.org/1999/xlink\" width=\"100.0\" height=\"100.0\" viewBox=\"1.44 1.19 1.62 1.62\" preserveAspectRatio=\"xMinYMin meet\"><g transform=\"matrix(1,0,0,-1,0,4.0)\"><path fill-rule=\"evenodd\" fill=\"#66cc99\" stroke=\"#555555\" stroke-width=\"0.032400000000000005\" opacity=\"0.6\" d=\"M 1.5,2.75 L 2.3333333333333335,2.3333333333333335 L 2.0,2.0 L 2.8,2.0 L 2.714285714285714,2.142857142857143 L 3.0,2.0 L 3.0,1.25 L 1.5,1.5 L 1.5,2.75 z\" /></g></svg>"
      ],
      "text/plain": [
       "<shapely.geometry.polygon.Polygon at 0x7f5454f4bfd0>"
      ]
     },
     "execution_count": 95,
     "metadata": {},
     "output_type": "execute_result"
    }
   ],
   "source": [
    "intersection"
   ]
  },
  {
   "cell_type": "code",
   "execution_count": 96,
   "metadata": {},
   "outputs": [
    {
     "data": {
      "text/plain": [
       "'POLYGON ((1.5 2.75, 2.333333333333333 2.333333333333333, 2 2, 2.8 2, 2.714285714285714 2.142857142857143, 3 2, 3 1.25, 1.5 1.5, 1.5 2.75))'"
      ]
     },
     "execution_count": 96,
     "metadata": {},
     "output_type": "execute_result"
    }
   ],
   "source": [
    "intersection.wkt"
   ]
  },
  {
   "cell_type": "markdown",
   "metadata": {},
   "source": [
    "Compute the union of the two polygons."
   ]
  },
  {
   "cell_type": "code",
   "execution_count": 97,
   "metadata": {
    "collapsed": true
   },
   "outputs": [],
   "source": [
    "union = polygon1.union(polygon2)"
   ]
  },
  {
   "cell_type": "code",
   "execution_count": 98,
   "metadata": {},
   "outputs": [
    {
     "data": {
      "image/svg+xml": [
       "<svg xmlns=\"http://www.w3.org/2000/svg\" xmlns:xlink=\"http://www.w3.org/1999/xlink\" width=\"100.0\" height=\"100.0\" viewBox=\"0.86 0.86 3.78 3.28\" preserveAspectRatio=\"xMinYMin meet\"><g transform=\"matrix(1,0,0,-1,0,5.0)\"><path fill-rule=\"evenodd\" fill=\"#66cc99\" stroke=\"#555555\" stroke-width=\"0.0756\" opacity=\"0.6\" d=\"M 1.0,1.0 L 1.0,3.0 L 1.5,2.75 L 1.5,4.0 L 4.5,3.0 L 4.5,1.0 L 3.0,1.25 L 3.0,1.0 L 1.0,1.0 z M 2.3333333333333335,2.3333333333333335 L 2.714285714285714,2.142857142857143 L 2.5,2.5 L 2.3333333333333335,2.3333333333333335 z\" /></g></svg>"
      ],
      "text/plain": [
       "<shapely.geometry.polygon.Polygon at 0x7f5454ed2da0>"
      ]
     },
     "execution_count": 98,
     "metadata": {},
     "output_type": "execute_result"
    }
   ],
   "source": [
    "union"
   ]
  },
  {
   "cell_type": "code",
   "execution_count": 99,
   "metadata": {},
   "outputs": [
    {
     "data": {
      "text/plain": [
       "'POLYGON ((1 1, 1 3, 1.5 2.75, 1.5 4, 4.5 3, 4.5 1, 3 1.25, 3 1, 1 1), (2.333333333333333 2.333333333333333, 2.714285714285714 2.142857142857143, 2.5 2.5, 2.333333333333333 2.333333333333333))'"
      ]
     },
     "execution_count": 99,
     "metadata": {},
     "output_type": "execute_result"
    }
   ],
   "source": [
    "union.wkt"
   ]
  },
  {
   "cell_type": "markdown",
   "metadata": {},
   "source": [
    "Check whether the area of the union is the sum of the areas of the polygons minus the area of their intersection."
   ]
  },
  {
   "cell_type": "code",
   "execution_count": 100,
   "metadata": {},
   "outputs": [
    {
     "data": {
      "text/plain": [
       "8.202380952380953"
      ]
     },
     "execution_count": 100,
     "metadata": {},
     "output_type": "execute_result"
    }
   ],
   "source": [
    "polygon1.area + polygon2.area - intersection.area"
   ]
  },
  {
   "cell_type": "code",
   "execution_count": 101,
   "metadata": {},
   "outputs": [
    {
     "data": {
      "text/plain": [
       "8.202380952380953"
      ]
     },
     "execution_count": 101,
     "metadata": {},
     "output_type": "execute_result"
    }
   ],
   "source": [
    "union.area"
   ]
  },
  {
   "cell_type": "markdown",
   "metadata": {},
   "source": [
    "Create a point."
   ]
  },
  {
   "cell_type": "code",
   "execution_count": 102,
   "metadata": {
    "collapsed": true
   },
   "outputs": [],
   "source": [
    "point1 = Point((2.1, 2.1))"
   ]
  },
  {
   "cell_type": "markdown",
   "metadata": {},
   "source": [
    "Check whether the point lies within the first polygon."
   ]
  },
  {
   "cell_type": "code",
   "execution_count": 103,
   "metadata": {},
   "outputs": [
    {
     "data": {
      "text/plain": [
       "True"
      ]
     },
     "execution_count": 103,
     "metadata": {},
     "output_type": "execute_result"
    }
   ],
   "source": [
    "point1.within(polygon1)"
   ]
  },
  {
   "cell_type": "markdown",
   "metadata": {},
   "source": [
    "For the second polygon, the point is within the hole."
   ]
  },
  {
   "cell_type": "code",
   "execution_count": 104,
   "metadata": {},
   "outputs": [
    {
     "data": {
      "text/plain": [
       "False"
      ]
     },
     "execution_count": 104,
     "metadata": {},
     "output_type": "execute_result"
    }
   ],
   "source": [
    "point1.within(polygon2)"
   ]
  },
  {
   "cell_type": "markdown",
   "metadata": {},
   "source": [
    "Create a horizontal line."
   ]
  },
  {
   "cell_type": "code",
   "execution_count": 105,
   "metadata": {
    "collapsed": true
   },
   "outputs": [],
   "source": [
    "line1 = LineString([(0.5, 2.1), (5.0, 2.1)])"
   ]
  },
  {
   "cell_type": "markdown",
   "metadata": {},
   "source": [
    "Compute the intersection between the line and the second polygon."
   ]
  },
  {
   "cell_type": "code",
   "execution_count": 129,
   "metadata": {},
   "outputs": [
    {
     "data": {
      "image/svg+xml": [
       "<svg xmlns=\"http://www.w3.org/2000/svg\" xmlns:xlink=\"http://www.w3.org/1999/xlink\" width=\"100.0\" height=\"100.0\" viewBox=\"1.38 1.98 3.24 0.2400000000000002\" preserveAspectRatio=\"xMinYMin meet\"><g transform=\"matrix(1,0,0,-1,0,4.2)\"><g><polyline fill=\"none\" stroke=\"#66cc99\" stroke-width=\"0.06480000000000001\" points=\"1.5,2.1 2.1,2.1\" opacity=\"0.8\" /><polyline fill=\"none\" stroke=\"#66cc99\" stroke-width=\"0.06480000000000001\" points=\"2.7399999999999998,2.1 4.5,2.1\" opacity=\"0.8\" /></g></g></svg>"
      ],
      "text/plain": [
       "<shapely.geometry.multilinestring.MultiLineString at 0x7f545c5646a0>"
      ]
     },
     "execution_count": 129,
     "metadata": {},
     "output_type": "execute_result"
    }
   ],
   "source": [
    "line2 = polygon2.intersection(line1)\n",
    "line2"
   ]
  },
  {
   "cell_type": "code",
   "execution_count": 134,
   "metadata": {},
   "outputs": [
    {
     "data": {
      "text/plain": [
       "(array('d', [1.5, 2.1]), array('d', [2.1, 2.1]))"
      ]
     },
     "execution_count": 134,
     "metadata": {},
     "output_type": "execute_result"
    }
   ],
   "source": [
    "line2[0].coords.xy"
   ]
  },
  {
   "cell_type": "code",
   "execution_count": 135,
   "metadata": {},
   "outputs": [
    {
     "data": {
      "text/plain": [
       "(array('d', [2.7399999999999998, 4.5]), array('d', [2.1, 2.1]))"
      ]
     },
     "execution_count": 135,
     "metadata": {},
     "output_type": "execute_result"
    }
   ],
   "source": [
    "line2[1].coords.xy"
   ]
  },
  {
   "cell_type": "code",
   "execution_count": 140,
   "metadata": {},
   "outputs": [
    {
     "data": {
      "text/plain": [
       "shapely.geometry.multilinestring.MultiLineString"
      ]
     },
     "execution_count": 140,
     "metadata": {},
     "output_type": "execute_result"
    }
   ],
   "source": [
    "type(line2)"
   ]
  },
  {
   "cell_type": "markdown",
   "metadata": {},
   "source": [
    "Check whether the line intersects with the first polygon."
   ]
  },
  {
   "cell_type": "code",
   "execution_count": 107,
   "metadata": {},
   "outputs": [
    {
     "data": {
      "text/plain": [
       "True"
      ]
     },
     "execution_count": 107,
     "metadata": {},
     "output_type": "execute_result"
    }
   ],
   "source": [
    "line1.intersects(polygon1)"
   ]
  },
  {
   "cell_type": "markdown",
   "metadata": {},
   "source": [
    "A line can be turned into an object with a finite width by creating a buffer around it of the specifie size. The result is a `Polygon`."
   ]
  },
  {
   "cell_type": "code",
   "execution_count": 108,
   "metadata": {
    "collapsed": true
   },
   "outputs": [],
   "source": [
    "buffer1 = line1.buffer(0.001)"
   ]
  },
  {
   "cell_type": "code",
   "execution_count": 109,
   "metadata": {
    "scrolled": true
   },
   "outputs": [
    {
     "data": {
      "image/svg+xml": [
       "<svg xmlns=\"http://www.w3.org/2000/svg\" xmlns:xlink=\"http://www.w3.org/1999/xlink\" width=\"100.0\" height=\"100.0\" viewBox=\"0.31892 1.9189200000000002 4.86216 0.36216000000000004\" preserveAspectRatio=\"xMinYMin meet\"><g transform=\"matrix(1,0,0,-1,0,4.2)\"><path fill-rule=\"evenodd\" fill=\"#66cc99\" stroke=\"#555555\" stroke-width=\"0.0972432\" opacity=\"0.6\" d=\"M 5.0,2.101 L 5.0000980171403295,2.1009951847266723 L 5.000195090322016,2.100980785280403 L 5.000290284677255,2.1009569403357324 L 5.000382683432365,2.1009238795325116 L 5.000471396736826,2.1008819212643486 L 5.000555570233019,2.1008314696123027 L 5.000634393284163,2.100773010453363 L 5.000707106781187,2.1007071067811864 L 5.000773010453362,2.100634393284164 L 5.000831469612303,2.10055557023302 L 5.000881921264348,2.1004713967368263 L 5.000923879532511,2.100382683432365 L 5.000956940335732,2.1002902846772544 L 5.000980785280404,2.1001950903220163 L 5.000995184726672,2.1000980171403296 L 5.001,2.1 L 5.000995184726672,2.0999019828596706 L 5.000980785280404,2.099804909677984 L 5.000956940335732,2.0997097153227458 L 5.000923879532511,2.099617316567635 L 5.000881921264348,2.099528603263174 L 5.000831469612303,2.0994444297669803 L 5.000773010453362,2.0993656067158364 L 5.000707106781187,2.0992928932188137 L 5.000634393284163,2.0992269895466373 L 5.000555570233019,2.0991685303876975 L 5.000471396736826,2.0991180787356516 L 5.000382683432365,2.0990761204674886 L 5.000290284677255,2.0990430596642677 L 5.000195090322016,2.099019214719597 L 5.0000980171403295,2.099004815273328 L 5.0,2.099 L 0.5,2.099 L 0.4999019828596704,2.099004815273328 L 0.49980490967798386,2.099019214719597 L 0.49970971532274555,2.0990430596642677 L 0.4996173165676349,2.0990761204674886 L 0.499528603263174,2.0991180787356516 L 0.4994444297669804,2.0991685303876975 L 0.49936560671583635,2.0992269895466373 L 0.4992928932188134,2.0992928932188137 L 0.49922698954663725,2.0993656067158364 L 0.49916853038769743,2.0994444297669803 L 0.49911807873565167,2.099528603263174 L 0.4990761204674887,2.099617316567635 L 0.4990430596642678,2.0997097153227458 L 0.49901921471959676,2.099804909677984 L 0.4990048152733278,2.0999019828596706 L 0.499,2.1 L 0.4990048152733278,2.1000980171403296 L 0.49901921471959676,2.1001950903220163 L 0.4990430596642678,2.1002902846772544 L 0.4990761204674887,2.100382683432365 L 0.49911807873565167,2.1004713967368263 L 0.49916853038769743,2.10055557023302 L 0.49922698954663725,2.100634393284164 L 0.4992928932188134,2.1007071067811864 L 0.49936560671583635,2.100773010453363 L 0.4994444297669804,2.1008314696123027 L 0.499528603263174,2.1008819212643486 L 0.4996173165676349,2.1009238795325116 L 0.49970971532274555,2.1009569403357324 L 0.49980490967798386,2.100980785280403 L 0.4999019828596704,2.1009951847266723 L 0.5,2.101 L 5.0,2.101 z\" /></g></svg>"
      ],
      "text/plain": [
       "<shapely.geometry.polygon.Polygon at 0x7f5454ed2518>"
      ]
     },
     "execution_count": 109,
     "metadata": {},
     "output_type": "execute_result"
    }
   ],
   "source": [
    "buffer1"
   ]
  },
  {
   "cell_type": "code",
   "execution_count": 110,
   "metadata": {},
   "outputs": [
    {
     "data": {
      "text/plain": [
       "'POLYGON ((5 2.101, 5.00009801714033 2.100995184726672, 5.000195090322016 2.100980785280403, 5.000290284677255 2.100956940335732, 5.000382683432365 2.100923879532512, 5.000471396736826 2.100881921264349, 5.000555570233019 2.100831469612303, 5.000634393284163 2.100773010453363, 5.000707106781187 2.100707106781186, 5.000773010453362 2.100634393284164, 5.000831469612303 2.10055557023302, 5.000881921264348 2.100471396736826, 5.000923879532511 2.100382683432365, 5.000956940335732 2.100290284677254, 5.000980785280404 2.100195090322016, 5.000995184726672 2.10009801714033, 5.001 2.1, 5.000995184726672 2.099901982859671, 5.000980785280404 2.099804909677984, 5.000956940335732 2.099709715322746, 5.000923879532511 2.099617316567635, 5.000881921264348 2.099528603263174, 5.000831469612303 2.09944442976698, 5.000773010453362 2.099365606715836, 5.000707106781187 2.099292893218814, 5.000634393284163 2.099226989546637, 5.000555570233019 2.099168530387697, 5.000471396736826 2.099118078735652, 5.000382683432365 2.099076120467489, 5.000290284677255 2.099043059664268, 5.000195090322016 2.099019214719597, 5.00009801714033 2.099004815273328, 5 2.099, 0.5 2.099, 0.4999019828596704 2.099004815273328, 0.4998049096779839 2.099019214719597, 0.4997097153227456 2.099043059664268, 0.4996173165676349 2.099076120467489, 0.499528603263174 2.099118078735652, 0.4994444297669804 2.099168530387697, 0.4993656067158364 2.099226989546637, 0.4992928932188134 2.099292893218814, 0.4992269895466372 2.099365606715836, 0.4991685303876974 2.09944442976698, 0.4991180787356517 2.099528603263174, 0.4990761204674887 2.099617316567635, 0.4990430596642678 2.099709715322746, 0.4990192147195968 2.099804909677984, 0.4990048152733278 2.099901982859671, 0.499 2.1, 0.4990048152733278 2.10009801714033, 0.4990192147195968 2.100195090322016, 0.4990430596642678 2.100290284677254, 0.4990761204674887 2.100382683432365, 0.4991180787356517 2.100471396736826, 0.4991685303876974 2.10055557023302, 0.4992269895466372 2.100634393284164, 0.4992928932188134 2.100707106781186, 0.4993656067158364 2.100773010453363, 0.4994444297669804 2.100831469612303, 0.499528603263174 2.100881921264349, 0.4996173165676349 2.100923879532512, 0.4997097153227456 2.100956940335732, 0.4998049096779839 2.100980785280403, 0.4999019828596704 2.100995184726672, 0.5 2.101, 5 2.101))'"
      ]
     },
     "execution_count": 110,
     "metadata": {},
     "output_type": "execute_result"
    }
   ],
   "source": [
    "buffer1.wkt"
   ]
  },
  {
   "cell_type": "markdown",
   "metadata": {},
   "source": [
    "Create two lines, and a `MultiLineString` out of them."
   ]
  },
  {
   "cell_type": "code",
   "execution_count": 137,
   "metadata": {},
   "outputs": [
    {
     "data": {
      "image/svg+xml": [
       "<svg xmlns=\"http://www.w3.org/2000/svg\" xmlns:xlink=\"http://www.w3.org/1999/xlink\" width=\"100.0\" height=\"100.0\" viewBox=\"-0.08 -0.08 2.16 1.1600000000000001\" preserveAspectRatio=\"xMinYMin meet\"><g transform=\"matrix(1,0,0,-1,0,1.0)\"><polyline fill=\"none\" stroke=\"#66cc99\" stroke-width=\"0.0432\" points=\"0.0,0.0 1.0,1.0 2.0,0.5\" opacity=\"0.8\" /></g></svg>"
      ],
      "text/plain": [
       "<shapely.geometry.linestring.LineString at 0x7f5455001320>"
      ]
     },
     "execution_count": 137,
     "metadata": {},
     "output_type": "execute_result"
    }
   ],
   "source": [
    "line3 = LineString([(0.0, 0.0), (1.0, 1.0), (2.0, 0.5)])\n",
    "line3"
   ]
  },
  {
   "cell_type": "code",
   "execution_count": 151,
   "metadata": {},
   "outputs": [
    {
     "data": {
      "image/svg+xml": [
       "<svg xmlns=\"http://www.w3.org/2000/svg\" xmlns:xlink=\"http://www.w3.org/1999/xlink\" width=\"100.0\" height=\"100.0\" viewBox=\"-0.58 -0.08 2.16 0.6599999999999999\" preserveAspectRatio=\"xMinYMin meet\"><g transform=\"matrix(1,0,0,-1,0,0.49999999999999994)\"><polyline fill=\"none\" stroke=\"#66cc99\" stroke-width=\"0.0432\" points=\"1.5,0.5 -0.5,0.5 -0.5,0.0\" opacity=\"0.8\" /></g></svg>"
      ],
      "text/plain": [
       "<shapely.geometry.linestring.LineString at 0x7f5455001080>"
      ]
     },
     "execution_count": 151,
     "metadata": {},
     "output_type": "execute_result"
    }
   ],
   "source": [
    "line4 = LineString([(1.5, 0.5), (-0.5, 0.5), (-0.5, 0.0)])\n",
    "line4"
   ]
  },
  {
   "cell_type": "code",
   "execution_count": 152,
   "metadata": {},
   "outputs": [
    {
     "data": {
      "image/svg+xml": [
       "<svg xmlns=\"http://www.w3.org/2000/svg\" xmlns:xlink=\"http://www.w3.org/1999/xlink\" width=\"100.0\" height=\"100.0\" viewBox=\"-0.6 -0.1 2.7 1.2000000000000002\" preserveAspectRatio=\"xMinYMin meet\"><g transform=\"matrix(1,0,0,-1,0,1.0)\"><g><polyline fill=\"none\" stroke=\"#66cc99\" stroke-width=\"0.054000000000000006\" points=\"0.0,0.0 1.0,1.0 2.0,0.5\" opacity=\"0.8\" /><polyline fill=\"none\" stroke=\"#66cc99\" stroke-width=\"0.054000000000000006\" points=\"1.5,0.5 -0.5,0.5 -0.5,0.0\" opacity=\"0.8\" /></g></g></svg>"
      ],
      "text/plain": [
       "<shapely.geometry.multilinestring.MultiLineString at 0x7f5454fe30b8>"
      ]
     },
     "execution_count": 152,
     "metadata": {},
     "output_type": "execute_result"
    }
   ],
   "source": [
    "mline = MultiLineString([line3, line4])\n",
    "mline"
   ]
  },
  {
   "cell_type": "markdown",
   "metadata": {},
   "source": [
    "Create an invalid `LinearRing`."
   ]
  },
  {
   "cell_type": "code",
   "execution_count": 148,
   "metadata": {},
   "outputs": [],
   "source": [
    "ring = LinearRing([(0.0, 0.0), (1.0, 1.0), (2.0, 0.5), (0.0, 0.5)])"
   ]
  },
  {
   "cell_type": "code",
   "execution_count": 150,
   "metadata": {},
   "outputs": [
    {
     "name": "stderr",
     "output_type": "stream",
     "text": [
      "Ring Self-intersection at or near point 0.5 0.5\n"
     ]
    },
    {
     "data": {
      "text/plain": [
       "False"
      ]
     },
     "execution_count": 150,
     "metadata": {},
     "output_type": "execute_result"
    }
   ],
   "source": [
    "ring.is_valid"
   ]
  },
  {
   "cell_type": "markdown",
   "metadata": {},
   "source": [
    "### Splitting a polygon"
   ]
  },
  {
   "cell_type": "markdown",
   "metadata": {},
   "source": [
    "The latter can be used to split a polygon along the line by computing the difference between the polygon and the buffer created out of the line.  The result is a `MultiPolygon`."
   ]
  },
  {
   "cell_type": "code",
   "execution_count": 111,
   "metadata": {
    "collapsed": true
   },
   "outputs": [],
   "source": [
    "split = polygon1.difference(buffer1)"
   ]
  },
  {
   "cell_type": "code",
   "execution_count": 112,
   "metadata": {},
   "outputs": [
    {
     "data": {
      "image/svg+xml": [
       "<svg xmlns=\"http://www.w3.org/2000/svg\" xmlns:xlink=\"http://www.w3.org/1999/xlink\" width=\"100.0\" height=\"100.0\" viewBox=\"0.92 0.92 2.16 2.16\" preserveAspectRatio=\"xMinYMin meet\"><g transform=\"matrix(1,0,0,-1,0,4.0)\"><g><path fill-rule=\"evenodd\" fill=\"#66cc99\" stroke=\"#555555\" stroke-width=\"0.0432\" opacity=\"0.6\" d=\"M 1.0,1.0 L 1.0,2.099 L 2.8019999999999996,2.099 L 3.0,2.0 L 3.0,1.0 L 1.0,1.0 z\" /><path fill-rule=\"evenodd\" fill=\"#66cc99\" stroke=\"#555555\" stroke-width=\"0.0432\" opacity=\"0.6\" d=\"M 1.0,2.101 L 1.0,3.0 L 2.798,2.101 L 1.0,2.101 z\" /></g></g></svg>"
      ],
      "text/plain": [
       "<shapely.geometry.multipolygon.MultiPolygon at 0x7f545cb46198>"
      ]
     },
     "execution_count": 112,
     "metadata": {},
     "output_type": "execute_result"
    }
   ],
   "source": [
    "split"
   ]
  },
  {
   "cell_type": "code",
   "execution_count": 113,
   "metadata": {},
   "outputs": [
    {
     "data": {
      "image/svg+xml": [
       "<svg xmlns=\"http://www.w3.org/2000/svg\" xmlns:xlink=\"http://www.w3.org/1999/xlink\" width=\"100.0\" height=\"100.0\" viewBox=\"0.92 0.92 2.16 1.2590000000000003\" preserveAspectRatio=\"xMinYMin meet\"><g transform=\"matrix(1,0,0,-1,0,3.099)\"><path fill-rule=\"evenodd\" fill=\"#66cc99\" stroke=\"#555555\" stroke-width=\"0.0432\" opacity=\"0.6\" d=\"M 1.0,1.0 L 1.0,2.099 L 2.8019999999999996,2.099 L 3.0,2.0 L 3.0,1.0 L 1.0,1.0 z\" /></g></svg>"
      ],
      "text/plain": [
       "<shapely.geometry.polygon.Polygon at 0x7f545cb460b8>"
      ]
     },
     "execution_count": 113,
     "metadata": {},
     "output_type": "execute_result"
    }
   ],
   "source": [
    "split[0]"
   ]
  },
  {
   "cell_type": "code",
   "execution_count": 114,
   "metadata": {},
   "outputs": [
    {
     "data": {
      "image/svg+xml": [
       "<svg xmlns=\"http://www.w3.org/2000/svg\" xmlns:xlink=\"http://www.w3.org/1999/xlink\" width=\"100.0\" height=\"100.0\" viewBox=\"0.92808 2.02908 1.94184 1.04284\" preserveAspectRatio=\"xMinYMin meet\"><g transform=\"matrix(1,0,0,-1,0,5.101)\"><path fill-rule=\"evenodd\" fill=\"#66cc99\" stroke=\"#555555\" stroke-width=\"0.0388368\" opacity=\"0.6\" d=\"M 1.0,2.101 L 1.0,3.0 L 2.798,2.101 L 1.0,2.101 z\" /></g></svg>"
      ],
      "text/plain": [
       "<shapely.geometry.polygon.Polygon at 0x7f5454fe3a58>"
      ]
     },
     "execution_count": 114,
     "metadata": {},
     "output_type": "execute_result"
    }
   ],
   "source": [
    "split[1]"
   ]
  },
  {
   "cell_type": "markdown",
   "metadata": {},
   "source": [
    "### Creating a multi-polygon"
   ]
  },
  {
   "cell_type": "markdown",
   "metadata": {},
   "source": [
    "Create two polygons, and a new `MultiPolygon` containing them."
   ]
  },
  {
   "cell_type": "code",
   "execution_count": 115,
   "metadata": {},
   "outputs": [
    {
     "data": {
      "image/svg+xml": [
       "<svg xmlns=\"http://www.w3.org/2000/svg\" xmlns:xlink=\"http://www.w3.org/1999/xlink\" width=\"100.0\" height=\"100.0\" viewBox=\"0.92 0.92 1.1600000000000001 2.16\" preserveAspectRatio=\"xMinYMin meet\"><g transform=\"matrix(1,0,0,-1,0,4.0)\"><path fill-rule=\"evenodd\" fill=\"#66cc99\" stroke=\"#555555\" stroke-width=\"0.0432\" opacity=\"0.6\" d=\"M 1.0,1.0 L 1.0,3.0 L 2.0,2.0 L 2.0,1.0 L 1.0,1.0 z M 1.4,1.4 L 1.4,2.4 L 1.6,1.6 L 1.6,1.4 L 1.4,1.4 z\" /></g></svg>"
      ],
      "text/plain": [
       "<shapely.geometry.polygon.Polygon at 0x7f5454fe3400>"
      ]
     },
     "execution_count": 115,
     "metadata": {},
     "output_type": "execute_result"
    }
   ],
   "source": [
    "polygon3 = Polygon([(1.0, 1.0), (1.0, 3.0), (2.0, 2.0), (2.0, 1.0)],\n",
    "                   [[(1.4, 1.4), (1.4, 2.4), (1.6, 1.6), (1.6, 1.4)]])\n",
    "polygon3"
   ]
  },
  {
   "cell_type": "code",
   "execution_count": 116,
   "metadata": {
    "collapsed": true
   },
   "outputs": [],
   "source": [
    "line4_outer = LinearRing([(3.0, 2.0), (3.0, 5.0), (6.0, 5.0), (6.0, 2.0)])"
   ]
  },
  {
   "cell_type": "code",
   "execution_count": 117,
   "metadata": {
    "collapsed": true
   },
   "outputs": [],
   "source": [
    "line4_inner1 = LinearRing([(3.5, 2.5), (3.5, 4.5), (4.5, 4.5), (4.5, 2.5)])"
   ]
  },
  {
   "cell_type": "code",
   "execution_count": 118,
   "metadata": {
    "collapsed": true
   },
   "outputs": [],
   "source": [
    "line4_inner2 = LinearRing([(5.0, 2.5), (5.0, 4.5), (5.5, 4.5), (5.5, 2.5)])"
   ]
  },
  {
   "cell_type": "code",
   "execution_count": 119,
   "metadata": {
    "collapsed": true
   },
   "outputs": [],
   "source": [
    "polygon4 = Polygon(line4_outer, [line4_inner1, line4_inner2])"
   ]
  },
  {
   "cell_type": "code",
   "execution_count": 120,
   "metadata": {},
   "outputs": [
    {
     "data": {
      "image/svg+xml": [
       "<svg xmlns=\"http://www.w3.org/2000/svg\" xmlns:xlink=\"http://www.w3.org/1999/xlink\" width=\"100.0\" height=\"100.0\" viewBox=\"2.88 1.88 3.24 3.24\" preserveAspectRatio=\"xMinYMin meet\"><g transform=\"matrix(1,0,0,-1,0,7.0)\"><path fill-rule=\"evenodd\" fill=\"#66cc99\" stroke=\"#555555\" stroke-width=\"0.06480000000000001\" opacity=\"0.6\" d=\"M 3.0,2.0 L 3.0,5.0 L 6.0,5.0 L 6.0,2.0 L 3.0,2.0 z M 3.5,2.5 L 3.5,4.5 L 4.5,4.5 L 4.5,2.5 L 3.5,2.5 z M 5.0,2.5 L 5.0,4.5 L 5.5,4.5 L 5.5,2.5 L 5.0,2.5 z\" /></g></svg>"
      ],
      "text/plain": [
       "<shapely.geometry.polygon.Polygon at 0x7f5454fe3c18>"
      ]
     },
     "execution_count": 120,
     "metadata": {},
     "output_type": "execute_result"
    }
   ],
   "source": [
    "polygon4"
   ]
  },
  {
   "cell_type": "code",
   "execution_count": 121,
   "metadata": {
    "collapsed": true
   },
   "outputs": [],
   "source": [
    "multi_polygon = MultiPolygon([polygon3, polygon4])"
   ]
  },
  {
   "cell_type": "code",
   "execution_count": 122,
   "metadata": {},
   "outputs": [
    {
     "data": {
      "image/svg+xml": [
       "<svg xmlns=\"http://www.w3.org/2000/svg\" xmlns:xlink=\"http://www.w3.org/1999/xlink\" width=\"100.0\" height=\"100.0\" viewBox=\"0.8 0.8 5.4 4.4\" preserveAspectRatio=\"xMinYMin meet\"><g transform=\"matrix(1,0,0,-1,0,6.0)\"><g><path fill-rule=\"evenodd\" fill=\"#66cc99\" stroke=\"#555555\" stroke-width=\"0.10800000000000001\" opacity=\"0.6\" d=\"M 1.0,1.0 L 1.0,3.0 L 2.0,2.0 L 2.0,1.0 L 1.0,1.0 z M 1.4,1.4 L 1.4,2.4 L 1.6,1.6 L 1.6,1.4 L 1.4,1.4 z\" /><path fill-rule=\"evenodd\" fill=\"#66cc99\" stroke=\"#555555\" stroke-width=\"0.10800000000000001\" opacity=\"0.6\" d=\"M 3.0,2.0 L 3.0,5.0 L 6.0,5.0 L 6.0,2.0 L 3.0,2.0 z M 3.5,2.5 L 3.5,4.5 L 4.5,4.5 L 4.5,2.5 L 3.5,2.5 z M 5.0,2.5 L 5.0,4.5 L 5.5,4.5 L 5.5,2.5 L 5.0,2.5 z\" /></g></g></svg>"
      ],
      "text/plain": [
       "<shapely.geometry.multipolygon.MultiPolygon at 0x7f5454fe34a8>"
      ]
     },
     "execution_count": 122,
     "metadata": {},
     "output_type": "execute_result"
    }
   ],
   "source": [
    "multi_polygon"
   ]
  },
  {
   "cell_type": "markdown",
   "metadata": {},
   "source": [
    "### Interpolation"
   ]
  },
  {
   "cell_type": "markdown",
   "metadata": {},
   "source": [
    "Create a line out of two points, and use interpolation to tet a point on that line at a specified distance from the first."
   ]
  },
  {
   "cell_type": "code",
   "execution_count": 123,
   "metadata": {
    "collapsed": true
   },
   "outputs": [],
   "source": [
    "point1 = Point((1.0, 1.0))\n",
    "point2 = Point((3.0, 3.0))\n",
    "line12 = LineString([point1, point2])"
   ]
  },
  {
   "cell_type": "code",
   "execution_count": 124,
   "metadata": {
    "collapsed": true
   },
   "outputs": [],
   "source": [
    "point3 = line12.interpolate(1.0)"
   ]
  },
  {
   "cell_type": "markdown",
   "metadata": {},
   "source": [
    "Verify that the distance between the first and the new point is 1."
   ]
  },
  {
   "cell_type": "code",
   "execution_count": 125,
   "metadata": {},
   "outputs": [
    {
     "data": {
      "text/plain": [
       "0.9999999999999999"
      ]
     },
     "execution_count": 125,
     "metadata": {},
     "output_type": "execute_result"
    }
   ],
   "source": [
    "point1.distance(point3)"
   ]
  },
  {
   "cell_type": "markdown",
   "metadata": {},
   "source": [
    "Check whether the new point is on the line defined by the first and second point."
   ]
  },
  {
   "cell_type": "code",
   "execution_count": 126,
   "metadata": {},
   "outputs": [
    {
     "data": {
      "text/plain": [
       "True"
      ]
     },
     "execution_count": 126,
     "metadata": {},
     "output_type": "execute_result"
    }
   ],
   "source": [
    "line12.contains(point3)"
   ]
  },
  {
   "cell_type": "code",
   "execution_count": 127,
   "metadata": {
    "collapsed": true
   },
   "outputs": [],
   "source": [
    "point4 = Point((3.1, 3.2))"
   ]
  },
  {
   "cell_type": "code",
   "execution_count": 128,
   "metadata": {},
   "outputs": [
    {
     "data": {
      "text/plain": [
       "False"
      ]
     },
     "execution_count": 128,
     "metadata": {},
     "output_type": "execute_result"
    }
   ],
   "source": [
    "line12.contains(point4)"
   ]
  },
  {
   "cell_type": "markdown",
   "metadata": {},
   "source": [
    "## Make your own coutnry"
   ]
  },
  {
   "cell_type": "markdown",
   "metadata": {},
   "source": [
    "Load the required modules."
   ]
  },
  {
   "cell_type": "code",
   "execution_count": 71,
   "metadata": {
    "collapsed": true
   },
   "outputs": [],
   "source": [
    "import matplotlib.pyplot as plt\n",
    "import numpy as np\n",
    "import random\n",
    "from shapely.geometry import Point, LinearRing, Polygon, LineString\n",
    "import string\n",
    "%matplotlib inline"
   ]
  },
  {
   "cell_type": "markdown",
   "metadata": {},
   "source": [
    "Create the country's border as a `LinearRing`."
   ]
  },
  {
   "cell_type": "code",
   "execution_count": 54,
   "metadata": {},
   "outputs": [
    {
     "data": {
      "image/svg+xml": [
       "<svg xmlns=\"http://www.w3.org/2000/svg\" xmlns:xlink=\"http://www.w3.org/1999/xlink\" width=\"222.0391671977555\" height=\"230.85600123711203\" viewBox=\"-110.67638089574805 -117.20711533914786 222.0391671977555 230.85600123711203\" preserveAspectRatio=\"xMinYMin meet\"><g transform=\"matrix(1,0,0,-1,0,-3.5582294411836983)\"><polyline fill=\"none\" stroke=\"#66cc99\" stroke-width=\"2.0\" points=\"100.10905632313488,0.0 101.59301713630565,10.81533725367802 88.812195821815,20.27278265715711 96.92119586447994,28.262307094738496 92.78869018860009,40.10979969769285 93.51877367058606,52.14712587361086 79.41816997340318,57.066822922649806 69.03342379060645,66.75391592459063 68.84959581277717,78.12475332568764 56.731068734991396,87.20514655801844 50.40582810142945,89.97575091800105 40.66540136975158,88.81655562167347 27.588444876649362,100.55763065353653 18.09608297127286,103.44724844557585 7.755185110234907,105.09866362992298 -2.6421255516544084,104.10604892935855 -13.811190827821301,97.70932095199582 -23.678316152729643,93.25991645158345 -32.164593357351684,103.44479129680816 -45.609663077187975,90.2430053422887 -48.78230488179817,79.29506838533752 -63.20067079349263,73.86217727091656 -72.761816349121,74.12590047785106 -77.82620911785807,66.28930622179881 -89.5793038128042,54.91034447833505 -83.40625511774256,46.36006159900515 -85.67956964345507,40.62736736486328 -96.50737246323033,21.182327650407384 -100.54375054896677,14.705595881967106 -99.12933240256604,5.224991608565353 -85.51208878326214,-5.779165427012368 -102.12615862770687,-15.901065169719383 -94.84290861518535,-25.077646583484334 -95.01558020052856,-38.36659991218587 -87.24743942796256,-44.95397961296413 -86.84957589212358,-52.97349507543214 -75.5855549136388,-69.21302033635965 -68.86947143335283,-77.75802096326457 -54.738357651706146,-76.56834083119006 -49.99059911150097,-87.70995816547438 -43.14678596738711,-91.05529433276607 -34.16861120225219,-95.16836163059381 -23.13232840592588,-97.86368214735324 -13.493499036340049,-99.55194097813644 -2.4888212766797158,-105.0139563204006 8.167472488554347,-94.62674367787767 18.105013427599488,-108.65689307110668 30.200544173935484,-92.6404997517913 41.051261295310574,-100.4013083203478 47.07439529160643,-87.30551414280819 57.18175485913018,-76.50623638673716 70.57178312188883,-69.51861217167904 75.42284218003428,-63.178576387169514 84.18397129451091,-61.61231351866714 80.37164608893214,-51.45255007378395 96.0533466939682,-42.18959116611597 90.19051002569401,-33.26231127504357 101.11518022292857,-22.981882401245084 99.17075417197495,-10.722131542882382 102.81256403396625,-2.548410477337972e-14 100.10905632313488,0.0\" opacity=\"0.8\" /></g></svg>"
      ],
      "text/plain": [
       "<shapely.geometry.polygon.LinearRing at 0x7f4525aaf2b0>"
      ]
     },
     "execution_count": 54,
     "metadata": {},
     "output_type": "execute_result"
    }
   ],
   "source": [
    "diameter = 100\n",
    "deviation = 5\n",
    "nr_points = 60\n",
    "x_center = 0.0\n",
    "y_center = 0.0\n",
    "theta = np.linspace(0.0, 2.0*np.pi, nr_points)\n",
    "x = x_center + np.random.normal(diameter, deviation, (len(theta), ))*np.cos(theta)\n",
    "y = y_center + np.random.normal(diameter, deviation, (len(theta), ))*np.sin(theta)\n",
    "country_border = LinearRing([t  for t  in zip(x, y)])\n",
    "country_border"
   ]
  },
  {
   "cell_type": "markdown",
   "metadata": {},
   "source": [
    "Reuse the code to create the lake border."
   ]
  },
  {
   "cell_type": "code",
   "execution_count": 55,
   "metadata": {},
   "outputs": [
    {
     "data": {
      "image/svg+xml": [
       "<svg xmlns=\"http://www.w3.org/2000/svg\" xmlns:xlink=\"http://www.w3.org/1999/xlink\" width=\"100.0\" height=\"100.0\" viewBox=\"8.475359325979998 -11.529931691514609 43.76881948875999 43.01299481842746\" preserveAspectRatio=\"xMinYMin meet\"><g transform=\"matrix(1,0,0,-1,0,19.95313143539824)\"><polyline fill=\"none\" stroke=\"#66cc99\" stroke-width=\"0.8753763897751997\" points=\"50.6231114262674,10.0 49.24493518602297,14.37832980011648 47.978074999488776,18.288680092130015 45.72055749680666,22.305649103591687 42.73138283070489,24.676639147165552 39.32667807160993,28.756051802833394 35.26144389971991,29.27123367571263 31.043711980834143,29.490429996944787 26.84030217553311,29.861995738440257 22.389464904714096,27.714067208825647 18.584142000640327,26.620459816953918 15.68760174407201,22.974726080387967 12.747641103541213,19.64820051780354 10.723541283418022,16.59987056050626 10.09642671445259,12.149842799978723 10.821635994467648,7.793320040233439 11.64505359343902,3.769755808812059 12.739153486581667,-0.33206046083968843 16.331813259535465,-4.030315246853956 18.727365158326613,-6.199443363589541 22.721161235613803,-8.600811650613569 26.68495660882055,-9.675360903998445 31.041141005083414,-9.908864303042016 35.40590076447872,-8.928129271220282 39.613291163519904,-8.144224172094113 43.35343245858182,-4.550808807648604 46.306908653501615,-2.338779909556699 47.498652132951406,1.8690141138021286 49.95549629074164,5.7812017381364775 50.339398781872674,9.999999999999995 50.6231114262674,10.0\" opacity=\"0.8\" /></g></svg>"
      ],
      "text/plain": [
       "<shapely.geometry.polygon.LinearRing at 0x7f4525aaf3c8>"
      ]
     },
     "execution_count": 55,
     "metadata": {},
     "output_type": "execute_result"
    }
   ],
   "source": [
    "diameter = 20\n",
    "deviation = 0.5\n",
    "nr_points = 30\n",
    "x_center = 30.0\n",
    "y_center = 10.0\n",
    "theta = np.linspace(0.0, 2.0*np.pi, nr_points)\n",
    "x = x_center + np.random.normal(diameter, deviation, (len(theta), ))*np.cos(theta)\n",
    "y = y_center + np.random.normal(diameter, deviation, (len(theta), ))*np.sin(theta)\n",
    "lake_border = LinearRing([t  for t  in zip(x, y)])\n",
    "lake_border"
   ]
  },
  {
   "cell_type": "code",
   "execution_count": 56,
   "metadata": {},
   "outputs": [
    {
     "data": {
      "image/svg+xml": [
       "<svg xmlns=\"http://www.w3.org/2000/svg\" xmlns:xlink=\"http://www.w3.org/1999/xlink\" width=\"222.0391671977555\" height=\"230.85600123711203\" viewBox=\"-110.67638089574805 -117.20711533914786 222.0391671977555 230.85600123711203\" preserveAspectRatio=\"xMinYMin meet\"><g transform=\"matrix(1,0,0,-1,0,-3.5582294411836983)\"><path fill-rule=\"evenodd\" fill=\"#66cc99\" stroke=\"#555555\" stroke-width=\"2.0\" opacity=\"0.6\" d=\"M 100.10905632313488,0.0 L 101.59301713630565,10.81533725367802 L 88.812195821815,20.27278265715711 L 96.92119586447994,28.262307094738496 L 92.78869018860009,40.10979969769285 L 93.51877367058606,52.14712587361086 L 79.41816997340318,57.066822922649806 L 69.03342379060645,66.75391592459063 L 68.84959581277717,78.12475332568764 L 56.731068734991396,87.20514655801844 L 50.40582810142945,89.97575091800105 L 40.66540136975158,88.81655562167347 L 27.588444876649362,100.55763065353653 L 18.09608297127286,103.44724844557585 L 7.755185110234907,105.09866362992298 L -2.6421255516544084,104.10604892935855 L -13.811190827821301,97.70932095199582 L -23.678316152729643,93.25991645158345 L -32.164593357351684,103.44479129680816 L -45.609663077187975,90.2430053422887 L -48.78230488179817,79.29506838533752 L -63.20067079349263,73.86217727091656 L -72.761816349121,74.12590047785106 L -77.82620911785807,66.28930622179881 L -89.5793038128042,54.91034447833505 L -83.40625511774256,46.36006159900515 L -85.67956964345507,40.62736736486328 L -96.50737246323033,21.182327650407384 L -100.54375054896677,14.705595881967106 L -99.12933240256604,5.224991608565353 L -85.51208878326214,-5.779165427012368 L -102.12615862770687,-15.901065169719383 L -94.84290861518535,-25.077646583484334 L -95.01558020052856,-38.36659991218587 L -87.24743942796256,-44.95397961296413 L -86.84957589212358,-52.97349507543214 L -75.5855549136388,-69.21302033635965 L -68.86947143335283,-77.75802096326457 L -54.738357651706146,-76.56834083119006 L -49.99059911150097,-87.70995816547438 L -43.14678596738711,-91.05529433276607 L -34.16861120225219,-95.16836163059381 L -23.13232840592588,-97.86368214735324 L -13.493499036340049,-99.55194097813644 L -2.4888212766797158,-105.0139563204006 L 8.167472488554347,-94.62674367787767 L 18.105013427599488,-108.65689307110668 L 30.200544173935484,-92.6404997517913 L 41.051261295310574,-100.4013083203478 L 47.07439529160643,-87.30551414280819 L 57.18175485913018,-76.50623638673716 L 70.57178312188883,-69.51861217167904 L 75.42284218003428,-63.178576387169514 L 84.18397129451091,-61.61231351866714 L 80.37164608893214,-51.45255007378395 L 96.0533466939682,-42.18959116611597 L 90.19051002569401,-33.26231127504357 L 101.11518022292857,-22.981882401245084 L 99.17075417197495,-10.722131542882382 L 102.81256403396625,-2.548410477337972e-14 L 100.10905632313488,0.0 z M 50.6231114262674,10.0 L 49.24493518602297,14.37832980011648 L 47.978074999488776,18.288680092130015 L 45.72055749680666,22.305649103591687 L 42.73138283070489,24.676639147165552 L 39.32667807160993,28.756051802833394 L 35.26144389971991,29.27123367571263 L 31.043711980834143,29.490429996944787 L 26.84030217553311,29.861995738440257 L 22.389464904714096,27.714067208825647 L 18.584142000640327,26.620459816953918 L 15.68760174407201,22.974726080387967 L 12.747641103541213,19.64820051780354 L 10.723541283418022,16.59987056050626 L 10.09642671445259,12.149842799978723 L 10.821635994467648,7.793320040233439 L 11.64505359343902,3.769755808812059 L 12.739153486581667,-0.33206046083968843 L 16.331813259535465,-4.030315246853956 L 18.727365158326613,-6.199443363589541 L 22.721161235613803,-8.600811650613569 L 26.68495660882055,-9.675360903998445 L 31.041141005083414,-9.908864303042016 L 35.40590076447872,-8.928129271220282 L 39.613291163519904,-8.144224172094113 L 43.35343245858182,-4.550808807648604 L 46.306908653501615,-2.338779909556699 L 47.498652132951406,1.8690141138021286 L 49.95549629074164,5.7812017381364775 L 50.339398781872674,9.999999999999995 L 50.6231114262674,10.0 z\" /></g></svg>"
      ],
      "text/plain": [
       "<shapely.geometry.polygon.Polygon at 0x7f4525aa96d8>"
      ]
     },
     "execution_count": 56,
     "metadata": {},
     "output_type": "execute_result"
    }
   ],
   "source": [
    "country = Polygon(country_border, [lake_border])\n",
    "country"
   ]
  },
  {
   "cell_type": "markdown",
   "metadata": {},
   "source": [
    "Define a function to compute city names."
   ]
  },
  {
   "cell_type": "code",
   "execution_count": 57,
   "metadata": {
    "collapsed": true
   },
   "outputs": [],
   "source": [
    "def choose_name():\n",
    "    nr_char = random.randint(5, 10)\n",
    "    city_name = ''\n",
    "    for _ in range(nr_char):\n",
    "        city_name += random.choice(string.ascii_lowercase)\n",
    "    return city_name.capitalize()"
   ]
  },
  {
   "cell_type": "markdown",
   "metadata": {},
   "source": [
    "Create cities, ensuring that they are withint the country borders, and not in the lake, assign name and  population to each."
   ]
  },
  {
   "cell_type": "code",
   "execution_count": 58,
   "metadata": {
    "collapsed": true
   },
   "outputs": [],
   "source": [
    "bounds = country.bounds\n",
    "cities = list()\n",
    "nr_cities = 10\n",
    "while len(cities) < nr_cities:\n",
    "    x_pos = np.random.uniform(bounds[0], bounds[2])\n",
    "    y_pos = np.random.uniform(bounds[1], bounds[3])\n",
    "    city_point = Point((x_pos, y_pos))\n",
    "    if country.contains(city_point):\n",
    "        city_name = choose_name()\n",
    "        city_pop = random.randint(5000, 50000)\n",
    "        cities.append({'name': city_name, 'position': city_point, 'population': city_pop})"
   ]
  },
  {
   "cell_type": "markdown",
   "metadata": {
    "collapsed": true
   },
   "source": [
    "Create roads between cities, but only when they can be straight lines."
   ]
  },
  {
   "cell_type": "code",
   "execution_count": 62,
   "metadata": {
    "collapsed": true
   },
   "outputs": [],
   "source": [
    "roads = []\n",
    "for i, city1 in enumerate(cities):\n",
    "    for city2 in cities[i + 1:]:\n",
    "        road = LineString([city1['position'], city2['position']])\n",
    "        if country.contains(road):\n",
    "            roads.append(road)"
   ]
  },
  {
   "cell_type": "code",
   "execution_count": 63,
   "metadata": {},
   "outputs": [
    {
     "data": {
      "text/plain": [
       "37"
      ]
     },
     "execution_count": 63,
     "metadata": {},
     "output_type": "execute_result"
    }
   ],
   "source": [
    "len(roads)"
   ]
  },
  {
   "cell_type": "markdown",
   "metadata": {},
   "source": [
    "Define a function to plot the country, its cities and roads."
   ]
  },
  {
   "cell_type": "code",
   "execution_count": 96,
   "metadata": {
    "collapsed": true
   },
   "outputs": [],
   "source": [
    "def plot_country(country, cities, roads):\n",
    "    x_country, y_country = country.boundary[0].xy\n",
    "    plt.plot(x_country, y_country, color='black')\n",
    "    for lake_border in country.boundary[1:]:\n",
    "        x_lake, y_lake = lake_border.xy\n",
    "        plt.plot(x_lake, y_lake, color='black', linewidth=0.7)\n",
    "    for city in cities:\n",
    "        plt.plot(*city['position'].xy, marker='o', markersize=3, color='red')\n",
    "    for road in roads:\n",
    "        plt.plot(road.xy[0], road.xy[1], color='blue', linewidth=0.4)\n",
    "    plt.axes().set_aspect('equal')"
   ]
  },
  {
   "cell_type": "code",
   "execution_count": 97,
   "metadata": {},
   "outputs": [
    {
     "data": {
      "image/png": "[encoded data removed]",
      "text/plain": [
       "<matplotlib.figure.Figure at 0x7f452615ffd0>"
      ]
     },
     "metadata": {},
     "output_type": "display_data"
    }
   ],
   "source": [
    "plot_country(country, cities, roads)"
   ]
  },
  {
   "cell_type": "markdown",
   "metadata": {
    "collapsed": true
   },
   "source": [
    "## Affine transformations"
   ]
  },
  {
   "cell_type": "markdown",
   "metadata": {},
   "source": [
    "Import modules."
   ]
  },
  {
   "cell_type": "code",
   "execution_count": 64,
   "metadata": {
    "collapsed": true
   },
   "outputs": [],
   "source": [
    "from math import cos, sin, pi\n",
    "import matplotlib.pyplot as plt\n",
    "from shapely import affinity\n",
    "from shapely.geometry import Point, Polygon\n",
    "%matplotlib inline"
   ]
  },
  {
   "cell_type": "markdown",
   "metadata": {},
   "source": [
    "Define a function to plot a polygon."
   ]
  },
  {
   "cell_type": "code",
   "execution_count": 48,
   "metadata": {
    "collapsed": true
   },
   "outputs": [],
   "source": [
    "def plot_polygons(*polygons):\n",
    "    plt.xlim(-10.0, 10.0)\n",
    "    plt.ylim(-10.0, 10.0)\n",
    "    plt.grid()\n",
    "    plt.axes().set_aspect('equal')\n",
    "    for polygon in polygons:\n",
    "        boundary = polygon.boundary.xy\n",
    "        plt.plot(boundary[0], boundary[1])"
   ]
  },
  {
   "cell_type": "markdown",
   "metadata": {},
   "source": [
    "Create a rectangle to transform."
   ]
  },
  {
   "cell_type": "code",
   "execution_count": 49,
   "metadata": {},
   "outputs": [
    {
     "data": {
      "image/png": "[encoded data removed]",
      "text/plain": [
       "<matplotlib.figure.Figure at 0x7f545f4dd400>"
      ]
     },
     "metadata": {},
     "output_type": "display_data"
    }
   ],
   "source": [
    "rectangle = Polygon([(0.0, 0.0), (0.0, 2.0), (3.0, 2.0), (3.0, 0.0)])\n",
    "plot_polygons(rectangle)"
   ]
  },
  {
   "cell_type": "markdown",
   "metadata": {},
   "source": [
    "Perform a rotation over 45 degrees."
   ]
  },
  {
   "cell_type": "code",
   "execution_count": 50,
   "metadata": {
    "scrolled": true
   },
   "outputs": [
    {
     "data": {
      "image/png": "[encoded data removed]",
      "text/plain": [
       "<matplotlib.figure.Figure at 0x7f545f4db7b8>"
      ]
     },
     "metadata": {},
     "output_type": "display_data"
    }
   ],
   "source": [
    "plot_polygons(rectangle, affinity.rotate(rectangle, 45))"
   ]
  },
  {
   "cell_type": "markdown",
   "metadata": {},
   "source": [
    "Or over $\\pi/4$ radians."
   ]
  },
  {
   "cell_type": "code",
   "execution_count": 51,
   "metadata": {},
   "outputs": [
    {
     "data": {
      "image/png": "[encoded data removed]",
      "text/plain": [
       "<matplotlib.figure.Figure at 0x7f545c5881d0>"
      ]
     },
     "metadata": {},
     "output_type": "display_data"
    }
   ],
   "source": [
    "plot_polygons(rectangle, affinity.rotate(rectangle, pi/4, use_radians=True))"
   ]
  },
  {
   "cell_type": "markdown",
   "metadata": {},
   "source": [
    "By default, the rotation's center is that of the shape to be rotated, however, it can be set explicitly."
   ]
  },
  {
   "cell_type": "code",
   "execution_count": 52,
   "metadata": {
    "scrolled": true
   },
   "outputs": [
    {
     "data": {
      "image/png": "[encoded data removed]",
      "text/plain": [
       "<matplotlib.figure.Figure at 0x7f545c2c64a8>"
      ]
     },
     "metadata": {},
     "output_type": "display_data"
    }
   ],
   "source": [
    "plot_polygons(rectangle, affinity.rotate(rectangle, 45, origin=(0.0, 0.0)))"
   ]
  },
  {
   "cell_type": "markdown",
   "metadata": {},
   "source": [
    "Scale the rectangle."
   ]
  },
  {
   "cell_type": "code",
   "execution_count": 53,
   "metadata": {},
   "outputs": [
    {
     "data": {
      "image/png": "[encoded data removed]",
      "text/plain": [
       "<matplotlib.figure.Figure at 0x7f545c4e1eb8>"
      ]
     },
     "metadata": {},
     "output_type": "display_data"
    }
   ],
   "source": [
    "plot_polygons(rectangle, affinity.scale(rectangle, 2.5, 2.5))"
   ]
  },
  {
   "cell_type": "markdown",
   "metadata": {},
   "source": [
    "Scale only along the $y$-axis."
   ]
  },
  {
   "cell_type": "code",
   "execution_count": 54,
   "metadata": {},
   "outputs": [
    {
     "data": {
      "image/png": "[encoded data removed]",
      "text/plain": [
       "<matplotlib.figure.Figure at 0x7f545c2507f0>"
      ]
     },
     "metadata": {},
     "output_type": "display_data"
    }
   ],
   "source": [
    "plot_polygons(rectangle, affinity.scale(rectangle, yfact=2.5))"
   ]
  },
  {
   "cell_type": "markdown",
   "metadata": {},
   "source": [
    "Skewing the rectangle in the $x$-direction."
   ]
  },
  {
   "cell_type": "code",
   "execution_count": 62,
   "metadata": {},
   "outputs": [
    {
     "data": {
      "image/png": "[encoded data removed]",
      "text/plain": [
       "<matplotlib.figure.Figure at 0x7f545c56dc88>"
      ]
     },
     "metadata": {},
     "output_type": "display_data"
    }
   ],
   "source": [
    "plot_polygons(rectangle, affinity.skew(rectangle, xs=30.0))"
   ]
  },
  {
   "cell_type": "markdown",
   "metadata": {},
   "source": [
    "Skewing in both $x$ and $y$ direction."
   ]
  },
  {
   "cell_type": "code",
   "execution_count": 63,
   "metadata": {},
   "outputs": [
    {
     "data": {
      "image/png": "[encoded data removed]",
      "text/plain": [
       "<matplotlib.figure.Figure at 0x7f545f4d4eb8>"
      ]
     },
     "metadata": {},
     "output_type": "display_data"
    }
   ],
   "source": [
    "plot_polygons(rectangle, affinity.skew(rectangle, xs=30.0, ys=30.0))"
   ]
  },
  {
   "cell_type": "markdown",
   "metadata": {},
   "source": [
    "Setting the origin explicitly for the skew."
   ]
  },
  {
   "cell_type": "code",
   "execution_count": 65,
   "metadata": {},
   "outputs": [
    {
     "data": {
      "image/png": "[encoded data removed]",
      "text/plain": [
       "<matplotlib.figure.Figure at 0x7f545c5be2e8>"
      ]
     },
     "metadata": {},
     "output_type": "display_data"
    }
   ],
   "source": [
    "plot_polygons(rectangle, affinity.skew(rectangle, xs=20.0, origin=Point((0.0, 0.0))))"
   ]
  }
 ],
 "metadata": {
  "kernelspec": {
   "display_name": "Python 3",
   "language": "python",
   "name": "python3"
  },
  "language_info": {
   "codemirror_mode": {
    "name": "ipython",
    "version": 3
   },
   "file_extension": ".py",
   "mimetype": "text/x-python",
   "name": "python",
   "nbconvert_exporter": "python",
   "pygments_lexer": "ipython3",
   "version": "3.5.4"
  }
 },
 "nbformat": 4,
 "nbformat_minor": 2
}
