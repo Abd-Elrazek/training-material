{
 "cells": [
  {
   "cell_type": "markdown",
   "metadata": {},
   "source": [
    "# GIS data processing"
   ]
  },
  {
   "cell_type": "markdown",
   "metadata": {},
   "source": [
    "## Shape files"
   ]
  },
  {
   "cell_type": "markdown",
   "metadata": {},
   "source": [
    "Load the required modules."
   ]
  },
  {
   "cell_type": "code",
   "execution_count": 1,
   "metadata": {
    "collapsed": true
   },
   "outputs": [],
   "source": [
    "from fiona import collection\n",
    "import matplotlib.pyplot as plt\n",
    "%matplotlib inline"
   ]
  },
  {
   "cell_type": "markdown",
   "metadata": {},
   "source": [
    "Create a fiona collection from the shape files."
   ]
  },
  {
   "cell_type": "code",
   "execution_count": 2,
   "metadata": {
    "collapsed": true
   },
   "outputs": [],
   "source": [
    "input = collection('Data/USA.gdb', 'r')"
   ]
  },
  {
   "cell_type": "markdown",
   "metadata": {},
   "source": [
    "Check the schema of the shape file."
   ]
  },
  {
   "cell_type": "code",
   "execution_count": 3,
   "metadata": {},
   "outputs": [
    {
     "data": {
      "text/plain": [
       "{'geometry': 'MultiPolygon',\n",
       " 'properties': OrderedDict([('NAME', 'str:110'),\n",
       "              ('COUNTRY', 'str:20'),\n",
       "              ('STATEABB', 'str:20'),\n",
       "              ('Shape_Length', 'float'),\n",
       "              ('Shape_Area', 'float'),\n",
       "              ('BORDER', 'int'),\n",
       "              ('REGION', 'str:20')])}"
      ]
     },
     "execution_count": 3,
     "metadata": {},
     "output_type": "execute_result"
    }
   ],
   "source": [
    "input.schema"
   ]
  },
  {
   "cell_type": "markdown",
   "metadata": {},
   "source": [
    "List the states in the US."
   ]
  },
  {
   "cell_type": "code",
   "execution_count": 4,
   "metadata": {},
   "outputs": [
    {
     "name": "stdout",
     "output_type": "stream",
     "text": [
      "number of states in US: 51\n",
      "states: Delaware, Washington, Texas, Maryland, Virginia, Maine, Colorado, New York, Alaska, Kentucky, Kansas, Indiana, Arkansas, Alabama, Hawaii, Utah, Montana, Nevada, Rhode Island, West Virginia, Missouri, California, District of Columbia, Michigan, New Hampshire, South Dakota, Idaho, Iowa, Mississippi, Illinois, Oregon, Nebraska, Minnesota, Connecticut, North Carolina, Florida, Pennsylvania, South Carolina, North Dakota, New Jersey, Vermont, Ohio, Tennessee, Georgia, Louisiana, New Mexico, Massachusetts, Oklahoma, Arizona, Wyoming, Wisconsin\n"
     ]
    }
   ],
   "source": [
    "states = set()\n",
    "for region in input:\n",
    "    states.add(region['properties']['NAME'])\n",
    "print('number of states in US: {0}'.format(len(states)))\n",
    "print('states: ', end='')\n",
    "print(*states, sep=', ')"
   ]
  },
  {
   "cell_type": "markdown",
   "metadata": {},
   "source": [
    "Define a function that will return the points that define the polygon for a region."
   ]
  },
  {
   "cell_type": "code",
   "execution_count": 5,
   "metadata": {
    "collapsed": true
   },
   "outputs": [],
   "source": [
    "def get_region(input, n):\n",
    "    return input[n]['geometry']['coordinates'][0][0]"
   ]
  },
  {
   "cell_type": "markdown",
   "metadata": {},
   "source": [
    "Plot all regions in the shapefile, this will be a map of the USA."
   ]
  },
  {
   "cell_type": "code",
   "execution_count": 6,
   "metadata": {},
   "outputs": [
    {
     "data": {
      "image/png": "[encoded data removed]",
      "text/plain": [
       "<matplotlib.figure.Figure at 0x7f7a8c4ea9b0>"
      ]
     },
     "metadata": {},
     "output_type": "display_data"
    }
   ],
   "source": [
    "plt.axes().set_aspect('equal')\n",
    "for i in input.keys():\n",
    "    region = get_region(input, i)\n",
    "    x = [x[0] for x in region]\n",
    "    y = [x[1] for x in region]\n",
    "    plt.plot(x, y, 'b', linewidth=0.3)"
   ]
  },
  {
   "cell_type": "markdown",
   "metadata": {},
   "source": [
    "The bounds of the entire USA are given by an attribute."
   ]
  },
  {
   "cell_type": "code",
   "execution_count": 7,
   "metadata": {},
   "outputs": [
    {
     "data": {
      "text/plain": [
       "(-179.13073424448964,\n",
       " 18.913788476756963,\n",
       " -66.98181454720344,\n",
       " 71.39842062001577)"
      ]
     },
     "execution_count": 7,
     "metadata": {},
     "output_type": "execute_result"
    }
   ],
   "source": [
    "input.bounds"
   ]
  },
  {
   "cell_type": "markdown",
   "metadata": {},
   "source": [
    "Define a function that plots the state with the given name."
   ]
  },
  {
   "cell_type": "code",
   "execution_count": 8,
   "metadata": {
    "collapsed": true
   },
   "outputs": [],
   "source": [
    "def plot_state(input, name):\n",
    "    plt.axes().set_aspect('equal')\n",
    "    for i in input.keys():\n",
    "        if input[i]['properties']['NAME'] == name:\n",
    "            region = get_region(input, i)\n",
    "            x = [t[0] for t in region]\n",
    "            y = [t[1] for t in region]\n",
    "            plt.plot(x, y, 'b', linewidth=0.7)"
   ]
  },
  {
   "cell_type": "markdown",
   "metadata": {},
   "source": [
    "Plot Florida's outline."
   ]
  },
  {
   "cell_type": "code",
   "execution_count": 9,
   "metadata": {},
   "outputs": [
    {
     "data": {
      "image/png": "[encoded data removed]",
      "text/plain": [
       "<matplotlib.figure.Figure at 0x7f7a894a4da0>"
      ]
     },
     "metadata": {},
     "output_type": "display_data"
    }
   ],
   "source": [
    "plot_state(input, 'Florida')"
   ]
  }
 ],
 "metadata": {
  "kernelspec": {
   "display_name": "Python 3",
   "language": "python",
   "name": "python3"
  },
  "language_info": {
   "codemirror_mode": {
    "name": "ipython",
    "version": 3
   },
   "file_extension": ".py",
   "mimetype": "text/x-python",
   "name": "python",
   "nbconvert_exporter": "python",
   "pygments_lexer": "ipython3",
   "version": "3.5.4"
  }
 },
 "nbformat": 4,
 "nbformat_minor": 2
}
