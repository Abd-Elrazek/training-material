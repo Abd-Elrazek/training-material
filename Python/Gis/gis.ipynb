{
 "cells": [
  {
   "cell_type": "markdown",
   "metadata": {},
   "source": [
    "# GIS data processing"
   ]
  },
  {
   "cell_type": "markdown",
   "metadata": {},
   "source": [
    "## Shape files"
   ]
  },
  {
   "cell_type": "markdown",
   "metadata": {},
   "source": [
    "Load the required modules."
   ]
  },
  {
   "cell_type": "code",
   "execution_count": 1,
   "metadata": {
    "collapsed": true
   },
   "outputs": [],
   "source": [
    "from fiona import collection\n",
    "import matplotlib.pyplot as plt\n",
    "%matplotlib inline"
   ]
  },
  {
   "cell_type": "markdown",
   "metadata": {},
   "source": [
    "Create a fiona collection from the shape files."
   ]
  },
  {
   "cell_type": "code",
   "execution_count": 2,
   "metadata": {
    "collapsed": true
   },
   "outputs": [],
   "source": [
    "input = collection('Data/USA.gdb', 'r')"
   ]
  },
  {
   "cell_type": "markdown",
   "metadata": {},
   "source": [
    "Check the schema of the shape file."
   ]
  },
  {
   "cell_type": "code",
   "execution_count": 3,
   "metadata": {},
   "outputs": [
    {
     "data": {
      "text/plain": [
       "{'geometry': 'MultiPolygon',\n",
       " 'properties': OrderedDict([('NAME', 'str:110'),\n",
       "              ('COUNTRY', 'str:20'),\n",
       "              ('STATEABB', 'str:20'),\n",
       "              ('Shape_Length', 'float'),\n",
       "              ('Shape_Area', 'float'),\n",
       "              ('BORDER', 'int'),\n",
       "              ('REGION', 'str:20')])}"
      ]
     },
     "execution_count": 3,
     "metadata": {},
     "output_type": "execute_result"
    }
   ],
   "source": [
    "input.schema"
   ]
  },
  {
   "cell_type": "markdown",
   "metadata": {},
   "source": [
    "List the states in the US."
   ]
  },
  {
   "cell_type": "code",
   "execution_count": 4,
   "metadata": {},
   "outputs": [
    {
     "name": "stdout",
     "output_type": "stream",
     "text": [
      "number of states in US: 51\n",
      "states: District of Columbia, Arizona, North Dakota, Washington, Iowa, Connecticut, North Carolina, Louisiana, Arkansas, Vermont, Wyoming, Tennessee, New Mexico, Virginia, Colorado, California, Rhode Island, Wisconsin, Utah, South Carolina, Ohio, Michigan, New Jersey, Alaska, Mississippi, Hawaii, Oklahoma, New Hampshire, West Virginia, Oregon, New York, Massachusetts, Maine, Minnesota, South Dakota, Alabama, Indiana, Nevada, Delaware, Georgia, Idaho, Nebraska, Kansas, Illinois, Florida, Kentucky, Pennsylvania, Texas, Missouri, Maryland, Montana\n"
     ]
    }
   ],
   "source": [
    "states = set()\n",
    "for region in input:\n",
    "    states.add(region['properties']['NAME'])\n",
    "print('number of states in US: {0}'.format(len(states)))\n",
    "print('states: ', end='')\n",
    "print(*states, sep=', ')"
   ]
  },
  {
   "cell_type": "markdown",
   "metadata": {},
   "source": [
    "Define a function that will return the points that define the polygon for a region."
   ]
  },
  {
   "cell_type": "code",
   "execution_count": 5,
   "metadata": {
    "collapsed": true
   },
   "outputs": [],
   "source": [
    "def get_region(input, n):\n",
    "    return input[n]['geometry']['coordinates'][0][0]"
   ]
  },
  {
   "cell_type": "markdown",
   "metadata": {},
   "source": [
    "Plot all regions in the shapefile, this will be a map of the USA."
   ]
  },
  {
   "cell_type": "code",
   "execution_count": 6,
   "metadata": {},
   "outputs": [
    {
     "data": {
      "image/png": "[encoded data removed]",
      "text/plain": [
       "<matplotlib.figure.Figure at 0x7fe547ea12b0>"
      ]
     },
     "metadata": {},
     "output_type": "display_data"
    }
   ],
   "source": [
    "plt.axes().set_aspect('equal')\n",
    "for i in input.keys():\n",
    "    region = get_region(input, i)\n",
    "    x = [x[0] for x in region]\n",
    "    y = [x[1] for x in region]\n",
    "    plt.plot(x, y, 'b', linewidth=0.3)"
   ]
  },
  {
   "cell_type": "markdown",
   "metadata": {},
   "source": [
    "The bounds of the entire USA are given by an attribute."
   ]
  },
  {
   "cell_type": "code",
   "execution_count": 7,
   "metadata": {},
   "outputs": [
    {
     "data": {
      "text/plain": [
       "(-179.13073424448964,\n",
       " 18.913788476756963,\n",
       " -66.98181454720344,\n",
       " 71.39842062001577)"
      ]
     },
     "execution_count": 7,
     "metadata": {},
     "output_type": "execute_result"
    }
   ],
   "source": [
    "input.bounds"
   ]
  },
  {
   "cell_type": "markdown",
   "metadata": {},
   "source": [
    "Define a function that plots the state with the given name."
   ]
  },
  {
   "cell_type": "code",
   "execution_count": 8,
   "metadata": {
    "collapsed": true
   },
   "outputs": [],
   "source": [
    "def plot_state(input, name):\n",
    "    plt.axes().set_aspect('equal')\n",
    "    for i in input.keys():\n",
    "        if input[i]['properties']['NAME'] == name:\n",
    "            region = get_region(input, i)\n",
    "            x = [t[0] for t in region]\n",
    "            y = [t[1] for t in region]\n",
    "            plt.plot(x, y, 'b', linewidth=0.7)"
   ]
  },
  {
   "cell_type": "markdown",
   "metadata": {},
   "source": [
    "Plot Florida's outline."
   ]
  },
  {
   "cell_type": "code",
   "execution_count": 9,
   "metadata": {},
   "outputs": [
    {
     "data": {
      "image/png": "[encoded data removed]",
      "text/plain": [
       "<matplotlib.figure.Figure at 0x7fe544e6dcc0>"
      ]
     },
     "metadata": {},
     "output_type": "display_data"
    }
   ],
   "source": [
    "plot_state(input, 'Florida')"
   ]
  },
  {
   "cell_type": "markdown",
   "metadata": {},
   "source": [
    "## Creating GIS data"
   ]
  },
  {
   "cell_type": "markdown",
   "metadata": {},
   "source": [
    "Load the required modules."
   ]
  },
  {
   "cell_type": "code",
   "execution_count": 10,
   "metadata": {
    "collapsed": true
   },
   "outputs": [],
   "source": [
    "from shapely.geometry import Point, LineString, MultiLineString, LinearRing, Polygon, MultiPolygon"
   ]
  },
  {
   "cell_type": "markdown",
   "metadata": {},
   "source": [
    "### Shapes and operations"
   ]
  },
  {
   "cell_type": "markdown",
   "metadata": {},
   "source": [
    "Create a simple polygon, represented as a `Polygon`.  This shape could also be represented as a `LinearRing`."
   ]
  },
  {
   "cell_type": "code",
   "execution_count": 11,
   "metadata": {
    "collapsed": true
   },
   "outputs": [],
   "source": [
    "polygon1 = Polygon([(1.0, 1.0), (1.0, 3.0), (3.0, 2.0), (3.0, 1.0)])"
   ]
  },
  {
   "cell_type": "code",
   "execution_count": 12,
   "metadata": {},
   "outputs": [
    {
     "data": {
      "image/svg+xml": [
       "<svg xmlns=\"http://www.w3.org/2000/svg\" xmlns:xlink=\"http://www.w3.org/1999/xlink\" width=\"100.0\" height=\"100.0\" viewBox=\"0.92 0.92 2.16 2.16\" preserveAspectRatio=\"xMinYMin meet\"><g transform=\"matrix(1,0,0,-1,0,4.0)\"><path fill-rule=\"evenodd\" fill=\"#66cc99\" stroke=\"#555555\" stroke-width=\"0.0432\" opacity=\"0.6\" d=\"M 1.0,1.0 L 1.0,3.0 L 3.0,2.0 L 3.0,1.0 L 1.0,1.0 z\" /></g></svg>"
      ],
      "text/plain": [
       "<shapely.geometry.polygon.Polygon at 0x7fe544c9b320>"
      ]
     },
     "execution_count": 12,
     "metadata": {},
     "output_type": "execute_result"
    }
   ],
   "source": [
    "polygon1"
   ]
  },
  {
   "cell_type": "code",
   "execution_count": 13,
   "metadata": {},
   "outputs": [
    {
     "data": {
      "text/plain": [
       "'POLYGON ((1 1, 1 3, 3 2, 3 1, 1 1))'"
      ]
     },
     "execution_count": 13,
     "metadata": {},
     "output_type": "execute_result"
    }
   ],
   "source": [
    "polygon1.wkt"
   ]
  },
  {
   "cell_type": "markdown",
   "metadata": {},
   "source": [
    "Create a second polygon with a hole."
   ]
  },
  {
   "cell_type": "code",
   "execution_count": 14,
   "metadata": {
    "collapsed": true
   },
   "outputs": [],
   "source": [
    "polygon2 = Polygon([(1.5, 1.5), (1.5, 4.0), (4.5, 3.0), (4.5, 1.0)],\n",
    "                   [[(2.0, 2.0), (2.5, 2.5), (2.8, 2.0)]])"
   ]
  },
  {
   "cell_type": "code",
   "execution_count": 15,
   "metadata": {},
   "outputs": [
    {
     "data": {
      "image/svg+xml": [
       "<svg xmlns=\"http://www.w3.org/2000/svg\" xmlns:xlink=\"http://www.w3.org/1999/xlink\" width=\"100.0\" height=\"100.0\" viewBox=\"1.38 0.88 3.24 3.24\" preserveAspectRatio=\"xMinYMin meet\"><g transform=\"matrix(1,0,0,-1,0,5.0)\"><path fill-rule=\"evenodd\" fill=\"#66cc99\" stroke=\"#555555\" stroke-width=\"0.06480000000000001\" opacity=\"0.6\" d=\"M 1.5,1.5 L 1.5,4.0 L 4.5,3.0 L 4.5,1.0 L 1.5,1.5 z M 2.0,2.0 L 2.5,2.5 L 2.8,2.0 L 2.0,2.0 z\" /></g></svg>"
      ],
      "text/plain": [
       "<shapely.geometry.polygon.Polygon at 0x7fe544c9b7b8>"
      ]
     },
     "execution_count": 15,
     "metadata": {},
     "output_type": "execute_result"
    }
   ],
   "source": [
    "polygon2"
   ]
  },
  {
   "cell_type": "markdown",
   "metadata": {},
   "source": [
    "Compute the area of the polygon."
   ]
  },
  {
   "cell_type": "code",
   "execution_count": 16,
   "metadata": {},
   "outputs": [
    {
     "data": {
      "text/plain": [
       "6.55"
      ]
     },
     "execution_count": 16,
     "metadata": {},
     "output_type": "execute_result"
    }
   ],
   "source": [
    "polygon2.area"
   ]
  },
  {
   "cell_type": "markdown",
   "metadata": {},
   "source": [
    "Compute the intersection between the two polygons."
   ]
  },
  {
   "cell_type": "code",
   "execution_count": 17,
   "metadata": {
    "collapsed": true
   },
   "outputs": [],
   "source": [
    "intersection = polygon1.intersection(polygon2)"
   ]
  },
  {
   "cell_type": "code",
   "execution_count": 18,
   "metadata": {},
   "outputs": [
    {
     "data": {
      "image/svg+xml": [
       "<svg xmlns=\"http://www.w3.org/2000/svg\" xmlns:xlink=\"http://www.w3.org/1999/xlink\" width=\"100.0\" height=\"100.0\" viewBox=\"1.44 1.19 1.62 1.62\" preserveAspectRatio=\"xMinYMin meet\"><g transform=\"matrix(1,0,0,-1,0,4.0)\"><path fill-rule=\"evenodd\" fill=\"#66cc99\" stroke=\"#555555\" stroke-width=\"0.032400000000000005\" opacity=\"0.6\" d=\"M 1.5,2.75 L 2.3333333333333335,2.3333333333333335 L 2.0,2.0 L 2.8,2.0 L 2.714285714285714,2.142857142857143 L 3.0,2.0 L 3.0,1.25 L 1.5,1.5 L 1.5,2.75 z\" /></g></svg>"
      ],
      "text/plain": [
       "<shapely.geometry.polygon.Polygon at 0x7fe544c9b7f0>"
      ]
     },
     "execution_count": 18,
     "metadata": {},
     "output_type": "execute_result"
    }
   ],
   "source": [
    "intersection"
   ]
  },
  {
   "cell_type": "code",
   "execution_count": 19,
   "metadata": {},
   "outputs": [
    {
     "data": {
      "text/plain": [
       "'POLYGON ((1.5 2.75, 2.333333333333333 2.333333333333333, 2 2, 2.8 2, 2.714285714285714 2.142857142857143, 3 2, 3 1.25, 1.5 1.5, 1.5 2.75))'"
      ]
     },
     "execution_count": 19,
     "metadata": {},
     "output_type": "execute_result"
    }
   ],
   "source": [
    "intersection.wkt"
   ]
  },
  {
   "cell_type": "markdown",
   "metadata": {},
   "source": [
    "Compute the union of the two polygons."
   ]
  },
  {
   "cell_type": "code",
   "execution_count": 20,
   "metadata": {
    "collapsed": true
   },
   "outputs": [],
   "source": [
    "union = polygon1.union(polygon2)"
   ]
  },
  {
   "cell_type": "code",
   "execution_count": 21,
   "metadata": {},
   "outputs": [
    {
     "data": {
      "image/svg+xml": [
       "<svg xmlns=\"http://www.w3.org/2000/svg\" xmlns:xlink=\"http://www.w3.org/1999/xlink\" width=\"100.0\" height=\"100.0\" viewBox=\"0.86 0.86 3.78 3.28\" preserveAspectRatio=\"xMinYMin meet\"><g transform=\"matrix(1,0,0,-1,0,5.0)\"><path fill-rule=\"evenodd\" fill=\"#66cc99\" stroke=\"#555555\" stroke-width=\"0.0756\" opacity=\"0.6\" d=\"M 1.0,1.0 L 1.0,3.0 L 1.5,2.75 L 1.5,4.0 L 4.5,3.0 L 4.5,1.0 L 3.0,1.25 L 3.0,1.0 L 1.0,1.0 z M 2.3333333333333335,2.3333333333333335 L 2.714285714285714,2.142857142857143 L 2.5,2.5 L 2.3333333333333335,2.3333333333333335 z\" /></g></svg>"
      ],
      "text/plain": [
       "<shapely.geometry.polygon.Polygon at 0x7fe544c9b438>"
      ]
     },
     "execution_count": 21,
     "metadata": {},
     "output_type": "execute_result"
    }
   ],
   "source": [
    "union"
   ]
  },
  {
   "cell_type": "code",
   "execution_count": 22,
   "metadata": {},
   "outputs": [
    {
     "data": {
      "text/plain": [
       "'POLYGON ((1 1, 1 3, 1.5 2.75, 1.5 4, 4.5 3, 4.5 1, 3 1.25, 3 1, 1 1), (2.333333333333333 2.333333333333333, 2.714285714285714 2.142857142857143, 2.5 2.5, 2.333333333333333 2.333333333333333))'"
      ]
     },
     "execution_count": 22,
     "metadata": {},
     "output_type": "execute_result"
    }
   ],
   "source": [
    "union.wkt"
   ]
  },
  {
   "cell_type": "markdown",
   "metadata": {},
   "source": [
    "Check whether the area of the union is the sum of the areas of the polygons minus the area of their intersection."
   ]
  },
  {
   "cell_type": "code",
   "execution_count": 23,
   "metadata": {},
   "outputs": [
    {
     "data": {
      "text/plain": [
       "8.202380952380953"
      ]
     },
     "execution_count": 23,
     "metadata": {},
     "output_type": "execute_result"
    }
   ],
   "source": [
    "polygon1.area + polygon2.area - intersection.area"
   ]
  },
  {
   "cell_type": "code",
   "execution_count": 24,
   "metadata": {},
   "outputs": [
    {
     "data": {
      "text/plain": [
       "8.202380952380953"
      ]
     },
     "execution_count": 24,
     "metadata": {},
     "output_type": "execute_result"
    }
   ],
   "source": [
    "union.area"
   ]
  },
  {
   "cell_type": "markdown",
   "metadata": {},
   "source": [
    "Create a point."
   ]
  },
  {
   "cell_type": "code",
   "execution_count": 25,
   "metadata": {
    "collapsed": true
   },
   "outputs": [],
   "source": [
    "point1 = Point((2.1, 2.1))"
   ]
  },
  {
   "cell_type": "markdown",
   "metadata": {},
   "source": [
    "Check whether the point lies within the first polygon."
   ]
  },
  {
   "cell_type": "code",
   "execution_count": 26,
   "metadata": {},
   "outputs": [
    {
     "data": {
      "text/plain": [
       "True"
      ]
     },
     "execution_count": 26,
     "metadata": {},
     "output_type": "execute_result"
    }
   ],
   "source": [
    "point1.within(polygon1)"
   ]
  },
  {
   "cell_type": "markdown",
   "metadata": {},
   "source": [
    "For the second polygon, the point is within the hole."
   ]
  },
  {
   "cell_type": "code",
   "execution_count": 27,
   "metadata": {},
   "outputs": [
    {
     "data": {
      "text/plain": [
       "False"
      ]
     },
     "execution_count": 27,
     "metadata": {},
     "output_type": "execute_result"
    }
   ],
   "source": [
    "point1.within(polygon2)"
   ]
  },
  {
   "cell_type": "markdown",
   "metadata": {},
   "source": [
    "Create a horizontal line."
   ]
  },
  {
   "cell_type": "code",
   "execution_count": 28,
   "metadata": {
    "collapsed": true
   },
   "outputs": [],
   "source": [
    "line1 = LineString([(0.5, 2.1), (5.0, 2.1)])"
   ]
  },
  {
   "cell_type": "markdown",
   "metadata": {},
   "source": [
    "Compute the intersection between the line and the second polygon."
   ]
  },
  {
   "cell_type": "code",
   "execution_count": 29,
   "metadata": {},
   "outputs": [
    {
     "data": {
      "image/svg+xml": [
       "<svg xmlns=\"http://www.w3.org/2000/svg\" xmlns:xlink=\"http://www.w3.org/1999/xlink\" width=\"100.0\" height=\"100.0\" viewBox=\"1.38 1.98 3.24 0.2400000000000002\" preserveAspectRatio=\"xMinYMin meet\"><g transform=\"matrix(1,0,0,-1,0,4.2)\"><g><polyline fill=\"none\" stroke=\"#66cc99\" stroke-width=\"0.06480000000000001\" points=\"1.5,2.1 2.1,2.1\" opacity=\"0.8\" /><polyline fill=\"none\" stroke=\"#66cc99\" stroke-width=\"0.06480000000000001\" points=\"2.7399999999999998,2.1 4.5,2.1\" opacity=\"0.8\" /></g></g></svg>"
      ],
      "text/plain": [
       "<shapely.geometry.multilinestring.MultiLineString at 0x7fe544c9ba20>"
      ]
     },
     "execution_count": 29,
     "metadata": {},
     "output_type": "execute_result"
    }
   ],
   "source": [
    "line2 = polygon2.intersection(line1)\n",
    "line2"
   ]
  },
  {
   "cell_type": "code",
   "execution_count": 30,
   "metadata": {},
   "outputs": [
    {
     "data": {
      "text/plain": [
       "(array('d', [1.5, 2.1]), array('d', [2.1, 2.1]))"
      ]
     },
     "execution_count": 30,
     "metadata": {},
     "output_type": "execute_result"
    }
   ],
   "source": [
    "line2[0].coords.xy"
   ]
  },
  {
   "cell_type": "code",
   "execution_count": 31,
   "metadata": {},
   "outputs": [
    {
     "data": {
      "text/plain": [
       "(array('d', [2.7399999999999998, 4.5]), array('d', [2.1, 2.1]))"
      ]
     },
     "execution_count": 31,
     "metadata": {},
     "output_type": "execute_result"
    }
   ],
   "source": [
    "line2[1].coords.xy"
   ]
  },
  {
   "cell_type": "code",
   "execution_count": 32,
   "metadata": {},
   "outputs": [
    {
     "data": {
      "text/plain": [
       "shapely.geometry.multilinestring.MultiLineString"
      ]
     },
     "execution_count": 32,
     "metadata": {},
     "output_type": "execute_result"
    }
   ],
   "source": [
    "type(line2)"
   ]
  },
  {
   "cell_type": "markdown",
   "metadata": {},
   "source": [
    "Check whether the line intersects with the first polygon."
   ]
  },
  {
   "cell_type": "code",
   "execution_count": 33,
   "metadata": {},
   "outputs": [
    {
     "data": {
      "text/plain": [
       "True"
      ]
     },
     "execution_count": 33,
     "metadata": {},
     "output_type": "execute_result"
    }
   ],
   "source": [
    "line1.intersects(polygon1)"
   ]
  },
  {
   "cell_type": "markdown",
   "metadata": {},
   "source": [
    "A line can be turned into an object with a finite width by creating a buffer around it of the specifie size. The result is a `Polygon`."
   ]
  },
  {
   "cell_type": "code",
   "execution_count": 34,
   "metadata": {
    "collapsed": true
   },
   "outputs": [],
   "source": [
    "buffer1 = line1.buffer(0.001)"
   ]
  },
  {
   "cell_type": "code",
   "execution_count": 35,
   "metadata": {
    "scrolled": true
   },
   "outputs": [
    {
     "data": {
      "image/svg+xml": [
       "<svg xmlns=\"http://www.w3.org/2000/svg\" xmlns:xlink=\"http://www.w3.org/1999/xlink\" width=\"100.0\" height=\"100.0\" viewBox=\"0.31892 1.9189200000000002 4.86216 0.36216000000000004\" preserveAspectRatio=\"xMinYMin meet\"><g transform=\"matrix(1,0,0,-1,0,4.2)\"><path fill-rule=\"evenodd\" fill=\"#66cc99\" stroke=\"#555555\" stroke-width=\"0.0972432\" opacity=\"0.6\" d=\"M 5.0,2.101 L 5.0000980171403295,2.1009951847266723 L 5.000195090322016,2.100980785280403 L 5.000290284677255,2.1009569403357324 L 5.000382683432365,2.1009238795325116 L 5.000471396736826,2.1008819212643486 L 5.000555570233019,2.1008314696123027 L 5.000634393284163,2.100773010453363 L 5.000707106781187,2.1007071067811864 L 5.000773010453362,2.100634393284164 L 5.000831469612303,2.10055557023302 L 5.000881921264348,2.1004713967368263 L 5.000923879532511,2.100382683432365 L 5.000956940335732,2.1002902846772544 L 5.000980785280404,2.1001950903220163 L 5.000995184726672,2.1000980171403296 L 5.001,2.1 L 5.000995184726672,2.0999019828596706 L 5.000980785280404,2.099804909677984 L 5.000956940335732,2.0997097153227458 L 5.000923879532511,2.099617316567635 L 5.000881921264348,2.099528603263174 L 5.000831469612303,2.0994444297669803 L 5.000773010453362,2.0993656067158364 L 5.000707106781187,2.0992928932188137 L 5.000634393284163,2.0992269895466373 L 5.000555570233019,2.0991685303876975 L 5.000471396736826,2.0991180787356516 L 5.000382683432365,2.0990761204674886 L 5.000290284677255,2.0990430596642677 L 5.000195090322016,2.099019214719597 L 5.0000980171403295,2.099004815273328 L 5.0,2.099 L 0.5,2.099 L 0.4999019828596704,2.099004815273328 L 0.49980490967798386,2.099019214719597 L 0.49970971532274555,2.0990430596642677 L 0.4996173165676349,2.0990761204674886 L 0.499528603263174,2.0991180787356516 L 0.4994444297669804,2.0991685303876975 L 0.49936560671583635,2.0992269895466373 L 0.4992928932188134,2.0992928932188137 L 0.49922698954663725,2.0993656067158364 L 0.49916853038769743,2.0994444297669803 L 0.49911807873565167,2.099528603263174 L 0.4990761204674887,2.099617316567635 L 0.4990430596642678,2.0997097153227458 L 0.49901921471959676,2.099804909677984 L 0.4990048152733278,2.0999019828596706 L 0.499,2.1 L 0.4990048152733278,2.1000980171403296 L 0.49901921471959676,2.1001950903220163 L 0.4990430596642678,2.1002902846772544 L 0.4990761204674887,2.100382683432365 L 0.49911807873565167,2.1004713967368263 L 0.49916853038769743,2.10055557023302 L 0.49922698954663725,2.100634393284164 L 0.4992928932188134,2.1007071067811864 L 0.49936560671583635,2.100773010453363 L 0.4994444297669804,2.1008314696123027 L 0.499528603263174,2.1008819212643486 L 0.4996173165676349,2.1009238795325116 L 0.49970971532274555,2.1009569403357324 L 0.49980490967798386,2.100980785280403 L 0.4999019828596704,2.1009951847266723 L 0.5,2.101 L 5.0,2.101 z\" /></g></svg>"
      ],
      "text/plain": [
       "<shapely.geometry.polygon.Polygon at 0x7fe544c9bd30>"
      ]
     },
     "execution_count": 35,
     "metadata": {},
     "output_type": "execute_result"
    }
   ],
   "source": [
    "buffer1"
   ]
  },
  {
   "cell_type": "code",
   "execution_count": 36,
   "metadata": {},
   "outputs": [
    {
     "data": {
      "text/plain": [
       "'POLYGON ((5 2.101, 5.00009801714033 2.100995184726672, 5.000195090322016 2.100980785280403, 5.000290284677255 2.100956940335732, 5.000382683432365 2.100923879532512, 5.000471396736826 2.100881921264349, 5.000555570233019 2.100831469612303, 5.000634393284163 2.100773010453363, 5.000707106781187 2.100707106781186, 5.000773010453362 2.100634393284164, 5.000831469612303 2.10055557023302, 5.000881921264348 2.100471396736826, 5.000923879532511 2.100382683432365, 5.000956940335732 2.100290284677254, 5.000980785280404 2.100195090322016, 5.000995184726672 2.10009801714033, 5.001 2.1, 5.000995184726672 2.099901982859671, 5.000980785280404 2.099804909677984, 5.000956940335732 2.099709715322746, 5.000923879532511 2.099617316567635, 5.000881921264348 2.099528603263174, 5.000831469612303 2.09944442976698, 5.000773010453362 2.099365606715836, 5.000707106781187 2.099292893218814, 5.000634393284163 2.099226989546637, 5.000555570233019 2.099168530387697, 5.000471396736826 2.099118078735652, 5.000382683432365 2.099076120467489, 5.000290284677255 2.099043059664268, 5.000195090322016 2.099019214719597, 5.00009801714033 2.099004815273328, 5 2.099, 0.5 2.099, 0.4999019828596704 2.099004815273328, 0.4998049096779839 2.099019214719597, 0.4997097153227456 2.099043059664268, 0.4996173165676349 2.099076120467489, 0.499528603263174 2.099118078735652, 0.4994444297669804 2.099168530387697, 0.4993656067158364 2.099226989546637, 0.4992928932188134 2.099292893218814, 0.4992269895466372 2.099365606715836, 0.4991685303876974 2.09944442976698, 0.4991180787356517 2.099528603263174, 0.4990761204674887 2.099617316567635, 0.4990430596642678 2.099709715322746, 0.4990192147195968 2.099804909677984, 0.4990048152733278 2.099901982859671, 0.499 2.1, 0.4990048152733278 2.10009801714033, 0.4990192147195968 2.100195090322016, 0.4990430596642678 2.100290284677254, 0.4990761204674887 2.100382683432365, 0.4991180787356517 2.100471396736826, 0.4991685303876974 2.10055557023302, 0.4992269895466372 2.100634393284164, 0.4992928932188134 2.100707106781186, 0.4993656067158364 2.100773010453363, 0.4994444297669804 2.100831469612303, 0.499528603263174 2.100881921264349, 0.4996173165676349 2.100923879532512, 0.4997097153227456 2.100956940335732, 0.4998049096779839 2.100980785280403, 0.4999019828596704 2.100995184726672, 0.5 2.101, 5 2.101))'"
      ]
     },
     "execution_count": 36,
     "metadata": {},
     "output_type": "execute_result"
    }
   ],
   "source": [
    "buffer1.wkt"
   ]
  },
  {
   "cell_type": "markdown",
   "metadata": {},
   "source": [
    "Create two lines, and a `MultiLineString` out of them."
   ]
  },
  {
   "cell_type": "code",
   "execution_count": 37,
   "metadata": {},
   "outputs": [
    {
     "data": {
      "image/svg+xml": [
       "<svg xmlns=\"http://www.w3.org/2000/svg\" xmlns:xlink=\"http://www.w3.org/1999/xlink\" width=\"100.0\" height=\"100.0\" viewBox=\"-0.08 -0.08 2.16 1.1600000000000001\" preserveAspectRatio=\"xMinYMin meet\"><g transform=\"matrix(1,0,0,-1,0,1.0)\"><polyline fill=\"none\" stroke=\"#66cc99\" stroke-width=\"0.0432\" points=\"0.0,0.0 1.0,1.0 2.0,0.5\" opacity=\"0.8\" /></g></svg>"
      ],
      "text/plain": [
       "<shapely.geometry.linestring.LineString at 0x7fe544ca1278>"
      ]
     },
     "execution_count": 37,
     "metadata": {},
     "output_type": "execute_result"
    }
   ],
   "source": [
    "line3 = LineString([(0.0, 0.0), (1.0, 1.0), (2.0, 0.5)])\n",
    "line3"
   ]
  },
  {
   "cell_type": "code",
   "execution_count": 38,
   "metadata": {},
   "outputs": [
    {
     "data": {
      "image/svg+xml": [
       "<svg xmlns=\"http://www.w3.org/2000/svg\" xmlns:xlink=\"http://www.w3.org/1999/xlink\" width=\"100.0\" height=\"100.0\" viewBox=\"-0.58 -0.08 2.16 0.6599999999999999\" preserveAspectRatio=\"xMinYMin meet\"><g transform=\"matrix(1,0,0,-1,0,0.49999999999999994)\"><polyline fill=\"none\" stroke=\"#66cc99\" stroke-width=\"0.0432\" points=\"1.5,0.5 -0.5,0.5 -0.5,0.0\" opacity=\"0.8\" /></g></svg>"
      ],
      "text/plain": [
       "<shapely.geometry.linestring.LineString at 0x7fe544ca13c8>"
      ]
     },
     "execution_count": 38,
     "metadata": {},
     "output_type": "execute_result"
    }
   ],
   "source": [
    "line4 = LineString([(1.5, 0.5), (-0.5, 0.5), (-0.5, 0.0)])\n",
    "line4"
   ]
  },
  {
   "cell_type": "code",
   "execution_count": 39,
   "metadata": {},
   "outputs": [
    {
     "data": {
      "image/svg+xml": [
       "<svg xmlns=\"http://www.w3.org/2000/svg\" xmlns:xlink=\"http://www.w3.org/1999/xlink\" width=\"100.0\" height=\"100.0\" viewBox=\"-0.6 -0.1 2.7 1.2000000000000002\" preserveAspectRatio=\"xMinYMin meet\"><g transform=\"matrix(1,0,0,-1,0,1.0)\"><g><polyline fill=\"none\" stroke=\"#66cc99\" stroke-width=\"0.054000000000000006\" points=\"0.0,0.0 1.0,1.0 2.0,0.5\" opacity=\"0.8\" /><polyline fill=\"none\" stroke=\"#66cc99\" stroke-width=\"0.054000000000000006\" points=\"1.5,0.5 -0.5,0.5 -0.5,0.0\" opacity=\"0.8\" /></g></g></svg>"
      ],
      "text/plain": [
       "<shapely.geometry.multilinestring.MultiLineString at 0x7fe544ca1208>"
      ]
     },
     "execution_count": 39,
     "metadata": {},
     "output_type": "execute_result"
    }
   ],
   "source": [
    "mline = MultiLineString([line3, line4])\n",
    "mline"
   ]
  },
  {
   "cell_type": "markdown",
   "metadata": {},
   "source": [
    "### Predicates"
   ]
  },
  {
   "cell_type": "markdown",
   "metadata": {},
   "source": [
    "Create an invalid `LinearRing`."
   ]
  },
  {
   "cell_type": "code",
   "execution_count": 40,
   "metadata": {},
   "outputs": [],
   "source": [
    "ring = LinearRing([(0.0, 0.0), (1.0, 1.0), (2.0, 0.5), (0.0, 0.5)])"
   ]
  },
  {
   "cell_type": "code",
   "execution_count": 41,
   "metadata": {},
   "outputs": [
    {
     "name": "stderr",
     "output_type": "stream",
     "text": [
      "Ring Self-intersection at or near point 0.5 0.5\n"
     ]
    },
    {
     "data": {
      "text/plain": [
       "False"
      ]
     },
     "execution_count": 41,
     "metadata": {},
     "output_type": "execute_result"
    }
   ],
   "source": [
    "ring.is_valid"
   ]
  },
  {
   "cell_type": "markdown",
   "metadata": {},
   "source": [
    "Create a `Polygon` with a hole and check the semantics of contains."
   ]
  },
  {
   "cell_type": "code",
   "execution_count": 45,
   "metadata": {
    "scrolled": true
   },
   "outputs": [
    {
     "data": {
      "image/svg+xml": [
       "<svg xmlns=\"http://www.w3.org/2000/svg\" xmlns:xlink=\"http://www.w3.org/1999/xlink\" width=\"100.0\" height=\"100.0\" viewBox=\"-3.24 -3.24 6.48 6.48\" preserveAspectRatio=\"xMinYMin meet\"><g transform=\"matrix(1,0,0,-1,0,0.0)\"><path fill-rule=\"evenodd\" fill=\"#66cc99\" stroke=\"#555555\" stroke-width=\"0.12960000000000002\" opacity=\"0.6\" d=\"M -3.0,-3.0 L -3.0,3.0 L 3.0,3.0 L 3.0,-3.0 L -3.0,-3.0 z M -1.0,-1.0 L -1.0,1.0 L 1.0,1.0 L 1.0,-1.0 L -1.0,-1.0 z\" /></g></svg>"
      ],
      "text/plain": [
       "<shapely.geometry.polygon.Polygon at 0x7fe544c3de48>"
      ]
     },
     "execution_count": 45,
     "metadata": {},
     "output_type": "execute_result"
    }
   ],
   "source": [
    "large_polygon = Polygon([(-3.0, -3.0), (-3.0, 3.0), (3.0, 3.0), (3.0, -3.0)],\n",
    "                        [[(-1.0, -1.0), (-1.0, 1.0), (1.0, 1.0), (1.0, -1.0)]])\n",
    "large_polygon"
   ]
  },
  {
   "cell_type": "code",
   "execution_count": 46,
   "metadata": {},
   "outputs": [
    {
     "data": {
      "image/svg+xml": [
       "<svg xmlns=\"http://www.w3.org/2000/svg\" xmlns:xlink=\"http://www.w3.org/1999/xlink\" width=\"100.0\" height=\"100.0\" viewBox=\"-2.16 -2.16 4.32 4.32\" preserveAspectRatio=\"xMinYMin meet\"><g transform=\"matrix(1,0,0,-1,0,0.0)\"><path fill-rule=\"evenodd\" fill=\"#66cc99\" stroke=\"#555555\" stroke-width=\"0.0864\" opacity=\"0.6\" d=\"M -2.0,-2.0 L -2.0,2.0 L 2.0,2.0 L 2.0,-2.0 L -2.0,-2.0 z\" /></g></svg>"
      ],
      "text/plain": [
       "<shapely.geometry.polygon.Polygon at 0x7fe544bd27f0>"
      ]
     },
     "execution_count": 46,
     "metadata": {},
     "output_type": "execute_result"
    }
   ],
   "source": [
    "small_polygon = Polygon([(-2.0, -2.0), (-2.0, 2.0), (2.0, 2.0), (2.0, -2.0)])\n",
    "small_polygon"
   ]
  },
  {
   "cell_type": "code",
   "execution_count": 47,
   "metadata": {},
   "outputs": [
    {
     "data": {
      "text/plain": [
       "False"
      ]
     },
     "execution_count": 47,
     "metadata": {},
     "output_type": "execute_result"
    }
   ],
   "source": [
    "large_polygon.contains(small_polygon)"
   ]
  },
  {
   "cell_type": "code",
   "execution_count": 48,
   "metadata": {},
   "outputs": [
    {
     "data": {
      "image/svg+xml": [
       "<svg xmlns=\"http://www.w3.org/2000/svg\" xmlns:xlink=\"http://www.w3.org/1999/xlink\" width=\"100.0\" height=\"100.0\" viewBox=\"-1.08 -1.08 2.16 2.16\" preserveAspectRatio=\"xMinYMin meet\"><g transform=\"matrix(1,0,0,-1,0,0.0)\"><path fill-rule=\"evenodd\" fill=\"#66cc99\" stroke=\"#555555\" stroke-width=\"0.0432\" opacity=\"0.6\" d=\"M -1.0,-1.0 L -1.0,1.0 L 1.0,1.0 L 1.0,-1.0 L -1.0,-1.0 z\" /></g></svg>"
      ],
      "text/plain": [
       "<shapely.geometry.polygon.Polygon at 0x7fe544b19128>"
      ]
     },
     "execution_count": 48,
     "metadata": {},
     "output_type": "execute_result"
    }
   ],
   "source": [
    "smaller_polygon = Polygon([(-1.0, -1.0), (-1.0, 1.0), (1.0, 1.0), (1.0, -1.0)])\n",
    "smaller_polygon"
   ]
  },
  {
   "cell_type": "code",
   "execution_count": 49,
   "metadata": {},
   "outputs": [
    {
     "data": {
      "text/plain": [
       "True"
      ]
     },
     "execution_count": 49,
     "metadata": {},
     "output_type": "execute_result"
    }
   ],
   "source": [
    "small_polygon.contains(smaller_polygon)"
   ]
  },
  {
   "cell_type": "markdown",
   "metadata": {},
   "source": [
    "### Splitting a polygon"
   ]
  },
  {
   "cell_type": "markdown",
   "metadata": {},
   "source": [
    "The latter can be used to split a polygon along the line by computing the difference between the polygon and the buffer created out of the line.  The result is a `MultiPolygon`."
   ]
  },
  {
   "cell_type": "code",
   "execution_count": 50,
   "metadata": {
    "collapsed": true
   },
   "outputs": [],
   "source": [
    "split = polygon1.difference(buffer1)"
   ]
  },
  {
   "cell_type": "code",
   "execution_count": 51,
   "metadata": {},
   "outputs": [
    {
     "data": {
      "image/svg+xml": [
       "<svg xmlns=\"http://www.w3.org/2000/svg\" xmlns:xlink=\"http://www.w3.org/1999/xlink\" width=\"100.0\" height=\"100.0\" viewBox=\"0.92 0.92 2.16 2.16\" preserveAspectRatio=\"xMinYMin meet\"><g transform=\"matrix(1,0,0,-1,0,4.0)\"><g><path fill-rule=\"evenodd\" fill=\"#66cc99\" stroke=\"#555555\" stroke-width=\"0.0432\" opacity=\"0.6\" d=\"M 1.0,1.0 L 1.0,2.099 L 2.8019999999999996,2.099 L 3.0,2.0 L 3.0,1.0 L 1.0,1.0 z\" /><path fill-rule=\"evenodd\" fill=\"#66cc99\" stroke=\"#555555\" stroke-width=\"0.0432\" opacity=\"0.6\" d=\"M 1.0,2.101 L 1.0,3.0 L 2.798,2.101 L 1.0,2.101 z\" /></g></g></svg>"
      ],
      "text/plain": [
       "<shapely.geometry.multipolygon.MultiPolygon at 0x7fe544b20588>"
      ]
     },
     "execution_count": 51,
     "metadata": {},
     "output_type": "execute_result"
    }
   ],
   "source": [
    "split"
   ]
  },
  {
   "cell_type": "code",
   "execution_count": 52,
   "metadata": {},
   "outputs": [
    {
     "data": {
      "image/svg+xml": [
       "<svg xmlns=\"http://www.w3.org/2000/svg\" xmlns:xlink=\"http://www.w3.org/1999/xlink\" width=\"100.0\" height=\"100.0\" viewBox=\"0.92 0.92 2.16 1.2590000000000003\" preserveAspectRatio=\"xMinYMin meet\"><g transform=\"matrix(1,0,0,-1,0,3.099)\"><path fill-rule=\"evenodd\" fill=\"#66cc99\" stroke=\"#555555\" stroke-width=\"0.0432\" opacity=\"0.6\" d=\"M 1.0,1.0 L 1.0,2.099 L 2.8019999999999996,2.099 L 3.0,2.0 L 3.0,1.0 L 1.0,1.0 z\" /></g></svg>"
      ],
      "text/plain": [
       "<shapely.geometry.polygon.Polygon at 0x7fe544b20e10>"
      ]
     },
     "execution_count": 52,
     "metadata": {},
     "output_type": "execute_result"
    }
   ],
   "source": [
    "split[0]"
   ]
  },
  {
   "cell_type": "code",
   "execution_count": 53,
   "metadata": {},
   "outputs": [
    {
     "data": {
      "image/svg+xml": [
       "<svg xmlns=\"http://www.w3.org/2000/svg\" xmlns:xlink=\"http://www.w3.org/1999/xlink\" width=\"100.0\" height=\"100.0\" viewBox=\"0.92808 2.02908 1.94184 1.04284\" preserveAspectRatio=\"xMinYMin meet\"><g transform=\"matrix(1,0,0,-1,0,5.101)\"><path fill-rule=\"evenodd\" fill=\"#66cc99\" stroke=\"#555555\" stroke-width=\"0.0388368\" opacity=\"0.6\" d=\"M 1.0,2.101 L 1.0,3.0 L 2.798,2.101 L 1.0,2.101 z\" /></g></svg>"
      ],
      "text/plain": [
       "<shapely.geometry.polygon.Polygon at 0x7fe544b20048>"
      ]
     },
     "execution_count": 53,
     "metadata": {},
     "output_type": "execute_result"
    }
   ],
   "source": [
    "split[1]"
   ]
  },
  {
   "cell_type": "markdown",
   "metadata": {},
   "source": [
    "### Creating a multi-polygon"
   ]
  },
  {
   "cell_type": "markdown",
   "metadata": {},
   "source": [
    "Create two polygons, and a new `MultiPolygon` containing them."
   ]
  },
  {
   "cell_type": "code",
   "execution_count": 54,
   "metadata": {},
   "outputs": [
    {
     "data": {
      "image/svg+xml": [
       "<svg xmlns=\"http://www.w3.org/2000/svg\" xmlns:xlink=\"http://www.w3.org/1999/xlink\" width=\"100.0\" height=\"100.0\" viewBox=\"0.92 0.92 1.1600000000000001 2.16\" preserveAspectRatio=\"xMinYMin meet\"><g transform=\"matrix(1,0,0,-1,0,4.0)\"><path fill-rule=\"evenodd\" fill=\"#66cc99\" stroke=\"#555555\" stroke-width=\"0.0432\" opacity=\"0.6\" d=\"M 1.0,1.0 L 1.0,3.0 L 2.0,2.0 L 2.0,1.0 L 1.0,1.0 z M 1.4,1.4 L 1.4,2.4 L 1.6,1.6 L 1.6,1.4 L 1.4,1.4 z\" /></g></svg>"
      ],
      "text/plain": [
       "<shapely.geometry.polygon.Polygon at 0x7fe544b23f60>"
      ]
     },
     "execution_count": 54,
     "metadata": {},
     "output_type": "execute_result"
    }
   ],
   "source": [
    "polygon3 = Polygon([(1.0, 1.0), (1.0, 3.0), (2.0, 2.0), (2.0, 1.0)],\n",
    "                   [[(1.4, 1.4), (1.4, 2.4), (1.6, 1.6), (1.6, 1.4)]])\n",
    "polygon3"
   ]
  },
  {
   "cell_type": "code",
   "execution_count": 55,
   "metadata": {
    "collapsed": true
   },
   "outputs": [],
   "source": [
    "line4_outer = LinearRing([(3.0, 2.0), (3.0, 5.0), (6.0, 5.0), (6.0, 2.0)])"
   ]
  },
  {
   "cell_type": "code",
   "execution_count": 56,
   "metadata": {
    "collapsed": true
   },
   "outputs": [],
   "source": [
    "line4_inner1 = LinearRing([(3.5, 2.5), (3.5, 4.5), (4.5, 4.5), (4.5, 2.5)])"
   ]
  },
  {
   "cell_type": "code",
   "execution_count": 57,
   "metadata": {
    "collapsed": true
   },
   "outputs": [],
   "source": [
    "line4_inner2 = LinearRing([(5.0, 2.5), (5.0, 4.5), (5.5, 4.5), (5.5, 2.5)])"
   ]
  },
  {
   "cell_type": "code",
   "execution_count": 58,
   "metadata": {
    "collapsed": true
   },
   "outputs": [],
   "source": [
    "polygon4 = Polygon(line4_outer, [line4_inner1, line4_inner2])"
   ]
  },
  {
   "cell_type": "code",
   "execution_count": 59,
   "metadata": {},
   "outputs": [
    {
     "data": {
      "image/svg+xml": [
       "<svg xmlns=\"http://www.w3.org/2000/svg\" xmlns:xlink=\"http://www.w3.org/1999/xlink\" width=\"100.0\" height=\"100.0\" viewBox=\"2.88 1.88 3.24 3.24\" preserveAspectRatio=\"xMinYMin meet\"><g transform=\"matrix(1,0,0,-1,0,7.0)\"><path fill-rule=\"evenodd\" fill=\"#66cc99\" stroke=\"#555555\" stroke-width=\"0.06480000000000001\" opacity=\"0.6\" d=\"M 3.0,2.0 L 3.0,5.0 L 6.0,5.0 L 6.0,2.0 L 3.0,2.0 z M 3.5,2.5 L 3.5,4.5 L 4.5,4.5 L 4.5,2.5 L 3.5,2.5 z M 5.0,2.5 L 5.0,4.5 L 5.5,4.5 L 5.5,2.5 L 5.0,2.5 z\" /></g></svg>"
      ],
      "text/plain": [
       "<shapely.geometry.polygon.Polygon at 0x7fe544b231d0>"
      ]
     },
     "execution_count": 59,
     "metadata": {},
     "output_type": "execute_result"
    }
   ],
   "source": [
    "polygon4"
   ]
  },
  {
   "cell_type": "code",
   "execution_count": 60,
   "metadata": {
    "collapsed": true
   },
   "outputs": [],
   "source": [
    "multi_polygon = MultiPolygon([polygon3, polygon4])"
   ]
  },
  {
   "cell_type": "code",
   "execution_count": 61,
   "metadata": {},
   "outputs": [
    {
     "data": {
      "image/svg+xml": [
       "<svg xmlns=\"http://www.w3.org/2000/svg\" xmlns:xlink=\"http://www.w3.org/1999/xlink\" width=\"100.0\" height=\"100.0\" viewBox=\"0.8 0.8 5.4 4.4\" preserveAspectRatio=\"xMinYMin meet\"><g transform=\"matrix(1,0,0,-1,0,6.0)\"><g><path fill-rule=\"evenodd\" fill=\"#66cc99\" stroke=\"#555555\" stroke-width=\"0.10800000000000001\" opacity=\"0.6\" d=\"M 1.0,1.0 L 1.0,3.0 L 2.0,2.0 L 2.0,1.0 L 1.0,1.0 z M 1.4,1.4 L 1.4,2.4 L 1.6,1.6 L 1.6,1.4 L 1.4,1.4 z\" /><path fill-rule=\"evenodd\" fill=\"#66cc99\" stroke=\"#555555\" stroke-width=\"0.10800000000000001\" opacity=\"0.6\" d=\"M 3.0,2.0 L 3.0,5.0 L 6.0,5.0 L 6.0,2.0 L 3.0,2.0 z M 3.5,2.5 L 3.5,4.5 L 4.5,4.5 L 4.5,2.5 L 3.5,2.5 z M 5.0,2.5 L 5.0,4.5 L 5.5,4.5 L 5.5,2.5 L 5.0,2.5 z\" /></g></g></svg>"
      ],
      "text/plain": [
       "<shapely.geometry.multipolygon.MultiPolygon at 0x7fe544b23940>"
      ]
     },
     "execution_count": 61,
     "metadata": {},
     "output_type": "execute_result"
    }
   ],
   "source": [
    "multi_polygon"
   ]
  },
  {
   "cell_type": "markdown",
   "metadata": {},
   "source": [
    "### Interpolation"
   ]
  },
  {
   "cell_type": "markdown",
   "metadata": {},
   "source": [
    "Create a line out of two points, and use interpolation to tet a point on that line at a specified distance from the first."
   ]
  },
  {
   "cell_type": "code",
   "execution_count": 62,
   "metadata": {
    "collapsed": true
   },
   "outputs": [],
   "source": [
    "point1 = Point((1.0, 1.0))\n",
    "point2 = Point((3.0, 3.0))\n",
    "line12 = LineString([point1, point2])"
   ]
  },
  {
   "cell_type": "code",
   "execution_count": 63,
   "metadata": {
    "collapsed": true
   },
   "outputs": [],
   "source": [
    "point3 = line12.interpolate(1.0)"
   ]
  },
  {
   "cell_type": "markdown",
   "metadata": {},
   "source": [
    "Verify that the distance between the first and the new point is 1."
   ]
  },
  {
   "cell_type": "code",
   "execution_count": 64,
   "metadata": {},
   "outputs": [
    {
     "data": {
      "text/plain": [
       "0.9999999999999999"
      ]
     },
     "execution_count": 64,
     "metadata": {},
     "output_type": "execute_result"
    }
   ],
   "source": [
    "point1.distance(point3)"
   ]
  },
  {
   "cell_type": "markdown",
   "metadata": {},
   "source": [
    "Check whether the new point is on the line defined by the first and second point."
   ]
  },
  {
   "cell_type": "code",
   "execution_count": 65,
   "metadata": {},
   "outputs": [
    {
     "data": {
      "text/plain": [
       "True"
      ]
     },
     "execution_count": 65,
     "metadata": {},
     "output_type": "execute_result"
    }
   ],
   "source": [
    "line12.contains(point3)"
   ]
  },
  {
   "cell_type": "code",
   "execution_count": 66,
   "metadata": {
    "collapsed": true
   },
   "outputs": [],
   "source": [
    "point4 = Point((3.1, 3.2))"
   ]
  },
  {
   "cell_type": "code",
   "execution_count": 67,
   "metadata": {},
   "outputs": [
    {
     "data": {
      "text/plain": [
       "False"
      ]
     },
     "execution_count": 67,
     "metadata": {},
     "output_type": "execute_result"
    }
   ],
   "source": [
    "line12.contains(point4)"
   ]
  },
  {
   "cell_type": "markdown",
   "metadata": {},
   "source": [
    "## Make your own coutnry"
   ]
  },
  {
   "cell_type": "markdown",
   "metadata": {},
   "source": [
    "Load the required modules."
   ]
  },
  {
   "cell_type": "code",
   "execution_count": 68,
   "metadata": {
    "collapsed": true
   },
   "outputs": [],
   "source": [
    "import matplotlib.pyplot as plt\n",
    "import numpy as np\n",
    "import random\n",
    "from shapely.geometry import Point, LinearRing, Polygon, LineString\n",
    "import string\n",
    "%matplotlib inline"
   ]
  },
  {
   "cell_type": "markdown",
   "metadata": {},
   "source": [
    "Create the country's border as a `LinearRing`."
   ]
  },
  {
   "cell_type": "code",
   "execution_count": 69,
   "metadata": {},
   "outputs": [
    {
     "data": {
      "image/svg+xml": [
       "<svg xmlns=\"http://www.w3.org/2000/svg\" xmlns:xlink=\"http://www.w3.org/1999/xlink\" width=\"223.6863978417578\" height=\"227.86229064615802\" viewBox=\"-108.88358989824486 -111.27258122387053 223.6863978417578 227.86229064615802\" preserveAspectRatio=\"xMinYMin meet\"><g transform=\"matrix(1,0,0,-1,0,5.3171281984169525)\"><polyline fill=\"none\" stroke=\"#66cc99\" stroke-width=\"2.0\" points=\"106.36346384550711,0.0 88.87257995852958,11.07831405013323 98.28013344890797,20.697534150669796 98.30213200479099,31.702970313478534 85.94849976836446,43.84820127823844 77.77088314723994,53.68495533398907 75.80471492571172,60.627149841672136 78.09501790446835,72.18994285478523 71.06900447164188,76.60941780518968 57.668043944923696,82.17897344200597 46.60479934307766,93.21940985342172 39.9582493890152,96.43970357211694 31.0418876126879,108.15036532428164 17.769780966587525,102.791374390072 8.664979160330322,99.70467558386245 -2.5824773653710755,108.08021676472711 -13.071407510766903,101.8533983596243 -22.89509096857717,97.51392199836596 -31.93273704587159,91.4162604620294 -41.757936661375396,82.15413881834903 -52.4634220340159,91.154113373655 -61.09676318436015,77.9125179587483 -68.32899267393012,66.35773554964652 -74.54052142933901,63.71277772059234 -88.98561801143497,55.093670632454945 -80.38028220405178,49.03318186779308 -94.55394459011012,34.83161540503217 -96.11923433847036,27.485157783693555 -92.55525223984078,16.094727273693938 -98.70378391053819,5.303522267365579 -100.44424580023902,-5.064281293543683 -98.17915500681626,-15.038676831935815 -100.41248975958698,-25.496410479233422 -97.97662497194995,-34.01457315802427 -89.59232434295036,-45.22638067826958 -79.27276349054296,-53.64651013446109 -77.44374364906811,-63.434845574026944 -67.68828878019097,-69.97650304320011 -60.17339709924844,-77.68985309883261 -55.0757996668889,-80.74599593988694 -44.00328422864489,-91.4412593076837 -31.36009430346781,-94.30176553784005 -25.09161461421248,-95.33727169260727 -13.195107112356501,-90.01251660049553 -2.868906290266441,-102.83323712586468 8.652533662290686,-95.14292706606598 18.25350630413913,-98.00834105293882 28.124985133808575,-95.97567469999849 39.576458628987346,-86.67506045623347 47.979557300307654,-85.5832500227886 62.31207574066223,-84.1965199674652 69.42842041163338,-70.68314571700813 72.89783978860709,-64.86892019463768 72.32535303905108,-61.163195041624164 80.23068266103546,-52.12214571778545 86.12229656955728,-41.158748262180076 97.64399959308867,-29.11971061293643 92.59897754204916,-20.83339275803158 101.73541252487338,-11.27082914932833 99.09545392536548,-2.409742244164098e-14 106.36346384550711,0.0\" opacity=\"0.8\" /></g></svg>"
      ],
      "text/plain": [
       "<shapely.geometry.polygon.LinearRing at 0x7fe544b25d68>"
      ]
     },
     "execution_count": 69,
     "metadata": {},
     "output_type": "execute_result"
    }
   ],
   "source": [
    "diameter = 100\n",
    "deviation = 5\n",
    "nr_points = 60\n",
    "x_center = 0.0\n",
    "y_center = 0.0\n",
    "theta = np.linspace(0.0, 2.0*np.pi, nr_points)\n",
    "x = x_center + np.random.normal(diameter, deviation, (len(theta), ))*np.cos(theta)\n",
    "y = y_center + np.random.normal(diameter, deviation, (len(theta), ))*np.sin(theta)\n",
    "country_border = LinearRing([t  for t  in zip(x, y)])\n",
    "country_border"
   ]
  },
  {
   "cell_type": "markdown",
   "metadata": {},
   "source": [
    "Reuse the code to create the lake border."
   ]
  },
  {
   "cell_type": "code",
   "execution_count": 70,
   "metadata": {},
   "outputs": [
    {
     "data": {
      "image/svg+xml": [
       "<svg xmlns=\"http://www.w3.org/2000/svg\" xmlns:xlink=\"http://www.w3.org/1999/xlink\" width=\"100.0\" height=\"100.0\" viewBox=\"8.496136785184476 -11.902829110639392 42.91636502172146 43.25544756138031\" preserveAspectRatio=\"xMinYMin meet\"><g transform=\"matrix(1,0,0,-1,0,19.449789340101525)\"><polyline fill=\"none\" stroke=\"#66cc99\" stroke-width=\"0.8651089512276061\" points=\"49.72150254463915,10.0 49.75794853440142,14.318911337256164 48.36493921918906,18.402462062021172 45.85826244469125,21.374175386066113 42.707061402345516,25.064375356829025 39.1124308738586,27.48230167182321 35.258284545212675,28.82749698036118 31.07703871029797,29.75056483735646 26.829267911913075,29.525285386994796 22.531424385934194,28.833267604849883 18.396051549088646,26.35313741265054 15.259589412311918,24.09954524198961 13.151204363555145,20.316577710324104 11.199649597877642,16.489363287191427 10.300292200412098,12.088607054353808 10.098190398568931,7.774756422067686 11.660779433246624,3.716885718000051 12.373074694836227,-0.6511363104796306 15.39634256461953,-3.468538825698536 18.68493496929704,-6.087330609524514 22.564328972636755,-9.025515676484495 26.913268628567273,-9.51883691308807 31.080584269937077,-10.300775497254936 35.60409118377514,-9.70480303133785 39.786001495865285,-7.689010140422184 42.18757747736187,-5.222954536018879 44.87367220072223,-2.069739799260031 47.6696174313281,1.269485237891388 49.43756507536334,5.784435735772584 49.81044819352148,9.999999999999995 49.72150254463915,10.0\" opacity=\"0.8\" /></g></svg>"
      ],
      "text/plain": [
       "<shapely.geometry.polygon.LinearRing at 0x7fe544b25208>"
      ]
     },
     "execution_count": 70,
     "metadata": {},
     "output_type": "execute_result"
    }
   ],
   "source": [
    "diameter = 20\n",
    "deviation = 0.5\n",
    "nr_points = 30\n",
    "x_center = 30.0\n",
    "y_center = 10.0\n",
    "theta = np.linspace(0.0, 2.0*np.pi, nr_points)\n",
    "x = x_center + np.random.normal(diameter, deviation, (len(theta), ))*np.cos(theta)\n",
    "y = y_center + np.random.normal(diameter, deviation, (len(theta), ))*np.sin(theta)\n",
    "lake_border = LinearRing([t  for t  in zip(x, y)])\n",
    "lake_border"
   ]
  },
  {
   "cell_type": "code",
   "execution_count": 71,
   "metadata": {},
   "outputs": [
    {
     "data": {
      "image/svg+xml": [
       "<svg xmlns=\"http://www.w3.org/2000/svg\" xmlns:xlink=\"http://www.w3.org/1999/xlink\" width=\"223.6863978417578\" height=\"227.86229064615802\" viewBox=\"-108.88358989824486 -111.27258122387053 223.6863978417578 227.86229064615802\" preserveAspectRatio=\"xMinYMin meet\"><g transform=\"matrix(1,0,0,-1,0,5.3171281984169525)\"><path fill-rule=\"evenodd\" fill=\"#66cc99\" stroke=\"#555555\" stroke-width=\"2.0\" opacity=\"0.6\" d=\"M 106.36346384550711,0.0 L 88.87257995852958,11.07831405013323 L 98.28013344890797,20.697534150669796 L 98.30213200479099,31.702970313478534 L 85.94849976836446,43.84820127823844 L 77.77088314723994,53.68495533398907 L 75.80471492571172,60.627149841672136 L 78.09501790446835,72.18994285478523 L 71.06900447164188,76.60941780518968 L 57.668043944923696,82.17897344200597 L 46.60479934307766,93.21940985342172 L 39.9582493890152,96.43970357211694 L 31.0418876126879,108.15036532428164 L 17.769780966587525,102.791374390072 L 8.664979160330322,99.70467558386245 L -2.5824773653710755,108.08021676472711 L -13.071407510766903,101.8533983596243 L -22.89509096857717,97.51392199836596 L -31.93273704587159,91.4162604620294 L -41.757936661375396,82.15413881834903 L -52.4634220340159,91.154113373655 L -61.09676318436015,77.9125179587483 L -68.32899267393012,66.35773554964652 L -74.54052142933901,63.71277772059234 L -88.98561801143497,55.093670632454945 L -80.38028220405178,49.03318186779308 L -94.55394459011012,34.83161540503217 L -96.11923433847036,27.485157783693555 L -92.55525223984078,16.094727273693938 L -98.70378391053819,5.303522267365579 L -100.44424580023902,-5.064281293543683 L -98.17915500681626,-15.038676831935815 L -100.41248975958698,-25.496410479233422 L -97.97662497194995,-34.01457315802427 L -89.59232434295036,-45.22638067826958 L -79.27276349054296,-53.64651013446109 L -77.44374364906811,-63.434845574026944 L -67.68828878019097,-69.97650304320011 L -60.17339709924844,-77.68985309883261 L -55.0757996668889,-80.74599593988694 L -44.00328422864489,-91.4412593076837 L -31.36009430346781,-94.30176553784005 L -25.09161461421248,-95.33727169260727 L -13.195107112356501,-90.01251660049553 L -2.868906290266441,-102.83323712586468 L 8.652533662290686,-95.14292706606598 L 18.25350630413913,-98.00834105293882 L 28.124985133808575,-95.97567469999849 L 39.576458628987346,-86.67506045623347 L 47.979557300307654,-85.5832500227886 L 62.31207574066223,-84.1965199674652 L 69.42842041163338,-70.68314571700813 L 72.89783978860709,-64.86892019463768 L 72.32535303905108,-61.163195041624164 L 80.23068266103546,-52.12214571778545 L 86.12229656955728,-41.158748262180076 L 97.64399959308867,-29.11971061293643 L 92.59897754204916,-20.83339275803158 L 101.73541252487338,-11.27082914932833 L 99.09545392536548,-2.409742244164098e-14 L 106.36346384550711,0.0 z M 49.72150254463915,10.0 L 49.75794853440142,14.318911337256164 L 48.36493921918906,18.402462062021172 L 45.85826244469125,21.374175386066113 L 42.707061402345516,25.064375356829025 L 39.1124308738586,27.48230167182321 L 35.258284545212675,28.82749698036118 L 31.07703871029797,29.75056483735646 L 26.829267911913075,29.525285386994796 L 22.531424385934194,28.833267604849883 L 18.396051549088646,26.35313741265054 L 15.259589412311918,24.09954524198961 L 13.151204363555145,20.316577710324104 L 11.199649597877642,16.489363287191427 L 10.300292200412098,12.088607054353808 L 10.098190398568931,7.774756422067686 L 11.660779433246624,3.716885718000051 L 12.373074694836227,-0.6511363104796306 L 15.39634256461953,-3.468538825698536 L 18.68493496929704,-6.087330609524514 L 22.564328972636755,-9.025515676484495 L 26.913268628567273,-9.51883691308807 L 31.080584269937077,-10.300775497254936 L 35.60409118377514,-9.70480303133785 L 39.786001495865285,-7.689010140422184 L 42.18757747736187,-5.222954536018879 L 44.87367220072223,-2.069739799260031 L 47.6696174313281,1.269485237891388 L 49.43756507536334,5.784435735772584 L 49.81044819352148,9.999999999999995 L 49.72150254463915,10.0 z\" /></g></svg>"
      ],
      "text/plain": [
       "<shapely.geometry.polygon.Polygon at 0x7fe544ba6b00>"
      ]
     },
     "execution_count": 71,
     "metadata": {},
     "output_type": "execute_result"
    }
   ],
   "source": [
    "country = Polygon(country_border, [lake_border])\n",
    "country"
   ]
  },
  {
   "cell_type": "markdown",
   "metadata": {},
   "source": [
    "Define a function to compute city names."
   ]
  },
  {
   "cell_type": "code",
   "execution_count": 72,
   "metadata": {
    "collapsed": true
   },
   "outputs": [],
   "source": [
    "def choose_name():\n",
    "    nr_char = random.randint(5, 10)\n",
    "    city_name = ''\n",
    "    for _ in range(nr_char):\n",
    "        city_name += random.choice(string.ascii_lowercase)\n",
    "    return city_name.capitalize()"
   ]
  },
  {
   "cell_type": "markdown",
   "metadata": {},
   "source": [
    "Create cities, ensuring that they are withint the country borders, and not in the lake, assign name and  population to each."
   ]
  },
  {
   "cell_type": "code",
   "execution_count": 73,
   "metadata": {
    "collapsed": true
   },
   "outputs": [],
   "source": [
    "bounds = country.bounds\n",
    "cities = list()\n",
    "nr_cities = 10\n",
    "while len(cities) < nr_cities:\n",
    "    x_pos = np.random.uniform(bounds[0], bounds[2])\n",
    "    y_pos = np.random.uniform(bounds[1], bounds[3])\n",
    "    city_point = Point((x_pos, y_pos))\n",
    "    if country.contains(city_point):\n",
    "        city_name = choose_name()\n",
    "        city_pop = random.randint(5000, 50000)\n",
    "        cities.append({'name': city_name, 'position': city_point, 'population': city_pop})"
   ]
  },
  {
   "cell_type": "markdown",
   "metadata": {
    "collapsed": true
   },
   "source": [
    "Create roads between cities, but only when they can be straight lines."
   ]
  },
  {
   "cell_type": "code",
   "execution_count": 74,
   "metadata": {
    "collapsed": true
   },
   "outputs": [],
   "source": [
    "roads = []\n",
    "for i, city1 in enumerate(cities):\n",
    "    for city2 in cities[i + 1:]:\n",
    "        road = LineString([city1['position'], city2['position']])\n",
    "        if country.contains(road):\n",
    "            roads.append(road)"
   ]
  },
  {
   "cell_type": "code",
   "execution_count": 75,
   "metadata": {},
   "outputs": [
    {
     "data": {
      "text/plain": [
       "41"
      ]
     },
     "execution_count": 75,
     "metadata": {},
     "output_type": "execute_result"
    }
   ],
   "source": [
    "len(roads)"
   ]
  },
  {
   "cell_type": "markdown",
   "metadata": {},
   "source": [
    "Define a function to plot the country, its cities and roads."
   ]
  },
  {
   "cell_type": "code",
   "execution_count": 76,
   "metadata": {
    "collapsed": true
   },
   "outputs": [],
   "source": [
    "def plot_country(country, cities, roads):\n",
    "    x_country, y_country = country.boundary[0].xy\n",
    "    plt.plot(x_country, y_country, color='black')\n",
    "    for lake_border in country.boundary[1:]:\n",
    "        x_lake, y_lake = lake_border.xy\n",
    "        plt.plot(x_lake, y_lake, color='black', linewidth=0.7)\n",
    "    for city in cities:\n",
    "        plt.plot(*city['position'].xy, marker='o', markersize=3, color='red')\n",
    "    for road in roads:\n",
    "        plt.plot(road.xy[0], road.xy[1], color='blue', linewidth=0.4)\n",
    "    plt.axes().set_aspect('equal')"
   ]
  },
  {
   "cell_type": "code",
   "execution_count": 77,
   "metadata": {},
   "outputs": [
    {
     "data": {
      "image/png": "[encoded data removed]",
      "text/plain": [
       "<matplotlib.figure.Figure at 0x7fe544b1e9e8>"
      ]
     },
     "metadata": {},
     "output_type": "display_data"
    }
   ],
   "source": [
    "plot_country(country, cities, roads)"
   ]
  },
  {
   "cell_type": "markdown",
   "metadata": {
    "collapsed": true
   },
   "source": [
    "## Affine transformations"
   ]
  },
  {
   "cell_type": "markdown",
   "metadata": {},
   "source": [
    "Import modules."
   ]
  },
  {
   "cell_type": "code",
   "execution_count": 78,
   "metadata": {
    "collapsed": true
   },
   "outputs": [],
   "source": [
    "from math import cos, sin, pi\n",
    "import matplotlib.pyplot as plt\n",
    "from shapely import affinity\n",
    "from shapely.geometry import Point, Polygon\n",
    "%matplotlib inline"
   ]
  },
  {
   "cell_type": "markdown",
   "metadata": {},
   "source": [
    "Define a function to plot a polygon."
   ]
  },
  {
   "cell_type": "code",
   "execution_count": 79,
   "metadata": {
    "collapsed": true
   },
   "outputs": [],
   "source": [
    "def plot_polygons(*polygons):\n",
    "    plt.xlim(-10.0, 10.0)\n",
    "    plt.ylim(-10.0, 10.0)\n",
    "    plt.grid()\n",
    "    plt.axes().set_aspect('equal')\n",
    "    for polygon in polygons:\n",
    "        boundary = polygon.boundary.xy\n",
    "        plt.plot(boundary[0], boundary[1])"
   ]
  },
  {
   "cell_type": "markdown",
   "metadata": {},
   "source": [
    "Create a rectangle to transform."
   ]
  },
  {
   "cell_type": "code",
   "execution_count": 80,
   "metadata": {},
   "outputs": [
    {
     "data": {
      "image/png": "[encoded data removed]",
      "text/plain": [
       "<matplotlib.figure.Figure at 0x7fe5449df470>"
      ]
     },
     "metadata": {},
     "output_type": "display_data"
    }
   ],
   "source": [
    "rectangle = Polygon([(0.0, 0.0), (0.0, 2.0), (3.0, 2.0), (3.0, 0.0)])\n",
    "plot_polygons(rectangle)"
   ]
  },
  {
   "cell_type": "markdown",
   "metadata": {},
   "source": [
    "Perform a rotation over 45 degrees."
   ]
  },
  {
   "cell_type": "code",
   "execution_count": 81,
   "metadata": {
    "scrolled": true
   },
   "outputs": [
    {
     "data": {
      "image/png": "[encoded data removed]",
      "text/plain": [
       "<matplotlib.figure.Figure at 0x7fe544aea7b8>"
      ]
     },
     "metadata": {},
     "output_type": "display_data"
    }
   ],
   "source": [
    "plot_polygons(rectangle, affinity.rotate(rectangle, 45))"
   ]
  },
  {
   "cell_type": "markdown",
   "metadata": {},
   "source": [
    "Or over $\\pi/4$ radians."
   ]
  },
  {
   "cell_type": "code",
   "execution_count": 82,
   "metadata": {},
   "outputs": [
    {
     "data": {
      "image/png": "[encoded data removed]",
      "text/plain": [
       "<matplotlib.figure.Figure at 0x7fe544bd9fd0>"
      ]
     },
     "metadata": {},
     "output_type": "display_data"
    }
   ],
   "source": [
    "plot_polygons(rectangle, affinity.rotate(rectangle, pi/4, use_radians=True))"
   ]
  },
  {
   "cell_type": "markdown",
   "metadata": {},
   "source": [
    "By default, the rotation's center is that of the shape to be rotated, however, it can be set explicitly."
   ]
  },
  {
   "cell_type": "code",
   "execution_count": 83,
   "metadata": {
    "scrolled": true
   },
   "outputs": [
    {
     "data": {
      "image/png": "[encoded data removed]",
      "text/plain": [
       "<matplotlib.figure.Figure at 0x7fe544dcb240>"
      ]
     },
     "metadata": {},
     "output_type": "display_data"
    }
   ],
   "source": [
    "plot_polygons(rectangle, affinity.rotate(rectangle, 45, origin=(0.0, 0.0)))"
   ]
  },
  {
   "cell_type": "markdown",
   "metadata": {},
   "source": [
    "Scale the rectangle."
   ]
  },
  {
   "cell_type": "code",
   "execution_count": 84,
   "metadata": {},
   "outputs": [
    {
     "data": {
      "image/png": "[encoded data removed]",
      "text/plain": [
       "<matplotlib.figure.Figure at 0x7fe544f18b38>"
      ]
     },
     "metadata": {},
     "output_type": "display_data"
    }
   ],
   "source": [
    "plot_polygons(rectangle, affinity.scale(rectangle, 2.5, 2.5))"
   ]
  },
  {
   "cell_type": "markdown",
   "metadata": {},
   "source": [
    "Scale only along the $y$-axis."
   ]
  },
  {
   "cell_type": "code",
   "execution_count": 85,
   "metadata": {},
   "outputs": [
    {
     "data": {
      "image/png": "[encoded data removed]",
      "text/plain": [
       "<matplotlib.figure.Figure at 0x7fe544a03b00>"
      ]
     },
     "metadata": {},
     "output_type": "display_data"
    }
   ],
   "source": [
    "plot_polygons(rectangle, affinity.scale(rectangle, yfact=2.5))"
   ]
  },
  {
   "cell_type": "markdown",
   "metadata": {},
   "source": [
    "Skewing the rectangle in the $x$-direction."
   ]
  },
  {
   "cell_type": "code",
   "execution_count": 86,
   "metadata": {},
   "outputs": [
    {
     "data": {
      "image/png": "[encoded data removed]",
      "text/plain": [
       "<matplotlib.figure.Figure at 0x7fe544db24a8>"
      ]
     },
     "metadata": {},
     "output_type": "display_data"
    }
   ],
   "source": [
    "plot_polygons(rectangle, affinity.skew(rectangle, xs=30.0))"
   ]
  },
  {
   "cell_type": "markdown",
   "metadata": {},
   "source": [
    "Skewing in both $x$ and $y$ direction."
   ]
  },
  {
   "cell_type": "code",
   "execution_count": 87,
   "metadata": {},
   "outputs": [
    {
     "data": {
      "image/png": "[encoded data removed]",
      "text/plain": [
       "<matplotlib.figure.Figure at 0x7fe547ed97f0>"
      ]
     },
     "metadata": {},
     "output_type": "display_data"
    }
   ],
   "source": [
    "plot_polygons(rectangle, affinity.skew(rectangle, xs=30.0, ys=30.0))"
   ]
  },
  {
   "cell_type": "markdown",
   "metadata": {},
   "source": [
    "Setting the origin explicitly for the skew."
   ]
  },
  {
   "cell_type": "code",
   "execution_count": 88,
   "metadata": {},
   "outputs": [
    {
     "data": {
      "image/png": "[encoded data removed]",
      "text/plain": [
       "<matplotlib.figure.Figure at 0x7fe545127518>"
      ]
     },
     "metadata": {},
     "output_type": "display_data"
    }
   ],
   "source": [
    "plot_polygons(rectangle, affinity.skew(rectangle, xs=20.0, origin=Point((0.0, 0.0))))"
   ]
  }
 ],
 "metadata": {
  "kernelspec": {
   "display_name": "Python 3",
   "language": "python",
   "name": "python3"
  },
  "language_info": {
   "codemirror_mode": {
    "name": "ipython",
    "version": 3
   },
   "file_extension": ".py",
   "mimetype": "text/x-python",
   "name": "python",
   "nbconvert_exporter": "python",
   "pygments_lexer": "ipython3",
   "version": "3.5.4"
  }
 },
 "nbformat": 4,
 "nbformat_minor": 2
}
