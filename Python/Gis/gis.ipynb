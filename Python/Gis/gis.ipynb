{
 "cells": [
  {
   "cell_type": "markdown",
   "metadata": {},
   "source": [
    "# GIS data processing"
   ]
  },
  {
   "cell_type": "markdown",
   "metadata": {},
   "source": [
    "## Shape files"
   ]
  },
  {
   "cell_type": "markdown",
   "metadata": {},
   "source": [
    "Load the required modules."
   ]
  },
  {
   "cell_type": "code",
   "execution_count": 1,
   "metadata": {
    "collapsed": true
   },
   "outputs": [],
   "source": [
    "from fiona import collection\n",
    "import matplotlib.pyplot as plt\n",
    "%matplotlib inline"
   ]
  },
  {
   "cell_type": "markdown",
   "metadata": {},
   "source": [
    "Create a fiona collection from the shape files."
   ]
  },
  {
   "cell_type": "code",
   "execution_count": 2,
   "metadata": {
    "collapsed": true
   },
   "outputs": [],
   "source": [
    "input = collection('Data/USA.gdb', 'r')"
   ]
  },
  {
   "cell_type": "markdown",
   "metadata": {},
   "source": [
    "Check the schema of the shape file."
   ]
  },
  {
   "cell_type": "code",
   "execution_count": 3,
   "metadata": {},
   "outputs": [
    {
     "data": {
      "text/plain": [
       "{'geometry': 'MultiPolygon',\n",
       " 'properties': OrderedDict([('NAME', 'str:110'),\n",
       "              ('COUNTRY', 'str:20'),\n",
       "              ('STATEABB', 'str:20'),\n",
       "              ('Shape_Length', 'float'),\n",
       "              ('Shape_Area', 'float'),\n",
       "              ('BORDER', 'int'),\n",
       "              ('REGION', 'str:20')])}"
      ]
     },
     "execution_count": 3,
     "metadata": {},
     "output_type": "execute_result"
    }
   ],
   "source": [
    "input.schema"
   ]
  },
  {
   "cell_type": "markdown",
   "metadata": {},
   "source": [
    "List the states in the US."
   ]
  },
  {
   "cell_type": "code",
   "execution_count": 4,
   "metadata": {},
   "outputs": [
    {
     "name": "stdout",
     "output_type": "stream",
     "text": [
      "number of states in US: 51\n",
      "states: Delaware, Washington, Texas, Maryland, Virginia, Maine, Colorado, New York, Alaska, Kentucky, Kansas, Indiana, Arkansas, Alabama, Hawaii, Utah, Montana, Nevada, Rhode Island, West Virginia, Missouri, California, District of Columbia, Michigan, New Hampshire, South Dakota, Idaho, Iowa, Mississippi, Illinois, Oregon, Nebraska, Minnesota, Connecticut, North Carolina, Florida, Pennsylvania, South Carolina, North Dakota, New Jersey, Vermont, Ohio, Tennessee, Georgia, Louisiana, New Mexico, Massachusetts, Oklahoma, Arizona, Wyoming, Wisconsin\n"
     ]
    }
   ],
   "source": [
    "states = set()\n",
    "for region in input:\n",
    "    states.add(region['properties']['NAME'])\n",
    "print('number of states in US: {0}'.format(len(states)))\n",
    "print('states: ', end='')\n",
    "print(*states, sep=', ')"
   ]
  },
  {
   "cell_type": "markdown",
   "metadata": {},
   "source": [
    "Define a function that will return the points that define the polygon for a region."
   ]
  },
  {
   "cell_type": "code",
   "execution_count": 5,
   "metadata": {
    "collapsed": true
   },
   "outputs": [],
   "source": [
    "def get_region(input, n):\n",
    "    return input[n]['geometry']['coordinates'][0][0]"
   ]
  },
  {
   "cell_type": "markdown",
   "metadata": {},
   "source": [
    "Plot all regions in the shapefile, this will be a map of the USA."
   ]
  },
  {
   "cell_type": "code",
   "execution_count": 6,
   "metadata": {},
   "outputs": [
    {
     "data": {
      "image/png": "[encoded data removed]",
      "text/plain": [
       "<matplotlib.figure.Figure at 0x7f7a8c4ea9b0>"
      ]
     },
     "metadata": {},
     "output_type": "display_data"
    }
   ],
   "source": [
    "plt.axes().set_aspect('equal')\n",
    "for i in input.keys():\n",
    "    region = get_region(input, i)\n",
    "    x = [x[0] for x in region]\n",
    "    y = [x[1] for x in region]\n",
    "    plt.plot(x, y, 'b', linewidth=0.3)"
   ]
  },
  {
   "cell_type": "markdown",
   "metadata": {},
   "source": [
    "The bounds of the entire USA are given by an attribute."
   ]
  },
  {
   "cell_type": "code",
   "execution_count": 7,
   "metadata": {},
   "outputs": [
    {
     "data": {
      "text/plain": [
       "(-179.13073424448964,\n",
       " 18.913788476756963,\n",
       " -66.98181454720344,\n",
       " 71.39842062001577)"
      ]
     },
     "execution_count": 7,
     "metadata": {},
     "output_type": "execute_result"
    }
   ],
   "source": [
    "input.bounds"
   ]
  },
  {
   "cell_type": "markdown",
   "metadata": {},
   "source": [
    "Define a function that plots the state with the given name."
   ]
  },
  {
   "cell_type": "code",
   "execution_count": 8,
   "metadata": {
    "collapsed": true
   },
   "outputs": [],
   "source": [
    "def plot_state(input, name):\n",
    "    plt.axes().set_aspect('equal')\n",
    "    for i in input.keys():\n",
    "        if input[i]['properties']['NAME'] == name:\n",
    "            region = get_region(input, i)\n",
    "            x = [t[0] for t in region]\n",
    "            y = [t[1] for t in region]\n",
    "            plt.plot(x, y, 'b', linewidth=0.7)"
   ]
  },
  {
   "cell_type": "markdown",
   "metadata": {},
   "source": [
    "Plot Florida's outline."
   ]
  },
  {
   "cell_type": "code",
   "execution_count": 9,
   "metadata": {
    "scrolled": true
   },
   "outputs": [
    {
     "data": {
      "image/png": "[encoded data removed]",
      "text/plain": [
       "<matplotlib.figure.Figure at 0x7f7a894a4da0>"
      ]
     },
     "metadata": {},
     "output_type": "display_data"
    }
   ],
   "source": [
    "plot_state(input, 'Florida')"
   ]
  },
  {
   "cell_type": "markdown",
   "metadata": {},
   "source": [
    "## GeoJSON files"
   ]
  },
  {
   "cell_type": "markdown",
   "metadata": {},
   "source": [
    "### Reading GeoJSON files & Shapely"
   ]
  },
  {
   "cell_type": "markdown",
   "metadata": {},
   "source": [
    "Load the required modules."
   ]
  },
  {
   "cell_type": "code",
   "execution_count": 63,
   "metadata": {},
   "outputs": [],
   "source": [
    "import geojson\n",
    "import shapely"
   ]
  },
  {
   "cell_type": "code",
   "execution_count": 58,
   "metadata": {
    "collapsed": true
   },
   "outputs": [],
   "source": [
    "data = geojson.load(open('Data/countries.geo.json'))\n",
    "countries = data['features']"
   ]
  },
  {
   "cell_type": "code",
   "execution_count": 59,
   "metadata": {},
   "outputs": [
    {
     "data": {
      "text/plain": [
       "['AFG',\n",
       " 'AGO',\n",
       " 'ALB',\n",
       " 'ARE',\n",
       " 'ARG',\n",
       " 'ARM',\n",
       " 'ATA',\n",
       " 'ATF',\n",
       " 'AUS',\n",
       " 'AUT',\n",
       " 'AZE',\n",
       " 'BDI',\n",
       " 'BEL',\n",
       " 'BEN',\n",
       " 'BFA',\n",
       " 'BGD',\n",
       " 'BGR',\n",
       " 'BHS',\n",
       " 'BIH',\n",
       " 'BLR',\n",
       " 'BLZ',\n",
       " 'BMU',\n",
       " 'BOL',\n",
       " 'BRA',\n",
       " 'BRN',\n",
       " 'BTN',\n",
       " 'BWA',\n",
       " 'CAF',\n",
       " 'CAN',\n",
       " 'CHE',\n",
       " 'CHL',\n",
       " 'CHN',\n",
       " 'CIV',\n",
       " 'CMR',\n",
       " 'COD',\n",
       " 'COG',\n",
       " 'COL',\n",
       " 'CRI',\n",
       " 'CUB',\n",
       " '-99',\n",
       " 'CYP',\n",
       " 'CZE',\n",
       " 'DEU',\n",
       " 'DJI',\n",
       " 'DNK',\n",
       " 'DOM',\n",
       " 'DZA',\n",
       " 'ECU',\n",
       " 'EGY',\n",
       " 'ERI',\n",
       " 'ESP',\n",
       " 'EST',\n",
       " 'ETH',\n",
       " 'FIN',\n",
       " 'FJI',\n",
       " 'FLK',\n",
       " 'FRA',\n",
       " 'GAB',\n",
       " 'GBR',\n",
       " 'GEO',\n",
       " 'GHA',\n",
       " 'GIN',\n",
       " 'GMB',\n",
       " 'GNB',\n",
       " 'GNQ',\n",
       " 'GRC',\n",
       " 'GRL',\n",
       " 'GTM',\n",
       " 'GUF',\n",
       " 'GUY',\n",
       " 'HND',\n",
       " 'HRV',\n",
       " 'HTI',\n",
       " 'HUN',\n",
       " 'IDN',\n",
       " 'IND',\n",
       " 'IRL',\n",
       " 'IRN',\n",
       " 'IRQ',\n",
       " 'ISL',\n",
       " 'ISR',\n",
       " 'ITA',\n",
       " 'JAM',\n",
       " 'JOR',\n",
       " 'JPN',\n",
       " 'KAZ',\n",
       " 'KEN',\n",
       " 'KGZ',\n",
       " 'KHM',\n",
       " 'KOR',\n",
       " 'CS-KM',\n",
       " 'KWT',\n",
       " 'LAO',\n",
       " 'LBN',\n",
       " 'LBR',\n",
       " 'LBY',\n",
       " 'LKA',\n",
       " 'LSO',\n",
       " 'LTU',\n",
       " 'LUX',\n",
       " 'LVA',\n",
       " 'MAR',\n",
       " 'MDA',\n",
       " 'MDG',\n",
       " 'MEX',\n",
       " 'MKD',\n",
       " 'MLI',\n",
       " 'MLT',\n",
       " 'MMR',\n",
       " 'MNE',\n",
       " 'MNG',\n",
       " 'MOZ',\n",
       " 'MRT',\n",
       " 'MWI',\n",
       " 'MYS',\n",
       " 'NAM',\n",
       " 'NCL',\n",
       " 'NER',\n",
       " 'NGA',\n",
       " 'NIC',\n",
       " 'NLD',\n",
       " 'NOR',\n",
       " 'NPL',\n",
       " 'NZL',\n",
       " 'OMN',\n",
       " 'PAK',\n",
       " 'PAN',\n",
       " 'PER',\n",
       " 'PHL',\n",
       " 'PNG',\n",
       " 'POL',\n",
       " 'PRI',\n",
       " 'PRK',\n",
       " 'PRT',\n",
       " 'PRY',\n",
       " 'QAT',\n",
       " 'ROU',\n",
       " 'RUS',\n",
       " 'RWA',\n",
       " 'ESH',\n",
       " 'SAU',\n",
       " 'SDN',\n",
       " 'SSD',\n",
       " 'SEN',\n",
       " 'SLB',\n",
       " 'SLE',\n",
       " 'SLV',\n",
       " '-99',\n",
       " 'SOM',\n",
       " 'SRB',\n",
       " 'SUR',\n",
       " 'SVK',\n",
       " 'SVN',\n",
       " 'SWE',\n",
       " 'SWZ',\n",
       " 'SYR',\n",
       " 'TCD',\n",
       " 'TGO',\n",
       " 'THA',\n",
       " 'TJK',\n",
       " 'TKM',\n",
       " 'TLS',\n",
       " 'TTO',\n",
       " 'TUN',\n",
       " 'TUR',\n",
       " 'TWN',\n",
       " 'TZA',\n",
       " 'UGA',\n",
       " 'UKR',\n",
       " 'URY',\n",
       " 'USA',\n",
       " 'UZB',\n",
       " 'VEN',\n",
       " 'VNM',\n",
       " 'VUT',\n",
       " 'PSE',\n",
       " 'YEM',\n",
       " 'ZAF',\n",
       " 'ZMB',\n",
       " 'ZWE']"
      ]
     },
     "execution_count": 59,
     "metadata": {},
     "output_type": "execute_result"
    }
   ],
   "source": [
    "country_ids = [country['id'] for country in countries]\n",
    "country_ids"
   ]
  },
  {
   "cell_type": "code",
   "execution_count": 66,
   "metadata": {
    "collapsed": true
   },
   "outputs": [],
   "source": [
    "def get_country_shape(countries, country_id):\n",
    "    for country in countries:\n",
    "        if country['id'] == country_id:\n",
    "            return shapely.geometry.shape(country['geometry'])"
   ]
  },
  {
   "cell_type": "code",
   "execution_count": 67,
   "metadata": {},
   "outputs": [
    {
     "data": {
      "image/svg+xml": [
       "<svg xmlns=\"http://www.w3.org/2000/svg\" xmlns:xlink=\"http://www.w3.org/1999/xlink\" width=\"113.21256708000001\" height=\"100.0\" viewBox=\"-175.98416904 14.72313196 113.21256708000001 60.827690079999996\" preserveAspectRatio=\"xMinYMin meet\"><g transform=\"matrix(1,0,0,-1,0,90.273954)\"><g><path fill-rule=\"evenodd\" fill=\"#66cc99\" stroke=\"#555555\" stroke-width=\"2.0\" opacity=\"0.6\" d=\"M -155.54211,19.08348 L -155.68817,18.91619 L -155.93665,19.05939 L -155.90806,19.33888 L -156.07347,19.70294 L -156.02368,19.81422 L -155.85008,19.97729 L -155.91907,20.17395 L -155.86108,20.26721 L -155.78505,20.2487 L -155.40214,20.07975 L -155.22452,19.99302 L -155.06226,19.8591 L -154.80741,19.50871 L -154.83147,19.45328 L -155.22217,19.23972 L -155.54211,19.08348 z\" /><path fill-rule=\"evenodd\" fill=\"#66cc99\" stroke=\"#555555\" stroke-width=\"2.0\" opacity=\"0.6\" d=\"M -156.07926,20.64397 L -156.41445,20.57241 L -156.58673,20.783 L -156.70167,20.8643 L -156.71055,20.92676 L -156.61258,21.01249 L -156.25711,20.91745 L -155.99566,20.76404 L -156.07926,20.64397 z\" /><path fill-rule=\"evenodd\" fill=\"#66cc99\" stroke=\"#555555\" stroke-width=\"2.0\" opacity=\"0.6\" d=\"M -156.75824,21.17684 L -156.78933,21.06873 L -157.32521,21.09777 L -157.25027,21.21958 L -156.75824,21.17684 z\" /><path fill-rule=\"evenodd\" fill=\"#66cc99\" stroke=\"#555555\" stroke-width=\"2.0\" opacity=\"0.6\" d=\"M -157.65283,21.32217 L -157.70703,21.26442 L -157.7786,21.27729 L -158.12667,21.31244 L -158.2538,21.53919 L -158.29265,21.57912 L -158.0252,21.71696 L -157.94161,21.65272 L -157.65283,21.32217 z\" /><path fill-rule=\"evenodd\" fill=\"#66cc99\" stroke=\"#555555\" stroke-width=\"2.0\" opacity=\"0.6\" d=\"M -159.34512,21.982 L -159.46372,21.88299 L -159.80051,22.06533 L -159.74877,22.1382 L -159.5962,22.23618 L -159.36569,22.21494 L -159.34512,21.982 z\" /><path fill-rule=\"evenodd\" fill=\"#66cc99\" stroke=\"#555555\" stroke-width=\"2.0\" opacity=\"0.6\" d=\"M -94.81758,49.38905 L -94.64,48.84 L -94.32914,48.67074 L -93.63087,48.60926 L -92.61,48.45 L -91.64,48.14 L -90.83,48.27 L -89.6,48.01 L -89.272917,48.019808 L -88.378114,48.302918 L -87.439793,47.94 L -86.461991,47.553338 L -85.652363,47.220219 L -84.87608,46.900083 L -84.779238,46.637102 L -84.543749,46.538684 L -84.6049,46.4396 L -84.3367,46.40877 L -84.14212,46.512226 L -84.091851,46.275419 L -83.890765,46.116927 L -83.616131,46.116927 L -83.469551,45.994686 L -83.592851,45.816894 L -82.550925,45.347517 L -82.337763,44.44 L -82.137642,43.571088 L -82.43,42.98 L -82.9,42.43 L -83.12,42.08 L -83.142,41.975681 L -83.02981,41.832796 L -82.690089,41.675105 L -82.439278,41.675105 L -81.277747,42.209026 L -80.247448,42.3662 L -78.939362,42.863611 L -78.92,42.965 L -79.01,43.27 L -79.171674,43.466339 L -78.72028,43.625089 L -77.737885,43.629056 L -76.820034,43.628784 L -76.5,44.018459 L -76.375,44.09631 L -75.31821,44.81645 L -74.867,45.00048 L -73.34783,45.00738 L -71.50506,45.0082 L -71.405,45.255 L -71.08482,45.30524 L -70.66,45.46 L -70.305,45.915 L -69.99997,46.69307 L -69.237216,47.447781 L -68.905,47.185 L -68.23444,47.35486 L -67.79046,47.06636 L -67.79134,45.70281 L -67.13741,45.13753 L -66.96466,44.8097 L -68.03252,44.3252 L -69.06,43.98 L -70.11617,43.68405 L -70.645476,43.090238 L -70.81489,42.8653 L -70.825,42.335 L -70.495,41.805 L -70.08,41.78 L -70.185,42.145 L -69.88497,41.92283 L -69.96503,41.63717 L -70.64,41.475 L -71.12039,41.49445 L -71.86,41.32 L -72.295,41.27 L -72.87643,41.22065 L -73.71,40.931102 L -72.24126,41.11948 L -71.945,40.93 L -73.345,40.63 L -73.982,40.628 L -73.952325,40.75075 L -74.25671,40.47351 L -73.96244,40.42763 L -74.17838,39.70926 L -74.90604,38.93954 L -74.98041,39.1964 L -75.20002,39.24845 L -75.52805,39.4985 L -75.32,38.96 L -75.071835,38.782032 L -75.05673,38.40412 L -75.37747,38.01551 L -75.94023,37.21689 L -76.03127,37.2566 L -75.72205,37.93705 L -76.23287,38.319215 L -76.35,39.15 L -76.542725,38.717615 L -76.32933,38.08326 L -76.989998,38.239992 L -76.30162,37.917945 L -76.25874,36.9664 L -75.9718,36.89726 L -75.86804,36.55125 L -75.72749,35.55074 L -76.36318,34.80854 L -77.397635,34.51201 L -78.05496,33.92547 L -78.55435,33.86133 L -79.06067,33.49395 L -79.20357,33.15839 L -80.301325,32.509355 L -80.86498,32.0333 L -81.33629,31.44049 L -81.49042,30.72999 L -81.31371,30.03552 L -80.98,29.18 L -80.535585,28.47213 L -80.53,28.04 L -80.056539,26.88 L -80.088015,26.205765 L -80.13156,25.816775 L -80.38103,25.20616 L -80.68,25.08 L -81.17213,25.20126 L -81.33,25.64 L -81.71,25.87 L -82.24,26.73 L -82.70515,27.49504 L -82.85526,27.88624 L -82.65,28.55 L -82.93,29.1 L -83.70959,29.93656 L -84.1,30.09 L -85.10882,29.63615 L -85.28784,29.68612 L -85.7731,30.15261 L -86.4,30.4 L -87.53036,30.27433 L -88.41782,30.3849 L -89.18049,30.31598 L -89.593831,30.159994 L -89.413735,29.89419 L -89.43,29.48864 L -89.21767,29.29108 L -89.40823,29.15961 L -89.77928,29.30714 L -90.15463,29.11743 L -90.880225,29.148535 L -91.626785,29.677 L -92.49906,29.5523 L -93.22637,29.78375 L -93.84842,29.71363 L -94.69,29.48 L -95.60026,28.73863 L -96.59404,28.30748 L -97.14,27.83 L -97.37,27.38 L -97.38,26.69 L -97.33,26.21 L -97.14,25.87 L -97.53,25.84 L -98.24,26.06 L -99.02,26.37 L -99.3,26.84 L -99.52,27.54 L -100.11,28.11 L -100.45584,28.69612 L -100.9576,29.38071 L -101.6624,29.7793 L -102.48,29.76 L -103.11,28.97 L -103.94,29.27 L -104.45697,29.57196 L -104.70575,30.12173 L -105.03737,30.64402 L -105.63159,31.08383 L -106.1429,31.39995 L -106.50759,31.75452 L -108.24,31.754854 L -108.24194,31.34222 L -109.035,31.34194 L -111.02361,31.33472 L -113.30498,32.03914 L -114.815,32.52528 L -114.72139,32.72083 L -115.99135,32.61239 L -117.12776,32.53534 L -117.295938,33.046225 L -117.944,33.621236 L -118.410602,33.740909 L -118.519895,34.027782 L -119.081,34.078 L -119.438841,34.348477 L -120.36778,34.44711 L -120.62286,34.60855 L -120.74433,35.15686 L -121.71457,36.16153 L -122.54747,37.55176 L -122.51201,37.78339 L -122.95319,38.11371 L -123.7272,38.95166 L -123.86517,39.76699 L -124.39807,40.3132 L -124.17886,41.14202 L -124.2137,41.99964 L -124.53284,42.76599 L -124.14214,43.70838 L -124.020535,44.615895 L -123.89893,45.52341 L -124.079635,46.86475 L -124.39567,47.72017 L -124.68721,48.184433 L -124.566101,48.379715 L -123.12,48.04 L -122.58736,47.096 L -122.34,47.36 L -122.5,48.18 L -122.84,49.0 L -120.0,49.0 L -117.03121,49.0 L -116.04818,49.0 L -113.0,49.0 L -110.05,49.0 L -107.05,49.0 L -104.04826,48.99986 L -100.65,49.0 L -97.22872,49.0007 L -95.15907,49.0 L -95.15609,49.38425 L -94.81758,49.38905 z\" /><path fill-rule=\"evenodd\" fill=\"#66cc99\" stroke=\"#555555\" stroke-width=\"2.0\" opacity=\"0.6\" d=\"M -153.006314,57.115842 L -154.00509,56.734677 L -154.516403,56.992749 L -154.670993,57.461196 L -153.76278,57.816575 L -153.228729,57.968968 L -152.564791,57.901427 L -152.141147,57.591059 L -153.006314,57.115842 z\" /><path fill-rule=\"evenodd\" fill=\"#66cc99\" stroke=\"#555555\" stroke-width=\"2.0\" opacity=\"0.6\" d=\"M -165.579164,59.909987 L -166.19277,59.754441 L -166.848337,59.941406 L -167.455277,60.213069 L -166.467792,60.38417 L -165.67443,60.293607 L -165.579164,59.909987 z\" /><path fill-rule=\"evenodd\" fill=\"#66cc99\" stroke=\"#555555\" stroke-width=\"2.0\" opacity=\"0.6\" d=\"M -171.731657,63.782515 L -171.114434,63.592191 L -170.491112,63.694975 L -169.682505,63.431116 L -168.689439,63.297506 L -168.771941,63.188598 L -169.52944,62.976931 L -170.290556,63.194438 L -170.671386,63.375822 L -171.553063,63.317789 L -171.791111,63.405846 L -171.731657,63.782515 z\" /><path fill-rule=\"evenodd\" fill=\"#66cc99\" stroke=\"#555555\" stroke-width=\"2.0\" opacity=\"0.6\" d=\"M -155.06779,71.147776 L -154.344165,70.696409 L -153.900006,70.889989 L -152.210006,70.829992 L -152.270002,70.600006 L -150.739992,70.430017 L -149.720003,70.53001 L -147.613362,70.214035 L -145.68999,70.12001 L -144.920011,69.989992 L -143.589446,70.152514 L -142.07251,69.851938 L -140.985988,69.711998 L -140.992499,66.000029 L -140.99777,60.306397 L -140.012998,60.276838 L -139.039,60.000007 L -138.34089,59.56211 L -137.4525,58.905 L -136.47972,59.46389 L -135.47583,59.78778 L -134.945,59.27056 L -134.27111,58.86111 L -133.355549,58.410285 L -132.73042,57.69289 L -131.70781,56.55212 L -130.00778,55.91583 L -129.979994,55.284998 L -130.53611,54.802753 L -131.085818,55.178906 L -131.967211,55.497776 L -132.250011,56.369996 L -133.539181,57.178887 L -134.078063,58.123068 L -135.038211,58.187715 L -136.628062,58.212209 L -137.800006,58.499995 L -139.867787,59.537762 L -140.825274,59.727517 L -142.574444,60.084447 L -143.958881,59.99918 L -145.925557,60.45861 L -147.114374,60.884656 L -148.224306,60.672989 L -148.018066,59.978329 L -148.570823,59.914173 L -149.727858,59.705658 L -150.608243,59.368211 L -151.716393,59.155821 L -151.859433,59.744984 L -151.409719,60.725803 L -150.346941,61.033588 L -150.621111,61.284425 L -151.895839,60.727198 L -152.57833,60.061657 L -154.019172,59.350279 L -153.287511,58.864728 L -154.232492,58.146374 L -155.307491,57.727795 L -156.308335,57.422774 L -156.556097,56.979985 L -158.117217,56.463608 L -158.433321,55.994154 L -159.603327,55.566686 L -160.28972,55.643581 L -161.223048,55.364735 L -162.237766,55.024187 L -163.069447,54.689737 L -164.785569,54.404173 L -164.942226,54.572225 L -163.84834,55.039431 L -162.870001,55.348043 L -161.804175,55.894986 L -160.563605,56.008055 L -160.07056,56.418055 L -158.684443,57.016675 L -158.461097,57.216921 L -157.72277,57.570001 L -157.550274,58.328326 L -157.041675,58.918885 L -158.194731,58.615802 L -158.517218,58.787781 L -159.058606,58.424186 L -159.711667,58.93139 L -159.981289,58.572549 L -160.355271,59.071123 L -161.355003,58.670838 L -161.968894,58.671665 L -162.054987,59.266925 L -161.874171,59.633621 L -162.518059,59.989724 L -163.818341,59.798056 L -164.662218,60.267484 L -165.346388,60.507496 L -165.350832,61.073895 L -166.121379,61.500019 L -165.734452,62.074997 L -164.919179,62.633076 L -164.562508,63.146378 L -163.753332,63.219449 L -163.067224,63.059459 L -162.260555,63.541936 L -161.53445,63.455817 L -160.772507,63.766108 L -160.958335,64.222799 L -161.518068,64.402788 L -160.777778,64.788604 L -161.391926,64.777235 L -162.45305,64.559445 L -162.757786,64.338605 L -163.546394,64.55916 L -164.96083,64.446945 L -166.425288,64.686672 L -166.845004,65.088896 L -168.11056,65.669997 L -166.705271,66.088318 L -164.47471,66.57666 L -163.652512,66.57666 L -163.788602,66.077207 L -161.677774,66.11612 L -162.489715,66.735565 L -163.719717,67.116395 L -164.430991,67.616338 L -165.390287,68.042772 L -166.764441,68.358877 L -166.204707,68.883031 L -164.430811,68.915535 L -163.168614,69.371115 L -162.930566,69.858062 L -161.908897,70.33333 L -160.934797,70.44769 L -159.039176,70.891642 L -158.119723,70.824721 L -156.580825,71.357764 L -155.06779,71.147776 z\" /></g></g></svg>"
      ],
      "text/plain": [
       "<shapely.geometry.multipolygon.MultiPolygon at 0x7f6ab89a3208>"
      ]
     },
     "execution_count": 67,
     "metadata": {},
     "output_type": "execute_result"
    }
   ],
   "source": [
    "usa = get_country_shape(countries, 'USA')\n",
    "usa"
   ]
  },
  {
   "cell_type": "code",
   "execution_count": 70,
   "metadata": {},
   "outputs": [
    {
     "data": {
      "image/svg+xml": [
       "<svg xmlns=\"http://www.w3.org/2000/svg\" xmlns:xlink=\"http://www.w3.org/1999/xlink\" width=\"100.0\" height=\"100.0\" viewBox=\"-144.53176724 38.14111776 95.41765548 48.62610948\" preserveAspectRatio=\"xMinYMin meet\"><g transform=\"matrix(1,0,0,-1,0,124.908345)\"><g><path fill-rule=\"evenodd\" fill=\"#66cc99\" stroke=\"#555555\" stroke-width=\"1.9083531096\" opacity=\"0.6\" d=\"M -63.6645,46.55001 L -62.9393,46.41587 L -62.01208,46.44314 L -62.50391,46.03339 L -62.87433,45.96818 L -64.1428,46.39265 L -64.39261,46.72747 L -64.01486,47.03601 L -63.6645,46.55001 z\" /><path fill-rule=\"evenodd\" fill=\"#66cc99\" stroke=\"#555555\" stroke-width=\"1.9083531096\" opacity=\"0.6\" d=\"M -61.806305,49.10506 L -62.29318,49.08717 L -63.58926,49.40069 L -64.51912,49.87304 L -64.17322,49.95718 L -62.85829,49.70641 L -61.835585,49.28855 L -61.806305,49.10506 z\" /><path fill-rule=\"evenodd\" fill=\"#66cc99\" stroke=\"#555555\" stroke-width=\"1.9083531096\" opacity=\"0.6\" d=\"M -123.510002,48.510011 L -124.012891,48.370846 L -125.655013,48.825005 L -125.954994,49.179996 L -126.850004,49.53 L -127.029993,49.814996 L -128.059336,49.994959 L -128.444584,50.539138 L -128.358414,50.770648 L -127.308581,50.552574 L -126.695001,50.400903 L -125.755007,50.295018 L -125.415002,49.950001 L -124.920768,49.475275 L -123.922509,49.062484 L -123.510002,48.510011 z\" /><path fill-rule=\"evenodd\" fill=\"#66cc99\" stroke=\"#555555\" stroke-width=\"1.9083531096\" opacity=\"0.6\" d=\"M -56.134036,50.68701 L -56.795882,49.812309 L -56.143105,50.150117 L -55.471492,49.935815 L -55.822401,49.587129 L -54.935143,49.313011 L -54.473775,49.556691 L -53.476549,49.249139 L -53.786014,48.516781 L -53.086134,48.687804 L -52.958648,48.157164 L -52.648099,47.535548 L -53.069158,46.655499 L -53.521456,46.618292 L -54.178936,46.807066 L -53.961869,47.625207 L -54.240482,47.752279 L -55.400773,46.884994 L -55.997481,46.91972 L -55.291219,47.389562 L -56.250799,47.632545 L -57.325229,47.572807 L -59.266015,47.603348 L -59.419494,47.899454 L -58.796586,48.251525 L -59.231625,48.523188 L -58.391805,49.125581 L -57.35869,50.718274 L -56.73865,51.287438 L -55.870977,51.632094 L -55.406974,51.588273 L -55.600218,51.317075 L -56.134036,50.68701 z\" /><path fill-rule=\"evenodd\" fill=\"#66cc99\" stroke=\"#555555\" stroke-width=\"1.9083531096\" opacity=\"0.6\" d=\"M -132.710008,54.040009 L -131.74999,54.120004 L -132.04948,52.984621 L -131.179043,52.180433 L -131.57783,52.182371 L -132.180428,52.639707 L -132.549992,53.100015 L -133.054611,53.411469 L -133.239664,53.85108 L -133.180004,54.169975 L -132.710008,54.040009 z\" /><path fill-rule=\"evenodd\" fill=\"#66cc99\" stroke=\"#555555\" stroke-width=\"1.9083531096\" opacity=\"0.6\" d=\"M -79.26582,62.158675 L -79.65752,61.63308 L -80.09956,61.7181 L -80.36215,62.01649 L -80.315395,62.085565 L -79.92939,62.3856 L -79.52002,62.36371 L -79.26582,62.158675 z\" /><path fill-rule=\"evenodd\" fill=\"#66cc99\" stroke=\"#555555\" stroke-width=\"1.9083531096\" opacity=\"0.6\" d=\"M -81.89825,62.7108 L -83.06857,62.15922 L -83.77462,62.18231 L -83.99367,62.4528 L -83.25048,62.91409 L -81.87699,62.90458 L -81.89825,62.7108 z\" /><path fill-rule=\"evenodd\" fill=\"#66cc99\" stroke=\"#555555\" stroke-width=\"1.9083531096\" opacity=\"0.6\" d=\"M -85.161308,65.657285 L -84.975764,65.217518 L -84.464012,65.371772 L -83.882626,65.109618 L -82.787577,64.766693 L -81.642014,64.455136 L -81.55344,63.979609 L -80.817361,64.057486 L -80.103451,63.725981 L -80.99102,63.411246 L -82.547178,63.651722 L -83.108798,64.101876 L -84.100417,63.569712 L -85.523405,63.052379 L -85.866769,63.637253 L -87.221983,63.541238 L -86.35276,64.035833 L -86.224886,64.822917 L -85.883848,65.738778 L -85.161308,65.657285 z\" /><path fill-rule=\"evenodd\" fill=\"#66cc99\" stroke=\"#555555\" stroke-width=\"1.9083531096\" opacity=\"0.6\" d=\"M -75.86588,67.14886 L -76.98687,67.09873 L -77.2364,67.58809 L -76.81166,68.14856 L -75.89521,68.28721 L -75.1145,68.01036 L -75.10333,67.58202 L -75.21597,67.44425 L -75.86588,67.14886 z\" /><path fill-rule=\"evenodd\" fill=\"#66cc99\" stroke=\"#555555\" stroke-width=\"1.9083531096\" opacity=\"0.6\" d=\"M -95.647681,69.10769 L -96.269521,68.75704 L -97.617401,69.06003 L -98.431801,68.9507 L -99.797401,69.40003 L -98.917401,69.71003 L -98.218261,70.14354 L -97.157401,69.86003 L -96.557401,69.68003 L -96.257401,69.49003 L -95.647681,69.10769 z\" /><path fill-rule=\"evenodd\" fill=\"#66cc99\" stroke=\"#555555\" stroke-width=\"1.9083531096\" opacity=\"0.6\" d=\"M -90.5471,69.49766 L -90.55151,68.47499 L -89.21515,69.25873 L -88.01966,68.61508 L -88.31749,67.87338 L -87.35017,67.19872 L -86.30607,67.92146 L -85.57664,68.78456 L -85.52197,69.88211 L -84.10081,69.80539 L -82.62258,69.65826 L -81.28043,69.16202 L -81.2202,68.66567 L -81.96436,68.13253 L -81.25928,67.59716 L -81.38653,67.11078 L -83.34456,66.41154 L -84.73542,66.2573 L -85.76943,66.55833 L -86.0676,66.05625 L -87.03143,65.21297 L -87.32324,64.77563 L -88.48296,64.09897 L -89.91444,64.03273 L -90.70398,63.61017 L -90.77004,62.96021 L -91.93342,62.83508 L -93.15698,62.02469 L -94.24153,60.89865 L -94.62931,60.11021 L -94.6846,58.94882 L -93.21502,58.78212 L -92.76462,57.84571 L -92.29703,57.08709 L -90.89769,57.28468 L -89.03953,56.85172 L -88.03978,56.47162 L -87.32421,55.99914 L -86.07121,55.72383 L -85.01181,55.3026 L -83.36055,55.24489 L -82.27285,55.14832 L -82.4362,54.28227 L -82.12502,53.27703 L -81.40075,52.15788 L -79.91289,51.20842 L -79.14301,51.53393 L -78.60191,52.56208 L -79.12421,54.14145 L -79.82958,54.66772 L -78.22874,55.13645 L -77.0956,55.83741 L -76.54137,56.53423 L -76.62319,57.20263 L -77.30226,58.05209 L -78.51688,58.80458 L -77.33676,59.85261 L -77.77272,60.75788 L -78.10687,62.31964 L -77.41067,62.55053 L -75.69621,62.2784 L -74.6682,62.18111 L -73.83988,62.4438 L -72.90853,62.10507 L -71.67708,61.52535 L -71.37369,61.13717 L -69.59042,61.06141 L -69.62033,60.22125 L -69.2879,58.95736 L -68.37455,58.80106 L -67.64976,58.21206 L -66.20178,58.76731 L -65.24517,59.87071 L -64.58352,60.33558 L -63.80475,59.4426 L -62.50236,58.16708 L -61.39655,56.96745 L -61.79866,56.33945 L -60.46853,55.77548 L -59.56962,55.20407 L -57.97508,54.94549 L -57.3332,54.6265 L -56.93689,53.78032 L -56.15811,53.64749 L -55.75632,53.27036 L -55.68338,52.14664 L -56.40916,51.7707 L -57.12691,51.41972 L -58.77482,51.0643 L -60.03309,50.24277 L -61.72366,50.08046 L -63.86251,50.29099 L -65.36331,50.2982 L -66.39905,50.22897 L -67.23631,49.51156 L -68.51114,49.06836 L -69.95362,47.74488 L -71.10458,46.82171 L -70.25522,46.98606 L -68.65,48.3 L -66.55243,49.1331 L -65.05626,49.23278 L -64.17099,48.74248 L -65.11545,48.07085 L -64.79854,46.99297 L -64.47219,46.23849 L -63.17329,45.73902 L -61.52072,45.88377 L -60.51815,47.00793 L -60.4486,46.28264 L -59.80287,45.9204 L -61.03988,45.26525 L -63.25471,44.67014 L -64.24656,44.26553 L -65.36406,43.54523 L -66.1234,43.61867 L -66.16173,44.46512 L -64.42549,45.29204 L -66.02605,45.25931 L -67.13741,45.13753 L -67.79134,45.70281 L -67.79046,47.06636 L -68.23444,47.35486 L -68.905,47.185 L -69.237216,47.447781 L -69.99997,46.69307 L -70.305,45.915 L -70.66,45.46 L -71.08482,45.30524 L -71.405,45.255 L -71.50506,45.0082 L -73.34783,45.00738 L -74.867,45.00048 L -75.31821,44.81645 L -76.375,44.09631 L -76.5,44.018459 L -76.820034,43.628784 L -77.737885,43.629056 L -78.72028,43.625089 L -79.171674,43.466339 L -79.01,43.27 L -78.92,42.965 L -78.939362,42.863611 L -80.247448,42.3662 L -81.277747,42.209026 L -82.439278,41.675105 L -82.690089,41.675105 L -83.02981,41.832796 L -83.142,41.975681 L -83.12,42.08 L -82.9,42.43 L -82.43,42.98 L -82.137642,43.571088 L -82.337763,44.44 L -82.550925,45.347517 L -83.592851,45.816894 L -83.469551,45.994686 L -83.616131,46.116927 L -83.890765,46.116927 L -84.091851,46.275419 L -84.14212,46.512226 L -84.3367,46.40877 L -84.6049,46.4396 L -84.543749,46.538684 L -84.779238,46.637102 L -84.87608,46.900083 L -85.652363,47.220219 L -86.461991,47.553338 L -87.439793,47.94 L -88.378114,48.302918 L -89.272917,48.019808 L -89.6,48.01 L -90.83,48.27 L -91.64,48.14 L -92.61,48.45 L -93.63087,48.60926 L -94.32914,48.67074 L -94.64,48.84 L -94.81758,49.38905 L -95.15609,49.38425 L -95.15907,49.0 L -97.22872,49.0007 L -100.65,49.0 L -104.04826,48.99986 L -107.05,49.0 L -110.05,49.0 L -113.0,49.0 L -116.04818,49.0 L -117.03121,49.0 L -120.0,49.0 L -122.84,49.0 L -122.97421,49.002538 L -124.91024,49.98456 L -125.62461,50.41656 L -127.43561,50.83061 L -127.99276,51.71583 L -127.85032,52.32961 L -129.12979,52.75538 L -129.30523,53.56159 L -130.51497,54.28757 L -130.53611,54.80278 L -129.98,55.285 L -130.00778,55.91583 L -131.70781,56.55212 L -132.73042,57.69289 L -133.35556,58.41028 L -134.27111,58.86111 L -134.945,59.27056 L -135.47583,59.78778 L -136.47972,59.46389 L -137.4525,58.905 L -138.34089,59.56211 L -139.039,60.0 L -140.013,60.27682 L -140.99778,60.30639 L -140.9925,66.00003 L -140.986,69.712 L -139.12052,69.47102 L -137.54636,68.99002 L -136.50358,68.89804 L -135.62576,69.31512 L -134.41464,69.62743 L -132.92925,69.50534 L -131.43136,69.94451 L -129.79471,70.19369 L -129.10773,69.77927 L -128.36156,70.01286 L -128.13817,70.48384 L -127.44712,70.37721 L -125.75632,69.48058 L -124.42483,70.1584 L -124.28968,69.39969 L -123.06108,69.56372 L -122.6835,69.85553 L -121.47226,69.79778 L -119.94288,69.37786 L -117.60268,69.01128 L -116.22643,68.84151 L -115.2469,68.90591 L -113.89794,68.3989 L -115.30489,67.90261 L -113.49727,67.68815 L -110.798,67.80612 L -109.94619,67.98104 L -108.8802,67.38144 L -107.79239,67.88736 L -108.81299,68.31164 L -108.16721,68.65392 L -106.95,68.7 L -106.15,68.8 L -105.34282,68.56122 L -104.33791,68.018 L -103.22115,68.09775 L -101.45433,67.64689 L -99.90195,67.80566 L -98.4432,67.78165 L -98.5586,68.40394 L -97.66948,68.57864 L -96.11991,68.23939 L -96.12588,67.29338 L -95.48943,68.0907 L -94.685,68.06383 L -94.23282,69.06903 L -95.30408,69.68571 L -96.47131,70.08976 L -96.39115,71.19482 L -95.2088,71.92053 L -93.88997,71.76015 L -92.87818,71.31869 L -91.51964,70.19129 L -92.40692,69.69997 L -90.5471,69.49766 z\" /><path fill-rule=\"evenodd\" fill=\"#66cc99\" stroke=\"#555555\" stroke-width=\"1.9083531096\" opacity=\"0.6\" d=\"M -114.16717,73.12145 L -114.66634,72.65277 L -112.44102,72.9554 L -111.05039,72.4504 L -109.92035,72.96113 L -109.00654,72.63335 L -108.18835,71.65089 L -107.68599,72.06548 L -108.39639,73.08953 L -107.51645,73.23598 L -106.52259,73.07601 L -105.40246,72.67259 L -104.77484,71.6984 L -104.46476,70.99297 L -102.78537,70.49776 L -100.98078,70.02432 L -101.08929,69.58447 L -102.73116,69.50402 L -102.09329,69.11962 L -102.43024,68.75282 L -104.24,68.91 L -105.96,69.18 L -107.12254,69.11922 L -109.0,68.78 L -111.534149,68.630059 L -113.3132,68.53554 L -113.85496,69.00744 L -115.22,69.28 L -116.10794,69.16821 L -117.34,69.96 L -116.67473,70.06655 L -115.13112,70.2373 L -113.72141,70.19237 L -112.4161,70.36638 L -114.35,70.6 L -116.48684,70.52045 L -117.9048,70.54056 L -118.43238,70.9092 L -116.11311,71.30918 L -117.65568,71.2952 L -119.40199,71.55859 L -118.56267,72.30785 L -117.86642,72.70594 L -115.18909,73.31459 L -114.16717,73.12145 z\" /><path fill-rule=\"evenodd\" fill=\"#66cc99\" stroke=\"#555555\" stroke-width=\"1.9083531096\" opacity=\"0.6\" d=\"M -104.5,73.42 L -105.38,72.76 L -106.94,73.46 L -106.6,73.6 L -105.26,73.64 L -104.5,73.42 z\" /><path fill-rule=\"evenodd\" fill=\"#66cc99\" stroke=\"#555555\" stroke-width=\"1.9083531096\" opacity=\"0.6\" d=\"M -76.34,73.102685 L -76.251404,72.826385 L -77.314438,72.855545 L -78.39167,72.876656 L -79.486252,72.742203 L -79.775833,72.802902 L -80.876099,73.333183 L -80.833885,73.693184 L -80.353058,73.75972 L -78.064438,73.651932 L -76.34,73.102685 z\" /><path fill-rule=\"evenodd\" fill=\"#66cc99\" stroke=\"#555555\" stroke-width=\"1.9083531096\" opacity=\"0.6\" d=\"M -86.562179,73.157447 L -85.774371,72.534126 L -84.850112,73.340278 L -82.31559,73.750951 L -80.600088,72.716544 L -80.748942,72.061907 L -78.770639,72.352173 L -77.824624,72.749617 L -75.605845,72.243678 L -74.228616,71.767144 L -74.099141,71.33084 L -72.242226,71.556925 L -71.200015,70.920013 L -68.786054,70.525024 L -67.91497,70.121948 L -66.969033,69.186087 L -68.805123,68.720198 L -66.449866,68.067163 L -64.862314,67.847539 L -63.424934,66.928473 L -61.851981,66.862121 L -62.163177,66.160251 L -63.918444,64.998669 L -65.14886,65.426033 L -66.721219,66.388041 L -68.015016,66.262726 L -68.141287,65.689789 L -67.089646,65.108455 L -65.73208,64.648406 L -65.320168,64.382737 L -64.669406,63.392927 L -65.013804,62.674185 L -66.275045,62.945099 L -68.783186,63.74567 L -67.369681,62.883966 L -66.328297,62.280075 L -66.165568,61.930897 L -68.877367,62.330149 L -71.023437,62.910708 L -72.235379,63.397836 L -71.886278,63.679989 L -73.378306,64.193963 L -74.834419,64.679076 L -74.818503,64.389093 L -77.70998,64.229542 L -78.555949,64.572906 L -77.897281,65.309192 L -76.018274,65.326969 L -73.959795,65.454765 L -74.293883,65.811771 L -73.944912,66.310578 L -72.651167,67.284576 L -72.92606,67.726926 L -73.311618,68.069437 L -74.843307,68.554627 L -76.869101,68.894736 L -76.228649,69.147769 L -77.28737,69.76954 L -78.168634,69.826488 L -78.957242,70.16688 L -79.492455,69.871808 L -81.305471,69.743185 L -84.944706,69.966634 L -87.060003,70.260001 L -88.681713,70.410741 L -89.51342,70.762038 L -88.467721,71.218186 L -89.888151,71.222552 L -90.20516,72.235074 L -89.436577,73.129464 L -88.408242,73.537889 L -85.826151,73.803816 L -86.562179,73.157447 z\" /><path fill-rule=\"evenodd\" fill=\"#66cc99\" stroke=\"#555555\" stroke-width=\"1.9083531096\" opacity=\"0.6\" d=\"M -100.35642,73.84389 L -99.16387,73.63339 L -97.38,73.76 L -97.12,73.47 L -98.05359,72.99052 L -96.54,72.56 L -96.72,71.66 L -98.35966,71.27285 L -99.32286,71.35639 L -100.01482,71.73827 L -102.5,72.51 L -102.48,72.83 L -100.43836,72.70588 L -101.54,73.36 L -100.35642,73.84389 z\" /><path fill-rule=\"evenodd\" fill=\"#66cc99\" stroke=\"#555555\" stroke-width=\"1.9083531096\" opacity=\"0.6\" d=\"M -93.196296,72.771992 L -94.269047,72.024596 L -95.409856,72.061881 L -96.033745,72.940277 L -96.018268,73.43743 L -95.495793,73.862417 L -94.503658,74.134907 L -92.420012,74.100025 L -90.509793,73.856732 L -92.003965,72.966244 L -93.196296,72.771992 z\" /><path fill-rule=\"evenodd\" fill=\"#66cc99\" stroke=\"#555555\" stroke-width=\"1.9083531096\" opacity=\"0.6\" d=\"M -120.46,71.383602 L -123.09219,70.90164 L -123.62,71.34 L -125.928949,71.868688 L -125.5,72.292261 L -124.80729,73.02256 L -123.94,73.68 L -124.91775,74.29275 L -121.53788,74.44893 L -120.10978,74.24135 L -117.55564,74.18577 L -116.58442,73.89607 L -115.51081,73.47519 L -116.76794,73.22292 L -119.22,72.52 L -120.46,71.82 L -120.46,71.383602 z\" /><path fill-rule=\"evenodd\" fill=\"#66cc99\" stroke=\"#555555\" stroke-width=\"1.9083531096\" opacity=\"0.6\" d=\"M -93.612756,74.979997 L -94.156909,74.592347 L -95.608681,74.666864 L -96.820932,74.927623 L -96.288587,75.377828 L -94.85082,75.647218 L -93.977747,75.29649 L -93.612756,74.979997 z\" /><path fill-rule=\"evenodd\" fill=\"#66cc99\" stroke=\"#555555\" stroke-width=\"1.9083531096\" opacity=\"0.6\" d=\"M -98.5,76.72 L -97.735585,76.25656 L -97.704415,75.74344 L -98.16,75.0 L -99.80874,74.89744 L -100.88366,75.05736 L -100.86292,75.64075 L -102.50209,75.5638 L -102.56552,76.3366 L -101.48973,76.30537 L -99.98349,76.64634 L -98.57699,76.58859 L -98.5,76.72 z\" /><path fill-rule=\"evenodd\" fill=\"#66cc99\" stroke=\"#555555\" stroke-width=\"1.9083531096\" opacity=\"0.6\" d=\"M -108.21141,76.20168 L -107.81943,75.84552 L -106.92893,76.01282 L -105.881,75.9694 L -105.70498,75.47951 L -106.31347,75.00527 L -109.7,74.85 L -112.22307,74.41696 L -113.74381,74.39427 L -113.87135,74.72029 L -111.79421,75.1625 L -116.31221,75.04343 L -117.7104,75.2222 L -116.34602,76.19903 L -115.40487,76.47887 L -112.59056,76.14134 L -110.81422,75.54919 L -109.0671,75.47321 L -110.49726,76.42982 L -109.5811,76.79417 L -108.54859,76.67832 L -108.21141,76.20168 z\" /><path fill-rule=\"evenodd\" fill=\"#66cc99\" stroke=\"#555555\" stroke-width=\"1.9083531096\" opacity=\"0.6\" d=\"M -94.684086,77.097878 L -93.573921,76.776296 L -91.605023,76.778518 L -90.741846,76.449597 L -90.969661,76.074013 L -89.822238,75.847774 L -89.187083,75.610166 L -87.838276,75.566189 L -86.379192,75.482421 L -84.789625,75.699204 L -82.753445,75.784315 L -81.128531,75.713983 L -80.057511,75.336849 L -79.833933,74.923127 L -80.457771,74.657304 L -81.948843,74.442459 L -83.228894,74.564028 L -86.097452,74.410032 L -88.15035,74.392307 L -89.764722,74.515555 L -92.422441,74.837758 L -92.768285,75.38682 L -92.889906,75.882655 L -93.893824,76.319244 L -95.962457,76.441381 L -97.121379,76.751078 L -96.745123,77.161389 L -94.684086,77.097878 z\" /><path fill-rule=\"evenodd\" fill=\"#66cc99\" stroke=\"#555555\" stroke-width=\"1.9083531096\" opacity=\"0.6\" d=\"M -116.198587,77.645287 L -116.335813,76.876962 L -117.106051,76.530032 L -118.040412,76.481172 L -119.899318,76.053213 L -121.499995,75.900019 L -122.854924,76.116543 L -122.854925,76.116543 L -121.157535,76.864508 L -119.103939,77.51222 L -117.570131,77.498319 L -116.198587,77.645287 z\" /><path fill-rule=\"evenodd\" fill=\"#66cc99\" stroke=\"#555555\" stroke-width=\"1.9083531096\" opacity=\"0.6\" d=\"M -93.840003,77.519997 L -94.295608,77.491343 L -96.169654,77.555111 L -96.436304,77.834629 L -94.422577,77.820005 L -93.720656,77.634331 L -93.840003,77.519997 z\" /><path fill-rule=\"evenodd\" fill=\"#66cc99\" stroke=\"#555555\" stroke-width=\"1.9083531096\" opacity=\"0.6\" d=\"M -110.186938,77.697015 L -112.051191,77.409229 L -113.534279,77.732207 L -112.724587,78.05105 L -111.264443,78.152956 L -109.854452,77.996325 L -110.186938,77.697015 z\" /><path fill-rule=\"evenodd\" fill=\"#66cc99\" stroke=\"#555555\" stroke-width=\"1.9083531096\" opacity=\"0.6\" d=\"M -109.663146,78.601973 L -110.881314,78.40692 L -112.542091,78.407902 L -112.525891,78.550555 L -111.50001,78.849994 L -110.963661,78.804441 L -109.663146,78.601973 z\" /><path fill-rule=\"evenodd\" fill=\"#66cc99\" stroke=\"#555555\" stroke-width=\"1.9083531096\" opacity=\"0.6\" d=\"M -95.830295,78.056941 L -97.309843,77.850597 L -98.124289,78.082857 L -98.552868,78.458105 L -98.631984,78.87193 L -97.337231,78.831984 L -96.754399,78.765813 L -95.559278,78.418315 L -95.830295,78.056941 z\" /><path fill-rule=\"evenodd\" fill=\"#66cc99\" stroke=\"#555555\" stroke-width=\"1.9083531096\" opacity=\"0.6\" d=\"M -100.060192,78.324754 L -99.670939,77.907545 L -101.30394,78.018985 L -102.949809,78.343229 L -105.176133,78.380332 L -104.210429,78.67742 L -105.41958,78.918336 L -105.492289,79.301594 L -103.529282,79.165349 L -100.825158,78.800462 L -100.060192,78.324754 z\" /><path fill-rule=\"evenodd\" fill=\"#66cc99\" stroke=\"#555555\" stroke-width=\"1.9083531096\" opacity=\"0.6\" d=\"M -87.02,79.66 L -85.81435,79.3369 L -87.18756,79.0393 L -89.03535,78.28723 L -90.80436,78.21533 L -92.87669,78.34333 L -93.95116,78.75099 L -93.93574,79.11373 L -93.14524,79.3801 L -94.974,79.37248 L -96.07614,79.70502 L -96.70972,80.15777 L -96.01644,80.60233 L -95.32345,80.90729 L -94.29843,80.97727 L -94.73542,81.20646 L -92.40984,81.25739 L -91.13289,80.72345 L -89.45,80.509322 L -87.81,80.32 L -87.02,79.66 z\" /><path fill-rule=\"evenodd\" fill=\"#66cc99\" stroke=\"#555555\" stroke-width=\"1.9083531096\" opacity=\"0.6\" d=\"M -68.5,83.106322 L -65.82735,83.02801 L -63.68,82.9 L -61.85,82.6286 L -61.89388,82.36165 L -64.334,81.92775 L -66.75342,81.72527 L -67.65755,81.50141 L -65.48031,81.50657 L -67.84,80.9 L -69.4697,80.61683 L -71.18,79.8 L -73.2428,79.63415 L -73.88,79.430162 L -76.90773,79.32309 L -75.52924,79.19766 L -76.22046,79.01907 L -75.39345,78.52581 L -76.34354,78.18296 L -77.88851,77.89991 L -78.36269,77.50859 L -79.75951,77.20968 L -79.61965,76.98336 L -77.91089,77.022045 L -77.88911,76.777955 L -80.56125,76.17812 L -83.17439,76.45403 L -86.11184,76.29901 L -87.6,76.42 L -89.49068,76.47239 L -89.6161,76.95213 L -87.76739,77.17833 L -88.26,77.9 L -87.65,77.970222 L -84.97634,77.53873 L -86.34,78.18 L -87.96192,78.37181 L -87.15198,78.75867 L -85.37868,78.9969 L -85.09495,79.34543 L -86.50734,79.73624 L -86.93179,80.25145 L -84.19844,80.20836 L -83.408696,80.1 L -81.84823,80.46442 L -84.1,80.58 L -87.59895,80.51627 L -89.36663,80.85569 L -90.2,81.26 L -91.36786,81.5531 L -91.58702,81.89429 L -90.1,82.085 L -88.93227,82.11751 L -86.97024,82.27961 L -85.5,82.652273 L -84.260005,82.6 L -83.18,82.32 L -82.42,82.86 L -81.1,83.02 L -79.30664,83.13056 L -76.25,83.172059 L -75.71878,83.06404 L -72.83153,83.23324 L -70.665765,83.169781 L -68.5,83.106322 z\" /></g></g></svg>"
      ],
      "text/plain": [
       "<shapely.geometry.multipolygon.MultiPolygon at 0x7f6ab8ae9908>"
      ]
     },
     "execution_count": 70,
     "metadata": {},
     "output_type": "execute_result"
    }
   ],
   "source": [
    "canada = get_country_shape(countries, 'CAN')\n",
    "canada"
   ]
  }
 ],
 "metadata": {
  "kernelspec": {
   "display_name": "Python 3",
   "language": "python",
   "name": "python3"
  },
  "language_info": {
   "codemirror_mode": {
    "name": "ipython",
    "version": 3
   },
   "file_extension": ".py",
   "mimetype": "text/x-python",
   "name": "python",
   "nbconvert_exporter": "python",
   "pygments_lexer": "ipython3",
   "version": "3.5.4"
  }
 },
 "nbformat": 4,
 "nbformat_minor": 2
}
