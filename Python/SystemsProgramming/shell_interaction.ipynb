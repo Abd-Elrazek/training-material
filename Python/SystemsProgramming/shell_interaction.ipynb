{
 "cells": [
  {
   "cell_type": "markdown",
   "metadata": {},
   "source": [
    "# Intereacting with the shell"
   ]
  },
  {
   "cell_type": "markdown",
   "metadata": {},
   "source": [
    "## `sh` module"
   ]
  },
  {
   "cell_type": "markdown",
   "metadata": {},
   "source": [
    "The [`sh` module](https://amoffat.github.io/sh/) is very convenient to interact with the shell.  Note that `sh` is not part of Python's standard library, if you prefer not to use extra modules, use the `subprocess` module in the standard library."
   ]
  },
  {
   "cell_type": "code",
   "execution_count": 1,
   "metadata": {
    "ExecuteTime": {
     "end_time": "2018-11-12T12:24:26.036272Z",
     "start_time": "2018-11-12T12:24:26.020057Z"
    }
   },
   "outputs": [],
   "source": [
    "import sh"
   ]
  },
  {
   "cell_type": "markdown",
   "metadata": {},
   "source": [
    "Any shell command can be executed by calling it as a function on the `sh` module, passing command line arguments as arguments."
   ]
  },
  {
   "cell_type": "code",
   "execution_count": 2,
   "metadata": {
    "ExecuteTime": {
     "end_time": "2018-11-12T12:24:26.106636Z",
     "start_time": "2018-11-12T12:24:26.046979Z"
    }
   },
   "outputs": [
    {
     "data": {
      "text/plain": [
       "total 48\n",
       "-rw-r--r-- 1 gjb gjb    86 Nov  7 17:56 README.md\n",
       "-rw-r--r-- 1 gjb gjb 20943 Nov 12 13:23 shell_interaction.ipynb\n",
       "-rwxrw-r-- 1 gjb gjb   858 Aug 23 16:56 subprocess_environment.py\n",
       "-rwxrw-r-- 1 gjb gjb  2439 Aug 20 08:56 sys_info.py\n",
       "-rw-r--r-- 1 gjb gjb  8616 Nov  8 11:54 system_information.ipynb"
      ]
     },
     "execution_count": 2,
     "metadata": {},
     "output_type": "execute_result"
    }
   ],
   "source": [
    "sh.ls('-l')"
   ]
  },
  {
   "cell_type": "markdown",
   "metadata": {},
   "source": [
    "The output can be used by assigning the command to a variable, and using the result's `stdout` attribute.  Note that the latter is a sequence of bytes, so it has to be decoded into a UTF-8 string for further processing."
   ]
  },
  {
   "cell_type": "code",
   "execution_count": 3,
   "metadata": {
    "ExecuteTime": {
     "end_time": "2018-11-12T12:24:26.158763Z",
     "start_time": "2018-11-12T12:24:26.117288Z"
    }
   },
   "outputs": [],
   "source": [
    "cmd = sh.ls('-l', '-a', _encoding='UTF-8')"
   ]
  },
  {
   "cell_type": "code",
   "execution_count": 4,
   "metadata": {
    "ExecuteTime": {
     "end_time": "2018-11-12T12:24:26.172228Z",
     "start_time": "2018-11-12T12:24:26.164329Z"
    }
   },
   "outputs": [],
   "source": [
    "lines = cmd.stdout.decode(encoding='utf8').split('\\n')"
   ]
  },
  {
   "cell_type": "code",
   "execution_count": 5,
   "metadata": {
    "ExecuteTime": {
     "end_time": "2018-11-12T12:24:26.190694Z",
     "start_time": "2018-11-12T12:24:26.178129Z"
    }
   },
   "outputs": [
    {
     "data": {
      "text/plain": [
       "8"
      ]
     },
     "execution_count": 5,
     "metadata": {},
     "output_type": "execute_result"
    }
   ],
   "source": [
    "len(lines[1:-1])"
   ]
  },
  {
   "cell_type": "code",
   "execution_count": 6,
   "metadata": {
    "ExecuteTime": {
     "end_time": "2018-11-12T12:24:26.205260Z",
     "start_time": "2018-11-12T12:24:26.195521Z"
    }
   },
   "outputs": [
    {
     "data": {
      "text/plain": [
       "['drwxrwxr-x  3 gjb gjb  4096 Nov 12 13:23 .',\n",
       " 'drwxrwxr-x 79 gjb gjb  4096 Oct 12 15:57 ..',\n",
       " 'drwxr-xr-x  2 gjb gjb  4096 Nov 11 09:20 .ipynb_checkpoints',\n",
       " '-rw-r--r--  1 gjb gjb    86 Nov  7 17:56 README.md',\n",
       " '-rw-r--r--  1 gjb gjb 20943 Nov 12 13:23 shell_interaction.ipynb',\n",
       " '-rwxrw-r--  1 gjb gjb   858 Aug 23 16:56 subprocess_environment.py',\n",
       " '-rwxrw-r--  1 gjb gjb  2439 Aug 20 08:56 sys_info.py',\n",
       " '-rw-r--r--  1 gjb gjb  8616 Nov  8 11:54 system_information.ipynb']"
      ]
     },
     "execution_count": 6,
     "metadata": {},
     "output_type": "execute_result"
    }
   ],
   "source": [
    "lines[1:-1]"
   ]
  },
  {
   "cell_type": "code",
   "execution_count": 7,
   "metadata": {
    "ExecuteTime": {
     "end_time": "2018-11-12T12:24:26.243252Z",
     "start_time": "2018-11-12T12:24:26.210126Z"
    }
   },
   "outputs": [
    {
     "data": {
      "text/plain": []
     },
     "execution_count": 7,
     "metadata": {},
     "output_type": "execute_result"
    }
   ],
   "source": [
    "sh.mkdir('tmp', '-p')"
   ]
  },
  {
   "cell_type": "code",
   "execution_count": 8,
   "metadata": {
    "ExecuteTime": {
     "end_time": "2018-11-12T12:24:26.279127Z",
     "start_time": "2018-11-12T12:24:26.245715Z"
    }
   },
   "outputs": [
    {
     "data": {
      "text/plain": [
       "README.md\t\t subprocess_environment.py  system_information.ipynb\n",
       "shell_interaction.ipynb  sys_info.py\t\t    tmp"
      ]
     },
     "execution_count": 8,
     "metadata": {},
     "output_type": "execute_result"
    }
   ],
   "source": [
    "sh.ls()"
   ]
  },
  {
   "cell_type": "markdown",
   "metadata": {},
   "source": [
    "### Exit codes"
   ]
  },
  {
   "cell_type": "markdown",
   "metadata": {},
   "source": [
    "When a shell command fails, an exception is thrown which contains the full command as it was run, the exit code, the standard output and error."
   ]
  },
  {
   "cell_type": "code",
   "execution_count": 9,
   "metadata": {
    "ExecuteTime": {
     "end_time": "2018-11-12T12:24:26.319958Z",
     "start_time": "2018-11-12T12:24:26.283192Z"
    }
   },
   "outputs": [
    {
     "name": "stdout",
     "output_type": "stream",
     "text": [
      "command \"/bin/ls bla.txt\" exited with exit code 2 and message \"/bin/ls: cannot access 'bla.txt': No such file or directory\"\n"
     ]
    }
   ],
   "source": [
    "try:\n",
    "    sh.ls('bla.txt')\n",
    "except Exception as error:\n",
    "    err_msg = error.stderr.decode(encoding='utf8').rstrip()\n",
    "    print(f'command \"{error.full_cmd}\" exited with exit code {error.exit_code} and message \"{err_msg}\"')"
   ]
  },
  {
   "cell_type": "markdown",
   "metadata": {},
   "source": [
    "### I/O redirection"
   ]
  },
  {
   "cell_type": "markdown",
   "metadata": {},
   "source": [
    "Redirecting output can be done using the `_out` optional argument."
   ]
  },
  {
   "cell_type": "code",
   "execution_count": 10,
   "metadata": {
    "ExecuteTime": {
     "end_time": "2018-11-12T12:24:36.613823Z",
     "start_time": "2018-11-12T12:24:26.327916Z"
    }
   },
   "outputs": [],
   "source": [
    "with open('tmp/date_file.txt', 'w') as file:\n",
    "    for i in range(10):\n",
    "        print(f'{i} ', end='', file=file)\n",
    "        sh.date(_out=file)\n",
    "        sh.sleep('1')"
   ]
  },
  {
   "cell_type": "code",
   "execution_count": 11,
   "metadata": {
    "ExecuteTime": {
     "end_time": "2018-11-12T12:24:36.676905Z",
     "start_time": "2018-11-12T12:24:36.625117Z"
    }
   },
   "outputs": [
    {
     "data": {
      "text/plain": [
       "0 Mon Nov 12 13:24:26 CET 2018\n",
       "1 Mon Nov 12 13:24:27 CET 2018\n",
       "2 Mon Nov 12 13:24:28 CET 2018\n",
       "3 Mon Nov 12 13:24:29 CET 2018\n",
       "4 Mon Nov 12 13:24:30 CET 2018\n",
       "5 Mon Nov 12 13:24:31 CET 2018\n",
       "6 Mon Nov 12 13:24:32 CET 2018\n",
       "7 Mon Nov 12 13:24:33 CET 2018\n",
       "8 Mon Nov 12 13:24:34 CET 2018\n",
       "9 Mon Nov 12 13:24:35 CET 2018"
      ]
     },
     "execution_count": 11,
     "metadata": {},
     "output_type": "execute_result"
    }
   ],
   "source": [
    "sh.cat('tmp/date_file.txt')"
   ]
  },
  {
   "cell_type": "markdown",
   "metadata": {},
   "source": [
    "Input redirection works similarly using the optional `_in` argument."
   ]
  },
  {
   "cell_type": "code",
   "execution_count": 12,
   "metadata": {
    "ExecuteTime": {
     "end_time": "2018-11-12T12:24:36.731667Z",
     "start_time": "2018-11-12T12:24:36.694917Z"
    }
   },
   "outputs": [
    {
     "name": "stdout",
     "output_type": "stream",
     "text": [
      "10\n",
      "\n"
     ]
    }
   ],
   "source": [
    "with open('tmp/date_file.txt', 'r') as file:\n",
    "    print(sh.wc('-l', _in=file))"
   ]
  },
  {
   "cell_type": "markdown",
   "metadata": {},
   "source": [
    "### Piping"
   ]
  },
  {
   "cell_type": "markdown",
   "metadata": {},
   "source": [
    "The output of a command can be used as the input for another command."
   ]
  },
  {
   "cell_type": "markdown",
   "metadata": {},
   "source": [
    "Pipe the output of `ls` into `grep` to select only the files with names that end with `.py`."
   ]
  },
  {
   "cell_type": "code",
   "execution_count": 13,
   "metadata": {
    "ExecuteTime": {
     "end_time": "2018-11-12T12:24:36.832392Z",
     "start_time": "2018-11-12T12:24:36.733501Z"
    }
   },
   "outputs": [
    {
     "data": {
      "text/plain": [
       "-rwxrw-r-- 1 gjb gjb   858 Aug 23 16:56 subprocess_environment.py\n",
       "-rwxrw-r-- 1 gjb gjb  2439 Aug 20 08:56 sys_info.py"
      ]
     },
     "execution_count": 13,
     "metadata": {},
     "output_type": "execute_result"
    }
   ],
   "source": [
    "sh.grep(sh.ls('-l'), r'\\.py$')"
   ]
  },
  {
   "cell_type": "markdown",
   "metadata": {},
   "source": [
    "Pipe the output of `cut` into `sort`."
   ]
  },
  {
   "cell_type": "code",
   "execution_count": 14,
   "metadata": {
    "ExecuteTime": {
     "end_time": "2018-11-12T12:24:36.922447Z",
     "start_time": "2018-11-12T12:24:36.839471Z"
    },
    "scrolled": true
   },
   "outputs": [
    {
     "data": {
      "text/plain": [
       "13:24:35\n",
       "13:24:34\n",
       "13:24:33\n",
       "13:24:32\n",
       "13:24:31\n",
       "13:24:30\n",
       "13:24:29\n",
       "13:24:28\n",
       "13:24:27\n",
       "13:24:26"
      ]
     },
     "execution_count": 14,
     "metadata": {},
     "output_type": "execute_result"
    }
   ],
   "source": [
    "sh.sort(sh.cut('-d', ' ', '-f', '5', 'tmp/date_file.txt'), '-r')"
   ]
  },
  {
   "cell_type": "code",
   "execution_count": 15,
   "metadata": {
    "ExecuteTime": {
     "end_time": "2018-11-12T12:24:36.967457Z",
     "start_time": "2018-11-12T12:24:36.924369Z"
    }
   },
   "outputs": [
    {
     "data": {
      "text/plain": []
     },
     "execution_count": 15,
     "metadata": {},
     "output_type": "execute_result"
    }
   ],
   "source": [
    "sh.rm('-r', 'tmp')"
   ]
  },
  {
   "cell_type": "markdown",
   "metadata": {},
   "source": [
    "### Backgrounding & time out"
   ]
  },
  {
   "cell_type": "markdown",
   "metadata": {},
   "source": [
    "Long running processes can be placed in the background."
   ]
  },
  {
   "cell_type": "code",
   "execution_count": 16,
   "metadata": {
    "ExecuteTime": {
     "end_time": "2018-11-12T12:24:37.020890Z",
     "start_time": "2018-11-12T12:24:36.984315Z"
    }
   },
   "outputs": [],
   "source": [
    "process = sh.sleep(10, _bg=True)"
   ]
  },
  {
   "cell_type": "code",
   "execution_count": 17,
   "metadata": {
    "ExecuteTime": {
     "end_time": "2018-11-12T12:24:37.044373Z",
     "start_time": "2018-11-12T12:24:37.022700Z"
    }
   },
   "outputs": [
    {
     "name": "stdout",
     "output_type": "stream",
     "text": [
      "0\n",
      "1\n",
      "2\n",
      "3\n",
      "4\n",
      "5\n",
      "6\n",
      "7\n",
      "8\n",
      "9\n"
     ]
    }
   ],
   "source": [
    "for i in range(10):\n",
    "    print(i)"
   ]
  },
  {
   "cell_type": "code",
   "execution_count": 18,
   "metadata": {
    "ExecuteTime": {
     "end_time": "2018-11-12T12:24:47.882548Z",
     "start_time": "2018-11-12T12:24:37.047098Z"
    }
   },
   "outputs": [
    {
     "data": {
      "text/plain": []
     },
     "execution_count": 18,
     "metadata": {},
     "output_type": "execute_result"
    }
   ],
   "source": [
    "process.wait()"
   ]
  },
  {
   "cell_type": "code",
   "execution_count": 19,
   "metadata": {
    "ExecuteTime": {
     "end_time": "2018-11-12T12:24:47.909381Z",
     "start_time": "2018-11-12T12:24:47.895199Z"
    }
   },
   "outputs": [
    {
     "name": "stdout",
     "output_type": "stream",
     "text": [
      "0\n"
     ]
    }
   ],
   "source": [
    "print(process.exit_code)"
   ]
  },
  {
   "cell_type": "markdown",
   "metadata": {},
   "source": [
    "A time out can be specified for a command, and on time out, the resulting exit code will be the number of the signal (SIGKILL by default)."
   ]
  },
  {
   "cell_type": "code",
   "execution_count": 20,
   "metadata": {
    "ExecuteTime": {
     "end_time": "2018-11-12T12:24:48.001931Z",
     "start_time": "2018-11-12T12:24:47.924270Z"
    }
   },
   "outputs": [],
   "source": [
    "try:\n",
    "    process = sh.sleep(10, _bg=True, _timeout=3)\n",
    "except TimeoutError as error:\n",
    "    print(error)"
   ]
  },
  {
   "cell_type": "markdown",
   "metadata": {},
   "source": [
    "## `subprocess` module"
   ]
  },
  {
   "cell_type": "markdown",
   "metadata": {},
   "source": [
    "If you prefer to use standard library modules only, `subprocess` is a good choice."
   ]
  },
  {
   "cell_type": "code",
   "execution_count": 21,
   "metadata": {
    "ExecuteTime": {
     "end_time": "2018-11-12T12:24:48.017277Z",
     "start_time": "2018-11-12T12:24:48.003902Z"
    }
   },
   "outputs": [],
   "source": [
    "import subprocess"
   ]
  },
  {
   "cell_type": "markdown",
   "metadata": {},
   "source": [
    "This module has a high-level function `run` that can be used for almost any processing.  The API is still being improved in subsequent releases of Python."
   ]
  },
  {
   "cell_type": "code",
   "execution_count": 22,
   "metadata": {
    "ExecuteTime": {
     "end_time": "2018-11-12T12:24:48.065370Z",
     "start_time": "2018-11-12T12:24:48.026892Z"
    }
   },
   "outputs": [],
   "source": [
    "process = subprocess.run(['ls', '-l'], stdout=subprocess.PIPE, encoding='utf8')"
   ]
  },
  {
   "cell_type": "code",
   "execution_count": 23,
   "metadata": {
    "ExecuteTime": {
     "end_time": "2018-11-12T12:24:48.099601Z",
     "start_time": "2018-11-12T12:24:48.080408Z"
    },
    "scrolled": true
   },
   "outputs": [
    {
     "data": {
      "text/plain": [
       "['total 48',\n",
       " '-rw-r--r-- 1 gjb gjb    86 Nov  7 17:56 README.md',\n",
       " '-rw-r--r-- 1 gjb gjb 20943 Nov 12 13:23 shell_interaction.ipynb',\n",
       " '-rwxrw-r-- 1 gjb gjb   858 Aug 23 16:56 subprocess_environment.py',\n",
       " '-rwxrw-r-- 1 gjb gjb  2439 Aug 20 08:56 sys_info.py',\n",
       " '-rw-r--r-- 1 gjb gjb  8616 Nov  8 11:54 system_information.ipynb',\n",
       " '']"
      ]
     },
     "execution_count": 23,
     "metadata": {},
     "output_type": "execute_result"
    }
   ],
   "source": [
    "process.stdout.split('\\n')"
   ]
  },
  {
   "cell_type": "markdown",
   "metadata": {},
   "source": [
    "Note that if you don't specify the `stdout` arugment, the output of the command will not be captured.  Python 3.7 makes this easier by adding a `capture_output` argument."
   ]
  },
  {
   "cell_type": "markdown",
   "metadata": {},
   "source": [
    "### Exit codes"
   ]
  },
  {
   "cell_type": "markdown",
   "metadata": {},
   "source": [
    "The `run` function returns a `CompletedProcess` object that has an attribute for the exit code returned by the process."
   ]
  },
  {
   "cell_type": "code",
   "execution_count": 24,
   "metadata": {
    "ExecuteTime": {
     "end_time": "2018-11-12T12:24:48.148536Z",
     "start_time": "2018-11-12T12:24:48.108607Z"
    }
   },
   "outputs": [],
   "source": [
    "process = subprocess.run(['mkdir', '-p', 'tmp'])"
   ]
  },
  {
   "cell_type": "code",
   "execution_count": 25,
   "metadata": {
    "ExecuteTime": {
     "end_time": "2018-11-12T12:24:48.181422Z",
     "start_time": "2018-11-12T12:24:48.162426Z"
    }
   },
   "outputs": [
    {
     "data": {
      "text/plain": [
       "0"
      ]
     },
     "execution_count": 25,
     "metadata": {},
     "output_type": "execute_result"
    }
   ],
   "source": [
    "process.returncode"
   ]
  },
  {
   "cell_type": "markdown",
   "metadata": {},
   "source": [
    "### I/O redirection"
   ]
  },
  {
   "cell_type": "markdown",
   "metadata": {},
   "source": [
    "Output of a running command can be redirected to a file."
   ]
  },
  {
   "cell_type": "code",
   "execution_count": 26,
   "metadata": {
    "ExecuteTime": {
     "end_time": "2018-11-12T12:24:58.456048Z",
     "start_time": "2018-11-12T12:24:48.194709Z"
    }
   },
   "outputs": [
    {
     "name": "stderr",
     "output_type": "stream",
     "text": [
      "Exception in thread background thread for pid 23198:\n",
      "Traceback (most recent call last):\n",
      "  File \"/home/gjb/miniconda3/envs/py36/lib/python3.6/threading.py\", line 916, in _bootstrap_inner\n",
      "    self.run()\n",
      "  File \"/home/gjb/miniconda3/envs/py36/lib/python3.6/threading.py\", line 864, in run\n",
      "    self._target(*self._args, **self._kwargs)\n",
      "  File \"/home/gjb/miniconda3/envs/py36/lib/python3.6/site-packages/sh.py\", line 1540, in wrap\n",
      "    fn(*args, **kwargs)\n",
      "  File \"/home/gjb/miniconda3/envs/py36/lib/python3.6/site-packages/sh.py\", line 2459, in background_thread\n",
      "    handle_exit_code(exit_code)\n",
      "  File \"/home/gjb/miniconda3/envs/py36/lib/python3.6/site-packages/sh.py\", line 2157, in fn\n",
      "    return self.command.handle_command_exit_code(exit_code)\n",
      "  File \"/home/gjb/miniconda3/envs/py36/lib/python3.6/site-packages/sh.py\", line 815, in handle_command_exit_code\n",
      "    raise exc\n",
      "sh.SignalException_SIGKILL: \n",
      "\n",
      "  RAN: /bin/sleep 10\n",
      "\n",
      "  STDOUT:\n",
      "\n",
      "\n",
      "  STDERR:\n",
      "\n",
      "\n"
     ]
    }
   ],
   "source": [
    "with open('tmp/data.txt', 'w') as file:\n",
    "    for i in range(10):\n",
    "        subprocess.run(['echo', '-n', str(i) + ' '], stdout=file)\n",
    "        subprocess.run(['date'], stdout=file)\n",
    "        subprocess.run(['sleep', '1'])"
   ]
  },
  {
   "cell_type": "markdown",
   "metadata": {},
   "source": [
    "Note that mixed I/O from the `print` function and `run` doesn't work as expected."
   ]
  },
  {
   "cell_type": "code",
   "execution_count": 27,
   "metadata": {
    "ExecuteTime": {
     "end_time": "2018-11-12T12:24:58.524062Z",
     "start_time": "2018-11-12T12:24:58.487488Z"
    },
    "scrolled": true
   },
   "outputs": [
    {
     "name": "stdout",
     "output_type": "stream",
     "text": [
      "0 Mon Nov 12 13:24:48 CET 2018\n",
      "1 Mon Nov 12 13:24:49 CET 2018\n",
      "2 Mon Nov 12 13:24:50 CET 2018\n",
      "3 Mon Nov 12 13:24:51 CET 2018\n",
      "4 Mon Nov 12 13:24:52 CET 2018\n",
      "5 Mon Nov 12 13:24:53 CET 2018\n",
      "6 Mon Nov 12 13:24:54 CET 2018\n",
      "7 Mon Nov 12 13:24:55 CET 2018\n",
      "8 Mon Nov 12 13:24:56 CET 2018\n",
      "9 Mon Nov 12 13:24:57 CET 2018\n",
      "\n"
     ]
    }
   ],
   "source": [
    "print(subprocess.run(['cat', 'tmp/data.txt'], stdout=subprocess.PIPE,\n",
    "                     encoding='utf8').stdout)"
   ]
  },
  {
   "cell_type": "markdown",
   "metadata": {},
   "source": [
    "Input redirection is similar."
   ]
  },
  {
   "cell_type": "code",
   "execution_count": 28,
   "metadata": {
    "ExecuteTime": {
     "end_time": "2018-11-12T12:24:58.572657Z",
     "start_time": "2018-11-12T12:24:58.535673Z"
    }
   },
   "outputs": [
    {
     "name": "stdout",
     "output_type": "stream",
     "text": [
      "10\n",
      "\n"
     ]
    }
   ],
   "source": [
    "with open('tmp/data.txt', 'r') as file:\n",
    "    process = subprocess.run(['wc', '-l'], stdin=file, stdout=subprocess.PIPE,\n",
    "                             encoding='utf8')\n",
    "    print(process.stdout)"
   ]
  },
  {
   "cell_type": "markdown",
   "metadata": {},
   "source": [
    "### Piping"
   ]
  },
  {
   "cell_type": "markdown",
   "metadata": {},
   "source": [
    "Piping can also be done using `subprocess`.  It is less user friendly than using the `sh` module, but it allows more control.  You will have to resort to the low-level `Popen` function."
   ]
  },
  {
   "cell_type": "code",
   "execution_count": 29,
   "metadata": {
    "ExecuteTime": {
     "end_time": "2018-11-12T12:24:58.619324Z",
     "start_time": "2018-11-12T12:24:58.580442Z"
    }
   },
   "outputs": [
    {
     "name": "stdout",
     "output_type": "stream",
     "text": [
      "-rwxrw-r-- 1 gjb gjb   858 Aug 23 16:56 subprocess_environment.py\n",
      "-rwxrw-r-- 1 gjb gjb  2439 Aug 20 08:56 sys_info.py\n",
      "\n"
     ]
    }
   ],
   "source": [
    "p1 = subprocess.Popen(['ls', '-l'], stdout=subprocess.PIPE)\n",
    "p2 = subprocess.Popen(['grep', r'\\.py$'], stdin=p1.stdout, stdout=subprocess.PIPE, encoding='utf8')\n",
    "p1.stdout.close()\n",
    "output, _ = p2.communicate()\n",
    "print(output)"
   ]
  },
  {
   "cell_type": "code",
   "execution_count": 30,
   "metadata": {
    "ExecuteTime": {
     "end_time": "2018-11-12T12:24:58.653299Z",
     "start_time": "2018-11-12T12:24:58.621453Z"
    },
    "scrolled": true
   },
   "outputs": [
    {
     "name": "stdout",
     "output_type": "stream",
     "text": [
      "13:24:57\n",
      "13:24:56\n",
      "13:24:55\n",
      "13:24:54\n",
      "13:24:53\n",
      "13:24:52\n",
      "13:24:51\n",
      "13:24:50\n",
      "13:24:49\n",
      "13:24:48\n",
      "\n"
     ]
    }
   ],
   "source": [
    "p1 = subprocess.Popen(['cut', '-d', ' ', '-f', '5', 'tmp/data.txt'], stdout=subprocess.PIPE)\n",
    "p2 = subprocess.Popen(['sort', '-r'], stdin=p1.stdout, stdout=subprocess.PIPE, encoding='utf8')\n",
    "p1.stdout.close()\n",
    "output, _ = p2.communicate()\n",
    "print(output)"
   ]
  },
  {
   "cell_type": "code",
   "execution_count": 32,
   "metadata": {
    "ExecuteTime": {
     "end_time": "2018-11-12T12:25:54.089766Z",
     "start_time": "2018-11-12T12:25:54.047352Z"
    }
   },
   "outputs": [],
   "source": [
    "_ = subprocess.run(['rm', '-r', 'tmp'])"
   ]
  }
 ],
 "metadata": {
  "kernelspec": {
   "display_name": "Python 3",
   "language": "python",
   "name": "python3"
  },
  "language_info": {
   "codemirror_mode": {
    "name": "ipython",
    "version": 3
   },
   "file_extension": ".py",
   "mimetype": "text/x-python",
   "name": "python",
   "nbconvert_exporter": "python",
   "pygments_lexer": "ipython3",
   "version": "3.6.6"
  }
 },
 "nbformat": 4,
 "nbformat_minor": 2
}
