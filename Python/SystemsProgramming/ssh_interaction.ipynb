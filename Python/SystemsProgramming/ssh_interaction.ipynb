{
 "cells": [
  {
   "cell_type": "markdown",
   "metadata": {},
   "source": [
    "# Server interaction"
   ]
  },
  {
   "cell_type": "code",
   "execution_count": 56,
   "metadata": {
    "ExecuteTime": {
     "end_time": "2018-11-14T10:05:37.607270Z",
     "start_time": "2018-11-14T10:05:37.600531Z"
    }
   },
   "outputs": [],
   "source": [
    "import paramiko\n",
    "from pathlib import Path"
   ]
  },
  {
   "cell_type": "markdown",
   "metadata": {},
   "source": [
    "## Using SSH to execute remote commands"
   ]
  },
  {
   "cell_type": "markdown",
   "metadata": {},
   "source": [
    "**Important note:** some servers have a limit on the number of successful or unsuccessful logins for a time period.  If that limit is exceeded, your IP address will be banned for some time.  Hence be careful never to make a large number of connections over a short period of time!"
   ]
  },
  {
   "cell_type": "markdown",
   "metadata": {},
   "source": [
    "Create a client, load the authentication keys, and connect to the system."
   ]
  },
  {
   "cell_type": "code",
   "execution_count": 77,
   "metadata": {
    "ExecuteTime": {
     "end_time": "2018-11-14T10:16:48.178281Z",
     "start_time": "2018-11-14T10:16:48.110990Z"
    }
   },
   "outputs": [],
   "source": [
    "client = paramiko.SSHClient()\n",
    "client.load_system_host_keys()"
   ]
  },
  {
   "cell_type": "code",
   "execution_count": 78,
   "metadata": {
    "ExecuteTime": {
     "end_time": "2018-11-14T10:16:50.623232Z",
     "start_time": "2018-11-14T10:16:50.617032Z"
    }
   },
   "outputs": [],
   "source": [
    "hostname = 'login1.hpc.kuleuven.be'"
   ]
  },
  {
   "cell_type": "code",
   "execution_count": 79,
   "metadata": {
    "ExecuteTime": {
     "end_time": "2018-11-14T10:16:51.536597Z",
     "start_time": "2018-11-14T10:16:51.006016Z"
    }
   },
   "outputs": [],
   "source": [
    "client.connect(hostname, username='vsc30140')"
   ]
  },
  {
   "cell_type": "markdown",
   "metadata": {},
   "source": [
    "Execute an `ls` command on the remote host."
   ]
  },
  {
   "cell_type": "code",
   "execution_count": 80,
   "metadata": {
    "ExecuteTime": {
     "end_time": "2018-11-14T10:17:06.432545Z",
     "start_time": "2018-11-14T10:17:06.418017Z"
    }
   },
   "outputs": [],
   "source": [
    "_, stdout, _ = client.exec_command('ls -l *.pbs')"
   ]
  },
  {
   "cell_type": "markdown",
   "metadata": {},
   "source": [
    "Now the output of the remote `ls` command can be read from `stdout`.  Note that in this case we are ignoring both standard input and standard error."
   ]
  },
  {
   "cell_type": "code",
   "execution_count": 24,
   "metadata": {
    "ExecuteTime": {
     "end_time": "2018-11-14T09:24:03.187675Z",
     "start_time": "2018-11-14T09:24:03.175826Z"
    }
   },
   "outputs": [
    {
     "name": "stdout",
     "output_type": "stream",
     "text": [
      "-rw-r----- 1 vsc30140 vsc30140 222 Aug 30 14:00 hello.pbs\n",
      "-rw-r----- 1 vsc30140 vsc30140 112 Jun  1 09:21 hello_world.pbs\n",
      "-rw-r----- 1 vsc30140 vsc30140 162 Nov  8 16:15 job.pbs\n",
      "-rw-r----- 1 vsc30140 vsc30140 197 Oct 24 09:46 oe_test.pbs\n",
      "-rw-r----- 1 vsc30140 vsc30140 174 Mar 15  2017 plot.pbs\n",
      "-rw-r----- 1 vsc30140 vsc30140 125 Nov 13 13:35 test.pbs\n"
     ]
    }
   ],
   "source": [
    "for line in stdout:\n",
    "    print(line.strip())"
   ]
  },
  {
   "cell_type": "markdown",
   "metadata": {},
   "source": [
    "### Dealing with errors"
   ]
  },
  {
   "cell_type": "markdown",
   "metadata": {},
   "source": [
    "You can check the exit status of the command that was executed, the next one will not exit succesfully.  You can also access standard error."
   ]
  },
  {
   "cell_type": "code",
   "execution_count": 90,
   "metadata": {
    "ExecuteTime": {
     "end_time": "2018-11-14T10:23:00.934700Z",
     "start_time": "2018-11-14T10:23:00.920265Z"
    }
   },
   "outputs": [],
   "source": [
    "_, stdout, stderr = client.exec_command('ls -l this_file_certainly_does_not_exists.txt')"
   ]
  },
  {
   "cell_type": "code",
   "execution_count": 91,
   "metadata": {
    "ExecuteTime": {
     "end_time": "2018-11-14T10:23:02.167343Z",
     "start_time": "2018-11-14T10:23:02.157189Z"
    }
   },
   "outputs": [
    {
     "data": {
      "text/plain": [
       "2"
      ]
     },
     "execution_count": 91,
     "metadata": {},
     "output_type": "execute_result"
    }
   ],
   "source": [
    "stdout.channel.recv_exit_status()"
   ]
  },
  {
   "cell_type": "code",
   "execution_count": 92,
   "metadata": {
    "ExecuteTime": {
     "end_time": "2018-11-14T10:23:03.064487Z",
     "start_time": "2018-11-14T10:23:03.053419Z"
    }
   },
   "outputs": [
    {
     "name": "stdout",
     "output_type": "stream",
     "text": [
      "ls: cannot access this_file_certainly_does_not_exists.txt: No such file or directory\n"
     ]
    }
   ],
   "source": [
    "print(''.join(stderr).rstrip())"
   ]
  },
  {
   "cell_type": "markdown",
   "metadata": {},
   "source": [
    "### Using standard input"
   ]
  },
  {
   "cell_type": "markdown",
   "metadata": {},
   "source": [
    "Do an `wc` on a local file that will be standard input to the remote command, reading the result back in."
   ]
  },
  {
   "cell_type": "code",
   "execution_count": 93,
   "metadata": {
    "ExecuteTime": {
     "end_time": "2018-11-14T10:23:06.521212Z",
     "start_time": "2018-11-14T10:23:06.508168Z"
    }
   },
   "outputs": [],
   "source": [
    "stdin, stdout, _ = client.exec_command('wc')"
   ]
  },
  {
   "cell_type": "markdown",
   "metadata": {},
   "source": [
    "Send the input to the remote `wc` by writing to `stdin`.  Once done, the channel for `stdin` should be shut down."
   ]
  },
  {
   "cell_type": "code",
   "execution_count": 94,
   "metadata": {
    "ExecuteTime": {
     "end_time": "2018-11-14T10:23:08.847026Z",
     "start_time": "2018-11-14T10:23:08.764023Z"
    }
   },
   "outputs": [],
   "source": [
    "with open('julia_omp.f90', 'r') as file:\n",
    "    for line in file:\n",
    "        print(line, file=stdin, end='')\n",
    "stdin.channel.shutdown_write()"
   ]
  },
  {
   "cell_type": "markdown",
   "metadata": {},
   "source": [
    "Now the output from the command can be read from `stdout`."
   ]
  },
  {
   "cell_type": "code",
   "execution_count": 95,
   "metadata": {
    "ExecuteTime": {
     "end_time": "2018-11-14T10:23:12.614231Z",
     "start_time": "2018-11-14T10:23:12.606701Z"
    },
    "scrolled": true
   },
   "outputs": [
    {
     "name": "stdout",
     "output_type": "stream",
     "text": [
      "    174     645    6270\n"
     ]
    }
   ],
   "source": [
    "print(''.join(stdout).rstrip())"
   ]
  },
  {
   "cell_type": "markdown",
   "metadata": {},
   "source": [
    "Compare to the local result."
   ]
  },
  {
   "cell_type": "code",
   "execution_count": 96,
   "metadata": {
    "ExecuteTime": {
     "end_time": "2018-11-14T10:23:21.672574Z",
     "start_time": "2018-11-14T10:23:21.539212Z"
    }
   },
   "outputs": [
    {
     "name": "stdout",
     "output_type": "stream",
     "text": [
      " 174  645 6270 julia_omp.f90\r\n"
     ]
    }
   ],
   "source": [
    "!wc julia_omp.f90"
   ]
  },
  {
   "cell_type": "code",
   "execution_count": 37,
   "metadata": {
    "ExecuteTime": {
     "end_time": "2018-11-14T09:35:47.772973Z",
     "start_time": "2018-11-14T09:35:47.758891Z"
    }
   },
   "outputs": [],
   "source": [
    "client.close()"
   ]
  },
  {
   "cell_type": "markdown",
   "metadata": {},
   "source": [
    "## Using SFTP to transfer files"
   ]
  },
  {
   "cell_type": "code",
   "execution_count": 60,
   "metadata": {
    "ExecuteTime": {
     "end_time": "2018-11-14T10:06:32.011775Z",
     "start_time": "2018-11-14T10:06:31.542212Z"
    }
   },
   "outputs": [],
   "source": [
    "client.connect(hostname, username='vsc30140')"
   ]
  },
  {
   "cell_type": "markdown",
   "metadata": {},
   "source": [
    "Open an SFTP client to the remote host, and put a file on the system."
   ]
  },
  {
   "cell_type": "code",
   "execution_count": 97,
   "metadata": {
    "ExecuteTime": {
     "end_time": "2018-11-14T10:24:10.598641Z",
     "start_time": "2018-11-14T10:24:10.573821Z"
    }
   },
   "outputs": [],
   "source": [
    "sftp_client = client.open_sftp()"
   ]
  },
  {
   "cell_type": "markdown",
   "metadata": {},
   "source": [
    "Define paths to the input file and output file."
   ]
  },
  {
   "cell_type": "code",
   "execution_count": 98,
   "metadata": {
    "ExecuteTime": {
     "end_time": "2018-11-14T10:24:12.318575Z",
     "start_time": "2018-11-14T10:24:12.311586Z"
    }
   },
   "outputs": [],
   "source": [
    "input_path = Path('julia_omp.f90')\n",
    "output_path = Path('julia_omp_wc.txt')"
   ]
  },
  {
   "cell_type": "code",
   "execution_count": 99,
   "metadata": {
    "ExecuteTime": {
     "end_time": "2018-11-14T10:24:14.648554Z",
     "start_time": "2018-11-14T10:24:14.629390Z"
    }
   },
   "outputs": [],
   "source": [
    "_ = sftp_client.put(str(input_path), str(input_path))"
   ]
  },
  {
   "cell_type": "markdown",
   "metadata": {},
   "source": [
    "Check whether the input file is on the remote host."
   ]
  },
  {
   "cell_type": "code",
   "execution_count": 100,
   "metadata": {
    "ExecuteTime": {
     "end_time": "2018-11-14T10:26:46.402850Z",
     "start_time": "2018-11-14T10:26:37.475574Z"
    }
   },
   "outputs": [
    {
     "name": "stdout",
     "output_type": "stream",
     "text": [
      "-rw-r--r-- 1 vsc30140 vsc30140 6270 Nov 14 11:24 julia_omp.f90\n",
      "\n"
     ]
    }
   ],
   "source": [
    "_, stdout, stderr = client.exec_command(f'ls -l {input_path}')\n",
    "print(''.join(stdout).rstrip())\n",
    "print(''.join(stderr).rstrip())"
   ]
  },
  {
   "cell_type": "markdown",
   "metadata": {},
   "source": [
    "Compute the word count, redirecting the output to a file."
   ]
  },
  {
   "cell_type": "code",
   "execution_count": 101,
   "metadata": {
    "ExecuteTime": {
     "end_time": "2018-11-14T10:26:54.703594Z",
     "start_time": "2018-11-14T10:26:54.684883Z"
    }
   },
   "outputs": [],
   "source": [
    "_, _, stderr = client.exec_command(f'wc {input_path} > {output_path}')"
   ]
  },
  {
   "cell_type": "markdown",
   "metadata": {},
   "source": [
    "Show standard error."
   ]
  },
  {
   "cell_type": "code",
   "execution_count": 102,
   "metadata": {
    "ExecuteTime": {
     "end_time": "2018-11-14T10:27:16.221833Z",
     "start_time": "2018-11-14T10:27:16.209464Z"
    }
   },
   "outputs": [
    {
     "name": "stdout",
     "output_type": "stream",
     "text": [
      "\n"
     ]
    }
   ],
   "source": [
    "print(''.join(stderr).rstrip())"
   ]
  },
  {
   "cell_type": "markdown",
   "metadata": {},
   "source": [
    "Transfer the result back to the local host."
   ]
  },
  {
   "cell_type": "code",
   "execution_count": 103,
   "metadata": {
    "ExecuteTime": {
     "end_time": "2018-11-14T10:27:22.886749Z",
     "start_time": "2018-11-14T10:27:22.853639Z"
    }
   },
   "outputs": [],
   "source": [
    "sftp_client.get(str(output_path), str(output_path))"
   ]
  },
  {
   "cell_type": "code",
   "execution_count": 104,
   "metadata": {
    "ExecuteTime": {
     "end_time": "2018-11-14T10:27:24.290310Z",
     "start_time": "2018-11-14T10:27:24.121201Z"
    }
   },
   "outputs": [
    {
     "name": "stdout",
     "output_type": "stream",
     "text": [
      " 174  645 6270 julia_omp.f90\r\n"
     ]
    }
   ],
   "source": [
    "!cat julia_omp_wc.txt"
   ]
  },
  {
   "cell_type": "markdown",
   "metadata": {},
   "source": [
    "Remove the local output file."
   ]
  },
  {
   "cell_type": "code",
   "execution_count": 105,
   "metadata": {
    "ExecuteTime": {
     "end_time": "2018-11-14T10:27:29.335084Z",
     "start_time": "2018-11-14T10:27:29.314383Z"
    }
   },
   "outputs": [],
   "source": [
    "output_path.unlink()"
   ]
  },
  {
   "cell_type": "markdown",
   "metadata": {},
   "source": [
    "Remove the remote input and output files."
   ]
  },
  {
   "cell_type": "code",
   "execution_count": 106,
   "metadata": {
    "ExecuteTime": {
     "end_time": "2018-11-14T10:27:32.151845Z",
     "start_time": "2018-11-14T10:27:32.125363Z"
    }
   },
   "outputs": [],
   "source": [
    "_, _, _ = client.exec_command(f'rm {input_path} {output_path}')"
   ]
  },
  {
   "cell_type": "markdown",
   "metadata": {},
   "source": [
    "Close the SFTP client and the SSH client."
   ]
  },
  {
   "cell_type": "code",
   "execution_count": 107,
   "metadata": {
    "ExecuteTime": {
     "end_time": "2018-11-14T10:27:36.430033Z",
     "start_time": "2018-11-14T10:27:36.414377Z"
    }
   },
   "outputs": [],
   "source": [
    "sftp_client.close()\n",
    "client.close()"
   ]
  }
 ],
 "metadata": {
  "kernelspec": {
   "display_name": "Python 3",
   "language": "python",
   "name": "python3"
  },
  "language_info": {
   "codemirror_mode": {
    "name": "ipython",
    "version": 3
   },
   "file_extension": ".py",
   "mimetype": "text/x-python",
   "name": "python",
   "nbconvert_exporter": "python",
   "pygments_lexer": "ipython3",
   "version": "3.6.6"
  }
 },
 "nbformat": 4,
 "nbformat_minor": 2
}
