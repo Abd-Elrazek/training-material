{
 "cells": [
  {
   "cell_type": "markdown",
   "metadata": {},
   "source": [
    "\n",
    "# Information about the system & environment"
   ]
  },
  {
   "cell_type": "code",
   "execution_count": 16,
   "metadata": {
    "ExecuteTime": {
     "end_time": "2018-11-15T06:15:12.468350Z",
     "start_time": "2018-11-15T06:15:12.456515Z"
    }
   },
   "outputs": [],
   "source": [
    "from datetime import datetime\n",
    "import os\n",
    "import platform\n",
    "import psutil\n",
    "import sh\n",
    "import sys"
   ]
  },
  {
   "cell_type": "markdown",
   "metadata": {},
   "source": [
    "Note that `psutil` is not in Python's standard library."
   ]
  },
  {
   "cell_type": "markdown",
   "metadata": {
    "heading_collapsed": true
   },
   "source": [
    "## Operating system"
   ]
  },
  {
   "cell_type": "markdown",
   "metadata": {
    "hidden": true
   },
   "source": [
    "Using the `platform` module, it is easy to obtain information on the platform the Python interpreter is running on."
   ]
  },
  {
   "cell_type": "markdown",
   "metadata": {
    "hidden": true
   },
   "source": [
    "Information about the machine name:"
   ]
  },
  {
   "cell_type": "code",
   "execution_count": 9,
   "metadata": {
    "ExecuteTime": {
     "end_time": "2018-11-07T17:01:34.372052Z",
     "start_time": "2018-11-07T17:01:34.363845Z"
    },
    "hidden": true
   },
   "outputs": [
    {
     "data": {
      "text/plain": [
       "'ubuntu'"
      ]
     },
     "execution_count": 9,
     "metadata": {},
     "output_type": "execute_result"
    }
   ],
   "source": [
    "platform.node()"
   ]
  },
  {
   "cell_type": "markdown",
   "metadata": {
    "hidden": true
   },
   "source": [
    "The architecture and hardware:"
   ]
  },
  {
   "cell_type": "code",
   "execution_count": 16,
   "metadata": {
    "ExecuteTime": {
     "end_time": "2018-11-07T17:06:41.810125Z",
     "start_time": "2018-11-07T17:06:41.803080Z"
    },
    "hidden": true
   },
   "outputs": [
    {
     "data": {
      "text/plain": [
       "'x86_64'"
      ]
     },
     "execution_count": 16,
     "metadata": {},
     "output_type": "execute_result"
    }
   ],
   "source": [
    "platform.processor()"
   ]
  },
  {
   "cell_type": "code",
   "execution_count": 13,
   "metadata": {
    "ExecuteTime": {
     "end_time": "2018-11-07T17:05:20.535781Z",
     "start_time": "2018-11-07T17:05:20.526762Z"
    },
    "hidden": true
   },
   "outputs": [
    {
     "data": {
      "text/plain": [
       "'little'"
      ]
     },
     "execution_count": 13,
     "metadata": {},
     "output_type": "execute_result"
    }
   ],
   "source": [
    "sys.byteorder"
   ]
  },
  {
   "cell_type": "code",
   "execution_count": 19,
   "metadata": {
    "ExecuteTime": {
     "end_time": "2018-11-07T17:17:42.190956Z",
     "start_time": "2018-11-07T17:17:42.180498Z"
    },
    "hidden": true
   },
   "outputs": [
    {
     "data": {
      "text/plain": [
       "1"
      ]
     },
     "execution_count": 19,
     "metadata": {},
     "output_type": "execute_result"
    }
   ],
   "source": [
    "os.cpu_count()"
   ]
  },
  {
   "cell_type": "code",
   "execution_count": 20,
   "metadata": {
    "ExecuteTime": {
     "end_time": "2018-11-07T17:19:05.095998Z",
     "start_time": "2018-11-07T17:19:05.087204Z"
    },
    "hidden": true
   },
   "outputs": [
    {
     "data": {
      "text/plain": [
       "{0}"
      ]
     },
     "execution_count": 20,
     "metadata": {},
     "output_type": "execute_result"
    }
   ],
   "source": [
    "os.sched_getaffinity(0)"
   ]
  },
  {
   "cell_type": "markdown",
   "metadata": {
    "hidden": true
   },
   "source": [
    "The operating system:"
   ]
  },
  {
   "cell_type": "code",
   "execution_count": 10,
   "metadata": {
    "ExecuteTime": {
     "end_time": "2018-11-07T17:02:46.685252Z",
     "start_time": "2018-11-07T17:02:46.674306Z"
    },
    "hidden": true
   },
   "outputs": [
    {
     "data": {
      "text/plain": [
       "'Linux'"
      ]
     },
     "execution_count": 10,
     "metadata": {},
     "output_type": "execute_result"
    }
   ],
   "source": [
    "platform.system()"
   ]
  },
  {
   "cell_type": "code",
   "execution_count": 14,
   "metadata": {
    "ExecuteTime": {
     "end_time": "2018-11-07T17:05:50.706170Z",
     "start_time": "2018-11-07T17:05:50.695836Z"
    },
    "hidden": true
   },
   "outputs": [
    {
     "data": {
      "text/plain": [
       "'4.15.0-38-generic'"
      ]
     },
     "execution_count": 14,
     "metadata": {},
     "output_type": "execute_result"
    }
   ],
   "source": [
    "platform.release()"
   ]
  },
  {
   "cell_type": "code",
   "execution_count": 15,
   "metadata": {
    "ExecuteTime": {
     "end_time": "2018-11-07T17:06:08.905170Z",
     "start_time": "2018-11-07T17:06:08.895919Z"
    },
    "hidden": true
   },
   "outputs": [
    {
     "data": {
      "text/plain": [
       "'#41-Ubuntu SMP Wed Oct 10 10:59:38 UTC 2018'"
      ]
     },
     "execution_count": 15,
     "metadata": {},
     "output_type": "execute_result"
    }
   ],
   "source": [
    "platform.version()"
   ]
  },
  {
   "cell_type": "code",
   "execution_count": 17,
   "metadata": {
    "ExecuteTime": {
     "end_time": "2018-11-07T17:07:42.032586Z",
     "start_time": "2018-11-07T17:07:41.999498Z"
    },
    "hidden": true
   },
   "outputs": [
    {
     "data": {
      "text/plain": [
       "('debian', 'buster/sid', '')"
      ]
     },
     "execution_count": 17,
     "metadata": {},
     "output_type": "execute_result"
    }
   ],
   "source": [
    "platform.linux_distribution()"
   ]
  },
  {
   "cell_type": "code",
   "execution_count": 6,
   "metadata": {
    "ExecuteTime": {
     "end_time": "2018-11-07T16:59:32.439184Z",
     "start_time": "2018-11-07T16:59:32.416272Z"
    },
    "hidden": true
   },
   "outputs": [
    {
     "data": {
      "text/plain": [
       "'Linux-4.15.0-38-generic-x86_64-with-debian-buster-sid'"
      ]
     },
     "execution_count": 6,
     "metadata": {},
     "output_type": "execute_result"
    }
   ],
   "source": [
    "platform.platform()"
   ]
  },
  {
   "cell_type": "markdown",
   "metadata": {
    "heading_collapsed": true
   },
   "source": [
    "## Numerics"
   ]
  },
  {
   "cell_type": "markdown",
   "metadata": {
    "hidden": true
   },
   "source": [
    "The properties of floating point numbers can be obtained easily from the `sys.floatinfo` object."
   ]
  },
  {
   "cell_type": "markdown",
   "metadata": {
    "hidden": true
   },
   "source": [
    "The largest floating point value that can be represented, the smallest positive non-zero value:"
   ]
  },
  {
   "cell_type": "code",
   "execution_count": 4,
   "metadata": {
    "ExecuteTime": {
     "end_time": "2018-11-07T16:54:44.353554Z",
     "start_time": "2018-11-07T16:54:44.345656Z"
    },
    "hidden": true
   },
   "outputs": [
    {
     "name": "stdout",
     "output_type": "stream",
     "text": [
      "1.7976931348623157e+308 2.2250738585072014e-308\n"
     ]
    }
   ],
   "source": [
    "print(sys.float_info.max, sys.float_info.min)"
   ]
  },
  {
   "cell_type": "markdown",
   "metadata": {
    "hidden": true
   },
   "source": [
    "The number of significant digits of a floating point value:"
   ]
  },
  {
   "cell_type": "code",
   "execution_count": 2,
   "metadata": {
    "ExecuteTime": {
     "end_time": "2018-11-07T16:50:48.061351Z",
     "start_time": "2018-11-07T16:50:48.023608Z"
    },
    "hidden": true
   },
   "outputs": [
    {
     "data": {
      "text/plain": [
       "15"
      ]
     },
     "execution_count": 2,
     "metadata": {},
     "output_type": "execute_result"
    }
   ],
   "source": [
    "sys.float_info.dig"
   ]
  },
  {
   "cell_type": "markdown",
   "metadata": {
    "heading_collapsed": true
   },
   "source": [
    "## Processes"
   ]
  },
  {
   "cell_type": "markdown",
   "metadata": {
    "hidden": true
   },
   "source": [
    "Detailed information is available on the processes running on the system."
   ]
  },
  {
   "cell_type": "code",
   "execution_count": 8,
   "metadata": {
    "ExecuteTime": {
     "end_time": "2018-11-15T05:53:15.410000Z",
     "start_time": "2018-11-15T05:53:15.293369Z"
    },
    "hidden": true,
    "scrolled": false
   },
   "outputs": [
    {
     "name": "stdout",
     "output_type": "stream",
     "text": [
      "10966: bash (threads: 1, user: 0.09, sys: 0.03)\n",
      "13085: bash (threads: 1, user: 0.05, sys: 0.03)\n"
     ]
    }
   ],
   "source": [
    "for process in psutil.process_iter():\n",
    "    if 'bash' in process.name():\n",
    "        cpu_times = process.cpu_times()\n",
    "        thread_str = f'threads: {process.num_threads()}'\n",
    "        cpu_str = f'user: {cpu_times.user}, sys: {cpu_times.system}'\n",
    "        print(f'{process.pid}: {process.name()} ({thread_str}, {cpu_str})')"
   ]
  },
  {
   "cell_type": "markdown",
   "metadata": {
    "hidden": true
   },
   "source": [
    "CPU times are cumulative over the process' life time."
   ]
  },
  {
   "cell_type": "code",
   "execution_count": 28,
   "metadata": {
    "ExecuteTime": {
     "end_time": "2018-11-12T13:01:24.027363Z",
     "start_time": "2018-11-12T13:01:23.935324Z"
    },
    "hidden": true
   },
   "outputs": [
    {
     "name": "stdout",
     "output_type": "stream",
     "text": [
      "vmtoolsd: 18.13\n",
      "snapd: 4.69\n",
      "dbus-daemon: 3.19\n",
      "dockerd: 45.21\n",
      "docker-containerd: 26.17\n",
      "gnome-shell: 30.3\n",
      "Xwayland: 20.83\n",
      "packagekitd: 23.36\n",
      "gsd-color: 6.5\n",
      "Xorg: 60.43\n",
      "gnome-shell: 1731.97\n",
      "ibus-daemon: 22.12\n",
      "gsd-color: 6.18\n",
      "vmtoolsd: 43.48\n",
      "nautilus-desktop: 5.89\n",
      "ibus-engine-simple: 7.62\n",
      "gnome-software: 9.81\n",
      "gnome-terminal-server: 7.03\n",
      "ZMQbg/1: 10.69\n",
      "chrome: 138.51\n",
      "chrome: 44.74\n",
      "chrome: 532.83\n",
      "chrome: 3.39\n",
      "chrome: 26.69\n",
      "zeal: 5.41\n",
      "chrome: 13.82\n"
     ]
    }
   ],
   "source": [
    "for process in psutil.process_iter():\n",
    "    if process.cpu_times().user > 2.5:\n",
    "        print(f'{process.name()}: {process.cpu_times().user}')"
   ]
  },
  {
   "cell_type": "markdown",
   "metadata": {
    "hidden": true
   },
   "source": [
    "It is easy to kill processes, so you might want to be careful."
   ]
  },
  {
   "cell_type": "code",
   "execution_count": 13,
   "metadata": {
    "ExecuteTime": {
     "end_time": "2018-11-15T06:05:47.011309Z",
     "start_time": "2018-11-15T06:05:46.973339Z"
    },
    "hidden": true
   },
   "outputs": [],
   "source": [
    "sleep = sh.sleep(120, _bg=True)"
   ]
  },
  {
   "cell_type": "code",
   "execution_count": 14,
   "metadata": {
    "ExecuteTime": {
     "end_time": "2018-11-15T06:05:47.632555Z",
     "start_time": "2018-11-15T06:05:47.560416Z"
    },
    "hidden": true
   },
   "outputs": [
    {
     "name": "stdout",
     "output_type": "stream",
     "text": [
      "psutil.Process(pid=13444, name='sleep', started='07:04:55')\n",
      "psutil.Process(pid=13467, name='sleep', started='07:05:46')\n"
     ]
    }
   ],
   "source": [
    "for process in psutil.process_iter():\n",
    "    if 'sleep' in process.name():\n",
    "        print(process)"
   ]
  },
  {
   "cell_type": "code",
   "execution_count": 15,
   "metadata": {
    "ExecuteTime": {
     "end_time": "2018-11-15T06:06:13.213564Z",
     "start_time": "2018-11-15T06:06:13.055494Z"
    },
    "hidden": true
   },
   "outputs": [
    {
     "name": "stdout",
     "output_type": "stream",
     "text": [
      "killing sleep...\n",
      "killed:  13467\n"
     ]
    },
    {
     "name": "stderr",
     "output_type": "stream",
     "text": [
      "Exception in thread background thread for pid 13467:\n",
      "Traceback (most recent call last):\n",
      "  File \"/home/gjb/miniconda3/envs/py36/lib/python3.6/threading.py\", line 916, in _bootstrap_inner\n",
      "    self.run()\n",
      "  File \"/home/gjb/miniconda3/envs/py36/lib/python3.6/threading.py\", line 864, in run\n",
      "    self._target(*self._args, **self._kwargs)\n",
      "  File \"/home/gjb/miniconda3/envs/py36/lib/python3.6/site-packages/sh.py\", line 1540, in wrap\n",
      "    fn(*args, **kwargs)\n",
      "  File \"/home/gjb/miniconda3/envs/py36/lib/python3.6/site-packages/sh.py\", line 2459, in background_thread\n",
      "    handle_exit_code(exit_code)\n",
      "  File \"/home/gjb/miniconda3/envs/py36/lib/python3.6/site-packages/sh.py\", line 2157, in fn\n",
      "    return self.command.handle_command_exit_code(exit_code)\n",
      "  File \"/home/gjb/miniconda3/envs/py36/lib/python3.6/site-packages/sh.py\", line 815, in handle_command_exit_code\n",
      "    raise exc\n",
      "sh.SignalException_SIGKILL: \n",
      "\n",
      "  RAN: /bin/sleep 60\n",
      "\n",
      "  STDOUT:\n",
      "\n",
      "\n",
      "  STDERR:\n",
      "\n",
      "\n"
     ]
    }
   ],
   "source": [
    "name = 'sleep'\n",
    "killed_pids = []\n",
    "for process in psutil.process_iter():\n",
    "    if name == process.name():\n",
    "        print(f'killing {name}...')\n",
    "        killed_pids.append(process.pid)\n",
    "        process.kill()\n",
    "print('killed: ', ', '.join(map(str, killed_pids)))"
   ]
  },
  {
   "cell_type": "markdown",
   "metadata": {
    "heading_collapsed": true
   },
   "source": [
    "## Users"
   ]
  },
  {
   "cell_type": "markdown",
   "metadata": {
    "hidden": true
   },
   "source": [
    "You can retrieve information on the users on the system as well."
   ]
  },
  {
   "cell_type": "code",
   "execution_count": 18,
   "metadata": {
    "ExecuteTime": {
     "end_time": "2018-11-15T06:17:52.182805Z",
     "start_time": "2018-11-15T06:17:52.173132Z"
    },
    "hidden": true
   },
   "outputs": [
    {
     "name": "stdout",
     "output_type": "stream",
     "text": [
      "gjb: 2018-11-14 20:52:32\n"
     ]
    }
   ],
   "source": [
    "for user in psutil.users():\n",
    "    started = datetime.strftime(datetime.fromtimestamp(user.started), '%Y-%m-%d %H:%M:%S')\n",
    "    print(f'{user.name}: {started}')"
   ]
  },
  {
   "cell_type": "markdown",
   "metadata": {
    "heading_collapsed": true
   },
   "source": [
    "## Performance"
   ]
  },
  {
   "cell_type": "markdown",
   "metadata": {
    "hidden": true
   },
   "source": [
    "The `psutil` module makes quite some interesting statistics related to system performance available. This can be useful when writing monitoring tools."
   ]
  },
  {
   "cell_type": "markdown",
   "metadata": {
    "hidden": true
   },
   "source": [
    "The cumulative times for user, nice, system and so on are readily available."
   ]
  },
  {
   "cell_type": "code",
   "execution_count": 32,
   "metadata": {
    "ExecuteTime": {
     "end_time": "2018-11-12T13:58:46.086214Z",
     "start_time": "2018-11-12T13:58:46.046843Z"
    },
    "hidden": true
   },
   "outputs": [
    {
     "data": {
      "text/plain": [
       "scputimes(user=2992.29, nice=67.76, system=919.06, idle=58311.66, iowait=76.19, irq=0.0, softirq=12.07, steal=0.0, guest=0.0, guest_nice=0.0)"
      ]
     },
     "execution_count": 32,
     "metadata": {},
     "output_type": "execute_result"
    }
   ],
   "source": [
    "psutil.cpu_times()"
   ]
  },
  {
   "cell_type": "markdown",
   "metadata": {
    "hidden": true
   },
   "source": [
    "Memory usage can be queried."
   ]
  },
  {
   "cell_type": "code",
   "execution_count": 33,
   "metadata": {
    "ExecuteTime": {
     "end_time": "2018-11-12T13:59:18.736545Z",
     "start_time": "2018-11-12T13:59:18.726563Z"
    },
    "hidden": true
   },
   "outputs": [
    {
     "data": {
      "text/plain": [
       "svmem(total=4112015360, available=1358479360, percent=67.0, used=2459013120, free=474349568, active=1601912832, inactive=935960576, buffers=344289280, cached=834363392, shared=19922944, slab=262770688)"
      ]
     },
     "execution_count": 33,
     "metadata": {},
     "output_type": "execute_result"
    }
   ],
   "source": [
    "psutil.virtual_memory()"
   ]
  },
  {
   "cell_type": "markdown",
   "metadata": {
    "hidden": true
   },
   "source": [
    "Disk I/O measures such as the total IOP and read/write sizes in byte are easy to obain."
   ]
  },
  {
   "cell_type": "code",
   "execution_count": 35,
   "metadata": {
    "ExecuteTime": {
     "end_time": "2018-11-12T14:00:55.751179Z",
     "start_time": "2018-11-12T14:00:55.737932Z"
    },
    "hidden": true
   },
   "outputs": [
    {
     "data": {
      "text/plain": [
       "sdiskio(read_count=462764, write_count=114006, read_bytes=5862454272, write_bytes=3719344128, read_time=328092, write_time=831264, read_merged_count=72280, write_merged_count=176461, busy_time=213560)"
      ]
     },
     "execution_count": 35,
     "metadata": {},
     "output_type": "execute_result"
    }
   ],
   "source": [
    "psutil.disk_io_counters()"
   ]
  },
  {
   "cell_type": "markdown",
   "metadata": {
    "hidden": true
   },
   "source": [
    "Network I/O can similarly be monitored."
   ]
  },
  {
   "cell_type": "code",
   "execution_count": 49,
   "metadata": {
    "ExecuteTime": {
     "end_time": "2018-11-12T14:12:03.107639Z",
     "start_time": "2018-11-12T14:12:03.088969Z"
    },
    "hidden": true
   },
   "outputs": [
    {
     "data": {
      "text/plain": [
       "snetio(bytes_sent=21116518, bytes_recv=86326034, packets_sent=61886, packets_recv=102453, errin=0, errout=0, dropin=0, dropout=0)"
      ]
     },
     "execution_count": 49,
     "metadata": {},
     "output_type": "execute_result"
    }
   ],
   "source": [
    "psutil.net_io_counters()"
   ]
  },
  {
   "cell_type": "markdown",
   "metadata": {
    "hidden": true
   },
   "source": [
    "Disk usage for all partitions can be queried."
   ]
  },
  {
   "cell_type": "code",
   "execution_count": 48,
   "metadata": {
    "ExecuteTime": {
     "end_time": "2018-11-12T14:10:38.964333Z",
     "start_time": "2018-11-12T14:10:38.952773Z"
    },
    "hidden": true
   },
   "outputs": [
    {
     "name": "stdout",
     "output_type": "stream",
     "text": [
      "/: 77.5\n",
      "/var/lib/docker/aufs: 77.5\n"
     ]
    }
   ],
   "source": [
    "for partition in psutil.disk_partitions():\n",
    "    mountpoint = partition.mountpoint\n",
    "    if 'snap' not in mountpoint:\n",
    "        print(f'{mountpoint}: {psutil.disk_usage(mountpoint).percent:.1f}')"
   ]
  }
 ],
 "metadata": {
  "kernelspec": {
   "display_name": "Python 3",
   "language": "python",
   "name": "python3"
  },
  "language_info": {
   "codemirror_mode": {
    "name": "ipython",
    "version": 3
   },
   "file_extension": ".py",
   "mimetype": "text/x-python",
   "name": "python",
   "nbconvert_exporter": "python",
   "pygments_lexer": "ipython3",
   "version": "3.6.6"
  }
 },
 "nbformat": 4,
 "nbformat_minor": 2
}
