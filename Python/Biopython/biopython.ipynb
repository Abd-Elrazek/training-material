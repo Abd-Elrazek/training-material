{
 "cells": [
  {
   "cell_type": "markdown",
   "metadata": {},
   "source": [
    "# Biopython"
   ]
  },
  {
   "cell_type": "markdown",
   "metadata": {},
   "source": [
    "## Sequences and records"
   ]
  },
  {
   "cell_type": "markdown",
   "metadata": {},
   "source": [
    "Load the required modules."
   ]
  },
  {
   "cell_type": "code",
   "execution_count": 48,
   "metadata": {
    "collapsed": true
   },
   "outputs": [],
   "source": [
    "from Bio import SeqIO"
   ]
  },
  {
   "cell_type": "markdown",
   "metadata": {},
   "source": [
    "Read a GenBank sequence file."
   ]
  },
  {
   "cell_type": "code",
   "execution_count": 49,
   "metadata": {
    "collapsed": true
   },
   "outputs": [],
   "source": [
    "seq_records = SeqIO.parse('Data/382544572.gbk', 'genbank')"
   ]
  },
  {
   "cell_type": "markdown",
   "metadata": {},
   "source": [
    "This file has just a single record, so we access that one."
   ]
  },
  {
   "cell_type": "code",
   "execution_count": 50,
   "metadata": {
    "collapsed": true
   },
   "outputs": [],
   "source": [
    "seq_record = next(seq_records)"
   ]
  },
  {
   "cell_type": "markdown",
   "metadata": {},
   "source": [
    "Some metadata can be printed."
   ]
  },
  {
   "cell_type": "code",
   "execution_count": 51,
   "metadata": {
    "collapsed": false
   },
   "outputs": [
    {
     "name": "stdout",
     "output_type": "stream",
     "text": [
      "ID:  NG_007109.2\n",
      "Name:  NG_007109\n",
      "Description:  Homo sapiens mutL homolog 1 (MLH1), RefSeqGene (LRG_216) on chromosome 3.\n",
      "Length:  79540\n"
     ]
    }
   ],
   "source": [
    "print('ID: ', seq_record.id)\n",
    "print('Name: ', seq_record.name)\n",
    "print('Description: ', seq_record.description)\n",
    "print('Length: ', len(seq_record))"
   ]
  },
  {
   "cell_type": "markdown",
   "metadata": {},
   "source": [
    "Check the number of features."
   ]
  },
  {
   "cell_type": "code",
   "execution_count": 52,
   "metadata": {
    "collapsed": false
   },
   "outputs": [
    {
     "name": "stdout",
     "output_type": "stream",
     "text": [
      "Number of features:  36\n"
     ]
    }
   ],
   "source": [
    "print('Number of features: ', len(seq_record.features))"
   ]
  },
  {
   "cell_type": "markdown",
   "metadata": {},
   "source": [
    "Figure out which features we have in the record, and what index they have in the list."
   ]
  },
  {
   "cell_type": "code",
   "execution_count": 53,
   "metadata": {
    "collapsed": false
   },
   "outputs": [
    {
     "name": "stdout",
     "output_type": "stream",
     "text": [
      "source: 0\n",
      "exon: 6,8,9,10,11,12,13,14,15,17,18,19,20,21,22,23,24,25,26\n",
      "mRNA: 2,5,28,29,30,31\n",
      "gene: 1,4,16,27\n",
      "CDS: 3,7,32,33,34,35\n"
     ]
    }
   ],
   "source": [
    "features = dict()\n",
    "for i, feature in enumerate(seq_record.features):\n",
    "    if feature.type not in features:\n",
    "        features[feature.type] = []\n",
    "    features[feature.type].append(i)\n",
    "for type in features:\n",
    "    print('{0}: {1}'.format(type, ','.join(str(x) for x in features[type])))"
   ]
  },
  {
   "cell_type": "markdown",
   "metadata": {},
   "source": [
    "Which genes do we have?"
   ]
  },
  {
   "cell_type": "code",
   "execution_count": 54,
   "metadata": {
    "collapsed": false
   },
   "outputs": [
    {
     "name": "stdout",
     "output_type": "stream",
     "text": [
      "type: gene\n",
      "location: [<0:4955](-)\n",
      "qualifiers:\n",
      "    Key: db_xref, Value: ['GeneID:9852', 'HGNC:HGNC:19735', 'MIM:607911']\n",
      "    Key: gene, Value: ['EPM2AIP1']\n",
      "    Key: note, Value: ['EPM2A interacting protein 1']\n",
      "\n",
      "type: gene\n",
      "location: [5000:62497](+)\n",
      "qualifiers:\n",
      "    Key: db_xref, Value: ['GeneID:4292', 'HGNC:HGNC:7127', 'MIM:120436']\n",
      "    Key: gene, Value: ['MLH1']\n",
      "    Key: gene_synonym, Value: ['COCA2; FCC2; hMLH1; HNPCC; HNPCC2']\n",
      "    Key: note, Value: ['mutL homolog 1']\n",
      "\n",
      "type: gene\n",
      "location: [28048:28685](-)\n",
      "qualifiers:\n",
      "    Key: db_xref, Value: ['GeneID:100131713', 'HGNC:HGNC:36905']\n",
      "    Key: gene, Value: ['RPL29P11']\n",
      "    Key: gene_synonym, Value: ['RPL29_2_362']\n",
      "    Key: note, Value: ['ribosomal protein L29 pseudogene 11']\n",
      "    Key: pseudo, Value: ['']\n",
      "\n",
      "type: gene\n",
      "location: [64276:>79540](-)\n",
      "qualifiers:\n",
      "    Key: db_xref, Value: ['GeneID:9209', 'HGNC:HGNC:6703', 'MIM:614043']\n",
      "    Key: gene, Value: ['LRRFIP2']\n",
      "    Key: gene_synonym, Value: ['HUFI-2']\n",
      "    Key: note, Value: ['LRR binding FLII interacting protein 2']\n",
      "\n"
     ]
    }
   ],
   "source": [
    "for index in features['gene']:\n",
    "    print(seq_record.features[index])"
   ]
  },
  {
   "cell_type": "markdown",
   "metadata": {},
   "source": [
    "We're interested in the MLH1 gene, so we look at this feature in detail."
   ]
  },
  {
   "cell_type": "code",
   "execution_count": 55,
   "metadata": {
    "collapsed": true
   },
   "outputs": [],
   "source": [
    "mklh1_feature = seq_record.features[4]"
   ]
  },
  {
   "cell_type": "markdown",
   "metadata": {},
   "source": [
    "The location is of special interest if we want to slice the record."
   ]
  },
  {
   "cell_type": "code",
   "execution_count": 56,
   "metadata": {
    "collapsed": false
   },
   "outputs": [],
   "source": [
    "start_pos = int(mklh1_feature.location.start)\n",
    "end_pos = int(mklh1_feature.location.end)"
   ]
  },
  {
   "cell_type": "code",
   "execution_count": 57,
   "metadata": {
    "collapsed": true
   },
   "outputs": [],
   "source": [
    "mklh1_record = seq_record[start_pos:end_pos]"
   ]
  },
  {
   "cell_type": "markdown",
   "metadata": {},
   "source": [
    "Note that the subseqence record has retained a number of features, but only those that pertain to the subsequence itself."
   ]
  },
  {
   "cell_type": "code",
   "execution_count": 58,
   "metadata": {
    "collapsed": false
   },
   "outputs": [
    {
     "data": {
      "text/plain": [
       "23"
      ]
     },
     "execution_count": 58,
     "metadata": {},
     "output_type": "execute_result"
    }
   ],
   "source": [
    "len(mklh1_record.features)"
   ]
  },
  {
   "cell_type": "code",
   "execution_count": 59,
   "metadata": {
    "collapsed": false,
    "scrolled": true
   },
   "outputs": [
    {
     "name": "stdout",
     "output_type": "stream",
     "text": [
      "type: gene\n",
      "location: [0:57497](+)\n",
      "qualifiers:\n",
      "    Key: db_xref, Value: ['GeneID:4292', 'HGNC:HGNC:7127', 'MIM:120436']\n",
      "    Key: gene, Value: ['MLH1']\n",
      "    Key: gene_synonym, Value: ['COCA2; FCC2; hMLH1; HNPCC; HNPCC2']\n",
      "    Key: note, Value: ['mutL homolog 1']\n",
      "\n",
      "type: mRNA\n",
      "location: join{[0:314](+), [3269:3360](+), [7605:7704](+), [11051:11125](+), [13641:13714](+), [15464:15556](+), [18470:18513](+), [18661:18750](+), [21082:21195](+), [24156:24250](+), [26960:27114](+), [32287:32658](+), [35434:35583](+), [46836:46945](+), [48918:48982](+), [54169:54334](+), [55167:55260](+), [55554:55668](+), [57136:57497](+)}\n",
      "qualifiers:\n",
      "    Key: db_xref, Value: ['GI:263191547', 'LRG:t1', 'GeneID:4292', 'HGNC:HGNC:7127', 'MIM:120436']\n",
      "    Key: gene, Value: ['MLH1']\n",
      "    Key: gene_synonym, Value: ['COCA2; FCC2; hMLH1; HNPCC; HNPCC2']\n",
      "    Key: product, Value: ['mutL homolog 1, transcript variant 1']\n",
      "    Key: transcript_id, Value: ['NM_000249.3']\n",
      "Sub-Features\n",
      "type: mRNA\n",
      "location: [0:314](+)\n",
      "qualifiers:\n",
      "\n",
      "type: mRNA\n",
      "location: [3269:3360](+)\n",
      "qualifiers:\n",
      "\n",
      "type: mRNA\n",
      "location: [7605:7704](+)\n",
      "qualifiers:\n",
      "\n",
      "type: mRNA\n",
      "location: [11051:11125](+)\n",
      "qualifiers:\n",
      "\n",
      "type: mRNA\n",
      "location: [13641:13714](+)\n",
      "qualifiers:\n",
      "\n",
      "type: mRNA\n",
      "location: [15464:15556](+)\n",
      "qualifiers:\n",
      "\n",
      "type: mRNA\n",
      "location: [18470:18513](+)\n",
      "qualifiers:\n",
      "\n",
      "type: mRNA\n",
      "location: [18661:18750](+)\n",
      "qualifiers:\n",
      "\n",
      "type: mRNA\n",
      "location: [21082:21195](+)\n",
      "qualifiers:\n",
      "\n",
      "type: mRNA\n",
      "location: [24156:24250](+)\n",
      "qualifiers:\n",
      "\n",
      "type: mRNA\n",
      "location: [26960:27114](+)\n",
      "qualifiers:\n",
      "\n",
      "type: mRNA\n",
      "location: [32287:32658](+)\n",
      "qualifiers:\n",
      "\n",
      "type: mRNA\n",
      "location: [35434:35583](+)\n",
      "qualifiers:\n",
      "\n",
      "type: mRNA\n",
      "location: [46836:46945](+)\n",
      "qualifiers:\n",
      "\n",
      "type: mRNA\n",
      "location: [48918:48982](+)\n",
      "qualifiers:\n",
      "\n",
      "type: mRNA\n",
      "location: [54169:54334](+)\n",
      "qualifiers:\n",
      "\n",
      "type: mRNA\n",
      "location: [55167:55260](+)\n",
      "qualifiers:\n",
      "\n",
      "type: mRNA\n",
      "location: [55554:55668](+)\n",
      "qualifiers:\n",
      "\n",
      "type: mRNA\n",
      "location: [57136:57497](+)\n",
      "qualifiers:\n",
      "\n",
      "\n",
      "type: exon\n",
      "location: [0:314](+)\n",
      "qualifiers:\n",
      "    Key: gene, Value: ['MLH1']\n",
      "    Key: gene_synonym, Value: ['COCA2; FCC2; hMLH1; HNPCC; HNPCC2']\n",
      "    Key: inference, Value: ['alignment:Splign:1.39.8']\n",
      "    Key: number, Value: ['1']\n",
      "\n",
      "type: CDS\n",
      "location: join{[198:314](+), [3269:3360](+), [7605:7704](+), [11051:11125](+), [13641:13714](+), [15464:15556](+), [18470:18513](+), [18661:18750](+), [21082:21195](+), [24156:24250](+), [26960:27114](+), [32287:32658](+), [35434:35583](+), [46836:46945](+), [48918:48982](+), [54169:54334](+), [55167:55260](+), [55554:55668](+), [57136:57304](+)}\n",
      "qualifiers:\n",
      "    Key: codon_start, Value: ['1']\n",
      "    Key: db_xref, Value: ['GI:4557757', 'CCDS:CCDS2663.1', 'LRG:p1', 'GeneID:4292', 'HGNC:HGNC:7127', 'MIM:120436']\n",
      "    Key: gene, Value: ['MLH1']\n",
      "    Key: gene_synonym, Value: ['COCA2; FCC2; hMLH1; HNPCC; HNPCC2']\n",
      "    Key: note, Value: ['isoform 1 is encoded by transcript variant 1; DNA mismatch repair protein Mlh1; mutL homolog 1, colon cancer, nonpolyposis type 2']\n",
      "    Key: product, Value: ['DNA mismatch repair protein Mlh1 isoform 1']\n",
      "    Key: protein_id, Value: ['NP_000240.1']\n",
      "    Key: translation, Value: ['MSFVAGVIRRLDETVVNRIAAGEVIQRPANAIKEMIENCLDAKSTSIQVIVKEGGLKLIQIQDNGTGIRKEDLDIVCERFTTSKLQSFEDLASISTYGFRGEALASISHVAHVTITTKTADGKCAYRASYSDGKLKAPPKPCAGNQGTQITVEDLFYNIATRRKALKNPSEEYGKILEVVGRYSVHNAGISFSVKKQGETVADVRTLPNASTVDNIRSIFGNAVSRELIEIGCEDKTLAFKMNGYISNANYSVKKCIFLLFINHRLVESTSLRKAIETVYAAYLPKNTHPFLYLSLEISPQNVDVNVHPTKHEVHFLHEESILERVQQHIESKLLGSNSSRMYFTQTLLPGLAGPSGEMVKSTTSLTSSSTSGSSDKVYAHQMVRTDSREQKLDAFLQPLSKPLSSQPQAIVTEDKTDISSGRARQQDEEMLELPAPAEVAAKNQSLEGDTTKGTSEMSEKRGPTSSNPRKRHREDSDVEMVEDDSRKEMTAACTPRRRIINLTSVLSLQEEINEQGHEVLREMLHNHSFVGCVNPQWALAQHQTKLYLLNTTKLSEELFYQILIYDFANFGVLRLSEPAPLFDLAMLALDSPESGWTEEDGPKEGLAEYIVEFLKKKAEMLADYFSLEIDEEGNLIGLPLLIDNYVPPLEGLPIFILRLATEVNWDEEKECFESLSKECAMFYSIRKQYISEESTLSGQQSEVPGSIPNSWKWTVEHIVYKALRSHILPPKHFTEDGNILQLANLPDLYKVFERC']\n",
      "Sub-Features\n",
      "type: CDS\n",
      "location: [198:314](+)\n",
      "qualifiers:\n",
      "\n",
      "type: CDS\n",
      "location: [3269:3360](+)\n",
      "qualifiers:\n",
      "\n",
      "type: CDS\n",
      "location: [7605:7704](+)\n",
      "qualifiers:\n",
      "\n",
      "type: CDS\n",
      "location: [11051:11125](+)\n",
      "qualifiers:\n",
      "\n",
      "type: CDS\n",
      "location: [13641:13714](+)\n",
      "qualifiers:\n",
      "\n",
      "type: CDS\n",
      "location: [15464:15556](+)\n",
      "qualifiers:\n",
      "\n",
      "type: CDS\n",
      "location: [18470:18513](+)\n",
      "qualifiers:\n",
      "\n",
      "type: CDS\n",
      "location: [18661:18750](+)\n",
      "qualifiers:\n",
      "\n",
      "type: CDS\n",
      "location: [21082:21195](+)\n",
      "qualifiers:\n",
      "\n",
      "type: CDS\n",
      "location: [24156:24250](+)\n",
      "qualifiers:\n",
      "\n",
      "type: CDS\n",
      "location: [26960:27114](+)\n",
      "qualifiers:\n",
      "\n",
      "type: CDS\n",
      "location: [32287:32658](+)\n",
      "qualifiers:\n",
      "\n",
      "type: CDS\n",
      "location: [35434:35583](+)\n",
      "qualifiers:\n",
      "\n",
      "type: CDS\n",
      "location: [46836:46945](+)\n",
      "qualifiers:\n",
      "\n",
      "type: CDS\n",
      "location: [48918:48982](+)\n",
      "qualifiers:\n",
      "\n",
      "type: CDS\n",
      "location: [54169:54334](+)\n",
      "qualifiers:\n",
      "\n",
      "type: CDS\n",
      "location: [55167:55260](+)\n",
      "qualifiers:\n",
      "\n",
      "type: CDS\n",
      "location: [55554:55668](+)\n",
      "qualifiers:\n",
      "\n",
      "type: CDS\n",
      "location: [57136:57304](+)\n",
      "qualifiers:\n",
      "\n",
      "\n",
      "type: exon\n",
      "location: [3269:3360](+)\n",
      "qualifiers:\n",
      "    Key: gene, Value: ['MLH1']\n",
      "    Key: gene_synonym, Value: ['COCA2; FCC2; hMLH1; HNPCC; HNPCC2']\n",
      "    Key: inference, Value: ['alignment:Splign:1.39.8']\n",
      "    Key: number, Value: ['2']\n",
      "\n",
      "type: exon\n",
      "location: [7605:7704](+)\n",
      "qualifiers:\n",
      "    Key: gene, Value: ['MLH1']\n",
      "    Key: gene_synonym, Value: ['COCA2; FCC2; hMLH1; HNPCC; HNPCC2']\n",
      "    Key: inference, Value: ['alignment:Splign:1.39.8']\n",
      "    Key: number, Value: ['3']\n",
      "\n",
      "type: exon\n",
      "location: [11051:11125](+)\n",
      "qualifiers:\n",
      "    Key: gene, Value: ['MLH1']\n",
      "    Key: gene_synonym, Value: ['COCA2; FCC2; hMLH1; HNPCC; HNPCC2']\n",
      "    Key: inference, Value: ['alignment:Splign:1.39.8']\n",
      "    Key: number, Value: ['4']\n",
      "\n",
      "type: exon\n",
      "location: [13641:13714](+)\n",
      "qualifiers:\n",
      "    Key: gene, Value: ['MLH1']\n",
      "    Key: gene_synonym, Value: ['COCA2; FCC2; hMLH1; HNPCC; HNPCC2']\n",
      "    Key: inference, Value: ['alignment:Splign:1.39.8']\n",
      "    Key: number, Value: ['5']\n",
      "\n",
      "type: exon\n",
      "location: [15464:15556](+)\n",
      "qualifiers:\n",
      "    Key: gene, Value: ['MLH1']\n",
      "    Key: gene_synonym, Value: ['COCA2; FCC2; hMLH1; HNPCC; HNPCC2']\n",
      "    Key: inference, Value: ['alignment:Splign:1.39.8']\n",
      "    Key: number, Value: ['6']\n",
      "\n",
      "type: exon\n",
      "location: [18470:18513](+)\n",
      "qualifiers:\n",
      "    Key: gene, Value: ['MLH1']\n",
      "    Key: gene_synonym, Value: ['COCA2; FCC2; hMLH1; HNPCC; HNPCC2']\n",
      "    Key: inference, Value: ['alignment:Splign:1.39.8']\n",
      "    Key: number, Value: ['7']\n",
      "\n",
      "type: exon\n",
      "location: [18661:18750](+)\n",
      "qualifiers:\n",
      "    Key: gene, Value: ['MLH1']\n",
      "    Key: gene_synonym, Value: ['COCA2; FCC2; hMLH1; HNPCC; HNPCC2']\n",
      "    Key: inference, Value: ['alignment:Splign:1.39.8']\n",
      "    Key: number, Value: ['8']\n",
      "\n",
      "type: exon\n",
      "location: [21082:21195](+)\n",
      "qualifiers:\n",
      "    Key: gene, Value: ['MLH1']\n",
      "    Key: gene_synonym, Value: ['COCA2; FCC2; hMLH1; HNPCC; HNPCC2']\n",
      "    Key: inference, Value: ['alignment:Splign:1.39.8']\n",
      "    Key: number, Value: ['9']\n",
      "\n",
      "type: gene\n",
      "location: [23048:23685](-)\n",
      "qualifiers:\n",
      "    Key: db_xref, Value: ['GeneID:100131713', 'HGNC:HGNC:36905']\n",
      "    Key: gene, Value: ['RPL29P11']\n",
      "    Key: gene_synonym, Value: ['RPL29_2_362']\n",
      "    Key: note, Value: ['ribosomal protein L29 pseudogene 11']\n",
      "    Key: pseudo, Value: ['']\n",
      "\n",
      "type: exon\n",
      "location: [24156:24250](+)\n",
      "qualifiers:\n",
      "    Key: gene, Value: ['MLH1']\n",
      "    Key: gene_synonym, Value: ['COCA2; FCC2; hMLH1; HNPCC; HNPCC2']\n",
      "    Key: inference, Value: ['alignment:Splign:1.39.8']\n",
      "    Key: number, Value: ['10']\n",
      "\n",
      "type: exon\n",
      "location: [26960:27114](+)\n",
      "qualifiers:\n",
      "    Key: gene, Value: ['MLH1']\n",
      "    Key: gene_synonym, Value: ['COCA2; FCC2; hMLH1; HNPCC; HNPCC2']\n",
      "    Key: inference, Value: ['alignment:Splign:1.39.8']\n",
      "    Key: number, Value: ['11']\n",
      "\n",
      "type: exon\n",
      "location: [32287:32658](+)\n",
      "qualifiers:\n",
      "    Key: gene, Value: ['MLH1']\n",
      "    Key: gene_synonym, Value: ['COCA2; FCC2; hMLH1; HNPCC; HNPCC2']\n",
      "    Key: inference, Value: ['alignment:Splign:1.39.8']\n",
      "    Key: number, Value: ['12']\n",
      "\n",
      "type: exon\n",
      "location: [35434:35583](+)\n",
      "qualifiers:\n",
      "    Key: gene, Value: ['MLH1']\n",
      "    Key: gene_synonym, Value: ['COCA2; FCC2; hMLH1; HNPCC; HNPCC2']\n",
      "    Key: inference, Value: ['alignment:Splign:1.39.8']\n",
      "    Key: number, Value: ['13']\n",
      "\n",
      "type: exon\n",
      "location: [46836:46945](+)\n",
      "qualifiers:\n",
      "    Key: gene, Value: ['MLH1']\n",
      "    Key: gene_synonym, Value: ['COCA2; FCC2; hMLH1; HNPCC; HNPCC2']\n",
      "    Key: inference, Value: ['alignment:Splign:1.39.8']\n",
      "    Key: number, Value: ['14']\n",
      "\n",
      "type: exon\n",
      "location: [48918:48982](+)\n",
      "qualifiers:\n",
      "    Key: gene, Value: ['MLH1']\n",
      "    Key: gene_synonym, Value: ['COCA2; FCC2; hMLH1; HNPCC; HNPCC2']\n",
      "    Key: inference, Value: ['alignment:Splign:1.39.8']\n",
      "    Key: number, Value: ['15']\n",
      "\n",
      "type: exon\n",
      "location: [54169:54334](+)\n",
      "qualifiers:\n",
      "    Key: gene, Value: ['MLH1']\n",
      "    Key: gene_synonym, Value: ['COCA2; FCC2; hMLH1; HNPCC; HNPCC2']\n",
      "    Key: inference, Value: ['alignment:Splign:1.39.8']\n",
      "    Key: number, Value: ['16']\n",
      "\n",
      "type: exon\n",
      "location: [55167:55260](+)\n",
      "qualifiers:\n",
      "    Key: gene, Value: ['MLH1']\n",
      "    Key: gene_synonym, Value: ['COCA2; FCC2; hMLH1; HNPCC; HNPCC2']\n",
      "    Key: inference, Value: ['alignment:Splign:1.39.8']\n",
      "    Key: number, Value: ['17']\n",
      "\n",
      "type: exon\n",
      "location: [55554:55668](+)\n",
      "qualifiers:\n",
      "    Key: gene, Value: ['MLH1']\n",
      "    Key: gene_synonym, Value: ['COCA2; FCC2; hMLH1; HNPCC; HNPCC2']\n",
      "    Key: inference, Value: ['alignment:Splign:1.39.8']\n",
      "    Key: number, Value: ['18']\n",
      "\n",
      "type: exon\n",
      "location: [57136:57497](+)\n",
      "qualifiers:\n",
      "    Key: gene, Value: ['MLH1']\n",
      "    Key: gene_synonym, Value: ['COCA2; FCC2; hMLH1; HNPCC; HNPCC2']\n",
      "    Key: inference, Value: ['alignment:Splign:1.39.8']\n",
      "    Key: number, Value: ['19']\n",
      "\n"
     ]
    }
   ],
   "source": [
    "for feature in mklh1_record.features:\n",
    "    print(feature)"
   ]
  },
  {
   "cell_type": "markdown",
   "metadata": {},
   "source": [
    "The length of this subsequence if of course less than that of the entire sequence."
   ]
  },
  {
   "cell_type": "code",
   "execution_count": 60,
   "metadata": {
    "collapsed": false
   },
   "outputs": [
    {
     "data": {
      "text/plain": [
       "57497"
      ]
     },
     "execution_count": 60,
     "metadata": {},
     "output_type": "execute_result"
    }
   ],
   "source": [
    "len(mklh1_record)"
   ]
  },
  {
   "cell_type": "markdown",
   "metadata": {
    "collapsed": true
   },
   "source": [
    "## Phylogenetic trees"
   ]
  },
  {
   "cell_type": "markdown",
   "metadata": {},
   "source": [
    "Import the `Phylo` module, and set `matplotlib` configuration."
   ]
  },
  {
   "cell_type": "code",
   "execution_count": 61,
   "metadata": {
    "collapsed": true
   },
   "outputs": [],
   "source": [
    "from Bio import Phylo\n",
    "%matplotlib inline"
   ]
  },
  {
   "cell_type": "markdown",
   "metadata": {},
   "source": [
    "Reader the tree from a Neewick file, this tree is annotated with branch lengths."
   ]
  },
  {
   "cell_type": "code",
   "execution_count": 62,
   "metadata": {
    "collapsed": false
   },
   "outputs": [],
   "source": [
    "tree = Phylo.read('Data/crab.tree', 'newick')"
   ]
  },
  {
   "cell_type": "markdown",
   "metadata": {},
   "source": [
    "Create a plot for the tree, note that branch lengths are respected."
   ]
  },
  {
   "cell_type": "code",
   "execution_count": 63,
   "metadata": {
    "collapsed": false
   },
   "outputs": [
    {
     "data": {
      "image/png": "[encoded data removed]",
      "text/plain": [
       "<matplotlib.figure.Figure at 0x7efeaa041a58>"
      ]
     },
     "metadata": {},
     "output_type": "display_data"
    }
   ],
   "source": [
    "Phylo.draw(tree)"
   ]
  },
  {
   "cell_type": "markdown",
   "metadata": {},
   "source": [
    "Check the number of terminal clades."
   ]
  },
  {
   "cell_type": "code",
   "execution_count": 64,
   "metadata": {
    "collapsed": true
   },
   "outputs": [],
   "source": [
    "terminal_clades = tree.get_terminals()"
   ]
  },
  {
   "cell_type": "code",
   "execution_count": 65,
   "metadata": {
    "collapsed": false
   },
   "outputs": [
    {
     "data": {
      "text/plain": [
       "63"
      ]
     },
     "execution_count": 65,
     "metadata": {},
     "output_type": "execute_result"
    }
   ],
   "source": [
    "tree.count_terminals()"
   ]
  },
  {
   "cell_type": "markdown",
   "metadata": {},
   "source": [
    "Examine properties of a clade."
   ]
  },
  {
   "cell_type": "code",
   "execution_count": 66,
   "metadata": {
    "collapsed": true
   },
   "outputs": [],
   "source": [
    "clade = terminal_clades[0]"
   ]
  },
  {
   "cell_type": "code",
   "execution_count": 67,
   "metadata": {
    "collapsed": false
   },
   "outputs": [
    {
     "name": "stdout",
     "output_type": "stream",
     "text": [
      "2070OziPo\n",
      "0.021138\n"
     ]
    }
   ],
   "source": [
    "print(clade.name)\n",
    "print(clade.branch_length)"
   ]
  },
  {
   "cell_type": "markdown",
   "metadata": {},
   "source": [
    "Get the path from the tree's root to this clade."
   ]
  },
  {
   "cell_type": "code",
   "execution_count": 68,
   "metadata": {
    "collapsed": false
   },
   "outputs": [
    {
     "data": {
      "text/plain": [
       "[Clade(branch_length=0.045735),\n",
       " Clade(branch_length=0.045783),\n",
       " Clade(branch_length=0.037123),\n",
       " Clade(branch_length=0.019266),\n",
       " Clade(branch_length=0.018156),\n",
       " Clade(branch_length=0.021138, name='2070OziPo')]"
      ]
     },
     "execution_count": 68,
     "metadata": {},
     "output_type": "execute_result"
    }
   ],
   "source": [
    "tree.get_path(clade)"
   ]
  },
  {
   "cell_type": "markdown",
   "metadata": {},
   "source": [
    "Compute the depths of all clades, and print those of the terminal ones."
   ]
  },
  {
   "cell_type": "code",
   "execution_count": 69,
   "metadata": {
    "collapsed": false
   },
   "outputs": [
    {
     "name": "stdout",
     "output_type": "stream",
     "text": [
      "2070OziPo: 0.187\n",
      "2006OziSt: 0.183\n",
      "2143OziN: 0.165\n",
      "2012OziN: 0.169\n",
      "2128OziGa: 0.170\n",
      "2214OziGa: 0.168\n",
      "2190OziAu: 0.213\n",
      "2073OziNn: 0.203\n",
      "2154OziBi: 0.203\n",
      "2188SpiWu: 0.168\n",
      "2218SpiFe: 0.185\n",
      "2077SpiNn: 0.184\n",
      "2221SpiPa: 0.173\n",
      "2219OziHi: 0.167\n",
      "2176OziHi: 0.161\n",
      "2001MahAd: 0.202\n",
      "2042CeyDi: 0.202\n",
      "2016MahIo: 0.211\n",
      "2102MahIo: 0.198\n",
      "2035MahAd: 0.198\n",
      "2018CeyRu: 0.198\n",
      "2109CeyRu: 0.202\n",
      "2036CeyN: 0.201\n",
      "2134CeySe: 0.196\n",
      "2151CeyKa: 0.250\n",
      "2108PerFe: 0.175\n",
      "2008CeySc: 0.194\n",
      "2183PerRo: 0.193\n",
      "2013PerNa: 0.195\n",
      "2139MahOr: 0.215\n",
      "2209MahOr: 0.206\n",
      "2120MahOr: 0.210\n",
      "2122CeySo: 0.173\n",
      "2007CeyAl: 0.198\n",
      "2033CeyDi: 0.186\n",
      "2019CeyAl: 0.187\n",
      "2106CeyAr: 0.206\n",
      "2192CeyCa: 0.139\n",
      "2017CeySa: 0.141\n",
      "2021CeyCa: 0.139\n",
      "2039CeyCa: 0.144\n",
      "2140PasRu: 0.249\n",
      "2211CliKa: 0.223\n",
      "2215Ceyve: 0.190\n",
      "2132PerPu: 0.171\n",
      "2207PerPu: 0.171\n",
      "2022PerMo: 0.177\n",
      "2058PerUv: 0.196\n",
      "2056PerUv: 0.196\n",
      "2119PerN: 0.164\n",
      "2186PerIn: 0.165\n",
      "2126PerN: 0.165\n",
      "2208PerCr: 0.188\n",
      "2074TraNn: 0.187\n",
      "2094TraNn: 0.199\n",
      "2174TraN: 0.219\n",
      "2086TraSc: 0.267\n",
      "2100CylSt: 0.150\n",
      "2099TraNn: 0.129\n",
      "2158GubN: 0.178\n",
      "2196SSpi: 0.201\n",
      "2084BarCu: 0.171\n",
      "2098BarNn: 0.170\n"
     ]
    }
   ],
   "source": [
    "depths = tree.depths()\n",
    "for clade in tree.get_terminals():\n",
    "    print('{0}: {1:.3f}'.format(clade.name, depths[clade]))"
   ]
  },
  {
   "cell_type": "markdown",
   "metadata": {},
   "source": [
    "Take the first five terminal clades, and compute the distance matrix."
   ]
  },
  {
   "cell_type": "code",
   "execution_count": null,
   "metadata": {
    "collapsed": true
   },
   "outputs": [],
   "source": []
  }
 ],
 "metadata": {
  "kernelspec": {
   "display_name": "Python 3",
   "language": "python",
   "name": "python3"
  },
  "language_info": {
   "codemirror_mode": {
    "name": "ipython",
    "version": 3
   },
   "file_extension": ".py",
   "mimetype": "text/x-python",
   "name": "python",
   "nbconvert_exporter": "python",
   "pygments_lexer": "ipython3",
   "version": "3.5.1"
  }
 },
 "nbformat": 4,
 "nbformat_minor": 0
}
