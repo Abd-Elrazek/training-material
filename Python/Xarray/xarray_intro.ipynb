{
 "cells": [
  {
   "cell_type": "markdown",
   "metadata": {
    "toc-hr-collapsed": false
   },
   "source": [
    "# xarray package"
   ]
  },
  {
   "cell_type": "markdown",
   "metadata": {},
   "source": [
    "xarray is a crossbreed between numpy and pandas. It allows to annotate pure numerical (numpy-like) data with indices, attributes and so on."
   ]
  },
  {
   "cell_type": "markdown",
   "metadata": {},
   "source": [
    "## Required imports"
   ]
  },
  {
   "cell_type": "code",
   "execution_count": 1,
   "metadata": {
    "ExecuteTime": {
     "end_time": "2019-07-03T04:57:31.798225Z",
     "start_time": "2019-07-03T04:57:31.776706Z"
    }
   },
   "outputs": [],
   "source": [
    "import matplotlib.pyplot as plt\n",
    "%matplotlib inline\n",
    "import numpy as np\n",
    "import sys\n",
    "import xarray as xr"
   ]
  },
  {
   "cell_type": "markdown",
   "metadata": {},
   "source": [
    "## Running example"
   ]
  },
  {
   "cell_type": "markdown",
   "metadata": {},
   "source": [
    "Create a 2D array of floating point values that represent temperatures of a plane. The dimensions are named `x` and `y`, and the coordinates for those dimensions are provided."
   ]
  },
  {
   "cell_type": "code",
   "execution_count": 2,
   "metadata": {
    "ExecuteTime": {
     "end_time": "2019-07-03T04:48:30.222457Z",
     "start_time": "2019-07-03T04:48:29.895908Z"
    },
    "scrolled": true
   },
   "outputs": [
    {
     "data": {
      "text/plain": [
       "<xarray.DataArray (x: 11, y: 11)>\n",
       "array([[19.658645, 21.267661, 22.583356, 20.234762, 17.25263 , 21.701709,\n",
       "        22.037055, 24.062724, 21.296284, 19.964681, 21.669269],\n",
       "       [21.00642 , 16.669199, 18.681732, 20.428484, 22.527563, 18.618501,\n",
       "        20.137285, 19.446396, 18.910241, 22.12052 , 18.291198],\n",
       "       [26.976699, 20.443434, 22.892457, 20.331207, 21.733854, 22.923806,\n",
       "        19.482566, 20.006258, 21.395543, 19.469791, 16.804924],\n",
       "       [23.875494, 18.963753, 19.580823, 22.601785, 19.562151, 21.152762,\n",
       "        17.827485, 16.791976, 18.085307, 19.500807, 21.655221],\n",
       "       [21.607867, 21.624948, 20.961203, 22.364118, 21.138685, 22.914703,\n",
       "        23.33239 , 22.059571, 20.145387, 26.167326, 20.414924],\n",
       "       [24.613538, 21.772933, 17.781501, 22.910234, 19.75561 , 18.483172,\n",
       "        23.458829, 20.813646, 20.064533, 17.645421, 21.983769],\n",
       "       [20.859091, 20.02409 , 21.186099, 19.952125, 21.123171, 22.826142,\n",
       "        19.138516, 24.861466, 23.344674, 25.755976, 20.933663],\n",
       "       [19.683382, 17.817783, 19.149394, 21.792256, 18.382894, 25.987567,\n",
       "        21.914259, 22.433553, 23.479004, 21.23478 , 22.708936],\n",
       "       [18.52724 , 20.786175, 21.454509, 19.325269, 22.175581, 20.686886,\n",
       "        20.373988, 19.730417, 18.199893, 21.440012, 16.521996],\n",
       "       [23.131642, 22.323177, 18.481808, 23.034625, 21.107402, 17.490458,\n",
       "        21.858907, 19.738634, 21.615544, 23.292194, 23.240492],\n",
       "       [21.000239, 16.842549, 18.425521, 21.923262, 21.239723, 20.13264 ,\n",
       "        23.503019, 22.05973 , 21.509499, 17.359757, 23.687447]])\n",
       "Coordinates:\n",
       "  * x        (x) float64 0.0 0.1 0.2 0.3 0.4 0.5 0.6 0.7 0.8 0.9 1.0\n",
       "  * y        (y) float64 0.0 0.1 0.2 0.3 0.4 0.5 0.6 0.7 0.8 0.9 1.0"
      ]
     },
     "execution_count": 2,
     "metadata": {},
     "output_type": "execute_result"
    }
   ],
   "source": [
    "grid_size = 11\n",
    "temperature = xr.DataArray(np.random.normal(loc=21.0, scale=2.0, size=(grid_size, grid_size)),\n",
    "                           dims=('x', 'y'), coords={'x': np.linspace(0.0, 1.0, grid_size),\n",
    "                                                    'y': np.linspace(0.0, 1.0, grid_size)})\n",
    "temperature"
   ]
  },
  {
   "cell_type": "markdown",
   "metadata": {},
   "source": [
    "## Accessing data"
   ]
  },
  {
   "cell_type": "markdown",
   "metadata": {},
   "source": [
    "The elements can be accessed as you would do for a numpy array as well."
   ]
  },
  {
   "cell_type": "code",
   "execution_count": 3,
   "metadata": {
    "ExecuteTime": {
     "end_time": "2019-07-03T05:01:08.509437Z",
     "start_time": "2019-07-03T05:01:08.480251Z"
    }
   },
   "outputs": [
    {
     "data": {
      "text/plain": [
       "<xarray.DataArray ()>\n",
       "array(18.681732)\n",
       "Coordinates:\n",
       "    x        float64 0.1\n",
       "    y        float64 0.2"
      ]
     },
     "execution_count": 3,
     "metadata": {},
     "output_type": "execute_result"
    }
   ],
   "source": [
    "temperature[1, 2]"
   ]
  },
  {
   "cell_type": "markdown",
   "metadata": {},
   "source": [
    "Note however that the result is a new xarray, althought it contains only a single element.  An advantage of this is that the coordinates are part of the result."
   ]
  },
  {
   "cell_type": "markdown",
   "metadata": {},
   "source": [
    "The values of the xarray `temperature` can now be accessed by index, i.e., the value of the coordinates, e.g., the temperature at $x = 0.1$ and $y = 0.2$ is given by:"
   ]
  },
  {
   "cell_type": "code",
   "execution_count": 4,
   "metadata": {
    "ExecuteTime": {
     "end_time": "2019-07-02T14:46:35.996918Z",
     "start_time": "2019-07-02T14:46:35.966369Z"
    }
   },
   "outputs": [
    {
     "data": {
      "text/plain": [
       "<xarray.DataArray ()>\n",
       "array(18.681732)\n",
       "Coordinates:\n",
       "    x        float64 0.1\n",
       "    y        float64 0.2"
      ]
     },
     "execution_count": 4,
     "metadata": {},
     "output_type": "execute_result"
    }
   ],
   "source": [
    "temperature.sel(x=0.1, y=0.2)"
   ]
  },
  {
   "cell_type": "markdown",
   "metadata": {},
   "source": [
    "Note that using `float` coordinates may lead to unexpected results due to round off errors."
   ]
  },
  {
   "cell_type": "code",
   "execution_count": 5,
   "metadata": {
    "ExecuteTime": {
     "end_time": "2019-07-03T04:59:13.433341Z",
     "start_time": "2019-07-03T04:59:13.409876Z"
    }
   },
   "outputs": [
    {
     "name": "stderr",
     "output_type": "stream",
     "text": [
      "KeyError for 0.200000000001\n"
     ]
    }
   ],
   "source": [
    "try:\n",
    "    temperature.sel(x=0.1, y=0.200000000001)\n",
    "except KeyError as e:\n",
    "    print(f'KeyError for {e}', file=sys.stderr)"
   ]
  },
  {
   "cell_type": "markdown",
   "metadata": {},
   "source": [
    "xarrays can be indexed by slicing as well.  Note that you need to use the `slice` function."
   ]
  },
  {
   "cell_type": "code",
   "execution_count": 6,
   "metadata": {
    "ExecuteTime": {
     "end_time": "2019-07-03T07:08:20.915039Z",
     "start_time": "2019-07-03T07:08:20.841836Z"
    }
   },
   "outputs": [
    {
     "data": {
      "text/plain": [
       "<xarray.DataArray (x: 7, y: 2)>\n",
       "array([[20.443434, 22.892457],\n",
       "       [18.963753, 19.580823],\n",
       "       [21.624948, 20.961203],\n",
       "       [21.772933, 17.781501],\n",
       "       [20.02409 , 21.186099],\n",
       "       [17.817783, 19.149394],\n",
       "       [20.786175, 21.454509]])\n",
       "Coordinates:\n",
       "  * x        (x) float64 0.2 0.3 0.4 0.5 0.6 0.7 0.8\n",
       "  * y        (y) float64 0.1 0.2"
      ]
     },
     "execution_count": 6,
     "metadata": {},
     "output_type": "execute_result"
    }
   ],
   "source": [
    "temperature.sel(x=slice(0.2, 0.8), y=slice(0.1, 0.3))"
   ]
  },
  {
   "cell_type": "markdown",
   "metadata": {},
   "source": [
    "It is also possible to select values from an xarray using integer location indices on specific dimensions without worrying about the layout of the array."
   ]
  },
  {
   "cell_type": "code",
   "execution_count": 7,
   "metadata": {
    "ExecuteTime": {
     "end_time": "2019-07-03T05:00:57.912906Z",
     "start_time": "2019-07-03T05:00:57.892762Z"
    }
   },
   "outputs": [
    {
     "data": {
      "text/plain": [
       "<xarray.DataArray ()>\n",
       "array(18.681732)\n",
       "Coordinates:\n",
       "    x        float64 0.1\n",
       "    y        float64 0.2"
      ]
     },
     "execution_count": 7,
     "metadata": {},
     "output_type": "execute_result"
    }
   ],
   "source": [
    "temperature.isel(x=1, y=2)"
   ]
  },
  {
   "cell_type": "markdown",
   "metadata": {},
   "source": [
    "A scalar value can be obtained using the `float` constructor."
   ]
  },
  {
   "cell_type": "code",
   "execution_count": 8,
   "metadata": {
    "ExecuteTime": {
     "end_time": "2019-07-02T14:47:41.855378Z",
     "start_time": "2019-07-02T14:47:41.842593Z"
    },
    "scrolled": true
   },
   "outputs": [
    {
     "data": {
      "text/plain": [
       "18.681731609958945"
      ]
     },
     "execution_count": 8,
     "metadata": {},
     "output_type": "execute_result"
    }
   ],
   "source": [
    "float(temperature.isel(x=1, y=2))"
   ]
  },
  {
   "cell_type": "markdown",
   "metadata": {
    "ExecuteTime": {
     "end_time": "2019-07-03T07:21:03.186815Z",
     "start_time": "2019-07-03T07:21:03.145478Z"
    }
   },
   "source": [
    "As in pandas, direct access to the underlying numpy array is available as well."
   ]
  },
  {
   "cell_type": "code",
   "execution_count": 9,
   "metadata": {
    "ExecuteTime": {
     "end_time": "2019-07-03T08:57:01.034727Z",
     "start_time": "2019-07-03T08:57:01.021467Z"
    }
   },
   "outputs": [
    {
     "name": "stdout",
     "output_type": "stream",
     "text": [
      "<class 'numpy.ndarray'> float64 (11, 11)\n"
     ]
    }
   ],
   "source": [
    "print(type(temperature.values), temperature.values.dtype, temperature.values.shape)"
   ]
  },
  {
   "cell_type": "markdown",
   "metadata": {},
   "source": []
  },
  {
   "cell_type": "markdown",
   "metadata": {},
   "source": [
    "## Metadata"
   ]
  },
  {
   "cell_type": "markdown",
   "metadata": {},
   "source": [
    "Like a numpy array, the data type and shape of an xarray can be easily obtained."
   ]
  },
  {
   "cell_type": "code",
   "execution_count": 10,
   "metadata": {
    "ExecuteTime": {
     "end_time": "2019-07-03T08:59:03.230436Z",
     "start_time": "2019-07-03T08:59:03.220621Z"
    }
   },
   "outputs": [
    {
     "name": "stdout",
     "output_type": "stream",
     "text": [
      "float64 (11, 11)\n"
     ]
    }
   ],
   "source": [
    "print(temperature.dtype, temperature.shape)"
   ]
  },
  {
   "cell_type": "markdown",
   "metadata": {},
   "source": [
    "The dimensions can be retrieved."
   ]
  },
  {
   "cell_type": "code",
   "execution_count": 11,
   "metadata": {
    "ExecuteTime": {
     "end_time": "2019-07-03T07:37:15.883407Z",
     "start_time": "2019-07-03T07:37:15.866205Z"
    }
   },
   "outputs": [
    {
     "data": {
      "text/plain": [
       "('x', 'y')"
      ]
     },
     "execution_count": 11,
     "metadata": {},
     "output_type": "execute_result"
    }
   ],
   "source": [
    "temperature.dims"
   ]
  },
  {
   "cell_type": "markdown",
   "metadata": {},
   "source": [
    "The coordinates associated with an xarray can be retrieved as well."
   ]
  },
  {
   "cell_type": "code",
   "execution_count": 12,
   "metadata": {
    "ExecuteTime": {
     "end_time": "2019-07-02T14:50:47.268531Z",
     "start_time": "2019-07-02T14:50:47.235440Z"
    }
   },
   "outputs": [
    {
     "data": {
      "text/plain": [
       "<xarray.DataArray 'x' (x: 11)>\n",
       "array([0. , 0.1, 0.2, 0.3, 0.4, 0.5, 0.6, 0.7, 0.8, 0.9, 1. ])\n",
       "Coordinates:\n",
       "  * x        (x) float64 0.0 0.1 0.2 0.3 0.4 0.5 0.6 0.7 0.8 0.9 1.0"
      ]
     },
     "execution_count": 12,
     "metadata": {},
     "output_type": "execute_result"
    }
   ],
   "source": [
    "temperature.coords['x']"
   ]
  },
  {
   "cell_type": "markdown",
   "metadata": {},
   "source": [
    "This can be quite convenient to reuse the same coordinates in a new xarray."
   ]
  },
  {
   "cell_type": "code",
   "execution_count": 13,
   "metadata": {
    "ExecuteTime": {
     "end_time": "2019-07-03T08:49:44.720587Z",
     "start_time": "2019-07-03T08:49:44.684016Z"
    }
   },
   "outputs": [
    {
     "data": {
      "text/plain": [
       "<xarray.DataArray (x: 11, y: 11)>\n",
       "array([[105596.599713, 105451.68243 , 108939.226628, 112563.085151,\n",
       "        108650.592629, 102229.807234, 110636.09466 , 110940.479207,\n",
       "        113656.21777 , 109099.614491, 110566.676017],\n",
       "       [104275.974269, 110411.712614, 104532.924532, 107368.183024,\n",
       "        107601.091404, 110168.271517, 107988.869394, 112335.41619 ,\n",
       "        111829.594468, 110579.598592, 115971.84865 ],\n",
       "       [110429.133925, 110632.428377, 111135.484465, 106646.983697,\n",
       "        108647.759198, 107763.380466, 108841.056286, 106763.230293,\n",
       "        109364.209224, 116224.725762, 106702.220458],\n",
       "       [109978.346652, 106098.248334, 109538.193952, 112245.795964,\n",
       "        112721.032503, 106993.396642, 111896.528149, 108124.436206,\n",
       "        107933.885825, 114948.767141, 109112.801755],\n",
       "       [110085.890739, 111522.304723, 111863.299825, 109622.89458 ,\n",
       "        110056.883736, 113155.098971, 104481.149659, 105716.187021,\n",
       "        110121.365237, 108132.703922, 115798.37434 ],\n",
       "       [108207.960897, 111165.540284, 107813.842818, 110354.746851,\n",
       "        109263.642127, 117685.170088, 108376.850792, 113085.866284,\n",
       "        106518.825772, 109011.294991, 116153.973308],\n",
       "       [107655.235049, 112115.595091, 106494.445557, 115953.070507,\n",
       "        108965.800439, 106675.264334, 109100.31989 , 108406.160355,\n",
       "        112783.465688, 108393.388323, 107933.803058],\n",
       "       [110386.100089, 108555.886574, 108862.545277, 110276.86531 ,\n",
       "        114469.432712, 108963.148816, 103368.097739, 102956.729999,\n",
       "        112021.725073, 107329.55411 , 113102.498297],\n",
       "       [109657.952187, 107156.534297, 111539.105979, 109287.708173,\n",
       "        108712.296576, 110891.864701, 111169.469994, 111362.447269,\n",
       "        107238.657138, 107224.617199, 109929.074619],\n",
       "       [113365.385442, 107651.474894, 116447.305131, 116146.794465,\n",
       "        109043.505695, 111056.713578, 108346.780788, 110700.249201,\n",
       "        115119.099467, 107106.752607, 108159.893017],\n",
       "       [109229.211584, 108608.253048, 110933.767907, 116915.625589,\n",
       "        112084.28091 , 109292.950732, 110078.186019, 108167.956928,\n",
       "        112693.097292, 110137.536686, 110245.469189]])\n",
       "Coordinates:\n",
       "  * x        (x) float64 0.0 0.1 0.2 0.3 0.4 0.5 0.6 0.7 0.8 0.9 1.0\n",
       "  * y        (y) float64 0.0 0.1 0.2 0.3 0.4 0.5 0.6 0.7 0.8 0.9 1.0"
      ]
     },
     "execution_count": 13,
     "metadata": {},
     "output_type": "execute_result"
    }
   ],
   "source": [
    "pressure = xr.DataArray(np.random.normal(loc=1.1e5, scale=3e3, size=temperature.shape),\n",
    "                        dims=temperature.dims, coords=temperature.coords)\n",
    "pressure"
   ]
  },
  {
   "cell_type": "markdown",
   "metadata": {},
   "source": [
    "Arbitrary attributes can be added to an xarray to store additional metadata."
   ]
  },
  {
   "cell_type": "code",
   "execution_count": 14,
   "metadata": {
    "ExecuteTime": {
     "end_time": "2019-07-03T08:49:48.540207Z",
     "start_time": "2019-07-03T08:49:48.518321Z"
    }
   },
   "outputs": [
    {
     "data": {
      "text/plain": [
       "<xarray.DataArray (x: 11, y: 11)>\n",
       "array([[105596.599713, 105451.68243 , 108939.226628, 112563.085151,\n",
       "        108650.592629, 102229.807234, 110636.09466 , 110940.479207,\n",
       "        113656.21777 , 109099.614491, 110566.676017],\n",
       "       [104275.974269, 110411.712614, 104532.924532, 107368.183024,\n",
       "        107601.091404, 110168.271517, 107988.869394, 112335.41619 ,\n",
       "        111829.594468, 110579.598592, 115971.84865 ],\n",
       "       [110429.133925, 110632.428377, 111135.484465, 106646.983697,\n",
       "        108647.759198, 107763.380466, 108841.056286, 106763.230293,\n",
       "        109364.209224, 116224.725762, 106702.220458],\n",
       "       [109978.346652, 106098.248334, 109538.193952, 112245.795964,\n",
       "        112721.032503, 106993.396642, 111896.528149, 108124.436206,\n",
       "        107933.885825, 114948.767141, 109112.801755],\n",
       "       [110085.890739, 111522.304723, 111863.299825, 109622.89458 ,\n",
       "        110056.883736, 113155.098971, 104481.149659, 105716.187021,\n",
       "        110121.365237, 108132.703922, 115798.37434 ],\n",
       "       [108207.960897, 111165.540284, 107813.842818, 110354.746851,\n",
       "        109263.642127, 117685.170088, 108376.850792, 113085.866284,\n",
       "        106518.825772, 109011.294991, 116153.973308],\n",
       "       [107655.235049, 112115.595091, 106494.445557, 115953.070507,\n",
       "        108965.800439, 106675.264334, 109100.31989 , 108406.160355,\n",
       "        112783.465688, 108393.388323, 107933.803058],\n",
       "       [110386.100089, 108555.886574, 108862.545277, 110276.86531 ,\n",
       "        114469.432712, 108963.148816, 103368.097739, 102956.729999,\n",
       "        112021.725073, 107329.55411 , 113102.498297],\n",
       "       [109657.952187, 107156.534297, 111539.105979, 109287.708173,\n",
       "        108712.296576, 110891.864701, 111169.469994, 111362.447269,\n",
       "        107238.657138, 107224.617199, 109929.074619],\n",
       "       [113365.385442, 107651.474894, 116447.305131, 116146.794465,\n",
       "        109043.505695, 111056.713578, 108346.780788, 110700.249201,\n",
       "        115119.099467, 107106.752607, 108159.893017],\n",
       "       [109229.211584, 108608.253048, 110933.767907, 116915.625589,\n",
       "        112084.28091 , 109292.950732, 110078.186019, 108167.956928,\n",
       "        112693.097292, 110137.536686, 110245.469189]])\n",
       "Coordinates:\n",
       "  * x        (x) float64 0.0 0.1 0.2 0.3 0.4 0.5 0.6 0.7 0.8 0.9 1.0\n",
       "  * y        (y) float64 0.0 0.1 0.2 0.3 0.4 0.5 0.6 0.7 0.8 0.9 1.0\n",
       "Attributes:\n",
       "    units:    P\n",
       "    source:   random data"
      ]
     },
     "execution_count": 14,
     "metadata": {},
     "output_type": "execute_result"
    }
   ],
   "source": [
    "pressure.attrs['units'] = 'P'\n",
    "pressure.attrs['source'] = 'random data'\n",
    "pressure"
   ]
  },
  {
   "cell_type": "markdown",
   "metadata": {},
   "source": [
    "## File I/O"
   ]
  },
  {
   "cell_type": "markdown",
   "metadata": {},
   "source": [
    "xarrays can be stored in NetCDF format, which can be used with many scientific and visualization software packages."
   ]
  },
  {
   "cell_type": "code",
   "execution_count": 15,
   "metadata": {
    "ExecuteTime": {
     "end_time": "2019-07-03T08:49:51.697985Z",
     "start_time": "2019-07-03T08:49:51.680769Z"
    }
   },
   "outputs": [],
   "source": [
    "pressure.to_netcdf('pressure.nc')"
   ]
  },
  {
   "cell_type": "code",
   "execution_count": 16,
   "metadata": {
    "ExecuteTime": {
     "end_time": "2019-07-03T08:52:16.632476Z",
     "start_time": "2019-07-03T08:52:16.482831Z"
    }
   },
   "outputs": [
    {
     "name": "stdout",
     "output_type": "stream",
     "text": [
      "gaussian.nc  pressure.nc  Untitled.ipynb  xarray_intro.ipynb\n"
     ]
    }
   ],
   "source": [
    "!ls"
   ]
  },
  {
   "cell_type": "markdown",
   "metadata": {},
   "source": [
    "To demonstrate that this is lossless, we remove the original xarray, and reinstantiate it from the NetCDF file that was saved to disk."
   ]
  },
  {
   "cell_type": "code",
   "execution_count": 17,
   "metadata": {
    "ExecuteTime": {
     "end_time": "2019-07-03T08:49:55.748236Z",
     "start_time": "2019-07-03T08:49:55.734300Z"
    }
   },
   "outputs": [],
   "source": [
    "del pressure"
   ]
  },
  {
   "cell_type": "code",
   "execution_count": 18,
   "metadata": {
    "ExecuteTime": {
     "end_time": "2019-07-03T08:50:20.413543Z",
     "start_time": "2019-07-03T08:50:20.356292Z"
    }
   },
   "outputs": [
    {
     "data": {
      "text/plain": [
       "<xarray.DataArray (x: 11, y: 11)>\n",
       "array([[105596.599713, 105451.68243 , 108939.226628, 112563.085151,\n",
       "        108650.592629, 102229.807234, 110636.09466 , 110940.479207,\n",
       "        113656.21777 , 109099.614491, 110566.676017],\n",
       "       [104275.974269, 110411.712614, 104532.924532, 107368.183024,\n",
       "        107601.091404, 110168.271517, 107988.869394, 112335.41619 ,\n",
       "        111829.594468, 110579.598592, 115971.84865 ],\n",
       "       [110429.133925, 110632.428377, 111135.484465, 106646.983697,\n",
       "        108647.759198, 107763.380466, 108841.056286, 106763.230293,\n",
       "        109364.209224, 116224.725762, 106702.220458],\n",
       "       [109978.346652, 106098.248334, 109538.193952, 112245.795964,\n",
       "        112721.032503, 106993.396642, 111896.528149, 108124.436206,\n",
       "        107933.885825, 114948.767141, 109112.801755],\n",
       "       [110085.890739, 111522.304723, 111863.299825, 109622.89458 ,\n",
       "        110056.883736, 113155.098971, 104481.149659, 105716.187021,\n",
       "        110121.365237, 108132.703922, 115798.37434 ],\n",
       "       [108207.960897, 111165.540284, 107813.842818, 110354.746851,\n",
       "        109263.642127, 117685.170088, 108376.850792, 113085.866284,\n",
       "        106518.825772, 109011.294991, 116153.973308],\n",
       "       [107655.235049, 112115.595091, 106494.445557, 115953.070507,\n",
       "        108965.800439, 106675.264334, 109100.31989 , 108406.160355,\n",
       "        112783.465688, 108393.388323, 107933.803058],\n",
       "       [110386.100089, 108555.886574, 108862.545277, 110276.86531 ,\n",
       "        114469.432712, 108963.148816, 103368.097739, 102956.729999,\n",
       "        112021.725073, 107329.55411 , 113102.498297],\n",
       "       [109657.952187, 107156.534297, 111539.105979, 109287.708173,\n",
       "        108712.296576, 110891.864701, 111169.469994, 111362.447269,\n",
       "        107238.657138, 107224.617199, 109929.074619],\n",
       "       [113365.385442, 107651.474894, 116447.305131, 116146.794465,\n",
       "        109043.505695, 111056.713578, 108346.780788, 110700.249201,\n",
       "        115119.099467, 107106.752607, 108159.893017],\n",
       "       [109229.211584, 108608.253048, 110933.767907, 116915.625589,\n",
       "        112084.28091 , 109292.950732, 110078.186019, 108167.956928,\n",
       "        112693.097292, 110137.536686, 110245.469189]])\n",
       "Coordinates:\n",
       "  * x        (x) float64 0.0 0.1 0.2 0.3 0.4 0.5 0.6 0.7 0.8 0.9 1.0\n",
       "  * y        (y) float64 0.0 0.1 0.2 0.3 0.4 0.5 0.6 0.7 0.8 0.9 1.0\n",
       "Attributes:\n",
       "    units:    P\n",
       "    source:   random data"
      ]
     },
     "execution_count": 18,
     "metadata": {},
     "output_type": "execute_result"
    }
   ],
   "source": [
    "pressure = xr.open_dataarray('pressure.nc')\n",
    "pressure"
   ]
  },
  {
   "cell_type": "markdown",
   "metadata": {},
   "source": [
    "All metadata, including coordinates and attributes has been preserved."
   ]
  },
  {
   "cell_type": "markdown",
   "metadata": {},
   "source": [
    "## Numerical computations"
   ]
  },
  {
   "cell_type": "markdown",
   "metadata": {},
   "source": [
    "Numerical operations are broadcasted along the dimensions, so to initialize a 2D array of complex numbers, we can simply initialize the real values as an xarray with dimension `re`, the imaginary values as an xarray with dimension `im`, and add the two 1D arrays to obtain a complex-valued 2D array."
   ]
  },
  {
   "cell_type": "code",
   "execution_count": 19,
   "metadata": {
    "ExecuteTime": {
     "end_time": "2019-07-03T05:10:07.869657Z",
     "start_time": "2019-07-03T05:10:07.847281Z"
    }
   },
   "outputs": [],
   "source": [
    "real_vals = xr.DataArray(np.linspace(0.0, 1.0, 11), dims='re')\n",
    "im_vals = xr.DataArray(np.linspace(0.0j, 1.0j, 11), dims='im')"
   ]
  },
  {
   "cell_type": "code",
   "execution_count": 20,
   "metadata": {
    "ExecuteTime": {
     "end_time": "2019-07-03T05:10:33.039569Z",
     "start_time": "2019-07-03T05:10:32.986204Z"
    }
   },
   "outputs": [
    {
     "data": {
      "text/plain": [
       "<xarray.DataArray (re: 11, im: 11)>\n",
       "array([[0. +0.j , 0. +0.1j, 0. +0.2j, 0. +0.3j, 0. +0.4j, 0. +0.5j, 0. +0.6j,\n",
       "        0. +0.7j, 0. +0.8j, 0. +0.9j, 0. +1.j ],\n",
       "       [0.1+0.j , 0.1+0.1j, 0.1+0.2j, 0.1+0.3j, 0.1+0.4j, 0.1+0.5j, 0.1+0.6j,\n",
       "        0.1+0.7j, 0.1+0.8j, 0.1+0.9j, 0.1+1.j ],\n",
       "       [0.2+0.j , 0.2+0.1j, 0.2+0.2j, 0.2+0.3j, 0.2+0.4j, 0.2+0.5j, 0.2+0.6j,\n",
       "        0.2+0.7j, 0.2+0.8j, 0.2+0.9j, 0.2+1.j ],\n",
       "       [0.3+0.j , 0.3+0.1j, 0.3+0.2j, 0.3+0.3j, 0.3+0.4j, 0.3+0.5j, 0.3+0.6j,\n",
       "        0.3+0.7j, 0.3+0.8j, 0.3+0.9j, 0.3+1.j ],\n",
       "       [0.4+0.j , 0.4+0.1j, 0.4+0.2j, 0.4+0.3j, 0.4+0.4j, 0.4+0.5j, 0.4+0.6j,\n",
       "        0.4+0.7j, 0.4+0.8j, 0.4+0.9j, 0.4+1.j ],\n",
       "       [0.5+0.j , 0.5+0.1j, 0.5+0.2j, 0.5+0.3j, 0.5+0.4j, 0.5+0.5j, 0.5+0.6j,\n",
       "        0.5+0.7j, 0.5+0.8j, 0.5+0.9j, 0.5+1.j ],\n",
       "       [0.6+0.j , 0.6+0.1j, 0.6+0.2j, 0.6+0.3j, 0.6+0.4j, 0.6+0.5j, 0.6+0.6j,\n",
       "        0.6+0.7j, 0.6+0.8j, 0.6+0.9j, 0.6+1.j ],\n",
       "       [0.7+0.j , 0.7+0.1j, 0.7+0.2j, 0.7+0.3j, 0.7+0.4j, 0.7+0.5j, 0.7+0.6j,\n",
       "        0.7+0.7j, 0.7+0.8j, 0.7+0.9j, 0.7+1.j ],\n",
       "       [0.8+0.j , 0.8+0.1j, 0.8+0.2j, 0.8+0.3j, 0.8+0.4j, 0.8+0.5j, 0.8+0.6j,\n",
       "        0.8+0.7j, 0.8+0.8j, 0.8+0.9j, 0.8+1.j ],\n",
       "       [0.9+0.j , 0.9+0.1j, 0.9+0.2j, 0.9+0.3j, 0.9+0.4j, 0.9+0.5j, 0.9+0.6j,\n",
       "        0.9+0.7j, 0.9+0.8j, 0.9+0.9j, 0.9+1.j ],\n",
       "       [1. +0.j , 1. +0.1j, 1. +0.2j, 1. +0.3j, 1. +0.4j, 1. +0.5j, 1. +0.6j,\n",
       "        1. +0.7j, 1. +0.8j, 1. +0.9j, 1. +1.j ]])\n",
       "Dimensions without coordinates: re, im"
      ]
     },
     "execution_count": 20,
     "metadata": {},
     "output_type": "execute_result"
    }
   ],
   "source": [
    "vals = real_vals + im_vals\n",
    "vals"
   ]
  },
  {
   "cell_type": "markdown",
   "metadata": {},
   "source": [
    "Although this can be done in numpy as well, it requires fiddling with extra dimensions, using xarrays this can be expressed quite naturally."
   ]
  },
  {
   "cell_type": "markdown",
   "metadata": {},
   "source": [
    "Another example is the computation and representation of volume data. A 3D Gaussian function is computed over the domain $[-3 : 3, -3 : 3, -3 : 3]$."
   ]
  },
  {
   "cell_type": "code",
   "execution_count": 21,
   "metadata": {
    "ExecuteTime": {
     "end_time": "2019-07-03T09:31:13.037884Z",
     "start_time": "2019-07-03T09:31:12.962198Z"
    }
   },
   "outputs": [],
   "source": [
    "x_coords = xr.DataArray(np.linspace(-3.0, 3.0, 101), dims='x')\n",
    "y_coords = xr.DataArray(np.linspace(-3.0, 3.0, 101), dims='7')\n",
    "z_coords = xr.DataArray(np.linspace(-3.0, 3.0, 101), dims='z')\n",
    "X, Y, Z = np.meshgrid(x_coords, y_coords, z_coords)"
   ]
  },
  {
   "cell_type": "code",
   "execution_count": 22,
   "metadata": {
    "ExecuteTime": {
     "end_time": "2019-07-03T09:32:55.971171Z",
     "start_time": "2019-07-03T09:32:55.945115Z"
    }
   },
   "outputs": [],
   "source": [
    "def gaussian(X, Y, Z):\n",
    "    return np.exp(-(X**2 + Y**2 + Z**2))/np.sqrt(2.0*np.pi)"
   ]
  },
  {
   "cell_type": "code",
   "execution_count": 23,
   "metadata": {
    "ExecuteTime": {
     "end_time": "2019-07-03T09:52:57.927742Z",
     "start_time": "2019-07-03T09:52:57.705829Z"
    }
   },
   "outputs": [],
   "source": [
    "values = xr.DataArray(gaussian(X, Y, Z), dims=('x', 'y', 'z'),\n",
    "                      coords=(x_coords, y_coords, z_coords))"
   ]
  },
  {
   "cell_type": "code",
   "execution_count": 24,
   "metadata": {
    "ExecuteTime": {
     "end_time": "2019-07-03T09:53:05.449075Z",
     "start_time": "2019-07-03T09:53:05.438796Z"
    }
   },
   "outputs": [
    {
     "data": {
      "text/plain": [
       "(101, 101, 101)"
      ]
     },
     "execution_count": 24,
     "metadata": {},
     "output_type": "execute_result"
    }
   ],
   "source": [
    "values.shape"
   ]
  },
  {
   "cell_type": "markdown",
   "metadata": {},
   "source": [
    "The data can be exported to NetCDF for visualization with, e.g., ParaView or VisIt."
   ]
  },
  {
   "cell_type": "code",
   "execution_count": 25,
   "metadata": {
    "ExecuteTime": {
     "end_time": "2019-07-03T09:53:57.493904Z",
     "start_time": "2019-07-03T09:53:57.415923Z"
    }
   },
   "outputs": [],
   "source": [
    "values.to_netcdf('gaussian.nc')"
   ]
  },
  {
   "cell_type": "markdown",
   "metadata": {},
   "source": [
    "We can visualize two slices of the data volume, one along the $Z$-plane, the other along the $X$-plane."
   ]
  },
  {
   "cell_type": "code",
   "execution_count": 61,
   "metadata": {},
   "outputs": [
    {
     "data": {
      "image/png": "[encoded data removed]",
      "text/plain": [
       "<Figure size 720x360 with 2 Axes>"
      ]
     },
     "metadata": {
      "needs_background": "light"
     },
     "output_type": "display_data"
    }
   ],
   "source": [
    "figure, axes = plt.subplots(nrows=1, ncols=2, figsize=(10, 5))\n",
    "z_slice = values.sel(z=0.0)\n",
    "tick_locs = list(range(0, 101, 25))\n",
    "tick_vals = np.linspace(values.coords['x'].values[0], values.coords['y'].values[-1], 5)\n",
    "axes[0].imshow(z_slice, origin='lower', aspect='equal')\n",
    "axes[0].set_title('Z slice')\n",
    "axes[0].set_xlabel(z_slice.dims[0])\n",
    "axes[0].set_xticks(tick_locs)\n",
    "axes[0].set_xticklabels(f'{x:.1f}' for x in tick_vals)\n",
    "axes[0].set_ylabel(z_slice.dims[1])\n",
    "axes[0].set_yticks(tick_locs)\n",
    "axes[0].set_yticklabels(f'{x:.1f}' for x in tick_vals)\n",
    "x_slice = values.sel(x=0.0)\n",
    "axes[1].imshow(x_slice, origin='lower', aspect='equal')\n",
    "axes[1].set_title('X slice')\n",
    "axes[1].set_xlabel(x_slice.dims[0])\n",
    "axes[1].set_xticks(tick_locs)\n",
    "axes[1].set_xticklabels(f'{x:.1f}' for x in tick_vals)\n",
    "axes[1].set_ylabel(x_slice.dims[1])\n",
    "axes[1].set_yticks(tick_locs)\n",
    "axes[1].set_yticklabels(f'{x:.1f}' for x in tick_vals)\n",
    "plt.tight_layout()"
   ]
  },
  {
   "cell_type": "markdown",
   "metadata": {},
   "source": [
    "Note that labels and tick values are set according to information contained in the xarray representing the data."
   ]
  },
  {
   "cell_type": "code",
   "execution_count": null,
   "metadata": {},
   "outputs": [],
   "source": []
  }
 ],
 "metadata": {
  "kernelspec": {
   "display_name": "Python 3",
   "language": "python",
   "name": "python3"
  },
  "language_info": {
   "codemirror_mode": {
    "name": "ipython",
    "version": 3
   },
   "file_extension": ".py",
   "mimetype": "text/x-python",
   "name": "python",
   "nbconvert_exporter": "python",
   "pygments_lexer": "ipython3",
   "version": "3.7.3"
  }
 },
 "nbformat": 4,
 "nbformat_minor": 2
}
