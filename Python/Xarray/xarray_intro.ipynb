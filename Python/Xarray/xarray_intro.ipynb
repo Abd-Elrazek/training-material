{
 "cells": [
  {
   "cell_type": "markdown",
   "metadata": {
    "toc-hr-collapsed": false
   },
   "source": [
    "# xarray package"
   ]
  },
  {
   "cell_type": "markdown",
   "metadata": {},
   "source": [
    "xarray is a crossbreed between numpy and pandas. It allows to annotate pure numerical (numpy-like) data with indices, attributes and so on."
   ]
  },
  {
   "cell_type": "markdown",
   "metadata": {},
   "source": [
    "## Required imports"
   ]
  },
  {
   "cell_type": "code",
   "execution_count": 1,
   "metadata": {
    "ExecuteTime": {
     "end_time": "2019-07-03T04:57:31.798225Z",
     "start_time": "2019-07-03T04:57:31.776706Z"
    }
   },
   "outputs": [],
   "source": [
    "import matplotlib.pyplot as plt\n",
    "%matplotlib inline\n",
    "import numpy as np\n",
    "import pandas as pd\n",
    "from pandas.plotting import register_matplotlib_converters\n",
    "register_matplotlib_converters()\n",
    "import sys\n",
    "import xarray as xr"
   ]
  },
  {
   "cell_type": "markdown",
   "metadata": {},
   "source": [
    "## Running example"
   ]
  },
  {
   "cell_type": "markdown",
   "metadata": {},
   "source": [
    "Create a 2D array of floating point values that represent temperatures of a plane. The dimensions are named `x` and `y`, and the coordinates for those dimensions are provided."
   ]
  },
  {
   "cell_type": "code",
   "execution_count": 2,
   "metadata": {
    "ExecuteTime": {
     "end_time": "2019-07-03T04:48:30.222457Z",
     "start_time": "2019-07-03T04:48:29.895908Z"
    },
    "scrolled": true
   },
   "outputs": [
    {
     "data": {
      "text/plain": [
       "<xarray.DataArray (x: 11, y: 11)>\n",
       "array([[20.785806, 18.999815, 19.882712, 22.408284, 23.236987, 21.516524,\n",
       "        21.942687, 22.004581, 18.321141, 20.499809, 19.830825],\n",
       "       [22.047812, 16.54651 , 18.015682, 20.797552, 20.521532, 17.250112,\n",
       "        23.401065, 22.150083, 19.07947 , 18.68567 , 19.824666],\n",
       "       [21.070473, 18.416011, 22.61641 , 23.432954, 22.224615, 21.251112,\n",
       "        22.798632, 23.931765, 21.996821, 20.695049, 19.42285 ],\n",
       "       [18.611063, 22.044941, 20.520112, 22.19334 , 23.469384, 24.001874,\n",
       "        22.424007, 21.271575, 23.540764, 18.721658, 22.370431],\n",
       "       [20.950051, 19.506798, 26.638007, 20.164626, 21.096196, 20.744368,\n",
       "        21.117813, 22.373925, 22.869564, 19.230878, 20.44706 ],\n",
       "       [23.265771, 23.649457, 24.39353 , 22.076153, 19.117994, 22.736603,\n",
       "        21.894949, 22.167994, 22.377713, 19.346147, 23.400279],\n",
       "       [19.976377, 22.913138, 18.585935, 22.60659 , 21.54228 , 23.975523,\n",
       "        21.83235 , 22.74395 , 21.368476, 22.782938, 21.31104 ],\n",
       "       [18.908994, 22.584711, 20.085562, 19.449437, 21.409827, 26.332961,\n",
       "        23.371653, 25.640769, 19.250299, 21.820146, 22.439002],\n",
       "       [19.45327 , 19.889092, 25.026153, 17.69839 , 20.25477 , 22.166698,\n",
       "        20.372379, 16.771441, 19.896361, 17.08968 , 19.205611],\n",
       "       [20.702799, 19.189785, 18.300337, 19.508466, 21.457253, 19.046006,\n",
       "        23.701428, 21.334136, 20.387881, 21.30818 , 24.011231],\n",
       "       [19.229823, 19.51539 , 22.414431, 21.981775, 23.303295, 21.331793,\n",
       "        21.499794, 20.593666, 19.813059, 23.513636, 19.300883]])\n",
       "Coordinates:\n",
       "  * x        (x) float64 0.0 0.1 0.2 0.3 0.4 0.5 0.6 0.7 0.8 0.9 1.0\n",
       "  * y        (y) float64 0.0 0.1 0.2 0.3 0.4 0.5 0.6 0.7 0.8 0.9 1.0"
      ]
     },
     "execution_count": 2,
     "metadata": {},
     "output_type": "execute_result"
    }
   ],
   "source": [
    "grid_size = 11\n",
    "temperature = xr.DataArray(np.random.normal(loc=21.0, scale=2.0, size=(grid_size, grid_size)),\n",
    "                           dims=('x', 'y'), coords={'x': np.linspace(0.0, 1.0, grid_size),\n",
    "                                                    'y': np.linspace(0.0, 1.0, grid_size)})\n",
    "temperature"
   ]
  },
  {
   "cell_type": "markdown",
   "metadata": {},
   "source": [
    "## Accessing data"
   ]
  },
  {
   "cell_type": "markdown",
   "metadata": {},
   "source": [
    "The elements can be accessed as you would do for a numpy array as well."
   ]
  },
  {
   "cell_type": "code",
   "execution_count": 3,
   "metadata": {
    "ExecuteTime": {
     "end_time": "2019-07-03T05:01:08.509437Z",
     "start_time": "2019-07-03T05:01:08.480251Z"
    }
   },
   "outputs": [
    {
     "data": {
      "text/plain": [
       "<xarray.DataArray ()>\n",
       "array(18.015682)\n",
       "Coordinates:\n",
       "    x        float64 0.1\n",
       "    y        float64 0.2"
      ]
     },
     "execution_count": 3,
     "metadata": {},
     "output_type": "execute_result"
    }
   ],
   "source": [
    "temperature[1, 2]"
   ]
  },
  {
   "cell_type": "markdown",
   "metadata": {},
   "source": [
    "Note however that the result is a new xarray, althought it contains only a single element.  An advantage of this is that the coordinates are part of the result."
   ]
  },
  {
   "cell_type": "markdown",
   "metadata": {},
   "source": [
    "The values of the xarray `temperature` can now be accessed by index, i.e., the value of the coordinates, e.g., the temperature at $x = 0.1$ and $y = 0.2$ is given by:"
   ]
  },
  {
   "cell_type": "code",
   "execution_count": 4,
   "metadata": {
    "ExecuteTime": {
     "end_time": "2019-07-02T14:46:35.996918Z",
     "start_time": "2019-07-02T14:46:35.966369Z"
    }
   },
   "outputs": [
    {
     "data": {
      "text/plain": [
       "<xarray.DataArray ()>\n",
       "array(18.015682)\n",
       "Coordinates:\n",
       "    x        float64 0.1\n",
       "    y        float64 0.2"
      ]
     },
     "execution_count": 4,
     "metadata": {},
     "output_type": "execute_result"
    }
   ],
   "source": [
    "temperature.sel(x=0.1, y=0.2)"
   ]
  },
  {
   "cell_type": "markdown",
   "metadata": {},
   "source": [
    "Note that using `float` coordinates may lead to unexpected results due to round off errors."
   ]
  },
  {
   "cell_type": "code",
   "execution_count": 5,
   "metadata": {
    "ExecuteTime": {
     "end_time": "2019-07-03T04:59:13.433341Z",
     "start_time": "2019-07-03T04:59:13.409876Z"
    }
   },
   "outputs": [
    {
     "name": "stderr",
     "output_type": "stream",
     "text": [
      "KeyError for 0.200000000001\n"
     ]
    }
   ],
   "source": [
    "try:\n",
    "    temperature.sel(x=0.1, y=0.200000000001)\n",
    "except KeyError as e:\n",
    "    print(f'KeyError for {e}', file=sys.stderr)"
   ]
  },
  {
   "cell_type": "markdown",
   "metadata": {},
   "source": [
    "It is straightforward to interpolate, as we'll discuss in a [later section](#Interpolation)."
   ]
  },
  {
   "cell_type": "markdown",
   "metadata": {},
   "source": [
    "xarrays can be indexed by slicing as well.  Note that you need to use the `slice` function."
   ]
  },
  {
   "cell_type": "code",
   "execution_count": 6,
   "metadata": {
    "ExecuteTime": {
     "end_time": "2019-07-03T07:08:20.915039Z",
     "start_time": "2019-07-03T07:08:20.841836Z"
    }
   },
   "outputs": [
    {
     "data": {
      "text/plain": [
       "<xarray.DataArray (x: 7, y: 2)>\n",
       "array([[18.416011, 22.61641 ],\n",
       "       [22.044941, 20.520112],\n",
       "       [19.506798, 26.638007],\n",
       "       [23.649457, 24.39353 ],\n",
       "       [22.913138, 18.585935],\n",
       "       [22.584711, 20.085562],\n",
       "       [19.889092, 25.026153]])\n",
       "Coordinates:\n",
       "  * x        (x) float64 0.2 0.3 0.4 0.5 0.6 0.7 0.8\n",
       "  * y        (y) float64 0.1 0.2"
      ]
     },
     "execution_count": 6,
     "metadata": {},
     "output_type": "execute_result"
    }
   ],
   "source": [
    "temperature.sel(x=slice(0.2, 0.8), y=slice(0.1, 0.3))"
   ]
  },
  {
   "cell_type": "markdown",
   "metadata": {},
   "source": [
    "It is also possible to select values from an xarray using integer location indices on specific dimensions without worrying about the layout of the array."
   ]
  },
  {
   "cell_type": "code",
   "execution_count": 7,
   "metadata": {
    "ExecuteTime": {
     "end_time": "2019-07-03T05:00:57.912906Z",
     "start_time": "2019-07-03T05:00:57.892762Z"
    }
   },
   "outputs": [
    {
     "data": {
      "text/plain": [
       "<xarray.DataArray ()>\n",
       "array(18.015682)\n",
       "Coordinates:\n",
       "    x        float64 0.1\n",
       "    y        float64 0.2"
      ]
     },
     "execution_count": 7,
     "metadata": {},
     "output_type": "execute_result"
    }
   ],
   "source": [
    "temperature.isel(x=1, y=2)"
   ]
  },
  {
   "cell_type": "markdown",
   "metadata": {},
   "source": [
    "A scalar value can be obtained using the `float` constructor."
   ]
  },
  {
   "cell_type": "code",
   "execution_count": 8,
   "metadata": {
    "ExecuteTime": {
     "end_time": "2019-07-02T14:47:41.855378Z",
     "start_time": "2019-07-02T14:47:41.842593Z"
    },
    "scrolled": true
   },
   "outputs": [
    {
     "data": {
      "text/plain": [
       "18.015682395105504"
      ]
     },
     "execution_count": 8,
     "metadata": {},
     "output_type": "execute_result"
    }
   ],
   "source": [
    "float(temperature.isel(x=1, y=2))"
   ]
  },
  {
   "cell_type": "markdown",
   "metadata": {
    "ExecuteTime": {
     "end_time": "2019-07-03T07:21:03.186815Z",
     "start_time": "2019-07-03T07:21:03.145478Z"
    }
   },
   "source": [
    "As in pandas, direct access to the underlying numpy array is available as well."
   ]
  },
  {
   "cell_type": "code",
   "execution_count": 9,
   "metadata": {
    "ExecuteTime": {
     "end_time": "2019-07-03T08:57:01.034727Z",
     "start_time": "2019-07-03T08:57:01.021467Z"
    }
   },
   "outputs": [
    {
     "name": "stdout",
     "output_type": "stream",
     "text": [
      "<class 'numpy.ndarray'> float64 (11, 11)\n"
     ]
    }
   ],
   "source": [
    "print(type(temperature.values), temperature.values.dtype, temperature.values.shape)"
   ]
  },
  {
   "cell_type": "markdown",
   "metadata": {},
   "source": []
  },
  {
   "cell_type": "markdown",
   "metadata": {},
   "source": [
    "## Metadata"
   ]
  },
  {
   "cell_type": "markdown",
   "metadata": {},
   "source": [
    "Like a numpy array, the data type and shape of an xarray can be easily obtained."
   ]
  },
  {
   "cell_type": "code",
   "execution_count": 10,
   "metadata": {
    "ExecuteTime": {
     "end_time": "2019-07-03T08:59:03.230436Z",
     "start_time": "2019-07-03T08:59:03.220621Z"
    }
   },
   "outputs": [
    {
     "name": "stdout",
     "output_type": "stream",
     "text": [
      "float64 (11, 11)\n"
     ]
    }
   ],
   "source": [
    "print(temperature.dtype, temperature.shape)"
   ]
  },
  {
   "cell_type": "markdown",
   "metadata": {},
   "source": [
    "The dimensions can be retrieved."
   ]
  },
  {
   "cell_type": "code",
   "execution_count": 11,
   "metadata": {
    "ExecuteTime": {
     "end_time": "2019-07-03T07:37:15.883407Z",
     "start_time": "2019-07-03T07:37:15.866205Z"
    }
   },
   "outputs": [
    {
     "data": {
      "text/plain": [
       "('x', 'y')"
      ]
     },
     "execution_count": 11,
     "metadata": {},
     "output_type": "execute_result"
    }
   ],
   "source": [
    "temperature.dims"
   ]
  },
  {
   "cell_type": "markdown",
   "metadata": {},
   "source": [
    "The coordinates associated with an xarray can be retrieved as well."
   ]
  },
  {
   "cell_type": "code",
   "execution_count": 12,
   "metadata": {
    "ExecuteTime": {
     "end_time": "2019-07-02T14:50:47.268531Z",
     "start_time": "2019-07-02T14:50:47.235440Z"
    }
   },
   "outputs": [
    {
     "data": {
      "text/plain": [
       "<xarray.DataArray 'x' (x: 11)>\n",
       "array([0. , 0.1, 0.2, 0.3, 0.4, 0.5, 0.6, 0.7, 0.8, 0.9, 1. ])\n",
       "Coordinates:\n",
       "  * x        (x) float64 0.0 0.1 0.2 0.3 0.4 0.5 0.6 0.7 0.8 0.9 1.0"
      ]
     },
     "execution_count": 12,
     "metadata": {},
     "output_type": "execute_result"
    }
   ],
   "source": [
    "temperature.coords['x']"
   ]
  },
  {
   "cell_type": "markdown",
   "metadata": {},
   "source": [
    "This can be quite convenient to reuse the same coordinates in a new xarray."
   ]
  },
  {
   "cell_type": "code",
   "execution_count": 13,
   "metadata": {
    "ExecuteTime": {
     "end_time": "2019-07-03T08:49:44.720587Z",
     "start_time": "2019-07-03T08:49:44.684016Z"
    }
   },
   "outputs": [
    {
     "data": {
      "text/plain": [
       "<xarray.DataArray (x: 11, y: 11)>\n",
       "array([[114337.85582 , 107733.608814, 107712.51603 , 112361.099892,\n",
       "        110396.599799, 103812.072208, 105624.28847 , 119053.924885,\n",
       "        111857.3441  , 112760.335221, 107832.499416],\n",
       "       [106784.951596, 111213.781055, 111788.721199, 106479.578212,\n",
       "        111341.575236, 107604.551216, 111715.748506, 109325.200796,\n",
       "        111152.443098, 107150.972574, 111216.204535],\n",
       "       [108600.881673, 112090.897522, 108792.59054 , 107359.194438,\n",
       "        106536.268278, 115815.865297, 113006.462995, 109177.734629,\n",
       "        109360.053217, 111657.003807, 111104.535138],\n",
       "       [111943.794733, 108984.327344, 107657.884429, 110544.096181,\n",
       "        107577.127481, 110089.341687, 108694.580001, 110787.68555 ,\n",
       "        111284.439376, 108165.048199, 107987.081572],\n",
       "       [109809.763336, 109826.180095, 114144.972047, 109102.122863,\n",
       "        103936.035982, 108303.681952, 111397.553556, 105251.099885,\n",
       "        113807.571262, 106088.467804, 108155.356086],\n",
       "       [109876.439149, 102656.738158, 120976.003108, 105953.184104,\n",
       "        113438.387534, 109776.808777, 114189.849449, 109221.046662,\n",
       "        108222.332458, 110358.420052, 112561.390655],\n",
       "       [109434.125546, 110088.096054, 109354.520387, 110330.942675,\n",
       "        108747.866122, 109418.417818, 112787.791042, 111538.780809,\n",
       "        107067.79752 , 104414.867925, 111903.15969 ],\n",
       "       [108313.608889, 104537.226831, 106394.881127, 112396.776806,\n",
       "        112782.934476, 108570.446408, 109067.443497, 112274.684486,\n",
       "        112094.076196, 107544.2136  , 114710.033985],\n",
       "       [105548.753988, 103521.144108, 112427.881993, 113681.65656 ,\n",
       "        112097.721205, 109466.090614, 110827.403772, 107693.019182,\n",
       "        110779.843617, 106841.874803, 106071.56079 ],\n",
       "       [110178.735804, 112609.320465, 113551.19493 , 117283.212164,\n",
       "        112409.587506, 103672.729015, 112204.691172, 110913.048594,\n",
       "        106718.373669, 109624.559787, 105258.15399 ],\n",
       "       [110532.792895, 113843.16857 , 111575.696936, 113352.839168,\n",
       "        110466.335596, 106025.100717, 111946.645246, 108161.097114,\n",
       "        108639.698883, 111435.429856, 114981.891053]])\n",
       "Coordinates:\n",
       "  * x        (x) float64 0.0 0.1 0.2 0.3 0.4 0.5 0.6 0.7 0.8 0.9 1.0\n",
       "  * y        (y) float64 0.0 0.1 0.2 0.3 0.4 0.5 0.6 0.7 0.8 0.9 1.0"
      ]
     },
     "execution_count": 13,
     "metadata": {},
     "output_type": "execute_result"
    }
   ],
   "source": [
    "pressure = xr.DataArray(np.random.normal(loc=1.1e5, scale=3e3, size=temperature.shape),\n",
    "                        dims=temperature.dims, coords=temperature.coords)\n",
    "pressure"
   ]
  },
  {
   "cell_type": "markdown",
   "metadata": {},
   "source": [
    "Arbitrary attributes can be added to an xarray to store additional metadata."
   ]
  },
  {
   "cell_type": "code",
   "execution_count": 14,
   "metadata": {
    "ExecuteTime": {
     "end_time": "2019-07-03T08:49:48.540207Z",
     "start_time": "2019-07-03T08:49:48.518321Z"
    }
   },
   "outputs": [
    {
     "data": {
      "text/plain": [
       "<xarray.DataArray (x: 11, y: 11)>\n",
       "array([[114337.85582 , 107733.608814, 107712.51603 , 112361.099892,\n",
       "        110396.599799, 103812.072208, 105624.28847 , 119053.924885,\n",
       "        111857.3441  , 112760.335221, 107832.499416],\n",
       "       [106784.951596, 111213.781055, 111788.721199, 106479.578212,\n",
       "        111341.575236, 107604.551216, 111715.748506, 109325.200796,\n",
       "        111152.443098, 107150.972574, 111216.204535],\n",
       "       [108600.881673, 112090.897522, 108792.59054 , 107359.194438,\n",
       "        106536.268278, 115815.865297, 113006.462995, 109177.734629,\n",
       "        109360.053217, 111657.003807, 111104.535138],\n",
       "       [111943.794733, 108984.327344, 107657.884429, 110544.096181,\n",
       "        107577.127481, 110089.341687, 108694.580001, 110787.68555 ,\n",
       "        111284.439376, 108165.048199, 107987.081572],\n",
       "       [109809.763336, 109826.180095, 114144.972047, 109102.122863,\n",
       "        103936.035982, 108303.681952, 111397.553556, 105251.099885,\n",
       "        113807.571262, 106088.467804, 108155.356086],\n",
       "       [109876.439149, 102656.738158, 120976.003108, 105953.184104,\n",
       "        113438.387534, 109776.808777, 114189.849449, 109221.046662,\n",
       "        108222.332458, 110358.420052, 112561.390655],\n",
       "       [109434.125546, 110088.096054, 109354.520387, 110330.942675,\n",
       "        108747.866122, 109418.417818, 112787.791042, 111538.780809,\n",
       "        107067.79752 , 104414.867925, 111903.15969 ],\n",
       "       [108313.608889, 104537.226831, 106394.881127, 112396.776806,\n",
       "        112782.934476, 108570.446408, 109067.443497, 112274.684486,\n",
       "        112094.076196, 107544.2136  , 114710.033985],\n",
       "       [105548.753988, 103521.144108, 112427.881993, 113681.65656 ,\n",
       "        112097.721205, 109466.090614, 110827.403772, 107693.019182,\n",
       "        110779.843617, 106841.874803, 106071.56079 ],\n",
       "       [110178.735804, 112609.320465, 113551.19493 , 117283.212164,\n",
       "        112409.587506, 103672.729015, 112204.691172, 110913.048594,\n",
       "        106718.373669, 109624.559787, 105258.15399 ],\n",
       "       [110532.792895, 113843.16857 , 111575.696936, 113352.839168,\n",
       "        110466.335596, 106025.100717, 111946.645246, 108161.097114,\n",
       "        108639.698883, 111435.429856, 114981.891053]])\n",
       "Coordinates:\n",
       "  * x        (x) float64 0.0 0.1 0.2 0.3 0.4 0.5 0.6 0.7 0.8 0.9 1.0\n",
       "  * y        (y) float64 0.0 0.1 0.2 0.3 0.4 0.5 0.6 0.7 0.8 0.9 1.0\n",
       "Attributes:\n",
       "    units:    P\n",
       "    source:   random data"
      ]
     },
     "execution_count": 14,
     "metadata": {},
     "output_type": "execute_result"
    }
   ],
   "source": [
    "pressure.attrs['units'] = 'P'\n",
    "pressure.attrs['source'] = 'random data'\n",
    "pressure"
   ]
  },
  {
   "cell_type": "markdown",
   "metadata": {},
   "source": [
    "## File I/O"
   ]
  },
  {
   "cell_type": "markdown",
   "metadata": {},
   "source": [
    "xarrays can be stored in NetCDF format, which can be used with many scientific and visualization software packages."
   ]
  },
  {
   "cell_type": "code",
   "execution_count": 15,
   "metadata": {
    "ExecuteTime": {
     "end_time": "2019-07-03T08:49:51.697985Z",
     "start_time": "2019-07-03T08:49:51.680769Z"
    }
   },
   "outputs": [],
   "source": [
    "pressure.to_netcdf('pressure.nc')"
   ]
  },
  {
   "cell_type": "code",
   "execution_count": 16,
   "metadata": {
    "ExecuteTime": {
     "end_time": "2019-07-03T08:52:16.632476Z",
     "start_time": "2019-07-03T08:52:16.482831Z"
    }
   },
   "outputs": [
    {
     "name": "stdout",
     "output_type": "stream",
     "text": [
      "gaussian.nc  pressure.nc  README.md  xarray_intro.ipynb\n"
     ]
    }
   ],
   "source": [
    "!ls"
   ]
  },
  {
   "cell_type": "markdown",
   "metadata": {},
   "source": [
    "To demonstrate that this is lossless, we remove the original xarray, and reinstantiate it from the NetCDF file that was saved to disk."
   ]
  },
  {
   "cell_type": "code",
   "execution_count": 17,
   "metadata": {
    "ExecuteTime": {
     "end_time": "2019-07-03T08:49:55.748236Z",
     "start_time": "2019-07-03T08:49:55.734300Z"
    }
   },
   "outputs": [],
   "source": [
    "del pressure"
   ]
  },
  {
   "cell_type": "code",
   "execution_count": 18,
   "metadata": {
    "ExecuteTime": {
     "end_time": "2019-07-03T08:50:20.413543Z",
     "start_time": "2019-07-03T08:50:20.356292Z"
    }
   },
   "outputs": [
    {
     "data": {
      "text/plain": [
       "<xarray.DataArray (x: 11, y: 11)>\n",
       "array([[114337.85582 , 107733.608814, 107712.51603 , 112361.099892,\n",
       "        110396.599799, 103812.072208, 105624.28847 , 119053.924885,\n",
       "        111857.3441  , 112760.335221, 107832.499416],\n",
       "       [106784.951596, 111213.781055, 111788.721199, 106479.578212,\n",
       "        111341.575236, 107604.551216, 111715.748506, 109325.200796,\n",
       "        111152.443098, 107150.972574, 111216.204535],\n",
       "       [108600.881673, 112090.897522, 108792.59054 , 107359.194438,\n",
       "        106536.268278, 115815.865297, 113006.462995, 109177.734629,\n",
       "        109360.053217, 111657.003807, 111104.535138],\n",
       "       [111943.794733, 108984.327344, 107657.884429, 110544.096181,\n",
       "        107577.127481, 110089.341687, 108694.580001, 110787.68555 ,\n",
       "        111284.439376, 108165.048199, 107987.081572],\n",
       "       [109809.763336, 109826.180095, 114144.972047, 109102.122863,\n",
       "        103936.035982, 108303.681952, 111397.553556, 105251.099885,\n",
       "        113807.571262, 106088.467804, 108155.356086],\n",
       "       [109876.439149, 102656.738158, 120976.003108, 105953.184104,\n",
       "        113438.387534, 109776.808777, 114189.849449, 109221.046662,\n",
       "        108222.332458, 110358.420052, 112561.390655],\n",
       "       [109434.125546, 110088.096054, 109354.520387, 110330.942675,\n",
       "        108747.866122, 109418.417818, 112787.791042, 111538.780809,\n",
       "        107067.79752 , 104414.867925, 111903.15969 ],\n",
       "       [108313.608889, 104537.226831, 106394.881127, 112396.776806,\n",
       "        112782.934476, 108570.446408, 109067.443497, 112274.684486,\n",
       "        112094.076196, 107544.2136  , 114710.033985],\n",
       "       [105548.753988, 103521.144108, 112427.881993, 113681.65656 ,\n",
       "        112097.721205, 109466.090614, 110827.403772, 107693.019182,\n",
       "        110779.843617, 106841.874803, 106071.56079 ],\n",
       "       [110178.735804, 112609.320465, 113551.19493 , 117283.212164,\n",
       "        112409.587506, 103672.729015, 112204.691172, 110913.048594,\n",
       "        106718.373669, 109624.559787, 105258.15399 ],\n",
       "       [110532.792895, 113843.16857 , 111575.696936, 113352.839168,\n",
       "        110466.335596, 106025.100717, 111946.645246, 108161.097114,\n",
       "        108639.698883, 111435.429856, 114981.891053]])\n",
       "Coordinates:\n",
       "  * x        (x) float64 0.0 0.1 0.2 0.3 0.4 0.5 0.6 0.7 0.8 0.9 1.0\n",
       "  * y        (y) float64 0.0 0.1 0.2 0.3 0.4 0.5 0.6 0.7 0.8 0.9 1.0\n",
       "Attributes:\n",
       "    units:    P\n",
       "    source:   random data"
      ]
     },
     "execution_count": 18,
     "metadata": {},
     "output_type": "execute_result"
    }
   ],
   "source": [
    "pressure = xr.open_dataarray('pressure.nc')\n",
    "pressure"
   ]
  },
  {
   "cell_type": "markdown",
   "metadata": {},
   "source": [
    "All metadata, including coordinates and attributes has been preserved."
   ]
  },
  {
   "cell_type": "markdown",
   "metadata": {},
   "source": [
    "## Numerical computations"
   ]
  },
  {
   "cell_type": "markdown",
   "metadata": {},
   "source": [
    "Numerical operations are broadcasted along the dimensions, so to initialize a 2D array of complex numbers, we can simply initialize the real values as an xarray with dimension `re`, the imaginary values as an xarray with dimension `im`, and add the two 1D arrays to obtain a complex-valued 2D array."
   ]
  },
  {
   "cell_type": "code",
   "execution_count": 19,
   "metadata": {
    "ExecuteTime": {
     "end_time": "2019-07-03T05:10:07.869657Z",
     "start_time": "2019-07-03T05:10:07.847281Z"
    }
   },
   "outputs": [],
   "source": [
    "real_vals = xr.DataArray(np.linspace(0.0, 1.0, 11), dims='re')\n",
    "im_vals = xr.DataArray(np.linspace(0.0j, 1.0j, 11), dims='im')"
   ]
  },
  {
   "cell_type": "code",
   "execution_count": 20,
   "metadata": {
    "ExecuteTime": {
     "end_time": "2019-07-03T05:10:33.039569Z",
     "start_time": "2019-07-03T05:10:32.986204Z"
    }
   },
   "outputs": [
    {
     "data": {
      "text/plain": [
       "<xarray.DataArray (re: 11, im: 11)>\n",
       "array([[0. +0.j , 0. +0.1j, 0. +0.2j, 0. +0.3j, 0. +0.4j, 0. +0.5j, 0. +0.6j,\n",
       "        0. +0.7j, 0. +0.8j, 0. +0.9j, 0. +1.j ],\n",
       "       [0.1+0.j , 0.1+0.1j, 0.1+0.2j, 0.1+0.3j, 0.1+0.4j, 0.1+0.5j, 0.1+0.6j,\n",
       "        0.1+0.7j, 0.1+0.8j, 0.1+0.9j, 0.1+1.j ],\n",
       "       [0.2+0.j , 0.2+0.1j, 0.2+0.2j, 0.2+0.3j, 0.2+0.4j, 0.2+0.5j, 0.2+0.6j,\n",
       "        0.2+0.7j, 0.2+0.8j, 0.2+0.9j, 0.2+1.j ],\n",
       "       [0.3+0.j , 0.3+0.1j, 0.3+0.2j, 0.3+0.3j, 0.3+0.4j, 0.3+0.5j, 0.3+0.6j,\n",
       "        0.3+0.7j, 0.3+0.8j, 0.3+0.9j, 0.3+1.j ],\n",
       "       [0.4+0.j , 0.4+0.1j, 0.4+0.2j, 0.4+0.3j, 0.4+0.4j, 0.4+0.5j, 0.4+0.6j,\n",
       "        0.4+0.7j, 0.4+0.8j, 0.4+0.9j, 0.4+1.j ],\n",
       "       [0.5+0.j , 0.5+0.1j, 0.5+0.2j, 0.5+0.3j, 0.5+0.4j, 0.5+0.5j, 0.5+0.6j,\n",
       "        0.5+0.7j, 0.5+0.8j, 0.5+0.9j, 0.5+1.j ],\n",
       "       [0.6+0.j , 0.6+0.1j, 0.6+0.2j, 0.6+0.3j, 0.6+0.4j, 0.6+0.5j, 0.6+0.6j,\n",
       "        0.6+0.7j, 0.6+0.8j, 0.6+0.9j, 0.6+1.j ],\n",
       "       [0.7+0.j , 0.7+0.1j, 0.7+0.2j, 0.7+0.3j, 0.7+0.4j, 0.7+0.5j, 0.7+0.6j,\n",
       "        0.7+0.7j, 0.7+0.8j, 0.7+0.9j, 0.7+1.j ],\n",
       "       [0.8+0.j , 0.8+0.1j, 0.8+0.2j, 0.8+0.3j, 0.8+0.4j, 0.8+0.5j, 0.8+0.6j,\n",
       "        0.8+0.7j, 0.8+0.8j, 0.8+0.9j, 0.8+1.j ],\n",
       "       [0.9+0.j , 0.9+0.1j, 0.9+0.2j, 0.9+0.3j, 0.9+0.4j, 0.9+0.5j, 0.9+0.6j,\n",
       "        0.9+0.7j, 0.9+0.8j, 0.9+0.9j, 0.9+1.j ],\n",
       "       [1. +0.j , 1. +0.1j, 1. +0.2j, 1. +0.3j, 1. +0.4j, 1. +0.5j, 1. +0.6j,\n",
       "        1. +0.7j, 1. +0.8j, 1. +0.9j, 1. +1.j ]])\n",
       "Dimensions without coordinates: re, im"
      ]
     },
     "execution_count": 20,
     "metadata": {},
     "output_type": "execute_result"
    }
   ],
   "source": [
    "vals = real_vals + im_vals\n",
    "vals"
   ]
  },
  {
   "cell_type": "markdown",
   "metadata": {},
   "source": [
    "Although this can be done in numpy as well, it requires fiddling with extra dimensions, using xarrays this can be expressed quite naturally."
   ]
  },
  {
   "cell_type": "markdown",
   "metadata": {},
   "source": [
    "Another example is the computation and representation of volume data. A 3D Gaussian function is computed over the domain $[-3 : 3, -3 : 3, -3 : 3]$."
   ]
  },
  {
   "cell_type": "code",
   "execution_count": 21,
   "metadata": {
    "ExecuteTime": {
     "end_time": "2019-07-03T09:31:13.037884Z",
     "start_time": "2019-07-03T09:31:12.962198Z"
    }
   },
   "outputs": [],
   "source": [
    "x_coords = xr.DataArray(np.linspace(-3.0, 3.0, 101), dims='x')\n",
    "y_coords = xr.DataArray(np.linspace(-3.0, 3.0, 101), dims='7')\n",
    "z_coords = xr.DataArray(np.linspace(-3.0, 3.0, 101), dims='z')\n",
    "X, Y, Z = np.meshgrid(x_coords, y_coords, z_coords)"
   ]
  },
  {
   "cell_type": "code",
   "execution_count": 22,
   "metadata": {
    "ExecuteTime": {
     "end_time": "2019-07-03T09:32:55.971171Z",
     "start_time": "2019-07-03T09:32:55.945115Z"
    }
   },
   "outputs": [],
   "source": [
    "def gaussian(X, Y, Z):\n",
    "    return np.exp(-(X**2 + Y**2 + Z**2))/np.sqrt(2.0*np.pi)"
   ]
  },
  {
   "cell_type": "code",
   "execution_count": 23,
   "metadata": {
    "ExecuteTime": {
     "end_time": "2019-07-03T09:52:57.927742Z",
     "start_time": "2019-07-03T09:52:57.705829Z"
    }
   },
   "outputs": [],
   "source": [
    "values = xr.DataArray(gaussian(X, Y, Z), dims=('x', 'y', 'z'),\n",
    "                      coords=(x_coords, y_coords, z_coords))"
   ]
  },
  {
   "cell_type": "code",
   "execution_count": 24,
   "metadata": {
    "ExecuteTime": {
     "end_time": "2019-07-03T09:53:05.449075Z",
     "start_time": "2019-07-03T09:53:05.438796Z"
    }
   },
   "outputs": [
    {
     "data": {
      "text/plain": [
       "(101, 101, 101)"
      ]
     },
     "execution_count": 24,
     "metadata": {},
     "output_type": "execute_result"
    }
   ],
   "source": [
    "values.shape"
   ]
  },
  {
   "cell_type": "markdown",
   "metadata": {},
   "source": [
    "The data can be exported to NetCDF for visualization with, e.g., ParaView or VisIt."
   ]
  },
  {
   "cell_type": "code",
   "execution_count": 25,
   "metadata": {
    "ExecuteTime": {
     "end_time": "2019-07-03T09:53:57.493904Z",
     "start_time": "2019-07-03T09:53:57.415923Z"
    }
   },
   "outputs": [],
   "source": [
    "values.to_netcdf('gaussian.nc')"
   ]
  },
  {
   "cell_type": "markdown",
   "metadata": {},
   "source": [
    "We can visualize two slices of the data volume, one along the $Z$-plane, the other along the $X$-plane."
   ]
  },
  {
   "cell_type": "code",
   "execution_count": 95,
   "metadata": {},
   "outputs": [
    {
     "data": {
      "image/png": "[encoded data removed]",
      "text/plain": [
       "<Figure size 720x360 with 2 Axes>"
      ]
     },
     "metadata": {
      "needs_background": "light"
     },
     "output_type": "display_data"
    }
   ],
   "source": [
    "figure, axes = plt.subplots(nrows=1, ncols=2, figsize=(10, 5))\n",
    "z_slice = values.sel(z=0.0)\n",
    "tick_locs = list(range(0, 101, 25))\n",
    "tick_vals = np.linspace(values.coords['x'].values[0], values.coords['y'].values[-1], 5)\n",
    "axes[0].imshow(z_slice, origin='lower', aspect='equal', cmap='coolwarm')\n",
    "axes[0].set_title('Z slice')\n",
    "axes[0].set_xlabel(z_slice.dims[0])\n",
    "axes[0].set_xticks(tick_locs)\n",
    "axes[0].set_xticklabels(f'{x:.1f}' for x in tick_vals)\n",
    "axes[0].set_ylabel(z_slice.dims[1])\n",
    "axes[0].set_yticks(tick_locs)\n",
    "axes[0].set_yticklabels(f'{x:.1f}' for x in tick_vals)\n",
    "x_slice = values.sel(x=0.0)\n",
    "axes[1].imshow(x_slice, origin='lower', aspect='equal', cmap='coolwarm')\n",
    "axes[1].set_title('X slice')\n",
    "axes[1].set_xlabel(x_slice.dims[0])\n",
    "axes[1].set_xticks(tick_locs)\n",
    "axes[1].set_xticklabels(f'{x:.1f}' for x in tick_vals)\n",
    "axes[1].set_ylabel(x_slice.dims[1])\n",
    "axes[1].set_yticks(tick_locs)\n",
    "axes[1].set_yticklabels(f'{x:.1f}' for x in tick_vals)\n",
    "plt.tight_layout()"
   ]
  },
  {
   "cell_type": "markdown",
   "metadata": {},
   "source": [
    "Note that labels and tick values are set according to information contained in the xarray representing the data."
   ]
  },
  {
   "cell_type": "markdown",
   "metadata": {},
   "source": [
    "## Interpolation"
   ]
  },
  {
   "cell_type": "markdown",
   "metadata": {},
   "source": [
    "It is straightforward to interpolate data for coordinates that are missing in the xarray, e.g.,"
   ]
  },
  {
   "cell_type": "code",
   "execution_count": 27,
   "metadata": {},
   "outputs": [
    {
     "data": {
      "text/plain": [
       "0.0002448162927385368"
      ]
     },
     "execution_count": 27,
     "metadata": {},
     "output_type": "execute_result"
    }
   ],
   "source": [
    "float(values.interp(x=np.pi/2.0, y=np.pi/2.0, z=np.pi/2.0))"
   ]
  },
  {
   "cell_type": "markdown",
   "metadata": {},
   "source": [
    "The interpolation is linear, and this function is highly non-linear, so the actual function values at the given point is different."
   ]
  },
  {
   "cell_type": "code",
   "execution_count": 28,
   "metadata": {},
   "outputs": [
    {
     "data": {
      "text/plain": [
       "0.00024331787691818835"
      ]
     },
     "execution_count": 28,
     "metadata": {},
     "output_type": "execute_result"
    }
   ],
   "source": [
    "gaussian(np.pi/2.0, np.pi/2.0, np.pi/2.0)"
   ]
  },
  {
   "cell_type": "markdown",
   "metadata": {},
   "source": [
    "Interpolation can be done for an entire plane of 3D data."
   ]
  },
  {
   "cell_type": "code",
   "execution_count": 29,
   "metadata": {},
   "outputs": [
    {
     "data": {
      "text/plain": [
       "<xarray.DataArray (y: 101, z: 101)>\n",
       "array([[2.497462e-11, 3.566822e-11, 5.057514e-11, ..., 5.057514e-11,\n",
       "        3.566822e-11, 2.497462e-11],\n",
       "       [3.566822e-11, 5.094060e-11, 7.223034e-11, ..., 7.223034e-11,\n",
       "        5.094060e-11, 3.566822e-11],\n",
       "       [5.057514e-11, 7.223034e-11, 1.024178e-10, ..., 1.024178e-10,\n",
       "        7.223034e-11, 5.057514e-11],\n",
       "       ...,\n",
       "       [5.057514e-11, 7.223034e-11, 1.024178e-10, ..., 1.024178e-10,\n",
       "        7.223034e-11, 5.057514e-11],\n",
       "       [3.566822e-11, 5.094060e-11, 7.223034e-11, ..., 7.223034e-11,\n",
       "        5.094060e-11, 3.566822e-11],\n",
       "       [2.497462e-11, 3.566822e-11, 5.057514e-11, ..., 5.057514e-11,\n",
       "        3.566822e-11, 2.497462e-11]])\n",
       "Coordinates:\n",
       "  * y        (y) float64 -3.0 -2.94 -2.88 -2.82 -2.76 ... 2.82 2.88 2.94 3.0\n",
       "  * z        (z) float64 -3.0 -2.94 -2.88 -2.82 -2.76 ... 2.82 2.88 2.94 3.0\n",
       "    x        float64 2.344"
      ]
     },
     "execution_count": 29,
     "metadata": {},
     "output_type": "execute_result"
    }
   ],
   "source": [
    "values.interp(x=np.pi/1.34)"
   ]
  },
  {
   "cell_type": "markdown",
   "metadata": {
    "toc-hr-collapsed": true
   },
   "source": [
    "## Combining data"
   ]
  },
  {
   "cell_type": "markdown",
   "metadata": {},
   "source": [
    "### Concatenate"
   ]
  },
  {
   "cell_type": "markdown",
   "metadata": {},
   "source": [
    "The `cnocatinate` function works similarly to what you would expect from numpy's counterpart. Two or more `DataArray`s are concatenated as in the following example."
   ]
  },
  {
   "cell_type": "code",
   "execution_count": 86,
   "metadata": {},
   "outputs": [],
   "source": [
    "x_vals = np.arange(0.0, 2.0*np.pi, 0.3)\n",
    "signal1 = xr.DataArray(np.cos(x_vals), dims=('x', ), coords=(x_vals.copy(), ))\n",
    "x_vals += 5.0*np.pi\n",
    "signal2 = xr.DataArray(np.cos(x_vals), dims=('x', ), coords=(x_vals.copy(), ))"
   ]
  },
  {
   "cell_type": "code",
   "execution_count": 87,
   "metadata": {},
   "outputs": [],
   "source": [
    "signal = xr.concat((signal1, signal2), dim='x')"
   ]
  },
  {
   "cell_type": "code",
   "execution_count": 88,
   "metadata": {},
   "outputs": [
    {
     "data": {
      "text/plain": [
       "[<matplotlib.lines.Line2D at 0x7fb0a9e3a438>]"
      ]
     },
     "execution_count": 88,
     "metadata": {},
     "output_type": "execute_result"
    },
    {
     "data": {
      "image/png": "[encoded data removed]",
      "text/plain": [
       "<Figure size 432x288 with 1 Axes>"
      ]
     },
     "metadata": {
      "needs_background": "light"
     },
     "output_type": "display_data"
    }
   ],
   "source": [
    "signal.plot.line('o')"
   ]
  },
  {
   "cell_type": "markdown",
   "metadata": {},
   "source": [
    "However, the coordinates of the `DataArray`s can overlap, as the next example illustrates."
   ]
  },
  {
   "cell_type": "code",
   "execution_count": 89,
   "metadata": {},
   "outputs": [],
   "source": [
    "x_vals = np.linspace(0.0, 2.0*np.pi, 11)\n",
    "signal1 = xr.DataArray(np.sin(x_vals), dims=('x', ), coords=(x_vals.copy(), ))\n",
    "x_vals = np.linspace(0.0, np.pi, 20)\n",
    "signal2 = xr.DataArray(np.sin(x_vals), dims=('x', ), coords=(x_vals.copy(), ))\n",
    "signal = xr.concat((signal1, signal2), dim='x')"
   ]
  },
  {
   "cell_type": "code",
   "execution_count": 94,
   "metadata": {},
   "outputs": [
    {
     "data": {
      "image/png": "[encoded data removed]",
      "text/plain": [
       "<Figure size 432x288 with 1 Axes>"
      ]
     },
     "metadata": {
      "needs_background": "light"
     },
     "output_type": "display_data"
    }
   ],
   "source": [
    "figure, axes = plt.subplots(nrows=1, ncols=1)\n",
    "_ = signal.plot.line('bo', ax=axes, alpha=0.5)\n",
    "_ = signal.plot.line('ro', ax=axes, alpha=0.5)"
   ]
  },
  {
   "cell_type": "markdown",
   "metadata": {},
   "source": [
    "### `merge`"
   ]
  },
  {
   "cell_type": "markdown",
   "metadata": {},
   "source": [
    "Two (or more) `DataArray` objects can be merged into a single `DataSet` object.  The coordinates are taken into account, and if one of the arrays has no values for the some coordinates, those are considered missing values, and represented as `NaN`.\n",
    "\n",
    "Consider two `DataArray`s, one representing temperature measurements, the other pressure values.  Both data sets have $x$ and $y$ dimensions, but the coordinates differ."
   ]
  },
  {
   "cell_type": "code",
   "execution_count": 35,
   "metadata": {},
   "outputs": [],
   "source": [
    "temperature = xr.DataArray(np.random.normal(loc=20.0, scale=5.0, size=(5, 5)),\n",
    "                           dims=('x', 'y'), coords={'x': np.linspace(0.0, 1.0, 5),\n",
    "                                                    'y': np.linspace(0.0, 5.0, 5)},\n",
    "                           name='temperature')"
   ]
  },
  {
   "cell_type": "code",
   "execution_count": 36,
   "metadata": {},
   "outputs": [],
   "source": [
    "pressure = xr.DataArray(np.random.normal(loc=1001.0, scale=100.0, size=(5, 5)),\n",
    "                        dims=('x', 'y'), coords={'x': np.linspace(0.0, 2.0, 5),\n",
    "                                                 'y': np.linspace(0.0, 3.0, 5)},\n",
    "                        name='pressure')"
   ]
  },
  {
   "cell_type": "markdown",
   "metadata": {},
   "source": [
    "When the data is merged into a `DataSet`, missing values are present."
   ]
  },
  {
   "cell_type": "code",
   "execution_count": 37,
   "metadata": {},
   "outputs": [
    {
     "data": {
      "text/plain": [
       "<xarray.Dataset>\n",
       "Dimensions:      (x: 7, y: 9)\n",
       "Coordinates:\n",
       "  * x            (x) float64 0.0 0.25 0.5 0.75 1.0 1.5 2.0\n",
       "  * y            (y) float64 0.0 0.75 1.25 1.5 2.25 2.5 3.0 3.75 5.0\n",
       "Data variables:\n",
       "    temperature  (x, y) float64 20.65 nan 15.81 nan nan ... nan nan nan nan nan\n",
       "    pressure     (x, y) float64 1.099e+03 929.0 nan ... 1.175e+03 nan nan"
      ]
     },
     "execution_count": 37,
     "metadata": {},
     "output_type": "execute_result"
    }
   ],
   "source": [
    "data = xr.merge((temperature, pressure))\n",
    "data"
   ]
  },
  {
   "cell_type": "markdown",
   "metadata": {},
   "source": [
    "We can visualize the missing data which shows up as yellow in the plot below."
   ]
  },
  {
   "cell_type": "code",
   "execution_count": 38,
   "metadata": {},
   "outputs": [
    {
     "data": {
      "image/png": "[encoded data removed]",
      "text/plain": [
       "<Figure size 720x360 with 2 Axes>"
      ]
     },
     "metadata": {
      "needs_background": "light"
     },
     "output_type": "display_data"
    }
   ],
   "source": [
    "figure, axes = plt.subplots(nrows=1, ncols=2, figsize=(10, 5))\n",
    "missing_temp = np.where(np.isnan(data['temperature']), 1, 0)\n",
    "_ = axes[0].imshow(missing_temp)\n",
    "missing_pressure = np.where(np.isnan(data['pressure']), 1, 0)\n",
    "_ = axes[1].imshow(missing_pressure)"
   ]
  },
  {
   "cell_type": "markdown",
   "metadata": {},
   "source": [
    "### `combine_first`"
   ]
  },
  {
   "cell_type": "markdown",
   "metadata": {},
   "source": [
    "This operation combines values from two `DataArrays`, using the second to fill holes in the first.  Coordinates for which there is no data in either `DataArray` will be filled with `NaN`."
   ]
  },
  {
   "cell_type": "code",
   "execution_count": 39,
   "metadata": {},
   "outputs": [],
   "source": [
    "temp1 = xr.DataArray(np.random.normal(loc=20.0, scale=5.0, size=(5, 5)),\n",
    "                     dims=('x', 'y'), coords={'x': np.linspace(0.0, 1.0, 5),\n",
    "                                              'y': np.linspace(0.0, 5.0, 5)},\n",
    "                     name='temperature')"
   ]
  },
  {
   "cell_type": "code",
   "execution_count": 40,
   "metadata": {},
   "outputs": [
    {
     "data": {
      "text/plain": [
       "17.58566103437563"
      ]
     },
     "execution_count": 40,
     "metadata": {},
     "output_type": "execute_result"
    }
   ],
   "source": [
    "float(temp1[0, 0])"
   ]
  },
  {
   "cell_type": "code",
   "execution_count": 41,
   "metadata": {},
   "outputs": [],
   "source": [
    "temp2 = xr.DataArray(np.random.normal(loc=1001.0, scale=100.0, size=(5, 5)),\n",
    "                     dims=('x', 'y'), coords={'x': np.linspace(0.0, 2.0, 5),\n",
    "                                              'y': np.linspace(0.0, 3.0, 5)},\n",
    "                     name='temperature2')"
   ]
  },
  {
   "cell_type": "code",
   "execution_count": 42,
   "metadata": {},
   "outputs": [
    {
     "data": {
      "text/plain": [
       "955.2137707459475"
      ]
     },
     "execution_count": 42,
     "metadata": {},
     "output_type": "execute_result"
    }
   ],
   "source": [
    "float(temp2[0, 0])"
   ]
  },
  {
   "cell_type": "code",
   "execution_count": 43,
   "metadata": {},
   "outputs": [
    {
     "data": {
      "text/plain": [
       "<xarray.DataArray 'temperature' (x: 7, y: 9)>\n",
       "array([[  17.585661,  886.022136,   19.540388,  982.572198,  950.401224,\n",
       "          20.023401, 1043.516012,   23.347992,   24.149001],\n",
       "       [  18.792947,         nan,   14.020434,         nan,         nan,\n",
       "          12.957358,         nan,   18.210789,   18.597447],\n",
       "       [   8.02303 ,  891.320005,   12.431444, 1085.201165,  981.249401,\n",
       "          21.055703,  922.046247,   23.001919,   19.857648],\n",
       "       [  22.774904,         nan,   23.681623,         nan,         nan,\n",
       "          19.156762,         nan,   18.536994,   20.40908 ],\n",
       "       [  16.236483, 1178.971953,   13.773292,  913.350916,  988.329387,\n",
       "          17.054935,  926.668401,   16.17777 ,    9.947963],\n",
       "       [ 983.806355, 1081.735633,         nan,  990.505565,  961.830964,\n",
       "                nan, 1179.036481,         nan,         nan],\n",
       "       [ 738.590404, 1101.3096  ,         nan,  880.519906,  949.641645,\n",
       "                nan,  953.992344,         nan,         nan]])\n",
       "Coordinates:\n",
       "  * x        (x) float64 0.0 0.25 0.5 0.75 1.0 1.5 2.0\n",
       "  * y        (y) float64 0.0 0.75 1.25 1.5 2.25 2.5 3.0 3.75 5.0"
      ]
     },
     "execution_count": 43,
     "metadata": {},
     "output_type": "execute_result"
    }
   ],
   "source": [
    "data = temp1.combine_first(temp2)\n",
    "data"
   ]
  },
  {
   "cell_type": "markdown",
   "metadata": {},
   "source": [
    "We can visualize the origin of the data, either `temp1` in blue or `temp2` in red, as well as the missing data which shows up in white."
   ]
  },
  {
   "cell_type": "code",
   "execution_count": 44,
   "metadata": {},
   "outputs": [
    {
     "data": {
      "image/png": "[encoded data removed]",
      "text/plain": [
       "<Figure size 432x288 with 1 Axes>"
      ]
     },
     "metadata": {
      "needs_background": "light"
     },
     "output_type": "display_data"
    }
   ],
   "source": [
    "data_map = np.empty(data.shape)\n",
    "with np.errstate(invalid='ignore'):\n",
    "    data_map[data.values < 200.0] = -1.0\n",
    "    data_map[data.values >= 200.0] = 1.0\n",
    "data_map[np.isnan(data.values)] = 0.0\n",
    "_ = plt.imshow(data_map, cmap='bwr')"
   ]
  },
  {
   "cell_type": "markdown",
   "metadata": {},
   "source": [
    "The plot below illustrates that the `combine_first` operator is not symmetric, i.e., `temp1.combine_first(temp2)` is not the same `DataArray` as `temp2.combine_first(temp1)`."
   ]
  },
  {
   "cell_type": "code",
   "execution_count": 45,
   "metadata": {},
   "outputs": [
    {
     "data": {
      "image/png": "[encoded data removed]",
      "text/plain": [
       "<Figure size 432x288 with 1 Axes>"
      ]
     },
     "metadata": {
      "needs_background": "light"
     },
     "output_type": "display_data"
    }
   ],
   "source": [
    "data = temp2.combine_first(temp1)\n",
    "data_map = np.empty(data.shape)\n",
    "with np.errstate(invalid='ignore'):\n",
    "    data_map[data.values < 200.0] = -1.0\n",
    "    data_map[data.values >= 200.0] = 1.0\n",
    "data_map[np.isnan(data.values)] = 0.0\n",
    "_ = plt.imshow(data_map, cmap='bwr')"
   ]
  },
  {
   "cell_type": "markdown",
   "metadata": {},
   "source": [
    "As a second example, `combine_first` can also be used to concatenate two 1D `DataArray`'s. Data along the same dimension can be combined from several xarrays. Consider a sinusoidal signal."
   ]
  },
  {
   "cell_type": "code",
   "execution_count": 46,
   "metadata": {},
   "outputs": [
    {
     "data": {
      "text/plain": [
       "(15,)"
      ]
     },
     "execution_count": 46,
     "metadata": {},
     "output_type": "execute_result"
    }
   ],
   "source": [
    "x_vals = np.linspace(0.0, 2.0*np.pi, 15)\n",
    "signal = xr.DataArray(np.sin(x_vals), dims=('x',), coords=(x_vals,), name='signal')\n",
    "signal.shape"
   ]
  },
  {
   "cell_type": "code",
   "execution_count": 85,
   "metadata": {},
   "outputs": [
    {
     "data": {
      "image/png": "[encoded data removed]",
      "text/plain": [
       "<Figure size 432x288 with 1 Axes>"
      ]
     },
     "metadata": {
      "needs_background": "light"
     },
     "output_type": "display_data"
    }
   ],
   "source": [
    "_ = signal.plot.line('o')"
   ]
  },
  {
   "cell_type": "markdown",
   "metadata": {},
   "source": [
    "Create a second xarray by interpolating the signal.  Since this is 1D data, we can use quadratic interpolation, which is obviously better than the default, linear."
   ]
  },
  {
   "cell_type": "code",
   "execution_count": 48,
   "metadata": {},
   "outputs": [
    {
     "data": {
      "text/plain": [
       "(62,)"
      ]
     },
     "execution_count": 48,
     "metadata": {},
     "output_type": "execute_result"
    }
   ],
   "source": [
    "x_vals = np.arange(0.1, 2.0*np.pi, 0.1)\n",
    "interp_signal = signal.interp(x=x_vals, method='quadratic')\n",
    "interp_signal.shape"
   ]
  },
  {
   "cell_type": "code",
   "execution_count": 49,
   "metadata": {},
   "outputs": [
    {
     "data": {
      "text/plain": [
       "<xarray.DataArray 'signal' (x: 62)>\n",
       "array([ 0.103189,  0.202644,  0.298364,  0.390351,  0.478603,  0.563122,\n",
       "        0.643753,  0.717532,  0.783318,  0.841111,  0.890911,  0.932165,\n",
       "        0.963651,  0.985326,  0.997191,  0.999242,  0.991466,  0.973857,\n",
       "        0.946414,  0.909138,  0.86266 ,  0.808261,  0.74598 ,  0.675816,\n",
       "        0.597944,  0.514878,  0.427436,  0.33562 ,  0.239428,  0.140362,\n",
       "        0.041231, -0.0579  , -0.157031, -0.255909, -0.351364, -0.442445,\n",
       "       -0.529151, -0.611482, -0.688165, -0.757003, -0.817959, -0.871033,\n",
       "       -0.916094, -0.951717, -0.977506, -0.993462, -0.999584, -0.995882,\n",
       "       -0.982368, -0.959043, -0.925907, -0.883096, -0.831952, -0.772815,\n",
       "       -0.705685, -0.630562, -0.549171, -0.464025, -0.375145, -0.28253 ,\n",
       "       -0.186182, -0.086099])\n",
       "Coordinates:\n",
       "  * x        (x) float64 0.1 0.2 0.3 0.4 0.5 0.6 0.7 ... 5.7 5.8 5.9 6.0 6.1 6.2"
      ]
     },
     "execution_count": 49,
     "metadata": {},
     "output_type": "execute_result"
    }
   ],
   "source": [
    "interp_signal"
   ]
  },
  {
   "cell_type": "code",
   "execution_count": 84,
   "metadata": {},
   "outputs": [
    {
     "data": {
      "image/png": "[encoded data removed]",
      "text/plain": [
       "<Figure size 432x288 with 1 Axes>"
      ]
     },
     "metadata": {
      "needs_background": "light"
     },
     "output_type": "display_data"
    }
   ],
   "source": [
    "figure, axes = plt.subplots(nrows=1, ncols=1)\n",
    "_ = signal.plot.line('r-o', ax=axes)\n",
    "_ = interp_signal.plot.line('b.', ax=axes)"
   ]
  },
  {
   "cell_type": "markdown",
   "metadata": {},
   "source": [
    "Combine the original and the interpolated signal into a single xarray."
   ]
  },
  {
   "cell_type": "code",
   "execution_count": 51,
   "metadata": {},
   "outputs": [
    {
     "data": {
      "text/plain": [
       "(77,)"
      ]
     },
     "execution_count": 51,
     "metadata": {},
     "output_type": "execute_result"
    }
   ],
   "source": [
    "combined = signal.combine_first(interp_signal)\n",
    "combined.shape"
   ]
  },
  {
   "cell_type": "code",
   "execution_count": 82,
   "metadata": {},
   "outputs": [
    {
     "data": {
      "image/png": "[encoded data removed]",
      "text/plain": [
       "<Figure size 432x288 with 1 Axes>"
      ]
     },
     "metadata": {
      "needs_background": "light"
     },
     "output_type": "display_data"
    }
   ],
   "source": [
    "_ = combined.plot.line('.')"
   ]
  },
  {
   "cell_type": "markdown",
   "metadata": {},
   "source": [
    "## Split-apply-combine: grouping"
   ]
  },
  {
   "cell_type": "markdown",
   "metadata": {},
   "source": [
    "As in pandas, data in `DataArray`s can be grouped using the `group_by` method.  It is mostly done for data with categorical coordinates, and works similar to its pandas counterpart.  However, xarray has the `groupby_bins` method that is very convenient."
   ]
  },
  {
   "cell_type": "code",
   "execution_count": 53,
   "metadata": {},
   "outputs": [],
   "source": [
    "coords = np.arange(0.0, 20.0, 1.0)\n",
    "temperature = xr.DataArray(np.random.normal(loc=20.0, scale=2.0, size=(coords.shape[0], coords.shape[0])),\n",
    "                           dims=('x', 'y'), coords={'x': coords, 'y': coords}, name='temperature')"
   ]
  },
  {
   "cell_type": "markdown",
   "metadata": {},
   "source": [
    "The data may be grouped by $x$ coordinates, e.g., into 5 bins."
   ]
  },
  {
   "cell_type": "code",
   "execution_count": 54,
   "metadata": {},
   "outputs": [],
   "source": [
    "bins = np.arange(-0.1, 20.1, 4.0)\n",
    "labels = np.arange(2.0, 19.0, 4.0)\n",
    "x_groups = temperature.groupby_bins('x', bins, labels=labels)"
   ]
  },
  {
   "cell_type": "markdown",
   "metadata": {},
   "source": [
    "As labels for the bins, the midpoint of the bin intervals is chosen.  The resulting groups show that each of the five groups contains 4 indices along the $x$-axis."
   ]
  },
  {
   "cell_type": "code",
   "execution_count": 55,
   "metadata": {},
   "outputs": [
    {
     "data": {
      "text/plain": [
       "{2.0: [0, 1, 2, 3],\n",
       " 6.0: [4, 5, 6, 7],\n",
       " 10.0: [8, 9, 10, 11],\n",
       " 14.0: [12, 13, 14, 15],\n",
       " 18.0: [16, 17, 18, 19]}"
      ]
     },
     "execution_count": 55,
     "metadata": {},
     "output_type": "execute_result"
    }
   ],
   "source": [
    "x_groups.groups"
   ]
  },
  {
   "cell_type": "markdown",
   "metadata": {},
   "source": [
    "For each of these groups, we can print the label, the group's shape, and the average over the group."
   ]
  },
  {
   "cell_type": "code",
   "execution_count": 56,
   "metadata": {},
   "outputs": [
    {
     "name": "stdout",
     "output_type": "stream",
     "text": [
      "2.0 (4, 20): 19.800104\n",
      "6.0 (4, 20): 20.344072\n",
      "10.0 (4, 20): 20.286514\n",
      "14.0 (4, 20): 19.748780\n",
      "18.0 (4, 20): 19.574434\n"
     ]
    }
   ],
   "source": [
    "for label, group in x_groups:\n",
    "    print(f'{label} {group.shape}: {float(group.mean()):.6f}')"
   ]
  },
  {
   "cell_type": "markdown",
   "metadata": {},
   "source": [
    "Using the `apply` method on a group-by object will perform the same computation, but combine the results back into a `DataArray` with the appropriate coordinates."
   ]
  },
  {
   "cell_type": "code",
   "execution_count": 57,
   "metadata": {},
   "outputs": [
    {
     "data": {
      "text/plain": [
       "<xarray.DataArray 'temperature' (x: 5)>\n",
       "array([19.800104, 20.344072, 20.286514, 19.74878 , 19.574434])\n",
       "Coordinates:\n",
       "  * x        (x) float64 2.0 6.0 10.0 14.0 18.0"
      ]
     },
     "execution_count": 57,
     "metadata": {},
     "output_type": "execute_result"
    }
   ],
   "source": [
    "x_groups.apply(np.mean).rename({'x_bins': 'x'})"
   ]
  },
  {
   "cell_type": "markdown",
   "metadata": {},
   "source": [
    "Although there seems to be no way to bin directly in two dimensions, this can easily be achieved by using `apply` at two levels."
   ]
  },
  {
   "cell_type": "code",
   "execution_count": 58,
   "metadata": {},
   "outputs": [
    {
     "data": {
      "text/plain": [
       "<xarray.DataArray 'temperature' (x: 5, y: 5)>\n",
       "array([[19.287563, 19.921181, 20.216775, 19.873953, 19.701047],\n",
       "       [20.49585 , 19.889189, 19.73145 , 20.290378, 21.313494],\n",
       "       [20.743631, 19.793176, 19.891341, 20.862485, 20.141935],\n",
       "       [19.968748, 19.845298, 19.728964, 19.998692, 19.202199],\n",
       "       [19.514421, 19.896958, 19.006124, 20.183802, 19.270863]])\n",
       "Coordinates:\n",
       "  * x        (x) float64 2.0 6.0 10.0 14.0 18.0\n",
       "  * y        (y) float64 2.0 6.0 10.0 14.0 18.0"
      ]
     },
     "execution_count": 58,
     "metadata": {},
     "output_type": "execute_result"
    }
   ],
   "source": [
    "coarse_temp = x_groups.apply(lambda x: x.groupby_bins('y', bins, labels=labels).apply(np.mean))\\\n",
    "                      .rename({'x_bins': 'x', 'y_bins': 'y'})\n",
    "coarse_temp"
   ]
  },
  {
   "cell_type": "markdown",
   "metadata": {},
   "source": [
    "To verify, compare the upper-left and lower-right elements of `coarse_temp` with the explicitely computed mean value of those subarrays."
   ]
  },
  {
   "cell_type": "code",
   "execution_count": 59,
   "metadata": {},
   "outputs": [
    {
     "data": {
      "text/plain": [
       "True"
      ]
     },
     "execution_count": 59,
     "metadata": {},
     "output_type": "execute_result"
    }
   ],
   "source": [
    "np.isclose(temperature[0:4, 0:4].mean(), coarse_temp[0, 0], rtol=1.0e-7)"
   ]
  },
  {
   "cell_type": "code",
   "execution_count": 60,
   "metadata": {},
   "outputs": [
    {
     "data": {
      "text/plain": [
       "True"
      ]
     },
     "execution_count": 60,
     "metadata": {},
     "output_type": "execute_result"
    }
   ],
   "source": [
    "np.isclose(temperature[-4:, -4:].mean(), coarse_temp[-1, -1], rtol=1.0e-7)"
   ]
  },
  {
   "cell_type": "markdown",
   "metadata": {},
   "source": [
    "We can visualize the coarsening process by plotting a heatmap of the original and the coarsened data."
   ]
  },
  {
   "cell_type": "code",
   "execution_count": 78,
   "metadata": {},
   "outputs": [
    {
     "data": {
      "image/png": "[encoded data removed]",
      "text/plain": [
       "<Figure size 720x360 with 3 Axes>"
      ]
     },
     "metadata": {
      "needs_background": "light"
     },
     "output_type": "display_data"
    }
   ],
   "source": [
    "vmin = float(temperature.min())\n",
    "vmax = float(temperature.max())\n",
    "figure, axes = plt.subplots(nrows=1, ncols=2, figsize=(10, 5))\n",
    "# plot of tempeature\n",
    "t_plot = axes[0].imshow(temperature, cmap='coolwarm', origin='lower',\n",
    "                        vmin=vmin, vmax=vmax)\n",
    "axes[0].set_xlabel('$x$')\n",
    "tick_pos = list(range(0, 20, 5))\n",
    "axes[0].set_xticks(tick_pos)\n",
    "axes[0].set_xticklabels(f'{float(x):.1f}' for x in temperature.coords['x'][tick_pos])\n",
    "axes[0].set_ylabel('$y$')\n",
    "axes[0].set_yticks(tick_pos)\n",
    "axes[0].set_yticklabels(f'{float(x):.1f}' for x in temperature.coords['y'][tick_pos])\n",
    "figure.colorbar(t_plot)\n",
    "# plot of coarse_temp\n",
    "c_plot = axes[1].imshow(coarse_temp, cmap='coolwarm', origin='lower',\n",
    "                        vmin=vmin, vmax=vmax)\n",
    "axes[1].set_xlabel('$x$')\n",
    "axes[1].set_xticks(range(len(coarse_temp.coords['x'])))\n",
    "axes[1].set_xticklabels(f'{float(x):.1f}' for x in coarse_temp.coords['x'])\n",
    "axes[1].set_ylabel('$y$')\n",
    "axes[1].set_yticks(range(len(coarse_temp.coords['y'])))\n",
    "axes[1].set_yticklabels(f'{float(x):.1f}' for x in coarse_temp.coords['y'])\n",
    "plt.tight_layout()"
   ]
  },
  {
   "cell_type": "markdown",
   "metadata": {},
   "source": [
    "## Time series"
   ]
  },
  {
   "cell_type": "markdown",
   "metadata": {},
   "source": [
    "Working with multi-dimensional time series data is straightforward with xarray.  A sequence of timestamps can be created using pandas. We will use this to index a 3D array, where the third dimension represents time."
   ]
  },
  {
   "cell_type": "code",
   "execution_count": 96,
   "metadata": {},
   "outputs": [],
   "source": [
    "x_coords = np.linspace(-2.0, 2.0, 5)\n",
    "y_coords = np.linspace(-3.0, 3.0, 7)\n",
    "timestamps = pd.date_range('2019-07-01', freq='6H', periods=10)\n",
    "data = xr.DataArray(np.empty((len(x_coords), len(y_coords), len(timestamps))),\n",
    "                    dims=('x', 'y', 't'), coords=(x_coords, y_coords, timestamps))"
   ]
  },
  {
   "cell_type": "markdown",
   "metadata": {},
   "source": [
    "We initialize the data, starting from random values at $t = 0$, and computing the data at $t + 1$ from the data at time $t$."
   ]
  },
  {
   "cell_type": "code",
   "execution_count": 97,
   "metadata": {},
   "outputs": [],
   "source": [
    "data[:, :, 0] = np.random.normal(loc=0.0, scale=1.0, size=(data.coords['x'].shape[0], data.coords['y'].shape[0]))\n",
    "for t in range(1, data.coords['t'].shape[0]):\n",
    "    data[:, :, t] = data[:, :, t - 1] + np.random.normal(loc=0.0, scale=0.1, size=data[:, :, 0].shape)"
   ]
  },
  {
   "cell_type": "markdown",
   "metadata": {},
   "source": [
    "For each timestamp, we can print the mean and standard deviation over the data."
   ]
  },
  {
   "cell_type": "code",
   "execution_count": 98,
   "metadata": {},
   "outputs": [
    {
     "name": "stdout",
     "output_type": "stream",
     "text": [
      "mean: -0.008, stddev: 0.103\n",
      "mean: -0.002, stddev: 0.102\n",
      "mean: +0.009, stddev: 0.098\n",
      "mean: +0.017, stddev: 0.094\n",
      "mean: -0.033, stddev: 0.096\n",
      "mean: -0.002, stddev: 0.087\n",
      "mean: +0.001, stddev: 0.089\n",
      "mean: -0.014, stddev: 0.101\n",
      "mean: -0.006, stddev: 0.120\n"
     ]
    }
   ],
   "source": [
    "for t in range(1, data.coords['t'].shape[0]):\n",
    "    diff = data.isel(t=t) - data.isel(t=t - 1)\n",
    "    print(f'mean: {float(diff.mean()):+0.3f}, stddev: {float(diff.std()):0.3f}')"
   ]
  },
  {
   "cell_type": "code",
   "execution_count": 99,
   "metadata": {},
   "outputs": [],
   "source": [
    "mean_data = data.mean(dim=('x', 'y'))\n",
    "mean_data.name = 'mean values'"
   ]
  },
  {
   "cell_type": "code",
   "execution_count": 100,
   "metadata": {},
   "outputs": [
    {
     "data": {
      "image/png": "[encoded data removed]",
      "text/plain": [
       "<Figure size 432x288 with 1 Axes>"
      ]
     },
     "metadata": {
      "needs_background": "light"
     },
     "output_type": "display_data"
    }
   ],
   "source": [
    "_ = mean_data.plot()"
   ]
  },
  {
   "cell_type": "markdown",
   "metadata": {},
   "source": [
    "Note that the plot's $x$-axis is labeled appropriately, i.e, with the date and time only."
   ]
  },
  {
   "cell_type": "markdown",
   "metadata": {},
   "source": [
    "The data can be indexed by a string representing a timestamp."
   ]
  },
  {
   "cell_type": "code",
   "execution_count": 101,
   "metadata": {},
   "outputs": [
    {
     "data": {
      "text/plain": [
       "<xarray.DataArray (x: 5, y: 7)>\n",
       "array([[ 0.376671, -0.231369,  0.026019, -0.730304,  2.180189, -0.601698,\n",
       "         0.450191],\n",
       "       [-1.692295, -1.728879, -0.171297,  0.929439,  0.874661,  1.785829,\n",
       "         1.041107],\n",
       "       [-1.154959, -0.976216,  0.697509,  1.993182, -0.212691, -0.743501,\n",
       "         0.606439],\n",
       "       [-0.070048,  0.985295,  1.490777,  0.85369 , -1.349606,  1.371751,\n",
       "        -1.048132],\n",
       "       [-0.287163,  1.782198, -0.016953, -1.231161,  0.092527,  0.809984,\n",
       "        -0.836082]])\n",
       "Coordinates:\n",
       "  * x        (x) float64 -2.0 -1.0 0.0 1.0 2.0\n",
       "  * y        (y) float64 -3.0 -2.0 -1.0 0.0 1.0 2.0 3.0\n",
       "    t        datetime64[ns] 2019-07-02T06:00:00"
      ]
     },
     "execution_count": 101,
     "metadata": {},
     "output_type": "execute_result"
    }
   ],
   "source": [
    "data.sel(t='2019-07-02 06:00:00')"
   ]
  },
  {
   "cell_type": "markdown",
   "metadata": {},
   "source": [
    "When indexing with a data, all data for that date is returned."
   ]
  },
  {
   "cell_type": "code",
   "execution_count": 102,
   "metadata": {},
   "outputs": [
    {
     "data": {
      "text/plain": [
       "<xarray.DataArray 't' (t: 4)>\n",
       "array(['2019-07-02T00:00:00.000000000', '2019-07-02T06:00:00.000000000',\n",
       "       '2019-07-02T12:00:00.000000000', '2019-07-02T18:00:00.000000000'],\n",
       "      dtype='datetime64[ns]')\n",
       "Coordinates:\n",
       "  * t        (t) datetime64[ns] 2019-07-02 ... 2019-07-02T18:00:00"
      ]
     },
     "execution_count": 102,
     "metadata": {},
     "output_type": "execute_result"
    }
   ],
   "source": [
    "data.sel(t='2019-07-02').coords['t']"
   ]
  },
  {
   "cell_type": "markdown",
   "metadata": {},
   "source": [
    "The data can also be sliced along the time coordinate."
   ]
  },
  {
   "cell_type": "code",
   "execution_count": 103,
   "metadata": {},
   "outputs": [
    {
     "data": {
      "text/plain": [
       "<xarray.DataArray 't' (t: 3)>\n",
       "array(['2019-07-02T06:00:00.000000000', '2019-07-02T12:00:00.000000000',\n",
       "       '2019-07-02T18:00:00.000000000'], dtype='datetime64[ns]')\n",
       "Coordinates:\n",
       "  * t        (t) datetime64[ns] 2019-07-02T06:00:00 ... 2019-07-02T18:00:00"
      ]
     },
     "execution_count": 103,
     "metadata": {},
     "output_type": "execute_result"
    }
   ],
   "source": [
    "data.sel(t=slice('2019-07-02 02:00:00', '2019-07-02 20:00:00')).coords['t']"
   ]
  },
  {
   "cell_type": "markdown",
   "metadata": {},
   "source": [
    "Plotting the values at some point in time is now easy."
   ]
  },
  {
   "cell_type": "code",
   "execution_count": 105,
   "metadata": {},
   "outputs": [
    {
     "data": {
      "image/png": "[encoded data removed]",
      "text/plain": [
       "<Figure size 432x288 with 2 Axes>"
      ]
     },
     "metadata": {
      "needs_background": "light"
     },
     "output_type": "display_data"
    }
   ],
   "source": [
    "_ = data.sel(t='2019-07-02 06:00:00').plot()"
   ]
  }
 ],
 "metadata": {
  "kernelspec": {
   "display_name": "Python 3",
   "language": "python",
   "name": "python3"
  },
  "language_info": {
   "codemirror_mode": {
    "name": "ipython",
    "version": 3
   },
   "file_extension": ".py",
   "mimetype": "text/x-python",
   "name": "python",
   "nbconvert_exporter": "python",
   "pygments_lexer": "ipython3",
   "version": "3.7.3"
  },
  "toc-autonumbering": false,
  "toc-showcode": false,
  "toc-showmarkdowntxt": false
 },
 "nbformat": 4,
 "nbformat_minor": 2
}
