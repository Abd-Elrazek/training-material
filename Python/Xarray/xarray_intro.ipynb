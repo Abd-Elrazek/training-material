{
 "cells": [
  {
   "cell_type": "markdown",
   "metadata": {
    "toc-hr-collapsed": false
   },
   "source": [
    "# xarray package"
   ]
  },
  {
   "cell_type": "markdown",
   "metadata": {},
   "source": [
    "xarray is a crossbreed between numpy and pandas. It allows to annotate pure numerical (numpy-like) data with indices, attributes and so on."
   ]
  },
  {
   "cell_type": "markdown",
   "metadata": {},
   "source": [
    "## Required imports"
   ]
  },
  {
   "cell_type": "code",
   "execution_count": 1,
   "metadata": {
    "ExecuteTime": {
     "end_time": "2019-07-03T04:57:31.798225Z",
     "start_time": "2019-07-03T04:57:31.776706Z"
    }
   },
   "outputs": [],
   "source": [
    "import matplotlib.pyplot as plt\n",
    "%matplotlib inline\n",
    "import numpy as np\n",
    "import sys\n",
    "import xarray as xr"
   ]
  },
  {
   "cell_type": "markdown",
   "metadata": {},
   "source": [
    "## Running example"
   ]
  },
  {
   "cell_type": "markdown",
   "metadata": {},
   "source": [
    "Create a 2D array of floating point values that represent temperatures of a plane. The dimensions are named `x` and `y`, and the coordinates for those dimensions are provided."
   ]
  },
  {
   "cell_type": "code",
   "execution_count": 2,
   "metadata": {
    "ExecuteTime": {
     "end_time": "2019-07-03T04:48:30.222457Z",
     "start_time": "2019-07-03T04:48:29.895908Z"
    },
    "scrolled": true
   },
   "outputs": [
    {
     "data": {
      "text/plain": [
       "<xarray.DataArray (x: 11, y: 11)>\n",
       "array([[18.792262, 18.475814, 18.847153, 22.700176, 22.629345, 20.105201,\n",
       "        22.837762, 23.094856, 19.494165, 21.20463 , 19.491541],\n",
       "       [22.812224, 22.348408, 20.545902, 18.331332, 19.068571, 16.63834 ,\n",
       "        21.324006, 20.763642, 22.265528, 15.30945 , 18.497867],\n",
       "       [20.344117, 21.544479, 15.930603, 21.326156, 20.897703, 25.328756,\n",
       "        22.093786, 22.142979, 27.100638, 18.633375, 20.121511],\n",
       "       [17.662456, 17.001694, 19.326466, 23.924876, 21.087048, 20.868243,\n",
       "        17.521849, 23.413709, 20.020464, 22.766298, 21.577866],\n",
       "       [21.399159, 18.466653, 22.246517, 21.166739, 21.547909, 22.040228,\n",
       "        19.570025, 24.028987, 22.193278, 24.080152, 21.659935],\n",
       "       [18.6003  , 19.707617, 23.745472, 20.748216, 24.517366, 20.335334,\n",
       "        22.691871, 19.256028, 21.965035, 22.792438, 19.107252],\n",
       "       [21.068939, 20.524323, 21.184397, 24.794219, 20.843159, 20.275291,\n",
       "        21.637533, 22.954467, 23.824711, 20.842728, 21.455381],\n",
       "       [22.121468, 21.546066, 23.983868, 21.399555, 22.444189, 24.950477,\n",
       "        22.094136, 23.003786, 19.325717, 20.593921, 24.127496],\n",
       "       [18.197031, 17.242902, 20.341671, 22.278498, 23.736539, 17.147542,\n",
       "        19.265875, 22.079739, 20.06297 , 21.505693, 17.779021],\n",
       "       [20.545767, 20.59387 , 20.153972, 20.053791, 22.134226, 21.311828,\n",
       "        22.833569, 25.438193, 23.494981, 22.891774, 20.958512],\n",
       "       [22.675269, 19.021859, 20.718388, 21.940143, 19.418995, 23.860301,\n",
       "        22.294396, 21.179945, 22.81593 , 20.288005, 21.133816]])\n",
       "Coordinates:\n",
       "  * x        (x) float64 0.0 0.1 0.2 0.3 0.4 0.5 0.6 0.7 0.8 0.9 1.0\n",
       "  * y        (y) float64 0.0 0.1 0.2 0.3 0.4 0.5 0.6 0.7 0.8 0.9 1.0"
      ]
     },
     "execution_count": 2,
     "metadata": {},
     "output_type": "execute_result"
    }
   ],
   "source": [
    "grid_size = 11\n",
    "temperature = xr.DataArray(np.random.normal(loc=21.0, scale=2.0, size=(grid_size, grid_size)),\n",
    "                           dims=('x', 'y'), coords={'x': np.linspace(0.0, 1.0, grid_size),\n",
    "                                                    'y': np.linspace(0.0, 1.0, grid_size)})\n",
    "temperature"
   ]
  },
  {
   "cell_type": "markdown",
   "metadata": {},
   "source": [
    "## Accessing data"
   ]
  },
  {
   "cell_type": "markdown",
   "metadata": {},
   "source": [
    "The elements can be accessed as you would do for a numpy array as well."
   ]
  },
  {
   "cell_type": "code",
   "execution_count": 3,
   "metadata": {
    "ExecuteTime": {
     "end_time": "2019-07-03T05:01:08.509437Z",
     "start_time": "2019-07-03T05:01:08.480251Z"
    }
   },
   "outputs": [
    {
     "data": {
      "text/plain": [
       "<xarray.DataArray ()>\n",
       "array(20.545902)\n",
       "Coordinates:\n",
       "    x        float64 0.1\n",
       "    y        float64 0.2"
      ]
     },
     "execution_count": 3,
     "metadata": {},
     "output_type": "execute_result"
    }
   ],
   "source": [
    "temperature[1, 2]"
   ]
  },
  {
   "cell_type": "markdown",
   "metadata": {},
   "source": [
    "Note however that the result is a new xarray, althought it contains only a single element.  An advantage of this is that the coordinates are part of the result."
   ]
  },
  {
   "cell_type": "markdown",
   "metadata": {},
   "source": [
    "The values of the xarray `temperature` can now be accessed by index, i.e., the value of the coordinates, e.g., the temperature at $x = 0.1$ and $y = 0.2$ is given by:"
   ]
  },
  {
   "cell_type": "code",
   "execution_count": 4,
   "metadata": {
    "ExecuteTime": {
     "end_time": "2019-07-02T14:46:35.996918Z",
     "start_time": "2019-07-02T14:46:35.966369Z"
    }
   },
   "outputs": [
    {
     "data": {
      "text/plain": [
       "<xarray.DataArray ()>\n",
       "array(20.545902)\n",
       "Coordinates:\n",
       "    x        float64 0.1\n",
       "    y        float64 0.2"
      ]
     },
     "execution_count": 4,
     "metadata": {},
     "output_type": "execute_result"
    }
   ],
   "source": [
    "temperature.sel(x=0.1, y=0.2)"
   ]
  },
  {
   "cell_type": "markdown",
   "metadata": {},
   "source": [
    "Note that using `float` coordinates may lead to unexpected results due to round off errors."
   ]
  },
  {
   "cell_type": "code",
   "execution_count": 5,
   "metadata": {
    "ExecuteTime": {
     "end_time": "2019-07-03T04:59:13.433341Z",
     "start_time": "2019-07-03T04:59:13.409876Z"
    }
   },
   "outputs": [
    {
     "name": "stderr",
     "output_type": "stream",
     "text": [
      "KeyError for 0.200000000001\n"
     ]
    }
   ],
   "source": [
    "try:\n",
    "    temperature.sel(x=0.1, y=0.200000000001)\n",
    "except KeyError as e:\n",
    "    print(f'KeyError for {e}', file=sys.stderr)"
   ]
  },
  {
   "cell_type": "markdown",
   "metadata": {},
   "source": [
    "It is straightforward to interpolate, as we'll discuss in a [later section](#Interpolation)."
   ]
  },
  {
   "cell_type": "markdown",
   "metadata": {},
   "source": [
    "xarrays can be indexed by slicing as well.  Note that you need to use the `slice` function."
   ]
  },
  {
   "cell_type": "code",
   "execution_count": 6,
   "metadata": {
    "ExecuteTime": {
     "end_time": "2019-07-03T07:08:20.915039Z",
     "start_time": "2019-07-03T07:08:20.841836Z"
    }
   },
   "outputs": [
    {
     "data": {
      "text/plain": [
       "<xarray.DataArray (x: 7, y: 2)>\n",
       "array([[21.544479, 15.930603],\n",
       "       [17.001694, 19.326466],\n",
       "       [18.466653, 22.246517],\n",
       "       [19.707617, 23.745472],\n",
       "       [20.524323, 21.184397],\n",
       "       [21.546066, 23.983868],\n",
       "       [17.242902, 20.341671]])\n",
       "Coordinates:\n",
       "  * x        (x) float64 0.2 0.3 0.4 0.5 0.6 0.7 0.8\n",
       "  * y        (y) float64 0.1 0.2"
      ]
     },
     "execution_count": 6,
     "metadata": {},
     "output_type": "execute_result"
    }
   ],
   "source": [
    "temperature.sel(x=slice(0.2, 0.8), y=slice(0.1, 0.3))"
   ]
  },
  {
   "cell_type": "markdown",
   "metadata": {},
   "source": [
    "It is also possible to select values from an xarray using integer location indices on specific dimensions without worrying about the layout of the array."
   ]
  },
  {
   "cell_type": "code",
   "execution_count": 7,
   "metadata": {
    "ExecuteTime": {
     "end_time": "2019-07-03T05:00:57.912906Z",
     "start_time": "2019-07-03T05:00:57.892762Z"
    }
   },
   "outputs": [
    {
     "data": {
      "text/plain": [
       "<xarray.DataArray ()>\n",
       "array(20.545902)\n",
       "Coordinates:\n",
       "    x        float64 0.1\n",
       "    y        float64 0.2"
      ]
     },
     "execution_count": 7,
     "metadata": {},
     "output_type": "execute_result"
    }
   ],
   "source": [
    "temperature.isel(x=1, y=2)"
   ]
  },
  {
   "cell_type": "markdown",
   "metadata": {},
   "source": [
    "A scalar value can be obtained using the `float` constructor."
   ]
  },
  {
   "cell_type": "code",
   "execution_count": 8,
   "metadata": {
    "ExecuteTime": {
     "end_time": "2019-07-02T14:47:41.855378Z",
     "start_time": "2019-07-02T14:47:41.842593Z"
    },
    "scrolled": true
   },
   "outputs": [
    {
     "data": {
      "text/plain": [
       "20.545901711912116"
      ]
     },
     "execution_count": 8,
     "metadata": {},
     "output_type": "execute_result"
    }
   ],
   "source": [
    "float(temperature.isel(x=1, y=2))"
   ]
  },
  {
   "cell_type": "markdown",
   "metadata": {
    "ExecuteTime": {
     "end_time": "2019-07-03T07:21:03.186815Z",
     "start_time": "2019-07-03T07:21:03.145478Z"
    }
   },
   "source": [
    "As in pandas, direct access to the underlying numpy array is available as well."
   ]
  },
  {
   "cell_type": "code",
   "execution_count": 9,
   "metadata": {
    "ExecuteTime": {
     "end_time": "2019-07-03T08:57:01.034727Z",
     "start_time": "2019-07-03T08:57:01.021467Z"
    }
   },
   "outputs": [
    {
     "name": "stdout",
     "output_type": "stream",
     "text": [
      "<class 'numpy.ndarray'> float64 (11, 11)\n"
     ]
    }
   ],
   "source": [
    "print(type(temperature.values), temperature.values.dtype, temperature.values.shape)"
   ]
  },
  {
   "cell_type": "markdown",
   "metadata": {},
   "source": []
  },
  {
   "cell_type": "markdown",
   "metadata": {},
   "source": [
    "## Metadata"
   ]
  },
  {
   "cell_type": "markdown",
   "metadata": {},
   "source": [
    "Like a numpy array, the data type and shape of an xarray can be easily obtained."
   ]
  },
  {
   "cell_type": "code",
   "execution_count": 10,
   "metadata": {
    "ExecuteTime": {
     "end_time": "2019-07-03T08:59:03.230436Z",
     "start_time": "2019-07-03T08:59:03.220621Z"
    }
   },
   "outputs": [
    {
     "name": "stdout",
     "output_type": "stream",
     "text": [
      "float64 (11, 11)\n"
     ]
    }
   ],
   "source": [
    "print(temperature.dtype, temperature.shape)"
   ]
  },
  {
   "cell_type": "markdown",
   "metadata": {},
   "source": [
    "The dimensions can be retrieved."
   ]
  },
  {
   "cell_type": "code",
   "execution_count": 11,
   "metadata": {
    "ExecuteTime": {
     "end_time": "2019-07-03T07:37:15.883407Z",
     "start_time": "2019-07-03T07:37:15.866205Z"
    }
   },
   "outputs": [
    {
     "data": {
      "text/plain": [
       "('x', 'y')"
      ]
     },
     "execution_count": 11,
     "metadata": {},
     "output_type": "execute_result"
    }
   ],
   "source": [
    "temperature.dims"
   ]
  },
  {
   "cell_type": "markdown",
   "metadata": {},
   "source": [
    "The coordinates associated with an xarray can be retrieved as well."
   ]
  },
  {
   "cell_type": "code",
   "execution_count": 12,
   "metadata": {
    "ExecuteTime": {
     "end_time": "2019-07-02T14:50:47.268531Z",
     "start_time": "2019-07-02T14:50:47.235440Z"
    }
   },
   "outputs": [
    {
     "data": {
      "text/plain": [
       "<xarray.DataArray 'x' (x: 11)>\n",
       "array([0. , 0.1, 0.2, 0.3, 0.4, 0.5, 0.6, 0.7, 0.8, 0.9, 1. ])\n",
       "Coordinates:\n",
       "  * x        (x) float64 0.0 0.1 0.2 0.3 0.4 0.5 0.6 0.7 0.8 0.9 1.0"
      ]
     },
     "execution_count": 12,
     "metadata": {},
     "output_type": "execute_result"
    }
   ],
   "source": [
    "temperature.coords['x']"
   ]
  },
  {
   "cell_type": "markdown",
   "metadata": {},
   "source": [
    "This can be quite convenient to reuse the same coordinates in a new xarray."
   ]
  },
  {
   "cell_type": "code",
   "execution_count": 13,
   "metadata": {
    "ExecuteTime": {
     "end_time": "2019-07-03T08:49:44.720587Z",
     "start_time": "2019-07-03T08:49:44.684016Z"
    }
   },
   "outputs": [
    {
     "data": {
      "text/plain": [
       "<xarray.DataArray (x: 11, y: 11)>\n",
       "array([[113550.585449, 109803.487105, 109227.966201, 110603.905241,\n",
       "        113716.012088, 111897.309614, 116154.508274, 115328.977676,\n",
       "        112833.340959, 108524.689808, 109548.39921 ],\n",
       "       [111313.468292, 104064.856493, 111028.750908, 114736.433469,\n",
       "        107629.510611, 109180.454334, 110354.810857, 109921.897513,\n",
       "        111346.657158, 109468.814978, 108889.547549],\n",
       "       [114661.891311, 109754.115085, 111745.722848, 107939.621376,\n",
       "        112631.913495, 109049.977542, 102843.241276, 111181.495738,\n",
       "        115527.721921, 110955.899014, 105038.52375 ],\n",
       "       [110211.684115, 107372.556981, 112638.020978, 108807.277767,\n",
       "        110860.703274, 107911.83595 , 112062.207764, 112535.074535,\n",
       "        107696.262715, 109701.633753, 112772.882508],\n",
       "       [102597.462388, 113265.282426, 110781.383037, 105790.85365 ,\n",
       "        107991.575598, 111031.263472, 112803.288395, 104217.796565,\n",
       "        112722.59794 , 114569.840425, 111615.598364],\n",
       "       [106175.387981, 105155.131078, 110771.320775, 112158.951419,\n",
       "        112302.153777, 107159.375902, 108895.72528 , 106462.78193 ,\n",
       "        109893.53606 , 112202.115198, 110055.019952],\n",
       "       [114883.047228, 104105.554189, 112428.630997, 115283.767242,\n",
       "        109649.196375, 110280.97064 , 108307.294655, 111871.699333,\n",
       "        109504.084763, 108420.846398, 113213.779515],\n",
       "       [111075.262517, 109456.118498, 111988.621543, 105437.688092,\n",
       "        105807.666259, 109156.675697, 109985.899859, 109631.502305,\n",
       "        112371.444524, 110333.954845, 112626.785584],\n",
       "       [114315.022013, 109529.8222  , 109148.232961, 117617.860445,\n",
       "        106059.583295, 112540.182535, 105448.961085, 108170.385147,\n",
       "        111886.855322, 109405.326464, 112535.24443 ],\n",
       "       [107591.716359, 112296.289727, 110615.041259, 111861.81928 ,\n",
       "        107384.997963, 113100.297582, 109085.820049, 118484.841099,\n",
       "        106000.671134, 112256.71652 , 108520.134021],\n",
       "       [106197.556993, 112185.291689, 114960.7395  , 111773.395328,\n",
       "        111876.123606, 105315.760893, 110103.480227, 109907.309479,\n",
       "        104587.892043, 111146.881927, 111223.598621]])\n",
       "Coordinates:\n",
       "  * x        (x) float64 0.0 0.1 0.2 0.3 0.4 0.5 0.6 0.7 0.8 0.9 1.0\n",
       "  * y        (y) float64 0.0 0.1 0.2 0.3 0.4 0.5 0.6 0.7 0.8 0.9 1.0"
      ]
     },
     "execution_count": 13,
     "metadata": {},
     "output_type": "execute_result"
    }
   ],
   "source": [
    "pressure = xr.DataArray(np.random.normal(loc=1.1e5, scale=3e3, size=temperature.shape),\n",
    "                        dims=temperature.dims, coords=temperature.coords)\n",
    "pressure"
   ]
  },
  {
   "cell_type": "markdown",
   "metadata": {},
   "source": [
    "Arbitrary attributes can be added to an xarray to store additional metadata."
   ]
  },
  {
   "cell_type": "code",
   "execution_count": 14,
   "metadata": {
    "ExecuteTime": {
     "end_time": "2019-07-03T08:49:48.540207Z",
     "start_time": "2019-07-03T08:49:48.518321Z"
    }
   },
   "outputs": [
    {
     "data": {
      "text/plain": [
       "<xarray.DataArray (x: 11, y: 11)>\n",
       "array([[113550.585449, 109803.487105, 109227.966201, 110603.905241,\n",
       "        113716.012088, 111897.309614, 116154.508274, 115328.977676,\n",
       "        112833.340959, 108524.689808, 109548.39921 ],\n",
       "       [111313.468292, 104064.856493, 111028.750908, 114736.433469,\n",
       "        107629.510611, 109180.454334, 110354.810857, 109921.897513,\n",
       "        111346.657158, 109468.814978, 108889.547549],\n",
       "       [114661.891311, 109754.115085, 111745.722848, 107939.621376,\n",
       "        112631.913495, 109049.977542, 102843.241276, 111181.495738,\n",
       "        115527.721921, 110955.899014, 105038.52375 ],\n",
       "       [110211.684115, 107372.556981, 112638.020978, 108807.277767,\n",
       "        110860.703274, 107911.83595 , 112062.207764, 112535.074535,\n",
       "        107696.262715, 109701.633753, 112772.882508],\n",
       "       [102597.462388, 113265.282426, 110781.383037, 105790.85365 ,\n",
       "        107991.575598, 111031.263472, 112803.288395, 104217.796565,\n",
       "        112722.59794 , 114569.840425, 111615.598364],\n",
       "       [106175.387981, 105155.131078, 110771.320775, 112158.951419,\n",
       "        112302.153777, 107159.375902, 108895.72528 , 106462.78193 ,\n",
       "        109893.53606 , 112202.115198, 110055.019952],\n",
       "       [114883.047228, 104105.554189, 112428.630997, 115283.767242,\n",
       "        109649.196375, 110280.97064 , 108307.294655, 111871.699333,\n",
       "        109504.084763, 108420.846398, 113213.779515],\n",
       "       [111075.262517, 109456.118498, 111988.621543, 105437.688092,\n",
       "        105807.666259, 109156.675697, 109985.899859, 109631.502305,\n",
       "        112371.444524, 110333.954845, 112626.785584],\n",
       "       [114315.022013, 109529.8222  , 109148.232961, 117617.860445,\n",
       "        106059.583295, 112540.182535, 105448.961085, 108170.385147,\n",
       "        111886.855322, 109405.326464, 112535.24443 ],\n",
       "       [107591.716359, 112296.289727, 110615.041259, 111861.81928 ,\n",
       "        107384.997963, 113100.297582, 109085.820049, 118484.841099,\n",
       "        106000.671134, 112256.71652 , 108520.134021],\n",
       "       [106197.556993, 112185.291689, 114960.7395  , 111773.395328,\n",
       "        111876.123606, 105315.760893, 110103.480227, 109907.309479,\n",
       "        104587.892043, 111146.881927, 111223.598621]])\n",
       "Coordinates:\n",
       "  * x        (x) float64 0.0 0.1 0.2 0.3 0.4 0.5 0.6 0.7 0.8 0.9 1.0\n",
       "  * y        (y) float64 0.0 0.1 0.2 0.3 0.4 0.5 0.6 0.7 0.8 0.9 1.0\n",
       "Attributes:\n",
       "    units:    P\n",
       "    source:   random data"
      ]
     },
     "execution_count": 14,
     "metadata": {},
     "output_type": "execute_result"
    }
   ],
   "source": [
    "pressure.attrs['units'] = 'P'\n",
    "pressure.attrs['source'] = 'random data'\n",
    "pressure"
   ]
  },
  {
   "cell_type": "markdown",
   "metadata": {},
   "source": [
    "## File I/O"
   ]
  },
  {
   "cell_type": "markdown",
   "metadata": {},
   "source": [
    "xarrays can be stored in NetCDF format, which can be used with many scientific and visualization software packages."
   ]
  },
  {
   "cell_type": "code",
   "execution_count": 15,
   "metadata": {
    "ExecuteTime": {
     "end_time": "2019-07-03T08:49:51.697985Z",
     "start_time": "2019-07-03T08:49:51.680769Z"
    }
   },
   "outputs": [],
   "source": [
    "pressure.to_netcdf('pressure.nc')"
   ]
  },
  {
   "cell_type": "code",
   "execution_count": 16,
   "metadata": {
    "ExecuteTime": {
     "end_time": "2019-07-03T08:52:16.632476Z",
     "start_time": "2019-07-03T08:52:16.482831Z"
    }
   },
   "outputs": [
    {
     "name": "stdout",
     "output_type": "stream",
     "text": [
      "pressure.nc  README.md\txarray_intro.ipynb\n"
     ]
    }
   ],
   "source": [
    "!ls"
   ]
  },
  {
   "cell_type": "markdown",
   "metadata": {},
   "source": [
    "To demonstrate that this is lossless, we remove the original xarray, and reinstantiate it from the NetCDF file that was saved to disk."
   ]
  },
  {
   "cell_type": "code",
   "execution_count": 17,
   "metadata": {
    "ExecuteTime": {
     "end_time": "2019-07-03T08:49:55.748236Z",
     "start_time": "2019-07-03T08:49:55.734300Z"
    }
   },
   "outputs": [],
   "source": [
    "del pressure"
   ]
  },
  {
   "cell_type": "code",
   "execution_count": 18,
   "metadata": {
    "ExecuteTime": {
     "end_time": "2019-07-03T08:50:20.413543Z",
     "start_time": "2019-07-03T08:50:20.356292Z"
    }
   },
   "outputs": [
    {
     "data": {
      "text/plain": [
       "<xarray.DataArray (x: 11, y: 11)>\n",
       "array([[113550.585449, 109803.487105, 109227.966201, 110603.905241,\n",
       "        113716.012088, 111897.309614, 116154.508274, 115328.977676,\n",
       "        112833.340959, 108524.689808, 109548.39921 ],\n",
       "       [111313.468292, 104064.856493, 111028.750908, 114736.433469,\n",
       "        107629.510611, 109180.454334, 110354.810857, 109921.897513,\n",
       "        111346.657158, 109468.814978, 108889.547549],\n",
       "       [114661.891311, 109754.115085, 111745.722848, 107939.621376,\n",
       "        112631.913495, 109049.977542, 102843.241276, 111181.495738,\n",
       "        115527.721921, 110955.899014, 105038.52375 ],\n",
       "       [110211.684115, 107372.556981, 112638.020978, 108807.277767,\n",
       "        110860.703274, 107911.83595 , 112062.207764, 112535.074535,\n",
       "        107696.262715, 109701.633753, 112772.882508],\n",
       "       [102597.462388, 113265.282426, 110781.383037, 105790.85365 ,\n",
       "        107991.575598, 111031.263472, 112803.288395, 104217.796565,\n",
       "        112722.59794 , 114569.840425, 111615.598364],\n",
       "       [106175.387981, 105155.131078, 110771.320775, 112158.951419,\n",
       "        112302.153777, 107159.375902, 108895.72528 , 106462.78193 ,\n",
       "        109893.53606 , 112202.115198, 110055.019952],\n",
       "       [114883.047228, 104105.554189, 112428.630997, 115283.767242,\n",
       "        109649.196375, 110280.97064 , 108307.294655, 111871.699333,\n",
       "        109504.084763, 108420.846398, 113213.779515],\n",
       "       [111075.262517, 109456.118498, 111988.621543, 105437.688092,\n",
       "        105807.666259, 109156.675697, 109985.899859, 109631.502305,\n",
       "        112371.444524, 110333.954845, 112626.785584],\n",
       "       [114315.022013, 109529.8222  , 109148.232961, 117617.860445,\n",
       "        106059.583295, 112540.182535, 105448.961085, 108170.385147,\n",
       "        111886.855322, 109405.326464, 112535.24443 ],\n",
       "       [107591.716359, 112296.289727, 110615.041259, 111861.81928 ,\n",
       "        107384.997963, 113100.297582, 109085.820049, 118484.841099,\n",
       "        106000.671134, 112256.71652 , 108520.134021],\n",
       "       [106197.556993, 112185.291689, 114960.7395  , 111773.395328,\n",
       "        111876.123606, 105315.760893, 110103.480227, 109907.309479,\n",
       "        104587.892043, 111146.881927, 111223.598621]])\n",
       "Coordinates:\n",
       "  * x        (x) float64 0.0 0.1 0.2 0.3 0.4 0.5 0.6 0.7 0.8 0.9 1.0\n",
       "  * y        (y) float64 0.0 0.1 0.2 0.3 0.4 0.5 0.6 0.7 0.8 0.9 1.0\n",
       "Attributes:\n",
       "    units:    P\n",
       "    source:   random data"
      ]
     },
     "execution_count": 18,
     "metadata": {},
     "output_type": "execute_result"
    }
   ],
   "source": [
    "pressure = xr.open_dataarray('pressure.nc')\n",
    "pressure"
   ]
  },
  {
   "cell_type": "markdown",
   "metadata": {},
   "source": [
    "All metadata, including coordinates and attributes has been preserved."
   ]
  },
  {
   "cell_type": "markdown",
   "metadata": {},
   "source": [
    "## Numerical computations"
   ]
  },
  {
   "cell_type": "markdown",
   "metadata": {},
   "source": [
    "Numerical operations are broadcasted along the dimensions, so to initialize a 2D array of complex numbers, we can simply initialize the real values as an xarray with dimension `re`, the imaginary values as an xarray with dimension `im`, and add the two 1D arrays to obtain a complex-valued 2D array."
   ]
  },
  {
   "cell_type": "code",
   "execution_count": 19,
   "metadata": {
    "ExecuteTime": {
     "end_time": "2019-07-03T05:10:07.869657Z",
     "start_time": "2019-07-03T05:10:07.847281Z"
    }
   },
   "outputs": [],
   "source": [
    "real_vals = xr.DataArray(np.linspace(0.0, 1.0, 11), dims='re')\n",
    "im_vals = xr.DataArray(np.linspace(0.0j, 1.0j, 11), dims='im')"
   ]
  },
  {
   "cell_type": "code",
   "execution_count": 20,
   "metadata": {
    "ExecuteTime": {
     "end_time": "2019-07-03T05:10:33.039569Z",
     "start_time": "2019-07-03T05:10:32.986204Z"
    }
   },
   "outputs": [
    {
     "data": {
      "text/plain": [
       "<xarray.DataArray (re: 11, im: 11)>\n",
       "array([[0. +0.j , 0. +0.1j, 0. +0.2j, 0. +0.3j, 0. +0.4j, 0. +0.5j, 0. +0.6j,\n",
       "        0. +0.7j, 0. +0.8j, 0. +0.9j, 0. +1.j ],\n",
       "       [0.1+0.j , 0.1+0.1j, 0.1+0.2j, 0.1+0.3j, 0.1+0.4j, 0.1+0.5j, 0.1+0.6j,\n",
       "        0.1+0.7j, 0.1+0.8j, 0.1+0.9j, 0.1+1.j ],\n",
       "       [0.2+0.j , 0.2+0.1j, 0.2+0.2j, 0.2+0.3j, 0.2+0.4j, 0.2+0.5j, 0.2+0.6j,\n",
       "        0.2+0.7j, 0.2+0.8j, 0.2+0.9j, 0.2+1.j ],\n",
       "       [0.3+0.j , 0.3+0.1j, 0.3+0.2j, 0.3+0.3j, 0.3+0.4j, 0.3+0.5j, 0.3+0.6j,\n",
       "        0.3+0.7j, 0.3+0.8j, 0.3+0.9j, 0.3+1.j ],\n",
       "       [0.4+0.j , 0.4+0.1j, 0.4+0.2j, 0.4+0.3j, 0.4+0.4j, 0.4+0.5j, 0.4+0.6j,\n",
       "        0.4+0.7j, 0.4+0.8j, 0.4+0.9j, 0.4+1.j ],\n",
       "       [0.5+0.j , 0.5+0.1j, 0.5+0.2j, 0.5+0.3j, 0.5+0.4j, 0.5+0.5j, 0.5+0.6j,\n",
       "        0.5+0.7j, 0.5+0.8j, 0.5+0.9j, 0.5+1.j ],\n",
       "       [0.6+0.j , 0.6+0.1j, 0.6+0.2j, 0.6+0.3j, 0.6+0.4j, 0.6+0.5j, 0.6+0.6j,\n",
       "        0.6+0.7j, 0.6+0.8j, 0.6+0.9j, 0.6+1.j ],\n",
       "       [0.7+0.j , 0.7+0.1j, 0.7+0.2j, 0.7+0.3j, 0.7+0.4j, 0.7+0.5j, 0.7+0.6j,\n",
       "        0.7+0.7j, 0.7+0.8j, 0.7+0.9j, 0.7+1.j ],\n",
       "       [0.8+0.j , 0.8+0.1j, 0.8+0.2j, 0.8+0.3j, 0.8+0.4j, 0.8+0.5j, 0.8+0.6j,\n",
       "        0.8+0.7j, 0.8+0.8j, 0.8+0.9j, 0.8+1.j ],\n",
       "       [0.9+0.j , 0.9+0.1j, 0.9+0.2j, 0.9+0.3j, 0.9+0.4j, 0.9+0.5j, 0.9+0.6j,\n",
       "        0.9+0.7j, 0.9+0.8j, 0.9+0.9j, 0.9+1.j ],\n",
       "       [1. +0.j , 1. +0.1j, 1. +0.2j, 1. +0.3j, 1. +0.4j, 1. +0.5j, 1. +0.6j,\n",
       "        1. +0.7j, 1. +0.8j, 1. +0.9j, 1. +1.j ]])\n",
       "Dimensions without coordinates: re, im"
      ]
     },
     "execution_count": 20,
     "metadata": {},
     "output_type": "execute_result"
    }
   ],
   "source": [
    "vals = real_vals + im_vals\n",
    "vals"
   ]
  },
  {
   "cell_type": "markdown",
   "metadata": {},
   "source": [
    "Although this can be done in numpy as well, it requires fiddling with extra dimensions, using xarrays this can be expressed quite naturally."
   ]
  },
  {
   "cell_type": "markdown",
   "metadata": {},
   "source": [
    "Another example is the computation and representation of volume data. A 3D Gaussian function is computed over the domain $[-3 : 3, -3 : 3, -3 : 3]$."
   ]
  },
  {
   "cell_type": "code",
   "execution_count": 21,
   "metadata": {
    "ExecuteTime": {
     "end_time": "2019-07-03T09:31:13.037884Z",
     "start_time": "2019-07-03T09:31:12.962198Z"
    }
   },
   "outputs": [],
   "source": [
    "x_coords = xr.DataArray(np.linspace(-3.0, 3.0, 101), dims='x')\n",
    "y_coords = xr.DataArray(np.linspace(-3.0, 3.0, 101), dims='7')\n",
    "z_coords = xr.DataArray(np.linspace(-3.0, 3.0, 101), dims='z')\n",
    "X, Y, Z = np.meshgrid(x_coords, y_coords, z_coords)"
   ]
  },
  {
   "cell_type": "code",
   "execution_count": 22,
   "metadata": {
    "ExecuteTime": {
     "end_time": "2019-07-03T09:32:55.971171Z",
     "start_time": "2019-07-03T09:32:55.945115Z"
    }
   },
   "outputs": [],
   "source": [
    "def gaussian(X, Y, Z):\n",
    "    return np.exp(-(X**2 + Y**2 + Z**2))/np.sqrt(2.0*np.pi)"
   ]
  },
  {
   "cell_type": "code",
   "execution_count": 23,
   "metadata": {
    "ExecuteTime": {
     "end_time": "2019-07-03T09:52:57.927742Z",
     "start_time": "2019-07-03T09:52:57.705829Z"
    }
   },
   "outputs": [],
   "source": [
    "values = xr.DataArray(gaussian(X, Y, Z), dims=('x', 'y', 'z'),\n",
    "                      coords=(x_coords, y_coords, z_coords))"
   ]
  },
  {
   "cell_type": "code",
   "execution_count": 24,
   "metadata": {
    "ExecuteTime": {
     "end_time": "2019-07-03T09:53:05.449075Z",
     "start_time": "2019-07-03T09:53:05.438796Z"
    }
   },
   "outputs": [
    {
     "data": {
      "text/plain": [
       "(101, 101, 101)"
      ]
     },
     "execution_count": 24,
     "metadata": {},
     "output_type": "execute_result"
    }
   ],
   "source": [
    "values.shape"
   ]
  },
  {
   "cell_type": "markdown",
   "metadata": {},
   "source": [
    "The data can be exported to NetCDF for visualization with, e.g., ParaView or VisIt."
   ]
  },
  {
   "cell_type": "code",
   "execution_count": 25,
   "metadata": {
    "ExecuteTime": {
     "end_time": "2019-07-03T09:53:57.493904Z",
     "start_time": "2019-07-03T09:53:57.415923Z"
    }
   },
   "outputs": [],
   "source": [
    "values.to_netcdf('gaussian.nc')"
   ]
  },
  {
   "cell_type": "markdown",
   "metadata": {},
   "source": [
    "We can visualize two slices of the data volume, one along the $Z$-plane, the other along the $X$-plane."
   ]
  },
  {
   "cell_type": "code",
   "execution_count": 26,
   "metadata": {},
   "outputs": [
    {
     "data": {
      "image/png": "[encoded data removed]",
      "text/plain": [
       "<Figure size 720x360 with 2 Axes>"
      ]
     },
     "metadata": {
      "needs_background": "light"
     },
     "output_type": "display_data"
    }
   ],
   "source": [
    "figure, axes = plt.subplots(nrows=1, ncols=2, figsize=(10, 5))\n",
    "z_slice = values.sel(z=0.0)\n",
    "tick_locs = list(range(0, 101, 25))\n",
    "tick_vals = np.linspace(values.coords['x'].values[0], values.coords['y'].values[-1], 5)\n",
    "axes[0].imshow(z_slice, origin='lower', aspect='equal')\n",
    "axes[0].set_title('Z slice')\n",
    "axes[0].set_xlabel(z_slice.dims[0])\n",
    "axes[0].set_xticks(tick_locs)\n",
    "axes[0].set_xticklabels(f'{x:.1f}' for x in tick_vals)\n",
    "axes[0].set_ylabel(z_slice.dims[1])\n",
    "axes[0].set_yticks(tick_locs)\n",
    "axes[0].set_yticklabels(f'{x:.1f}' for x in tick_vals)\n",
    "x_slice = values.sel(x=0.0)\n",
    "axes[1].imshow(x_slice, origin='lower', aspect='equal')\n",
    "axes[1].set_title('X slice')\n",
    "axes[1].set_xlabel(x_slice.dims[0])\n",
    "axes[1].set_xticks(tick_locs)\n",
    "axes[1].set_xticklabels(f'{x:.1f}' for x in tick_vals)\n",
    "axes[1].set_ylabel(x_slice.dims[1])\n",
    "axes[1].set_yticks(tick_locs)\n",
    "axes[1].set_yticklabels(f'{x:.1f}' for x in tick_vals)\n",
    "plt.tight_layout()"
   ]
  },
  {
   "cell_type": "markdown",
   "metadata": {},
   "source": [
    "Note that labels and tick values are set according to information contained in the xarray representing the data."
   ]
  },
  {
   "cell_type": "markdown",
   "metadata": {},
   "source": [
    "## Interpolation"
   ]
  },
  {
   "cell_type": "markdown",
   "metadata": {},
   "source": [
    "It is straightforward to interpolate data for coordinates that are missing in the xarray, e.g.,"
   ]
  },
  {
   "cell_type": "code",
   "execution_count": 27,
   "metadata": {},
   "outputs": [
    {
     "data": {
      "text/plain": [
       "0.0002448162927385368"
      ]
     },
     "execution_count": 27,
     "metadata": {},
     "output_type": "execute_result"
    }
   ],
   "source": [
    "float(values.interp(x=np.pi/2.0, y=np.pi/2.0, z=np.pi/2.0))"
   ]
  },
  {
   "cell_type": "markdown",
   "metadata": {},
   "source": [
    "The interpolation is linear, and this function is highly non-linear, so the actual function values at the given point is different."
   ]
  },
  {
   "cell_type": "code",
   "execution_count": 28,
   "metadata": {},
   "outputs": [
    {
     "data": {
      "text/plain": [
       "0.00024331787691818835"
      ]
     },
     "execution_count": 28,
     "metadata": {},
     "output_type": "execute_result"
    }
   ],
   "source": [
    "gaussian(np.pi/2.0, np.pi/2.0, np.pi/2.0)"
   ]
  },
  {
   "cell_type": "markdown",
   "metadata": {},
   "source": [
    "Interpolation can be done for an entire plane of 3D data."
   ]
  },
  {
   "cell_type": "code",
   "execution_count": 29,
   "metadata": {},
   "outputs": [
    {
     "data": {
      "text/plain": [
       "<xarray.DataArray (y: 101, z: 101)>\n",
       "array([[2.497462e-11, 3.566822e-11, 5.057514e-11, ..., 5.057514e-11,\n",
       "        3.566822e-11, 2.497462e-11],\n",
       "       [3.566822e-11, 5.094060e-11, 7.223034e-11, ..., 7.223034e-11,\n",
       "        5.094060e-11, 3.566822e-11],\n",
       "       [5.057514e-11, 7.223034e-11, 1.024178e-10, ..., 1.024178e-10,\n",
       "        7.223034e-11, 5.057514e-11],\n",
       "       ...,\n",
       "       [5.057514e-11, 7.223034e-11, 1.024178e-10, ..., 1.024178e-10,\n",
       "        7.223034e-11, 5.057514e-11],\n",
       "       [3.566822e-11, 5.094060e-11, 7.223034e-11, ..., 7.223034e-11,\n",
       "        5.094060e-11, 3.566822e-11],\n",
       "       [2.497462e-11, 3.566822e-11, 5.057514e-11, ..., 5.057514e-11,\n",
       "        3.566822e-11, 2.497462e-11]])\n",
       "Coordinates:\n",
       "  * y        (y) float64 -3.0 -2.94 -2.88 -2.82 -2.76 ... 2.82 2.88 2.94 3.0\n",
       "  * z        (z) float64 -3.0 -2.94 -2.88 -2.82 -2.76 ... 2.82 2.88 2.94 3.0\n",
       "    x        float64 2.344"
      ]
     },
     "execution_count": 29,
     "metadata": {},
     "output_type": "execute_result"
    }
   ],
   "source": [
    "values.interp(x=np.pi/1.34)"
   ]
  },
  {
   "cell_type": "markdown",
   "metadata": {
    "toc-hr-collapsed": true
   },
   "source": [
    "## Combining data"
   ]
  },
  {
   "cell_type": "markdown",
   "metadata": {},
   "source": [
    "### Concatenate"
   ]
  },
  {
   "cell_type": "markdown",
   "metadata": {},
   "source": [
    "The `cnocatinate` function works similarly to what you would expect from numpy's counterpart. Two or more `DataArray`s are concatenated as in the following example."
   ]
  },
  {
   "cell_type": "code",
   "execution_count": 30,
   "metadata": {},
   "outputs": [],
   "source": [
    "x_vals = np.arange(0.0, 2.0*np.pi, 0.3)\n",
    "signal1 = xr.DataArray(np.cos(x_vals), dims=('x', ), coords=(x_vals.copy(), ))\n",
    "x_vals += 5.0*np.pi\n",
    "signal2 = xr.DataArray(np.cos(x_vals), dims=('x', ), coords=(x_vals.copy(), ))"
   ]
  },
  {
   "cell_type": "code",
   "execution_count": 31,
   "metadata": {},
   "outputs": [],
   "source": [
    "signal = xr.concat((signal1, signal2), dim='x')"
   ]
  },
  {
   "cell_type": "code",
   "execution_count": 32,
   "metadata": {},
   "outputs": [
    {
     "data": {
      "image/png": "[encoded data removed]",
      "text/plain": [
       "<Figure size 432x288 with 1 Axes>"
      ]
     },
     "metadata": {
      "needs_background": "light"
     },
     "output_type": "display_data"
    }
   ],
   "source": [
    "_ = plt.plot(signal.coords['x'], signal, 'o')"
   ]
  },
  {
   "cell_type": "markdown",
   "metadata": {},
   "source": [
    "However, the coordinates of the `DataArray`s can overlap, as the next example illustrates."
   ]
  },
  {
   "cell_type": "code",
   "execution_count": 33,
   "metadata": {},
   "outputs": [],
   "source": [
    "x_vals = np.linspace(0.0, 2.0*np.pi, 11)\n",
    "signal1 = xr.DataArray(np.sin(x_vals), dims=('x', ), coords=(x_vals.copy(), ))\n",
    "x_vals = np.linspace(0.0, np.pi, 20)\n",
    "signal2 = xr.DataArray(np.sin(x_vals), dims=('x', ), coords=(x_vals.copy(), ))\n",
    "signal = xr.concat((signal1, signal2), dim='x')"
   ]
  },
  {
   "cell_type": "code",
   "execution_count": 34,
   "metadata": {},
   "outputs": [
    {
     "data": {
      "image/png": "[encoded data removed]",
      "text/plain": [
       "<Figure size 432x288 with 1 Axes>"
      ]
     },
     "metadata": {
      "needs_background": "light"
     },
     "output_type": "display_data"
    }
   ],
   "source": [
    "_ = plt.plot(signal.coords['x'], signal, 'o')\n",
    "_ = plt.plot(signal1.coords['x'], signal1, 'ro')"
   ]
  },
  {
   "cell_type": "markdown",
   "metadata": {},
   "source": [
    "### `merge`"
   ]
  },
  {
   "cell_type": "markdown",
   "metadata": {},
   "source": [
    "Two (or more) `DataArray` objects can be merged into a single `DataSet` object.  The coordinates are taken into account, and if one of the arrays has no values for the some coordinates, those are considered missing values, and represented as `NaN`.\n",
    "\n",
    "Consider two `DataArray`s, one representing temperature measurements, the other pressure values.  Both data sets have $x$ and $y$ dimensions, but the coordinates differ."
   ]
  },
  {
   "cell_type": "code",
   "execution_count": 35,
   "metadata": {},
   "outputs": [],
   "source": [
    "temperature = xr.DataArray(np.random.normal(loc=20.0, scale=5.0, size=(5, 5)),\n",
    "                           dims=('x', 'y'), coords={'x': np.linspace(0.0, 1.0, 5),\n",
    "                                                    'y': np.linspace(0.0, 5.0, 5)},\n",
    "                           name='temperature')"
   ]
  },
  {
   "cell_type": "code",
   "execution_count": 36,
   "metadata": {},
   "outputs": [],
   "source": [
    "pressure = xr.DataArray(np.random.normal(loc=1001.0, scale=100.0, size=(5, 5)),\n",
    "                        dims=('x', 'y'), coords={'x': np.linspace(0.0, 2.0, 5),\n",
    "                                                 'y': np.linspace(0.0, 3.0, 5)},\n",
    "                        name='pressure')"
   ]
  },
  {
   "cell_type": "markdown",
   "metadata": {},
   "source": [
    "When the data is merged into a `DataSet`, missing values are present."
   ]
  },
  {
   "cell_type": "code",
   "execution_count": 37,
   "metadata": {},
   "outputs": [
    {
     "data": {
      "text/plain": [
       "<xarray.Dataset>\n",
       "Dimensions:      (x: 7, y: 9)\n",
       "Coordinates:\n",
       "  * x            (x) float64 0.0 0.25 0.5 0.75 1.0 1.5 2.0\n",
       "  * y            (y) float64 0.0 0.75 1.25 1.5 2.25 2.5 3.0 3.75 5.0\n",
       "Data variables:\n",
       "    temperature  (x, y) float64 15.08 nan 21.21 nan nan ... nan nan nan nan nan\n",
       "    pressure     (x, y) float64 935.1 956.9 nan 1.03e+03 ... 1.071e+03 nan nan"
      ]
     },
     "execution_count": 37,
     "metadata": {},
     "output_type": "execute_result"
    }
   ],
   "source": [
    "data = xr.merge((temperature, pressure))\n",
    "data"
   ]
  },
  {
   "cell_type": "markdown",
   "metadata": {},
   "source": [
    "We can visualize the missing data which shows up as yellow in the plot below."
   ]
  },
  {
   "cell_type": "code",
   "execution_count": 38,
   "metadata": {},
   "outputs": [
    {
     "data": {
      "image/png": "[encoded data removed]",
      "text/plain": [
       "<Figure size 720x360 with 2 Axes>"
      ]
     },
     "metadata": {
      "needs_background": "light"
     },
     "output_type": "display_data"
    }
   ],
   "source": [
    "figure, axes = plt.subplots(nrows=1, ncols=2, figsize=(10, 5))\n",
    "missing_temp = np.where(np.isnan(data['temperature']), 1, 0)\n",
    "_ = axes[0].imshow(missing_temp)\n",
    "missing_pressure = np.where(np.isnan(data['pressure']), 1, 0)\n",
    "_ = axes[1].imshow(missing_pressure)"
   ]
  },
  {
   "cell_type": "markdown",
   "metadata": {},
   "source": [
    "### `combine_first`"
   ]
  },
  {
   "cell_type": "markdown",
   "metadata": {},
   "source": [
    "This operation combines values from two `DataArrays`, using the second to fill holes in the first.  Coordinates for which there is no data in either `DataArray` will be filled with `NaN`."
   ]
  },
  {
   "cell_type": "code",
   "execution_count": 39,
   "metadata": {},
   "outputs": [],
   "source": [
    "temp1 = xr.DataArray(np.random.normal(loc=20.0, scale=5.0, size=(5, 5)),\n",
    "                     dims=('x', 'y'), coords={'x': np.linspace(0.0, 1.0, 5),\n",
    "                                              'y': np.linspace(0.0, 5.0, 5)},\n",
    "                     name='temperature')"
   ]
  },
  {
   "cell_type": "code",
   "execution_count": 40,
   "metadata": {},
   "outputs": [
    {
     "data": {
      "text/plain": [
       "25.234819560009992"
      ]
     },
     "execution_count": 40,
     "metadata": {},
     "output_type": "execute_result"
    }
   ],
   "source": [
    "float(temp1[0, 0])"
   ]
  },
  {
   "cell_type": "code",
   "execution_count": 41,
   "metadata": {},
   "outputs": [],
   "source": [
    "temp2 = xr.DataArray(np.random.normal(loc=1001.0, scale=100.0, size=(5, 5)),\n",
    "                     dims=('x', 'y'), coords={'x': np.linspace(0.0, 2.0, 5),\n",
    "                                              'y': np.linspace(0.0, 3.0, 5)},\n",
    "                     name='temperature2')"
   ]
  },
  {
   "cell_type": "code",
   "execution_count": 42,
   "metadata": {},
   "outputs": [
    {
     "data": {
      "text/plain": [
       "974.3237638547222"
      ]
     },
     "execution_count": 42,
     "metadata": {},
     "output_type": "execute_result"
    }
   ],
   "source": [
    "float(temp2[0, 0])"
   ]
  },
  {
   "cell_type": "code",
   "execution_count": 43,
   "metadata": {},
   "outputs": [
    {
     "data": {
      "text/plain": [
       "<xarray.DataArray 'temperature' (x: 7, y: 9)>\n",
       "array([[  25.23482 , 1018.918747,   24.721765,  841.798323, 1104.994223,\n",
       "          17.43136 , 1155.853473,   13.111401,   10.129545],\n",
       "       [  17.832697,         nan,   19.881237,         nan,         nan,\n",
       "          22.523734,         nan,   21.381771,   19.570283],\n",
       "       [  13.975252, 1171.51317 ,   19.747217,  768.331069, 1025.839369,\n",
       "          16.447139, 1069.739155,   15.324443,   26.615572],\n",
       "       [  27.218577,         nan,   14.035979,         nan,         nan,\n",
       "          18.704474,         nan,   25.974277,   18.975301],\n",
       "       [  22.717057, 1082.881175,   25.369311, 1082.599335,  879.739777,\n",
       "          21.486976, 1163.858038,   18.888268,   15.735048],\n",
       "       [1068.458386,  957.640062,         nan,  957.27086 ,  967.014728,\n",
       "                nan,  847.625842,         nan,         nan],\n",
       "       [1015.384697, 1037.843747,         nan, 1038.236647,  822.208616,\n",
       "                nan, 1037.247703,         nan,         nan]])\n",
       "Coordinates:\n",
       "  * x        (x) float64 0.0 0.25 0.5 0.75 1.0 1.5 2.0\n",
       "  * y        (y) float64 0.0 0.75 1.25 1.5 2.25 2.5 3.0 3.75 5.0"
      ]
     },
     "execution_count": 43,
     "metadata": {},
     "output_type": "execute_result"
    }
   ],
   "source": [
    "data = temp1.combine_first(temp2)\n",
    "data"
   ]
  },
  {
   "cell_type": "markdown",
   "metadata": {},
   "source": [
    "We can visualize the origin of the data, either `temp1` in blue or `temp2` in red, as well as the missing data which shows up in white."
   ]
  },
  {
   "cell_type": "code",
   "execution_count": 44,
   "metadata": {},
   "outputs": [
    {
     "data": {
      "image/png": "[encoded data removed]",
      "text/plain": [
       "<Figure size 432x288 with 1 Axes>"
      ]
     },
     "metadata": {
      "needs_background": "light"
     },
     "output_type": "display_data"
    }
   ],
   "source": [
    "data_map = np.empty(data.shape)\n",
    "with np.errstate(invalid='ignore'):\n",
    "    data_map[data.values < 200.0] = -1.0\n",
    "    data_map[data.values >= 200.0] = 1.0\n",
    "data_map[np.isnan(data.values)] = 0.0\n",
    "_ = plt.imshow(data_map, cmap='bwr')"
   ]
  },
  {
   "cell_type": "markdown",
   "metadata": {},
   "source": [
    "The plot below illustrates that the `combine_first` operator is not symmetric, i.e., `temp1.combine_first(temp2)` is not the same `DataArray` as `temp2.combine_first(temp1)`."
   ]
  },
  {
   "cell_type": "code",
   "execution_count": 45,
   "metadata": {},
   "outputs": [
    {
     "data": {
      "image/png": "[encoded data removed]",
      "text/plain": [
       "<Figure size 432x288 with 1 Axes>"
      ]
     },
     "metadata": {
      "needs_background": "light"
     },
     "output_type": "display_data"
    }
   ],
   "source": [
    "data = temp2.combine_first(temp1)\n",
    "data_map = np.empty(data.shape)\n",
    "with np.errstate(invalid='ignore'):\n",
    "    data_map[data.values < 200.0] = -1.0\n",
    "    data_map[data.values >= 200.0] = 1.0\n",
    "data_map[np.isnan(data.values)] = 0.0\n",
    "_ = plt.imshow(data_map, cmap='bwr')"
   ]
  },
  {
   "cell_type": "markdown",
   "metadata": {},
   "source": [
    "As a second example, `combine_first` can also be used to concatenate two 1D `DataArray`'s. Data along the same dimension can be combined from several xarrays. Consider a sinusoidal signal."
   ]
  },
  {
   "cell_type": "code",
   "execution_count": 46,
   "metadata": {},
   "outputs": [
    {
     "data": {
      "text/plain": [
       "(15,)"
      ]
     },
     "execution_count": 46,
     "metadata": {},
     "output_type": "execute_result"
    }
   ],
   "source": [
    "x_vals = np.linspace(0.0, 2.0*np.pi, 15)\n",
    "signal = xr.DataArray(np.sin(x_vals), dims=('x',), coords=(x_vals,), name='signal')\n",
    "signal.shape"
   ]
  },
  {
   "cell_type": "code",
   "execution_count": 47,
   "metadata": {},
   "outputs": [
    {
     "data": {
      "image/png": "[encoded data removed]",
      "text/plain": [
       "<Figure size 432x288 with 1 Axes>"
      ]
     },
     "metadata": {
      "needs_background": "light"
     },
     "output_type": "display_data"
    }
   ],
   "source": [
    "_ = plt.plot(signal.coords['x'], signal, 'o')"
   ]
  },
  {
   "cell_type": "markdown",
   "metadata": {},
   "source": [
    "Create a second xarray by interpolating the signal.  Since this is 1D data, we can use quadratic interpolation, which is obviously better than the default, linear."
   ]
  },
  {
   "cell_type": "code",
   "execution_count": 48,
   "metadata": {},
   "outputs": [
    {
     "data": {
      "text/plain": [
       "(62,)"
      ]
     },
     "execution_count": 48,
     "metadata": {},
     "output_type": "execute_result"
    }
   ],
   "source": [
    "x_vals = np.arange(0.1, 2.0*np.pi, 0.1)\n",
    "interp_signal = signal.interp(x=x_vals, method='quadratic')\n",
    "interp_signal.shape"
   ]
  },
  {
   "cell_type": "code",
   "execution_count": 49,
   "metadata": {},
   "outputs": [
    {
     "data": {
      "text/plain": [
       "<xarray.DataArray 'signal' (x: 62)>\n",
       "array([ 0.103189,  0.202644,  0.298364,  0.390351,  0.478603,  0.563122,\n",
       "        0.643753,  0.717532,  0.783318,  0.841111,  0.890911,  0.932165,\n",
       "        0.963651,  0.985326,  0.997191,  0.999242,  0.991466,  0.973857,\n",
       "        0.946414,  0.909138,  0.86266 ,  0.808261,  0.74598 ,  0.675816,\n",
       "        0.597944,  0.514878,  0.427436,  0.33562 ,  0.239428,  0.140362,\n",
       "        0.041231, -0.0579  , -0.157031, -0.255909, -0.351364, -0.442445,\n",
       "       -0.529151, -0.611482, -0.688165, -0.757003, -0.817959, -0.871033,\n",
       "       -0.916094, -0.951717, -0.977506, -0.993462, -0.999584, -0.995882,\n",
       "       -0.982368, -0.959043, -0.925907, -0.883096, -0.831952, -0.772815,\n",
       "       -0.705685, -0.630562, -0.549171, -0.464025, -0.375145, -0.28253 ,\n",
       "       -0.186182, -0.086099])\n",
       "Coordinates:\n",
       "  * x        (x) float64 0.1 0.2 0.3 0.4 0.5 0.6 0.7 ... 5.7 5.8 5.9 6.0 6.1 6.2"
      ]
     },
     "execution_count": 49,
     "metadata": {},
     "output_type": "execute_result"
    }
   ],
   "source": [
    "interp_signal"
   ]
  },
  {
   "cell_type": "code",
   "execution_count": 50,
   "metadata": {},
   "outputs": [
    {
     "data": {
      "image/png": "[encoded data removed]",
      "text/plain": [
       "<Figure size 432x288 with 1 Axes>"
      ]
     },
     "metadata": {
      "needs_background": "light"
     },
     "output_type": "display_data"
    }
   ],
   "source": [
    "_ = plt.plot(signal.coords['x'], signal, 'ro-')\n",
    "_ = plt.plot(interp_signal.coords['x'], interp_signal, 'b.', alpha=0.7)"
   ]
  },
  {
   "cell_type": "markdown",
   "metadata": {},
   "source": [
    "Combine the original and the interpolated signal into a single xarray."
   ]
  },
  {
   "cell_type": "code",
   "execution_count": 51,
   "metadata": {},
   "outputs": [
    {
     "data": {
      "text/plain": [
       "(77,)"
      ]
     },
     "execution_count": 51,
     "metadata": {},
     "output_type": "execute_result"
    }
   ],
   "source": [
    "combined = signal.combine_first(interp_signal)\n",
    "combined.shape"
   ]
  },
  {
   "cell_type": "code",
   "execution_count": 52,
   "metadata": {},
   "outputs": [
    {
     "data": {
      "image/png": "[encoded data removed]",
      "text/plain": [
       "<Figure size 432x288 with 1 Axes>"
      ]
     },
     "metadata": {
      "needs_background": "light"
     },
     "output_type": "display_data"
    }
   ],
   "source": [
    "_ = plt.plot(combined.coords['x'], combined, '.')"
   ]
  },
  {
   "cell_type": "markdown",
   "metadata": {},
   "source": [
    "## Split-apply-combine: grouping"
   ]
  },
  {
   "cell_type": "markdown",
   "metadata": {},
   "source": [
    "As in pandas, data in `DataArray`s can be grouped using the `group_by` method.  It is mostly done for data with categorical coordinates, and works similar to its pandas counterpart.  However, xarray has the `groupby_bins` method that is very convenient."
   ]
  },
  {
   "cell_type": "code",
   "execution_count": 53,
   "metadata": {},
   "outputs": [],
   "source": [
    "coords = np.arange(0.0, 20.0, 1.0)\n",
    "temperature = xr.DataArray(np.random.normal(loc=20.0, scale=2.0, size=(coords.shape[0], coords.shape[0])),\n",
    "                           dims=('x', 'y'), coords={'x': coords, 'y': coords}, name='temperature')"
   ]
  },
  {
   "cell_type": "markdown",
   "metadata": {},
   "source": [
    "The data may be grouped by $x$ coordinates, e.g., into 5 bins."
   ]
  },
  {
   "cell_type": "code",
   "execution_count": 54,
   "metadata": {},
   "outputs": [],
   "source": [
    "bins = np.arange(-0.1, 20.1, 4.0)\n",
    "labels = np.arange(2.0, 19.0, 4.0)\n",
    "x_groups = temperature.groupby_bins('x', bins, labels=labels)"
   ]
  },
  {
   "cell_type": "markdown",
   "metadata": {},
   "source": [
    "As labels for the bins, the midpoint of the bin intervals is chosen.  The resulting groups show that each of the five groups contains 4 indices along the $x$-axis."
   ]
  },
  {
   "cell_type": "code",
   "execution_count": 55,
   "metadata": {},
   "outputs": [
    {
     "data": {
      "text/plain": [
       "{2.0: [0, 1, 2, 3],\n",
       " 6.0: [4, 5, 6, 7],\n",
       " 10.0: [8, 9, 10, 11],\n",
       " 14.0: [12, 13, 14, 15],\n",
       " 18.0: [16, 17, 18, 19]}"
      ]
     },
     "execution_count": 55,
     "metadata": {},
     "output_type": "execute_result"
    }
   ],
   "source": [
    "x_groups.groups"
   ]
  },
  {
   "cell_type": "markdown",
   "metadata": {},
   "source": [
    "For each of these groups, we can print the label, the group's shape, and the average over the group."
   ]
  },
  {
   "cell_type": "code",
   "execution_count": 56,
   "metadata": {},
   "outputs": [
    {
     "name": "stdout",
     "output_type": "stream",
     "text": [
      "2.0 (4, 20): 19.919129\n",
      "6.0 (4, 20): 20.161688\n",
      "10.0 (4, 20): 20.258427\n",
      "14.0 (4, 20): 19.759015\n",
      "18.0 (4, 20): 19.905227\n"
     ]
    }
   ],
   "source": [
    "for label, group in x_groups:\n",
    "    print(f'{label} {group.shape}: {float(group.mean()):.6f}')"
   ]
  },
  {
   "cell_type": "markdown",
   "metadata": {},
   "source": [
    "Using the `apply` method on a group-by object will perform the same computation, but combine the results back into a `DataArray` with the appropriate coordinates."
   ]
  },
  {
   "cell_type": "code",
   "execution_count": 57,
   "metadata": {},
   "outputs": [
    {
     "data": {
      "text/plain": [
       "<xarray.DataArray 'temperature' (x: 5)>\n",
       "array([19.919129, 20.161688, 20.258427, 19.759015, 19.905227])\n",
       "Coordinates:\n",
       "  * x        (x) float64 2.0 6.0 10.0 14.0 18.0"
      ]
     },
     "execution_count": 57,
     "metadata": {},
     "output_type": "execute_result"
    }
   ],
   "source": [
    "x_groups.apply(np.mean).rename({'x_bins': 'x'})"
   ]
  },
  {
   "cell_type": "markdown",
   "metadata": {},
   "source": [
    "Although there seems to be no way to bin directly in two dimensions, this can easily be achieved by using `apply` at two levels."
   ]
  },
  {
   "cell_type": "code",
   "execution_count": 58,
   "metadata": {},
   "outputs": [
    {
     "data": {
      "text/plain": [
       "<xarray.DataArray 'temperature' (x: 5, y: 5)>\n",
       "array([[19.837257, 20.214709, 19.939894, 20.027034, 19.576748],\n",
       "       [21.10542 , 20.079909, 20.092758, 20.037312, 19.493039],\n",
       "       [20.181775, 20.710055, 19.588004, 20.751893, 20.060408],\n",
       "       [20.12698 , 19.944214, 20.693216, 19.198395, 18.832272],\n",
       "       [19.900769, 18.931901, 20.064227, 20.946423, 19.682816]])\n",
       "Coordinates:\n",
       "  * x        (x) float64 2.0 6.0 10.0 14.0 18.0\n",
       "  * y        (y) float64 2.0 6.0 10.0 14.0 18.0"
      ]
     },
     "execution_count": 58,
     "metadata": {},
     "output_type": "execute_result"
    }
   ],
   "source": [
    "coarse_temp = x_groups.apply(lambda x: x.groupby_bins('y', bins, labels=labels).apply(np.mean))\\\n",
    "                      .rename({'x_bins': 'x', 'y_bins': 'y'})\n",
    "coarse_temp"
   ]
  },
  {
   "cell_type": "markdown",
   "metadata": {},
   "source": [
    "To verify, compare the upper-left and lower-right elements of `coarse_temp` with the explicitely computed mean value of those subarrays."
   ]
  },
  {
   "cell_type": "code",
   "execution_count": 59,
   "metadata": {},
   "outputs": [
    {
     "data": {
      "text/plain": [
       "True"
      ]
     },
     "execution_count": 59,
     "metadata": {},
     "output_type": "execute_result"
    }
   ],
   "source": [
    "np.isclose(temperature[0:4, 0:4].mean(), coarse_temp[0, 0], rtol=1.0e-7)"
   ]
  },
  {
   "cell_type": "code",
   "execution_count": 60,
   "metadata": {},
   "outputs": [
    {
     "data": {
      "text/plain": [
       "True"
      ]
     },
     "execution_count": 60,
     "metadata": {},
     "output_type": "execute_result"
    }
   ],
   "source": [
    "np.isclose(temperature[-4:, -4:].mean(), coarse_temp[-1, -1], rtol=1.0e-7)"
   ]
  },
  {
   "cell_type": "markdown",
   "metadata": {},
   "source": [
    "We can visualize the coarsening process by plotting a heatmap of the original and the coarsened data."
   ]
  },
  {
   "cell_type": "code",
   "execution_count": 61,
   "metadata": {},
   "outputs": [
    {
     "data": {
      "image/png": "[encoded data removed]",
      "text/plain": [
       "<Figure size 720x360 with 2 Axes>"
      ]
     },
     "metadata": {
      "needs_background": "light"
     },
     "output_type": "display_data"
    }
   ],
   "source": [
    "vmin = float(temperature.min())\n",
    "vmax = float(temperature.max())\n",
    "figure, axes = plt.subplots(nrows=1, ncols=2, figsize=(10, 5))\n",
    "_ = axes[0].imshow(temperature, cmap='coolwarm', origin='lower',\n",
    "                   vmin=vmin, vmax=vmax)\n",
    "_ = axes[0].set_xlabel('$x$')\n",
    "tick_pos = list(range(0, 20, 5))\n",
    "_ = axes[0].set_xticks(tick_pos)\n",
    "_ = axes[0].set_xticklabels(f'{float(x):.1f}' for x in temperature.coords['x'][tick_pos])\n",
    "_ = axes[0].set_ylabel('$y$')\n",
    "_ = axes[0].set_yticks(tick_pos)\n",
    "_ = axes[0].set_yticklabels(f'{float(x):.1f}' for x in temperature.coords['y'][tick_pos])\n",
    "_ = axes[1].imshow(coarse_temp, cmap='coolwarm', origin='lower',\n",
    "                   vmin=vmin, vmax=vmax)\n",
    "_ = axes[1].set_xlabel('$x$')\n",
    "_ = axes[1].set_xticks(range(len(coarse_temp.coords['x'])))\n",
    "_ = axes[1].set_xticklabels(f'{float(x):.1f}' for x in coarse_temp.coords['x'])\n",
    "_ = axes[1].set_ylabel('$y$')\n",
    "_ = axes[1].set_yticks(range(len(coarse_temp.coords['y'])))\n",
    "_ = axes[1].set_yticklabels(f'{float(x):.1f}' for x in coarse_temp.coords['y'])\n",
    "plt.tight_layout()"
   ]
  }
 ],
 "metadata": {
  "kernelspec": {
   "display_name": "Python 3",
   "language": "python",
   "name": "python3"
  },
  "language_info": {
   "codemirror_mode": {
    "name": "ipython",
    "version": 3
   },
   "file_extension": ".py",
   "mimetype": "text/x-python",
   "name": "python",
   "nbconvert_exporter": "python",
   "pygments_lexer": "ipython3",
   "version": "3.7.3"
  }
 },
 "nbformat": 4,
 "nbformat_minor": 2
}
