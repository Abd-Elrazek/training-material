{
 "cells": [
  {
   "cell_type": "markdown",
   "metadata": {},
   "source": [
    "# Arcane Python syntax"
   ]
  },
  {
   "cell_type": "markdown",
   "metadata": {},
   "source": [
    "Python has a syntax with a few features that are quite unique."
   ]
  },
  {
   "cell_type": "markdown",
   "metadata": {},
   "source": [
    "**General advice:** don't use any of this unless you feel comfortable with it, since mistakes can lead to bugs that are hard to track down."
   ]
  },
  {
   "cell_type": "markdown",
   "metadata": {},
   "source": [
    "## Interval checking"
   ]
  },
  {
   "cell_type": "markdown",
   "metadata": {},
   "source": [
    "In Python an expression such as `a < x <= b` is legal and well-defined."
   ]
  },
  {
   "cell_type": "code",
   "execution_count": 1,
   "metadata": {},
   "outputs": [
    {
     "name": "stdout",
     "output_type": "stream",
     "text": [
      "1 < -2 <= 3: False\n",
      "1 < -1 <= 3: False\n",
      "1 < 0 <= 3: False\n",
      "1 < 1 <= 3: False\n",
      "1 < 2 <= 3: True\n",
      "1 < 3 <= 3: True\n",
      "1 < 4 <= 3: False\n"
     ]
    }
   ],
   "source": [
    "a, b = 1, 3\n",
    "for x in range(-2, 5):\n",
    "    if a < x <= b:\n",
    "        print(f'{a} < {x} <= {b}: True')\n",
    "    else:\n",
    "        print(f'{a} < {x} <= {b}: False')"
   ]
  },
  {
   "cell_type": "markdown",
   "metadata": {},
   "source": [
    "The code above can be simplified to:"
   ]
  },
  {
   "cell_type": "code",
   "execution_count": 3,
   "metadata": {},
   "outputs": [
    {
     "name": "stdout",
     "output_type": "stream",
     "text": [
      "1 < -2 <= 3: False\n",
      "1 < -1 <= 3: False\n",
      "1 <  0 <= 3: False\n",
      "1 <  1 <= 3: False\n",
      "1 <  2 <= 3: True\n",
      "1 <  3 <= 3: True\n",
      "1 <  4 <= 3: False\n"
     ]
    }
   ],
   "source": [
    "a, b = 1, 3\n",
    "for x in range(-2, 5):\n",
    "    print(f'{a} < {x:2d} <= {b}: {a < x <= b}')"
   ]
  },
  {
   "cell_type": "markdown",
   "metadata": {},
   "source": [
    "## Multiple equality, inequality"
   ]
  },
  {
   "cell_type": "markdown",
   "metadata": {},
   "source": [
    "Along the same lines, `a == b == x` is also legal and well-defined."
   ]
  },
  {
   "cell_type": "code",
   "execution_count": 4,
   "metadata": {},
   "outputs": [
    {
     "name": "stdout",
     "output_type": "stream",
     "text": [
      "0 == 0 == 1: False\n",
      "0 == 1 == 1: False\n",
      "0 == 2 == 1: False\n",
      "1 == 0 == 1: False\n",
      "1 == 1 == 1: True\n",
      "1 == 2 == 1: False\n",
      "2 == 0 == 1: False\n",
      "2 == 1 == 1: False\n",
      "2 == 2 == 1: False\n"
     ]
    }
   ],
   "source": [
    "for a in range(3):\n",
    "    for b in range(3):\n",
    "        print(f'{a} == {b} == 1: {a == b == 1}')"
   ]
  },
  {
   "cell_type": "markdown",
   "metadata": {},
   "source": [
    "Although `a != b != x` is legal as well, it may, at least at first sight, not behave as expected."
   ]
  },
  {
   "cell_type": "code",
   "execution_count": 5,
   "metadata": {},
   "outputs": [
    {
     "name": "stdout",
     "output_type": "stream",
     "text": [
      "0 != 0 != 1: False\n",
      "0 != 1 != 1: False\n",
      "0 != 2 != 1: True\n",
      "1 != 0 != 1: True\n",
      "1 != 1 != 1: False\n",
      "1 != 2 != 1: True\n",
      "2 != 0 != 1: True\n",
      "2 != 1 != 1: False\n",
      "2 != 2 != 1: False\n"
     ]
    }
   ],
   "source": [
    "for a in range(3):\n",
    "    for b in range(3):\n",
    "        print(f'{a} != {b} != 1: {a != b != 1}')"
   ]
  },
  {
   "cell_type": "markdown",
   "metadata": {},
   "source": [
    "From the above, it is clear that `a != b != x` translates to `a != b and b != c`, which is true when `a == c and a != b`.  From a mathematical point of view, bear in mind that `==` is transitive, while `!=` is not."
   ]
  },
  {
   "cell_type": "markdown",
   "metadata": {},
   "source": [
    "## Iteration with `else`"
   ]
  },
  {
   "cell_type": "markdown",
   "metadata": {},
   "source": [
    "Iteration statements in Python, i.e., `for` and `while` can have an `else` block.  The latter is executed when the iteration statement terminates normally, i.e., not by a `break` statement."
   ]
  },
  {
   "cell_type": "code",
   "execution_count": 6,
   "metadata": {
    "collapsed": true
   },
   "outputs": [],
   "source": [
    "def illustrate_for_else(x):\n",
    "    for i in range(10):\n",
    "        if i == x:\n",
    "            print('break')\n",
    "            break\n",
    "    else:\n",
    "        print('no break')"
   ]
  },
  {
   "cell_type": "code",
   "execution_count": 7,
   "metadata": {},
   "outputs": [
    {
     "name": "stdout",
     "output_type": "stream",
     "text": [
      "no break\n"
     ]
    }
   ],
   "source": [
    "illustrate_for_else(12)"
   ]
  },
  {
   "cell_type": "code",
   "execution_count": 8,
   "metadata": {},
   "outputs": [
    {
     "name": "stdout",
     "output_type": "stream",
     "text": [
      "break\n"
     ]
    }
   ],
   "source": [
    "illustrate_for_else(5)"
   ]
  },
  {
   "cell_type": "markdown",
   "metadata": {},
   "source": [
    "Although naming this syntactic construct `else` feels awkward, it is quite useful, since it is a syntactic shortcut for the following reasonably common construct."
   ]
  },
  {
   "cell_type": "code",
   "execution_count": 12,
   "metadata": {
    "collapsed": true
   },
   "outputs": [],
   "source": [
    "def illustrate_for_bool(x):\n",
    "    completed_succesfully = True\n",
    "    for i in range(10):\n",
    "        if i == x:\n",
    "            print('break')\n",
    "            completed_succesfully = False\n",
    "            break\n",
    "    if completed_succesfully:\n",
    "        print('no break')"
   ]
  },
  {
   "cell_type": "code",
   "execution_count": 13,
   "metadata": {},
   "outputs": [
    {
     "name": "stdout",
     "output_type": "stream",
     "text": [
      "no break\n"
     ]
    }
   ],
   "source": [
    "illustrate_for_bool(12)"
   ]
  },
  {
   "cell_type": "code",
   "execution_count": 14,
   "metadata": {},
   "outputs": [
    {
     "name": "stdout",
     "output_type": "stream",
     "text": [
      "break\n"
     ]
    }
   ],
   "source": [
    "illustrate_for_bool(5)"
   ]
  },
  {
   "cell_type": "markdown",
   "metadata": {},
   "source": [
    "The execution of `continue` has no influence on this."
   ]
  },
  {
   "cell_type": "code",
   "execution_count": 10,
   "metadata": {},
   "outputs": [
    {
     "name": "stdout",
     "output_type": "stream",
     "text": [
      "completed normally\n"
     ]
    }
   ],
   "source": [
    "for i in range(5):\n",
    "    if i > -1:\n",
    "        continue\n",
    "    print(f'did something for {i}')\n",
    "else:\n",
    "    print('completed normally')"
   ]
  },
  {
   "cell_type": "markdown",
   "metadata": {},
   "source": [
    "The `while` statement can have an `else` with the same semantics."
   ]
  },
  {
   "cell_type": "markdown",
   "metadata": {},
   "source": [
    "## Logical shortcircuits"
   ]
  },
  {
   "cell_type": "markdown",
   "metadata": {},
   "source": [
    "Boolean operators can be used directly as control statements.  This is familiar to experience Bash programmers, but leads to code that is somewhat hard to understand."
   ]
  },
  {
   "cell_type": "code",
   "execution_count": 1,
   "metadata": {
    "collapsed": true
   },
   "outputs": [],
   "source": [
    "import sys"
   ]
  },
  {
   "cell_type": "code",
   "execution_count": 5,
   "metadata": {},
   "outputs": [
    {
     "name": "stdout",
     "output_type": "stream",
     "text": [
      "hello\n"
     ]
    }
   ],
   "source": [
    "output_file = None\n",
    "fh = output_file or sys.stdout\n",
    "print('hello', file=fh)"
   ]
  },
  {
   "cell_type": "markdown",
   "metadata": {},
   "source": [
    "If the first operand to `or` is `False`, the value of the expression will be that of the second operand. The value `None` converts to Boolean `False`, hence the behavior above. However, if the first operand can be converted to `True`, the value of the expression is that of the first operand, a file handle in the example below."
   ]
  },
  {
   "cell_type": "code",
   "execution_count": 14,
   "metadata": {
    "collapsed": true
   },
   "outputs": [],
   "source": [
    "output_file = open('remove_me.txt', 'w')\n",
    "fh = output_file or sys.stdout\n",
    "print('hello', file=fh)"
   ]
  },
  {
   "cell_type": "code",
   "execution_count": 15,
   "metadata": {},
   "outputs": [
    {
     "name": "stdout",
     "output_type": "stream",
     "text": [
      "hello\r\n"
     ]
    }
   ],
   "source": [
    "!cat remove_me.txt"
   ]
  },
  {
   "cell_type": "markdown",
   "metadata": {},
   "source": [
    "The semantics of `and` expressions is similar.  If the first operand converts to `True`, the expression will have the value of the second operand. If the first operand converts to `False`, that operand will be the value of the expression."
   ]
  },
  {
   "cell_type": "code",
   "execution_count": 2,
   "metadata": {},
   "outputs": [
    {
     "name": "stdout",
     "output_type": "stream",
     "text": [
      "[]\n"
     ]
    }
   ],
   "source": [
    "a_list = []\n",
    "b_list = [3, 5, 7]\n",
    "my_list = a_list and b_list\n",
    "print(my_list)"
   ]
  },
  {
   "cell_type": "code",
   "execution_count": 3,
   "metadata": {},
   "outputs": [
    {
     "name": "stdout",
     "output_type": "stream",
     "text": [
      "[3, 5, 7, 9]\n"
     ]
    }
   ],
   "source": [
    "a_list = [3, 5, 7]\n",
    "b_list = [3, 5, 7, 9]\n",
    "my_list = a_list and b_list\n",
    "print(my_list)"
   ]
  }
 ],
 "metadata": {
  "kernelspec": {
   "display_name": "Python 3",
   "language": "python",
   "name": "python3"
  },
  "language_info": {
   "codemirror_mode": {
    "name": "ipython",
    "version": 3
   },
   "file_extension": ".py",
   "mimetype": "text/x-python",
   "name": "python",
   "nbconvert_exporter": "python",
   "pygments_lexer": "ipython3",
   "version": "3.6.5"
  }
 },
 "nbformat": 4,
 "nbformat_minor": 2
}
