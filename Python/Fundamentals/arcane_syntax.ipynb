{
 "cells": [
  {
   "cell_type": "markdown",
   "metadata": {},
   "source": [
    "# Arcane Python syntax"
   ]
  },
  {
   "cell_type": "markdown",
   "metadata": {},
   "source": [
    "Python has a syntax with a few features that are quite unique."
   ]
  },
  {
   "cell_type": "markdown",
   "metadata": {},
   "source": [
    "## Interval checking"
   ]
  },
  {
   "cell_type": "markdown",
   "metadata": {},
   "source": [
    "In Python an expression such as `a < x <= b` is legal and well-defined."
   ]
  },
  {
   "cell_type": "code",
   "execution_count": 1,
   "metadata": {},
   "outputs": [
    {
     "name": "stdout",
     "output_type": "stream",
     "text": [
      "1 < -2 <= 3: False\n",
      "1 < -1 <= 3: False\n",
      "1 < 0 <= 3: False\n",
      "1 < 1 <= 3: False\n",
      "1 < 2 <= 3: True\n",
      "1 < 3 <= 3: True\n",
      "1 < 4 <= 3: False\n"
     ]
    }
   ],
   "source": [
    "a, b = 1, 3\n",
    "for x in range(-2, 5):\n",
    "    if a < x <= b:\n",
    "        print(f'{a} < {x} <= {b}: True')\n",
    "    else:\n",
    "        print(f'{a} < {x} <= {b}: False')"
   ]
  },
  {
   "cell_type": "markdown",
   "metadata": {},
   "source": [
    "The code above can be simplified to:"
   ]
  },
  {
   "cell_type": "code",
   "execution_count": 3,
   "metadata": {},
   "outputs": [
    {
     "name": "stdout",
     "output_type": "stream",
     "text": [
      "1 < -2 <= 3: False\n",
      "1 < -1 <= 3: False\n",
      "1 <  0 <= 3: False\n",
      "1 <  1 <= 3: False\n",
      "1 <  2 <= 3: True\n",
      "1 <  3 <= 3: True\n",
      "1 <  4 <= 3: False\n"
     ]
    }
   ],
   "source": [
    "a, b = 1, 3\n",
    "for x in range(-2, 5):\n",
    "    print(f'{a} < {x:2d} <= {b}: {a < x <= b}')"
   ]
  },
  {
   "cell_type": "markdown",
   "metadata": {},
   "source": [
    "## Multiple equality, inequality"
   ]
  },
  {
   "cell_type": "markdown",
   "metadata": {},
   "source": [
    "Along the same lines, `a == b == x` is also legal and well-defined."
   ]
  },
  {
   "cell_type": "code",
   "execution_count": 4,
   "metadata": {},
   "outputs": [
    {
     "name": "stdout",
     "output_type": "stream",
     "text": [
      "0 == 0 == 1: False\n",
      "0 == 1 == 1: False\n",
      "0 == 2 == 1: False\n",
      "1 == 0 == 1: False\n",
      "1 == 1 == 1: True\n",
      "1 == 2 == 1: False\n",
      "2 == 0 == 1: False\n",
      "2 == 1 == 1: False\n",
      "2 == 2 == 1: False\n"
     ]
    }
   ],
   "source": [
    "for a in range(3):\n",
    "    for b in range(3):\n",
    "        print(f'{a} == {b} == 1: {a == b == 1}')"
   ]
  },
  {
   "cell_type": "markdown",
   "metadata": {},
   "source": [
    "Although `a != b != x` is legal as well, it may, at least at first sight, not behave as expected."
   ]
  },
  {
   "cell_type": "code",
   "execution_count": 5,
   "metadata": {},
   "outputs": [
    {
     "name": "stdout",
     "output_type": "stream",
     "text": [
      "0 != 0 != 1: False\n",
      "0 != 1 != 1: False\n",
      "0 != 2 != 1: True\n",
      "1 != 0 != 1: True\n",
      "1 != 1 != 1: False\n",
      "1 != 2 != 1: True\n",
      "2 != 0 != 1: True\n",
      "2 != 1 != 1: False\n",
      "2 != 2 != 1: False\n"
     ]
    }
   ],
   "source": [
    "for a in range(3):\n",
    "    for b in range(3):\n",
    "        print(f'{a} != {b} != 1: {a != b != 1}')"
   ]
  },
  {
   "cell_type": "markdown",
   "metadata": {},
   "source": [
    "From the above, it is clear that `a != b != x` translates to `a != b and b != c`, which is true when `a == c and a != b`."
   ]
  },
  {
   "cell_type": "markdown",
   "metadata": {},
   "source": [
    "## Iteration with `else`"
   ]
  },
  {
   "cell_type": "markdown",
   "metadata": {},
   "source": [
    "Iteration statements in Python, i.e., `for` and `while` can have an `else` block.  The latter is executed when the iteration statement terminates normally, i.e., not by a `bread` statement."
   ]
  },
  {
   "cell_type": "code",
   "execution_count": 6,
   "metadata": {
    "collapsed": true
   },
   "outputs": [],
   "source": [
    "def illustrate_for_else(x):\n",
    "    for i in range(10):\n",
    "        if i == x:\n",
    "            print('break')\n",
    "            break\n",
    "    else:\n",
    "        print('no break')"
   ]
  },
  {
   "cell_type": "code",
   "execution_count": 7,
   "metadata": {},
   "outputs": [
    {
     "name": "stdout",
     "output_type": "stream",
     "text": [
      "no break\n"
     ]
    }
   ],
   "source": [
    "illustrate_for_else(12)"
   ]
  },
  {
   "cell_type": "code",
   "execution_count": 8,
   "metadata": {},
   "outputs": [
    {
     "name": "stdout",
     "output_type": "stream",
     "text": [
      "break\n"
     ]
    }
   ],
   "source": [
    "illustrate_for_else(5)"
   ]
  },
  {
   "cell_type": "markdown",
   "metadata": {},
   "source": [
    "Although naming this syntactic construct `else` feels awkward, it is quite useful, since it is a syntactic shortcut for the following reasonably common construct."
   ]
  },
  {
   "cell_type": "code",
   "execution_count": 12,
   "metadata": {
    "collapsed": true
   },
   "outputs": [],
   "source": [
    "def illustrate_for_bool(x):\n",
    "    completed_succesfully = True\n",
    "    for i in range(10):\n",
    "        if i == x:\n",
    "            print('break')\n",
    "            completed_succesfully = False\n",
    "            break\n",
    "    if completed_succesfully:\n",
    "        print('no break')"
   ]
  },
  {
   "cell_type": "code",
   "execution_count": 13,
   "metadata": {},
   "outputs": [
    {
     "name": "stdout",
     "output_type": "stream",
     "text": [
      "no break\n"
     ]
    }
   ],
   "source": [
    "illustrate_for_bool(12)"
   ]
  },
  {
   "cell_type": "code",
   "execution_count": 14,
   "metadata": {},
   "outputs": [
    {
     "name": "stdout",
     "output_type": "stream",
     "text": [
      "break\n"
     ]
    }
   ],
   "source": [
    "illustrate_for_bool(5)"
   ]
  },
  {
   "cell_type": "markdown",
   "metadata": {},
   "source": [
    "The execution of `continue` has no influence on this."
   ]
  },
  {
   "cell_type": "code",
   "execution_count": 10,
   "metadata": {},
   "outputs": [
    {
     "name": "stdout",
     "output_type": "stream",
     "text": [
      "completed normally\n"
     ]
    }
   ],
   "source": [
    "for i in range(5):\n",
    "    if i > -1:\n",
    "        continue\n",
    "    print(f'did something for {i}')\n",
    "else:\n",
    "    print('completed normally')"
   ]
  },
  {
   "cell_type": "markdown",
   "metadata": {},
   "source": [
    "The `while` statement can have an `else` with the same semantics."
   ]
  }
 ],
 "metadata": {
  "kernelspec": {
   "display_name": "Python 3",
   "language": "python",
   "name": "python3"
  },
  "language_info": {
   "codemirror_mode": {
    "name": "ipython",
    "version": 3
   },
   "file_extension": ".py",
   "mimetype": "text/x-python",
   "name": "python",
   "nbconvert_exporter": "python",
   "pygments_lexer": "ipython3",
   "version": "3.6.2"
  }
 },
 "nbformat": 4,
 "nbformat_minor": 2
}
