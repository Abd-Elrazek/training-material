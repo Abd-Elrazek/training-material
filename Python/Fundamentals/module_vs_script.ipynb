{
 "cells": [
  {
   "cell_type": "markdown",
   "metadata": {},
   "source": [
    "# Module import vs. script and `__name__`"
   ]
  },
  {
   "cell_type": "markdown",
   "metadata": {},
   "source": [
    "The following code fragment can be either imported as a module, or run as a script."
   ]
  },
  {
   "cell_type": "code",
   "execution_count": 1,
   "metadata": {},
   "outputs": [
    {
     "name": "stdout",
     "output_type": "stream",
     "text": [
      "Writing module_vs_script.py\n"
     ]
    }
   ],
   "source": [
    "%%writefile module_vs_script.py\n",
    "import sys\n",
    "\n",
    "def say_hello(name):\n",
    "    print(f'hello {name}')\n",
    "\n",
    "if __name__ == '__main__':\n",
    "    print(f'# running as script, __name__ == {__name__}',\n",
    "          file=sys.stderr)\n",
    "    say_hello('gjb')\n",
    "else:\n",
    "    print(f'# import as module, __name__ == {__name__}',\n",
    "          file=sys.stderr)"
   ]
  },
  {
   "cell_type": "markdown",
   "metadata": {},
   "source": [
    "Run the file as a Python script. Used like this, the interpreter assigns the value `__main__` to the variable `__name__`."
   ]
  },
  {
   "cell_type": "code",
   "execution_count": 2,
   "metadata": {},
   "outputs": [
    {
     "name": "stdout",
     "output_type": "stream",
     "text": [
      "hello gjb\n"
     ]
    },
    {
     "name": "stderr",
     "output_type": "stream",
     "text": [
      "# running as script, __name__ == __main__\n"
     ]
    }
   ],
   "source": [
    "%run module_vs_script.py"
   ]
  },
  {
   "cell_type": "markdown",
   "metadata": {},
   "source": [
    "Import the file as a module. Note that the variable `__name__` now has the module name as its value."
   ]
  },
  {
   "cell_type": "code",
   "execution_count": 3,
   "metadata": {},
   "outputs": [
    {
     "name": "stdout",
     "output_type": "stream",
     "text": [
      "# import as module, __name__ == module_vs_script\r\n"
     ]
    }
   ],
   "source": [
    "!python -c 'from module_vs_script import say_hello'"
   ]
  }
 ],
 "metadata": {
  "kernelspec": {
   "display_name": "Python 3",
   "language": "python",
   "name": "python3"
  },
  "language_info": {
   "codemirror_mode": {
    "name": "ipython",
    "version": 3
   },
   "file_extension": ".py",
   "mimetype": "text/x-python",
   "name": "python",
   "nbconvert_exporter": "python",
   "pygments_lexer": "ipython3",
   "version": "3.6.2"
  }
 },
 "nbformat": 4,
 "nbformat_minor": 2
}
