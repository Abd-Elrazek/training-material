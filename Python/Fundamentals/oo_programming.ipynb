{
 "cells": [
  {
   "cell_type": "markdown",
   "metadata": {},
   "source": [
    "# Object oriented programming"
   ]
  },
  {
   "cell_type": "markdown",
   "metadata": {},
   "source": [
    "## Import modules"
   ]
  },
  {
   "cell_type": "code",
   "execution_count": 1,
   "metadata": {},
   "outputs": [],
   "source": [
    "from math import sqrt"
   ]
  },
  {
   "cell_type": "markdown",
   "metadata": {},
   "source": [
    "## Simple class definitions"
   ]
  },
  {
   "cell_type": "markdown",
   "metadata": {},
   "source": [
    "Define a simple class that represents a point in two dimensions."
   ]
  },
  {
   "cell_type": "code",
   "execution_count": 2,
   "metadata": {},
   "outputs": [],
   "source": [
    "class Point:\n",
    "    '''\n",
    "    objects of this class represent points in a 2D space, e.g.,\n",
    "    p1 = Point()\n",
    "    p1.x, p1.y = 5.3, 7.4\n",
    "    print(p1.x, p1.y)\n",
    "    p2 = Point()\n",
    "    p2.x, p2.y = 3.1, 9.7\n",
    "    print(p1.distance(p2))\n",
    "    '''\n",
    "    \n",
    "    # object attributes\n",
    "    x: float\n",
    "    y: float\n",
    "        \n",
    "    def distance(self, other):\n",
    "        '''\n",
    "        computes the distance between the point and another point\n",
    "        '''\n",
    "        return sqrt((self.x - other.x)**2 + (self.y - other.y)**2)"
   ]
  },
  {
   "cell_type": "markdown",
   "metadata": {},
   "source": [
    "A point has two attributes, its x and y coordinates. The function `distance_from_origin` is an object method, it will compute the point's distance to another point."
   ]
  },
  {
   "cell_type": "code",
   "execution_count": 3,
   "metadata": {},
   "outputs": [],
   "source": [
    "p1 = Point()"
   ]
  },
  {
   "cell_type": "code",
   "execution_count": 4,
   "metadata": {},
   "outputs": [],
   "source": [
    "p1.x, p1.y = 3.7, 5.3"
   ]
  },
  {
   "cell_type": "code",
   "execution_count": 5,
   "metadata": {},
   "outputs": [],
   "source": [
    "p2 = Point()"
   ]
  },
  {
   "cell_type": "code",
   "execution_count": 6,
   "metadata": {},
   "outputs": [],
   "source": [
    "p2.x, p2.y = 1.4, -7.9"
   ]
  },
  {
   "cell_type": "code",
   "execution_count": 7,
   "metadata": {},
   "outputs": [
    {
     "name": "stdout",
     "output_type": "stream",
     "text": [
      "3.7 5.3\n",
      "1.4 -7.9\n"
     ]
    }
   ],
   "source": [
    "print(p1.x, p1.y)\n",
    "print(p2.x, p2.y)"
   ]
  },
  {
   "cell_type": "code",
   "execution_count": 8,
   "metadata": {},
   "outputs": [
    {
     "data": {
      "text/plain": [
       "(13.398880550254935, 13.398880550254935)"
      ]
     },
     "execution_count": 8,
     "metadata": {},
     "output_type": "execute_result"
    }
   ],
   "source": [
    "p1.distance(p2), p2.distance(p1)"
   ]
  },
  {
   "cell_type": "markdown",
   "metadata": {},
   "source": [
    "However, this implementation is very brittle, e.g.,"
   ]
  },
  {
   "cell_type": "code",
   "execution_count": 9,
   "metadata": {},
   "outputs": [],
   "source": [
    "p1.x = 'abc'"
   ]
  },
  {
   "cell_type": "markdown",
   "metadata": {},
   "source": [
    "Although the assignment succeeds, trouble looms down the road, potentially much later during the execution of your code, so that it will be hard to trace the root cause of the problem."
   ]
  },
  {
   "cell_type": "code",
   "execution_count": 10,
   "metadata": {},
   "outputs": [
    {
     "name": "stderr",
     "output_type": "stream",
     "text": [
      "Traceback (most recent call last):\n",
      "  File \"<ipython-input-10-5cb7941f5648>\", line 2, in <module>\n",
      "    p1.distance(p2)\n",
      "  File \"<ipython-input-2-be09995efdfb>\", line 20, in distance\n",
      "    return sqrt((self.x - other.x)**2 + (self.y - other.y)**2)\n",
      "TypeError: unsupported operand type(s) for -: 'str' and 'float'\n"
     ]
    }
   ],
   "source": [
    "try:\n",
    "    p1.distance(p2)\n",
    "except Exception as error:\n",
    "    import traceback\n",
    "    traceback.print_exc()"
   ]
  },
  {
   "cell_type": "markdown",
   "metadata": {},
   "source": [
    "## Accessing attributes: getters and setters"
   ]
  },
  {
   "cell_type": "markdown",
   "metadata": {},
   "source": [
    "The class defined below is much more robust. When an inappropriate value is assigned to one of the coordinates, a ValueError exception will immediately be raised.  Note that we renamed the object attributes to `_x` and `_y` respectively. By convention, this implies that users of the class should not access the attribute directly.  This is merely a convention though, and hence is not enforced by the Python interpreter."
   ]
  },
  {
   "cell_type": "code",
   "execution_count": 11,
   "metadata": {
    "scrolled": true
   },
   "outputs": [],
   "source": [
    "class Point:\n",
    "    '''\n",
    "    objects of this class represent points in a 2D space, e.g.,\n",
    "    p1 = Point()\n",
    "    p1.x, p1.y = 5.3, 7.4\n",
    "    print(p1.x, p1.y)\n",
    "    p2 = Point()\n",
    "    p2.x, p2.y = 3.1, 9.7\n",
    "    print(p1.distance(p2))\n",
    "    '''\n",
    "\n",
    "    # object attributes\n",
    "    _x: float\n",
    "    _y: float\n",
    "    \n",
    "    @property\n",
    "    def x(self):\n",
    "        '''\n",
    "        get the point's x coordinate\n",
    "        '''\n",
    "        return self._x\n",
    "    \n",
    "    @x.setter\n",
    "    def x(self, value):\n",
    "        '''\n",
    "        set the point's x coordinate\n",
    "        '''\n",
    "        self._x = float(value)\n",
    "        \n",
    "    @property\n",
    "    def y(self):\n",
    "        '''\n",
    "        get the point's y coordinate\n",
    "        '''\n",
    "        return self._y\n",
    "\n",
    "    @y.setter\n",
    "    def y(self, value):\n",
    "        '''\n",
    "        set the point's y coordinate\n",
    "        '''\n",
    "        self._y = float(value)\n",
    "\n",
    "    def distance(self, other):\n",
    "        '''\n",
    "        computes the distance between the point and another point\n",
    "        '''\n",
    "        return sqrt((self.x - other.x)**2 + (self.y - other.y)**2)"
   ]
  },
  {
   "cell_type": "code",
   "execution_count": 12,
   "metadata": {},
   "outputs": [],
   "source": [
    "p1 = Point()\n",
    "p1.x = 3\n",
    "p1.y = 15.1"
   ]
  },
  {
   "cell_type": "code",
   "execution_count": 13,
   "metadata": {},
   "outputs": [],
   "source": [
    "p2 = Point()\n",
    "p2.x = '2.9'\n",
    "p2.y = 5.2"
   ]
  },
  {
   "cell_type": "code",
   "execution_count": 14,
   "metadata": {},
   "outputs": [
    {
     "name": "stdout",
     "output_type": "stream",
     "text": [
      "3.0 15.1 2.9 5.2\n"
     ]
    }
   ],
   "source": [
    "print(p1.x, p1.y, p2.x, p2.y)"
   ]
  },
  {
   "cell_type": "code",
   "execution_count": 15,
   "metadata": {},
   "outputs": [
    {
     "name": "stderr",
     "output_type": "stream",
     "text": [
      "Traceback (most recent call last):\n",
      "  File \"<ipython-input-15-4ba47fe8416e>\", line 2, in <module>\n",
      "    p1.x = 'abc'\n",
      "  File \"<ipython-input-11-9616e6ce7a1d>\", line 28, in x\n",
      "    self._x = float(value)\n",
      "ValueError: could not convert string to float: 'abc'\n"
     ]
    }
   ],
   "source": [
    "try:\n",
    "    p1.x = 'abc'\n",
    "except Exception as error:\n",
    "    import traceback\n",
    "    traceback.print_exc()"
   ]
  },
  {
   "cell_type": "markdown",
   "metadata": {},
   "source": [
    "Although this statement will still raise an error, it is much more informative, since the stack trace points to the actual culprit, i.e., the assignment to the x coordinate, rather than putting the blame on the `distance` method."
   ]
  },
  {
   "cell_type": "markdown",
   "metadata": {},
   "source": [
    "## Constructor and string representation"
   ]
  },
  {
   "cell_type": "markdown",
   "metadata": {},
   "source": [
    "It would be convenient to immediately specify a point's coordinates when it is created. The method `__init__` will be automatically called when a new `Point` object is created, and can be used to initialize the new object's attributes `_x` and `_y`."
   ]
  },
  {
   "cell_type": "code",
   "execution_count": 16,
   "metadata": {
    "scrolled": true
   },
   "outputs": [],
   "source": [
    "class Point:\n",
    "    '''\n",
    "    objects of this class represent points in a 2D space, e.g.,\n",
    "    p1 = Point()\n",
    "    p1.x, p1.y = 5.3, 7.4\n",
    "    print(p1.x, p1.y)\n",
    "    p2 = Point()\n",
    "    p2.x, p2.y = 3.1, 9.7\n",
    "    print(p1.distance(p2))\n",
    "    '''\n",
    "    \n",
    "    # object attributes\n",
    "    _x: float\n",
    "    _y: float\n",
    "    \n",
    "    def __init__(self, x, y):\n",
    "        '''\n",
    "        constructs a point with the given coordinates\n",
    "            x: float representing the x coordinate\n",
    "            y: float representing the y coordinate\n",
    "        '''\n",
    "        self.x = x\n",
    "        self.y = y\n",
    "        \n",
    "    @property\n",
    "    def x(self):\n",
    "        '''\n",
    "        get the point's x coordinate\n",
    "        '''\n",
    "        return self._x\n",
    "    \n",
    "    @x.setter\n",
    "    def x(self, value):\n",
    "        '''\n",
    "        set the point's x coordinate\n",
    "        '''\n",
    "        self._x = float(value)\n",
    "        \n",
    "    @property\n",
    "    def y(self):\n",
    "        '''\n",
    "        get the point's y coordinate\n",
    "        '''\n",
    "        return self._y\n",
    "\n",
    "    @y.setter\n",
    "    def y(self, value):\n",
    "        '''\n",
    "        set the point's y coordinate\n",
    "        '''\n",
    "        self._y = float(value)\n",
    "    \n",
    "    def distance(self, other):\n",
    "        '''\n",
    "        computes the distance between the point and another point\n",
    "        '''\n",
    "        return sqrt((self.x - other.x)**2 + (self.y - other.y)**2)\n",
    "    \n",
    "    def __repr__(self):\n",
    "        '''\n",
    "        get the point's string representation\n",
    "        '''\n",
    "        return f'({self.x}, {self.y})'"
   ]
  },
  {
   "cell_type": "markdown",
   "metadata": {},
   "source": [
    "Also note the `__repr__` method that returns a string representation of the `Point` object."
   ]
  },
  {
   "cell_type": "code",
   "execution_count": 19,
   "metadata": {},
   "outputs": [],
   "source": [
    "p1 = Point(3.4, 9.2)\n",
    "p2 = Point(5.6, 7.3)"
   ]
  },
  {
   "cell_type": "code",
   "execution_count": 20,
   "metadata": {},
   "outputs": [
    {
     "name": "stdout",
     "output_type": "stream",
     "text": [
      "(3.4, 9.2) (5.6, 7.3)\n"
     ]
    }
   ],
   "source": [
    "print(p1, p2)"
   ]
  }
 ],
 "metadata": {
  "kernelspec": {
   "display_name": "Python 3",
   "language": "python",
   "name": "python3"
  },
  "language_info": {
   "codemirror_mode": {
    "name": "ipython",
    "version": 3
   },
   "file_extension": ".py",
   "mimetype": "text/x-python",
   "name": "python",
   "nbconvert_exporter": "python",
   "pygments_lexer": "ipython3",
   "version": "3.6.5"
  }
 },
 "nbformat": 4,
 "nbformat_minor": 2
}
