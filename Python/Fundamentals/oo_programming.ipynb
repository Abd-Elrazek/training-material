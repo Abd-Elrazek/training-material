{
 "cells": [
  {
   "cell_type": "markdown",
   "metadata": {},
   "source": [
    "# Object oriented programming"
   ]
  },
  {
   "cell_type": "markdown",
   "metadata": {},
   "source": [
    "## Import modules"
   ]
  },
  {
   "cell_type": "code",
   "execution_count": null,
   "metadata": {},
   "outputs": [],
   "source": [
    "from math import sqrt"
   ]
  },
  {
   "cell_type": "markdown",
   "metadata": {},
   "source": [
    "## Simple class definitions"
   ]
  },
  {
   "cell_type": "markdown",
   "metadata": {},
   "source": [
    "Define a simple class that represents a point in two dimensions."
   ]
  },
  {
   "cell_type": "code",
   "execution_count": null,
   "metadata": {},
   "outputs": [],
   "source": [
    "class Point:\n",
    "    '''\n",
    "    objects of this class represent points in a 2D space, e.g.,\n",
    "    p1 = Point()\n",
    "    p1.x, p1.y = 5.3, 7.4\n",
    "    print(p1.x, p1.y)\n",
    "    p2 = Point()\n",
    "    p2.x, p2.y = 3.1, 9.7\n",
    "    print(p1.distance(p2))\n",
    "    '''\n",
    "    \n",
    "    # object attributes\n",
    "    x: float\n",
    "    y: float\n",
    "        \n",
    "    def distance(self, other):\n",
    "        '''\n",
    "        computes the distance between the point and another point\n",
    "        '''\n",
    "        return sqrt((self.x - other.x)**2 + (self.y - other.y)**2)"
   ]
  },
  {
   "cell_type": "markdown",
   "metadata": {},
   "source": [
    "A point has two attributes, its x and y coordinates. The function `distance_from_origin` is an object method, it will compute the point's distance to another point."
   ]
  },
  {
   "cell_type": "code",
   "execution_count": null,
   "metadata": {},
   "outputs": [],
   "source": [
    "p1 = Point()"
   ]
  },
  {
   "cell_type": "code",
   "execution_count": null,
   "metadata": {},
   "outputs": [],
   "source": [
    "p1.x, p1.y = 3.7, 5.3"
   ]
  },
  {
   "cell_type": "code",
   "execution_count": null,
   "metadata": {},
   "outputs": [],
   "source": [
    "p2 = Point()"
   ]
  },
  {
   "cell_type": "code",
   "execution_count": null,
   "metadata": {},
   "outputs": [],
   "source": [
    "p2.x, p2.y = 1.4, -7.9"
   ]
  },
  {
   "cell_type": "code",
   "execution_count": null,
   "metadata": {},
   "outputs": [],
   "source": [
    "print(p1.x, p1.y)\n",
    "print(p2.x, p2.y)"
   ]
  },
  {
   "cell_type": "code",
   "execution_count": null,
   "metadata": {},
   "outputs": [],
   "source": [
    "p1.distance(p2), p2.distance(p1)"
   ]
  },
  {
   "cell_type": "markdown",
   "metadata": {},
   "source": [
    "However, this implementation is very brittle, e.g.,"
   ]
  },
  {
   "cell_type": "code",
   "execution_count": null,
   "metadata": {},
   "outputs": [],
   "source": [
    "p1.x = 'abc'"
   ]
  },
  {
   "cell_type": "markdown",
   "metadata": {},
   "source": [
    "Although the assignment succeeds, trouble looms down the road, potentially much later during the execution of your code, so that it will be hard to trace the root cause of the problem."
   ]
  },
  {
   "cell_type": "code",
   "execution_count": null,
   "metadata": {},
   "outputs": [],
   "source": [
    "try:\n",
    "    p1.distance(p2)\n",
    "except Exception as error:\n",
    "    import traceback\n",
    "    traceback.print_exc()"
   ]
  },
  {
   "cell_type": "markdown",
   "metadata": {},
   "source": [
    "## Accessing attributes: getters and setters"
   ]
  },
  {
   "cell_type": "markdown",
   "metadata": {},
   "source": [
    "The class defined below is much more robust. When an inappropriate value is assigned to one of the coordinates, a ValueError exception will immediately be raised.  Note that we renamed the object attributes to `_x` and `_y` respectively. By convention, this implies that users of the class should not access the attribute directly.  This is merely a convention though, and hence is not enforced by the Python interpreter."
   ]
  },
  {
   "cell_type": "code",
   "execution_count": null,
   "metadata": {
    "scrolled": true
   },
   "outputs": [],
   "source": [
    "class Point:\n",
    "    '''\n",
    "    objects of this class represent points in a 2D space, e.g.,\n",
    "    p1 = Point()\n",
    "    p1.x, p1.y = 5.3, 7.4\n",
    "    print(p1.x, p1.y)\n",
    "    p2 = Point()\n",
    "    p2.x, p2.y = 3.1, 9.7\n",
    "    print(p1.distance(p2))\n",
    "    '''\n",
    "\n",
    "    # object attributes\n",
    "    _x: float\n",
    "    _y: float\n",
    "    \n",
    "    @property\n",
    "    def x(self):\n",
    "        '''\n",
    "        get the point's x coordinate\n",
    "        '''\n",
    "        return self._x\n",
    "    \n",
    "    @x.setter\n",
    "    def x(self, value):\n",
    "        '''\n",
    "        set the point's x coordinate\n",
    "        '''\n",
    "        self._x = float(value)\n",
    "        \n",
    "    @property\n",
    "    def y(self):\n",
    "        '''\n",
    "        get the point's y coordinate\n",
    "        '''\n",
    "        return self._y\n",
    "\n",
    "    @y.setter\n",
    "    def y(self, value):\n",
    "        '''\n",
    "        set the point's y coordinate\n",
    "        '''\n",
    "        self._y = float(value)\n",
    "\n",
    "    def distance(self, other):\n",
    "        '''\n",
    "        computes the distance between the point and another point\n",
    "        '''\n",
    "        return sqrt((self.x - other.x)**2 + (self.y - other.y)**2)"
   ]
  },
  {
   "cell_type": "code",
   "execution_count": null,
   "metadata": {},
   "outputs": [],
   "source": [
    "p1 = Point()\n",
    "p1.x = 3\n",
    "p1.y = 15.1"
   ]
  },
  {
   "cell_type": "code",
   "execution_count": null,
   "metadata": {},
   "outputs": [],
   "source": [
    "p2 = Point()\n",
    "p2.x = '2.9'\n",
    "p2.y = 5.2"
   ]
  },
  {
   "cell_type": "code",
   "execution_count": null,
   "metadata": {},
   "outputs": [],
   "source": [
    "print(p1.x, p1.y, p2.x, p2.y)"
   ]
  },
  {
   "cell_type": "code",
   "execution_count": null,
   "metadata": {},
   "outputs": [],
   "source": [
    "try:\n",
    "    p1.x = 'abc'\n",
    "except Exception as error:\n",
    "    import traceback\n",
    "    traceback.print_exc()"
   ]
  },
  {
   "cell_type": "markdown",
   "metadata": {},
   "source": [
    "Although this statement will still raise an error, it is much more informative, since the stack trace points to the actual culprit, i.e., the assignment to the x coordinate, rather than putting the blame on the `distance` method."
   ]
  },
  {
   "cell_type": "markdown",
   "metadata": {},
   "source": [
    "## Constructor and string representation"
   ]
  },
  {
   "cell_type": "markdown",
   "metadata": {},
   "source": [
    "It would be convenient to immediately specify a point's coordinates when it is created. The method `__init__` will be automatically called when a new `Point` object is created, and can be used to initialize the new object's attributes `_x` and `_y`."
   ]
  },
  {
   "cell_type": "code",
   "execution_count": null,
   "metadata": {
    "scrolled": true
   },
   "outputs": [],
   "source": [
    "class Point:\n",
    "    '''\n",
    "    objects of this class represent points in a 2D space, e.g.,\n",
    "    p1 = Point(5.3, 7.4)\n",
    "    print(p1.x, p1.y)\n",
    "    p2 = Point(3.1, 9.7)\n",
    "    print(p2)\n",
    "    print(p1.distance(p2))\n",
    "    '''\n",
    "    \n",
    "    # object attributes\n",
    "    _x: float\n",
    "    _y: float\n",
    "    \n",
    "    def __init__(self, x, y):\n",
    "        '''\n",
    "        constructs a point with the given coordinates\n",
    "            x: float representing the x coordinate\n",
    "            y: float representing the y coordinate\n",
    "        '''\n",
    "        self.x = x\n",
    "        self.y = y\n",
    "        \n",
    "    @property\n",
    "    def x(self):\n",
    "        '''\n",
    "        get the point's x coordinate\n",
    "        '''\n",
    "        return self._x\n",
    "    \n",
    "    @x.setter\n",
    "    def x(self, value):\n",
    "        '''\n",
    "        set the point's x coordinate\n",
    "        '''\n",
    "        self._x = float(value)\n",
    "        \n",
    "    @property\n",
    "    def y(self):\n",
    "        '''\n",
    "        get the point's y coordinate\n",
    "        '''\n",
    "        return self._y\n",
    "\n",
    "    @y.setter\n",
    "    def y(self, value):\n",
    "        '''\n",
    "        set the point's y coordinate\n",
    "        '''\n",
    "        self._y = float(value)\n",
    "    \n",
    "    def distance(self, other):\n",
    "        '''\n",
    "        computes the distance between the point and another point\n",
    "        '''\n",
    "        return sqrt((self.x - other.x)**2 + (self.y - other.y)**2)\n",
    "    \n",
    "    def __repr__(self):\n",
    "        '''\n",
    "        get the point's string representation\n",
    "        '''\n",
    "        return f'({self.x}, {self.y})'"
   ]
  },
  {
   "cell_type": "markdown",
   "metadata": {},
   "source": [
    "Also note the `__repr__` method that returns a string representation of the `Point` object."
   ]
  },
  {
   "cell_type": "code",
   "execution_count": null,
   "metadata": {},
   "outputs": [],
   "source": [
    "p1 = Point(3.4, 9.2)\n",
    "p2 = Point(5.6, 7.3)"
   ]
  },
  {
   "cell_type": "code",
   "execution_count": null,
   "metadata": {},
   "outputs": [],
   "source": [
    "print(p1, p2)"
   ]
  },
  {
   "cell_type": "markdown",
   "metadata": {},
   "source": [
    "## Inheritance"
   ]
  },
  {
   "cell_type": "markdown",
   "metadata": {},
   "source": [
    "The `Point` class can be extended to represent point masses. One option would be to modifies `Point`'s definition to include and extra object attribute, and add relevant methods to the class. However, that would potentially break existing software, or at least add unnecessary complexity when using `Point` objects.  The better option is to define a new class that inherits attributes and methods from `Point`, but adds the specific logic to represent points that have mass."
   ]
  },
  {
   "cell_type": "code",
   "execution_count": null,
   "metadata": {},
   "outputs": [],
   "source": [
    "class PointMass(Point):\n",
    "    '''\n",
    "    objects of this class represent points in a 2D space, e.g.,\n",
    "    p1 = PointMass(5.3, 7.4, 1.3)\n",
    "    print(p1.x, p1.y, p1.mass)\n",
    "    p2 = Point(3.1, 9.7, 0.9)\n",
    "    print(p2)\n",
    "    print(p1.distance(p2))\n",
    "    '''\n",
    "    \n",
    "    # object attributes\n",
    "    _mass: float\n",
    "        \n",
    "    def __init__(self, x, y, mass):\n",
    "        '''\n",
    "        constructs a point with the given coordinates and mass\n",
    "            x: float representing the x coordinate\n",
    "            y: float representing the y coordinate\n",
    "            mass: float representing the mass\n",
    "        '''\n",
    "        super().__init__(x, y)\n",
    "        self.mass = mass\n",
    "        \n",
    "    @property\n",
    "    def mass(self):\n",
    "        '''\n",
    "        get the point's mass\n",
    "        '''\n",
    "        return self._mass\n",
    "    \n",
    "    @mass.setter\n",
    "    def mass(self, value):\n",
    "        '''\n",
    "        set the point's mass\n",
    "        '''\n",
    "        self._mass = float(value)\n",
    "   \n",
    "    @staticmethod\n",
    "    def total_mass(points):\n",
    "        mass = 0.0\n",
    "        for point in points:\n",
    "            mass += point.mass\n",
    "        return mass\n",
    "    \n",
    "    @classmethod\n",
    "    def center_of_mass(cls, points):\n",
    "        x, y = 0.0, 0.0\n",
    "        for point in points:\n",
    "            x += point.mass*point.x\n",
    "            y += point.mass*point.y\n",
    "        mass = cls.total_mass(points)\n",
    "        return x/mass, y/mass\n",
    "        \n",
    "    def __repr__(self):\n",
    "        '''\n",
    "        get the point's string representation\n",
    "        '''\n",
    "        return f'{super().__repr__()}: {self.mass}'"
   ]
  },
  {
   "cell_type": "markdown",
   "metadata": {},
   "source": [
    "The `PointMass` class add the `_mass` attributes and its getter and setter, and has its own construvtor that calls `Point`'s constructor.  Similarly, the `__repr__` method uses the one defined in `Point` to generate part of the string representation for a `PointMass` object.\n",
    "\n",
    "The `total_mass` and `center_of_mass` methods operate on collections of point masses, not on individual objects.  Hence they are defined as static and class method respectively.  `center_of_mass` is a class methods, since it needs a reference to the class to call `total_mass`."
   ]
  },
  {
   "cell_type": "code",
   "execution_count": null,
   "metadata": {},
   "outputs": [],
   "source": [
    "p1 = PointMass(1.0, 3.0, 2.0)\n",
    "p2 = PointMass(-2.0, 1.0, 3.0)"
   ]
  },
  {
   "cell_type": "markdown",
   "metadata": {},
   "source": [
    "All methods defined for `Point` objects work for `PointMass` objects."
   ]
  },
  {
   "cell_type": "code",
   "execution_count": null,
   "metadata": {},
   "outputs": [],
   "source": [
    "p1.distance(p2)"
   ]
  },
  {
   "cell_type": "code",
   "execution_count": null,
   "metadata": {},
   "outputs": [],
   "source": [
    "PointMass.total_mass([p1, p2])"
   ]
  },
  {
   "cell_type": "code",
   "execution_count": null,
   "metadata": {},
   "outputs": [],
   "source": [
    "PointMass.center_of_mass([p1, p2])"
   ]
  }
 ],
 "metadata": {
  "kernelspec": {
   "display_name": "Python 3",
   "language": "python",
   "name": "python3"
  },
  "language_info": {
   "codemirror_mode": {
    "name": "ipython",
    "version": 3
   },
   "file_extension": ".py",
   "mimetype": "text/x-python",
   "name": "python",
   "nbconvert_exporter": "python",
   "pygments_lexer": "ipython3",
   "version": "3.6.5"
  }
 },
 "nbformat": 4,
 "nbformat_minor": 2
}
