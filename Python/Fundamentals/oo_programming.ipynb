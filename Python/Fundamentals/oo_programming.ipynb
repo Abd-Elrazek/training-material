{
 "cells": [
  {
   "cell_type": "markdown",
   "metadata": {},
   "source": [
    "# Object oriented programming"
   ]
  },
  {
   "cell_type": "markdown",
   "metadata": {},
   "source": [
    "## Import modules"
   ]
  },
  {
   "cell_type": "code",
   "execution_count": 1,
   "metadata": {},
   "outputs": [],
   "source": [
    "from math import sqrt"
   ]
  },
  {
   "cell_type": "markdown",
   "metadata": {},
   "source": [
    "## Simple class definitions"
   ]
  },
  {
   "cell_type": "markdown",
   "metadata": {},
   "source": [
    "Define a simple class that represents a point in two dimensions."
   ]
  },
  {
   "cell_type": "code",
   "execution_count": 2,
   "metadata": {},
   "outputs": [],
   "source": [
    "class Point:\n",
    "    '''\n",
    "    objects of this class represent points in a 2D space, e.g.,\n",
    "    p1 = Point()\n",
    "    p1.x, p1.y = 5.3, 7.4\n",
    "    print(p1.x, p1.y)\n",
    "    p2 = Point()\n",
    "    p2.x, p2.y = 3.1, 9.7\n",
    "    print(p1.distance(p2))\n",
    "    '''\n",
    "    \n",
    "    # object attributes\n",
    "    x: float\n",
    "    y: float\n",
    "        \n",
    "    def distance(self, other):\n",
    "        '''\n",
    "        computes the distance between the point and another point\n",
    "        '''\n",
    "        return sqrt((self.x - other.x)**2 + (self.y - other.y)**2)"
   ]
  },
  {
   "cell_type": "markdown",
   "metadata": {},
   "source": [
    "A point has two attributes, its x and y coordinates. The function `distance_from_origin` is an object method, it will compute the point's distance to another point."
   ]
  },
  {
   "cell_type": "code",
   "execution_count": 3,
   "metadata": {},
   "outputs": [],
   "source": [
    "p1 = Point()"
   ]
  },
  {
   "cell_type": "code",
   "execution_count": 4,
   "metadata": {},
   "outputs": [],
   "source": [
    "p1.x, p1.y = 3.7, 5.3"
   ]
  },
  {
   "cell_type": "code",
   "execution_count": 5,
   "metadata": {},
   "outputs": [],
   "source": [
    "p2 = Point()"
   ]
  },
  {
   "cell_type": "code",
   "execution_count": 6,
   "metadata": {},
   "outputs": [],
   "source": [
    "p2.x, p2.y = 1.4, -7.9"
   ]
  },
  {
   "cell_type": "code",
   "execution_count": 7,
   "metadata": {},
   "outputs": [
    {
     "name": "stdout",
     "output_type": "stream",
     "text": [
      "3.7 5.3\n",
      "1.4 -7.9\n"
     ]
    }
   ],
   "source": [
    "print(p1.x, p1.y)\n",
    "print(p2.x, p2.y)"
   ]
  },
  {
   "cell_type": "code",
   "execution_count": 8,
   "metadata": {},
   "outputs": [
    {
     "data": {
      "text/plain": [
       "(13.398880550254935, 13.398880550254935)"
      ]
     },
     "execution_count": 8,
     "metadata": {},
     "output_type": "execute_result"
    }
   ],
   "source": [
    "p1.distance(p2), p2.distance(p1)"
   ]
  },
  {
   "cell_type": "markdown",
   "metadata": {},
   "source": [
    "However, this implementation is very brittle, e.g.,"
   ]
  },
  {
   "cell_type": "code",
   "execution_count": 9,
   "metadata": {},
   "outputs": [],
   "source": [
    "p1.x = 'abc'"
   ]
  },
  {
   "cell_type": "markdown",
   "metadata": {},
   "source": [
    "Although the assignment succeeds, trouble looms down the road, potentially much later during the execution of your code, so that it will be hard to trace the root cause of the problem."
   ]
  },
  {
   "cell_type": "code",
   "execution_count": 10,
   "metadata": {},
   "outputs": [
    {
     "name": "stderr",
     "output_type": "stream",
     "text": [
      "Traceback (most recent call last):\n",
      "  File \"<ipython-input-10-5cb7941f5648>\", line 2, in <module>\n",
      "    p1.distance(p2)\n",
      "  File \"<ipython-input-2-be09995efdfb>\", line 20, in distance\n",
      "    return sqrt((self.x - other.x)**2 + (self.y - other.y)**2)\n",
      "TypeError: unsupported operand type(s) for -: 'str' and 'float'\n"
     ]
    }
   ],
   "source": [
    "try:\n",
    "    p1.distance(p2)\n",
    "except Exception as error:\n",
    "    import traceback\n",
    "    traceback.print_exc()"
   ]
  },
  {
   "cell_type": "markdown",
   "metadata": {},
   "source": [
    "## Accessing attributes: getters and setters"
   ]
  },
  {
   "cell_type": "markdown",
   "metadata": {},
   "source": [
    "The class defined below is much more robust. When an inappropriate value is assigned to one of the coordinates, a ValueError exception will immediately be raised.  Note that we renamed the object attributes to `_x` and `_y` respectively. By convention, this implies that users of the class should not access the attribute directly.  This is merely a convention though, and hence is not enforced by the Python interpreter."
   ]
  },
  {
   "cell_type": "code",
   "execution_count": 11,
   "metadata": {
    "scrolled": true
   },
   "outputs": [],
   "source": [
    "class Point:\n",
    "    '''\n",
    "    objects of this class represent points in a 2D space, e.g.,\n",
    "    p1 = Point()\n",
    "    p1.x, p1.y = 5.3, 7.4\n",
    "    print(p1.x, p1.y)\n",
    "    p2 = Point()\n",
    "    p2.x, p2.y = 3.1, 9.7\n",
    "    print(p1.distance(p2))\n",
    "    '''\n",
    "\n",
    "    # object attributes\n",
    "    _x: float\n",
    "    _y: float\n",
    "    \n",
    "    @property\n",
    "    def x(self):\n",
    "        '''\n",
    "        get the point's x coordinate\n",
    "        '''\n",
    "        return self._x\n",
    "    \n",
    "    @x.setter\n",
    "    def x(self, value):\n",
    "        '''\n",
    "        set the point's x coordinate\n",
    "        '''\n",
    "        self._x = float(value)\n",
    "        \n",
    "    @property\n",
    "    def y(self):\n",
    "        '''\n",
    "        get the point's y coordinate\n",
    "        '''\n",
    "        return self._y\n",
    "\n",
    "    @y.setter\n",
    "    def y(self, value):\n",
    "        '''\n",
    "        set the point's y coordinate\n",
    "        '''\n",
    "        self._y = float(value)\n",
    "\n",
    "    def distance(self, other):\n",
    "        '''\n",
    "        computes the distance between the point and another point\n",
    "        '''\n",
    "        return sqrt((self.x - other.x)**2 + (self.y - other.y)**2)"
   ]
  },
  {
   "cell_type": "code",
   "execution_count": 12,
   "metadata": {},
   "outputs": [],
   "source": [
    "p1 = Point()\n",
    "p1.x = 3\n",
    "p1.y = 15.1"
   ]
  },
  {
   "cell_type": "code",
   "execution_count": 13,
   "metadata": {},
   "outputs": [],
   "source": [
    "p2 = Point()\n",
    "p2.x = '2.9'\n",
    "p2.y = 5.2"
   ]
  },
  {
   "cell_type": "code",
   "execution_count": 14,
   "metadata": {},
   "outputs": [
    {
     "name": "stdout",
     "output_type": "stream",
     "text": [
      "3.0 15.1 2.9 5.2\n"
     ]
    }
   ],
   "source": [
    "print(p1.x, p1.y, p2.x, p2.y)"
   ]
  },
  {
   "cell_type": "code",
   "execution_count": 15,
   "metadata": {},
   "outputs": [
    {
     "name": "stderr",
     "output_type": "stream",
     "text": [
      "Traceback (most recent call last):\n",
      "  File \"<ipython-input-15-4ba47fe8416e>\", line 2, in <module>\n",
      "    p1.x = 'abc'\n",
      "  File \"<ipython-input-11-9616e6ce7a1d>\", line 28, in x\n",
      "    self._x = float(value)\n",
      "ValueError: could not convert string to float: 'abc'\n"
     ]
    }
   ],
   "source": [
    "try:\n",
    "    p1.x = 'abc'\n",
    "except Exception as error:\n",
    "    import traceback\n",
    "    traceback.print_exc()"
   ]
  },
  {
   "cell_type": "markdown",
   "metadata": {},
   "source": [
    "Although this statement will still raise an error, it is much more informative, since the stack trace points to the actual culprit, i.e., the assignment to the x coordinate, rather than putting the blame on the `distance` method."
   ]
  },
  {
   "cell_type": "markdown",
   "metadata": {},
   "source": [
    "## Constructor and string representation"
   ]
  },
  {
   "cell_type": "markdown",
   "metadata": {},
   "source": [
    "It would be convenient to immediately specify a point's coordinates when it is created. The method `__init__` will be automatically called when a new `Point` object is created, and can be used to initialize the new object's attributes `_x` and `_y`."
   ]
  },
  {
   "cell_type": "code",
   "execution_count": 26,
   "metadata": {
    "scrolled": true
   },
   "outputs": [],
   "source": [
    "class Point:\n",
    "    '''\n",
    "    objects of this class represent points in a 2D space, e.g.,\n",
    "    p1 = Point(5.3, 7.4)\n",
    "    print(p1.x, p1.y)\n",
    "    p2 = Point(3.1, 9.7)\n",
    "    print(p2)\n",
    "    print(p1.distance(p2))\n",
    "    '''\n",
    "    \n",
    "    # object attributes\n",
    "    _x: float\n",
    "    _y: float\n",
    "    \n",
    "    def __init__(self, x, y):\n",
    "        '''\n",
    "        constructs a point with the given coordinates\n",
    "            x: float representing the x coordinate\n",
    "            y: float representing the y coordinate\n",
    "        '''\n",
    "        self.x = x\n",
    "        self.y = y\n",
    "        \n",
    "    @property\n",
    "    def x(self):\n",
    "        '''\n",
    "        get the point's x coordinate\n",
    "        '''\n",
    "        return self._x\n",
    "    \n",
    "    @x.setter\n",
    "    def x(self, value):\n",
    "        '''\n",
    "        set the point's x coordinate\n",
    "        '''\n",
    "        self._x = float(value)\n",
    "        \n",
    "    @property\n",
    "    def y(self):\n",
    "        '''\n",
    "        get the point's y coordinate\n",
    "        '''\n",
    "        return self._y\n",
    "\n",
    "    @y.setter\n",
    "    def y(self, value):\n",
    "        '''\n",
    "        set the point's y coordinate\n",
    "        '''\n",
    "        self._y = float(value)\n",
    "    \n",
    "    def distance(self, other):\n",
    "        '''\n",
    "        computes the distance between the point and another point\n",
    "        '''\n",
    "        return sqrt((self.x - other.x)**2 + (self.y - other.y)**2)\n",
    "    \n",
    "    def __repr__(self):\n",
    "        '''\n",
    "        get the point's string representation\n",
    "        '''\n",
    "        return f'({self.x}, {self.y})'"
   ]
  },
  {
   "cell_type": "markdown",
   "metadata": {},
   "source": [
    "Also note the `__repr__` method that returns a string representation of the `Point` object."
   ]
  },
  {
   "cell_type": "code",
   "execution_count": 17,
   "metadata": {},
   "outputs": [],
   "source": [
    "p1 = Point(3.4, 9.2)\n",
    "p2 = Point(5.6, 7.3)"
   ]
  },
  {
   "cell_type": "code",
   "execution_count": 18,
   "metadata": {},
   "outputs": [
    {
     "name": "stdout",
     "output_type": "stream",
     "text": [
      "(3.4, 9.2) (5.6, 7.3)\n"
     ]
    }
   ],
   "source": [
    "print(p1, p2)"
   ]
  },
  {
   "cell_type": "markdown",
   "metadata": {},
   "source": [
    "## Inheritance"
   ]
  },
  {
   "cell_type": "markdown",
   "metadata": {},
   "source": [
    "The `Point` class can be extended to represent point masses. One option would be to modifies `Point`'s definition to include and extra object attribute, and add relevant methods to the class. However, that would potentially break existing software, or at least add unnecessary complexity when using `Point` objects.  The better option is to define a new class that inherits attributes and methods from `Point`, but adds the specific logic to represent points that have mass."
   ]
  },
  {
   "cell_type": "code",
   "execution_count": 19,
   "metadata": {},
   "outputs": [],
   "source": [
    "class PointMass(Point):\n",
    "    '''\n",
    "    objects of this class represent points in a 2D space, e.g.,\n",
    "    p1 = PointMass(5.3, 7.4, 1.3)\n",
    "    print(p1.x, p1.y, p1.mass)\n",
    "    p2 = Point(3.1, 9.7, 0.9)\n",
    "    print(p2)\n",
    "    print(p1.distance(p2))\n",
    "    '''\n",
    "    \n",
    "    # object attributes\n",
    "    _mass: float\n",
    "        \n",
    "    def __init__(self, x, y, mass):\n",
    "        '''\n",
    "        constructs a point with the given coordinates and mass\n",
    "            x: float representing the x coordinate\n",
    "            y: float representing the y coordinate\n",
    "            mass: float representing the mass\n",
    "        '''\n",
    "        super().__init__(x, y)\n",
    "        self.mass = mass\n",
    "        \n",
    "    @property\n",
    "    def mass(self):\n",
    "        '''\n",
    "        get the point's mass\n",
    "        '''\n",
    "        return self._mass\n",
    "    \n",
    "    @mass.setter\n",
    "    def mass(self, value):\n",
    "        '''\n",
    "        set the point's mass\n",
    "        '''\n",
    "        self._mass = float(value)\n",
    "        \n",
    "    def __repr__(self):\n",
    "        '''\n",
    "        get the point's string representation\n",
    "        '''\n",
    "        return f'{super().__repr__()}: {self.mass}'"
   ]
  },
  {
   "cell_type": "markdown",
   "metadata": {},
   "source": [
    "The `PointMass` class add the `_mass` attributes and its getter and setter, and has its own construvtor that calls `Point`'s constructor.  Similarly, the `__repr__` method uses the one defined in `Point` to generate part of the string representation for a `PointMass` object."
   ]
  },
  {
   "cell_type": "code",
   "execution_count": 20,
   "metadata": {},
   "outputs": [],
   "source": [
    "p1 = PointMass(1.0, 3.0, 2.0)\n",
    "p2 = PointMass(-2.0, 1.0, 3.0)"
   ]
  },
  {
   "cell_type": "markdown",
   "metadata": {},
   "source": [
    "All methods defined for `Point` objects work for `PointMass` objects."
   ]
  },
  {
   "cell_type": "code",
   "execution_count": 21,
   "metadata": {},
   "outputs": [
    {
     "data": {
      "text/plain": [
       "3.605551275463989"
      ]
     },
     "execution_count": 21,
     "metadata": {},
     "output_type": "execute_result"
    }
   ],
   "source": [
    "p1.distance(p2)"
   ]
  },
  {
   "cell_type": "code",
   "execution_count": 24,
   "metadata": {},
   "outputs": [
    {
     "name": "stdout",
     "output_type": "stream",
     "text": [
      "(1.0, 3.0): 2.0\n"
     ]
    }
   ],
   "source": [
    "print(p1)"
   ]
  },
  {
   "cell_type": "markdown",
   "metadata": {},
   "source": [
    "Type information on objects is fairly straightforward using the `type` and `instanceof` functions."
   ]
  },
  {
   "cell_type": "code",
   "execution_count": 30,
   "metadata": {},
   "outputs": [],
   "source": [
    "p1 = Point(3.4, 5.2)\n",
    "p2 = PointMass(1.9, 2.3, 0.7)"
   ]
  },
  {
   "cell_type": "code",
   "execution_count": 35,
   "metadata": {},
   "outputs": [
    {
     "name": "stdout",
     "output_type": "stream",
     "text": [
      "<class '__main__.Point'> <class '__main__.PointMass'>\n"
     ]
    }
   ],
   "source": [
    "print(type(p1), type(p2))"
   ]
  },
  {
   "cell_type": "code",
   "execution_count": 34,
   "metadata": {},
   "outputs": [
    {
     "name": "stdout",
     "output_type": "stream",
     "text": [
      "True False True True\n"
     ]
    }
   ],
   "source": [
    "print(isinstance(p1, Point), isinstance(p1, PointMass), isinstance(p2, Point), isinstance(p2, PointMass))"
   ]
  },
  {
   "cell_type": "markdown",
   "metadata": {},
   "source": [
    "As expected, `p1` is a `Point`, but not a `PointMass`, while `p2` is both a `PointMass` and a `Point` since by definition each `PointMass` is a `Point`.  `Point` is `PointMass` base class, while `PointMass` is a class derived from `Point`."
   ]
  },
  {
   "cell_type": "markdown",
   "metadata": {},
   "source": [
    "## Static and class methods, class attributes"
   ]
  },
  {
   "cell_type": "markdown",
   "metadata": {},
   "source": [
    "The `total_mass` and `center_of_mass` methods operate on collections of point masses, not on individual objects.  Hence they are defined as static and class method respectively.  `center_of_mass` is a class methods, since it needs a reference to the class to call `total_mass`."
   ]
  },
  {
   "cell_type": "code",
   "execution_count": 27,
   "metadata": {},
   "outputs": [],
   "source": [
    "class PointMass(Point):\n",
    "    '''\n",
    "    objects of this class represent points in a 2D space, e.g.,\n",
    "    p1 = PointMass(5.3, 7.4, 1.3)\n",
    "    print(p1.x, p1.y, p1.mass)\n",
    "    p2 = Point(3.1, 9.7, 0.9)\n",
    "    print(p2)\n",
    "    print(p1.distance(p2))\n",
    "    '''\n",
    "    \n",
    "    # object attributes\n",
    "    _mass: float\n",
    "        \n",
    "    def __init__(self, x, y, mass):\n",
    "        '''\n",
    "        constructs a point with the given coordinates and mass\n",
    "            x: float representing the x coordinate\n",
    "            y: float representing the y coordinate\n",
    "            mass: float representing the mass\n",
    "        '''\n",
    "        super().__init__(x, y)\n",
    "        self.mass = mass\n",
    "        \n",
    "    @property\n",
    "    def mass(self):\n",
    "        '''\n",
    "        get the point's mass\n",
    "        '''\n",
    "        return self._mass\n",
    "    \n",
    "    @mass.setter\n",
    "    def mass(self, value):\n",
    "        '''\n",
    "        set the point's mass\n",
    "        '''\n",
    "        self._mass = float(value)\n",
    "   \n",
    "    @staticmethod\n",
    "    def total_mass(points):\n",
    "        mass = 0.0\n",
    "        for point in points:\n",
    "            mass += point.mass\n",
    "        return mass\n",
    "    \n",
    "    @classmethod\n",
    "    def center_of_mass(cls, points):\n",
    "        x, y = 0.0, 0.0\n",
    "        for point in points:\n",
    "            x += point.mass*point.x\n",
    "            y += point.mass*point.y\n",
    "        mass = cls.total_mass(points)\n",
    "        return x/mass, y/mass\n",
    "        \n",
    "    def __repr__(self):\n",
    "        '''\n",
    "        get the point's string representation\n",
    "        '''\n",
    "        return f'{super().__repr__()}: {self.mass}'"
   ]
  },
  {
   "cell_type": "code",
   "execution_count": 22,
   "metadata": {},
   "outputs": [
    {
     "data": {
      "text/plain": [
       "5.0"
      ]
     },
     "execution_count": 22,
     "metadata": {},
     "output_type": "execute_result"
    }
   ],
   "source": [
    "PointMass.total_mass([p1, p2])"
   ]
  },
  {
   "cell_type": "code",
   "execution_count": 23,
   "metadata": {},
   "outputs": [
    {
     "data": {
      "text/plain": [
       "(-0.8, 1.8)"
      ]
     },
     "execution_count": 23,
     "metadata": {},
     "output_type": "execute_result"
    }
   ],
   "source": [
    "PointMass.center_of_mass([p1, p2])"
   ]
  },
  {
   "cell_type": "markdown",
   "metadata": {},
   "source": [
    "Suppose we would like each point mass to have a unique identifier.  This can be accomplished if we can keep track of the number of instanciated objects, and use that number as the ID of a newly created one."
   ]
  },
  {
   "cell_type": "code",
   "execution_count": 39,
   "metadata": {},
   "outputs": [],
   "source": [
    "class PointMass(Point):\n",
    "    '''\n",
    "    objects of this class represent points in a 2D space, e.g.,\n",
    "    p1 = PointMass(5.3, 7.4, 1.3)\n",
    "    print(p1.x, p1.y, p1.mass)\n",
    "    p2 = Point(3.1, 9.7, 0.9)\n",
    "    print(p2)\n",
    "    print(p1.distance(p2))\n",
    "    '''\n",
    "    \n",
    "    # class attribute\n",
    "    _id_state = 0\n",
    "    # object attributes\n",
    "    _mass: float\n",
    "    _id: int\n",
    "        \n",
    "    def __init__(self, x, y, mass):\n",
    "        '''\n",
    "        constructs a point with the given coordinates and mass\n",
    "            x: float representing the x coordinate\n",
    "            y: float representing the y coordinate\n",
    "            mass: float representing the mass\n",
    "        '''\n",
    "        super().__init__(x, y)\n",
    "        self.mass = mass\n",
    "        self._id = self.__class__._id_state\n",
    "        self.__class__._id_state += 1\n",
    "        \n",
    "    @property\n",
    "    def id(self):\n",
    "        '''\n",
    "        get the point's ID\n",
    "        '''\n",
    "        return self._id\n",
    "    \n",
    "    @property\n",
    "    def mass(self):\n",
    "        '''\n",
    "        get the point's mass\n",
    "        '''\n",
    "        return self._mass\n",
    "    \n",
    "    @mass.setter\n",
    "    def mass(self, value):\n",
    "        '''\n",
    "        set the point's mass\n",
    "        '''\n",
    "        self._mass = float(value)\n",
    "   \n",
    "    @staticmethod\n",
    "    def total_mass(points):\n",
    "        mass = 0.0\n",
    "        for point in points:\n",
    "            mass += point.mass\n",
    "        return mass\n",
    "    \n",
    "    @classmethod\n",
    "    def center_of_mass(cls, points):\n",
    "        x, y = 0.0, 0.0\n",
    "        for point in points:\n",
    "            x += point.mass*point.x\n",
    "            y += point.mass*point.y\n",
    "        mass = cls.total_mass(points)\n",
    "        return x/mass, y/mass\n",
    "        \n",
    "    def __repr__(self):\n",
    "        '''\n",
    "        get the point's string representation\n",
    "        '''\n",
    "        return f'{super().__repr__()}: {self.mass}'"
   ]
  },
  {
   "cell_type": "markdown",
   "metadata": {},
   "source": [
    "Note that we define a getter for the `id` attribute, but no setter.  Modifying a point's ID would probably mess up functionality that depends on IDs being unique."
   ]
  },
  {
   "cell_type": "code",
   "execution_count": 40,
   "metadata": {},
   "outputs": [],
   "source": [
    "p1 = PointMass(0.3, 1.8, 2.5)\n",
    "p2 = PointMass(1.9, -2.1, 0.3)"
   ]
  },
  {
   "cell_type": "code",
   "execution_count": 41,
   "metadata": {},
   "outputs": [
    {
     "name": "stdout",
     "output_type": "stream",
     "text": [
      "0 1\n"
     ]
    }
   ],
   "source": [
    "print(p1.id, p2.id)"
   ]
  },
  {
   "cell_type": "markdown",
   "metadata": {},
   "source": [
    "## Introspection"
   ]
  },
  {
   "cell_type": "markdown",
   "metadata": {},
   "source": [
    "In some circumstances, it can be useful to determine properties of an object at runtime, e.g., whether it has an attribute or a method."
   ]
  },
  {
   "cell_type": "code",
   "execution_count": null,
   "metadata": {},
   "outputs": [],
   "source": []
  }
 ],
 "metadata": {
  "kernelspec": {
   "display_name": "Python 3",
   "language": "python",
   "name": "python3"
  },
  "language_info": {
   "codemirror_mode": {
    "name": "ipython",
    "version": 3
   },
   "file_extension": ".py",
   "mimetype": "text/x-python",
   "name": "python",
   "nbconvert_exporter": "python",
   "pygments_lexer": "ipython3",
   "version": "3.6.5"
  }
 },
 "nbformat": 4,
 "nbformat_minor": 2
}
