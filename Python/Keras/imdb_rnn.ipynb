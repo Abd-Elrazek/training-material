{
 "cells": [
  {
   "cell_type": "markdown",
   "metadata": {},
   "source": [
    "# IMDB: recursive neural networks"
   ]
  },
  {
   "cell_type": "markdown",
   "metadata": {},
   "source": [
    "## Data preprocessing"
   ]
  },
  {
   "cell_type": "markdown",
   "metadata": {},
   "source": [
    "### Required imports"
   ]
  },
  {
   "cell_type": "code",
   "execution_count": 7,
   "metadata": {},
   "outputs": [],
   "source": [
    "from keras.datasets import imdb\n",
    "from keras.preprocessing import sequence\n",
    "import numpy as np\n",
    "from sklearn.model_selection import train_test_split"
   ]
  },
  {
   "cell_type": "markdown",
   "metadata": {},
   "source": [
    "### Processing"
   ]
  },
  {
   "cell_type": "markdown",
   "metadata": {},
   "source": [
    "Load the training and test data."
   ]
  },
  {
   "cell_type": "code",
   "execution_count": 2,
   "metadata": {},
   "outputs": [],
   "source": [
    "(x_train, y_train), (x_test, y_test) = imdb.load_data()"
   ]
  },
  {
   "cell_type": "markdown",
   "metadata": {},
   "source": [
    "Since the review vary in length, and we prefer to limit the computation time, we will base the classification on the first 100 features of each input sequence."
   ]
  },
  {
   "cell_type": "code",
   "execution_count": 3,
   "metadata": {},
   "outputs": [],
   "source": [
    "feature_length = 100\n",
    "x_train = sequence.pad_sequences(x_train, maxlen=feature_length)\n",
    "x_test = sequence.pad_sequences(x_test, maxlen=feature_length)"
   ]
  },
  {
   "cell_type": "markdown",
   "metadata": {},
   "source": [
    "Again, to limit computation time, we restrict the number of features to 5000.  This means we map all features with an index of 20000 or more to 0."
   ]
  },
  {
   "cell_type": "code",
   "execution_count": 4,
   "metadata": {},
   "outputs": [],
   "source": [
    "nr_features = 5_000\n",
    "x_train[x_train > nr_features - 1] = 0\n",
    "x_test[x_test > nr_features - 1] = 0"
   ]
  },
  {
   "cell_type": "markdown",
   "metadata": {},
   "source": [
    "Now the training and test input are 2D arrays. We split the training set into a subset for actual training, and one for validation.  First we seed the random number generator to ensure reproducibility. In this case, we will use part of the 25000 test examples as valiation data."
   ]
  },
  {
   "cell_type": "code",
   "execution_count": 8,
   "metadata": {},
   "outputs": [],
   "source": [
    "np.random.seed(1234)"
   ]
  },
  {
   "cell_type": "code",
   "execution_count": 9,
   "metadata": {},
   "outputs": [],
   "source": [
    "x_test, x_val, y_test, y_val = train_test_split(x_test, y_test)"
   ]
  },
  {
   "cell_type": "markdown",
   "metadata": {},
   "source": [
    "## Model defintion"
   ]
  },
  {
   "cell_type": "markdown",
   "metadata": {},
   "source": [
    "### Required imports"
   ]
  },
  {
   "cell_type": "code",
   "execution_count": 14,
   "metadata": {},
   "outputs": [],
   "source": [
    "from keras.layers import Activation, Dense, Dropout\n",
    "from keras.layers.embeddings import Embedding\n",
    "from keras.layers.recurrent import GRU\n",
    "from keras.models import Sequential\n",
    "from keras.optimizers import Adam"
   ]
  },
  {
   "cell_type": "markdown",
   "metadata": {},
   "source": [
    "Again, to limit training times, we restrict ourselfs to using a limited number of features."
   ]
  },
  {
   "cell_type": "code",
   "execution_count": 24,
   "metadata": {},
   "outputs": [],
   "source": [
    "model = Sequential()\n",
    "model.add(Embedding(nr_features, 64, mask_zero=True,\n",
    "                    input_length=feature_length))\n",
    "model.add(GRU(64))\n",
    "model.add(Dropout(0.7))\n",
    "model.add(Dense(1))\n",
    "model.add(Activation('sigmoid'))"
   ]
  },
  {
   "cell_type": "code",
   "execution_count": 25,
   "metadata": {},
   "outputs": [],
   "source": [
    "model.compile(loss='binary_crossentropy', optimizer=Adam(),\n",
    "              metrics=['accuracy'])"
   ]
  },
  {
   "cell_type": "markdown",
   "metadata": {},
   "source": [
    "##    Training"
   ]
  },
  {
   "cell_type": "code",
   "execution_count": 26,
   "metadata": {
    "scrolled": true
   },
   "outputs": [
    {
     "name": "stdout",
     "output_type": "stream",
     "text": [
      "Train on 25000 samples, validate on 6250 samples\n",
      "Epoch 1/10\n",
      "25000/25000 [==============================] - 85s 3ms/step - loss: 0.4612 - acc: 0.7732 - val_loss: 0.3691 - val_acc: 0.8411\n",
      "Epoch 2/10\n",
      "25000/25000 [==============================] - 75s 3ms/step - loss: 0.3118 - acc: 0.8734 - val_loss: 0.3512 - val_acc: 0.8506\n",
      "Epoch 3/10\n",
      "25000/25000 [==============================] - 80s 3ms/step - loss: 0.2771 - acc: 0.8901 - val_loss: 0.3691 - val_acc: 0.8443\n",
      "Epoch 4/10\n",
      "25000/25000 [==============================] - 173s 7ms/step - loss: 0.2358 - acc: 0.9085 - val_loss: 0.3753 - val_acc: 0.8390\n",
      "Epoch 5/10\n",
      "25000/25000 [==============================] - 96s 4ms/step - loss: 0.1977 - acc: 0.9267 - val_loss: 0.4224 - val_acc: 0.8402\n",
      "Epoch 6/10\n",
      "25000/25000 [==============================] - 108s 4ms/step - loss: 0.1641 - acc: 0.9414 - val_loss: 0.5014 - val_acc: 0.8275\n",
      "Epoch 7/10\n",
      "25000/25000 [==============================] - 98s 4ms/step - loss: 0.1425 - acc: 0.9496 - val_loss: 0.5060 - val_acc: 0.8374\n",
      "Epoch 8/10\n",
      "25000/25000 [==============================] - 95s 4ms/step - loss: 0.1157 - acc: 0.9602 - val_loss: 0.5480 - val_acc: 0.8355\n",
      "Epoch 9/10\n",
      "25000/25000 [==============================] - 98s 4ms/step - loss: 0.0999 - acc: 0.9663 - val_loss: 0.6352 - val_acc: 0.8339\n",
      "Epoch 10/10\n",
      "25000/25000 [==============================] - 94s 4ms/step - loss: 0.0798 - acc: 0.9738 - val_loss: 0.6203 - val_acc: 0.8155\n"
     ]
    }
   ],
   "source": [
    "history = model.fit(x_train, y_train, batch_size=64, epochs=10,\n",
    "                    validation_data=(x_val, y_val))"
   ]
  },
  {
   "cell_type": "markdown",
   "metadata": {},
   "source": [
    "The training accuracy is much better than the validation accurcy, so the model is likely heavily overtrained."
   ]
  },
  {
   "cell_type": "code",
   "execution_count": 27,
   "metadata": {},
   "outputs": [
    {
     "name": "stdout",
     "output_type": "stream",
     "text": [
      "18750/18750 [==============================] - 31s 2ms/step\n"
     ]
    },
    {
     "data": {
      "text/plain": [
       "[0.5877906380399068, 0.8167999999809266]"
      ]
     },
     "execution_count": 27,
     "metadata": {},
     "output_type": "execute_result"
    }
   ],
   "source": [
    "model.evaluate(x_test, y_test)"
   ]
  }
 ],
 "metadata": {
  "kernelspec": {
   "display_name": "Python 3",
   "language": "python",
   "name": "python3"
  },
  "language_info": {
   "codemirror_mode": {
    "name": "ipython",
    "version": 3
   },
   "file_extension": ".py",
   "mimetype": "text/x-python",
   "name": "python",
   "nbconvert_exporter": "python",
   "pygments_lexer": "ipython3",
   "version": "3.6.6"
  }
 },
 "nbformat": 4,
 "nbformat_minor": 2
}
