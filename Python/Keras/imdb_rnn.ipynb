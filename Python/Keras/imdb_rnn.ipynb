{
 "cells": [
  {
   "cell_type": "markdown",
   "metadata": {},
   "source": [
    "# IMDB: recursive neural networks"
   ]
  },
  {
   "cell_type": "markdown",
   "metadata": {},
   "source": [
    "## Data preprocessing"
   ]
  },
  {
   "cell_type": "markdown",
   "metadata": {},
   "source": [
    "### Required imports"
   ]
  },
  {
   "cell_type": "code",
   "execution_count": 1,
   "metadata": {},
   "outputs": [
    {
     "name": "stderr",
     "output_type": "stream",
     "text": [
      "Using TensorFlow backend.\n"
     ]
    }
   ],
   "source": [
    "from keras.datasets import imdb\n",
    "from keras.preprocessing import sequence\n",
    "import numpy as np\n",
    "from sklearn.model_selection import train_test_split"
   ]
  },
  {
   "cell_type": "markdown",
   "metadata": {},
   "source": [
    "### Processing"
   ]
  },
  {
   "cell_type": "markdown",
   "metadata": {},
   "source": [
    "Load the training and test data.  To limit computation time, we restrict the number of words to 5,000."
   ]
  },
  {
   "cell_type": "code",
   "execution_count": 2,
   "metadata": {},
   "outputs": [],
   "source": [
    "num_words = 5_000\n",
    "(x_train, y_train), (x_test, y_test) = imdb.load_data(num_words=num_words)"
   ]
  },
  {
   "cell_type": "markdown",
   "metadata": {},
   "source": [
    "Since the review vary in length, and we prefer to limit the computation time, we will base the classification on the first 100 features of each input sequence."
   ]
  },
  {
   "cell_type": "code",
   "execution_count": 3,
   "metadata": {},
   "outputs": [],
   "source": [
    "feature_length = 100\n",
    "x_train = sequence.pad_sequences(x_train, maxlen=feature_length)\n",
    "x_test = sequence.pad_sequences(x_test, maxlen=feature_length)"
   ]
  },
  {
   "cell_type": "markdown",
   "metadata": {},
   "source": [
    "Now the training and test input are 2D arrays. We split the training set into a subset for actual training, and one for validation.  First we seed the random number generator to ensure reproducibility. In this case, we will use part of the 25000 test examples as valiation data."
   ]
  },
  {
   "cell_type": "code",
   "execution_count": 4,
   "metadata": {},
   "outputs": [],
   "source": [
    "np.random.seed(1234)"
   ]
  },
  {
   "cell_type": "code",
   "execution_count": 5,
   "metadata": {},
   "outputs": [],
   "source": [
    "x_train, x_val, y_train, y_val = train_test_split(x_train, y_train)"
   ]
  },
  {
   "cell_type": "markdown",
   "metadata": {},
   "source": [
    "## GRU"
   ]
  },
  {
   "cell_type": "markdown",
   "metadata": {},
   "source": [
    "### Required imports & model definition"
   ]
  },
  {
   "cell_type": "code",
   "execution_count": 6,
   "metadata": {},
   "outputs": [],
   "source": [
    "from keras.layers import Activation, Dense, Dropout\n",
    "from keras.layers.embeddings import Embedding\n",
    "from keras.layers.recurrent import GRU\n",
    "from keras.models import Sequential\n",
    "from keras.optimizers import Adam"
   ]
  },
  {
   "cell_type": "markdown",
   "metadata": {},
   "source": [
    "Again, to limit training times, we restrict ourselfs to using a limited number of features."
   ]
  },
  {
   "cell_type": "code",
   "execution_count": 7,
   "metadata": {},
   "outputs": [],
   "source": [
    "vector_length = 64\n",
    "num_units = 64\n",
    "model = Sequential()\n",
    "model.add(Embedding(num_words, vector_length, mask_zero=True,\n",
    "                    input_length=feature_length))\n",
    "model.add(GRU(num_units))\n",
    "model.add(Dropout(0.5))\n",
    "model.add(Dense(1))\n",
    "model.add(Activation('sigmoid'))"
   ]
  },
  {
   "cell_type": "code",
   "execution_count": 8,
   "metadata": {},
   "outputs": [
    {
     "name": "stdout",
     "output_type": "stream",
     "text": [
      "_________________________________________________________________\n",
      "Layer (type)                 Output Shape              Param #   \n",
      "=================================================================\n",
      "embedding_1 (Embedding)      (None, 100, 64)           320000    \n",
      "_________________________________________________________________\n",
      "gru_1 (GRU)                  (None, 64)                24768     \n",
      "_________________________________________________________________\n",
      "dropout_1 (Dropout)          (None, 64)                0         \n",
      "_________________________________________________________________\n",
      "dense_1 (Dense)              (None, 1)                 65        \n",
      "_________________________________________________________________\n",
      "activation_1 (Activation)    (None, 1)                 0         \n",
      "=================================================================\n",
      "Total params: 344,833\n",
      "Trainable params: 344,833\n",
      "Non-trainable params: 0\n",
      "_________________________________________________________________\n"
     ]
    }
   ],
   "source": [
    "model.summary()"
   ]
  },
  {
   "cell_type": "code",
   "execution_count": 9,
   "metadata": {},
   "outputs": [],
   "source": [
    "model.compile(loss='binary_crossentropy', optimizer=Adam(),\n",
    "              metrics=['accuracy'])"
   ]
  },
  {
   "cell_type": "markdown",
   "metadata": {},
   "source": [
    "###    Training"
   ]
  },
  {
   "cell_type": "code",
   "execution_count": 10,
   "metadata": {
    "scrolled": true
   },
   "outputs": [
    {
     "name": "stdout",
     "output_type": "stream",
     "text": [
      "Train on 18750 samples, validate on 6250 samples\n",
      "Epoch 1/10\n",
      "18750/18750 [==============================] - 52s 3ms/step - loss: 0.4887 - acc: 0.7486 - val_loss: 0.3762 - val_acc: 0.8371\n",
      "Epoch 2/10\n",
      "18750/18750 [==============================] - 52s 3ms/step - loss: 0.3100 - acc: 0.8725 - val_loss: 0.3487 - val_acc: 0.8466\n",
      "Epoch 3/10\n",
      "18750/18750 [==============================] - 61s 3ms/step - loss: 0.2666 - acc: 0.8947 - val_loss: 0.3572 - val_acc: 0.8418\n",
      "Epoch 4/10\n",
      "18750/18750 [==============================] - 54s 3ms/step - loss: 0.2284 - acc: 0.9125 - val_loss: 0.3969 - val_acc: 0.8418\n",
      "Epoch 5/10\n",
      "18750/18750 [==============================] - 49s 3ms/step - loss: 0.1908 - acc: 0.9288 - val_loss: 0.4025 - val_acc: 0.8440\n",
      "Epoch 6/10\n",
      "18750/18750 [==============================] - 55s 3ms/step - loss: 0.1577 - acc: 0.9418 - val_loss: 0.4363 - val_acc: 0.8398\n",
      "Epoch 7/10\n",
      "18750/18750 [==============================] - 54s 3ms/step - loss: 0.1205 - acc: 0.9583 - val_loss: 0.4833 - val_acc: 0.8312\n",
      "Epoch 8/10\n",
      "18750/18750 [==============================] - 53s 3ms/step - loss: 0.0998 - acc: 0.9650 - val_loss: 0.5878 - val_acc: 0.8272\n",
      "Epoch 9/10\n",
      "18750/18750 [==============================] - 57s 3ms/step - loss: 0.0791 - acc: 0.9744 - val_loss: 0.6624 - val_acc: 0.8309\n",
      "Epoch 10/10\n",
      "18750/18750 [==============================] - 57s 3ms/step - loss: 0.0649 - acc: 0.9792 - val_loss: 0.7792 - val_acc: 0.8258\n"
     ]
    }
   ],
   "source": [
    "history = model.fit(x_train, y_train, batch_size=64, epochs=10,\n",
    "                    validation_data=(x_val, y_val))"
   ]
  },
  {
   "cell_type": "markdown",
   "metadata": {},
   "source": [
    "The training accuracy is much better than the validation accurcy, so the model is likely heavily overtrained."
   ]
  },
  {
   "cell_type": "markdown",
   "metadata": {},
   "source": [
    "### Testing"
   ]
  },
  {
   "cell_type": "code",
   "execution_count": 11,
   "metadata": {},
   "outputs": [
    {
     "name": "stdout",
     "output_type": "stream",
     "text": [
      "25000/25000 [==============================] - 27s 1ms/step\n"
     ]
    },
    {
     "data": {
      "text/plain": [
       "[0.7891314828014374, 0.8184]"
      ]
     },
     "execution_count": 11,
     "metadata": {},
     "output_type": "execute_result"
    }
   ],
   "source": [
    "model.evaluate(x_test, y_test)"
   ]
  },
  {
   "cell_type": "markdown",
   "metadata": {},
   "source": [
    "## LSTM"
   ]
  },
  {
   "cell_type": "markdown",
   "metadata": {},
   "source": [
    "### Required imports & model definition"
   ]
  },
  {
   "cell_type": "code",
   "execution_count": 12,
   "metadata": {},
   "outputs": [],
   "source": [
    "from keras.layers.recurrent import LSTM"
   ]
  },
  {
   "cell_type": "markdown",
   "metadata": {},
   "source": [
    "Again, to limit training times, we restrict ourselfs to using a limited number of features."
   ]
  },
  {
   "cell_type": "code",
   "execution_count": 13,
   "metadata": {},
   "outputs": [],
   "source": [
    "vector_length = 64\n",
    "num_units = 64\n",
    "model = Sequential()\n",
    "model.add(Embedding(num_words, vector_length, mask_zero=True,\n",
    "                    input_length=feature_length))\n",
    "model.add(LSTM(num_units))\n",
    "model.add(Dropout(0.5))\n",
    "model.add(Dense(1))\n",
    "model.add(Activation('sigmoid'))"
   ]
  },
  {
   "cell_type": "code",
   "execution_count": 14,
   "metadata": {},
   "outputs": [
    {
     "name": "stdout",
     "output_type": "stream",
     "text": [
      "_________________________________________________________________\n",
      "Layer (type)                 Output Shape              Param #   \n",
      "=================================================================\n",
      "embedding_2 (Embedding)      (None, 100, 64)           320000    \n",
      "_________________________________________________________________\n",
      "lstm_1 (LSTM)                (None, 64)                33024     \n",
      "_________________________________________________________________\n",
      "dropout_2 (Dropout)          (None, 64)                0         \n",
      "_________________________________________________________________\n",
      "dense_2 (Dense)              (None, 1)                 65        \n",
      "_________________________________________________________________\n",
      "activation_2 (Activation)    (None, 1)                 0         \n",
      "=================================================================\n",
      "Total params: 353,089\n",
      "Trainable params: 353,089\n",
      "Non-trainable params: 0\n",
      "_________________________________________________________________\n"
     ]
    }
   ],
   "source": [
    "model.summary()"
   ]
  },
  {
   "cell_type": "code",
   "execution_count": 15,
   "metadata": {},
   "outputs": [],
   "source": [
    "model.compile(loss='binary_crossentropy', optimizer=Adam(),\n",
    "              metrics=['accuracy'])"
   ]
  },
  {
   "cell_type": "markdown",
   "metadata": {},
   "source": [
    "###    Training"
   ]
  },
  {
   "cell_type": "code",
   "execution_count": 16,
   "metadata": {
    "scrolled": false
   },
   "outputs": [
    {
     "name": "stdout",
     "output_type": "stream",
     "text": [
      "Train on 18750 samples, validate on 6250 samples\n",
      "Epoch 1/10\n",
      "18750/18750 [==============================] - 68s 4ms/step - loss: 0.4706 - acc: 0.7644 - val_loss: 0.3472 - val_acc: 0.8518\n",
      "Epoch 2/10\n",
      "18750/18750 [==============================] - 68s 4ms/step - loss: 0.3061 - acc: 0.8759 - val_loss: 0.3585 - val_acc: 0.8365\n",
      "Epoch 3/10\n",
      "18750/18750 [==============================] - 70s 4ms/step - loss: 0.2570 - acc: 0.8951 - val_loss: 0.3720 - val_acc: 0.8427\n",
      "Epoch 4/10\n",
      "18750/18750 [==============================] - 62s 3ms/step - loss: 0.2221 - acc: 0.9147 - val_loss: 0.4102 - val_acc: 0.8390\n",
      "Epoch 5/10\n",
      "18750/18750 [==============================] - 66s 3ms/step - loss: 0.1798 - acc: 0.9315 - val_loss: 0.4257 - val_acc: 0.8354\n",
      "Epoch 6/10\n",
      "18750/18750 [==============================] - 81s 4ms/step - loss: 0.1551 - acc: 0.9431 - val_loss: 0.4375 - val_acc: 0.8299\n",
      "Epoch 7/10\n",
      "18750/18750 [==============================] - 77s 4ms/step - loss: 0.1352 - acc: 0.9499 - val_loss: 0.5219 - val_acc: 0.8253\n",
      "Epoch 8/10\n",
      "18750/18750 [==============================] - 67s 4ms/step - loss: 0.1264 - acc: 0.9542 - val_loss: 0.5920 - val_acc: 0.8235\n",
      "Epoch 9/10\n",
      "18750/18750 [==============================] - 67s 4ms/step - loss: 0.1204 - acc: 0.9551 - val_loss: 0.6159 - val_acc: 0.8306\n",
      "Epoch 10/10\n",
      "18750/18750 [==============================] - 78s 4ms/step - loss: 0.0843 - acc: 0.9719 - val_loss: 0.6294 - val_acc: 0.8184\n"
     ]
    }
   ],
   "source": [
    "history = model.fit(x_train, y_train, batch_size=64, epochs=10,\n",
    "                    validation_data=(x_val, y_val))"
   ]
  },
  {
   "cell_type": "markdown",
   "metadata": {},
   "source": [
    "The training accuracy is much better than the validation accurcy, so the model is likely heavily overtrained."
   ]
  },
  {
   "cell_type": "markdown",
   "metadata": {},
   "source": [
    "### Testing"
   ]
  },
  {
   "cell_type": "code",
   "execution_count": 17,
   "metadata": {},
   "outputs": [
    {
     "name": "stdout",
     "output_type": "stream",
     "text": [
      "25000/25000 [==============================] - 48s 2ms/step\n"
     ]
    },
    {
     "data": {
      "text/plain": [
       "[0.643139419708252, 0.8162]"
      ]
     },
     "execution_count": 17,
     "metadata": {},
     "output_type": "execute_result"
    }
   ],
   "source": [
    "model.evaluate(x_test, y_test)"
   ]
  },
  {
   "cell_type": "code",
   "execution_count": null,
   "metadata": {},
   "outputs": [],
   "source": []
  }
 ],
 "metadata": {
  "kernelspec": {
   "display_name": "Python 3",
   "language": "python",
   "name": "python3"
  },
  "language_info": {
   "codemirror_mode": {
    "name": "ipython",
    "version": 3
   },
   "file_extension": ".py",
   "mimetype": "text/x-python",
   "name": "python",
   "nbconvert_exporter": "python",
   "pygments_lexer": "ipython3",
   "version": "3.6.8"
  }
 },
 "nbformat": 4,
 "nbformat_minor": 2
}
