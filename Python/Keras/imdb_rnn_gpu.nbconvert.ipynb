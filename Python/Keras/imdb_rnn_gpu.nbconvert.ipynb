{
 "cells": [
  {
   "cell_type": "markdown",
   "metadata": {},
   "source": [
    "# IMDB: recursive neural networks"
   ]
  },
  {
   "cell_type": "markdown",
   "metadata": {},
   "source": [
    "## Data preprocessing"
   ]
  },
  {
   "cell_type": "markdown",
   "metadata": {},
   "source": [
    "### Required imports"
   ]
  },
  {
   "cell_type": "code",
   "execution_count": 1,
   "metadata": {},
   "outputs": [
    {
     "name": "stderr",
     "output_type": "stream",
     "text": [
      "Using TensorFlow backend.\n"
     ]
    }
   ],
   "source": [
    "from keras.datasets import imdb\n",
    "from keras.preprocessing import sequence\n",
    "import numpy as np\n",
    "from sklearn.model_selection import train_test_split"
   ]
  },
  {
   "cell_type": "markdown",
   "metadata": {},
   "source": [
    "### Processing"
   ]
  },
  {
   "cell_type": "markdown",
   "metadata": {},
   "source": [
    "Load the training and test data.  To limit computation time, we restrict the number of words to 5,000."
   ]
  },
  {
   "cell_type": "code",
   "execution_count": 2,
   "metadata": {},
   "outputs": [],
   "source": [
    "num_words = 5_000\n",
    "(x_train, y_train), (x_test, y_test) = imdb.load_data(num_words=num_words)"
   ]
  },
  {
   "cell_type": "markdown",
   "metadata": {},
   "source": [
    "Since the review vary in length, and we prefer to limit the computation time, we will base the classification on the first 100 features of each input sequence."
   ]
  },
  {
   "cell_type": "code",
   "execution_count": 3,
   "metadata": {},
   "outputs": [],
   "source": [
    "feature_length = 100\n",
    "x_train = sequence.pad_sequences(x_train, maxlen=feature_length)\n",
    "x_test = sequence.pad_sequences(x_test, maxlen=feature_length)"
   ]
  },
  {
   "cell_type": "markdown",
   "metadata": {},
   "source": [
    "Now the training and test input are 2D arrays. We split the training set into a subset for actual training, and one for validation.  First we seed the random number generator to ensure reproducibility. In this case, we will use part of the 25000 test examples as valiation data."
   ]
  },
  {
   "cell_type": "code",
   "execution_count": 4,
   "metadata": {},
   "outputs": [],
   "source": [
    "np.random.seed(1234)"
   ]
  },
  {
   "cell_type": "code",
   "execution_count": 5,
   "metadata": {},
   "outputs": [],
   "source": [
    "x_train, x_val, y_train, y_val = train_test_split(x_train, y_train)"
   ]
  },
  {
   "cell_type": "markdown",
   "metadata": {},
   "source": [
    "## GRU"
   ]
  },
  {
   "cell_type": "markdown",
   "metadata": {},
   "source": [
    "### Required imports & model definition"
   ]
  },
  {
   "cell_type": "code",
   "execution_count": 6,
   "metadata": {},
   "outputs": [],
   "source": [
    "from keras.layers import Activation, Dense, Dropout\n",
    "from keras.layers.embeddings import Embedding\n",
    "from keras.layers.recurrent import GRU\n",
    "from keras.models import Sequential\n",
    "from keras.optimizers import Adam"
   ]
  },
  {
   "cell_type": "markdown",
   "metadata": {},
   "source": [
    "Again, to limit training times, we restrict ourselfs to using a limited number of features."
   ]
  },
  {
   "cell_type": "code",
   "execution_count": 7,
   "metadata": {},
   "outputs": [],
   "source": [
    "vector_length = 64\n",
    "num_units = 64\n",
    "model = Sequential()\n",
    "model.add(Embedding(num_words, vector_length, mask_zero=True,\n",
    "                    input_length=feature_length))\n",
    "model.add(GRU(num_units))\n",
    "model.add(Dropout(0.5))\n",
    "model.add(Dense(1))\n",
    "model.add(Activation('sigmoid'))"
   ]
  },
  {
   "cell_type": "code",
   "execution_count": 8,
   "metadata": {},
   "outputs": [
    {
     "name": "stdout",
     "output_type": "stream",
     "text": [
      "_________________________________________________________________\n",
      "Layer (type)                 Output Shape              Param #   \n",
      "=================================================================\n",
      "embedding_1 (Embedding)      (None, 100, 64)           320000    \n",
      "_________________________________________________________________\n",
      "gru_1 (GRU)                  (None, 64)                24768     \n",
      "_________________________________________________________________\n",
      "dropout_1 (Dropout)          (None, 64)                0         \n",
      "_________________________________________________________________\n",
      "dense_1 (Dense)              (None, 1)                 65        \n",
      "_________________________________________________________________\n",
      "activation_1 (Activation)    (None, 1)                 0         \n",
      "=================================================================\n",
      "Total params: 344,833\n",
      "Trainable params: 344,833\n",
      "Non-trainable params: 0\n",
      "_________________________________________________________________\n"
     ]
    }
   ],
   "source": [
    "model.summary()"
   ]
  },
  {
   "cell_type": "code",
   "execution_count": 9,
   "metadata": {},
   "outputs": [],
   "source": [
    "model.compile(loss='binary_crossentropy', optimizer=Adam(),\n",
    "              metrics=['accuracy'])"
   ]
  },
  {
   "cell_type": "markdown",
   "metadata": {},
   "source": [
    "###    Training"
   ]
  },
  {
   "cell_type": "code",
   "execution_count": 10,
   "metadata": {
    "scrolled": true
   },
   "outputs": [
    {
     "name": "stdout",
     "output_type": "stream",
     "text": [
      "Train on 18750 samples, validate on 6250 samples\n",
      "Epoch 1/10\n",
      "18750/18750 [==============================] - 64s 3ms/step - loss: 0.4901 - acc: 0.7486 - val_loss: 0.3740 - val_acc: 0.8347\n",
      "Epoch 2/10\n",
      "18750/18750 [==============================] - 62s 3ms/step - loss: 0.3103 - acc: 0.8728 - val_loss: 0.3482 - val_acc: 0.8461\n",
      "Epoch 3/10\n",
      "18750/18750 [==============================] - 61s 3ms/step - loss: 0.2661 - acc: 0.8943 - val_loss: 0.3587 - val_acc: 0.8427\n",
      "Epoch 4/10\n",
      "18750/18750 [==============================] - 61s 3ms/step - loss: 0.2276 - acc: 0.9132 - val_loss: 0.3999 - val_acc: 0.8408\n",
      "Epoch 5/10\n",
      "18750/18750 [==============================] - 61s 3ms/step - loss: 0.1908 - acc: 0.9294 - val_loss: 0.4125 - val_acc: 0.8424\n",
      "Epoch 6/10\n",
      "18750/18750 [==============================] - 62s 3ms/step - loss: 0.1537 - acc: 0.9430 - val_loss: 0.4685 - val_acc: 0.8398\n",
      "Epoch 7/10\n",
      "18750/18750 [==============================] - 61s 3ms/step - loss: 0.1194 - acc: 0.9578 - val_loss: 0.5393 - val_acc: 0.8312\n",
      "Epoch 8/10\n",
      "18750/18750 [==============================] - 61s 3ms/step - loss: 0.0940 - acc: 0.9685 - val_loss: 0.5687 - val_acc: 0.8275\n",
      "Epoch 9/10\n",
      "18750/18750 [==============================] - 61s 3ms/step - loss: 0.0779 - acc: 0.9737 - val_loss: 0.6860 - val_acc: 0.8224\n",
      "Epoch 10/10\n",
      "18750/18750 [==============================] - 61s 3ms/step - loss: 0.0751 - acc: 0.9746 - val_loss: 0.7028 - val_acc: 0.8253\n"
     ]
    }
   ],
   "source": [
    "history = model.fit(x_train, y_train, batch_size=64, epochs=10,\n",
    "                    validation_data=(x_val, y_val))"
   ]
  },
  {
   "cell_type": "markdown",
   "metadata": {},
   "source": [
    "The training accuracy is much better than the validation accurcy, so the model is likely heavily overtrained."
   ]
  },
  {
   "cell_type": "markdown",
   "metadata": {},
   "source": [
    "### Testing"
   ]
  },
  {
   "cell_type": "code",
   "execution_count": 11,
   "metadata": {},
   "outputs": [
    {
     "name": "stdout",
     "output_type": "stream",
     "text": [
      "25000/25000 [==============================] - 52s 2ms/step\n"
     ]
    },
    {
     "data": {
      "text/plain": [
       "[0.7138085202646256, 0.82336]"
      ]
     },
     "execution_count": 11,
     "metadata": {},
     "output_type": "execute_result"
    }
   ],
   "source": [
    "model.evaluate(x_test, y_test)"
   ]
  },
  {
   "cell_type": "markdown",
   "metadata": {},
   "source": [
    "## LSTM"
   ]
  },
  {
   "cell_type": "markdown",
   "metadata": {},
   "source": [
    "### Required imports & model definition"
   ]
  },
  {
   "cell_type": "code",
   "execution_count": 12,
   "metadata": {},
   "outputs": [],
   "source": [
    "from keras.layers.recurrent import LSTM"
   ]
  },
  {
   "cell_type": "markdown",
   "metadata": {},
   "source": [
    "Again, to limit training times, we restrict ourselfs to using a limited number of features."
   ]
  },
  {
   "cell_type": "code",
   "execution_count": 13,
   "metadata": {},
   "outputs": [],
   "source": [
    "vector_length = 64\n",
    "num_units = 64\n",
    "model = Sequential()\n",
    "model.add(Embedding(num_words, vector_length, mask_zero=True,\n",
    "                    input_length=feature_length))\n",
    "model.add(LSTM(num_units))\n",
    "model.add(Dropout(0.5))\n",
    "model.add(Dense(1))\n",
    "model.add(Activation('sigmoid'))"
   ]
  },
  {
   "cell_type": "code",
   "execution_count": 14,
   "metadata": {},
   "outputs": [
    {
     "name": "stdout",
     "output_type": "stream",
     "text": [
      "_________________________________________________________________\n",
      "Layer (type)                 Output Shape              Param #   \n",
      "=================================================================\n",
      "embedding_2 (Embedding)      (None, 100, 64)           320000    \n",
      "_________________________________________________________________\n",
      "lstm_1 (LSTM)                (None, 64)                33024     \n",
      "_________________________________________________________________\n",
      "dropout_2 (Dropout)          (None, 64)                0         \n",
      "_________________________________________________________________\n",
      "dense_2 (Dense)              (None, 1)                 65        \n",
      "_________________________________________________________________\n",
      "activation_2 (Activation)    (None, 1)                 0         \n",
      "=================================================================\n",
      "Total params: 353,089\n",
      "Trainable params: 353,089\n",
      "Non-trainable params: 0\n",
      "_________________________________________________________________\n"
     ]
    }
   ],
   "source": [
    "model.summary()"
   ]
  },
  {
   "cell_type": "code",
   "execution_count": 15,
   "metadata": {},
   "outputs": [],
   "source": [
    "model.compile(loss='binary_crossentropy', optimizer=Adam(),\n",
    "              metrics=['accuracy'])"
   ]
  },
  {
   "cell_type": "markdown",
   "metadata": {},
   "source": [
    "###    Training"
   ]
  },
  {
   "cell_type": "code",
   "execution_count": 16,
   "metadata": {
    "scrolled": false
   },
   "outputs": [
    {
     "name": "stdout",
     "output_type": "stream",
     "text": [
      "Train on 18750 samples, validate on 6250 samples\n",
      "Epoch 1/10\n",
      "18750/18750 [==============================] - 81s 4ms/step - loss: 0.4655 - acc: 0.7656 - val_loss: 0.3471 - val_acc: 0.8499\n",
      "Epoch 2/10\n",
      "18750/18750 [==============================] - 79s 4ms/step - loss: 0.3091 - acc: 0.8754 - val_loss: 0.3675 - val_acc: 0.8318\n",
      "Epoch 3/10\n",
      "18750/18750 [==============================] - 79s 4ms/step - loss: 0.2611 - acc: 0.8954 - val_loss: 0.3741 - val_acc: 0.8410\n",
      "Epoch 4/10\n",
      "18750/18750 [==============================] - 79s 4ms/step - loss: 0.2279 - acc: 0.9126 - val_loss: 0.4075 - val_acc: 0.8410\n",
      "Epoch 5/10\n",
      "18750/18750 [==============================] - 79s 4ms/step - loss: 0.1852 - acc: 0.9287 - val_loss: 0.4300 - val_acc: 0.8373\n",
      "Epoch 6/10\n",
      "18750/18750 [==============================] - 79s 4ms/step - loss: 0.1624 - acc: 0.9393 - val_loss: 0.4545 - val_acc: 0.8309\n",
      "Epoch 7/10\n",
      "18750/18750 [==============================] - 79s 4ms/step - loss: 0.1375 - acc: 0.9499 - val_loss: 0.5023 - val_acc: 0.8246\n",
      "Epoch 8/10\n",
      "18750/18750 [==============================] - 79s 4ms/step - loss: 0.1239 - acc: 0.9553 - val_loss: 0.6009 - val_acc: 0.8304\n",
      "Epoch 9/10\n",
      "18750/18750 [==============================] - 79s 4ms/step - loss: 0.1286 - acc: 0.9503 - val_loss: 0.4606 - val_acc: 0.8226\n",
      "Epoch 10/10\n",
      "18750/18750 [==============================] - 79s 4ms/step - loss: 0.0971 - acc: 0.9657 - val_loss: 0.6767 - val_acc: 0.8232\n"
     ]
    }
   ],
   "source": [
    "history = model.fit(x_train, y_train, batch_size=64, epochs=10,\n",
    "                    validation_data=(x_val, y_val))"
   ]
  },
  {
   "cell_type": "markdown",
   "metadata": {},
   "source": [
    "The training accuracy is much better than the validation accurcy, so the model is likely heavily overtrained."
   ]
  },
  {
   "cell_type": "markdown",
   "metadata": {},
   "source": [
    "### Testing"
   ]
  },
  {
   "cell_type": "code",
   "execution_count": 17,
   "metadata": {},
   "outputs": [
    {
     "name": "stdout",
     "output_type": "stream",
     "text": [
      "25000/25000 [==============================] - 63s 3ms/step\n"
     ]
    },
    {
     "data": {
      "text/plain": [
       "[0.7009532904291152, 0.82048]"
      ]
     },
     "execution_count": 17,
     "metadata": {},
     "output_type": "execute_result"
    }
   ],
   "source": [
    "model.evaluate(x_test, y_test)"
   ]
  },
  {
   "cell_type": "code",
   "execution_count": 18,
   "metadata": {},
   "outputs": [],
   "source": []
  }
 ],
 "metadata": {
  "kernelspec": {
   "display_name": "Python 3",
   "language": "python",
   "name": "python3"
  },
  "language_info": {
   "codemirror_mode": {
    "name": "ipython",
    "version": 3
   },
   "file_extension": ".py",
   "mimetype": "text/x-python",
   "name": "python",
   "nbconvert_exporter": "python",
   "pygments_lexer": "ipython3",
   "version": "3.6.8"
  }
 },
 "nbformat": 4,
 "nbformat_minor": 2
}
