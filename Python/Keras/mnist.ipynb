{
 "cells": [
  {
   "cell_type": "markdown",
   "metadata": {},
   "source": [
    "# MNIST: learning to recognize handwritten digits"
   ]
  },
  {
   "cell_type": "markdown",
   "metadata": {},
   "source": [
    "## Dataset exploration"
   ]
  },
  {
   "cell_type": "markdown",
   "metadata": {},
   "source": [
    "Before starting a machine learning or data science task, it is always useful to familiarize yourself with the data set and its context."
   ]
  },
  {
   "cell_type": "markdown",
   "metadata": {},
   "source": [
    "### Required imports"
   ]
  },
  {
   "cell_type": "code",
   "execution_count": 1,
   "metadata": {
    "ExecuteTime": {
     "end_time": "2018-07-17T05:07:22.409259Z",
     "start_time": "2018-07-17T05:07:22.244395Z"
    }
   },
   "outputs": [
    {
     "name": "stderr",
     "output_type": "stream",
     "text": [
      "Using TensorFlow backend.\n"
     ]
    }
   ],
   "source": [
    "from collections import Counter\n",
    "import keras\n",
    "from keras.datasets import mnist\n",
    "import matplotlib.pyplot as plt\n",
    "%matplotlib inline\n",
    "import numpy as np"
   ]
  },
  {
   "cell_type": "markdown",
   "metadata": {},
   "source": [
    "### Obtaining the dataset"
   ]
  },
  {
   "cell_type": "markdown",
   "metadata": {},
   "source": [
    "In Keras' datasets module we have a handle to the MNIST dataset we want to use in this notebook.  Download the training and test set for this data."
   ]
  },
  {
   "cell_type": "code",
   "execution_count": 2,
   "metadata": {},
   "outputs": [],
   "source": [
    "(x_train, y_train), (x_test, y_test) = mnist.load_data()"
   ]
  },
  {
   "cell_type": "markdown",
   "metadata": {},
   "source": [
    "### Dimensions and types"
   ]
  },
  {
   "cell_type": "markdown",
   "metadata": {},
   "source": [
    "Determine the shape and type of the training and the test set."
   ]
  },
  {
   "cell_type": "code",
   "execution_count": 3,
   "metadata": {},
   "outputs": [
    {
     "data": {
      "text/plain": [
       "((60000, 28, 28), dtype('uint8'), (60000,), dtype('uint8'))"
      ]
     },
     "execution_count": 3,
     "metadata": {},
     "output_type": "execute_result"
    }
   ],
   "source": [
    "x_train.shape, x_train.dtype, y_train.shape, y_train.dtype"
   ]
  },
  {
   "cell_type": "code",
   "execution_count": 4,
   "metadata": {},
   "outputs": [
    {
     "data": {
      "text/plain": [
       "((10000, 28, 28), dtype('uint8'), (10000,), dtype('uint8'))"
      ]
     },
     "execution_count": 4,
     "metadata": {},
     "output_type": "execute_result"
    }
   ],
   "source": [
    "x_test.shape, x_test.dtype, y_test.shape, y_test.dtype"
   ]
  },
  {
   "cell_type": "markdown",
   "metadata": {},
   "source": [
    "The training set has 60,000 examples, the test set 10,000.  The input is a 28 $\\times$ 28 matrix of unsigned 8-bit integers, the output a single unsigned 8-bit integer."
   ]
  },
  {
   "cell_type": "markdown",
   "metadata": {},
   "source": [
    "### Data semantics"
   ]
  },
  {
   "cell_type": "markdown",
   "metadata": {},
   "source": [
    " Each input represents a scanned grayscale image of a handwritten digit, the output is the corresponding integer."
   ]
  },
  {
   "cell_type": "code",
   "execution_count": 5,
   "metadata": {},
   "outputs": [
    {
     "data": {
      "image/png": "[encoded data removed]",
      "text/plain": [
       "<Figure size 432x288 with 1 Axes>"
      ]
     },
     "metadata": {},
     "output_type": "display_data"
    }
   ],
   "source": [
    "frame = plt.gca()\n",
    "frame.axes.get_xaxis().set_visible(False)\n",
    "frame.axes.get_yaxis().set_visible(False)\n",
    "plt.imshow(x_train[0], cmap='gray');"
   ]
  },
  {
   "cell_type": "code",
   "execution_count": 6,
   "metadata": {},
   "outputs": [
    {
     "data": {
      "text/plain": [
       "5"
      ]
     },
     "execution_count": 6,
     "metadata": {},
     "output_type": "execute_result"
    }
   ],
   "source": [
    "y_train[0]"
   ]
  },
  {
   "cell_type": "code",
   "execution_count": 7,
   "metadata": {},
   "outputs": [
    {
     "data": {
      "image/png": "[encoded data removed]",
      "text/plain": [
       "<Figure size 360x216 with 35 Axes>"
      ]
     },
     "metadata": {},
     "output_type": "display_data"
    }
   ],
   "source": [
    "rows = 5\n",
    "cols = 7\n",
    "figure, axes = plt.subplots(rows, cols, figsize=(5, 3))\n",
    "plt.subplots_adjust(wspace=0.1, hspace=0.1)\n",
    "for img_nr in range(rows*cols):\n",
    "    row = img_nr//cols\n",
    "    col = img_nr % cols\n",
    "    axes[row, col].get_xaxis().set_visible(False)\n",
    "    axes[row, col].get_yaxis().set_visible(False)\n",
    "    axes[row, col].imshow(x_train[img_nr], cmap='gray')"
   ]
  },
  {
   "cell_type": "code",
   "execution_count": 8,
   "metadata": {},
   "outputs": [
    {
     "data": {
      "text/plain": [
       "array([[5, 0, 4, 1, 9, 2, 1],\n",
       "       [3, 1, 4, 3, 5, 3, 6],\n",
       "       [1, 7, 2, 8, 6, 9, 4],\n",
       "       [0, 9, 1, 1, 2, 4, 3],\n",
       "       [2, 7, 3, 8, 6, 9, 0]], dtype=uint8)"
      ]
     },
     "execution_count": 8,
     "metadata": {},
     "output_type": "execute_result"
    }
   ],
   "source": [
    "y_train[:rows*cols].reshape(rows, cols)"
   ]
  },
  {
   "cell_type": "markdown",
   "metadata": {},
   "source": [
    "So this proves that I'm certainly not the only one cursed with bad handwriting."
   ]
  },
  {
   "cell_type": "markdown",
   "metadata": {},
   "source": [
    "### Data distribution"
   ]
  },
  {
   "cell_type": "markdown",
   "metadata": {},
   "source": [
    "An important question is whether all digits are represented in the training and test set, and what the distribution is.  This may have an impact on the accuracy of the trained model."
   ]
  },
  {
   "cell_type": "code",
   "execution_count": 9,
   "metadata": {},
   "outputs": [
    {
     "data": {
      "image/png": "[encoded data removed]",
      "text/plain": [
       "<Figure size 432x288 with 1 Axes>"
      ]
     },
     "metadata": {},
     "output_type": "display_data"
    }
   ],
   "source": [
    "distr = Counter(y_train)\n",
    "figure, axes = plt.subplots()\n",
    "axes.set_xticks(list(distr.keys()))\n",
    "axes.bar(list(distr.keys()), list(distr.values()));"
   ]
  },
  {
   "cell_type": "code",
   "execution_count": 10,
   "metadata": {},
   "outputs": [
    {
     "data": {
      "image/png": "[encoded data removed]",
      "text/plain": [
       "<Figure size 432x288 with 1 Axes>"
      ]
     },
     "metadata": {},
     "output_type": "display_data"
    }
   ],
   "source": [
    "distr = Counter(y_test)\n",
    "figure, axes = plt.subplots()\n",
    "axes.set_xticks(list(distr.keys()))\n",
    "axes.bar(list(distr.keys()), list(distr.values()));"
   ]
  },
  {
   "cell_type": "markdown",
   "metadata": {},
   "source": [
    "Although some digits like 1 are overrepresented, and others, e.g., 5 are underrepresented, the distribution seems to be reasonably uniform, and it is likely no special care needs to be taken."
   ]
  },
  {
   "cell_type": "markdown",
   "metadata": {},
   "source": [
    "## Data preparation"
   ]
  },
  {
   "cell_type": "markdown",
   "metadata": {},
   "source": [
    "Before we can start doing machine learning on the data, some preparations are required.  In this case, the data set is clean, which simplifies this step considerably.  Although it would be better to create a pipeline using the scikit-learn framework, we'll do the preparation by hand in this case."
   ]
  },
  {
   "cell_type": "markdown",
   "metadata": {},
   "source": [
    "### Required imports"
   ]
  },
  {
   "cell_type": "code",
   "execution_count": 21,
   "metadata": {},
   "outputs": [],
   "source": [
    "from keras.utils import np_utils\n",
    "from sklearn.model_selection import train_test_split"
   ]
  },
  {
   "cell_type": "markdown",
   "metadata": {},
   "source": [
    "### Transforming the data"
   ]
  },
  {
   "cell_type": "markdown",
   "metadata": {},
   "source": [
    "Rather than using the 28 $\\times$ 28 images as input, we reshape each image to a 784 array."
   ]
  },
  {
   "cell_type": "code",
   "execution_count": 13,
   "metadata": {},
   "outputs": [],
   "source": [
    "x_train = x_train.reshape(60000, 784)\n",
    "x_test = x_test.reshape(10000, 784)"
   ]
  },
  {
   "cell_type": "markdown",
   "metadata": {},
   "source": [
    "Most learning algorithms work better when the input data is normalized to the interval $[0, 1]$."
   ]
  },
  {
   "cell_type": "code",
   "execution_count": 15,
   "metadata": {},
   "outputs": [],
   "source": [
    "x_train = x_train.astype(np.float32)/255.0\n",
    "x_test = x_test.astype(np.float32)/255.0"
   ]
  },
  {
   "cell_type": "markdown",
   "metadata": {},
   "source": [
    "The output can be transformed to categorical data, i.e., one category for each digit, rather than a `uint8`. This is a one-hot encoding, so the output is now an array consisting of a single 1.0 value, and nine 0.0 values.  Note that the type of the output is now also `float32`."
   ]
  },
  {
   "cell_type": "code",
   "execution_count": 17,
   "metadata": {},
   "outputs": [],
   "source": [
    "y_train = np_utils.to_categorical(y_train)\n",
    "x_test = np_utils.to_categorical(y_test)"
   ]
  },
  {
   "cell_type": "code",
   "execution_count": 20,
   "metadata": {},
   "outputs": [
    {
     "data": {
      "text/plain": [
       "(60000, 10)"
      ]
     },
     "execution_count": 20,
     "metadata": {},
     "output_type": "execute_result"
    }
   ],
   "source": [
    "y_train.shape"
   ]
  },
  {
   "cell_type": "code",
   "execution_count": 19,
   "metadata": {},
   "outputs": [
    {
     "data": {
      "text/plain": [
       "array([0., 0., 0., 0., 0., 1., 0., 0., 0., 0.], dtype=float32)"
      ]
     },
     "execution_count": 19,
     "metadata": {},
     "output_type": "execute_result"
    }
   ],
   "source": [
    "y_train[0]"
   ]
  },
  {
   "cell_type": "markdown",
   "metadata": {},
   "source": [
    "### Validation set"
   ]
  },
  {
   "cell_type": "markdown",
   "metadata": {},
   "source": [
    "In order to make this reproducible, we have to seed the random number generator."
   ]
  },
  {
   "cell_type": "code",
   "execution_count": 25,
   "metadata": {},
   "outputs": [],
   "source": [
    "np.random.seed(1234)"
   ]
  },
  {
   "cell_type": "markdown",
   "metadata": {},
   "source": [
    "During the training, we will require a validation set, so we split the training data into two sets, one for actual training, the other for validation.  Note, we don't touch the test data set at all during the training process.  The default is using 75 % of the data for training, 25 % for validation. This function will also shuffle the data set prior to splitting (hence seeding the random number generator)."
   ]
  },
  {
   "cell_type": "code",
   "execution_count": 26,
   "metadata": {},
   "outputs": [],
   "source": [
    "x_train, x_val, y_train, y_val = train_test_split(x_train, y_train)"
   ]
  },
  {
   "cell_type": "code",
   "execution_count": 27,
   "metadata": {},
   "outputs": [
    {
     "data": {
      "text/plain": [
       "((33750, 784), (11250, 784), (33750, 10), (11250, 10))"
      ]
     },
     "execution_count": 27,
     "metadata": {},
     "output_type": "execute_result"
    }
   ],
   "source": [
    "x_train.shape, x_val.shape, y_train.shape, y_val.shape"
   ]
  },
  {
   "cell_type": "markdown",
   "metadata": {},
   "source": [
    "### Verification"
   ]
  },
  {
   "cell_type": "markdown",
   "metadata": {},
   "source": [
    "Since we've done quite some transformations, let's verify whether we didn't mess up."
   ]
  },
  {
   "cell_type": "code",
   "execution_count": 29,
   "metadata": {},
   "outputs": [
    {
     "data": {
      "image/png": "[encoded data removed]",
      "text/plain": [
       "<Figure size 432x288 with 1 Axes>"
      ]
     },
     "metadata": {},
     "output_type": "display_data"
    }
   ],
   "source": [
    "frame = plt.gca()\n",
    "frame.axes.get_xaxis().set_visible(False)\n",
    "frame.axes.get_yaxis().set_visible(False)\n",
    "plt.imshow(x_train[0].reshape(28, 28), cmap='gray');"
   ]
  },
  {
   "cell_type": "code",
   "execution_count": 30,
   "metadata": {},
   "outputs": [
    {
     "data": {
      "text/plain": [
       "array([0., 0., 1., 0., 0., 0., 0., 0., 0., 0.], dtype=float32)"
      ]
     },
     "execution_count": 30,
     "metadata": {},
     "output_type": "execute_result"
    }
   ],
   "source": [
    "y_train[0]"
   ]
  },
  {
   "cell_type": "markdown",
   "metadata": {},
   "source": [
    "Everything seems fine, input/output are as expected, and we can start doing some machine learning."
   ]
  },
  {
   "cell_type": "markdown",
   "metadata": {},
   "source": [
    "## Classic multilayer neural network"
   ]
  },
  {
   "cell_type": "markdown",
   "metadata": {},
   "source": [
    "We start off training a classic multilayer neural network to familiarie ourselves with the keras framework."
   ]
  },
  {
   "cell_type": "markdown",
   "metadata": {},
   "source": [
    "### Required imports"
   ]
  },
  {
   "cell_type": "code",
   "execution_count": 31,
   "metadata": {},
   "outputs": [],
   "source": [
    "from keras.models import Sequential\n",
    "from keras.layers.core import Dense\n",
    "from keras.optimizers import SGD"
   ]
  },
  {
   "cell_type": "markdown",
   "metadata": {},
   "source": [
    "### Model definition"
   ]
  },
  {
   "cell_type": "markdown",
   "metadata": {},
   "source": [
    "We will create a fully connected neural network with 784 input units (28 $\\times$ 28 pixels), two hidden layers with 512 units each, and an output layter with 10 units (ten categories, one per digit). For the two hidden layers, we will use a ReLU activation function, and a SoftMax for the output layer."
   ]
  },
  {
   "cell_type": "code",
   "execution_count": 40,
   "metadata": {},
   "outputs": [],
   "source": [
    "model = Sequential()\n",
    "model.add(Dense(512, activation='relu', input_shape=(784,)))\n",
    "model.add(Dense(512, activation='relu'))\n",
    "model.add(Dense(10, activation='softmax'))"
   ]
  },
  {
   "cell_type": "code",
   "execution_count": 41,
   "metadata": {
    "scrolled": true
   },
   "outputs": [
    {
     "name": "stdout",
     "output_type": "stream",
     "text": [
      "_________________________________________________________________\n",
      "Layer (type)                 Output Shape              Param #   \n",
      "=================================================================\n",
      "dense_6 (Dense)              (None, 512)               401920    \n",
      "_________________________________________________________________\n",
      "dense_7 (Dense)              (None, 512)               262656    \n",
      "_________________________________________________________________\n",
      "dense_8 (Dense)              (None, 10)                5130      \n",
      "=================================================================\n",
      "Total params: 669,706\n",
      "Trainable params: 669,706\n",
      "Non-trainable params: 0\n",
      "_________________________________________________________________\n"
     ]
    }
   ],
   "source": [
    "model.summary()"
   ]
  },
  {
   "cell_type": "markdown",
   "metadata": {},
   "source": [
    "Now we can can compile the model, specifying the loss function (categorical cross-entropy), the optimizer (SGD, Stochastic Gradient Descent), and the metrics (accuracy) we want to use."
   ]
  },
  {
   "cell_type": "code",
   "execution_count": 42,
   "metadata": {},
   "outputs": [],
   "source": [
    "model.compile(loss='categorical_crossentropy', optimizer=SGD(lr=0.001), metrics=['accuracy'])"
   ]
  },
  {
   "cell_type": "markdown",
   "metadata": {},
   "source": [
    "### Training"
   ]
  },
  {
   "cell_type": "code",
   "execution_count": 43,
   "metadata": {
    "scrolled": false
   },
   "outputs": [
    {
     "name": "stdout",
     "output_type": "stream",
     "text": [
      "Train on 33750 samples, validate on 11250 samples\n",
      "Epoch 1/100\n",
      "33750/33750 [==============================] - 19s 554us/step - loss: 2.2307 - acc: 0.1804 - val_loss: 2.1331 - val_acc: 0.3393\n",
      "Epoch 2/100\n",
      "33750/33750 [==============================] - 17s 510us/step - loss: 2.0427 - acc: 0.4715 - val_loss: 1.9533 - val_acc: 0.5668\n",
      "Epoch 3/100\n",
      "33750/33750 [==============================] - 18s 527us/step - loss: 1.8645 - acc: 0.6145 - val_loss: 1.7742 - val_acc: 0.6511\n",
      "Epoch 4/100\n",
      "33750/33750 [==============================] - 18s 538us/step - loss: 1.6852 - acc: 0.6795 - val_loss: 1.5945 - val_acc: 0.6993\n",
      "Epoch 5/100\n",
      "33750/33750 [==============================] - 19s 570us/step - loss: 1.5090 - acc: 0.7192 - val_loss: 1.4222 - val_acc: 0.7356\n",
      "Epoch 6/100\n",
      "33750/33750 [==============================] - 20s 597us/step - loss: 1.3444 - acc: 0.7515 - val_loss: 1.2658 - val_acc: 0.7647\n",
      "Epoch 7/100\n",
      "33750/33750 [==============================] - 21s 631us/step - loss: 1.1985 - acc: 0.7748 - val_loss: 1.1307 - val_acc: 0.7836\n",
      "Epoch 8/100\n",
      "33750/33750 [==============================] - 17s 506us/step - loss: 1.0745 - acc: 0.7953 - val_loss: 1.0177 - val_acc: 0.8009\n",
      "Epoch 9/100\n",
      "33750/33750 [==============================] - 16s 471us/step - loss: 0.9716 - acc: 0.8097 - val_loss: 0.9249 - val_acc: 0.8152\n",
      "Epoch 10/100\n",
      "33750/33750 [==============================] - 27s 796us/step - loss: 0.8874 - acc: 0.8199 - val_loss: 0.8492 - val_acc: 0.8277\n",
      "Epoch 11/100\n",
      "33750/33750 [==============================] - 16s 482us/step - loss: 0.8186 - acc: 0.8292 - val_loss: 0.7871 - val_acc: 0.8348\n",
      "Epoch 12/100\n",
      "33750/33750 [==============================] - 17s 493us/step - loss: 0.7618 - acc: 0.8362 - val_loss: 0.7358 - val_acc: 0.8428\n",
      "Epoch 13/100\n",
      "33750/33750 [==============================] - 28s 825us/step - loss: 0.7146 - acc: 0.8432 - val_loss: 0.6930 - val_acc: 0.8469\n",
      "Epoch 14/100\n",
      "33750/33750 [==============================] - 19s 551us/step - loss: 0.6750 - acc: 0.8479 - val_loss: 0.6567 - val_acc: 0.8531\n",
      "Epoch 15/100\n",
      "33750/33750 [==============================] - 14s 425us/step - loss: 0.6413 - acc: 0.8533 - val_loss: 0.6261 - val_acc: 0.8563\n",
      "Epoch 16/100\n",
      "33750/33750 [==============================] - 13s 372us/step - loss: 0.6124 - acc: 0.8573 - val_loss: 0.5993 - val_acc: 0.8605\n",
      "Epoch 17/100\n",
      "33750/33750 [==============================] - 12s 344us/step - loss: 0.5873 - acc: 0.8616 - val_loss: 0.5761 - val_acc: 0.8628\n",
      "Epoch 18/100\n",
      "33750/33750 [==============================] - 12s 344us/step - loss: 0.5654 - acc: 0.8643 - val_loss: 0.5558 - val_acc: 0.8665\n",
      "Epoch 19/100\n",
      "33750/33750 [==============================] - 12s 344us/step - loss: 0.5460 - acc: 0.8676 - val_loss: 0.5380 - val_acc: 0.8691\n",
      "Epoch 20/100\n",
      "33750/33750 [==============================] - 12s 343us/step - loss: 0.5289 - acc: 0.8705 - val_loss: 0.5220 - val_acc: 0.8720\n",
      "Epoch 21/100\n",
      "33750/33750 [==============================] - 11s 340us/step - loss: 0.5135 - acc: 0.8732 - val_loss: 0.5075 - val_acc: 0.8728\n",
      "Epoch 22/100\n",
      "33750/33750 [==============================] - 11s 332us/step - loss: 0.4996 - acc: 0.8754 - val_loss: 0.4947 - val_acc: 0.8753\n",
      "Epoch 23/100\n",
      "33750/33750 [==============================] - 11s 337us/step - loss: 0.4871 - acc: 0.8777 - val_loss: 0.4828 - val_acc: 0.8765\n",
      "Epoch 24/100\n",
      "33750/33750 [==============================] - 12s 354us/step - loss: 0.4757 - acc: 0.8798 - val_loss: 0.4722 - val_acc: 0.8786\n",
      "Epoch 25/100\n",
      "33750/33750 [==============================] - 12s 342us/step - loss: 0.4653 - acc: 0.8815 - val_loss: 0.4624 - val_acc: 0.8801\n",
      "Epoch 26/100\n",
      "33750/33750 [==============================] - 11s 341us/step - loss: 0.4558 - acc: 0.8835 - val_loss: 0.4538 - val_acc: 0.8821\n",
      "Epoch 27/100\n",
      "33750/33750 [==============================] - 21s 632us/step - loss: 0.4470 - acc: 0.8850 - val_loss: 0.4454 - val_acc: 0.8837\n",
      "Epoch 28/100\n",
      "33750/33750 [==============================] - 26s 778us/step - loss: 0.4389 - acc: 0.8871 - val_loss: 0.4378 - val_acc: 0.8857\n",
      "Epoch 29/100\n",
      "33750/33750 [==============================] - 25s 749us/step - loss: 0.4313 - acc: 0.8882 - val_loss: 0.4306 - val_acc: 0.8867\n",
      "Epoch 30/100\n",
      "33750/33750 [==============================] - 26s 761us/step - loss: 0.4243 - acc: 0.8895 - val_loss: 0.4242 - val_acc: 0.8885\n",
      "Epoch 31/100\n",
      "33750/33750 [==============================] - 16s 479us/step - loss: 0.4178 - acc: 0.8906 - val_loss: 0.4179 - val_acc: 0.8896\n",
      "Epoch 32/100\n",
      "33750/33750 [==============================] - 13s 385us/step - loss: 0.4116 - acc: 0.8917 - val_loss: 0.4123 - val_acc: 0.8911\n",
      "Epoch 33/100\n",
      "33750/33750 [==============================] - 15s 434us/step - loss: 0.4058 - acc: 0.8933 - val_loss: 0.4068 - val_acc: 0.8909\n",
      "Epoch 34/100\n",
      "33750/33750 [==============================] - 11s 340us/step - loss: 0.4005 - acc: 0.8940 - val_loss: 0.4018 - val_acc: 0.8930\n",
      "Epoch 35/100\n",
      "33750/33750 [==============================] - 11s 339us/step - loss: 0.3953 - acc: 0.8953 - val_loss: 0.3970 - val_acc: 0.8940\n",
      "Epoch 36/100\n",
      "33750/33750 [==============================] - 23s 668us/step - loss: 0.3905 - acc: 0.8961 - val_loss: 0.3925 - val_acc: 0.8955\n",
      "Epoch 37/100\n",
      "33750/33750 [==============================] - 17s 512us/step - loss: 0.3860 - acc: 0.8964 - val_loss: 0.3881 - val_acc: 0.8964\n",
      "Epoch 38/100\n",
      "33750/33750 [==============================] - 12s 343us/step - loss: 0.3816 - acc: 0.8972 - val_loss: 0.3842 - val_acc: 0.8958\n",
      "Epoch 39/100\n",
      "33750/33750 [==============================] - 12s 348us/step - loss: 0.3775 - acc: 0.8977 - val_loss: 0.3802 - val_acc: 0.8976\n",
      "Epoch 40/100\n",
      "33750/33750 [==============================] - 13s 374us/step - loss: 0.3736 - acc: 0.8986 - val_loss: 0.3765 - val_acc: 0.8985\n",
      "Epoch 41/100\n",
      "33750/33750 [==============================] - 13s 377us/step - loss: 0.3698 - acc: 0.8996 - val_loss: 0.3730 - val_acc: 0.8988\n",
      "Epoch 42/100\n",
      "33750/33750 [==============================] - 13s 386us/step - loss: 0.3662 - acc: 0.9006 - val_loss: 0.3698 - val_acc: 0.8990\n",
      "Epoch 43/100\n",
      "33750/33750 [==============================] - 14s 400us/step - loss: 0.3627 - acc: 0.9009 - val_loss: 0.3665 - val_acc: 0.9005\n",
      "Epoch 44/100\n",
      "33750/33750 [==============================] - 13s 384us/step - loss: 0.3594 - acc: 0.9019 - val_loss: 0.3636 - val_acc: 0.9007\n",
      "Epoch 45/100\n",
      "33750/33750 [==============================] - 13s 393us/step - loss: 0.3563 - acc: 0.9023 - val_loss: 0.3607 - val_acc: 0.9008\n",
      "Epoch 46/100\n",
      "33750/33750 [==============================] - 13s 398us/step - loss: 0.3532 - acc: 0.9028 - val_loss: 0.3577 - val_acc: 0.9017\n",
      "Epoch 47/100\n",
      "33750/33750 [==============================] - 13s 395us/step - loss: 0.3503 - acc: 0.9033 - val_loss: 0.3550 - val_acc: 0.9026\n",
      "Epoch 48/100\n",
      "33750/33750 [==============================] - 13s 387us/step - loss: 0.3474 - acc: 0.9043 - val_loss: 0.3524 - val_acc: 0.9023\n",
      "Epoch 49/100\n",
      "33750/33750 [==============================] - 13s 378us/step - loss: 0.3447 - acc: 0.9049 - val_loss: 0.3500 - val_acc: 0.9032\n",
      "Epoch 50/100\n",
      "33750/33750 [==============================] - 13s 388us/step - loss: 0.3420 - acc: 0.9055 - val_loss: 0.3474 - val_acc: 0.9044\n",
      "Epoch 51/100\n",
      "33750/33750 [==============================] - 13s 388us/step - loss: 0.3395 - acc: 0.9059 - val_loss: 0.3450 - val_acc: 0.9042\n",
      "Epoch 52/100\n",
      "33750/33750 [==============================] - 13s 378us/step - loss: 0.3370 - acc: 0.9064 - val_loss: 0.3428 - val_acc: 0.9051\n",
      "Epoch 53/100\n",
      "33750/33750 [==============================] - 12s 366us/step - loss: 0.3345 - acc: 0.9066 - val_loss: 0.3408 - val_acc: 0.9053\n",
      "Epoch 54/100\n",
      "33750/33750 [==============================] - 11s 333us/step - loss: 0.3322 - acc: 0.9073 - val_loss: 0.3386 - val_acc: 0.9058\n",
      "Epoch 55/100\n",
      "33750/33750 [==============================] - 11s 320us/step - loss: 0.3300 - acc: 0.9083 - val_loss: 0.3365 - val_acc: 0.9057\n",
      "Epoch 56/100\n",
      "33750/33750 [==============================] - 12s 357us/step - loss: 0.3278 - acc: 0.9085 - val_loss: 0.3344 - val_acc: 0.9064\n",
      "Epoch 57/100\n",
      "33750/33750 [==============================] - 11s 326us/step - loss: 0.3256 - acc: 0.9087 - val_loss: 0.3324 - val_acc: 0.9072\n",
      "Epoch 58/100\n",
      "33750/33750 [==============================] - 11s 335us/step - loss: 0.3236 - acc: 0.9093 - val_loss: 0.3307 - val_acc: 0.9074\n"
     ]
    },
    {
     "name": "stdout",
     "output_type": "stream",
     "text": [
      "Epoch 59/100\n",
      "33750/33750 [==============================] - 11s 331us/step - loss: 0.3215 - acc: 0.9096 - val_loss: 0.3288 - val_acc: 0.9080\n",
      "Epoch 60/100\n",
      "33750/33750 [==============================] - 11s 326us/step - loss: 0.3195 - acc: 0.9099 - val_loss: 0.3271 - val_acc: 0.9087\n",
      "Epoch 61/100\n",
      "33750/33750 [==============================] - 11s 321us/step - loss: 0.3176 - acc: 0.9107 - val_loss: 0.3252 - val_acc: 0.9090\n",
      "Epoch 62/100\n",
      "33750/33750 [==============================] - 11s 330us/step - loss: 0.3157 - acc: 0.9110 - val_loss: 0.3235 - val_acc: 0.9092\n",
      "Epoch 63/100\n",
      "33750/33750 [==============================] - 11s 331us/step - loss: 0.3139 - acc: 0.9114 - val_loss: 0.3220 - val_acc: 0.9100\n",
      "Epoch 64/100\n",
      "33750/33750 [==============================] - 11s 320us/step - loss: 0.3121 - acc: 0.9126 - val_loss: 0.3201 - val_acc: 0.9100\n",
      "Epoch 65/100\n",
      "33750/33750 [==============================] - 11s 330us/step - loss: 0.3103 - acc: 0.9125 - val_loss: 0.3186 - val_acc: 0.9103\n",
      "Epoch 66/100\n",
      "33750/33750 [==============================] - 11s 326us/step - loss: 0.3086 - acc: 0.9132 - val_loss: 0.3173 - val_acc: 0.9110\n",
      "Epoch 67/100\n",
      "33750/33750 [==============================] - 11s 325us/step - loss: 0.3069 - acc: 0.9136 - val_loss: 0.3156 - val_acc: 0.9108\n",
      "Epoch 68/100\n",
      "33750/33750 [==============================] - 11s 340us/step - loss: 0.3052 - acc: 0.9142 - val_loss: 0.3141 - val_acc: 0.9115\n",
      "Epoch 69/100\n",
      "33750/33750 [==============================] - 12s 341us/step - loss: 0.3036 - acc: 0.9143 - val_loss: 0.3127 - val_acc: 0.9121\n",
      "Epoch 70/100\n",
      "33750/33750 [==============================] - 11s 334us/step - loss: 0.3021 - acc: 0.9149 - val_loss: 0.3112 - val_acc: 0.9122\n",
      "Epoch 71/100\n",
      "33750/33750 [==============================] - 11s 332us/step - loss: 0.3004 - acc: 0.9154 - val_loss: 0.3098 - val_acc: 0.9117\n",
      "Epoch 72/100\n",
      "33750/33750 [==============================] - 11s 329us/step - loss: 0.2990 - acc: 0.9157 - val_loss: 0.3086 - val_acc: 0.9124\n",
      "Epoch 73/100\n",
      "33750/33750 [==============================] - 11s 329us/step - loss: 0.2974 - acc: 0.9159 - val_loss: 0.3071 - val_acc: 0.9130\n",
      "Epoch 74/100\n",
      "33750/33750 [==============================] - 11s 322us/step - loss: 0.2960 - acc: 0.9166 - val_loss: 0.3059 - val_acc: 0.9128\n",
      "Epoch 75/100\n",
      "33750/33750 [==============================] - 11s 325us/step - loss: 0.2946 - acc: 0.9166 - val_loss: 0.3045 - val_acc: 0.9127\n",
      "Epoch 76/100\n",
      "33750/33750 [==============================] - 11s 329us/step - loss: 0.2931 - acc: 0.9174 - val_loss: 0.3032 - val_acc: 0.9135\n",
      "Epoch 77/100\n",
      "33750/33750 [==============================] - 11s 330us/step - loss: 0.2917 - acc: 0.9181 - val_loss: 0.3021 - val_acc: 0.9135\n",
      "Epoch 78/100\n",
      "33750/33750 [==============================] - 11s 324us/step - loss: 0.2903 - acc: 0.9183 - val_loss: 0.3009 - val_acc: 0.9139\n",
      "Epoch 79/100\n",
      "33750/33750 [==============================] - 11s 329us/step - loss: 0.2890 - acc: 0.9189 - val_loss: 0.2996 - val_acc: 0.9148\n",
      "Epoch 80/100\n",
      "33750/33750 [==============================] - 11s 332us/step - loss: 0.2876 - acc: 0.9193 - val_loss: 0.2984 - val_acc: 0.9144\n",
      "Epoch 81/100\n",
      "33750/33750 [==============================] - 11s 320us/step - loss: 0.2864 - acc: 0.9195 - val_loss: 0.2971 - val_acc: 0.9152\n",
      "Epoch 82/100\n",
      "33750/33750 [==============================] - 11s 327us/step - loss: 0.2851 - acc: 0.9199 - val_loss: 0.2961 - val_acc: 0.9156\n",
      "Epoch 83/100\n",
      "33750/33750 [==============================] - 11s 329us/step - loss: 0.2838 - acc: 0.9206 - val_loss: 0.2949 - val_acc: 0.9161\n",
      "Epoch 84/100\n",
      "33750/33750 [==============================] - 12s 342us/step - loss: 0.2825 - acc: 0.9208 - val_loss: 0.2940 - val_acc: 0.9158\n",
      "Epoch 85/100\n",
      "33750/33750 [==============================] - 26s 764us/step - loss: 0.2813 - acc: 0.9208 - val_loss: 0.2927 - val_acc: 0.9163\n",
      "Epoch 86/100\n",
      "33750/33750 [==============================] - 21s 618us/step - loss: 0.2800 - acc: 0.9214 - val_loss: 0.2916 - val_acc: 0.9160\n",
      "Epoch 87/100\n",
      "33750/33750 [==============================] - 12s 345us/step - loss: 0.2789 - acc: 0.9218 - val_loss: 0.2906 - val_acc: 0.9163\n",
      "Epoch 88/100\n",
      "33750/33750 [==============================] - 11s 328us/step - loss: 0.2777 - acc: 0.9218 - val_loss: 0.2895 - val_acc: 0.9168\n",
      "Epoch 89/100\n",
      "33750/33750 [==============================] - 11s 328us/step - loss: 0.2765 - acc: 0.9225 - val_loss: 0.2885 - val_acc: 0.9168\n",
      "Epoch 90/100\n",
      "33750/33750 [==============================] - 12s 353us/step - loss: 0.2754 - acc: 0.9227 - val_loss: 0.2875 - val_acc: 0.9172\n",
      "Epoch 91/100\n",
      "33750/33750 [==============================] - 11s 329us/step - loss: 0.2742 - acc: 0.9231 - val_loss: 0.2866 - val_acc: 0.9172\n",
      "Epoch 92/100\n",
      "33750/33750 [==============================] - 11s 323us/step - loss: 0.2730 - acc: 0.9233 - val_loss: 0.2856 - val_acc: 0.9180\n",
      "Epoch 93/100\n",
      "33750/33750 [==============================] - 11s 328us/step - loss: 0.2720 - acc: 0.9237 - val_loss: 0.2845 - val_acc: 0.9173\n",
      "Epoch 94/100\n",
      "33750/33750 [==============================] - 11s 326us/step - loss: 0.2709 - acc: 0.9242 - val_loss: 0.2837 - val_acc: 0.9183\n",
      "Epoch 95/100\n",
      "33750/33750 [==============================] - 11s 323us/step - loss: 0.2698 - acc: 0.9243 - val_loss: 0.2827 - val_acc: 0.9185\n",
      "Epoch 96/100\n",
      "33750/33750 [==============================] - 11s 329us/step - loss: 0.2688 - acc: 0.9245 - val_loss: 0.2817 - val_acc: 0.9187\n",
      "Epoch 97/100\n",
      "33750/33750 [==============================] - 11s 327us/step - loss: 0.2677 - acc: 0.9249 - val_loss: 0.2807 - val_acc: 0.9188\n",
      "Epoch 98/100\n",
      "33750/33750 [==============================] - 11s 325us/step - loss: 0.2666 - acc: 0.9255 - val_loss: 0.2797 - val_acc: 0.9191\n",
      "Epoch 99/100\n",
      "33750/33750 [==============================] - 11s 330us/step - loss: 0.2656 - acc: 0.9258 - val_loss: 0.2790 - val_acc: 0.9195\n",
      "Epoch 100/100\n",
      "33750/33750 [==============================] - 11s 333us/step - loss: 0.2646 - acc: 0.9263 - val_loss: 0.2781 - val_acc: 0.9197\n"
     ]
    }
   ],
   "source": [
    "model_history = model.fit(x_train, y_train, batch_size=128, epochs=100,\n",
    "                          verbose=1, validation_data=(x_val, y_val))"
   ]
  },
  {
   "cell_type": "markdown",
   "metadata": {},
   "source": [
    "Plot the history of the training process."
   ]
  },
  {
   "cell_type": "code",
   "execution_count": 44,
   "metadata": {},
   "outputs": [],
   "source": [
    "def plot_history(network_history):\n",
    "    plt.figure()\n",
    "    plt.xlabel('Epochs')\n",
    "    plt.ylabel('Loss')\n",
    "    plt.plot(network_history.history['loss'])\n",
    "    plt.plot(network_history.history['val_loss'])\n",
    "    plt.legend(['Training', 'Validation'])\n",
    "\n",
    "    plt.figure()\n",
    "    plt.xlabel('Epochs')\n",
    "    plt.ylabel('Accuracy')\n",
    "    plt.plot(network_history.history['acc'])\n",
    "    plt.plot(network_history.history['val_acc'])\n",
    "    plt.legend(['Training', 'Validation'], loc='lower right')"
   ]
  },
  {
   "cell_type": "code",
   "execution_count": 45,
   "metadata": {},
   "outputs": [
    {
     "data": {
      "image/png": "[encoded data removed]",
      "text/plain": [
       "<Figure size 432x288 with 1 Axes>"
      ]
     },
     "metadata": {},
     "output_type": "display_data"
    },
    {
     "data": {
      "image/png": "[encoded data removed]",
      "text/plain": [
       "<Figure size 432x288 with 1 Axes>"
      ]
     },
     "metadata": {},
     "output_type": "display_data"
    }
   ],
   "source": [
    "plot_history(model_history)"
   ]
  }
 ],
 "metadata": {
  "kernelspec": {
   "display_name": "Python 3",
   "language": "python",
   "name": "python3"
  },
  "language_info": {
   "codemirror_mode": {
    "name": "ipython",
    "version": 3
   },
   "file_extension": ".py",
   "mimetype": "text/x-python",
   "name": "python",
   "nbconvert_exporter": "python",
   "pygments_lexer": "ipython3",
   "version": "3.6.6"
  }
 },
 "nbformat": 4,
 "nbformat_minor": 2
}
