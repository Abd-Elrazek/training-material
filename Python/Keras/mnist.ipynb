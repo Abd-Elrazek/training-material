{
 "cells": [
  {
   "cell_type": "markdown",
   "metadata": {},
   "source": [
    "# MNIST: learning to recognize handwritten digits"
   ]
  },
  {
   "cell_type": "markdown",
   "metadata": {},
   "source": [
    "## Dataset exploration"
   ]
  },
  {
   "cell_type": "markdown",
   "metadata": {},
   "source": [
    "Before starting a machine learning or data science task, it is always useful to familiarize yourself with the data set and its context."
   ]
  },
  {
   "cell_type": "markdown",
   "metadata": {},
   "source": [
    "### Required imports"
   ]
  },
  {
   "cell_type": "code",
   "execution_count": 1,
   "metadata": {
    "ExecuteTime": {
     "end_time": "2018-07-17T05:07:22.409259Z",
     "start_time": "2018-07-17T05:07:22.244395Z"
    }
   },
   "outputs": [
    {
     "name": "stderr",
     "output_type": "stream",
     "text": [
      "Using TensorFlow backend.\n"
     ]
    }
   ],
   "source": [
    "from collections import Counter\n",
    "import keras\n",
    "from keras.datasets import mnist\n",
    "import matplotlib.pyplot as plt\n",
    "%matplotlib inline\n",
    "import numpy as np"
   ]
  },
  {
   "cell_type": "markdown",
   "metadata": {},
   "source": [
    "### Obtaining the dataset"
   ]
  },
  {
   "cell_type": "markdown",
   "metadata": {},
   "source": [
    "In Keras' datasets module we have a handle to the MNIST dataset we want to use in this notebook.  Download the training and test set for this data."
   ]
  },
  {
   "cell_type": "code",
   "execution_count": 84,
   "metadata": {},
   "outputs": [],
   "source": [
    "(x_train, y_train), (x_test, y_test) = mnist.load_data()"
   ]
  },
  {
   "cell_type": "markdown",
   "metadata": {},
   "source": [
    "### Dimensions and types"
   ]
  },
  {
   "cell_type": "markdown",
   "metadata": {},
   "source": [
    "Determine the shape and type of the training and the test set."
   ]
  },
  {
   "cell_type": "code",
   "execution_count": 3,
   "metadata": {},
   "outputs": [
    {
     "data": {
      "text/plain": [
       "((60000, 28, 28), dtype('uint8'), (60000,), dtype('uint8'))"
      ]
     },
     "execution_count": 3,
     "metadata": {},
     "output_type": "execute_result"
    }
   ],
   "source": [
    "x_train.shape, x_train.dtype, y_train.shape, y_train.dtype"
   ]
  },
  {
   "cell_type": "code",
   "execution_count": 4,
   "metadata": {},
   "outputs": [
    {
     "data": {
      "text/plain": [
       "((10000, 28, 28), dtype('uint8'), (10000,), dtype('uint8'))"
      ]
     },
     "execution_count": 4,
     "metadata": {},
     "output_type": "execute_result"
    }
   ],
   "source": [
    "x_test.shape, x_test.dtype, y_test.shape, y_test.dtype"
   ]
  },
  {
   "cell_type": "markdown",
   "metadata": {},
   "source": [
    "The training set has 60,000 examples, the test set 10,000.  The input is a 28 $\\times$ 28 matrix of unsigned 8-bit integers, the output a single unsigned 8-bit integer."
   ]
  },
  {
   "cell_type": "markdown",
   "metadata": {},
   "source": [
    "### Data semantics"
   ]
  },
  {
   "cell_type": "markdown",
   "metadata": {},
   "source": [
    " Each input represents a scanned grayscale image of a handwritten digit, the output is the corresponding integer."
   ]
  },
  {
   "cell_type": "code",
   "execution_count": 5,
   "metadata": {},
   "outputs": [
    {
     "data": {
      "image/png": "[encoded data removed]",
      "text/plain": [
       "<Figure size 432x288 with 1 Axes>"
      ]
     },
     "metadata": {},
     "output_type": "display_data"
    }
   ],
   "source": [
    "frame = plt.gca()\n",
    "frame.axes.get_xaxis().set_visible(False)\n",
    "frame.axes.get_yaxis().set_visible(False)\n",
    "plt.imshow(x_train[0], cmap='gray');"
   ]
  },
  {
   "cell_type": "code",
   "execution_count": 6,
   "metadata": {},
   "outputs": [
    {
     "data": {
      "text/plain": [
       "5"
      ]
     },
     "execution_count": 6,
     "metadata": {},
     "output_type": "execute_result"
    }
   ],
   "source": [
    "y_train[0]"
   ]
  },
  {
   "cell_type": "code",
   "execution_count": 7,
   "metadata": {},
   "outputs": [
    {
     "data": {
      "image/png": "[encoded data removed]",
      "text/plain": [
       "<Figure size 360x216 with 35 Axes>"
      ]
     },
     "metadata": {},
     "output_type": "display_data"
    }
   ],
   "source": [
    "rows = 5\n",
    "cols = 7\n",
    "figure, axes = plt.subplots(rows, cols, figsize=(5, 3))\n",
    "plt.subplots_adjust(wspace=0.1, hspace=0.1)\n",
    "for img_nr in range(rows*cols):\n",
    "    row = img_nr//cols\n",
    "    col = img_nr % cols\n",
    "    axes[row, col].get_xaxis().set_visible(False)\n",
    "    axes[row, col].get_yaxis().set_visible(False)\n",
    "    axes[row, col].imshow(x_train[img_nr], cmap='gray')"
   ]
  },
  {
   "cell_type": "code",
   "execution_count": 8,
   "metadata": {},
   "outputs": [
    {
     "data": {
      "text/plain": [
       "array([[5, 0, 4, 1, 9, 2, 1],\n",
       "       [3, 1, 4, 3, 5, 3, 6],\n",
       "       [1, 7, 2, 8, 6, 9, 4],\n",
       "       [0, 9, 1, 1, 2, 4, 3],\n",
       "       [2, 7, 3, 8, 6, 9, 0]], dtype=uint8)"
      ]
     },
     "execution_count": 8,
     "metadata": {},
     "output_type": "execute_result"
    }
   ],
   "source": [
    "y_train[:rows*cols].reshape(rows, cols)"
   ]
  },
  {
   "cell_type": "markdown",
   "metadata": {},
   "source": [
    "So this proves that I'm certainly not the only one cursed with bad handwriting."
   ]
  },
  {
   "cell_type": "markdown",
   "metadata": {},
   "source": [
    "### Data distribution"
   ]
  },
  {
   "cell_type": "markdown",
   "metadata": {},
   "source": [
    "An important question is whether all digits are represented in the training and test set, and what the distribution is.  This may have an impact on the accuracy of the trained model."
   ]
  },
  {
   "cell_type": "code",
   "execution_count": 9,
   "metadata": {},
   "outputs": [
    {
     "data": {
      "image/png": "[encoded data removed]",
      "text/plain": [
       "<Figure size 432x288 with 1 Axes>"
      ]
     },
     "metadata": {},
     "output_type": "display_data"
    }
   ],
   "source": [
    "distr = Counter(y_train)\n",
    "figure, axes = plt.subplots()\n",
    "axes.set_xticks(list(distr.keys()))\n",
    "axes.bar(list(distr.keys()), list(distr.values()));"
   ]
  },
  {
   "cell_type": "code",
   "execution_count": 10,
   "metadata": {},
   "outputs": [
    {
     "data": {
      "image/png": "[encoded data removed]",
      "text/plain": [
       "<Figure size 432x288 with 1 Axes>"
      ]
     },
     "metadata": {},
     "output_type": "display_data"
    }
   ],
   "source": [
    "distr = Counter(y_test)\n",
    "figure, axes = plt.subplots()\n",
    "axes.set_xticks(list(distr.keys()))\n",
    "axes.bar(list(distr.keys()), list(distr.values()));"
   ]
  },
  {
   "cell_type": "markdown",
   "metadata": {},
   "source": [
    "Although some digits like 1 are overrepresented, and others, e.g., 5 are underrepresented, the distribution seems to be reasonably uniform, and it is likely no special care needs to be taken."
   ]
  },
  {
   "cell_type": "markdown",
   "metadata": {},
   "source": [
    "## Data preparation"
   ]
  },
  {
   "cell_type": "markdown",
   "metadata": {},
   "source": [
    "Before we can start doing machine learning on the data, some preparations are required.  In this case, the data set is clean, which simplifies this step considerably.  Although it would be better to create a pipeline using the scikit-learn framework, we'll do the preparation by hand in this case."
   ]
  },
  {
   "cell_type": "markdown",
   "metadata": {},
   "source": [
    "### Required imports"
   ]
  },
  {
   "cell_type": "code",
   "execution_count": 21,
   "metadata": {},
   "outputs": [],
   "source": [
    "from keras.utils import np_utils\n",
    "from sklearn.model_selection import train_test_split"
   ]
  },
  {
   "cell_type": "markdown",
   "metadata": {},
   "source": [
    "### Transforming the data"
   ]
  },
  {
   "cell_type": "markdown",
   "metadata": {},
   "source": [
    "Rather than using the 28 $\\times$ 28 images as input, we reshape each image to a 784 array."
   ]
  },
  {
   "cell_type": "code",
   "execution_count": 85,
   "metadata": {},
   "outputs": [],
   "source": [
    "x_train = x_train.reshape(60000, 784)\n",
    "x_test = x_test.reshape(10000, 784)"
   ]
  },
  {
   "cell_type": "markdown",
   "metadata": {},
   "source": [
    "Most learning algorithms work better when the input data is normalized to the interval $[0, 1]$."
   ]
  },
  {
   "cell_type": "code",
   "execution_count": 86,
   "metadata": {},
   "outputs": [],
   "source": [
    "x_train = x_train.astype(np.float32)/255.0\n",
    "x_test = x_test.astype(np.float32)/255.0"
   ]
  },
  {
   "cell_type": "markdown",
   "metadata": {},
   "source": [
    "The output can be transformed to categorical data, i.e., one category for each digit, rather than a `uint8`. This is a one-hot encoding, so the output is now an array consisting of a single 1.0 value, and nine 0.0 values.  Note that the type of the output is now also `float32`."
   ]
  },
  {
   "cell_type": "code",
   "execution_count": 87,
   "metadata": {},
   "outputs": [],
   "source": [
    "y_train = np_utils.to_categorical(y_train)\n",
    "y_test = np_utils.to_categorical(y_test)"
   ]
  },
  {
   "cell_type": "code",
   "execution_count": 20,
   "metadata": {},
   "outputs": [
    {
     "data": {
      "text/plain": [
       "(60000, 10)"
      ]
     },
     "execution_count": 20,
     "metadata": {},
     "output_type": "execute_result"
    }
   ],
   "source": [
    "y_train.shape"
   ]
  },
  {
   "cell_type": "code",
   "execution_count": 19,
   "metadata": {},
   "outputs": [
    {
     "data": {
      "text/plain": [
       "array([0., 0., 0., 0., 0., 1., 0., 0., 0., 0.], dtype=float32)"
      ]
     },
     "execution_count": 19,
     "metadata": {},
     "output_type": "execute_result"
    }
   ],
   "source": [
    "y_train[0]"
   ]
  },
  {
   "cell_type": "markdown",
   "metadata": {},
   "source": [
    "### Validation set"
   ]
  },
  {
   "cell_type": "markdown",
   "metadata": {},
   "source": [
    "In order to make this reproducible, we have to seed the random number generator."
   ]
  },
  {
   "cell_type": "code",
   "execution_count": 25,
   "metadata": {},
   "outputs": [],
   "source": [
    "np.random.seed(1234)"
   ]
  },
  {
   "cell_type": "markdown",
   "metadata": {},
   "source": [
    "During the training, we will require a validation set, so we split the training data into two sets, one for actual training, the other for validation.  Note, we don't touch the test data set at all during the training process.  The default is using 75 % of the data for training, 25 % for validation. This function will also shuffle the data set prior to splitting (hence seeding the random number generator)."
   ]
  },
  {
   "cell_type": "code",
   "execution_count": 26,
   "metadata": {},
   "outputs": [],
   "source": [
    "x_train, x_val, y_train, y_val = train_test_split(x_train, y_train)"
   ]
  },
  {
   "cell_type": "code",
   "execution_count": 27,
   "metadata": {},
   "outputs": [
    {
     "data": {
      "text/plain": [
       "((33750, 784), (11250, 784), (33750, 10), (11250, 10))"
      ]
     },
     "execution_count": 27,
     "metadata": {},
     "output_type": "execute_result"
    }
   ],
   "source": [
    "x_train.shape, x_val.shape, y_train.shape, y_val.shape"
   ]
  },
  {
   "cell_type": "markdown",
   "metadata": {},
   "source": [
    "### Verification"
   ]
  },
  {
   "cell_type": "markdown",
   "metadata": {},
   "source": [
    "Since we've done quite some transformations, let's verify whether we didn't mess up."
   ]
  },
  {
   "cell_type": "code",
   "execution_count": 29,
   "metadata": {},
   "outputs": [
    {
     "data": {
      "image/png": "[encoded data removed]",
      "text/plain": [
       "<Figure size 432x288 with 1 Axes>"
      ]
     },
     "metadata": {},
     "output_type": "display_data"
    }
   ],
   "source": [
    "frame = plt.gca()\n",
    "frame.axes.get_xaxis().set_visible(False)\n",
    "frame.axes.get_yaxis().set_visible(False)\n",
    "plt.imshow(x_train[0].reshape(28, 28), cmap='gray');"
   ]
  },
  {
   "cell_type": "code",
   "execution_count": 30,
   "metadata": {},
   "outputs": [
    {
     "data": {
      "text/plain": [
       "array([0., 0., 1., 0., 0., 0., 0., 0., 0., 0.], dtype=float32)"
      ]
     },
     "execution_count": 30,
     "metadata": {},
     "output_type": "execute_result"
    }
   ],
   "source": [
    "y_train[0]"
   ]
  },
  {
   "cell_type": "markdown",
   "metadata": {},
   "source": [
    "Everything seems fine, input/output are as expected, and we can start doing some machine learning."
   ]
  },
  {
   "cell_type": "markdown",
   "metadata": {},
   "source": [
    "## Classic multilayer neural network"
   ]
  },
  {
   "cell_type": "markdown",
   "metadata": {},
   "source": [
    "We start off training a classic multilayer neural network to familiarie ourselves with the keras framework."
   ]
  },
  {
   "cell_type": "markdown",
   "metadata": {},
   "source": [
    "### Required imports"
   ]
  },
  {
   "cell_type": "code",
   "execution_count": 90,
   "metadata": {},
   "outputs": [],
   "source": [
    "from keras.models import Sequential\n",
    "from keras.layers.core import Dense, Dropout\n",
    "from keras.optimizers import SGD\n",
    "from sklearn.metrics import confusion_matrix"
   ]
  },
  {
   "cell_type": "markdown",
   "metadata": {},
   "source": [
    "### Model definition"
   ]
  },
  {
   "cell_type": "markdown",
   "metadata": {},
   "source": [
    "We will create a fully connected neural network with 784 input units (28 $\\times$ 28 pixels), two hidden layers with 512 units each, and an output layter with 10 units (ten categories, one per digit). For the two hidden layers, we will use a ReLU activation function, and a SoftMax for the output layer."
   ]
  },
  {
   "cell_type": "code",
   "execution_count": 59,
   "metadata": {},
   "outputs": [],
   "source": [
    "np.random.seed(1234)"
   ]
  },
  {
   "cell_type": "code",
   "execution_count": 60,
   "metadata": {},
   "outputs": [],
   "source": [
    "model = Sequential()\n",
    "model.add(Dense(512, activation='relu', input_shape=(784,)))\n",
    "model.add(Dense(512, activation='relu'))\n",
    "model.add(Dense(10, activation='softmax'))"
   ]
  },
  {
   "cell_type": "code",
   "execution_count": 61,
   "metadata": {
    "scrolled": true
   },
   "outputs": [
    {
     "name": "stdout",
     "output_type": "stream",
     "text": [
      "_________________________________________________________________\n",
      "Layer (type)                 Output Shape              Param #   \n",
      "=================================================================\n",
      "dense_15 (Dense)             (None, 512)               401920    \n",
      "_________________________________________________________________\n",
      "dense_16 (Dense)             (None, 512)               262656    \n",
      "_________________________________________________________________\n",
      "dense_17 (Dense)             (None, 10)                5130      \n",
      "=================================================================\n",
      "Total params: 669,706\n",
      "Trainable params: 669,706\n",
      "Non-trainable params: 0\n",
      "_________________________________________________________________\n"
     ]
    }
   ],
   "source": [
    "model.summary()"
   ]
  },
  {
   "cell_type": "markdown",
   "metadata": {},
   "source": [
    "Now we can can compile the model, specifying the loss function (categorical cross-entropy), the optimizer (SGD, Stochastic Gradient Descent), and the metrics (accuracy) we want to use."
   ]
  },
  {
   "cell_type": "code",
   "execution_count": 62,
   "metadata": {},
   "outputs": [],
   "source": [
    "model.compile(loss='categorical_crossentropy', optimizer=SGD(), metrics=['accuracy'])"
   ]
  },
  {
   "cell_type": "markdown",
   "metadata": {},
   "source": [
    "### Training"
   ]
  },
  {
   "cell_type": "code",
   "execution_count": 63,
   "metadata": {
    "scrolled": true
   },
   "outputs": [
    {
     "name": "stdout",
     "output_type": "stream",
     "text": [
      "Train on 33750 samples, validate on 11250 samples\n",
      "Epoch 1/100\n",
      "33750/33750 [==============================] - 16s 468us/step - loss: 1.4363 - acc: 0.6875 - val_loss: 0.8013 - val_acc: 0.8413\n",
      "Epoch 2/100\n",
      "33750/33750 [==============================] - 14s 402us/step - loss: 0.6198 - acc: 0.8574 - val_loss: 0.5072 - val_acc: 0.8773\n",
      "Epoch 3/100\n",
      "33750/33750 [==============================] - 15s 455us/step - loss: 0.4533 - acc: 0.8821 - val_loss: 0.4162 - val_acc: 0.8933\n",
      "Epoch 4/100\n",
      "33750/33750 [==============================] - 13s 371us/step - loss: 0.3880 - acc: 0.8951 - val_loss: 0.3716 - val_acc: 0.8996\n",
      "Epoch 5/100\n",
      "33750/33750 [==============================] - 14s 401us/step - loss: 0.3515 - acc: 0.9034 - val_loss: 0.3460 - val_acc: 0.9041\n",
      "Epoch 6/100\n",
      "33750/33750 [==============================] - 13s 379us/step - loss: 0.3266 - acc: 0.9097 - val_loss: 0.3250 - val_acc: 0.9090\n",
      "Epoch 7/100\n",
      "33750/33750 [==============================] - 11s 324us/step - loss: 0.3084 - acc: 0.9137 - val_loss: 0.3105 - val_acc: 0.9117\n",
      "Epoch 8/100\n",
      "33750/33750 [==============================] - 11s 337us/step - loss: 0.2932 - acc: 0.9175 - val_loss: 0.2987 - val_acc: 0.9141\n",
      "Epoch 9/100\n",
      "33750/33750 [==============================] - 11s 324us/step - loss: 0.2811 - acc: 0.9210 - val_loss: 0.2891 - val_acc: 0.9172\n",
      "Epoch 10/100\n",
      "33750/33750 [==============================] - 11s 332us/step - loss: 0.2700 - acc: 0.9239 - val_loss: 0.2798 - val_acc: 0.9197\n",
      "Epoch 11/100\n",
      "33750/33750 [==============================] - 11s 324us/step - loss: 0.2604 - acc: 0.9275 - val_loss: 0.2753 - val_acc: 0.9196\n",
      "Epoch 12/100\n",
      "33750/33750 [==============================] - 11s 328us/step - loss: 0.2520 - acc: 0.9293 - val_loss: 0.2654 - val_acc: 0.9235\n",
      "Epoch 13/100\n",
      "33750/33750 [==============================] - 11s 326us/step - loss: 0.2439 - acc: 0.9316 - val_loss: 0.2571 - val_acc: 0.9276\n",
      "Epoch 14/100\n",
      "33750/33750 [==============================] - 11s 320us/step - loss: 0.2364 - acc: 0.9340 - val_loss: 0.2509 - val_acc: 0.9278\n",
      "Epoch 15/100\n",
      "33750/33750 [==============================] - 11s 341us/step - loss: 0.2294 - acc: 0.9355 - val_loss: 0.2456 - val_acc: 0.9312\n",
      "Epoch 16/100\n",
      "33750/33750 [==============================] - 11s 330us/step - loss: 0.2235 - acc: 0.9367 - val_loss: 0.2396 - val_acc: 0.9313\n",
      "Epoch 17/100\n",
      "33750/33750 [==============================] - 11s 325us/step - loss: 0.2171 - acc: 0.9390 - val_loss: 0.2336 - val_acc: 0.9345\n",
      "Epoch 18/100\n",
      "33750/33750 [==============================] - 11s 329us/step - loss: 0.2111 - acc: 0.9410 - val_loss: 0.2312 - val_acc: 0.9338\n",
      "Epoch 19/100\n",
      "33750/33750 [==============================] - 11s 328us/step - loss: 0.2059 - acc: 0.9429 - val_loss: 0.2247 - val_acc: 0.9365\n",
      "Epoch 20/100\n",
      "33750/33750 [==============================] - 11s 327us/step - loss: 0.2004 - acc: 0.9436 - val_loss: 0.2211 - val_acc: 0.9364\n",
      "Epoch 21/100\n",
      "33750/33750 [==============================] - 11s 335us/step - loss: 0.1954 - acc: 0.9450 - val_loss: 0.2159 - val_acc: 0.9395\n",
      "Epoch 22/100\n",
      "33750/33750 [==============================] - 11s 331us/step - loss: 0.1907 - acc: 0.9472 - val_loss: 0.2127 - val_acc: 0.9400\n",
      "Epoch 23/100\n",
      "33750/33750 [==============================] - 11s 323us/step - loss: 0.1862 - acc: 0.9476 - val_loss: 0.2085 - val_acc: 0.9408\n",
      "Epoch 24/100\n",
      "33750/33750 [==============================] - 11s 320us/step - loss: 0.1816 - acc: 0.9492 - val_loss: 0.2057 - val_acc: 0.9425\n",
      "Epoch 25/100\n",
      "33750/33750 [==============================] - 11s 326us/step - loss: 0.1772 - acc: 0.9505 - val_loss: 0.2030 - val_acc: 0.9427\n",
      "Epoch 26/100\n",
      "33750/33750 [==============================] - 11s 333us/step - loss: 0.1735 - acc: 0.9516 - val_loss: 0.1975 - val_acc: 0.9451\n",
      "Epoch 27/100\n",
      "33750/33750 [==============================] - 11s 329us/step - loss: 0.1694 - acc: 0.9522 - val_loss: 0.1950 - val_acc: 0.9443\n",
      "Epoch 28/100\n",
      "33750/33750 [==============================] - 12s 360us/step - loss: 0.1657 - acc: 0.9538 - val_loss: 0.1906 - val_acc: 0.9459\n",
      "Epoch 29/100\n",
      "33750/33750 [==============================] - 11s 326us/step - loss: 0.1624 - acc: 0.9544 - val_loss: 0.1879 - val_acc: 0.9468\n",
      "Epoch 30/100\n",
      "33750/33750 [==============================] - 11s 324us/step - loss: 0.1584 - acc: 0.9556 - val_loss: 0.1852 - val_acc: 0.9474\n",
      "Epoch 31/100\n",
      "33750/33750 [==============================] - 11s 322us/step - loss: 0.1552 - acc: 0.9564 - val_loss: 0.1826 - val_acc: 0.9489\n",
      "Epoch 32/100\n",
      "33750/33750 [==============================] - 11s 327us/step - loss: 0.1519 - acc: 0.9575 - val_loss: 0.1798 - val_acc: 0.9487\n",
      "Epoch 33/100\n",
      "33750/33750 [==============================] - 11s 322us/step - loss: 0.1487 - acc: 0.9585 - val_loss: 0.1777 - val_acc: 0.9493\n",
      "Epoch 34/100\n",
      "33750/33750 [==============================] - 11s 331us/step - loss: 0.1457 - acc: 0.9594 - val_loss: 0.1752 - val_acc: 0.9515\n",
      "Epoch 35/100\n",
      "33750/33750 [==============================] - 11s 328us/step - loss: 0.1427 - acc: 0.9603 - val_loss: 0.1730 - val_acc: 0.9510\n",
      "Epoch 36/100\n",
      "33750/33750 [==============================] - 11s 327us/step - loss: 0.1395 - acc: 0.9609 - val_loss: 0.1699 - val_acc: 0.9522\n",
      "Epoch 37/100\n",
      "33750/33750 [==============================] - 11s 326us/step - loss: 0.1369 - acc: 0.9614 - val_loss: 0.1671 - val_acc: 0.9535\n",
      "Epoch 38/100\n",
      "33750/33750 [==============================] - 11s 326us/step - loss: 0.1343 - acc: 0.9625 - val_loss: 0.1666 - val_acc: 0.9531\n",
      "Epoch 39/100\n",
      "33750/33750 [==============================] - 12s 352us/step - loss: 0.1318 - acc: 0.9630 - val_loss: 0.1631 - val_acc: 0.9537\n",
      "Epoch 40/100\n",
      "33750/33750 [==============================] - 11s 324us/step - loss: 0.1291 - acc: 0.9640 - val_loss: 0.1615 - val_acc: 0.9551\n",
      "Epoch 41/100\n",
      "33750/33750 [==============================] - 11s 320us/step - loss: 0.1267 - acc: 0.9643 - val_loss: 0.1590 - val_acc: 0.9558\n",
      "Epoch 42/100\n",
      "33750/33750 [==============================] - 11s 340us/step - loss: 0.1243 - acc: 0.9653 - val_loss: 0.1583 - val_acc: 0.9556\n",
      "Epoch 43/100\n",
      "33750/33750 [==============================] - 11s 324us/step - loss: 0.1220 - acc: 0.9660 - val_loss: 0.1559 - val_acc: 0.9569\n",
      "Epoch 44/100\n",
      "33750/33750 [==============================] - 11s 322us/step - loss: 0.1196 - acc: 0.9665 - val_loss: 0.1544 - val_acc: 0.9576\n",
      "Epoch 45/100\n",
      "33750/33750 [==============================] - 11s 334us/step - loss: 0.1175 - acc: 0.9672 - val_loss: 0.1520 - val_acc: 0.9577\n",
      "Epoch 46/100\n",
      "33750/33750 [==============================] - 11s 326us/step - loss: 0.1152 - acc: 0.9675 - val_loss: 0.1503 - val_acc: 0.9581\n",
      "Epoch 47/100\n",
      "33750/33750 [==============================] - 11s 324us/step - loss: 0.1133 - acc: 0.9685 - val_loss: 0.1492 - val_acc: 0.9586\n",
      "Epoch 48/100\n",
      "33750/33750 [==============================] - 11s 327us/step - loss: 0.1112 - acc: 0.9692 - val_loss: 0.1477 - val_acc: 0.9596\n",
      "Epoch 49/100\n",
      "33750/33750 [==============================] - 11s 328us/step - loss: 0.1092 - acc: 0.9700 - val_loss: 0.1457 - val_acc: 0.9596\n",
      "Epoch 50/100\n",
      "33750/33750 [==============================] - 11s 326us/step - loss: 0.1074 - acc: 0.9702 - val_loss: 0.1443 - val_acc: 0.9591\n",
      "Epoch 51/100\n",
      "33750/33750 [==============================] - 11s 328us/step - loss: 0.1053 - acc: 0.9708 - val_loss: 0.1427 - val_acc: 0.9600\n",
      "Epoch 52/100\n",
      "33750/33750 [==============================] - 11s 325us/step - loss: 0.1034 - acc: 0.9717 - val_loss: 0.1412 - val_acc: 0.9602\n",
      "Epoch 53/100\n",
      "33750/33750 [==============================] - 11s 323us/step - loss: 0.1016 - acc: 0.9719 - val_loss: 0.1396 - val_acc: 0.9612\n",
      "Epoch 54/100\n",
      "33750/33750 [==============================] - 11s 330us/step - loss: 0.0997 - acc: 0.9724 - val_loss: 0.1381 - val_acc: 0.9617\n",
      "Epoch 55/100\n",
      "33750/33750 [==============================] - 11s 326us/step - loss: 0.0981 - acc: 0.9733 - val_loss: 0.1380 - val_acc: 0.9620\n",
      "Epoch 56/100\n",
      "33750/33750 [==============================] - 12s 343us/step - loss: 0.0964 - acc: 0.9733 - val_loss: 0.1365 - val_acc: 0.9623\n",
      "Epoch 57/100\n",
      "33750/33750 [==============================] - 11s 330us/step - loss: 0.0949 - acc: 0.9744 - val_loss: 0.1344 - val_acc: 0.9630\n",
      "Epoch 58/100\n",
      "33750/33750 [==============================] - 11s 326us/step - loss: 0.0930 - acc: 0.9743 - val_loss: 0.1334 - val_acc: 0.9630\n"
     ]
    },
    {
     "name": "stdout",
     "output_type": "stream",
     "text": [
      "Epoch 59/100\n",
      "33750/33750 [==============================] - 11s 326us/step - loss: 0.0915 - acc: 0.9749 - val_loss: 0.1341 - val_acc: 0.9627\n",
      "Epoch 60/100\n",
      "33750/33750 [==============================] - 11s 330us/step - loss: 0.0903 - acc: 0.9755 - val_loss: 0.1306 - val_acc: 0.9643\n",
      "Epoch 61/100\n",
      "33750/33750 [==============================] - 11s 321us/step - loss: 0.0887 - acc: 0.9761 - val_loss: 0.1301 - val_acc: 0.9641\n",
      "Epoch 62/100\n",
      "33750/33750 [==============================] - 15s 433us/step - loss: 0.0872 - acc: 0.9764 - val_loss: 0.1289 - val_acc: 0.9644\n",
      "Epoch 63/100\n",
      "33750/33750 [==============================] - 14s 414us/step - loss: 0.0857 - acc: 0.9768 - val_loss: 0.1281 - val_acc: 0.9644\n",
      "Epoch 64/100\n",
      "33750/33750 [==============================] - 11s 325us/step - loss: 0.0843 - acc: 0.9776 - val_loss: 0.1265 - val_acc: 0.9650\n",
      "Epoch 65/100\n",
      "33750/33750 [==============================] - 11s 328us/step - loss: 0.0830 - acc: 0.9779 - val_loss: 0.1259 - val_acc: 0.9654\n",
      "Epoch 66/100\n",
      "33750/33750 [==============================] - 11s 323us/step - loss: 0.0815 - acc: 0.9781 - val_loss: 0.1258 - val_acc: 0.9644\n",
      "Epoch 67/100\n",
      "33750/33750 [==============================] - 11s 325us/step - loss: 0.0802 - acc: 0.9783 - val_loss: 0.1244 - val_acc: 0.9653\n",
      "Epoch 68/100\n",
      "33750/33750 [==============================] - 11s 333us/step - loss: 0.0790 - acc: 0.9785 - val_loss: 0.1239 - val_acc: 0.9652\n",
      "Epoch 69/100\n",
      "33750/33750 [==============================] - 11s 320us/step - loss: 0.0775 - acc: 0.9794 - val_loss: 0.1228 - val_acc: 0.9655\n",
      "Epoch 70/100\n",
      "33750/33750 [==============================] - 11s 323us/step - loss: 0.0764 - acc: 0.9793 - val_loss: 0.1214 - val_acc: 0.9658\n",
      "Epoch 71/100\n",
      "33750/33750 [==============================] - 11s 332us/step - loss: 0.0754 - acc: 0.9801 - val_loss: 0.1199 - val_acc: 0.9661\n",
      "Epoch 72/100\n",
      "33750/33750 [==============================] - 11s 321us/step - loss: 0.0740 - acc: 0.9805 - val_loss: 0.1209 - val_acc: 0.9663\n",
      "Epoch 73/100\n",
      "33750/33750 [==============================] - 11s 325us/step - loss: 0.0729 - acc: 0.9807 - val_loss: 0.1188 - val_acc: 0.9668\n",
      "Epoch 74/100\n",
      "33750/33750 [==============================] - 11s 328us/step - loss: 0.0718 - acc: 0.9805 - val_loss: 0.1178 - val_acc: 0.9662\n",
      "Epoch 75/100\n",
      "33750/33750 [==============================] - 11s 324us/step - loss: 0.0705 - acc: 0.9815 - val_loss: 0.1175 - val_acc: 0.9662\n",
      "Epoch 76/100\n",
      "33750/33750 [==============================] - 11s 324us/step - loss: 0.0696 - acc: 0.9815 - val_loss: 0.1167 - val_acc: 0.9662\n",
      "Epoch 77/100\n",
      "33750/33750 [==============================] - 11s 334us/step - loss: 0.0686 - acc: 0.9821 - val_loss: 0.1163 - val_acc: 0.9664\n",
      "Epoch 78/100\n",
      "33750/33750 [==============================] - 11s 322us/step - loss: 0.0674 - acc: 0.9823 - val_loss: 0.1156 - val_acc: 0.9675\n",
      "Epoch 79/100\n",
      "33750/33750 [==============================] - 11s 324us/step - loss: 0.0664 - acc: 0.9827 - val_loss: 0.1138 - val_acc: 0.9674\n",
      "Epoch 80/100\n",
      "33750/33750 [==============================] - 12s 344us/step - loss: 0.0652 - acc: 0.9832 - val_loss: 0.1138 - val_acc: 0.9680\n",
      "Epoch 81/100\n",
      "33750/33750 [==============================] - 11s 321us/step - loss: 0.0645 - acc: 0.9832 - val_loss: 0.1130 - val_acc: 0.9678\n",
      "Epoch 82/100\n",
      "33750/33750 [==============================] - 11s 330us/step - loss: 0.0633 - acc: 0.9837 - val_loss: 0.1123 - val_acc: 0.9681\n",
      "Epoch 83/100\n",
      "33750/33750 [==============================] - 11s 326us/step - loss: 0.0625 - acc: 0.9837 - val_loss: 0.1119 - val_acc: 0.9681\n",
      "Epoch 84/100\n",
      "33750/33750 [==============================] - 12s 343us/step - loss: 0.0614 - acc: 0.9844 - val_loss: 0.1115 - val_acc: 0.9675\n",
      "Epoch 85/100\n",
      "33750/33750 [==============================] - 11s 325us/step - loss: 0.0604 - acc: 0.9847 - val_loss: 0.1114 - val_acc: 0.9680\n",
      "Epoch 86/100\n",
      "33750/33750 [==============================] - 11s 329us/step - loss: 0.0595 - acc: 0.9849 - val_loss: 0.1099 - val_acc: 0.9680\n",
      "Epoch 87/100\n",
      "33750/33750 [==============================] - 11s 321us/step - loss: 0.0586 - acc: 0.9852 - val_loss: 0.1094 - val_acc: 0.9692\n",
      "Epoch 88/100\n",
      "33750/33750 [==============================] - 11s 322us/step - loss: 0.0579 - acc: 0.9852 - val_loss: 0.1083 - val_acc: 0.9684\n",
      "Epoch 89/100\n",
      "33750/33750 [==============================] - 11s 330us/step - loss: 0.0570 - acc: 0.9854 - val_loss: 0.1080 - val_acc: 0.9700\n",
      "Epoch 90/100\n",
      "33750/33750 [==============================] - 11s 325us/step - loss: 0.0561 - acc: 0.9858 - val_loss: 0.1080 - val_acc: 0.9689\n",
      "Epoch 91/100\n",
      "33750/33750 [==============================] - 11s 336us/step - loss: 0.0552 - acc: 0.9867 - val_loss: 0.1074 - val_acc: 0.9692\n",
      "Epoch 92/100\n",
      "33750/33750 [==============================] - 11s 332us/step - loss: 0.0546 - acc: 0.9861 - val_loss: 0.1065 - val_acc: 0.9698\n",
      "Epoch 93/100\n",
      "33750/33750 [==============================] - 11s 330us/step - loss: 0.0537 - acc: 0.9866 - val_loss: 0.1072 - val_acc: 0.9687\n",
      "Epoch 94/100\n",
      "33750/33750 [==============================] - 11s 320us/step - loss: 0.0529 - acc: 0.9869 - val_loss: 0.1056 - val_acc: 0.9696\n",
      "Epoch 95/100\n",
      "33750/33750 [==============================] - 11s 329us/step - loss: 0.0522 - acc: 0.9869 - val_loss: 0.1052 - val_acc: 0.9699\n",
      "Epoch 96/100\n",
      "33750/33750 [==============================] - 11s 319us/step - loss: 0.0514 - acc: 0.9873 - val_loss: 0.1050 - val_acc: 0.9692\n",
      "Epoch 97/100\n",
      "33750/33750 [==============================] - 11s 325us/step - loss: 0.0506 - acc: 0.9875 - val_loss: 0.1043 - val_acc: 0.9698\n",
      "Epoch 98/100\n",
      "33750/33750 [==============================] - 11s 328us/step - loss: 0.0499 - acc: 0.9877 - val_loss: 0.1042 - val_acc: 0.9701\n",
      "Epoch 99/100\n",
      "33750/33750 [==============================] - 11s 325us/step - loss: 0.0491 - acc: 0.9877 - val_loss: 0.1031 - val_acc: 0.9705\n",
      "Epoch 100/100\n",
      "33750/33750 [==============================] - 11s 327us/step - loss: 0.0484 - acc: 0.9880 - val_loss: 0.1032 - val_acc: 0.9692\n"
     ]
    }
   ],
   "source": [
    "model_history = model.fit(x_train, y_train, batch_size=128, epochs=100,\n",
    "                          verbose=1, validation_data=(x_val, y_val))"
   ]
  },
  {
   "cell_type": "markdown",
   "metadata": {},
   "source": [
    "Plot the history of the training process."
   ]
  },
  {
   "cell_type": "code",
   "execution_count": 64,
   "metadata": {},
   "outputs": [],
   "source": [
    "def plot_history(network_history):\n",
    "    plt.figure()\n",
    "    plt.xlabel('Epochs')\n",
    "    plt.ylabel('Loss')\n",
    "    plt.plot(network_history.history['loss'])\n",
    "    plt.plot(network_history.history['val_loss'])\n",
    "    plt.legend(['Training', 'Validation'])\n",
    "\n",
    "    plt.figure()\n",
    "    plt.xlabel('Epochs')\n",
    "    plt.ylabel('Accuracy')\n",
    "    plt.plot(network_history.history['acc'])\n",
    "    plt.plot(network_history.history['val_acc'])\n",
    "    plt.legend(['Training', 'Validation'], loc='lower right')"
   ]
  },
  {
   "cell_type": "code",
   "execution_count": 65,
   "metadata": {
    "scrolled": true
   },
   "outputs": [
    {
     "data": {
      "image/png": "[encoded data removed]",
      "text/plain": [
       "<Figure size 432x288 with 1 Axes>"
      ]
     },
     "metadata": {},
     "output_type": "display_data"
    },
    {
     "data": {
      "image/png": "[encoded data removed]",
      "text/plain": [
       "<Figure size 432x288 with 1 Axes>"
      ]
     },
     "metadata": {},
     "output_type": "display_data"
    }
   ],
   "source": [
    "plot_history(model_history)"
   ]
  },
  {
   "cell_type": "markdown",
   "metadata": {},
   "source": [
    "Let's compare the performance of the model on the training, validation and test set."
   ]
  },
  {
   "cell_type": "markdown",
   "metadata": {},
   "source": [
    "model.evaluate(x_train, y_train"
   ]
  },
  {
   "cell_type": "code",
   "execution_count": null,
   "metadata": {},
   "outputs": [],
   "source": [
    "model.evaluate(x_val, y_val)"
   ]
  },
  {
   "cell_type": "code",
   "execution_count": 88,
   "metadata": {
    "scrolled": true
   },
   "outputs": [
    {
     "name": "stdout",
     "output_type": "stream",
     "text": [
      "10000/10000 [==============================] - 6s 593us/step\n"
     ]
    },
    {
     "data": {
      "text/plain": [
       "[0.08850426195478067, 0.9738]"
      ]
     },
     "execution_count": 88,
     "metadata": {},
     "output_type": "execute_result"
    }
   ],
   "source": [
    "model.evaluate(x_test, y_test)"
   ]
  },
  {
   "cell_type": "markdown",
   "metadata": {},
   "source": [
    "### Dropout layers"
   ]
  },
  {
   "cell_type": "markdown",
   "metadata": {},
   "source": [
    "In order to reduce overfitting, drop out can be applied, i.e., randomly setting input values to 0 during training. We add a drop-out layer between the hidden layers, and between the last hidden layer and the output layer."
   ]
  },
  {
   "cell_type": "code",
   "execution_count": 72,
   "metadata": {},
   "outputs": [],
   "source": [
    "np.random.seed(1234)"
   ]
  },
  {
   "cell_type": "code",
   "execution_count": 73,
   "metadata": {},
   "outputs": [],
   "source": [
    "dropout_model = Sequential()\n",
    "dropout_model.add(Dense(512, activation='relu', input_shape=(784,)))\n",
    "dropout_model.add(Dropout(0.2))\n",
    "dropout_model.add(Dense(512, activation='relu'))\n",
    "dropout_model.add(Dropout(0.2))\n",
    "dropout_model.add(Dense(10, activation='softmax'))"
   ]
  },
  {
   "cell_type": "code",
   "execution_count": 74,
   "metadata": {
    "scrolled": true
   },
   "outputs": [
    {
     "name": "stdout",
     "output_type": "stream",
     "text": [
      "_________________________________________________________________\n",
      "Layer (type)                 Output Shape              Param #   \n",
      "=================================================================\n",
      "dense_21 (Dense)             (None, 512)               401920    \n",
      "_________________________________________________________________\n",
      "dropout_5 (Dropout)          (None, 512)               0         \n",
      "_________________________________________________________________\n",
      "dense_22 (Dense)             (None, 512)               262656    \n",
      "_________________________________________________________________\n",
      "dropout_6 (Dropout)          (None, 512)               0         \n",
      "_________________________________________________________________\n",
      "dense_23 (Dense)             (None, 10)                5130      \n",
      "=================================================================\n",
      "Total params: 669,706\n",
      "Trainable params: 669,706\n",
      "Non-trainable params: 0\n",
      "_________________________________________________________________\n"
     ]
    }
   ],
   "source": [
    "dropout_model.summary()"
   ]
  },
  {
   "cell_type": "code",
   "execution_count": 75,
   "metadata": {},
   "outputs": [],
   "source": [
    "dropout_model.compile(loss='categorical_crossentropy', optimizer=SGD(), metrics=['accuracy'])"
   ]
  },
  {
   "cell_type": "code",
   "execution_count": 76,
   "metadata": {
    "scrolled": true
   },
   "outputs": [
    {
     "name": "stdout",
     "output_type": "stream",
     "text": [
      "Train on 33750 samples, validate on 11250 samples\n",
      "Epoch 1/100\n",
      "33750/33750 [==============================] - 25s 742us/step - loss: 1.5823 - acc: 0.5948 - val_loss: 0.8774 - val_acc: 0.8280\n",
      "Epoch 2/100\n",
      "33750/33750 [==============================] - 16s 469us/step - loss: 0.7405 - acc: 0.8111 - val_loss: 0.5280 - val_acc: 0.8683\n",
      "Epoch 3/100\n",
      "33750/33750 [==============================] - 16s 462us/step - loss: 0.5427 - acc: 0.8480 - val_loss: 0.4265 - val_acc: 0.8868\n",
      "Epoch 4/100\n",
      "33750/33750 [==============================] - 15s 457us/step - loss: 0.4663 - acc: 0.8677 - val_loss: 0.3787 - val_acc: 0.8954\n",
      "Epoch 5/100\n",
      "33750/33750 [==============================] - 15s 457us/step - loss: 0.4197 - acc: 0.8787 - val_loss: 0.3498 - val_acc: 0.9003\n",
      "Epoch 6/100\n",
      "33750/33750 [==============================] - 15s 455us/step - loss: 0.3911 - acc: 0.8849 - val_loss: 0.3294 - val_acc: 0.9048\n",
      "Epoch 7/100\n",
      "33750/33750 [==============================] - 16s 473us/step - loss: 0.3672 - acc: 0.8937 - val_loss: 0.3123 - val_acc: 0.9104\n",
      "Epoch 8/100\n",
      "33750/33750 [==============================] - 15s 451us/step - loss: 0.3466 - acc: 0.8987 - val_loss: 0.3002 - val_acc: 0.9127\n",
      "Epoch 9/100\n",
      "33750/33750 [==============================] - 15s 455us/step - loss: 0.3322 - acc: 0.9027 - val_loss: 0.2893 - val_acc: 0.9154\n",
      "Epoch 10/100\n",
      "33750/33750 [==============================] - 15s 457us/step - loss: 0.3191 - acc: 0.9058 - val_loss: 0.2787 - val_acc: 0.9194\n",
      "Epoch 11/100\n",
      "33750/33750 [==============================] - 15s 452us/step - loss: 0.3075 - acc: 0.9106 - val_loss: 0.2729 - val_acc: 0.9199\n",
      "Epoch 12/100\n",
      "33750/33750 [==============================] - 15s 457us/step - loss: 0.2948 - acc: 0.9145 - val_loss: 0.2626 - val_acc: 0.9228\n",
      "Epoch 13/100\n",
      "33750/33750 [==============================] - 15s 454us/step - loss: 0.2849 - acc: 0.9176 - val_loss: 0.2546 - val_acc: 0.9253\n",
      "Epoch 14/100\n",
      "33750/33750 [==============================] - 16s 478us/step - loss: 0.2750 - acc: 0.9206 - val_loss: 0.2470 - val_acc: 0.9275\n",
      "Epoch 15/100\n",
      "33750/33750 [==============================] - 16s 469us/step - loss: 0.2661 - acc: 0.9217 - val_loss: 0.2405 - val_acc: 0.9300\n",
      "Epoch 16/100\n",
      "33750/33750 [==============================] - 16s 461us/step - loss: 0.2595 - acc: 0.9246 - val_loss: 0.2347 - val_acc: 0.9319\n",
      "Epoch 17/100\n",
      "33750/33750 [==============================] - 16s 463us/step - loss: 0.2519 - acc: 0.9267 - val_loss: 0.2282 - val_acc: 0.9344\n",
      "Epoch 18/100\n",
      "33750/33750 [==============================] - 16s 463us/step - loss: 0.2436 - acc: 0.9289 - val_loss: 0.2241 - val_acc: 0.9345\n",
      "Epoch 19/100\n",
      "33750/33750 [==============================] - 16s 478us/step - loss: 0.2391 - acc: 0.9313 - val_loss: 0.2181 - val_acc: 0.9364\n",
      "Epoch 20/100\n",
      "33750/33750 [==============================] - 15s 458us/step - loss: 0.2326 - acc: 0.9325 - val_loss: 0.2140 - val_acc: 0.9381\n",
      "Epoch 21/100\n",
      "33750/33750 [==============================] - 16s 463us/step - loss: 0.2248 - acc: 0.9349 - val_loss: 0.2084 - val_acc: 0.9403\n",
      "Epoch 22/100\n",
      "33750/33750 [==============================] - 17s 492us/step - loss: 0.2209 - acc: 0.9361 - val_loss: 0.2045 - val_acc: 0.9410\n",
      "Epoch 23/100\n",
      "33750/33750 [==============================] - 15s 451us/step - loss: 0.2145 - acc: 0.9388 - val_loss: 0.2008 - val_acc: 0.9420\n",
      "Epoch 24/100\n",
      "33750/33750 [==============================] - 15s 456us/step - loss: 0.2103 - acc: 0.9394 - val_loss: 0.1968 - val_acc: 0.9435\n",
      "Epoch 25/100\n",
      "33750/33750 [==============================] - 15s 456us/step - loss: 0.2056 - acc: 0.9410 - val_loss: 0.1940 - val_acc: 0.9444\n",
      "Epoch 26/100\n",
      "33750/33750 [==============================] - 16s 463us/step - loss: 0.2018 - acc: 0.9414 - val_loss: 0.1888 - val_acc: 0.9461\n",
      "Epoch 27/100\n",
      "33750/33750 [==============================] - 15s 450us/step - loss: 0.1956 - acc: 0.9426 - val_loss: 0.1859 - val_acc: 0.9467\n",
      "Epoch 28/100\n",
      "33750/33750 [==============================] - 16s 468us/step - loss: 0.1912 - acc: 0.9453 - val_loss: 0.1824 - val_acc: 0.9471\n",
      "Epoch 29/100\n",
      "33750/33750 [==============================] - 16s 468us/step - loss: 0.1883 - acc: 0.9456 - val_loss: 0.1791 - val_acc: 0.9483\n",
      "Epoch 30/100\n",
      "33750/33750 [==============================] - 16s 460us/step - loss: 0.1851 - acc: 0.9457 - val_loss: 0.1767 - val_acc: 0.9488\n",
      "Epoch 31/100\n",
      "33750/33750 [==============================] - 17s 494us/step - loss: 0.1805 - acc: 0.9483 - val_loss: 0.1736 - val_acc: 0.9494\n",
      "Epoch 32/100\n",
      "33750/33750 [==============================] - 16s 465us/step - loss: 0.1764 - acc: 0.9494 - val_loss: 0.1713 - val_acc: 0.9501\n",
      "Epoch 33/100\n",
      "33750/33750 [==============================] - 16s 459us/step - loss: 0.1734 - acc: 0.9496 - val_loss: 0.1688 - val_acc: 0.9498\n",
      "Epoch 34/100\n",
      "33750/33750 [==============================] - 15s 456us/step - loss: 0.1684 - acc: 0.9511 - val_loss: 0.1658 - val_acc: 0.9515\n",
      "Epoch 35/100\n",
      "33750/33750 [==============================] - 15s 453us/step - loss: 0.1667 - acc: 0.9516 - val_loss: 0.1640 - val_acc: 0.9517\n",
      "Epoch 36/100\n",
      "33750/33750 [==============================] - 16s 469us/step - loss: 0.1628 - acc: 0.9527 - val_loss: 0.1616 - val_acc: 0.9520\n",
      "Epoch 37/100\n",
      "33750/33750 [==============================] - 16s 460us/step - loss: 0.1616 - acc: 0.9533 - val_loss: 0.1583 - val_acc: 0.9539\n",
      "Epoch 38/100\n",
      "33750/33750 [==============================] - 17s 496us/step - loss: 0.1582 - acc: 0.9537 - val_loss: 0.1568 - val_acc: 0.9532\n",
      "Epoch 39/100\n",
      "33750/33750 [==============================] - 15s 452us/step - loss: 0.1553 - acc: 0.9541 - val_loss: 0.1544 - val_acc: 0.9536\n",
      "Epoch 40/100\n",
      "33750/33750 [==============================] - 16s 470us/step - loss: 0.1533 - acc: 0.9549 - val_loss: 0.1524 - val_acc: 0.9551\n",
      "Epoch 41/100\n",
      "33750/33750 [==============================] - 15s 459us/step - loss: 0.1514 - acc: 0.9551 - val_loss: 0.1505 - val_acc: 0.9557\n",
      "Epoch 42/100\n",
      "33750/33750 [==============================] - 19s 550us/step - loss: 0.1479 - acc: 0.9571 - val_loss: 0.1489 - val_acc: 0.9560\n",
      "Epoch 43/100\n",
      "33750/33750 [==============================] - 15s 458us/step - loss: 0.1462 - acc: 0.9575 - val_loss: 0.1474 - val_acc: 0.9564\n",
      "Epoch 44/100\n",
      "33750/33750 [==============================] - 15s 459us/step - loss: 0.1423 - acc: 0.9597 - val_loss: 0.1453 - val_acc: 0.9578\n",
      "Epoch 45/100\n",
      "33750/33750 [==============================] - 16s 464us/step - loss: 0.1418 - acc: 0.9581 - val_loss: 0.1436 - val_acc: 0.9573\n",
      "Epoch 46/100\n",
      "33750/33750 [==============================] - 16s 465us/step - loss: 0.1388 - acc: 0.9596 - val_loss: 0.1416 - val_acc: 0.9580\n",
      "Epoch 47/100\n",
      "33750/33750 [==============================] - 16s 462us/step - loss: 0.1376 - acc: 0.9591 - val_loss: 0.1404 - val_acc: 0.9588\n",
      "Epoch 48/100\n",
      "33750/33750 [==============================] - 16s 466us/step - loss: 0.1329 - acc: 0.9619 - val_loss: 0.1388 - val_acc: 0.9595\n",
      "Epoch 49/100\n",
      "33750/33750 [==============================] - 15s 452us/step - loss: 0.1331 - acc: 0.9597 - val_loss: 0.1380 - val_acc: 0.9596\n",
      "Epoch 50/100\n",
      "33750/33750 [==============================] - 16s 470us/step - loss: 0.1310 - acc: 0.9625 - val_loss: 0.1358 - val_acc: 0.9600\n",
      "Epoch 51/100\n",
      "33750/33750 [==============================] - 16s 462us/step - loss: 0.1290 - acc: 0.9624 - val_loss: 0.1350 - val_acc: 0.9604\n",
      "Epoch 52/100\n",
      "33750/33750 [==============================] - 16s 466us/step - loss: 0.1279 - acc: 0.9623 - val_loss: 0.1329 - val_acc: 0.9610\n",
      "Epoch 53/100\n",
      "33750/33750 [==============================] - 16s 462us/step - loss: 0.1232 - acc: 0.9642 - val_loss: 0.1319 - val_acc: 0.9608\n",
      "Epoch 54/100\n",
      "33750/33750 [==============================] - 15s 459us/step - loss: 0.1211 - acc: 0.9639 - val_loss: 0.1307 - val_acc: 0.9609\n",
      "Epoch 55/100\n",
      "33750/33750 [==============================] - 16s 460us/step - loss: 0.1214 - acc: 0.9644 - val_loss: 0.1296 - val_acc: 0.9619\n",
      "Epoch 56/100\n",
      "33750/33750 [==============================] - 16s 465us/step - loss: 0.1193 - acc: 0.9654 - val_loss: 0.1285 - val_acc: 0.9622\n",
      "Epoch 57/100\n",
      "33750/33750 [==============================] - 15s 458us/step - loss: 0.1180 - acc: 0.9654 - val_loss: 0.1269 - val_acc: 0.9629\n",
      "Epoch 58/100\n",
      "33750/33750 [==============================] - 16s 465us/step - loss: 0.1163 - acc: 0.9659 - val_loss: 0.1254 - val_acc: 0.9641\n"
     ]
    },
    {
     "name": "stdout",
     "output_type": "stream",
     "text": [
      "Epoch 59/100\n",
      "33750/33750 [==============================] - 16s 460us/step - loss: 0.1141 - acc: 0.9670 - val_loss: 0.1247 - val_acc: 0.9644\n",
      "Epoch 60/100\n",
      "33750/33750 [==============================] - 16s 463us/step - loss: 0.1137 - acc: 0.9657 - val_loss: 0.1234 - val_acc: 0.9647\n",
      "Epoch 61/100\n",
      "33750/33750 [==============================] - 16s 472us/step - loss: 0.1111 - acc: 0.9667 - val_loss: 0.1225 - val_acc: 0.9653\n",
      "Epoch 62/100\n",
      "33750/33750 [==============================] - 16s 478us/step - loss: 0.1107 - acc: 0.9685 - val_loss: 0.1218 - val_acc: 0.9653\n",
      "Epoch 63/100\n",
      "33750/33750 [==============================] - 16s 467us/step - loss: 0.1072 - acc: 0.9695 - val_loss: 0.1208 - val_acc: 0.9655\n",
      "Epoch 64/100\n",
      "33750/33750 [==============================] - 15s 452us/step - loss: 0.1066 - acc: 0.9688 - val_loss: 0.1196 - val_acc: 0.9658\n",
      "Epoch 65/100\n",
      "33750/33750 [==============================] - 16s 468us/step - loss: 0.1070 - acc: 0.9680 - val_loss: 0.1189 - val_acc: 0.9661\n",
      "Epoch 66/100\n",
      "33750/33750 [==============================] - 15s 458us/step - loss: 0.1060 - acc: 0.9692 - val_loss: 0.1185 - val_acc: 0.9660\n",
      "Epoch 67/100\n",
      "33750/33750 [==============================] - 16s 461us/step - loss: 0.1015 - acc: 0.9693 - val_loss: 0.1178 - val_acc: 0.9656\n",
      "Epoch 68/100\n",
      "33750/33750 [==============================] - 16s 460us/step - loss: 0.1001 - acc: 0.9707 - val_loss: 0.1166 - val_acc: 0.9665\n",
      "Epoch 69/100\n",
      "33750/33750 [==============================] - 15s 457us/step - loss: 0.0990 - acc: 0.9705 - val_loss: 0.1156 - val_acc: 0.9667\n",
      "Epoch 70/100\n",
      "33750/33750 [==============================] - 15s 452us/step - loss: 0.0989 - acc: 0.9706 - val_loss: 0.1152 - val_acc: 0.9664\n",
      "Epoch 71/100\n",
      "33750/33750 [==============================] - 16s 474us/step - loss: 0.0984 - acc: 0.9714 - val_loss: 0.1137 - val_acc: 0.9678\n",
      "Epoch 72/100\n",
      "33750/33750 [==============================] - 15s 454us/step - loss: 0.0980 - acc: 0.9710 - val_loss: 0.1134 - val_acc: 0.9676\n",
      "Epoch 73/100\n",
      "33750/33750 [==============================] - 16s 461us/step - loss: 0.0962 - acc: 0.9716 - val_loss: 0.1121 - val_acc: 0.9676\n",
      "Epoch 74/100\n",
      "33750/33750 [==============================] - 16s 466us/step - loss: 0.0945 - acc: 0.9721 - val_loss: 0.1113 - val_acc: 0.9673\n",
      "Epoch 75/100\n",
      "33750/33750 [==============================] - 16s 460us/step - loss: 0.0922 - acc: 0.9733 - val_loss: 0.1106 - val_acc: 0.9678\n",
      "Epoch 76/100\n",
      "33750/33750 [==============================] - 16s 473us/step - loss: 0.0916 - acc: 0.9734 - val_loss: 0.1101 - val_acc: 0.9679\n",
      "Epoch 77/100\n",
      "33750/33750 [==============================] - 16s 472us/step - loss: 0.0917 - acc: 0.9733 - val_loss: 0.1092 - val_acc: 0.9686\n",
      "Epoch 78/100\n",
      "33750/33750 [==============================] - 16s 462us/step - loss: 0.0900 - acc: 0.9726 - val_loss: 0.1086 - val_acc: 0.9689\n",
      "Epoch 79/100\n",
      "33750/33750 [==============================] - 15s 459us/step - loss: 0.0894 - acc: 0.9732 - val_loss: 0.1080 - val_acc: 0.9687\n",
      "Epoch 80/100\n",
      "33750/33750 [==============================] - 16s 461us/step - loss: 0.0869 - acc: 0.9748 - val_loss: 0.1080 - val_acc: 0.9682\n",
      "Epoch 81/100\n",
      "33750/33750 [==============================] - 16s 468us/step - loss: 0.0875 - acc: 0.9744 - val_loss: 0.1067 - val_acc: 0.9691\n",
      "Epoch 82/100\n",
      "33750/33750 [==============================] - 16s 483us/step - loss: 0.0865 - acc: 0.9734 - val_loss: 0.1059 - val_acc: 0.9693\n",
      "Epoch 83/100\n",
      "33750/33750 [==============================] - 16s 471us/step - loss: 0.0845 - acc: 0.9756 - val_loss: 0.1053 - val_acc: 0.9693\n",
      "Epoch 84/100\n",
      "33750/33750 [==============================] - 16s 466us/step - loss: 0.0847 - acc: 0.9742 - val_loss: 0.1049 - val_acc: 0.9690\n",
      "Epoch 85/100\n",
      "33750/33750 [==============================] - 16s 461us/step - loss: 0.0831 - acc: 0.9750 - val_loss: 0.1045 - val_acc: 0.9695\n",
      "Epoch 86/100\n",
      "33750/33750 [==============================] - 16s 462us/step - loss: 0.0806 - acc: 0.9757 - val_loss: 0.1032 - val_acc: 0.9702\n",
      "Epoch 87/100\n",
      "33750/33750 [==============================] - 16s 465us/step - loss: 0.0807 - acc: 0.9766 - val_loss: 0.1030 - val_acc: 0.9694\n",
      "Epoch 88/100\n",
      "33750/33750 [==============================] - 16s 467us/step - loss: 0.0797 - acc: 0.9764 - val_loss: 0.1023 - val_acc: 0.9701\n",
      "Epoch 89/100\n",
      "33750/33750 [==============================] - 16s 487us/step - loss: 0.0812 - acc: 0.9755 - val_loss: 0.1019 - val_acc: 0.9703\n",
      "Epoch 90/100\n",
      "33750/33750 [==============================] - 16s 482us/step - loss: 0.0786 - acc: 0.9766 - val_loss: 0.1015 - val_acc: 0.9704\n",
      "Epoch 91/100\n",
      "33750/33750 [==============================] - 16s 479us/step - loss: 0.0778 - acc: 0.9771 - val_loss: 0.1010 - val_acc: 0.9708\n",
      "Epoch 92/100\n",
      "33750/33750 [==============================] - 16s 466us/step - loss: 0.0769 - acc: 0.9764 - val_loss: 0.1008 - val_acc: 0.9703\n",
      "Epoch 93/100\n",
      "33750/33750 [==============================] - 15s 456us/step - loss: 0.0756 - acc: 0.9782 - val_loss: 0.1003 - val_acc: 0.9707\n",
      "Epoch 94/100\n",
      "33750/33750 [==============================] - 16s 469us/step - loss: 0.0750 - acc: 0.9783 - val_loss: 0.0998 - val_acc: 0.9712\n",
      "Epoch 95/100\n",
      "33750/33750 [==============================] - 16s 475us/step - loss: 0.0725 - acc: 0.9786 - val_loss: 0.0992 - val_acc: 0.9716\n",
      "Epoch 96/100\n",
      "33750/33750 [==============================] - 16s 468us/step - loss: 0.0734 - acc: 0.9775 - val_loss: 0.0990 - val_acc: 0.9711\n",
      "Epoch 97/100\n",
      "33750/33750 [==============================] - 16s 469us/step - loss: 0.0722 - acc: 0.9792 - val_loss: 0.0985 - val_acc: 0.9711\n",
      "Epoch 98/100\n",
      "33750/33750 [==============================] - 16s 485us/step - loss: 0.0726 - acc: 0.9785 - val_loss: 0.0979 - val_acc: 0.9717\n",
      "Epoch 99/100\n",
      "33750/33750 [==============================] - 17s 490us/step - loss: 0.0700 - acc: 0.9792 - val_loss: 0.0971 - val_acc: 0.9716\n",
      "Epoch 100/100\n",
      "33750/33750 [==============================] - 16s 460us/step - loss: 0.0700 - acc: 0.9786 - val_loss: 0.0968 - val_acc: 0.9718\n"
     ]
    }
   ],
   "source": [
    "dropout_model_history = dropout_model.fit(x_train, y_train, batch_size=128, epochs=100,\n",
    "                          verbose=1, validation_data=(x_val, y_val))"
   ]
  },
  {
   "cell_type": "code",
   "execution_count": 77,
   "metadata": {},
   "outputs": [
    {
     "data": {
      "image/png": "[encoded data removed]",
      "text/plain": [
       "<Figure size 432x288 with 1 Axes>"
      ]
     },
     "metadata": {},
     "output_type": "display_data"
    },
    {
     "data": {
      "image/png": "[encoded data removed]",
      "text/plain": [
       "<Figure size 432x288 with 1 Axes>"
      ]
     },
     "metadata": {},
     "output_type": "display_data"
    }
   ],
   "source": [
    "plot_history(dropout_model_history)"
   ]
  },
  {
   "cell_type": "markdown",
   "metadata": {},
   "source": [
    "Again, let's compare the performance of the model on the training, validation and test set."
   ]
  },
  {
   "cell_type": "code",
   "execution_count": 88,
   "metadata": {
    "scrolled": true
   },
   "outputs": [
    {
     "name": "stdout",
     "output_type": "stream",
     "text": [
      "10000/10000 [==============================] - 6s 593us/step\n"
     ]
    },
    {
     "data": {
      "text/plain": [
       "[0.08850426195478067, 0.9738]"
      ]
     },
     "execution_count": 88,
     "metadata": {},
     "output_type": "execute_result"
    }
   ],
   "source": [
    "dropout_model.evaluate(x_train, y_train)"
   ]
  },
  {
   "cell_type": "code",
   "execution_count": 88,
   "metadata": {
    "scrolled": true
   },
   "outputs": [
    {
     "name": "stdout",
     "output_type": "stream",
     "text": [
      "10000/10000 [==============================] - 6s 593us/step\n"
     ]
    },
    {
     "data": {
      "text/plain": [
       "[0.08850426195478067, 0.9738]"
      ]
     },
     "execution_count": 88,
     "metadata": {},
     "output_type": "execute_result"
    }
   ],
   "source": [
    "dropout_model.evaluate(x_val, y_val)"
   ]
  },
  {
   "cell_type": "code",
   "execution_count": 88,
   "metadata": {
    "scrolled": false
   },
   "outputs": [
    {
     "name": "stdout",
     "output_type": "stream",
     "text": [
      "10000/10000 [==============================] - 6s 593us/step\n"
     ]
    },
    {
     "data": {
      "text/plain": [
       "[0.08850426195478067, 0.9738]"
      ]
     },
     "execution_count": 88,
     "metadata": {},
     "output_type": "execute_result"
    }
   ],
   "source": [
    "dropout_model.evaluate(x_test, y_test)"
   ]
  },
  {
   "cell_type": "markdown",
   "metadata": {},
   "source": [
    "## Understanding the model"
   ]
  },
  {
   "cell_type": "markdown",
   "metadata": {},
   "source": [
    "We should try to gain some insight into the model.  There are several ways to do this."
   ]
  },
  {
   "cell_type": "markdown",
   "metadata": {},
   "source": [
    "### Confustion matrix"
   ]
  },
  {
   "cell_type": "markdown",
   "metadata": {},
   "source": [
    "The model produces some classification errors, it would be interesting to see the type of errors.  Computing a confustion matrix is useful for that prupose."
   ]
  },
  {
   "cell_type": "code",
   "execution_count": 100,
   "metadata": {},
   "outputs": [],
   "source": [
    "y_predict_classes = dropout_model.predict_classes(x_test)"
   ]
  },
  {
   "cell_type": "code",
   "execution_count": 103,
   "metadata": {},
   "outputs": [],
   "source": [
    "y_test_classes = np.argmax(y_test, axis=1)"
   ]
  },
  {
   "cell_type": "code",
   "execution_count": 106,
   "metadata": {},
   "outputs": [
    {
     "data": {
      "text/plain": [
       "array([[ 968,    0,    0,    2,    0,    4,    2,    2,    2,    0],\n",
       "       [   0, 1123,    3,    1,    0,    1,    4,    1,    2,    0],\n",
       "       [   7,    1, 1002,    5,    1,    1,    2,    8,    5,    0],\n",
       "       [   0,    0,    4,  990,    0,    6,    0,    4,    4,    2],\n",
       "       [   0,    1,    5,    0,  958,    0,    3,    2,    2,   11],\n",
       "       [   3,    0,    0,    9,    2,  864,    7,    1,    5,    1],\n",
       "       [   6,    3,    0,    0,    9,    8,  929,    0,    3,    0],\n",
       "       [   1,    8,   11,    0,    2,    0,    0,  995,    2,    9],\n",
       "       [   5,    0,    3,    5,    3,    4,    6,    5,  941,    2],\n",
       "       [   4,    5,    1,    8,   10,    2,    1,    7,    3,  968]])"
      ]
     },
     "execution_count": 106,
     "metadata": {},
     "output_type": "execute_result"
    }
   ],
   "source": [
    "confusion_matrix(y_test_classes, y_predict_classes)"
   ]
  },
  {
   "cell_type": "markdown",
   "metadata": {},
   "source": [
    "From the confusion matrix, it is clear that, e.g., 2 and 7 get confused, as well as 5 and 9.  Given the data, that should come as no surprise."
   ]
  }
 ],
 "metadata": {
  "kernelspec": {
   "display_name": "Python 3",
   "language": "python",
   "name": "python3"
  },
  "language_info": {
   "codemirror_mode": {
    "name": "ipython",
    "version": 3
   },
   "file_extension": ".py",
   "mimetype": "text/x-python",
   "name": "python",
   "nbconvert_exporter": "python",
   "pygments_lexer": "ipython3",
   "version": "3.6.6"
  }
 },
 "nbformat": 4,
 "nbformat_minor": 2
}
