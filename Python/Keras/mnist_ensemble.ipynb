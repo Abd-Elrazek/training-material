{
 "cells": [
  {
   "cell_type": "code",
   "execution_count": 48,
   "metadata": {},
   "outputs": [],
   "source": [
    "from glob import glob\n",
    "from collections import Counter\n",
    "import keras\n",
    "from keras.datasets import mnist\n",
    "from keras.layers import Dense, Dropout\n",
    "from keras.models import load_model, Sequential\n",
    "from keras.optimizers import SGD\n",
    "from keras.utils import np_utils\n",
    "import numpy as np\n",
    "from sklearn.model_selection import train_test_split"
   ]
  },
  {
   "cell_type": "code",
   "execution_count": null,
   "metadata": {},
   "outputs": [],
   "source": [
    "def prepare_data():\n",
    "    (x_train, y_train), (x_test, y_test) = mnist.load_data()\n",
    "    x_train = x_train.reshape(60000, 784)\n",
    "    x_test = x_test.reshape(10000, 784)\n",
    "    x_train = x_train.astype(np.float32)/255.0\n",
    "    x_test = x_test.astype(np.float32)/255.0\n",
    "    y_train = np_utils.to_categorical(y_train)\n",
    "    y_test = np_utils.to_categorical(y_test)\n",
    "    return x_train, y_train, x_test, y_test"
   ]
  },
  {
   "cell_type": "code",
   "execution_count": 43,
   "metadata": {},
   "outputs": [],
   "source": [
    "def create_model():\n",
    "    model = Sequential()\n",
    "    model.add(Dense(512, activation='relu', input_shape=(784,)))\n",
    "    model.add(Dropout(0.2))\n",
    "    model.add(Dense(512, activation='relu'))\n",
    "    model.add(Dropout(0.2))\n",
    "    model.add(Dense(10, activation='softmax'))\n",
    "    model.compile(loss='categorical_crossentropy', optimizer=SGD(),\n",
    "                  metrics=['accuracy'])\n",
    "    return model"
   ]
  },
  {
   "cell_type": "code",
   "execution_count": 50,
   "metadata": {
    "scrolled": true
   },
   "outputs": [
    {
     "name": "stdout",
     "output_type": "stream",
     "text": [
      "Train on 45000 samples, validate on 15000 samples\n",
      "Epoch 1/10\n",
      "45000/45000 [==============================] - 136s 3ms/step - loss: 1.0269 - acc: 0.7287 - val_loss: 0.4541 - val_acc: 0.8817\n",
      "Epoch 2/10\n",
      "45000/45000 [==============================] - 96s 2ms/step - loss: 0.4596 - acc: 0.8672 - val_loss: 0.3340 - val_acc: 0.9074\n",
      "Epoch 3/10\n",
      "45000/45000 [==============================] - 49s 1ms/step - loss: 0.3775 - acc: 0.8903 - val_loss: 0.2894 - val_acc: 0.9181\n",
      "Epoch 4/10\n",
      "45000/45000 [==============================] - 53s 1ms/step - loss: 0.3329 - acc: 0.9040 - val_loss: 0.2595 - val_acc: 0.9249\n",
      "Epoch 5/10\n",
      "45000/45000 [==============================] - 53s 1ms/step - loss: 0.3021 - acc: 0.9118 - val_loss: 0.2405 - val_acc: 0.9309\n",
      "Epoch 6/10\n",
      "45000/45000 [==============================] - 49s 1ms/step - loss: 0.2761 - acc: 0.9198 - val_loss: 0.2189 - val_acc: 0.9361\n",
      "Epoch 7/10\n",
      "45000/45000 [==============================] - 155s 3ms/step - loss: 0.2548 - acc: 0.9256 - val_loss: 0.2164 - val_acc: 0.9357\n",
      "Epoch 8/10\n",
      "45000/45000 [==============================] - 53s 1ms/step - loss: 0.2392 - acc: 0.9304 - val_loss: 0.1975 - val_acc: 0.9427\n",
      "Epoch 9/10\n",
      "45000/45000 [==============================] - 133s 3ms/step - loss: 0.2226 - acc: 0.9348 - val_loss: 0.1818 - val_acc: 0.9469\n",
      "Epoch 10/10\n",
      "45000/45000 [==============================] - 65s 1ms/step - loss: 0.2109 - acc: 0.9392 - val_loss: 0.1762 - val_acc: 0.9481\n",
      "Train on 33750 samples, validate on 11250 samples\n",
      "Epoch 1/10\n",
      "33750/33750 [==============================] - 44s 1ms/step - loss: 1.1625 - acc: 0.6951 - val_loss: 0.5431 - val_acc: 0.8595\n",
      "Epoch 2/10\n",
      "33750/33750 [==============================] - 48s 1ms/step - loss: 0.5132 - acc: 0.8533 - val_loss: 0.3925 - val_acc: 0.8891\n",
      "Epoch 3/10\n",
      "33750/33750 [==============================] - 50s 1ms/step - loss: 0.4156 - acc: 0.8800 - val_loss: 0.3412 - val_acc: 0.9011\n",
      "Epoch 4/10\n",
      "33750/33750 [==============================] - 41s 1ms/step - loss: 0.3700 - acc: 0.8916 - val_loss: 0.3105 - val_acc: 0.9112\n",
      "Epoch 5/10\n",
      "33750/33750 [==============================] - 46s 1ms/step - loss: 0.3323 - acc: 0.9044 - val_loss: 0.2860 - val_acc: 0.9182\n",
      "Epoch 6/10\n",
      "33750/33750 [==============================] - 114s 3ms/step - loss: 0.3107 - acc: 0.9103 - val_loss: 0.2674 - val_acc: 0.9238\n",
      "Epoch 7/10\n",
      "33750/33750 [==============================] - 46s 1ms/step - loss: 0.2880 - acc: 0.9166 - val_loss: 0.2511 - val_acc: 0.9284\n",
      "Epoch 8/10\n",
      "33750/33750 [==============================] - 48s 1ms/step - loss: 0.2710 - acc: 0.9198 - val_loss: 0.2383 - val_acc: 0.9333\n",
      "Epoch 9/10\n",
      "33750/33750 [==============================] - 39s 1ms/step - loss: 0.2569 - acc: 0.9260 - val_loss: 0.2268 - val_acc: 0.9361\n",
      "Epoch 10/10\n",
      "33750/33750 [==============================] - 107s 3ms/step - loss: 0.2398 - acc: 0.9308 - val_loss: 0.2143 - val_acc: 0.9388\n",
      "Train on 25312 samples, validate on 8438 samples\n",
      "Epoch 1/10\n",
      "25312/25312 [==============================] - 32s 1ms/step - loss: 1.3051 - acc: 0.6607 - val_loss: 0.6191 - val_acc: 0.8554\n",
      "Epoch 2/10\n",
      "25312/25312 [==============================] - 28s 1ms/step - loss: 0.5767 - acc: 0.8392 - val_loss: 0.4211 - val_acc: 0.8854\n",
      "Epoch 3/10\n",
      "25312/25312 [==============================] - 30s 1ms/step - loss: 0.4539 - acc: 0.8692 - val_loss: 0.3567 - val_acc: 0.8983\n",
      "Epoch 4/10\n",
      "25312/25312 [==============================] - 38s 2ms/step - loss: 0.4007 - acc: 0.8851 - val_loss: 0.3249 - val_acc: 0.9086\n",
      "Epoch 5/10\n",
      "25312/25312 [==============================] - 31s 1ms/step - loss: 0.3657 - acc: 0.8942 - val_loss: 0.3012 - val_acc: 0.9130\n",
      "Epoch 6/10\n",
      "25312/25312 [==============================] - 34s 1ms/step - loss: 0.3387 - acc: 0.9021 - val_loss: 0.2842 - val_acc: 0.9178\n",
      "Epoch 7/10\n",
      "25312/25312 [==============================] - 28s 1ms/step - loss: 0.3185 - acc: 0.9072 - val_loss: 0.2695 - val_acc: 0.9217\n",
      "Epoch 8/10\n",
      "25312/25312 [==============================] - 35s 1ms/step - loss: 0.3016 - acc: 0.9115 - val_loss: 0.2578 - val_acc: 0.9252\n",
      "Epoch 9/10\n",
      "25312/25312 [==============================] - 33s 1ms/step - loss: 0.2866 - acc: 0.9171 - val_loss: 0.2454 - val_acc: 0.9289\n",
      "Epoch 10/10\n",
      "25312/25312 [==============================] - 36s 1ms/step - loss: 0.2731 - acc: 0.9219 - val_loss: 0.2364 - val_acc: 0.9306\n",
      "Train on 18984 samples, validate on 6328 samples\n",
      "Epoch 1/10\n",
      "18984/18984 [==============================] - 34s 2ms/step - loss: 1.4555 - acc: 0.6212 - val_loss: 0.7609 - val_acc: 0.8345\n",
      "Epoch 2/10\n",
      "18984/18984 [==============================] - 26s 1ms/step - loss: 0.6785 - acc: 0.8164 - val_loss: 0.4902 - val_acc: 0.8733\n",
      "Epoch 3/10\n",
      "18984/18984 [==============================] - 27s 1ms/step - loss: 0.5244 - acc: 0.8496 - val_loss: 0.4093 - val_acc: 0.8897\n",
      "Epoch 4/10\n",
      "18984/18984 [==============================] - 37s 2ms/step - loss: 0.4527 - acc: 0.8689 - val_loss: 0.3633 - val_acc: 0.8989\n",
      "Epoch 5/10\n",
      "18984/18984 [==============================] - 29s 2ms/step - loss: 0.4140 - acc: 0.8782 - val_loss: 0.3375 - val_acc: 0.9031\n",
      "Epoch 6/10\n",
      "18984/18984 [==============================] - 21s 1ms/step - loss: 0.3849 - acc: 0.8865 - val_loss: 0.3166 - val_acc: 0.9095\n",
      "Epoch 7/10\n",
      "18984/18984 [==============================] - 63s 3ms/step - loss: 0.3655 - acc: 0.8943 - val_loss: 0.3016 - val_acc: 0.9142\n",
      "Epoch 8/10\n",
      "18984/18984 [==============================] - 2531s 133ms/step - loss: 0.3439 - acc: 0.8993 - val_loss: 0.2908 - val_acc: 0.9147\n",
      "Epoch 9/10\n",
      "18984/18984 [==============================] - 22s 1ms/step - loss: 0.3266 - acc: 0.9069 - val_loss: 0.2763 - val_acc: 0.9183\n",
      "Epoch 10/10\n",
      "18984/18984 [==============================] - 27s 1ms/step - loss: 0.3147 - acc: 0.9081 - val_loss: 0.2695 - val_acc: 0.9200\n",
      "Train on 14238 samples, validate on 4746 samples\n",
      "Epoch 1/10\n",
      "14238/14238 [==============================] - 24s 2ms/step - loss: 1.6558 - acc: 0.5616 - val_loss: 1.0018 - val_acc: 0.8062\n",
      "Epoch 2/10\n",
      "14238/14238 [==============================] - 59s 4ms/step - loss: 0.8262 - acc: 0.7909 - val_loss: 0.5902 - val_acc: 0.8544\n",
      "Epoch 3/10\n",
      "10752/14238 [=====================>........] - ETA: 16s - loss: 0.6081 - acc: 0.8298"
     ]
    },
    {
     "ename": "KeyboardInterrupt",
     "evalue": "",
     "output_type": "error",
     "traceback": [
      "\u001b[0;31m---------------------------------------------------------------------------\u001b[0m",
      "\u001b[0;31mKeyboardInterrupt\u001b[0m                         Traceback (most recent call last)",
      "\u001b[0;32m<ipython-input-50-2cecdb2efe4c>\u001b[0m in \u001b[0;36m<module>\u001b[0;34m()\u001b[0m\n\u001b[1;32m      3\u001b[0m     \u001b[0mmodel\u001b[0m \u001b[0;34m=\u001b[0m \u001b[0mcreate_model\u001b[0m\u001b[0;34m(\u001b[0m\u001b[0;34m)\u001b[0m\u001b[0;34m\u001b[0m\u001b[0m\n\u001b[1;32m      4\u001b[0m     \u001b[0mx_train\u001b[0m\u001b[0;34m,\u001b[0m \u001b[0mx_val\u001b[0m\u001b[0;34m,\u001b[0m \u001b[0my_train\u001b[0m\u001b[0;34m,\u001b[0m \u001b[0my_val\u001b[0m \u001b[0;34m=\u001b[0m \u001b[0mtrain_test_split\u001b[0m\u001b[0;34m(\u001b[0m\u001b[0mx_train\u001b[0m\u001b[0;34m,\u001b[0m \u001b[0my_train\u001b[0m\u001b[0;34m)\u001b[0m\u001b[0;34m\u001b[0m\u001b[0m\n\u001b[0;32m----> 5\u001b[0;31m     \u001b[0mmodel\u001b[0m\u001b[0;34m.\u001b[0m\u001b[0mfit\u001b[0m\u001b[0;34m(\u001b[0m\u001b[0mx_train\u001b[0m\u001b[0;34m,\u001b[0m \u001b[0my_train\u001b[0m\u001b[0;34m,\u001b[0m \u001b[0mbatch_size\u001b[0m\u001b[0;34m=\u001b[0m\u001b[0;36m64\u001b[0m\u001b[0;34m,\u001b[0m \u001b[0mepochs\u001b[0m\u001b[0;34m=\u001b[0m\u001b[0;36m10\u001b[0m\u001b[0;34m,\u001b[0m \u001b[0mvalidation_data\u001b[0m\u001b[0;34m=\u001b[0m\u001b[0;34m(\u001b[0m\u001b[0mx_val\u001b[0m\u001b[0;34m,\u001b[0m \u001b[0my_val\u001b[0m\u001b[0;34m)\u001b[0m\u001b[0;34m)\u001b[0m\u001b[0;34m\u001b[0m\u001b[0m\n\u001b[0m\u001b[1;32m      6\u001b[0m     \u001b[0mmodels\u001b[0m\u001b[0;34m.\u001b[0m\u001b[0mappend\u001b[0m\u001b[0;34m(\u001b[0m\u001b[0mmodel\u001b[0m\u001b[0;34m)\u001b[0m\u001b[0;34m\u001b[0m\u001b[0m\n",
      "\u001b[0;32m~/miniconda3/envs/keras/lib/python3.6/site-packages/keras/engine/training.py\u001b[0m in \u001b[0;36mfit\u001b[0;34m(self, x, y, batch_size, epochs, verbose, callbacks, validation_split, validation_data, shuffle, class_weight, sample_weight, initial_epoch, steps_per_epoch, validation_steps, **kwargs)\u001b[0m\n\u001b[1;32m   1040\u001b[0m                                         \u001b[0minitial_epoch\u001b[0m\u001b[0;34m=\u001b[0m\u001b[0minitial_epoch\u001b[0m\u001b[0;34m,\u001b[0m\u001b[0;34m\u001b[0m\u001b[0m\n\u001b[1;32m   1041\u001b[0m                                         \u001b[0msteps_per_epoch\u001b[0m\u001b[0;34m=\u001b[0m\u001b[0msteps_per_epoch\u001b[0m\u001b[0;34m,\u001b[0m\u001b[0;34m\u001b[0m\u001b[0m\n\u001b[0;32m-> 1042\u001b[0;31m                                         validation_steps=validation_steps)\n\u001b[0m\u001b[1;32m   1043\u001b[0m \u001b[0;34m\u001b[0m\u001b[0m\n\u001b[1;32m   1044\u001b[0m     def evaluate(self, x=None, y=None,\n",
      "\u001b[0;32m~/miniconda3/envs/keras/lib/python3.6/site-packages/keras/engine/training_arrays.py\u001b[0m in \u001b[0;36mfit_loop\u001b[0;34m(model, f, ins, out_labels, batch_size, epochs, verbose, callbacks, val_f, val_ins, shuffle, callback_metrics, initial_epoch, steps_per_epoch, validation_steps)\u001b[0m\n\u001b[1;32m    197\u001b[0m                     \u001b[0mins_batch\u001b[0m\u001b[0;34m[\u001b[0m\u001b[0mi\u001b[0m\u001b[0;34m]\u001b[0m \u001b[0;34m=\u001b[0m \u001b[0mins_batch\u001b[0m\u001b[0;34m[\u001b[0m\u001b[0mi\u001b[0m\u001b[0;34m]\u001b[0m\u001b[0;34m.\u001b[0m\u001b[0mtoarray\u001b[0m\u001b[0;34m(\u001b[0m\u001b[0;34m)\u001b[0m\u001b[0;34m\u001b[0m\u001b[0m\n\u001b[1;32m    198\u001b[0m \u001b[0;34m\u001b[0m\u001b[0m\n\u001b[0;32m--> 199\u001b[0;31m                 \u001b[0mouts\u001b[0m \u001b[0;34m=\u001b[0m \u001b[0mf\u001b[0m\u001b[0;34m(\u001b[0m\u001b[0mins_batch\u001b[0m\u001b[0;34m)\u001b[0m\u001b[0;34m\u001b[0m\u001b[0m\n\u001b[0m\u001b[1;32m    200\u001b[0m                 \u001b[0;32mif\u001b[0m \u001b[0;32mnot\u001b[0m \u001b[0misinstance\u001b[0m\u001b[0;34m(\u001b[0m\u001b[0mouts\u001b[0m\u001b[0;34m,\u001b[0m \u001b[0mlist\u001b[0m\u001b[0;34m)\u001b[0m\u001b[0;34m:\u001b[0m\u001b[0;34m\u001b[0m\u001b[0m\n\u001b[1;32m    201\u001b[0m                     \u001b[0mouts\u001b[0m \u001b[0;34m=\u001b[0m \u001b[0;34m[\u001b[0m\u001b[0mouts\u001b[0m\u001b[0;34m]\u001b[0m\u001b[0;34m\u001b[0m\u001b[0m\n",
      "\u001b[0;32m~/miniconda3/envs/keras/lib/python3.6/site-packages/keras/backend/tensorflow_backend.py\u001b[0m in \u001b[0;36m__call__\u001b[0;34m(self, inputs)\u001b[0m\n\u001b[1;32m   2659\u001b[0m                 \u001b[0;32mreturn\u001b[0m \u001b[0mself\u001b[0m\u001b[0;34m.\u001b[0m\u001b[0m_legacy_call\u001b[0m\u001b[0;34m(\u001b[0m\u001b[0minputs\u001b[0m\u001b[0;34m)\u001b[0m\u001b[0;34m\u001b[0m\u001b[0m\n\u001b[1;32m   2660\u001b[0m \u001b[0;34m\u001b[0m\u001b[0m\n\u001b[0;32m-> 2661\u001b[0;31m             \u001b[0;32mreturn\u001b[0m \u001b[0mself\u001b[0m\u001b[0;34m.\u001b[0m\u001b[0m_call\u001b[0m\u001b[0;34m(\u001b[0m\u001b[0minputs\u001b[0m\u001b[0;34m)\u001b[0m\u001b[0;34m\u001b[0m\u001b[0m\n\u001b[0m\u001b[1;32m   2662\u001b[0m         \u001b[0;32melse\u001b[0m\u001b[0;34m:\u001b[0m\u001b[0;34m\u001b[0m\u001b[0m\n\u001b[1;32m   2663\u001b[0m             \u001b[0;32mif\u001b[0m \u001b[0mpy_any\u001b[0m\u001b[0;34m(\u001b[0m\u001b[0mis_tensor\u001b[0m\u001b[0;34m(\u001b[0m\u001b[0mx\u001b[0m\u001b[0;34m)\u001b[0m \u001b[0;32mfor\u001b[0m \u001b[0mx\u001b[0m \u001b[0;32min\u001b[0m \u001b[0minputs\u001b[0m\u001b[0;34m)\u001b[0m\u001b[0;34m:\u001b[0m\u001b[0;34m\u001b[0m\u001b[0m\n",
      "\u001b[0;32m~/miniconda3/envs/keras/lib/python3.6/site-packages/keras/backend/tensorflow_backend.py\u001b[0m in \u001b[0;36m_call\u001b[0;34m(self, inputs)\u001b[0m\n\u001b[1;32m   2629\u001b[0m                                 \u001b[0msymbol_vals\u001b[0m\u001b[0;34m,\u001b[0m\u001b[0;34m\u001b[0m\u001b[0m\n\u001b[1;32m   2630\u001b[0m                                 session)\n\u001b[0;32m-> 2631\u001b[0;31m         \u001b[0mfetched\u001b[0m \u001b[0;34m=\u001b[0m \u001b[0mself\u001b[0m\u001b[0;34m.\u001b[0m\u001b[0m_callable_fn\u001b[0m\u001b[0;34m(\u001b[0m\u001b[0;34m*\u001b[0m\u001b[0marray_vals\u001b[0m\u001b[0;34m)\u001b[0m\u001b[0;34m\u001b[0m\u001b[0m\n\u001b[0m\u001b[1;32m   2632\u001b[0m         \u001b[0;32mreturn\u001b[0m \u001b[0mfetched\u001b[0m\u001b[0;34m[\u001b[0m\u001b[0;34m:\u001b[0m\u001b[0mlen\u001b[0m\u001b[0;34m(\u001b[0m\u001b[0mself\u001b[0m\u001b[0;34m.\u001b[0m\u001b[0moutputs\u001b[0m\u001b[0;34m)\u001b[0m\u001b[0;34m]\u001b[0m\u001b[0;34m\u001b[0m\u001b[0m\n\u001b[1;32m   2633\u001b[0m \u001b[0;34m\u001b[0m\u001b[0m\n",
      "\u001b[0;32m~/miniconda3/envs/keras/lib/python3.6/site-packages/tensorflow/python/client/session.py\u001b[0m in \u001b[0;36m__call__\u001b[0;34m(self, *args)\u001b[0m\n\u001b[1;32m   1449\u001b[0m         \u001b[0;32mif\u001b[0m \u001b[0mself\u001b[0m\u001b[0;34m.\u001b[0m\u001b[0m_session\u001b[0m\u001b[0;34m.\u001b[0m\u001b[0m_created_with_new_api\u001b[0m\u001b[0;34m:\u001b[0m\u001b[0;34m\u001b[0m\u001b[0m\n\u001b[1;32m   1450\u001b[0m           return tf_session.TF_SessionRunCallable(\n\u001b[0;32m-> 1451\u001b[0;31m               self._session._session, self._handle, args, status, None)\n\u001b[0m\u001b[1;32m   1452\u001b[0m         \u001b[0;32melse\u001b[0m\u001b[0;34m:\u001b[0m\u001b[0;34m\u001b[0m\u001b[0m\n\u001b[1;32m   1453\u001b[0m           return tf_session.TF_DeprecatedSessionRunCallable(\n",
      "\u001b[0;31mKeyboardInterrupt\u001b[0m: "
     ]
    }
   ],
   "source": [
    "histories = list()\n",
    "models = list()\n",
    "for i in range(7):\n",
    "    print(f'model {i + 1}')\n",
    "    model = create_model()\n",
    "    x_train, x_val, y_train, y_val = train_test_split(x_train, y_train)\n",
    "    history = model.fit(x_train, y_train, batch_size=64, epochs=10,\n",
    "                        validation_data=(x_val, y_val), verbose=0)\n",
    "    models.append(model)\n",
    "    histories.append(history)"
   ]
  },
  {
   "cell_type": "code",
   "execution_count": 11,
   "metadata": {},
   "outputs": [
    {
     "name": "stdout",
     "output_type": "stream",
     "text": [
      "Models/mnist_mpl_04.h5\n",
      "Models/mnist_mpl_09.h5\n",
      "Models/mnist_mpl_03.h5\n",
      "Models/mnist_mpl_02.h5\n",
      "Models/mnist_mpl_01.h5\n",
      "Models/mnist_mpl_06.h5\n",
      "Models/mnist_mpl_08.h5\n",
      "Models/mnist_mpl_07.h5\n",
      "Models/mnist_mpl_05.h5\n"
     ]
    }
   ],
   "source": [
    "models = list()\n",
    "for model_file in glob(\"Models/mnist_mpl_0*.h5\"):\n",
    "    print(model_file)\n",
    "    models.append(load_model(model_file))"
   ]
  },
  {
   "cell_type": "code",
   "execution_count": 22,
   "metadata": {},
   "outputs": [],
   "source": [
    "accuracies = list()\n",
    "for model in models:\n",
    "    _, accuracy = model.evaluate(x_test, y_test, verbose=0)\n",
    "    accuracies.append(accuracy)"
   ]
  },
  {
   "cell_type": "code",
   "execution_count": 23,
   "metadata": {},
   "outputs": [
    {
     "name": "stdout",
     "output_type": "stream",
     "text": [
      "0.9763 0.9774\n"
     ]
    }
   ],
   "source": [
    "print(min(accuracies), max(accuracies))"
   ]
  },
  {
   "cell_type": "code",
   "execution_count": 29,
   "metadata": {},
   "outputs": [],
   "source": [
    "y = models[0].predict_classes(x_test)"
   ]
  },
  {
   "cell_type": "code",
   "execution_count": 31,
   "metadata": {},
   "outputs": [
    {
     "data": {
      "text/plain": [
       "dtype('int64')"
      ]
     },
     "execution_count": 31,
     "metadata": {},
     "output_type": "execute_result"
    }
   ],
   "source": [
    "y.dtype"
   ]
  },
  {
   "cell_type": "code",
   "execution_count": 33,
   "metadata": {},
   "outputs": [],
   "source": [
    "y_infer = np.empty((len(models), len(y_test)), dtype=np.int64)"
   ]
  },
  {
   "cell_type": "code",
   "execution_count": 34,
   "metadata": {},
   "outputs": [],
   "source": [
    "for i, model in enumerate(models):\n",
    "    y_infer[i, :] = model.predict_classes(x_test)"
   ]
  },
  {
   "cell_type": "code",
   "execution_count": 35,
   "metadata": {},
   "outputs": [
    {
     "data": {
      "text/plain": [
       "(9, 10000)"
      ]
     },
     "execution_count": 35,
     "metadata": {},
     "output_type": "execute_result"
    }
   ],
   "source": [
    "y_infer.shape"
   ]
  },
  {
   "cell_type": "code",
   "execution_count": 41,
   "metadata": {
    "scrolled": true
   },
   "outputs": [
    {
     "name": "stdout",
     "output_type": "stream",
     "text": [
      "0.9781\n"
     ]
    }
   ],
   "source": [
    "mistakes = 0\n",
    "for j in range(y_infer.shape[1]):\n",
    "    counter = Counter()\n",
    "    for i in range(y_infer.shape[0]):\n",
    "        counter[y_infer[i, j]] += 1\n",
    "    inferred = counter.most_common(1)[0][0]\n",
    "    if inferred != np.argmax(y_test[j]):\n",
    "        mistakes += 1\n",
    "print(1.0 - mistakes/len(y_test))"
   ]
  },
  {
   "cell_type": "code",
   "execution_count": null,
   "metadata": {},
   "outputs": [],
   "source": []
  }
 ],
 "metadata": {
  "kernelspec": {
   "display_name": "Python 3",
   "language": "python",
   "name": "python3"
  },
  "language_info": {
   "codemirror_mode": {
    "name": "ipython",
    "version": 3
   },
   "file_extension": ".py",
   "mimetype": "text/x-python",
   "name": "python",
   "nbconvert_exporter": "python",
   "pygments_lexer": "ipython3",
   "version": "3.6.6"
  }
 },
 "nbformat": 4,
 "nbformat_minor": 2
}
