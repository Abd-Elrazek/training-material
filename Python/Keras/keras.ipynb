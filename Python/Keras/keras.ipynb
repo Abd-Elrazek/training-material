{
 "cells": [
  {
   "cell_type": "markdown",
   "metadata": {},
   "source": [
    "# Keras deep learning library"
   ]
  },
  {
   "cell_type": "markdown",
   "metadata": {},
   "source": [
    "## Load data"
   ]
  },
  {
   "cell_type": "markdown",
   "metadata": {},
   "source": [
    "Import the required modules."
   ]
  },
  {
   "cell_type": "code",
   "execution_count": 1,
   "metadata": {},
   "outputs": [
    {
     "name": "stderr",
     "output_type": "stream",
     "text": [
      "Using TensorFlow backend.\n"
     ]
    }
   ],
   "source": [
    "from keras.utils import np_utils\n",
    "import matplotlib.pyplot as plt\n",
    "import numpy as np\n",
    "from sklearn.model_selection import train_test_split\n",
    "from sklearn.preprocessing import StandardScaler, LabelEncoder\n",
    "%matplotlib inline"
   ]
  },
  {
   "cell_type": "markdown",
   "metadata": {},
   "source": [
    "Load the training data using scikit-learn under the hood."
   ]
  },
  {
   "cell_type": "code",
   "execution_count": 2,
   "metadata": {
    "collapsed": true
   },
   "outputs": [],
   "source": [
    "data = np.genfromtxt('Data/otto_group_train.csv', delimiter=',',\n",
    "                     skip_header=1, dtype=np.object)"
   ]
  },
  {
   "cell_type": "markdown",
   "metadata": {},
   "source": [
    "For good measure, we shuffle the training data randomly."
   ]
  },
  {
   "cell_type": "code",
   "execution_count": 3,
   "metadata": {
    "collapsed": true
   },
   "outputs": [],
   "source": [
    "np.random.shuffle(data)"
   ]
  },
  {
   "cell_type": "markdown",
   "metadata": {},
   "source": [
    "The first column is an ID that doesn't concern us. The next 93 columns encode the features, which will be the input to the neural network, the last column is the label, the output of the network."
   ]
  },
  {
   "cell_type": "code",
   "execution_count": 4,
   "metadata": {},
   "outputs": [],
   "source": [
    "features = data[:, 1:-1].astype(dtype=np.float32)\n",
    "labels = data[:, -1]"
   ]
  },
  {
   "cell_type": "code",
   "execution_count": 5,
   "metadata": {
    "scrolled": true
   },
   "outputs": [
    {
     "data": {
      "text/plain": [
       "((61878, 93), dtype('float32'), (61878,), dtype('O'))"
      ]
     },
     "execution_count": 5,
     "metadata": {},
     "output_type": "execute_result"
    }
   ],
   "source": [
    "features.shape, features.dtype, labels.shape, labels.dtype"
   ]
  },
  {
   "cell_type": "markdown",
   "metadata": {},
   "source": [
    "The labels should be encoded as one-hot."
   ]
  },
  {
   "cell_type": "code",
   "execution_count": 6,
   "metadata": {},
   "outputs": [],
   "source": [
    "encoder = LabelEncoder()\n",
    "encoder.fit(labels)\n",
    "labels = encoder.transform(labels)\n",
    "labels = np_utils.to_categorical(labels).astype(np.int32)"
   ]
  },
  {
   "cell_type": "code",
   "execution_count": 7,
   "metadata": {},
   "outputs": [
    {
     "data": {
      "text/plain": [
       "((61878, 9), dtype('int32'))"
      ]
     },
     "execution_count": 7,
     "metadata": {},
     "output_type": "execute_result"
    }
   ],
   "source": [
    "labels.shape, labels.dtype"
   ]
  },
  {
   "cell_type": "markdown",
   "metadata": {},
   "source": [
    "We split the data into a training and a test set, selecting $10 \\%$ for tests."
   ]
  },
  {
   "cell_type": "code",
   "execution_count": 8,
   "metadata": {},
   "outputs": [],
   "source": [
    "features_train, features_test, Y_train, Y_test = train_test_split(features, labels,\n",
    "                                                                  test_size=0.10,\n",
    "                                                                  random_state=42)"
   ]
  },
  {
   "cell_type": "markdown",
   "metadata": {},
   "source": [
    "We rescale the features we'll use for training."
   ]
  },
  {
   "cell_type": "code",
   "execution_count": 9,
   "metadata": {
    "collapsed": true
   },
   "outputs": [],
   "source": [
    "scaler = StandardScaler()\n",
    "X_train = scaler.fit_transform(features_train)"
   ]
  },
  {
   "cell_type": "markdown",
   "metadata": {},
   "source": [
    "The test features are transformed using the fitted scaler for the training features."
   ]
  },
  {
   "cell_type": "code",
   "execution_count": 10,
   "metadata": {},
   "outputs": [],
   "source": [
    "X_test = scaler.transform(features_test)"
   ]
  },
  {
   "cell_type": "code",
   "execution_count": 11,
   "metadata": {},
   "outputs": [
    {
     "data": {
      "text/plain": [
       "((55690, 93), (55690, 9))"
      ]
     },
     "execution_count": 11,
     "metadata": {},
     "output_type": "execute_result"
    }
   ],
   "source": [
    "X_train.shape, Y_train.shape"
   ]
  },
  {
   "cell_type": "code",
   "execution_count": 12,
   "metadata": {},
   "outputs": [
    {
     "data": {
      "text/plain": [
       "((6188, 93), (6188, 9))"
      ]
     },
     "execution_count": 12,
     "metadata": {},
     "output_type": "execute_result"
    }
   ],
   "source": [
    "X_test.shape, Y_test.shape"
   ]
  },
  {
   "cell_type": "code",
   "execution_count": 13,
   "metadata": {
    "collapsed": true
   },
   "outputs": [],
   "source": [
    "nr_features, nr_classes = X_train.shape[1], Y_train.shape[1]"
   ]
  },
  {
   "cell_type": "markdown",
   "metadata": {},
   "source": [
    "## Defining a simple network"
   ]
  },
  {
   "cell_type": "markdown",
   "metadata": {},
   "source": [
    "Import the required modules."
   ]
  },
  {
   "cell_type": "code",
   "execution_count": 14,
   "metadata": {
    "collapsed": true
   },
   "outputs": [],
   "source": [
    "from keras.models import Sequential\n",
    "from keras.layers import Dense, Activation"
   ]
  },
  {
   "cell_type": "markdown",
   "metadata": {},
   "source": [
    "Define the neural network as sequential, i.e., a layered network. It has a single layer that has the features as input, and the classes as output with a sigmoid activation function.\n",
    "\n",
    "The activation for the final output is set to softmax."
   ]
  },
  {
   "cell_type": "code",
   "execution_count": 25,
   "metadata": {},
   "outputs": [],
   "source": [
    "model = Sequential()\n",
    "model.add(Dense(nr_classes, input_shape=(nr_features,), activation='sigmoid'))\n",
    "model.add(Activation('softmax'))"
   ]
  },
  {
   "cell_type": "markdown",
   "metadata": {},
   "source": [
    "Compile the model, setting the optimization strategy, and the loss function."
   ]
  },
  {
   "cell_type": "code",
   "execution_count": 26,
   "metadata": {
    "collapsed": true
   },
   "outputs": [],
   "source": [
    "model.compile(optimizer='sgd', loss='categorical_crossentropy',\n",
    "              metrics=['accuracy'])"
   ]
  },
  {
   "cell_type": "code",
   "execution_count": 27,
   "metadata": {},
   "outputs": [
    {
     "name": "stdout",
     "output_type": "stream",
     "text": [
      "_________________________________________________________________\n",
      "Layer (type)                 Output Shape              Param #   \n",
      "=================================================================\n",
      "dense_2 (Dense)              (None, 9)                 846       \n",
      "_________________________________________________________________\n",
      "activation_2 (Activation)    (None, 9)                 0         \n",
      "=================================================================\n",
      "Total params: 846\n",
      "Trainable params: 846\n",
      "Non-trainable params: 0\n",
      "_________________________________________________________________\n"
     ]
    }
   ],
   "source": [
    "model.summary()"
   ]
  },
  {
   "cell_type": "markdown",
   "metadata": {},
   "source": [
    "The number of parameters in the single layer is $93 \\times 9 + 9 = 846$, i.e., the number of features multiplied by the number of classes, plus $9$ bias units."
   ]
  },
  {
   "cell_type": "markdown",
   "metadata": {},
   "source": [
    "## Training the network"
   ]
  },
  {
   "cell_type": "markdown",
   "metadata": {},
   "source": [
    "Train the network on the training data."
   ]
  },
  {
   "cell_type": "code",
   "execution_count": 28,
   "metadata": {},
   "outputs": [
    {
     "name": "stdout",
     "output_type": "stream",
     "text": [
      "Epoch 1/10\n",
      "55690/55690 [==============================] - 9s - loss: 2.0123 - acc: 0.4316     \n",
      "Epoch 2/10\n",
      "55690/55690 [==============================] - 8s - loss: 1.8559 - acc: 0.6294     \n",
      "Epoch 3/10\n",
      "55690/55690 [==============================] - 11s - loss: 1.7982 - acc: 0.6697    \n",
      "Epoch 4/10\n",
      "55690/55690 [==============================] - 12s - loss: 1.7616 - acc: 0.6877    \n",
      "Epoch 5/10\n",
      "55690/55690 [==============================] - 13s - loss: 1.7353 - acc: 0.6987    \n",
      "Epoch 6/10\n",
      "55690/55690 [==============================] - 18s - loss: 1.7152 - acc: 0.7049    \n",
      "Epoch 7/10\n",
      "55690/55690 [==============================] - 30s - loss: 1.6994 - acc: 0.7087    \n",
      "Epoch 8/10\n",
      "55690/55690 [==============================] - 15s - loss: 1.6865 - acc: 0.7116    \n",
      "Epoch 9/10\n",
      "55690/55690 [==============================] - 14s - loss: 1.6759 - acc: 0.7136    \n",
      "Epoch 10/10\n",
      "55690/55690 [==============================] - 17s - loss: 1.6670 - acc: 0.7149    - ETA: 1s - los\n"
     ]
    }
   ],
   "source": [
    "history = model.fit(X_train, Y_train)"
   ]
  },
  {
   "cell_type": "code",
   "execution_count": 29,
   "metadata": {
    "scrolled": true
   },
   "outputs": [
    {
     "name": "stdout",
     "output_type": "stream",
     "text": [
      "5984/6188 [============================>.] - ETA: 0s"
     ]
    },
    {
     "data": {
      "text/plain": [
       "[1.6596782705286046, 0.71881060120207152]"
      ]
     },
     "execution_count": 29,
     "metadata": {},
     "output_type": "execute_result"
    }
   ],
   "source": [
    "model.evaluate(X_test, Y_test)"
   ]
  },
  {
   "cell_type": "code",
   "execution_count": 56,
   "metadata": {
    "collapsed": true
   },
   "outputs": [],
   "source": [
    "def plot_history(network_history):\n",
    "    plt.figure()\n",
    "    plt.xlabel('Epochs')\n",
    "    plt.ylabel('Loss')\n",
    "    plt.plot(network_history.history['loss'])\n",
    "    if 'val_loss' in network_history.history:\n",
    "        plt.plot(network_history.history['val_loss'])\n",
    "        plt.legend(['Training', 'Validation'])\n",
    "\n",
    "    plt.figure()\n",
    "    plt.xlabel('Epochs')\n",
    "    plt.ylabel('Accuracy')\n",
    "    plt.plot(network_history.history['acc'])\n",
    "    if 'val_acc' in network_history.history:\n",
    "        plt.plot(network_history.history['val_acc'])\n",
    "        plt.legend(['Training', 'Validation'], loc='lower right')\n",
    "    plt.show()"
   ]
  },
  {
   "cell_type": "code",
   "execution_count": 35,
   "metadata": {},
   "outputs": [
    {
     "data": {
      "image/png": "[encoded data removed]",
      "text/plain": [
       "<matplotlib.figure.Figure at 0x7f3cb17e49e8>"
      ]
     },
     "metadata": {},
     "output_type": "display_data"
    },
    {
     "data": {
      "image/png": "[encoded data removed]",
      "text/plain": [
       "<matplotlib.figure.Figure at 0x7f3cb1b05908>"
      ]
     },
     "metadata": {},
     "output_type": "display_data"
    }
   ],
   "source": [
    "plot_history(history)"
   ]
  },
  {
   "cell_type": "markdown",
   "metadata": {},
   "source": [
    "## Training using validation"
   ]
  },
  {
   "cell_type": "markdown",
   "metadata": {},
   "source": [
    "Split the training set into a part used for training, and another for validation to reduce the risk of overfitting, using $15 \\%$ for validation.  The random state is set explicitely for reproducability."
   ]
  },
  {
   "cell_type": "code",
   "execution_count": 36,
   "metadata": {
    "collapsed": true
   },
   "outputs": [],
   "source": [
    "X_train, X_val, Y_train, Y_val = train_test_split(X_train, Y_train,\n",
    "                                                  test_size=0.15,\n",
    "                                                  random_state=42)"
   ]
  },
  {
   "cell_type": "markdown",
   "metadata": {},
   "source": [
    "We want to save the best model to an HDF5 file so that it can be reloaded, and we want to use early stopping based on the changes of the loss function.  First, import the required  class definitions"
   ]
  },
  {
   "cell_type": "code",
   "execution_count": 37,
   "metadata": {
    "collapsed": true
   },
   "outputs": [],
   "source": [
    "from keras.callbacks import EarlyStopping, ModelCheckpoint"
   ]
  },
  {
   "cell_type": "code",
   "execution_count": 40,
   "metadata": {
    "collapsed": true
   },
   "outputs": [],
   "source": [
    "model_filename = 'best_model.h5'\n",
    "early_stopping = EarlyStopping(monitor='val_loss', patience=2, verbose=1)\n",
    "check_point = ModelCheckpoint(model_filename, save_best_only=True, verbose=1)"
   ]
  },
  {
   "cell_type": "code",
   "execution_count": 41,
   "metadata": {},
   "outputs": [
    {
     "name": "stdout",
     "output_type": "stream",
     "text": [
      "Train on 47336 samples, validate on 8354 samples\n",
      "Epoch 1/50\n",
      "46464/47336 [============================>.] - ETA: 0s - loss: 1.6221 - acc: 0.7208- ETA: 0s - loss: 1.6222 - acc: 0.720Epoch 00000: val_loss improved from inf to 1.62419, saving model to best_model.h5\n",
      "47336/47336 [==============================] - 3s - loss: 1.6223 - acc: 0.7206 - val_loss: 1.6242 - val_acc: 0.7303\n",
      "Epoch 2/50\n",
      "46720/47336 [============================>.] - ETA: 0s - loss: 1.6217 - acc: 0.7209Epoch 00001: val_loss improved from 1.62419 to 1.62365, saving model to best_model.h5\n",
      "47336/47336 [==============================] - 3s - loss: 1.6218 - acc: 0.7207 - val_loss: 1.6236 - val_acc: 0.7305\n",
      "Epoch 3/50\n",
      "46848/47336 [============================>.] - ETA: 0s - loss: 1.6213 - acc: 0.7207Epoch 00002: val_loss improved from 1.62365 to 1.62312, saving model to best_model.h5\n",
      "47336/47336 [==============================] - 3s - loss: 1.6213 - acc: 0.7207 - val_loss: 1.6231 - val_acc: 0.7307\n",
      "Epoch 4/50\n",
      "46976/47336 [============================>.] - ETA: 0s - loss: 1.6208 - acc: 0.7208Epoch 00003: val_loss improved from 1.62312 to 1.62260, saving model to best_model.h5\n",
      "47336/47336 [==============================] - 3s - loss: 1.6207 - acc: 0.7207 - val_loss: 1.6226 - val_acc: 0.7308\n",
      "Epoch 5/50\n",
      "47104/47336 [============================>.] - ETA: 0s - loss: 1.6203 - acc: 0.7207Epoch 00004: val_loss improved from 1.62260 to 1.62209, saving model to best_model.h5\n",
      "47336/47336 [==============================] - 3s - loss: 1.6202 - acc: 0.7208 - val_loss: 1.6221 - val_acc: 0.7308\n",
      "Epoch 6/50\n",
      "47232/47336 [============================>.] - ETA: 0s - loss: 1.6198 - acc: 0.7210Epoch 00005: val_loss improved from 1.62209 to 1.62159, saving model to best_model.h5\n",
      "47336/47336 [==============================] - 3s - loss: 1.6197 - acc: 0.7209 - val_loss: 1.6216 - val_acc: 0.7308\n",
      "Epoch 7/50\n",
      "47104/47336 [============================>.] - ETA: 0s - loss: 1.6194 - acc: 0.7206Epoch 00006: val_loss improved from 1.62159 to 1.62110, saving model to best_model.h5\n",
      "47336/47336 [==============================] - 3s - loss: 1.6192 - acc: 0.7210 - val_loss: 1.6211 - val_acc: 0.7309\n",
      "Epoch 8/50\n",
      "47232/47336 [============================>.] - ETA: 0s - loss: 1.6187 - acc: 0.7211Epoch 00007: val_loss improved from 1.62110 to 1.62062, saving model to best_model.h5\n",
      "47336/47336 [==============================] - 3s - loss: 1.6187 - acc: 0.7211 - val_loss: 1.6206 - val_acc: 0.7308\n",
      "Epoch 9/50\n",
      "46720/47336 [============================>.] - ETA: 0s - loss: 1.6183 - acc: 0.7208Epoch 00008: val_loss improved from 1.62062 to 1.62014, saving model to best_model.h5\n",
      "47336/47336 [==============================] - 3s - loss: 1.6183 - acc: 0.7211 - val_loss: 1.6201 - val_acc: 0.7308\n",
      "Epoch 10/50\n",
      "47104/47336 [============================>.] - ETA: 0s - loss: 1.6178 - acc: 0.7213Epoch 00009: val_loss improved from 1.62014 to 1.61967, saving model to best_model.h5\n",
      "47336/47336 [==============================] - 3s - loss: 1.6178 - acc: 0.7212 - val_loss: 1.6197 - val_acc: 0.7311\n",
      "Epoch 11/50\n",
      "46848/47336 [============================>.] - ETA: 0s - loss: 1.6173 - acc: 0.7214Epoch 00010: val_loss improved from 1.61967 to 1.61922, saving model to best_model.h5\n",
      "47336/47336 [==============================] - 3s - loss: 1.6173 - acc: 0.7213 - val_loss: 1.6192 - val_acc: 0.7314\n",
      "Epoch 12/50\n",
      "46464/47336 [============================>.] - ETA: 0s - loss: 1.6168 - acc: 0.7215Epoch 00011: val_loss improved from 1.61922 to 1.61876, saving model to best_model.h5\n",
      "47336/47336 [==============================] - 3s - loss: 1.6169 - acc: 0.7213 - val_loss: 1.6188 - val_acc: 0.7314\n",
      "Epoch 13/50\n",
      "46336/47336 [============================>.] - ETA: 0s - loss: 1.6164 - acc: 0.7217Epoch 00012: val_loss improved from 1.61876 to 1.61832, saving model to best_model.h5\n",
      "47336/47336 [==============================] - 3s - loss: 1.6164 - acc: 0.7215 - val_loss: 1.6183 - val_acc: 0.7317\n",
      "Epoch 14/50\n",
      "46848/47336 [============================>.] - ETA: 0s - loss: 1.6159 - acc: 0.7216Epoch 00013: val_loss improved from 1.61832 to 1.61788, saving model to best_model.h5\n",
      "47336/47336 [==============================] - 3s - loss: 1.6160 - acc: 0.7216 - val_loss: 1.6179 - val_acc: 0.7317\n",
      "Epoch 15/50\n",
      "46592/47336 [============================>.] - ETA: 0s - loss: 1.6154 - acc: 0.7218Epoch 00014: val_loss improved from 1.61788 to 1.61745, saving model to best_model.h5\n",
      "47336/47336 [==============================] - 3s - loss: 1.6156 - acc: 0.7216 - val_loss: 1.6175 - val_acc: 0.7319\n",
      "Epoch 16/50\n",
      "46720/47336 [============================>.] - ETA: 0s - loss: 1.6150 - acc: 0.7222-Epoch 00015: val_loss improved from 1.61745 to 1.61703, saving model to best_model.h5\n",
      "47336/47336 [==============================] - 4s - loss: 1.6151 - acc: 0.7217 - val_loss: 1.6170 - val_acc: 0.7319\n",
      "Epoch 17/50\n",
      "46848/47336 [============================>.] - ETA: 0s - loss: 1.6147 - acc: 0.7220Epoch 00016: val_loss improved from 1.61703 to 1.61661, saving model to best_model.h5\n",
      "47336/47336 [==============================] - 3s - loss: 1.6147 - acc: 0.7218 - val_loss: 1.6166 - val_acc: 0.7320\n",
      "Epoch 18/50\n",
      "47104/47336 [============================>.] - ETA: 0s - loss: 1.6143 - acc: 0.7218Epoch 00017: val_loss improved from 1.61661 to 1.61620, saving model to best_model.h5\n",
      "47336/47336 [==============================] - 3s - loss: 1.6143 - acc: 0.7218 - val_loss: 1.6162 - val_acc: 0.7320\n",
      "Epoch 19/50\n",
      "46848/47336 [============================>.] - ETA: 0s - loss: 1.6140 - acc: 0.7218Epoch 00018: val_loss improved from 1.61620 to 1.61580, saving model to best_model.h5\n",
      "47336/47336 [==============================] - 6s - loss: 1.6139 - acc: 0.7219 - val_loss: 1.6158 - val_acc: 0.7322\n",
      "Epoch 20/50\n",
      "46592/47336 [============================>.] - ETA: 0s - loss: 1.6134 - acc: 0.7223Epoch 00019: val_loss improved from 1.61580 to 1.61540, saving model to best_model.h5\n",
      "47336/47336 [==============================] - 4s - loss: 1.6135 - acc: 0.7220 - val_loss: 1.6154 - val_acc: 0.7322\n",
      "Epoch 21/50\n",
      "47104/47336 [============================>.] - ETA: 0s - loss: 1.6132 - acc: 0.7218- ETA: 0s - loss: 1.6133 Epoch 00020: val_loss improved from 1.61540 to 1.61501, saving model to best_model.h5\n",
      "47336/47336 [==============================] - 5s - loss: 1.6131 - acc: 0.7220 - val_loss: 1.6150 - val_acc: 0.7326\n",
      "Epoch 22/50\n",
      "46720/47336 [============================>.] - ETA: 0s - loss: 1.6127 - acc: 0.7222Epoch 00021: val_loss improved from 1.61501 to 1.61462, saving model to best_model.h5\n",
      "47336/47336 [==============================] - 3s - loss: 1.6127 - acc: 0.7220 - val_loss: 1.6146 - val_acc: 0.7325\n",
      "Epoch 23/50\n",
      "46464/47336 [============================>.] - ETA: 0s - loss: 1.6125 - acc: 0.7218Epoch 00022: val_loss improved from 1.61462 to 1.61425, saving model to best_model.h5\n",
      "47336/47336 [==============================] - 2s - loss: 1.6123 - acc: 0.7221 - val_loss: 1.6142 - val_acc: 0.7327\n",
      "Epoch 24/50\n",
      "46720/47336 [============================>.] - ETA: 0s - loss: 1.6119 - acc: 0.7221Epoch 00023: val_loss improved from 1.61425 to 1.61387, saving model to best_model.h5\n",
      "47336/47336 [==============================] - 3s - loss: 1.6120 - acc: 0.7222 - val_loss: 1.6139 - val_acc: 0.7325\n",
      "Epoch 25/50\n",
      "47232/47336 [============================>.] - ETA: 0s - loss: 1.6116 - acc: 0.7223Epoch 00024: val_loss improved from 1.61387 to 1.61351, saving model to best_model.h5\n",
      "47336/47336 [==============================] - 3s - loss: 1.6116 - acc: 0.7223 - val_loss: 1.6135 - val_acc: 0.7326\n",
      "Epoch 26/50\n",
      "47104/47336 [============================>.] - ETA: 0s - loss: 1.6113 - acc: 0.7223Epoch 00025: val_loss improved from 1.61351 to 1.61314, saving model to best_model.h5\n",
      "47336/47336 [==============================] - 3s - loss: 1.6112 - acc: 0.7224 - val_loss: 1.6131 - val_acc: 0.7326\n",
      "Epoch 27/50\n",
      "46592/47336 [============================>.] - ETA: 0s - loss: 1.6108 - acc: 0.7224Epoch 00026: val_loss improved from 1.61314 to 1.61279, saving model to best_model.h5\n",
      "47336/47336 [==============================] - 2s - loss: 1.6109 - acc: 0.7224 - val_loss: 1.6128 - val_acc: 0.7326\n",
      "Epoch 28/50\n"
     ]
    },
    {
     "name": "stdout",
     "output_type": "stream",
     "text": [
      "47232/47336 [============================>.] - ETA: 0s - loss: 1.6106 - acc: 0.7223Epoch 00027: val_loss improved from 1.61279 to 1.61244, saving model to best_model.h5\n",
      "47336/47336 [==============================] - 3s - loss: 1.6105 - acc: 0.7224 - val_loss: 1.6124 - val_acc: 0.7327\n",
      "Epoch 29/50\n",
      "46336/47336 [============================>.] - ETA: 0s - loss: 1.6103 - acc: 0.7223Epoch 00028: val_loss improved from 1.61244 to 1.61209, saving model to best_model.h5\n",
      "47336/47336 [==============================] - 2s - loss: 1.6102 - acc: 0.7226 - val_loss: 1.6121 - val_acc: 0.7328\n",
      "Epoch 30/50\n",
      "46592/47336 [============================>.] - ETA: 0s - loss: 1.6099 - acc: 0.7226Epoch 00029: val_loss improved from 1.61209 to 1.61175, saving model to best_model.h5\n",
      "47336/47336 [==============================] - 3s - loss: 1.6098 - acc: 0.7226 - val_loss: 1.6118 - val_acc: 0.7328\n",
      "Epoch 31/50\n",
      "46848/47336 [============================>.] - ETA: 0s - loss: 1.6094 - acc: 0.7228Epoch 00030: val_loss improved from 1.61175 to 1.61142, saving model to best_model.h5\n",
      "47336/47336 [==============================] - 2s - loss: 1.6095 - acc: 0.7227 - val_loss: 1.6114 - val_acc: 0.7327\n",
      "Epoch 32/50\n",
      "46336/47336 [============================>.] - ETA: 0s - loss: 1.6092 - acc: 0.7225Epoch 00031: val_loss improved from 1.61142 to 1.61109, saving model to best_model.h5\n",
      "47336/47336 [==============================] - 2s - loss: 1.6092 - acc: 0.7227 - val_loss: 1.6111 - val_acc: 0.7326\n",
      "Epoch 33/50\n",
      "46592/47336 [============================>.] - ETA: 0s - loss: 1.6089 - acc: 0.7222Epoch 00032: val_loss improved from 1.61109 to 1.61076, saving model to best_model.h5\n",
      "47336/47336 [==============================] - 2s - loss: 1.6088 - acc: 0.7227 - val_loss: 1.6108 - val_acc: 0.7327\n",
      "Epoch 34/50\n",
      "46976/47336 [============================>.] - ETA: 0s - loss: 1.6086 - acc: 0.7229Epoch 00033: val_loss improved from 1.61076 to 1.61044, saving model to best_model.h5\n",
      "47336/47336 [==============================] - 2s - loss: 1.6085 - acc: 0.7228 - val_loss: 1.6104 - val_acc: 0.7328\n",
      "Epoch 35/50\n",
      "46592/47336 [============================>.] - ETA: 0s - loss: 1.6081 - acc: 0.7230Epoch 00034: val_loss improved from 1.61044 to 1.61012, saving model to best_model.h5\n",
      "47336/47336 [==============================] - 3s - loss: 1.6082 - acc: 0.7228 - val_loss: 1.6101 - val_acc: 0.7327\n",
      "Epoch 36/50\n",
      "47232/47336 [============================>.] - ETA: 0s - loss: 1.6078 - acc: 0.7229Epoch 00035: val_loss improved from 1.61012 to 1.60981, saving model to best_model.h5\n",
      "47336/47336 [==============================] - 3s - loss: 1.6079 - acc: 0.7228 - val_loss: 1.6098 - val_acc: 0.7328\n",
      "Epoch 37/50\n",
      "46592/47336 [============================>.] - ETA: 0s - loss: 1.6074 - acc: 0.7232Epoch 00036: val_loss improved from 1.60981 to 1.60950, saving model to best_model.h5\n",
      "47336/47336 [==============================] - 2s - loss: 1.6076 - acc: 0.7229 - val_loss: 1.6095 - val_acc: 0.7329\n",
      "Epoch 38/50\n",
      "46208/47336 [============================>.] - ETA: 0s - loss: 1.6072 - acc: 0.7231Epoch 00037: val_loss improved from 1.60950 to 1.60920, saving model to best_model.h5\n",
      "47336/47336 [==============================] - 2s - loss: 1.6073 - acc: 0.7229 - val_loss: 1.6092 - val_acc: 0.7331\n",
      "Epoch 39/50\n",
      "46976/47336 [============================>.] - ETA: 0s - loss: 1.6070 - acc: 0.7231Epoch 00038: val_loss improved from 1.60920 to 1.60890, saving model to best_model.h5\n",
      "47336/47336 [==============================] - 3s - loss: 1.6070 - acc: 0.7230 - val_loss: 1.6089 - val_acc: 0.7332\n",
      "Epoch 40/50\n",
      "46464/47336 [============================>.] - ETA: 0s - loss: 1.6066 - acc: 0.7233Epoch 00039: val_loss improved from 1.60890 to 1.60861, saving model to best_model.h5\n",
      "47336/47336 [==============================] - 2s - loss: 1.6067 - acc: 0.7231 - val_loss: 1.6086 - val_acc: 0.7333\n",
      "Epoch 41/50\n",
      "46208/47336 [============================>.] - ETA: 0s - loss: 1.6066 - acc: 0.7232Epoch 00040: val_loss improved from 1.60861 to 1.60831, saving model to best_model.h5\n",
      "47336/47336 [==============================] - 2s - loss: 1.6064 - acc: 0.7233 - val_loss: 1.6083 - val_acc: 0.7334\n",
      "Epoch 42/50\n",
      "47232/47336 [============================>.] - ETA: 0s - loss: 1.6059 - acc: 0.7235Epoch 00041: val_loss improved from 1.60831 to 1.60802, saving model to best_model.h5\n",
      "47336/47336 [==============================] - 2s - loss: 1.6061 - acc: 0.7234 - val_loss: 1.6080 - val_acc: 0.7332\n",
      "Epoch 43/50\n",
      "47232/47336 [============================>.] - ETA: 0s - loss: 1.6059 - acc: 0.7234Epoch 00042: val_loss improved from 1.60802 to 1.60774, saving model to best_model.h5\n",
      "47336/47336 [==============================] - 3s - loss: 1.6058 - acc: 0.7234 - val_loss: 1.6077 - val_acc: 0.7332\n",
      "Epoch 44/50\n",
      "46464/47336 [============================>.] - ETA: 0s - loss: 1.6052 - acc: 0.7237Epoch 00043: val_loss improved from 1.60774 to 1.60746, saving model to best_model.h5\n",
      "47336/47336 [==============================] - 3s - loss: 1.6055 - acc: 0.7235 - val_loss: 1.6075 - val_acc: 0.7332\n",
      "Epoch 45/50\n",
      "46592/47336 [============================>.] - ETA: 0s - loss: 1.6053 - acc: 0.7233Epoch 00044: val_loss improved from 1.60746 to 1.60718, saving model to best_model.h5\n",
      "47336/47336 [==============================] - 3s - loss: 1.6052 - acc: 0.7235 - val_loss: 1.6072 - val_acc: 0.7334\n",
      "Epoch 46/50\n",
      "46848/47336 [============================>.] - ETA: 0s - loss: 1.6048 - acc: 0.7237Epoch 00045: val_loss improved from 1.60718 to 1.60690, saving model to best_model.h5\n",
      "47336/47336 [==============================] - 3s - loss: 1.6049 - acc: 0.7236 - val_loss: 1.6069 - val_acc: 0.7334\n",
      "Epoch 47/50\n",
      "46208/47336 [============================>.] - ETA: 0s - loss: 1.6047 - acc: 0.7236Epoch 00046: val_loss improved from 1.60690 to 1.60663, saving model to best_model.h5\n",
      "47336/47336 [==============================] - 2s - loss: 1.6047 - acc: 0.7237 - val_loss: 1.6066 - val_acc: 0.7334\n",
      "Epoch 48/50\n",
      "46848/47336 [============================>.] - ETA: 0s - loss: 1.6043 - acc: 0.7239Epoch 00047: val_loss improved from 1.60663 to 1.60636, saving model to best_model.h5\n",
      "47336/47336 [==============================] - 2s - loss: 1.6044 - acc: 0.7238 - val_loss: 1.6064 - val_acc: 0.7334\n",
      "Epoch 49/50\n",
      "46848/47336 [============================>.] - ETA: 0s - loss: 1.6041 - acc: 0.7238Epoch 00048: val_loss improved from 1.60636 to 1.60610, saving model to best_model.h5\n",
      "47336/47336 [==============================] - 3s - loss: 1.6041 - acc: 0.7239 - val_loss: 1.6061 - val_acc: 0.7333\n",
      "Epoch 50/50\n",
      "46336/47336 [============================>.] - ETA: 0s - loss: 1.6039 - acc: 0.7238Epoch 00049: val_loss improved from 1.60610 to 1.60583, saving model to best_model.h5\n",
      "47336/47336 [==============================] - 2s - loss: 1.6039 - acc: 0.7239 - val_loss: 1.6058 - val_acc: 0.7334\n"
     ]
    }
   ],
   "source": [
    "history = model.fit(X_train, Y_train, validation_data=(X_val, Y_val), epochs=50,\n",
    "                    batch_size=128, verbose=1,\n",
    "                    callbacks=[check_point, early_stopping])"
   ]
  },
  {
   "cell_type": "code",
   "execution_count": 42,
   "metadata": {
    "scrolled": true
   },
   "outputs": [
    {
     "name": "stdout",
     "output_type": "stream",
     "text": [
      "47232/47336 [============================>.] - ETA: 0s"
     ]
    },
    {
     "data": {
      "text/plain": [
       "[1.6037227596728125, 0.72395217170863613]"
      ]
     },
     "execution_count": 42,
     "metadata": {},
     "output_type": "execute_result"
    }
   ],
   "source": [
    "model.evaluate(X_train, Y_train)"
   ]
  },
  {
   "cell_type": "code",
   "execution_count": 43,
   "metadata": {
    "scrolled": false
   },
   "outputs": [
    {
     "name": "stdout",
     "output_type": "stream",
     "text": [
      "6080/6188 [============================>.] - ETA: 0s"
     ]
    },
    {
     "data": {
      "text/plain": [
       "[1.5994650452231005, 0.73109243701331905]"
      ]
     },
     "execution_count": 43,
     "metadata": {},
     "output_type": "execute_result"
    }
   ],
   "source": [
    "model.evaluate(X_test, Y_test)"
   ]
  },
  {
   "cell_type": "code",
   "execution_count": 46,
   "metadata": {},
   "outputs": [
    {
     "data": {
      "image/png": "[encoded data removed]",
      "text/plain": [
       "<matplotlib.figure.Figure at 0x7f3cb1bad780>"
      ]
     },
     "metadata": {},
     "output_type": "display_data"
    },
    {
     "data": {
      "image/png": "[encoded data removed]",
      "text/plain": [
       "<matplotlib.figure.Figure at 0x7f3cb154b390>"
      ]
     },
     "metadata": {},
     "output_type": "display_data"
    }
   ],
   "source": [
    "plot_history(history)"
   ]
  },
  {
   "cell_type": "markdown",
   "metadata": {},
   "source": [
    "## Multilayer network"
   ]
  },
  {
   "cell_type": "code",
   "execution_count": 47,
   "metadata": {
    "collapsed": true
   },
   "outputs": [],
   "source": [
    "nr_hidden = 20\n",
    "model = Sequential()\n",
    "model.add(Dense(nr_hidden, input_shape=(nr_features,), activation='relu'))\n",
    "model.add(Dense(nr_classes, input_shape=(nr_hidden,), activation='relu'))\n",
    "model.add(Activation('softmax'))"
   ]
  },
  {
   "cell_type": "markdown",
   "metadata": {},
   "source": [
    "Compile the model, setting the optimization strategy, and the loss function."
   ]
  },
  {
   "cell_type": "code",
   "execution_count": 48,
   "metadata": {
    "collapsed": true
   },
   "outputs": [],
   "source": [
    "model.compile(optimizer='sgd', loss='categorical_crossentropy',\n",
    "              metrics=['accuracy'])"
   ]
  },
  {
   "cell_type": "code",
   "execution_count": 49,
   "metadata": {},
   "outputs": [
    {
     "name": "stdout",
     "output_type": "stream",
     "text": [
      "_________________________________________________________________\n",
      "Layer (type)                 Output Shape              Param #   \n",
      "=================================================================\n",
      "dense_3 (Dense)              (None, 20)                1880      \n",
      "_________________________________________________________________\n",
      "dense_4 (Dense)              (None, 9)                 189       \n",
      "_________________________________________________________________\n",
      "activation_3 (Activation)    (None, 9)                 0         \n",
      "=================================================================\n",
      "Total params: 2,069\n",
      "Trainable params: 2,069\n",
      "Non-trainable params: 0\n",
      "_________________________________________________________________\n"
     ]
    }
   ],
   "source": [
    "model.summary()"
   ]
  },
  {
   "cell_type": "code",
   "execution_count": 50,
   "metadata": {
    "collapsed": true
   },
   "outputs": [],
   "source": [
    "model_filename = 'best_model.h5'\n",
    "early_stopping = EarlyStopping(monitor='val_loss', patience=2, verbose=1)\n",
    "check_point = ModelCheckpoint(model_filename, save_best_only=True, verbose=1)"
   ]
  },
  {
   "cell_type": "code",
   "execution_count": 51,
   "metadata": {
    "scrolled": true
   },
   "outputs": [
    {
     "name": "stdout",
     "output_type": "stream",
     "text": [
      "Train on 47336 samples, validate on 8354 samples\n",
      "Epoch 1/50\n",
      "46592/47336 [============================>.] - ETA: 0s - loss: 1.9096 - acc: 0.3783Epoch 00000: val_loss improved from inf to 1.60823, saving model to best_model.h5\n",
      "47336/47336 [==============================] - 4s - loss: 1.9058 - acc: 0.3796 - val_loss: 1.6082 - val_acc: 0.5083\n",
      "Epoch 2/50\n",
      "46592/47336 [============================>.] - ETA: 0s - loss: 1.4495 - acc: 0.5411Epoch 00001: val_loss improved from 1.60823 to 1.31865, saving model to best_model.h5\n",
      "47336/47336 [==============================] - 3s - loss: 1.4470 - acc: 0.5418 - val_loss: 1.3187 - val_acc: 0.5773\n",
      "Epoch 3/50\n",
      "46720/47336 [============================>.] - ETA: 0s - loss: 1.2021 - acc: 0.6182Epoch 00002: val_loss improved from 1.31865 to 1.11018, saving model to best_model.h5\n",
      "47336/47336 [==============================] - 3s - loss: 1.2005 - acc: 0.6186 - val_loss: 1.1102 - val_acc: 0.6554\n",
      "Epoch 4/50\n",
      "46976/47336 [============================>.] - ETA: 0s - loss: 1.0441 - acc: 0.6599Epoch 00003: val_loss improved from 1.11018 to 1.00510, saving model to best_model.h5\n",
      "47336/47336 [==============================] - 4s - loss: 1.0435 - acc: 0.6599 - val_loss: 1.0051 - val_acc: 0.6732\n",
      "Epoch 5/50\n",
      "47232/47336 [============================>.] - ETA: 0s - loss: 0.9656 - acc: 0.6728Epoch 00004: val_loss improved from 1.00510 to 0.95072, saving model to best_model.h5\n",
      "47336/47336 [==============================] - 4s - loss: 0.9656 - acc: 0.6727 - val_loss: 0.9507 - val_acc: 0.6804\n",
      "Epoch 6/50\n",
      "47232/47336 [============================>.] - ETA: 0s - loss: 0.9208 - acc: 0.6813Epoch 00005: val_loss improved from 0.95072 to 0.91594, saving model to best_model.h5\n",
      "47336/47336 [==============================] - 3s - loss: 0.9209 - acc: 0.6812 - val_loss: 0.9159 - val_acc: 0.6861\n",
      "Epoch 7/50\n",
      "46720/47336 [============================>.] - ETA: 0s - loss: 0.8911 - acc: 0.6871Epoch 00006: val_loss improved from 0.91594 to 0.88988, saving model to best_model.h5\n",
      "47336/47336 [==============================] - 5s - loss: 0.8902 - acc: 0.6875 - val_loss: 0.8899 - val_acc: 0.6913\n",
      "Epoch 8/50\n",
      "46208/47336 [============================>.] - ETA: 0s - loss: 0.8649 - acc: 0.6930Epoch 00007: val_loss improved from 0.88988 to 0.86678, saving model to best_model.h5\n",
      "47336/47336 [==============================] - 4s - loss: 0.8653 - acc: 0.6927 - val_loss: 0.8668 - val_acc: 0.6952\n",
      "Epoch 9/50\n",
      "47104/47336 [============================>.] - ETA: 0s - loss: 0.8423 - acc: 0.6969Epoch 00008: val_loss improved from 0.86678 to 0.84628, saving model to best_model.h5\n",
      "47336/47336 [==============================] - 3s - loss: 0.8427 - acc: 0.6970 - val_loss: 0.8463 - val_acc: 0.7004\n",
      "Epoch 10/50\n",
      "47232/47336 [============================>.] - ETA: 0s - loss: 0.8235 - acc: 0.7006Epoch 00009: val_loss improved from 0.84628 to 0.83003, saving model to best_model.h5\n",
      "47336/47336 [==============================] - 2s - loss: 0.8234 - acc: 0.7006 - val_loss: 0.8300 - val_acc: 0.7041\n",
      "Epoch 11/50\n",
      "46592/47336 [============================>.] - ETA: 0s - loss: 0.8077 - acc: 0.7035Epoch 00010: val_loss improved from 0.83003 to 0.81735, saving model to best_model.h5\n",
      "47336/47336 [==============================] - 3s - loss: 0.8081 - acc: 0.7033 - val_loss: 0.8173 - val_acc: 0.7068\n",
      "Epoch 12/50\n",
      "46848/47336 [============================>.] - ETA: 0s - loss: 0.7963 - acc: 0.7066Epoch 00011: val_loss improved from 0.81735 to 0.80666, saving model to best_model.h5\n",
      "47336/47336 [==============================] - 2s - loss: 0.7958 - acc: 0.7067 - val_loss: 0.8067 - val_acc: 0.7085\n",
      "Epoch 13/50\n",
      "47104/47336 [============================>.] - ETA: 0s - loss: 0.7859 - acc: 0.7088Epoch 00012: val_loss improved from 0.80666 to 0.79851, saving model to best_model.h5\n",
      "47336/47336 [==============================] - 2s - loss: 0.7859 - acc: 0.7088 - val_loss: 0.7985 - val_acc: 0.7103\n",
      "Epoch 14/50\n",
      "46720/47336 [============================>.] - ETA: 0s - loss: 0.7776 - acc: 0.7107Epoch 00013: val_loss improved from 0.79851 to 0.79153, saving model to best_model.h5\n",
      "47336/47336 [==============================] - 3s - loss: 0.7776 - acc: 0.7103 - val_loss: 0.7915 - val_acc: 0.7110\n",
      "Epoch 15/50\n",
      "46720/47336 [============================>.] - ETA: 0s - loss: 0.7708 - acc: 0.7111Epoch 00014: val_loss improved from 0.79153 to 0.78491, saving model to best_model.h5\n",
      "47336/47336 [==============================] - 2s - loss: 0.7706 - acc: 0.7110 - val_loss: 0.7849 - val_acc: 0.7119\n",
      "Epoch 16/50\n",
      "46464/47336 [============================>.] - ETA: 0s - loss: 0.7640 - acc: 0.7132Epoch 00015: val_loss improved from 0.78491 to 0.77941, saving model to best_model.h5\n",
      "47336/47336 [==============================] - 3s - loss: 0.7643 - acc: 0.7129 - val_loss: 0.7794 - val_acc: 0.7145\n",
      "Epoch 17/50\n",
      "47232/47336 [============================>.] - ETA: 0s - loss: 0.7588 - acc: 0.7140Epoch 00016: val_loss improved from 0.77941 to 0.77421, saving model to best_model.h5\n",
      "47336/47336 [==============================] - 2s - loss: 0.7587 - acc: 0.7140 - val_loss: 0.7742 - val_acc: 0.7146\n",
      "Epoch 18/50\n",
      "46720/47336 [============================>.] - ETA: 0s - loss: 0.7535 - acc: 0.7152Epoch 00017: val_loss improved from 0.77421 to 0.76976, saving model to best_model.h5\n",
      "47336/47336 [==============================] - 2s - loss: 0.7536 - acc: 0.7155 - val_loss: 0.7698 - val_acc: 0.7145\n",
      "Epoch 19/50\n",
      "46336/47336 [============================>.] - ETA: 0s - loss: 0.7492 - acc: 0.7162- ETA: 0s - loss: 0.7479 - acc: 0. - ETA: 0s - loss: 0.7493 - acc:Epoch 00018: val_loss improved from 0.76976 to 0.76578, saving model to best_model.h5\n",
      "47336/47336 [==============================] - 3s - loss: 0.7490 - acc: 0.7160 - val_loss: 0.7658 - val_acc: 0.7150\n",
      "Epoch 20/50\n",
      "46848/47336 [============================>.] - ETA: 0s - loss: 0.7449 - acc: 0.7171Epoch 00019: val_loss improved from 0.76578 to 0.76219, saving model to best_model.h5\n",
      "47336/47336 [==============================] - 2s - loss: 0.7447 - acc: 0.7170 - val_loss: 0.7622 - val_acc: 0.7183\n",
      "Epoch 21/50\n",
      "47104/47336 [============================>.] - ETA: 0s - loss: 0.7408 - acc: 0.7186Epoch 00020: val_loss improved from 0.76219 to 0.75818, saving model to best_model.h5\n",
      "47336/47336 [==============================] - 3s - loss: 0.7408 - acc: 0.7186 - val_loss: 0.7582 - val_acc: 0.7181\n",
      "Epoch 22/50\n",
      "46592/47336 [============================>.] - ETA: 0s - loss: 0.7379 - acc: 0.7189Epoch 00021: val_loss improved from 0.75818 to 0.75508, saving model to best_model.h5\n",
      "47336/47336 [==============================] - 2s - loss: 0.7372 - acc: 0.7193 - val_loss: 0.7551 - val_acc: 0.7192\n",
      "Epoch 23/50\n",
      "46464/47336 [============================>.] - ETA: 0s - loss: 0.7253 - acc: 0.7319Epoch 00022: val_loss improved from 0.75508 to 0.71002, saving model to best_model.h5\n",
      "47336/47336 [==============================] - 2s - loss: 0.7248 - acc: 0.7327 - val_loss: 0.7100 - val_acc: 0.7522\n",
      "Epoch 24/50\n",
      "47232/47336 [============================>.] - ETA: 0s - loss: 0.6665 - acc: 0.7568Epoch 00023: val_loss improved from 0.71002 to 0.67359, saving model to best_model.h5\n",
      "47336/47336 [==============================] - 3s - loss: 0.6664 - acc: 0.7568 - val_loss: 0.6736 - val_acc: 0.7594\n",
      "Epoch 25/50\n",
      "46848/47336 [============================>.] - ETA: 0s - loss: 0.6498 - acc: 0.7590Epoch 00024: val_loss improved from 0.67359 to 0.66621, saving model to best_model.h5\n",
      "47336/47336 [==============================] - 3s - loss: 0.6497 - acc: 0.7590 - val_loss: 0.6662 - val_acc: 0.7604\n",
      "Epoch 26/50\n",
      "46720/47336 [============================>.] - ETA: 0s - loss: 0.6441 - acc: 0.7597Epoch 00025: val_loss improved from 0.66621 to 0.66182, saving model to best_model.h5\n",
      "47336/47336 [==============================] - 2s - loss: 0.6438 - acc: 0.7599 - val_loss: 0.6618 - val_acc: 0.7616\n",
      "Epoch 27/50\n",
      "46720/47336 [============================>.] - ETA: 0s - loss: 0.6397 - acc: 0.7604Epoch 00026: val_loss improved from 0.66182 to 0.65859, saving model to best_model.h5\n",
      "47336/47336 [==============================] - 2s - loss: 0.6395 - acc: 0.7603 - val_loss: 0.6586 - val_acc: 0.7620\n",
      "Epoch 28/50\n"
     ]
    },
    {
     "name": "stdout",
     "output_type": "stream",
     "text": [
      "47104/47336 [============================>.] - ETA: 0s - loss: 0.6358 - acc: 0.7614Epoch 00027: val_loss improved from 0.65859 to 0.65579, saving model to best_model.h5\n",
      "47336/47336 [==============================] - 2s - loss: 0.6359 - acc: 0.7613 - val_loss: 0.6558 - val_acc: 0.7629\n",
      "Epoch 29/50\n",
      "46464/47336 [============================>.] - ETA: 0s - loss: 0.6323 - acc: 0.7622Epoch 00028: val_loss improved from 0.65579 to 0.65331, saving model to best_model.h5\n",
      "47336/47336 [==============================] - 2s - loss: 0.6326 - acc: 0.7623 - val_loss: 0.6533 - val_acc: 0.7621\n",
      "Epoch 30/50\n",
      "46976/47336 [============================>.] - ETA: 0s - loss: 0.6289 - acc: 0.7634Epoch 00029: val_loss improved from 0.65331 to 0.65042, saving model to best_model.h5\n",
      "47336/47336 [==============================] - 3s - loss: 0.6297 - acc: 0.7633 - val_loss: 0.6504 - val_acc: 0.7635\n",
      "Epoch 31/50\n",
      "46976/47336 [============================>.] - ETA: 0s - loss: 0.6268 - acc: 0.7637Epoch 00030: val_loss improved from 0.65042 to 0.64837, saving model to best_model.h5\n",
      "47336/47336 [==============================] - 2s - loss: 0.6269 - acc: 0.7638 - val_loss: 0.6484 - val_acc: 0.7625\n",
      "Epoch 32/50\n",
      "46464/47336 [============================>.] - ETA: 0s - loss: 0.6254 - acc: 0.7633Epoch 00031: val_loss improved from 0.64837 to 0.64625, saving model to best_model.h5\n",
      "47336/47336 [==============================] - 2s - loss: 0.6243 - acc: 0.7640 - val_loss: 0.6463 - val_acc: 0.7639\n",
      "Epoch 33/50\n",
      "46848/47336 [============================>.] - ETA: 0s - loss: 0.6215 - acc: 0.7650Epoch 00032: val_loss improved from 0.64625 to 0.64425, saving model to best_model.h5\n",
      "47336/47336 [==============================] - 2s - loss: 0.6219 - acc: 0.7648 - val_loss: 0.6442 - val_acc: 0.7637\n",
      "Epoch 34/50\n",
      "46592/47336 [============================>.] - ETA: 0s - loss: 0.6195 - acc: 0.7658Epoch 00033: val_loss improved from 0.64425 to 0.64234, saving model to best_model.h5\n",
      "47336/47336 [==============================] - 2s - loss: 0.6197 - acc: 0.7655 - val_loss: 0.6423 - val_acc: 0.7651\n",
      "Epoch 35/50\n",
      "46592/47336 [============================>.] - ETA: 0s - loss: 0.6177 - acc: 0.7655Epoch 00034: val_loss improved from 0.64234 to 0.64055, saving model to best_model.h5\n",
      "47336/47336 [==============================] - 2s - loss: 0.6175 - acc: 0.7657 - val_loss: 0.6405 - val_acc: 0.7643\n",
      "Epoch 36/50\n",
      "46720/47336 [============================>.] - ETA: 0s - loss: 0.6148 - acc: 0.7662Epoch 00035: val_loss improved from 0.64055 to 0.63907, saving model to best_model.h5\n",
      "47336/47336 [==============================] - 2s - loss: 0.6154 - acc: 0.7659 - val_loss: 0.6391 - val_acc: 0.7662\n",
      "Epoch 37/50\n",
      "46208/47336 [============================>.] - ETA: 0s - loss: 0.6143 - acc: 0.7673Epoch 00036: val_loss improved from 0.63907 to 0.63716, saving model to best_model.h5\n",
      "47336/47336 [==============================] - 2s - loss: 0.6134 - acc: 0.7674 - val_loss: 0.6372 - val_acc: 0.7655\n",
      "Epoch 38/50\n",
      "47104/47336 [============================>.] - ETA: 0s - loss: 0.6114 - acc: 0.7672Epoch 00037: val_loss improved from 0.63716 to 0.63579, saving model to best_model.h5\n",
      "47336/47336 [==============================] - 2s - loss: 0.6115 - acc: 0.7672 - val_loss: 0.6358 - val_acc: 0.7648\n",
      "Epoch 39/50\n",
      "47104/47336 [============================>.] - ETA: 0s - loss: 0.6099 - acc: 0.7674Epoch 00038: val_loss improved from 0.63579 to 0.63407, saving model to best_model.h5\n",
      "47336/47336 [==============================] - 2s - loss: 0.6096 - acc: 0.7677 - val_loss: 0.6341 - val_acc: 0.7657\n",
      "Epoch 40/50\n",
      "46848/47336 [============================>.] - ETA: 0s - loss: 0.6086 - acc: 0.7693Epoch 00039: val_loss improved from 0.63407 to 0.63286, saving model to best_model.h5\n",
      "47336/47336 [==============================] - 3s - loss: 0.6080 - acc: 0.7692 - val_loss: 0.6329 - val_acc: 0.7671\n",
      "Epoch 41/50\n",
      "46720/47336 [============================>.] - ETA: 0s - loss: 0.6070 - acc: 0.7687Epoch 00040: val_loss improved from 0.63286 to 0.63115, saving model to best_model.h5\n",
      "47336/47336 [==============================] - 3s - loss: 0.6062 - acc: 0.7693 - val_loss: 0.6311 - val_acc: 0.7668\n",
      "Epoch 42/50\n",
      "46464/47336 [============================>.] - ETA: 0s - loss: 0.6045 - acc: 0.7692Epoch 00041: val_loss improved from 0.63115 to 0.63002, saving model to best_model.h5\n",
      "47336/47336 [==============================] - 3s - loss: 0.6047 - acc: 0.7692 - val_loss: 0.6300 - val_acc: 0.7674\n",
      "Epoch 43/50\n",
      "47232/47336 [============================>.] - ETA: 0s - loss: 0.6031 - acc: 0.7699Epoch 00042: val_loss improved from 0.63002 to 0.62863, saving model to best_model.h5\n",
      "47336/47336 [==============================] - 3s - loss: 0.6031 - acc: 0.7700 - val_loss: 0.6286 - val_acc: 0.7685\n",
      "Epoch 44/50\n",
      "47232/47336 [============================>.] - ETA: 0s - loss: 0.6017 - acc: 0.7697Epoch 00043: val_loss improved from 0.62863 to 0.62743, saving model to best_model.h5\n",
      "47336/47336 [==============================] - 2s - loss: 0.6016 - acc: 0.7697 - val_loss: 0.6274 - val_acc: 0.7679\n",
      "Epoch 45/50\n",
      "46464/47336 [============================>.] - ETA: 0s - loss: 0.6007 - acc: 0.7705Epoch 00044: val_loss improved from 0.62743 to 0.62657, saving model to best_model.h5\n",
      "47336/47336 [==============================] - 2s - loss: 0.6002 - acc: 0.7704 - val_loss: 0.6266 - val_acc: 0.7696\n",
      "Epoch 46/50\n",
      "46592/47336 [============================>.] - ETA: 0s - loss: 0.5990 - acc: 0.7711Epoch 00045: val_loss improved from 0.62657 to 0.62505, saving model to best_model.h5\n",
      "47336/47336 [==============================] - 2s - loss: 0.5988 - acc: 0.7714 - val_loss: 0.6251 - val_acc: 0.7692\n",
      "Epoch 47/50\n",
      "47104/47336 [============================>.] - ETA: 0s - loss: 0.5973 - acc: 0.7713Epoch 00046: val_loss improved from 0.62505 to 0.62378, saving model to best_model.h5\n",
      "47336/47336 [==============================] - 3s - loss: 0.5974 - acc: 0.7713 - val_loss: 0.6238 - val_acc: 0.7684\n",
      "Epoch 48/50\n",
      "46720/47336 [============================>.] - ETA: 0s - loss: 0.5963 - acc: 0.7718Epoch 00047: val_loss improved from 0.62378 to 0.62263, saving model to best_model.h5\n",
      "47336/47336 [==============================] - 2s - loss: 0.5961 - acc: 0.7719 - val_loss: 0.6226 - val_acc: 0.7683\n",
      "Epoch 49/50\n",
      "46848/47336 [============================>.] - ETA: 0s - loss: 0.5949 - acc: 0.7720Epoch 00048: val_loss improved from 0.62263 to 0.62225, saving model to best_model.h5\n",
      "47336/47336 [==============================] - 2s - loss: 0.5949 - acc: 0.7719 - val_loss: 0.6222 - val_acc: 0.7691\n",
      "Epoch 50/50\n",
      "47232/47336 [============================>.] - ETA: 0s - loss: 0.5932 - acc: 0.7725Epoch 00049: val_loss improved from 0.62225 to 0.62081, saving model to best_model.h5\n",
      "47336/47336 [==============================] - 2s - loss: 0.5935 - acc: 0.7724 - val_loss: 0.6208 - val_acc: 0.7705\n"
     ]
    }
   ],
   "source": [
    "history = model.fit(X_train, Y_train, validation_data=(X_val, Y_val),\n",
    "                    epochs=50, batch_size=128, verbose=1,\n",
    "                    callbacks=[check_point, early_stopping])"
   ]
  },
  {
   "cell_type": "code",
   "execution_count": 52,
   "metadata": {
    "scrolled": true
   },
   "outputs": [
    {
     "name": "stdout",
     "output_type": "stream",
     "text": [
      "6144/6188 [============================>.] - ETA: 0s"
     ]
    },
    {
     "data": {
      "text/plain": [
       "[0.59830185571599948, 0.76971557853910799]"
      ]
     },
     "execution_count": 52,
     "metadata": {},
     "output_type": "execute_result"
    }
   ],
   "source": [
    "model.evaluate(X_test, Y_test)"
   ]
  },
  {
   "cell_type": "markdown",
   "metadata": {},
   "source": [
    "Plot the training history."
   ]
  },
  {
   "cell_type": "code",
   "execution_count": 57,
   "metadata": {},
   "outputs": [
    {
     "data": {
      "image/png": "[encoded data removed]",
      "text/plain": [
       "<matplotlib.figure.Figure at 0x7f3cb104b978>"
      ]
     },
     "metadata": {},
     "output_type": "display_data"
    },
    {
     "data": {
      "image/png": "[encoded data removed]",
      "text/plain": [
       "<matplotlib.figure.Figure at 0x7f3cb104b668>"
      ]
     },
     "metadata": {},
     "output_type": "display_data"
    }
   ],
   "source": [
    "plot_history(history)"
   ]
  }
 ],
 "metadata": {
  "kernelspec": {
   "display_name": "Python 3",
   "language": "python",
   "name": "python3"
  },
  "language_info": {
   "codemirror_mode": {
    "name": "ipython",
    "version": 3
   },
   "file_extension": ".py",
   "mimetype": "text/x-python",
   "name": "python",
   "nbconvert_exporter": "python",
   "pygments_lexer": "ipython3",
   "version": "3.6.2"
  }
 },
 "nbformat": 4,
 "nbformat_minor": 2
}
