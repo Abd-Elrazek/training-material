{
 "cells": [
  {
   "cell_type": "markdown",
   "metadata": {},
   "source": [
    "# Recognizing Flatlanders"
   ]
  },
  {
   "cell_type": "markdown",
   "metadata": {},
   "source": [
    "## Data preprocessing"
   ]
  },
  {
   "cell_type": "code",
   "execution_count": 7,
   "metadata": {},
   "outputs": [],
   "source": [
    "import h5py\n",
    "from keras import backend as K\n",
    "from keras.utils import np_utils\n",
    "from sklearn.model_selection import train_test_split\n",
    "import numpy as np"
   ]
  },
  {
   "cell_type": "markdown",
   "metadata": {},
   "source": [
    "Read the training and test data from the HDF5 files."
   ]
  },
  {
   "cell_type": "code",
   "execution_count": 18,
   "metadata": {},
   "outputs": [],
   "source": [
    "with h5py.File('train_data.h5', 'r') as h5_file:\n",
    "    x_train = np.array(h5_file['x_values'])\n",
    "    y_train = np.array(h5_file['y_values'])\n",
    "with h5py.File('test_data.h5', 'r') as h5_file:\n",
    "    x_test = np.array(h5_file['x_values'])\n",
    "    y_test = np.array(h5_file['y_values'])"
   ]
  },
  {
   "cell_type": "markdown",
   "metadata": {},
   "source": [
    "Determine whether the backend expects the channel to come first or last in the input shape."
   ]
  },
  {
   "cell_type": "code",
   "execution_count": 19,
   "metadata": {},
   "outputs": [],
   "source": [
    "img_channels, img_rows, img_cols = 1, x_train.shape[1], x_train.shape[2]\n",
    "\n",
    "if K.image_data_format() == 'channels_first':\n",
    "    shape_ord = (img_channels, img_rows, img_cols)\n",
    "else:  # channel_last\n",
    "    shape_ord = (img_rows, img_cols, img_channels)"
   ]
  },
  {
   "cell_type": "markdown",
   "metadata": {},
   "source": [
    "Reshape the data accordingly."
   ]
  },
  {
   "cell_type": "code",
   "execution_count": 20,
   "metadata": {},
   "outputs": [],
   "source": [
    "x_train = x_train.reshape((x_train.shape[0], ) + shape_ord)\n",
    "x_test = x_test.reshape((x_test.shape[0], ) + shape_ord)"
   ]
  },
  {
   "cell_type": "markdown",
   "metadata": {},
   "source": [
    "Convert the input data to single precision floating point, and scale between 0 and 1."
   ]
  },
  {
   "cell_type": "code",
   "execution_count": 21,
   "metadata": {},
   "outputs": [],
   "source": [
    "x_train = x_train.astype(np.float32)/255.0\n",
    "x_test = x_test.astype(np.float32)/255.0"
   ]
  },
  {
   "cell_type": "markdown",
   "metadata": {},
   "source": [
    "Verify input data format and shape."
   ]
  },
  {
   "cell_type": "code",
   "execution_count": 22,
   "metadata": {},
   "outputs": [
    {
     "name": "stdout",
     "output_type": "stream",
     "text": [
      "(60000, 100, 100, 1) float32 0.0 1.0\n",
      "(20000, 100, 100, 1) float32 0.0 1.0\n"
     ]
    }
   ],
   "source": [
    "print(x_train.shape, x_train.dtype, x_train.min(), x_train.max())\n",
    "print(x_test.shape, x_test.dtype, x_test.min(), x_test.max())"
   ]
  },
  {
   "cell_type": "markdown",
   "metadata": {},
   "source": [
    "Convert output to one-hot encoding."
   ]
  },
  {
   "cell_type": "code",
   "execution_count": 23,
   "metadata": {},
   "outputs": [],
   "source": [
    "y_train = np_utils.to_categorical(y_train)\n",
    "y_test = np_utils.to_categorical(y_test)"
   ]
  },
  {
   "cell_type": "markdown",
   "metadata": {},
   "source": [
    "Verify output data format and shape."
   ]
  },
  {
   "cell_type": "code",
   "execution_count": 24,
   "metadata": {},
   "outputs": [
    {
     "name": "stdout",
     "output_type": "stream",
     "text": [
      "(60000, 3) float32 0.0 1.0\n",
      "(20000, 3) float32 0.0 1.0\n"
     ]
    }
   ],
   "source": [
    "print(y_train.shape, y_train.dtype, y_train.min(), y_train.max())\n",
    "print(y_test.shape, y_test.dtype, y_test.min(), y_test.max())"
   ]
  },
  {
   "cell_type": "code",
   "execution_count": 25,
   "metadata": {
    "scrolled": true
   },
   "outputs": [],
   "source": [
    "x_train, x_val, y_train, y_val = train_test_split(x_train, y_train)"
   ]
  },
  {
   "cell_type": "code",
   "execution_count": 26,
   "metadata": {},
   "outputs": [
    {
     "name": "stdout",
     "output_type": "stream",
     "text": [
      "(45000, 100, 100, 1) float32 0.0 1.0\n",
      "(15000, 100, 100, 1) float32 0.0 1.0\n"
     ]
    }
   ],
   "source": [
    "print(x_train.shape, x_train.dtype, x_train.min(), x_train.max())\n",
    "print(x_val.shape, x_val.dtype, x_val.min(), x_val.max())"
   ]
  },
  {
   "cell_type": "code",
   "execution_count": 27,
   "metadata": {},
   "outputs": [
    {
     "name": "stdout",
     "output_type": "stream",
     "text": [
      "(45000, 3) float32 0.0 1.0\n",
      "(15000, 3) float32 0.0 1.0\n"
     ]
    }
   ],
   "source": [
    "print(y_train.shape, y_train.dtype, y_train.min(), y_train.max())\n",
    "print(y_val.shape, y_val.dtype, y_val.min(), y_val.max())"
   ]
  },
  {
   "cell_type": "markdown",
   "metadata": {},
   "source": [
    "## Model definition"
   ]
  },
  {
   "cell_type": "code",
   "execution_count": 28,
   "metadata": {},
   "outputs": [],
   "source": [
    "from keras.layers import Activation, Conv2D, Dense, Dropout, Flatten, LeakyReLU\n",
    "from keras.layers.pooling import MaxPool2D\n",
    "from keras.models import Sequential\n",
    "from keras.optimizers import SGD, Adam"
   ]
  },
  {
   "cell_type": "code",
   "execution_count": 29,
   "metadata": {},
   "outputs": [],
   "source": [
    "nr_filters = 32\n",
    "nr_classes = y_train.shape[-1]\n",
    "conv_x_size, conv_y_size = 5, 5\n",
    "model = Sequential()\n",
    "model.add(Conv2D(nr_filters, (conv_x_size, conv_y_size), strides=2,\n",
    "                 padding='valid', input_shape=shape_ord))\n",
    "model.add(LeakyReLU(0.1))\n",
    "model.add(Dropout(0.4))\n",
    "model.add(Conv2D(nr_filters*2, (conv_x_size, conv_y_size), strides=2,\n",
    "                 padding='valid'))\n",
    "model.add(LeakyReLU(0.1))\n",
    "model.add(Dropout(0.4))\n",
    "model.add(Conv2D(nr_filters*4, (conv_x_size, conv_y_size), strides=2,\n",
    "                 padding='valid'))\n",
    "model.add(LeakyReLU(0.1))\n",
    "model.add(Dropout(0.4))\n",
    "model.add(Flatten())\n",
    "model.add(Dense(nr_classes))\n",
    "model.add(Activation('softmax'))"
   ]
  },
  {
   "cell_type": "code",
   "execution_count": 30,
   "metadata": {},
   "outputs": [
    {
     "name": "stdout",
     "output_type": "stream",
     "text": [
      "_________________________________________________________________\n",
      "Layer (type)                 Output Shape              Param #   \n",
      "=================================================================\n",
      "conv2d_4 (Conv2D)            (None, 48, 48, 32)        832       \n",
      "_________________________________________________________________\n",
      "leaky_re_lu_4 (LeakyReLU)    (None, 48, 48, 32)        0         \n",
      "_________________________________________________________________\n",
      "dropout_4 (Dropout)          (None, 48, 48, 32)        0         \n",
      "_________________________________________________________________\n",
      "conv2d_5 (Conv2D)            (None, 22, 22, 64)        51264     \n",
      "_________________________________________________________________\n",
      "leaky_re_lu_5 (LeakyReLU)    (None, 22, 22, 64)        0         \n",
      "_________________________________________________________________\n",
      "dropout_5 (Dropout)          (None, 22, 22, 64)        0         \n",
      "_________________________________________________________________\n",
      "conv2d_6 (Conv2D)            (None, 9, 9, 128)         204928    \n",
      "_________________________________________________________________\n",
      "leaky_re_lu_6 (LeakyReLU)    (None, 9, 9, 128)         0         \n",
      "_________________________________________________________________\n",
      "dropout_6 (Dropout)          (None, 9, 9, 128)         0         \n",
      "_________________________________________________________________\n",
      "flatten_2 (Flatten)          (None, 10368)             0         \n",
      "_________________________________________________________________\n",
      "dense_2 (Dense)              (None, 3)                 31107     \n",
      "_________________________________________________________________\n",
      "activation_2 (Activation)    (None, 3)                 0         \n",
      "=================================================================\n",
      "Total params: 288,131\n",
      "Trainable params: 288,131\n",
      "Non-trainable params: 0\n",
      "_________________________________________________________________\n"
     ]
    }
   ],
   "source": [
    "model.summary()"
   ]
  },
  {
   "cell_type": "code",
   "execution_count": 31,
   "metadata": {},
   "outputs": [],
   "source": [
    "model.compile(loss='categorical_crossentropy', optimizer=SGD(),\n",
    "              metrics=['accuracy'])"
   ]
  },
  {
   "cell_type": "code",
   "execution_count": 32,
   "metadata": {},
   "outputs": [
    {
     "name": "stdout",
     "output_type": "stream",
     "text": [
      "Train on 45000 samples, validate on 15000 samples\n",
      "Epoch 1/20\n",
      "45000/45000 [==============================] - 10s 219us/step - loss: 0.9788 - acc: 0.4686 - val_loss: 0.9355 - val_acc: 0.5038\n",
      "Epoch 2/20\n",
      "45000/45000 [==============================] - 8s 172us/step - loss: 0.9351 - acc: 0.5060 - val_loss: 1.1716 - val_acc: 0.4183\n",
      "Epoch 3/20\n",
      "45000/45000 [==============================] - 8s 177us/step - loss: 0.9280 - acc: 0.5114 - val_loss: 0.9229 - val_acc: 0.5153\n",
      "Epoch 4/20\n",
      "45000/45000 [==============================] - 8s 179us/step - loss: 0.9220 - acc: 0.5160 - val_loss: 0.9267 - val_acc: 0.5119\n",
      "Epoch 5/20\n",
      "45000/45000 [==============================] - 8s 173us/step - loss: 0.9145 - acc: 0.5216 - val_loss: 0.9055 - val_acc: 0.5294\n",
      "Epoch 6/20\n",
      "45000/45000 [==============================] - 8s 174us/step - loss: 0.9046 - acc: 0.5317 - val_loss: 0.9041 - val_acc: 0.5403\n",
      "Epoch 7/20\n",
      "45000/45000 [==============================] - 8s 173us/step - loss: 0.8888 - acc: 0.5452 - val_loss: 0.8758 - val_acc: 0.5519\n",
      "Epoch 8/20\n",
      "45000/45000 [==============================] - 8s 173us/step - loss: 0.8657 - acc: 0.5663 - val_loss: 0.8295 - val_acc: 0.6003\n",
      "Epoch 9/20\n",
      "45000/45000 [==============================] - 8s 172us/step - loss: 0.8203 - acc: 0.6038 - val_loss: 0.7587 - val_acc: 0.6477\n",
      "Epoch 10/20\n",
      "45000/45000 [==============================] - 8s 173us/step - loss: 0.7171 - acc: 0.6749 - val_loss: 0.5255 - val_acc: 0.7920\n",
      "Epoch 11/20\n",
      "45000/45000 [==============================] - 8s 173us/step - loss: 0.5396 - acc: 0.7708 - val_loss: 0.3435 - val_acc: 0.8852\n",
      "Epoch 12/20\n",
      "45000/45000 [==============================] - 8s 173us/step - loss: 0.3525 - acc: 0.8591 - val_loss: 0.7427 - val_acc: 0.7088\n",
      "Epoch 13/20\n",
      "45000/45000 [==============================] - 8s 174us/step - loss: 0.2180 - acc: 0.9171 - val_loss: 0.2276 - val_acc: 0.9064\n",
      "Epoch 14/20\n",
      "45000/45000 [==============================] - 8s 174us/step - loss: 0.1588 - acc: 0.9440 - val_loss: 0.1151 - val_acc: 0.9565\n",
      "Epoch 15/20\n",
      "45000/45000 [==============================] - 8s 183us/step - loss: 0.1111 - acc: 0.9608 - val_loss: 0.0244 - val_acc: 0.9957\n",
      "Epoch 16/20\n",
      "45000/45000 [==============================] - 8s 173us/step - loss: 0.0910 - acc: 0.9679 - val_loss: 0.0282 - val_acc: 0.9881\n",
      "Epoch 17/20\n",
      "45000/45000 [==============================] - 8s 174us/step - loss: 0.0725 - acc: 0.9745 - val_loss: 0.0471 - val_acc: 0.9805\n",
      "Epoch 18/20\n",
      "45000/45000 [==============================] - 8s 174us/step - loss: 0.0585 - acc: 0.9796 - val_loss: 0.0289 - val_acc: 0.9859\n",
      "Epoch 19/20\n",
      "45000/45000 [==============================] - 8s 182us/step - loss: 0.0545 - acc: 0.9816 - val_loss: 0.0177 - val_acc: 0.9929\n",
      "Epoch 20/20\n",
      "45000/45000 [==============================] - 8s 182us/step - loss: 0.0473 - acc: 0.9831 - val_loss: 0.0061 - val_acc: 0.9989\n"
     ]
    }
   ],
   "source": [
    "history = model.fit(x_train, y_train, epochs=20, batch_size=64,\n",
    "                    validation_data=(x_val, y_val))"
   ]
  },
  {
   "cell_type": "code",
   "execution_count": 33,
   "metadata": {},
   "outputs": [
    {
     "name": "stdout",
     "output_type": "stream",
     "text": [
      "20000/20000 [==============================] - 1s 74us/step\n"
     ]
    },
    {
     "data": {
      "text/plain": [
       "[0.006571922181593254, 0.99905]"
      ]
     },
     "execution_count": 33,
     "metadata": {},
     "output_type": "execute_result"
    }
   ],
   "source": [
    "model.evaluate(x_test, y_test)"
   ]
  }
 ],
 "metadata": {
  "kernelspec": {
   "display_name": "Python 3",
   "language": "python",
   "name": "python3"
  },
  "language_info": {
   "codemirror_mode": {
    "name": "ipython",
    "version": 3
   },
   "file_extension": ".py",
   "mimetype": "text/x-python",
   "name": "python",
   "nbconvert_exporter": "python",
   "pygments_lexer": "ipython3",
   "version": "3.6.6"
  }
 },
 "nbformat": 4,
 "nbformat_minor": 2
}
